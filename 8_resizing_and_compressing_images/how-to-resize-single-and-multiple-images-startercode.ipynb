{
 "cells": [
  {
   "cell_type": "markdown",
   "metadata": {},
   "source": [
    "# 8. How To Easily Re-size Images In Python"
   ]
  },
  {
   "cell_type": "markdown",
   "metadata": {},
   "source": [
    "------------------------------------------------"
   ]
  },
  {
   "cell_type": "markdown",
   "metadata": {},
   "source": [
    "## Learning Outcomes\n",
    "\n",
    "- To learn how to resize a single image.\n",
    "- To learn how to resize multiple images within the current working directory."
   ]
  },
  {
   "cell_type": "markdown",
   "metadata": {},
   "source": [
    "------------------------------------------------------"
   ]
  },
  {
   "cell_type": "code",
   "execution_count": 2,
   "metadata": {},
   "outputs": [],
   "source": [
    "from PIL import Image\n",
    "import PIL\n",
    "import os\n",
    "import glob"
   ]
  },
  {
   "cell_type": "markdown",
   "metadata": {},
   "source": [
    "------------------------------------------------------------------------------------"
   ]
  },
  {
   "cell_type": "markdown",
   "metadata": {},
   "source": [
    "## How To Resize A Single Image"
   ]
  },
  {
   "cell_type": "markdown",
   "metadata": {},
   "source": [
    "As well as compressing an image, we can also re-size the image to be either:\n",
    "    \n",
    "- A specific base width.\n",
    "- A specific base height."
   ]
  },
  {
   "cell_type": "code",
   "execution_count": 3,
   "metadata": {},
   "outputs": [],
   "source": []
  },
  {
   "cell_type": "code",
   "execution_count": null,
   "metadata": {},
   "outputs": [],
   "source": []
  },
  {
   "cell_type": "markdown",
   "metadata": {},
   "source": [
    "![resizing an image using the Pillow Library](https://sempioneer.com/wp-content/uploads/2020/06/resized_compressed_image.jpg)"
   ]
  },
  {
   "cell_type": "markdown",
   "metadata": {},
   "source": [
    "----------------------------------------------------------------------------------------"
   ]
  },
  {
   "cell_type": "markdown",
   "metadata": {},
   "source": [
    "![resizing image with python](https://sempioneer.com/wp-content/uploads/2020/06/resizing-images.png)"
   ]
  },
  {
   "cell_type": "markdown",
   "metadata": {},
   "source": [
    "------------------------------------------------------------------------"
   ]
  },
  {
   "cell_type": "markdown",
   "metadata": {},
   "source": [
    "Now let's understand the code above line by line:\n",
    "\n",
    "1. We set a base width which we would like the image to be.\n",
    "2. Then we open the image with Image.open('image_name.jpg')\n",
    "3. We calculate the aspect ratio for width by doing: base_width / the images existing width.\n",
    "4. This provides us with a ratio number that we can times by the height to get the correct height for producing our base_width.\n",
    "5. Then we resize the image based on the two values (base_width and hsize).\n",
    "6. The image is then saved with image.save('image_name.jpg')."
   ]
  },
  {
   "cell_type": "markdown",
   "metadata": {},
   "source": [
    "------------------------------------------------------------------------------------------------"
   ]
  },
  {
   "cell_type": "markdown",
   "metadata": {},
   "source": [
    "We can also do the exact opposite and get a specified height with the following code:\n",
    "\n",
    "~~~\n",
    "\n",
    "base_height = 360\n",
    "image = Image.open(‘fullsized_image.jpg')\n",
    "hpercent = (base_height / float(image.size[1]))\n",
    "wsize = int((float(image.size[0]) * float(hpercent)))\n",
    "image = image.resize((wsize, base_height), PIL.Image.ANTIALIAS)\n",
    "image.save(‘resized_image.jpg')\n",
    "\n",
    "~~~"
   ]
  },
  {
   "cell_type": "markdown",
   "metadata": {},
   "source": [
    "---------------------------------------------------------------------------------------------------"
   ]
  },
  {
   "cell_type": "markdown",
   "metadata": {},
   "source": [
    "## How To Create A Thumbnail Whilst Preserving The Aspect Ratio"
   ]
  },
  {
   "cell_type": "markdown",
   "metadata": {},
   "source": [
    "It is also possible for us to create a thumbnail image of an image using:\n",
    "    \n",
    "~~~\n",
    "\n",
    "img.thumbnail(size, resample=3, reducing_gap=2.0)\n",
    "\n",
    "Make this image into a thumbnail.  This method modifies the\n",
    "image to contain a thumbnail version of itself, no larger than\n",
    "the given size.  This method calculates an appropriate thumbnail\n",
    "size to preserve the aspect of the image\n",
    "\n",
    "~~~"
   ]
  },
  {
   "cell_type": "code",
   "execution_count": 5,
   "metadata": {},
   "outputs": [],
   "source": []
  },
  {
   "cell_type": "code",
   "execution_count": null,
   "metadata": {},
   "outputs": [],
   "source": []
  },
  {
   "cell_type": "markdown",
   "metadata": {},
   "source": [
    "--------------------------------------------------------------------"
   ]
  },
  {
   "cell_type": "markdown",
   "metadata": {},
   "source": [
    "## How To Resize Multiple Images In The Current Working Directory"
   ]
  },
  {
   "cell_type": "code",
   "execution_count": null,
   "metadata": {},
   "outputs": [],
   "source": []
  },
  {
   "cell_type": "markdown",
   "metadata": {},
   "source": [
    "Firstly we list all of the files and folders inside of the current working directory. Then we find any .jpg and .png files that have the word example in their name."
   ]
  },
  {
   "cell_type": "code",
   "execution_count": null,
   "metadata": {},
   "outputs": [],
   "source": []
  },
  {
   "cell_type": "markdown",
   "metadata": {},
   "source": [
    "---------------------------------------------------------------"
   ]
  },
  {
   "cell_type": "code",
   "execution_count": null,
   "metadata": {},
   "outputs": [],
   "source": []
  },
  {
   "cell_type": "code",
   "execution_count": null,
   "metadata": {},
   "outputs": [],
   "source": []
  },
  {
   "cell_type": "markdown",
   "metadata": {},
   "source": [
    "Then we loop over every image, open it and then resize the image."
   ]
  },
  {
   "cell_type": "markdown",
   "metadata": {},
   "source": [
    "--------------------------------------------------------------------------------"
   ]
  },
  {
   "cell_type": "markdown",
   "metadata": {},
   "source": [
    "## How To Resize & Compress Multiple Images In The Current Workng Directory"
   ]
  },
  {
   "cell_type": "markdown",
   "metadata": {},
   "source": [
    "However in our scenario, we would like not only to reduce the size of the images but also to compress them, therefore we will add on the following paramter to this line:\n",
    "\n",
    "~~~\n",
    "\n",
    "img.save('resized-image_'+image, optimize=True, quality=30)\n",
    "\n",
    "    \n",
    "~~~"
   ]
  },
  {
   "cell_type": "code",
   "execution_count": null,
   "metadata": {},
   "outputs": [],
   "source": []
  },
  {
   "cell_type": "markdown",
   "metadata": {},
   "source": [
    "------------------------------------------------------------------------------------------------"
   ]
  },
  {
   "cell_type": "markdown",
   "metadata": {},
   "source": [
    "![resizing and compressing images with python](https://sempioneer.com/wp-content/uploads/2020/06/resizing-and-compressing-images-in-python.png)"
   ]
  },
  {
   "cell_type": "markdown",
   "metadata": {},
   "source": [
    "------------------------------------------------------------------------------------------------"
   ]
  },
  {
   "cell_type": "markdown",
   "metadata": {},
   "source": [
    "Now you can easily both resize and compress your images using Python 🥰! \n",
    "\n",
    "In the next tutorial you'll learn how to convert jpg and png images to next generation image formats such as .webp 🔥 "
   ]
  },
  {
   "cell_type": "code",
   "execution_count": null,
   "metadata": {},
   "outputs": [],
   "source": []
  }
 ],
 "metadata": {
  "kernelspec": {
   "display_name": "Python 3",
   "language": "python",
   "name": "python3"
  },
  "language_info": {
   "codemirror_mode": {
    "name": "ipython",
    "version": 3
   },
   "file_extension": ".py",
   "mimetype": "text/x-python",
   "name": "python",
   "nbconvert_exporter": "python",
   "pygments_lexer": "ipython3",
   "version": "3.7.6"
  }
 },
 "nbformat": 4,
 "nbformat_minor": 4
}
