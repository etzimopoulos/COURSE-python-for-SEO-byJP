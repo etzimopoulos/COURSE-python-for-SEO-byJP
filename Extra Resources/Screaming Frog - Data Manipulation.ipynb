{
 "cells": [
  {
   "cell_type": "code",
   "execution_count": 78,
   "metadata": {},
   "outputs": [],
   "source": [
    "import pandas as pd\n",
    "import numpy as np"
   ]
  },
  {
   "cell_type": "code",
   "execution_count": 79,
   "metadata": {},
   "outputs": [],
   "source": [
    "raw_internal_df = pd.read_csv('internal_all.csv')\n",
    "raw_structured_df = pd.read_csv('structured_data_all.csv')\n",
    "custom_extraction_raw = pd.read_csv('custom_extraction_all.csv')"
   ]
  },
  {
   "cell_type": "code",
   "execution_count": 80,
   "metadata": {},
   "outputs": [],
   "source": [
    "# Remove Addresses That Contain A Hashtag (#)\n",
    "internal_df = raw_df[raw_internal_df['Address'].apply(lambda x: False if \"#\" in x else True)]\n",
    "structured_df = raw_structured_df[raw_structured_df['Address'].apply(lambda x: False if \"#\" in x else True)]\n",
    "custom_extraction_df = custom_extraction_raw[custom_extraction_raw['Address'].apply(lambda x: False if \"#\" in x else True)]"
   ]
  },
  {
   "cell_type": "markdown",
   "metadata": {},
   "source": [
    "------------------------------------------------------"
   ]
  },
  {
   "cell_type": "code",
   "execution_count": 81,
   "metadata": {},
   "outputs": [],
   "source": [
    "errors_404 = internal_df[(internal_df['Content'] == 'text/html; charset=UTF-8') & (internal_df['Status Code'] == 404)] \\\n",
    "['Address'].tolist()"
   ]
  },
  {
   "cell_type": "code",
   "execution_count": 82,
   "metadata": {},
   "outputs": [],
   "source": [
    "image_404_errors=[error for error in errors_404 if error.endswith(('jpg', 'png'))]\n",
    "page_404_errors=[error for error in errors_404 if not error.endswith(('jpg', 'png'))]"
   ]
  },
  {
   "cell_type": "markdown",
   "metadata": {},
   "source": [
    "-----------------------------------------------------------------------------------------------"
   ]
  },
  {
   "cell_type": "code",
   "execution_count": 83,
   "metadata": {},
   "outputs": [],
   "source": [
    "## Combine Type-1 to Type-10 \n",
    "type_cols = [col for col in raw_structured_df.columns if \"Type-\" in col]"
   ]
  },
  {
   "cell_type": "code",
   "execution_count": 84,
   "metadata": {},
   "outputs": [],
   "source": [
    "test = structured_df.loc[:,type_cols]"
   ]
  },
  {
   "cell_type": "code",
   "execution_count": 87,
   "metadata": {},
   "outputs": [
    {
     "name": "stderr",
     "output_type": "stream",
     "text": [
      "/opt/anaconda3/lib/python3.7/site-packages/ipykernel_launcher.py:2: SettingWithCopyWarning: \n",
      "A value is trying to be set on a copy of a slice from a DataFrame.\n",
      "Try using .loc[row_indexer,col_indexer] = value instead\n",
      "\n",
      "See the caveats in the documentation: https://pandas.pydata.org/pandas-docs/stable/user_guide/indexing.html#returning-a-view-versus-a-copy\n",
      "  \n"
     ]
    }
   ],
   "source": [
    "structured_df['Structured_Data'] = structured_df.loc[:,type_cols].apply(\n",
    "lambda x: ','.join(x.dropna().astype(str)), axis=1)"
   ]
  },
  {
   "cell_type": "code",
   "execution_count": 90,
   "metadata": {},
   "outputs": [],
   "source": [
    "## Pages To Keep Local Business Schema Mark-Up:\n",
    "local_business_schema_urls = ['https://www.feedbacksports.com/', 'https://www.feedbacksports.com/contact/', 'https://www.feedbacksports.com/why-us/',\n",
    "'https://www.feedbacksports.com/careers/', 'https://www.feedbacksports.com/our-story/']\n",
    "structured_df_urls_to_check =  structured_df[~structured_df['Address'].isin(local_business_schema_urls)]"
   ]
  },
  {
   "cell_type": "markdown",
   "metadata": {},
   "source": [
    "---------------------------------------------------------------------------------"
   ]
  },
  {
   "cell_type": "code",
   "execution_count": 111,
   "metadata": {},
   "outputs": [],
   "source": [
    "# Remove Local Business Schema From These Pages;\n",
    "structured_df_urls_to_check[structured_df_urls_to_check  \\\n",
    "[['Address', 'Structured_Data']].apply(lambda x: \\\n",
    "True if \"LocalBusiness\" in x[1] else False, axis=1)] \\\n",
    ".to_csv('remove_local_business_schema.csv')"
   ]
  },
  {
   "cell_type": "code",
   "execution_count": 112,
   "metadata": {},
   "outputs": [],
   "source": [
    "# Remove Postal Address Schema From These Pages;\n",
    "structured_df_urls_to_check[structured_df_urls_to_check  \\\n",
    "[['Address', 'Structured_Data']].apply(lambda x: \\\n",
    "True if \"PostalAddress\" in x[1] else False, axis=1)] \\\n",
    ".to_csv('remove_postaladdress_schema.csv')"
   ]
  },
  {
   "cell_type": "markdown",
   "metadata": {},
   "source": [
    "------------------------------------------------------------------------------------------------------------"
   ]
  },
  {
   "cell_type": "code",
   "execution_count": 117,
   "metadata": {},
   "outputs": [],
   "source": [
    "article_urls = ['https://www.feedbacksports.com/cx-fever-1-gluing-tubulars/',\n",
    "'https://www.feedbacksports.com/trainer-vs-rollers-how-to-decide-maghalie-rochette/',\n",
    "'https://www.feedbacksports.com/mechanics-corner-summer-maintenance-essentials-with-mike-gavagan/',\n",
    "'https://www.feedbacksports.com/feedback-sports-goes-world-cup/',\n",
    "'https://www.feedbacksports.com/mechanics-corner-qa-with-eric-fostvedt-of-specialized-racing/',\n",
    "'https://www.feedbacksports.com/mechanics-corner-q-a-with-david-gagnon-of-specialized-feedback-sports-cyclocross-team/',\n",
    "'https://www.feedbacksports.com/mechanics-corner-disc-brake-rotor-wear/',\n",
    "'https://www.feedbacksports.com/committed-to-racing/',\n",
    "'https://www.feedbacksports.com/balance/',\n",
    "'https://www.feedbacksports.com/the-warm-up-a-critical-start-with-maghalie-rochette/',\n",
    "'https://www.feedbacksports.com/mechanics-corner-q-a-with-mark-legg-compton/',\n",
    "'https://www.feedbacksports.com/success-in-cyclocross-depends-on-adaptability-maghalie-rochette/',\n",
    "'https://www.feedbacksports.com/breaking-away-from-the-status-quo/',\n",
    "'https://www.feedbacksports.com/indoor-bike-trainer-workout-1-4-from-specialized-feedback-sports-cx-team/',\n",
    "'https://www.feedbacksports.com/indoor-bike-trainer-workout-2-4-from-specialized-feedback-sports-cx-team/',\n",
    "'https://www.feedbacksports.com/indoor-bike-trainer-workout-3-4-from-specialized-feedback-sports-cx-team/',\n",
    "'https://www.feedbacksports.com/indoor-bike-trainer-workout-4-4-from-specialized-feedback-sports-cx-team/',\n",
    "'https://www.feedbacksports.com/mechanics-corner-how-to-wash-and-clean-love-your-bike/',\n",
    "'https://www.feedbacksports.com/the-benefits-of-low-inertia-bike-trainers/',\n",
    "'https://www.feedbacksports.com/ready-to-ride-first-a-bicycle-safety-check/']"
   ]
  },
  {
   "cell_type": "markdown",
   "metadata": {},
   "source": [
    "------------------------------------------------------------------------------------------"
   ]
  },
  {
   "cell_type": "markdown",
   "metadata": {},
   "source": [
    "## Checking The Collection Pages + Product Schema"
   ]
  },
  {
   "cell_type": "code",
   "execution_count": 121,
   "metadata": {},
   "outputs": [
    {
     "data": {
      "text/html": [
       "<div>\n",
       "<style scoped>\n",
       "    .dataframe tbody tr th:only-of-type {\n",
       "        vertical-align: middle;\n",
       "    }\n",
       "\n",
       "    .dataframe tbody tr th {\n",
       "        vertical-align: top;\n",
       "    }\n",
       "\n",
       "    .dataframe thead th {\n",
       "        text-align: right;\n",
       "    }\n",
       "</style>\n",
       "<table border=\"1\" class=\"dataframe\">\n",
       "  <thead>\n",
       "    <tr style=\"text-align: right;\">\n",
       "      <th></th>\n",
       "      <th>Address</th>\n",
       "      <th>Errors</th>\n",
       "      <th>Warnings</th>\n",
       "      <th>Total Types</th>\n",
       "      <th>Unique Types</th>\n",
       "      <th>Type-1</th>\n",
       "      <th>Type-2</th>\n",
       "      <th>Type-3</th>\n",
       "      <th>Type-4</th>\n",
       "      <th>Type-5</th>\n",
       "      <th>Type-6</th>\n",
       "      <th>Type-7</th>\n",
       "      <th>Type-8</th>\n",
       "      <th>Type-9</th>\n",
       "      <th>Type-10</th>\n",
       "      <th>Indexability</th>\n",
       "      <th>Indexability Status</th>\n",
       "      <th>Structured_Data</th>\n",
       "    </tr>\n",
       "  </thead>\n",
       "  <tbody>\n",
       "    <tr>\n",
       "      <th>41</th>\n",
       "      <td>https://www.feedbacksports.com/shop/bike-maint...</td>\n",
       "      <td>0</td>\n",
       "      <td>0</td>\n",
       "      <td>15</td>\n",
       "      <td>9</td>\n",
       "      <td>article</td>\n",
       "      <td>BreadcrumbList</td>\n",
       "      <td>CollectionPage</td>\n",
       "      <td>ListItem</td>\n",
       "      <td>LocalBusiness</td>\n",
       "      <td>PostalAddress</td>\n",
       "      <td>SearchAction</td>\n",
       "      <td>WebPage</td>\n",
       "      <td>WebSite</td>\n",
       "      <td>NaN</td>\n",
       "      <td>Indexable</td>\n",
       "      <td>NaN</td>\n",
       "      <td>article,BreadcrumbList,CollectionPage,ListItem...</td>\n",
       "    </tr>\n",
       "  </tbody>\n",
       "</table>\n",
       "</div>"
      ],
      "text/plain": [
       "                                              Address  Errors  Warnings  \\\n",
       "41  https://www.feedbacksports.com/shop/bike-maint...       0         0   \n",
       "\n",
       "    Total Types  Unique Types   Type-1          Type-2          Type-3  \\\n",
       "41           15             9  article  BreadcrumbList  CollectionPage   \n",
       "\n",
       "      Type-4         Type-5         Type-6        Type-7   Type-8   Type-9  \\\n",
       "41  ListItem  LocalBusiness  PostalAddress  SearchAction  WebPage  WebSite   \n",
       "\n",
       "   Type-10 Indexability Indexability Status  \\\n",
       "41     NaN    Indexable                 NaN   \n",
       "\n",
       "                                      Structured_Data  \n",
       "41  article,BreadcrumbList,CollectionPage,ListItem...  "
      ]
     },
     "execution_count": 121,
     "metadata": {},
     "output_type": "execute_result"
    }
   ],
   "source": [
    "structured_df[structured_df['Address'] == 'https://www.feedbacksports.com/shop/bike-maintenance/tool-kits/']"
   ]
  },
  {
   "cell_type": "code",
   "execution_count": 122,
   "metadata": {},
   "outputs": [
    {
     "data": {
      "text/html": [
       "<div>\n",
       "<style scoped>\n",
       "    .dataframe tbody tr th:only-of-type {\n",
       "        vertical-align: middle;\n",
       "    }\n",
       "\n",
       "    .dataframe tbody tr th {\n",
       "        vertical-align: top;\n",
       "    }\n",
       "\n",
       "    .dataframe thead th {\n",
       "        text-align: right;\n",
       "    }\n",
       "</style>\n",
       "<table border=\"1\" class=\"dataframe\">\n",
       "  <thead>\n",
       "    <tr style=\"text-align: right;\">\n",
       "      <th></th>\n",
       "      <th>Address</th>\n",
       "      <th>Errors</th>\n",
       "      <th>Warnings</th>\n",
       "      <th>Total Types</th>\n",
       "      <th>Unique Types</th>\n",
       "      <th>Type-1</th>\n",
       "      <th>Type-2</th>\n",
       "      <th>Type-3</th>\n",
       "      <th>Type-4</th>\n",
       "      <th>Type-5</th>\n",
       "      <th>Type-6</th>\n",
       "      <th>Type-7</th>\n",
       "      <th>Type-8</th>\n",
       "      <th>Type-9</th>\n",
       "      <th>Type-10</th>\n",
       "      <th>Indexability</th>\n",
       "      <th>Indexability Status</th>\n",
       "      <th>Structured_Data</th>\n",
       "    </tr>\n",
       "  </thead>\n",
       "  <tbody>\n",
       "    <tr>\n",
       "      <th>254</th>\n",
       "      <td>https://www.feedbacksports.com/product/sprint-...</td>\n",
       "      <td>0</td>\n",
       "      <td>0</td>\n",
       "      <td>38</td>\n",
       "      <td>17</td>\n",
       "      <td>AggregateRating</td>\n",
       "      <td>article</td>\n",
       "      <td>BreadcrumbList</td>\n",
       "      <td>ImageObject</td>\n",
       "      <td>ListItem</td>\n",
       "      <td>LocalBusiness</td>\n",
       "      <td>Offer</td>\n",
       "      <td>Organization</td>\n",
       "      <td>Person</td>\n",
       "      <td>PostalAddress</td>\n",
       "      <td>Indexable</td>\n",
       "      <td>NaN</td>\n",
       "      <td>AggregateRating,article,BreadcrumbList,ImageOb...</td>\n",
       "    </tr>\n",
       "  </tbody>\n",
       "</table>\n",
       "</div>"
      ],
      "text/plain": [
       "                                               Address  Errors  Warnings  \\\n",
       "254  https://www.feedbacksports.com/product/sprint-...       0         0   \n",
       "\n",
       "     Total Types  Unique Types           Type-1   Type-2          Type-3  \\\n",
       "254           38            17  AggregateRating  article  BreadcrumbList   \n",
       "\n",
       "          Type-4    Type-5         Type-6 Type-7        Type-8  Type-9  \\\n",
       "254  ImageObject  ListItem  LocalBusiness  Offer  Organization  Person   \n",
       "\n",
       "           Type-10 Indexability Indexability Status  \\\n",
       "254  PostalAddress    Indexable                 NaN   \n",
       "\n",
       "                                       Structured_Data  \n",
       "254  AggregateRating,article,BreadcrumbList,ImageOb...  "
      ]
     },
     "execution_count": 122,
     "metadata": {},
     "output_type": "execute_result"
    }
   ],
   "source": [
    "structured_df[structured_df['Address'] == 'https://www.feedbacksports.com/product/sprint-bike-repair-stand/']"
   ]
  },
  {
   "cell_type": "markdown",
   "metadata": {},
   "source": [
    "-----------------------------------------------------------------"
   ]
  },
  {
   "cell_type": "code",
   "execution_count": 134,
   "metadata": {},
   "outputs": [
    {
     "data": {
      "text/plain": [
       "['https://www.feedbacksports.com/product/pro-truing-stand-2-0/',\n",
       " 'https://www.feedbacksports.com/product/ultralight-repair-stand/',\n",
       " 'https://www.feedbacksports.com/product/omnium-portable-trainer/',\n",
       " 'https://www.feedbacksports.com/product/ride-prep-tool-kit/',\n",
       " 'https://www.feedbacksports.com/product/omnium-zero-drive/',\n",
       " 'https://www.feedbacksports.com/product/sport-mechanic-repair-stand/',\n",
       " 'https://www.feedbacksports.com/product/sprint-bike-repair-stand/',\n",
       " 'https://www.feedbacksports.com/product/pro-elite-repair-stand/',\n",
       " 'https://www.feedbacksports.com/product/pro-elite-work-stand-w-tote-bag/',\n",
       " 'https://www.feedbacksports.com/product/team-edition-tool-kit/',\n",
       " 'https://www.feedbacksports.com/product/t-handle-tool-kit/',\n",
       " 'https://www.feedbacksports.com/product/a-frame-portable-event-storage-stand/',\n",
       " 'https://www.feedbacksports.com/product/velo-hinge/',\n",
       " 'https://www.feedbacksports.com/product/a-frame-center-post/',\n",
       " 'https://www.feedbacksports.com/product/range-torque-wrench-ratchet-wrench-combo/']"
      ]
     },
     "execution_count": 134,
     "metadata": {},
     "output_type": "execute_result"
    }
   ],
   "source": [
    "custom_extraction_df[custom_extraction_df['Videos 1'].notna()]['Address'].tolist()"
   ]
  }
 ],
 "metadata": {
  "kernelspec": {
   "display_name": "Python 3",
   "language": "python",
   "name": "python3"
  },
  "language_info": {
   "codemirror_mode": {
    "name": "ipython",
    "version": 3
   },
   "file_extension": ".py",
   "mimetype": "text/x-python",
   "name": "python",
   "nbconvert_exporter": "python",
   "pygments_lexer": "ipython3",
   "version": "3.7.6"
  }
 },
 "nbformat": 4,
 "nbformat_minor": 4
}
