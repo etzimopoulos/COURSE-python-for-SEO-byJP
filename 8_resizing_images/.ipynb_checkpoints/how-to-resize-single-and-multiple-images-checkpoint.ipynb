{
 "cells": [
  {
   "cell_type": "markdown",
   "metadata": {},
   "source": [
    "# 8. How To Easily Re-size Images In Python"
   ]
  },
  {
   "cell_type": "markdown",
   "metadata": {},
   "source": [
    "------------------------------------------------"
   ]
  },
  {
   "cell_type": "markdown",
   "metadata": {},
   "source": [
    "## Learning Outcomes\n",
    "\n",
    "- To learn how to resize a single image.\n",
    "- To learn how to resize multiple images within the current working directory."
   ]
  },
  {
   "cell_type": "markdown",
   "metadata": {},
   "source": [
    "------------------------------------------------------"
   ]
  },
  {
   "cell_type": "code",
   "execution_count": 37,
   "metadata": {},
   "outputs": [],
   "source": [
    "from PIL import Image\n",
    "import PIL\n",
    "import os\n",
    "import glob"
   ]
  },
  {
   "cell_type": "markdown",
   "metadata": {},
   "source": [
    "------------------------------------------------------------------------------------"
   ]
  },
  {
   "cell_type": "markdown",
   "metadata": {},
   "source": [
    "## How To Resize A Single Image"
   ]
  },
  {
   "cell_type": "markdown",
   "metadata": {},
   "source": [
    "As well as compressing an image, we can also re-size the image to be either:\n",
    "    \n",
    "- A specific base width.\n",
    "- A specific base height."
   ]
  },
  {
   "cell_type": "code",
   "execution_count": 33,
   "metadata": {},
   "outputs": [],
   "source": [
    "base_width = 360\n",
    "image = Image.open('Compressed_image-1-compressed.jpg')\n",
    "width_percent = (base_width / float(image.size[0]))\n",
    "hsize = int((float(image.size[1]) * float(width_percent)))\n",
    "image = image.resize((base_width, hsize), PIL.Image.ANTIALIAS)\n",
    "image.save('resized_compressed_image.jpg')"
   ]
  },
  {
   "cell_type": "markdown",
   "metadata": {},
   "source": [
    "![resizing an image using the Pillow Library](https://sempioneer.com/wp-content/uploads/2020/06/resized_compressed_image.jpg)"
   ]
  },
  {
   "cell_type": "markdown",
   "metadata": {},
   "source": [
    "----------------------------------------------------------------------------------------"
   ]
  },
  {
   "cell_type": "markdown",
   "metadata": {},
   "source": [
    "![compressed image using PIL and python](https://sempioneer.com/wp-content/uploads/2020/06/compressed-image-with-python.png)"
   ]
  },
  {
   "cell_type": "markdown",
   "metadata": {},
   "source": [
    "Now let's understand the code above line by line:\n",
    "\n",
    "1. We set a base width which we would like the image to be.\n",
    "2. Then we open the image with Image.open('image_name.jpg')\n",
    "3. We calculate the aspect ratio for width by doing: base_width / the images existing width.\n",
    "4. This provides us with a ratio number that we can times the height by to get the correct height that will produce our base_width.\n",
    "5. Then we resize the image based on the two values (base_width and hsize).\n",
    "6. The image is then saved with image.save('image_name.jpg')"
   ]
  },
  {
   "cell_type": "markdown",
   "metadata": {},
   "source": [
    "------------------------------------------------------------------------------------------------"
   ]
  },
  {
   "cell_type": "markdown",
   "metadata": {},
   "source": [
    "We can also do the exact opposite and get a specified height with the following code:\n",
    "\n",
    "~~~\n",
    "\n",
    "base_height = 360\n",
    "image = Image.open(‘fullsized_image.jpg')\n",
    "hpercent = (base_height / float(image.size[1]))\n",
    "wsize = int((float(image.size[0]) * float(hpercent)))\n",
    "image = image.resize((wsize, base_height), PIL.Image.ANTIALIAS)\n",
    "image.save(‘resized_image.jpg')\n",
    "\n",
    "~~~"
   ]
  },
  {
   "cell_type": "markdown",
   "metadata": {},
   "source": [
    "---------------------------------------------------------------------------------------------------"
   ]
  },
  {
   "cell_type": "markdown",
   "metadata": {},
   "source": [
    "## How To Create A Thumbnail Whilst Preserving The Aspect Ratio"
   ]
  },
  {
   "cell_type": "markdown",
   "metadata": {},
   "source": [
    "It is also possible for us to create a thumbnail image of an image using:\n",
    "    \n",
    "~~~\n",
    "\n",
    "img.thumbnail(size, resample=3, reducing_gap=2.0)\n",
    "\n",
    "Make this image into a thumbnail.  This method modifies the\n",
    "image to contain a thumbnail version of itself, no larger than\n",
    "the given size.  This method calculates an appropriate thumbnail\n",
    "size to preserve the aspect of the image\n",
    "\n",
    "~~~"
   ]
  },
  {
   "cell_type": "code",
   "execution_count": 74,
   "metadata": {},
   "outputs": [
    {
     "name": "stdout",
     "output_type": "stream",
     "text": [
      "(200, 133)\n"
     ]
    }
   ],
   "source": [
    "picture.thumbnail(size=(200,200))\n",
    "print(picture.size)"
   ]
  },
  {
   "cell_type": "markdown",
   "metadata": {},
   "source": [
    "--------------------------------------------------------------------"
   ]
  },
  {
   "cell_type": "markdown",
   "metadata": {},
   "source": [
    "## How To Resize Multiple Images In The Current Working Directory"
   ]
  },
  {
   "cell_type": "code",
   "execution_count": null,
   "metadata": {},
   "outputs": [],
   "source": []
  },
  {
   "cell_type": "code",
   "execution_count": null,
   "metadata": {},
   "outputs": [],
   "source": []
  },
  {
   "cell_type": "markdown",
   "metadata": {},
   "source": [
    "--------------------------------------------------------------------------------"
   ]
  }
 ],
 "metadata": {
  "kernelspec": {
   "display_name": "Python 3",
   "language": "python",
   "name": "python3"
  },
  "language_info": {
   "codemirror_mode": {
    "name": "ipython",
    "version": 3
   },
   "file_extension": ".py",
   "mimetype": "text/x-python",
   "name": "python",
   "nbconvert_exporter": "python",
   "pygments_lexer": "ipython3",
   "version": "3.7.6"
  }
 },
 "nbformat": 4,
 "nbformat_minor": 4
}
