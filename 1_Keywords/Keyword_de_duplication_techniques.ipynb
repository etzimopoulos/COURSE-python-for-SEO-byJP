{
 "cells": [
  {
   "cell_type": "markdown",
   "metadata": {},
   "source": [
    "# 1. Keyword De-duplication + 2. Comparing Keyword Lists"
   ]
  },
  {
   "cell_type": "code",
   "execution_count": 201,
   "metadata": {},
   "outputs": [],
   "source": [
    "import pandas as pd"
   ]
  },
  {
   "cell_type": "markdown",
   "metadata": {},
   "source": [
    "## Learning Outcomes"
   ]
  },
  {
   "cell_type": "markdown",
   "metadata": {},
   "source": [
    "- Learn how to de-duplicate keyword lists using set operations\n",
    "- Learn how to compare two lists of keywords to using set operations\n",
    "- Learn how to de-duplicate keyword lists using FuzzyWuzzy\n",
    "- Learn how to open an Ahrefs keyword report .CSV file with Pandas\n",
    "- Performing standard data analysis operations within Pandas on a keyword report from Ahrefs (including GroupBy Objects, DataFrame Subsetting, the .drop_duplicates() method, the .apply() method and how to save your new dataframe to a .CSV file.\n",
    "- Learn how to create groups of keywords using FuzzyWuzzy + a custom keyword grouping function\n",
    "- Learn how to use  <strong> .lower() </strong> to improve de-duplication\n",
    "- Learn how to use  <strong> NLP lemmmatization </strong> to improve de-duplication"
   ]
  },
  {
   "cell_type": "markdown",
   "metadata": {},
   "source": [
    "--------------------------------------------------------------------------------"
   ]
  },
  {
   "cell_type": "markdown",
   "metadata": {},
   "source": [
    "### De-duplicating Keywords With Set Operations"
   ]
  },
  {
   "cell_type": "code",
   "execution_count": 1,
   "metadata": {},
   "outputs": [],
   "source": [
    "keyword_list_example = ['digital marketing', 'digital marketing', 'digital marketing services', \n",
    "                       'copywriting', 'seo copywriting', 'social media marketing', 'social media',\n",
    "                       'digital marketing services']"
   ]
  },
  {
   "cell_type": "markdown",
   "metadata": {},
   "source": [
    "Set operations allow us to easily de-duplicate a Python list which contains exact duplicates like so:"
   ]
  },
  {
   "cell_type": "code",
   "execution_count": 5,
   "metadata": {},
   "outputs": [],
   "source": [
    "de_duplicated_set = set(keyword_list_example)"
   ]
  },
  {
   "cell_type": "markdown",
   "metadata": {},
   "source": [
    "We can also transform the set back into a Python list and re-assign it back to the original variable keyword_list_example."
   ]
  },
  {
   "cell_type": "code",
   "execution_count": 17,
   "metadata": {},
   "outputs": [],
   "source": [
    "keyword_list_example = list(de_duplicated_set)"
   ]
  },
  {
   "cell_type": "code",
   "execution_count": 19,
   "metadata": {},
   "outputs": [
    {
     "name": "stdout",
     "output_type": "stream",
     "text": [
      "['seo copywriting', 'digital marketing services', 'copywriting', 'social media', 'social media marketing', 'digital marketing']\n"
     ]
    }
   ],
   "source": [
    "print(keyword_list_example)"
   ]
  },
  {
   "cell_type": "markdown",
   "metadata": {},
   "source": [
    "The benefits of using this type of de-duplication is that it is natively supported within Python, however it doesn't allow us to capture partial matches. That's where <strong> FuzzyWuzzy comes in! </strong> "
   ]
  },
  {
   "cell_type": "markdown",
   "metadata": {},
   "source": [
    "--------------------------------------------------"
   ]
  },
  {
   "cell_type": "markdown",
   "metadata": {},
   "source": [
    "### How to Compare Two Keyword Lists With Set Operations"
   ]
  },
  {
   "cell_type": "markdown",
   "metadata": {},
   "source": [
    "We might also want to compare two keyword lists to find where there are matches between the two lists. For example if we were to take google search console data and paid search data we would like to find the following:\n",
    "    \n",
    "\n",
    "- Items that occur within both lists\n",
    "- Items that occur in list_a but not in list_b\n",
    "- Items that occur in list_b but not in list_a\n",
    "- All of the items\n",
    "- Are all of the items in list_a in list_b (boolean - True / False)?\n",
    "- Are all of the items in list_b in list_a (boolean - True / False)?\n",
    "\n",
    "Using the power of python sets we can easily find exact matches between two python lists:"
   ]
  },
  {
   "cell_type": "code",
   "execution_count": 69,
   "metadata": {},
   "outputs": [],
   "source": [
    "google_search_console_keywords = ['data science, machine learning', 'ml consulting', 'digital marketing', 'seo', \n",
    "                                  'social media', 'data science consultants', 'search engine optimisation']\n",
    "paid_search_keywords = ['data science consultants', 'digital marketing', 'seo', \n",
    "                        'search engine optimisation']"
   ]
  },
  {
   "cell_type": "markdown",
   "metadata": {},
   "source": [
    "The .intersection() functionality allows us to find keywords that appear in both lists:"
   ]
  },
  {
   "cell_type": "code",
   "execution_count": 70,
   "metadata": {},
   "outputs": [
    {
     "data": {
      "text/plain": [
       "{'data science consultants',\n",
       " 'digital marketing',\n",
       " 'search engine optimisation',\n",
       " 'seo'}"
      ]
     },
     "execution_count": 70,
     "metadata": {},
     "output_type": "execute_result"
    }
   ],
   "source": [
    "set(google_search_console_keywords).intersection(set(paid_search_keywords))"
   ]
  },
  {
   "cell_type": "markdown",
   "metadata": {},
   "source": [
    "The example below shows all of the keywords within google_search_console_keywords that are not within the paid search keywords list:"
   ]
  },
  {
   "cell_type": "code",
   "execution_count": 71,
   "metadata": {},
   "outputs": [
    {
     "data": {
      "text/plain": [
       "{'data science, machine learning', 'ml consulting', 'social media'}"
      ]
     },
     "execution_count": 71,
     "metadata": {},
     "output_type": "execute_result"
    }
   ],
   "source": [
    "set(google_search_console_keywords) - set(paid_search_keywords)"
   ]
  },
  {
   "cell_type": "markdown",
   "metadata": {},
   "source": [
    "The example below shows the exact opposite, all of the keywords that appear within the paid search keywords list that aren't in the google search console keywords list:\n"
   ]
  },
  {
   "cell_type": "code",
   "execution_count": 72,
   "metadata": {},
   "outputs": [
    {
     "data": {
      "text/plain": [
       "set()"
      ]
     },
     "execution_count": 72,
     "metadata": {},
     "output_type": "execute_result"
    }
   ],
   "source": [
    "set(paid_search_keywords) - set(google_search_console_keywords)"
   ]
  },
  {
   "cell_type": "markdown",
   "metadata": {},
   "source": [
    "We can also easily extract all of the total exact match keywords from both lists with the following set operation:"
   ]
  },
  {
   "cell_type": "code",
   "execution_count": 73,
   "metadata": {},
   "outputs": [
    {
     "data": {
      "text/plain": [
       "{'data science consultants',\n",
       " 'data science, machine learning',\n",
       " 'digital marketing',\n",
       " 'ml consulting',\n",
       " 'search engine optimisation',\n",
       " 'seo',\n",
       " 'social media'}"
      ]
     },
     "execution_count": 73,
     "metadata": {},
     "output_type": "execute_result"
    }
   ],
   "source": [
    "set(google_search_console_keywords).union(paid_search_keywords)"
   ]
  },
  {
   "cell_type": "markdown",
   "metadata": {},
   "source": [
    "The below commands allow us to search to see if all elemnents within the google_search_console keywords list are within the \n",
    "paid_search_keywords list and vice versa!"
   ]
  },
  {
   "cell_type": "code",
   "execution_count": 74,
   "metadata": {},
   "outputs": [],
   "source": [
    "all_gsc_keywords_in_paid_search = set(google_search_console_keywords).issubset(set(paid_search_keywords))\n",
    "all_paid_search_keywords_in_gsc_list = set(paid_search_keywords).issubset(set(google_search_console_keywords))"
   ]
  },
  {
   "cell_type": "code",
   "execution_count": 75,
   "metadata": {},
   "outputs": [
    {
     "name": "stdout",
     "output_type": "stream",
     "text": [
      "False True\n"
     ]
    }
   ],
   "source": [
    "print(all_gsc_keywords_in_paid_search, all_paid_search_keywords_in_gsc_list)"
   ]
  },
  {
   "cell_type": "markdown",
   "metadata": {},
   "source": [
    "------------------------------------------------------------------------------------------------------------"
   ]
  },
  {
   "cell_type": "markdown",
   "metadata": {},
   "source": [
    "### De-duplicating Keywords With [FuzzyWuzzy](https://github.com/seatgeek/fuzzywuzzy) "
   ]
  },
  {
   "cell_type": "markdown",
   "metadata": {},
   "source": [
    "So what's [fuzzywuzzy?](https://github.com/seatgeek/fuzzywuzzy) Its a string matching python package that allows us to easily calculate the difference between several strings via [Levenshtein Distance.](https://en.wikipedia.org/wiki/Levenshtein_distance)\n",
    "\n",
    "Firstly we'll need to install the python package called fuzzywuzzy with:\n",
    "\n",
    "~~~\n",
    "pip install fuzzywuzzy\n",
    "~~~\n",
    "\n",
    "---\n",
    "\n",
    "As a side-note, anytime you install python packages you will need to restart the python ikernel to use them within a Jupyter Notebook <strong> (click Kernel at the top, then click Restart & Clear Output). </strong>\n",
    "\n",
    "---\n",
    "\n",
    "One of the most useful functions from the [fuzzywuzzy package](https://github.com/seatgeek/fuzzywuzzy) is the .dedupe() function, so let's see it in action!\n"
   ]
  },
  {
   "cell_type": "code",
   "execution_count": 161,
   "metadata": {},
   "outputs": [],
   "source": [
    "from fuzzywuzzy import fuzz\n",
    "from fuzzywuzzy import process"
   ]
  },
  {
   "cell_type": "code",
   "execution_count": 21,
   "metadata": {},
   "outputs": [
    {
     "name": "stdout",
     "output_type": "stream",
     "text": [
      "dict_keys(['seo copywriting', 'digital marketing services', 'social media marketing'])\n"
     ]
    }
   ],
   "source": [
    "print(process.dedupe(keyword_list_example, threshold=70))"
   ]
  },
  {
   "cell_type": "markdown",
   "metadata": {},
   "source": [
    "What's important to notice here is that the longer phrases have been chosen as the de-duplicated keywords. Whilst this approach will provide us with a list of duplicates it does come at the cost of loosing what keywords were lost whilst doing the de-duplication.\n",
    "\n",
    "To get the original of keywords, we can take the de-duplicated dict_keys and simply transform it into a list."
   ]
  },
  {
   "cell_type": "code",
   "execution_count": 25,
   "metadata": {},
   "outputs": [
    {
     "name": "stdout",
     "output_type": "stream",
     "text": [
      "['seo copywriting', 'digital marketing services', 'social media marketing'] <class 'list'>\n"
     ]
    }
   ],
   "source": [
    "de_duplicated_keywords = list(process.dedupe(keyword_list_example, threshold=70))\n",
    "print(de_duplicated_keywords, type(de_duplicated_keywords))"
   ]
  },
  {
   "cell_type": "markdown",
   "metadata": {},
   "source": [
    "------------------------------------------------------"
   ]
  },
  {
   "cell_type": "markdown",
   "metadata": {},
   "source": [
    "Also its important to notice that there is a threshold argument which we can pass into process.dedupe:\n",
    "\n",
    "~~~\n",
    "process.dedupe(keyword_list, threshold=70)\n",
    "~~~\n",
    "\n",
    "This number can range from 0 - 100, the intuition behind it is that as the threshold increases we are only de-duplicating keywords that are more closely related to each other. Therefore if we set a low threshold, we will get more de-duplication, however it might come at the cost of quality de-duplication. "
   ]
  },
  {
   "cell_type": "markdown",
   "metadata": {},
   "source": [
    "There is a balance to using the threshold parameter and I encourage you to try different different threshold values. So let's do just that! :) \n",
    "\n",
    "We can use the following code to loop over a range of numbers (stepping up with increments of 10):\n",
    "\n",
    "~~~\n",
    "\n",
    "for i in range(10, 100, 10):\n",
    "    print(i)\n",
    "    # This will start at the number 10 and will increment in steps of 10 up to 90\n",
    "\n",
    "~~~"
   ]
  },
  {
   "cell_type": "code",
   "execution_count": 27,
   "metadata": {},
   "outputs": [],
   "source": [
    "threhold_dictionary = {}"
   ]
  },
  {
   "cell_type": "code",
   "execution_count": 39,
   "metadata": {},
   "outputs": [
    {
     "name": "stdout",
     "output_type": "stream",
     "text": [
      "This is the current threhold value: 10\n",
      "This is the current threhold value: 20\n",
      "This is the current threhold value: 30\n",
      "This is the current threhold value: 40\n",
      "This is the current threhold value: 50\n",
      "This is the current threhold value: 60\n",
      "This is the current threhold value: 70\n",
      "This is the current threhold value: 80\n",
      "This is the current threhold value: 90\n"
     ]
    }
   ],
   "source": [
    "for i in range(10, 100, 10):\n",
    "    # Increasing the number of steps from 10 --> 90 by 10 at a time:\n",
    "    print(f\"This is the current threhold value: {i}\")\n",
    "    # Performing the de-duplication\n",
    "    de_duplicated_items = process.dedupe(keyword_list_example, threshold=i)\n",
    "    # Storing the de-duplicated items\n",
    "    threhold_dictionary[i] = list(de_duplicated_items)"
   ]
  },
  {
   "cell_type": "code",
   "execution_count": 76,
   "metadata": {},
   "outputs": [
    {
     "name": "stdout",
     "output_type": "stream",
     "text": [
      "{10: ['digital marketing services'], 20: ['digital marketing services'], 30: ['digital marketing services', 'digital marketing'], 40: ['social media marketing', 'digital marketing services', 'seo copywriting'], 50: ['seo copywriting', 'digital marketing services', 'social media marketing'], 60: ['seo copywriting', 'digital marketing services', 'social media marketing'], 70: ['seo copywriting', 'digital marketing services', 'social media marketing'], 80: ['seo copywriting', 'digital marketing services', 'social media marketing'], 90: ['seo copywriting', 'digital marketing services', 'social media marketing']}\n"
     ]
    }
   ],
   "source": [
    "print(threhold_dictionary)"
   ]
  },
  {
   "cell_type": "markdown",
   "metadata": {},
   "source": [
    "---------------------------------------------------------------"
   ]
  },
  {
   "cell_type": "markdown",
   "metadata": {},
   "source": [
    "### How To Open An Ahrefs CSV Keyword Report With Pandas"
   ]
  },
  {
   "cell_type": "markdown",
   "metadata": {},
   "source": [
    "I've prepared a sample report from the ahrefs keyword explorer for the term \"digital marketing\". We'll be using this to show you a few ways to doing keyword data analysis + grouping within pandas. Firstly we can load the CSV file with the following syntax:\n",
    "\n",
    "~~~\n",
    "\n",
    "df = pd.read_csv('csv_file_path.csv')\n",
    "\n",
    "~~~"
   ]
  },
  {
   "cell_type": "markdown",
   "metadata": {},
   "source": [
    "<strong> Important Points: </strong>\n",
    "\n",
    "- All of the keyword reports from Ahrefs are tab seperated, this will need to be specified when we read the CSV file.\n",
    "- Depending upon how you download keyword.csv's from Ahrefs will require a different type of encoding. Again this can be specified inside of the pd.read_csv() function.\n",
    "\n",
    "\n",
    "Examples:\n",
    "\n",
    "~~~\n",
    "\n",
    "df = pd.read_csv('data/digital-marketing-keyword-ideas.csv', encoding='UTF-16', delimiter='\\t')\n",
    "df = pd.read_csv('data/digital-marketing-keyword-ideas.csv', encoding='UTF-8', delimiter='\\t')\n",
    "\n",
    "~~~"
   ]
  },
  {
   "cell_type": "code",
   "execution_count": 31,
   "metadata": {},
   "outputs": [],
   "source": [
    "df = pd.read_csv('data/digital-marketing-keyword-ideas.csv', encoding='UTF-16', delimiter='\\t')"
   ]
  },
  {
   "cell_type": "markdown",
   "metadata": {},
   "source": [
    "~~~\n",
    "\n",
    ".info() allows us to inspect and see how many np.nan values are inside of the dataframe\n",
    "\n",
    "~~~"
   ]
  },
  {
   "cell_type": "code",
   "execution_count": 32,
   "metadata": {},
   "outputs": [
    {
     "name": "stdout",
     "output_type": "stream",
     "text": [
      "<class 'pandas.core.frame.DataFrame'>\n",
      "RangeIndex: 1000 entries, 0 to 999\n",
      "Data columns (total 12 columns):\n",
      "#                 1000 non-null int64\n",
      "Keyword           1000 non-null object\n",
      "Country           1000 non-null object\n",
      "Difficulty        599 non-null float64\n",
      "Volume            658 non-null float64\n",
      "CPC               462 non-null float64\n",
      "Clicks            188 non-null float64\n",
      "CPS               188 non-null float64\n",
      "Return Rate       188 non-null float64\n",
      "Parent Keyword    602 non-null object\n",
      "Last Update       597 non-null object\n",
      "SERP Features     562 non-null object\n",
      "dtypes: float64(6), int64(1), object(5)\n",
      "memory usage: 93.9+ KB\n"
     ]
    }
   ],
   "source": [
    "df.info()"
   ]
  },
  {
   "cell_type": "markdown",
   "metadata": {},
   "source": [
    "### Column Selection"
   ]
  },
  {
   "cell_type": "markdown",
   "metadata": {},
   "source": [
    "Dataframes are great and all of the common operations that you were previously implementing in gsheets can be completely autoamted within Pandas. Let's see how to select single and multiple columns:\n",
    "\n",
    "~~~\n",
    "\n",
    "df['single_column'] --> This will return a pd.series object which is essentially a single column.\n",
    "df[['column_one', 'column_two']] --> This will return a dataframe object, similar to the original df.\n",
    "\n",
    "~~~\n"
   ]
  },
  {
   "cell_type": "code",
   "execution_count": 80,
   "metadata": {},
   "outputs": [
    {
     "data": {
      "text/plain": [
       "0                                coast\n",
       "1                              hubspot\n",
       "2                    digital marketing\n",
       "3                              digital\n",
       "4                      content meaning\n",
       "                    ...               \n",
       "603            results through digital\n",
       "604    star digital marketing services\n",
       "610         how to market b2b services\n",
       "620           phone marketing services\n",
       "641        campaign marketing services\n",
       "Name: Keyword, Length: 602, dtype: object"
      ]
     },
     "execution_count": 80,
     "metadata": {},
     "output_type": "execute_result"
    }
   ],
   "source": [
    "df['Keyword']"
   ]
  },
  {
   "cell_type": "code",
   "execution_count": 82,
   "metadata": {},
   "outputs": [
    {
     "data": {
      "text/html": [
       "<div>\n",
       "<style scoped>\n",
       "    .dataframe tbody tr th:only-of-type {\n",
       "        vertical-align: middle;\n",
       "    }\n",
       "\n",
       "    .dataframe tbody tr th {\n",
       "        vertical-align: top;\n",
       "    }\n",
       "\n",
       "    .dataframe thead th {\n",
       "        text-align: right;\n",
       "    }\n",
       "</style>\n",
       "<table border=\"1\" class=\"dataframe\">\n",
       "  <thead>\n",
       "    <tr style=\"text-align: right;\">\n",
       "      <th></th>\n",
       "      <th>CPC</th>\n",
       "      <th>Clicks</th>\n",
       "    </tr>\n",
       "  </thead>\n",
       "  <tbody>\n",
       "    <tr>\n",
       "      <td>0</td>\n",
       "      <td>2.5</td>\n",
       "      <td>64715.0</td>\n",
       "    </tr>\n",
       "    <tr>\n",
       "      <td>1</td>\n",
       "      <td>5.0</td>\n",
       "      <td>59708.0</td>\n",
       "    </tr>\n",
       "    <tr>\n",
       "      <td>2</td>\n",
       "      <td>7.0</td>\n",
       "      <td>11033.0</td>\n",
       "    </tr>\n",
       "    <tr>\n",
       "      <td>3</td>\n",
       "      <td>2.5</td>\n",
       "      <td>5912.0</td>\n",
       "    </tr>\n",
       "    <tr>\n",
       "      <td>4</td>\n",
       "      <td>17.0</td>\n",
       "      <td>622.0</td>\n",
       "    </tr>\n",
       "    <tr>\n",
       "      <td>...</td>\n",
       "      <td>...</td>\n",
       "      <td>...</td>\n",
       "    </tr>\n",
       "    <tr>\n",
       "      <td>603</td>\n",
       "      <td>NaN</td>\n",
       "      <td>19.0</td>\n",
       "    </tr>\n",
       "    <tr>\n",
       "      <td>604</td>\n",
       "      <td>NaN</td>\n",
       "      <td>NaN</td>\n",
       "    </tr>\n",
       "    <tr>\n",
       "      <td>610</td>\n",
       "      <td>NaN</td>\n",
       "      <td>NaN</td>\n",
       "    </tr>\n",
       "    <tr>\n",
       "      <td>620</td>\n",
       "      <td>NaN</td>\n",
       "      <td>NaN</td>\n",
       "    </tr>\n",
       "    <tr>\n",
       "      <td>641</td>\n",
       "      <td>NaN</td>\n",
       "      <td>NaN</td>\n",
       "    </tr>\n",
       "  </tbody>\n",
       "</table>\n",
       "<p>602 rows × 2 columns</p>\n",
       "</div>"
      ],
      "text/plain": [
       "      CPC   Clicks\n",
       "0     2.5  64715.0\n",
       "1     5.0  59708.0\n",
       "2     7.0  11033.0\n",
       "3     2.5   5912.0\n",
       "4    17.0    622.0\n",
       "..    ...      ...\n",
       "603   NaN     19.0\n",
       "604   NaN      NaN\n",
       "610   NaN      NaN\n",
       "620   NaN      NaN\n",
       "641   NaN      NaN\n",
       "\n",
       "[602 rows x 2 columns]"
      ]
     },
     "execution_count": 82,
     "metadata": {},
     "output_type": "execute_result"
    }
   ],
   "source": [
    "df[['CPC', 'Clicks']]"
   ]
  },
  {
   "cell_type": "markdown",
   "metadata": {},
   "source": [
    "### How To Index Specific Columns And Rows"
   ]
  },
  {
   "cell_type": "markdown",
   "metadata": {},
   "source": [
    "There are two ways that you can index columns either with .loc or with .iloc:\n",
    "\n",
    "~~~\n",
    "\n",
    ".loc[] refers to the column and index names\n",
    ".iloc refers to the index position of the column and index\n",
    "\n",
    "~~~\n",
    "\n",
    "---\n",
    "\n",
    "Remember when it comes to indexing your dataframe the order is <strong> first ROWS, then COLUMNS </strong>\n"
   ]
  },
  {
   "cell_type": "code",
   "execution_count": 86,
   "metadata": {},
   "outputs": [
    {
     "data": {
      "text/html": [
       "<div>\n",
       "<style scoped>\n",
       "    .dataframe tbody tr th:only-of-type {\n",
       "        vertical-align: middle;\n",
       "    }\n",
       "\n",
       "    .dataframe tbody tr th {\n",
       "        vertical-align: top;\n",
       "    }\n",
       "\n",
       "    .dataframe thead th {\n",
       "        text-align: right;\n",
       "    }\n",
       "</style>\n",
       "<table border=\"1\" class=\"dataframe\">\n",
       "  <thead>\n",
       "    <tr style=\"text-align: right;\">\n",
       "      <th></th>\n",
       "      <th>Keyowrd</th>\n",
       "      <th>Country</th>\n",
       "    </tr>\n",
       "  </thead>\n",
       "  <tbody>\n",
       "    <tr>\n",
       "      <td>0</td>\n",
       "      <td>NaN</td>\n",
       "      <td>gb</td>\n",
       "    </tr>\n",
       "    <tr>\n",
       "      <td>1</td>\n",
       "      <td>NaN</td>\n",
       "      <td>gb</td>\n",
       "    </tr>\n",
       "    <tr>\n",
       "      <td>2</td>\n",
       "      <td>NaN</td>\n",
       "      <td>gb</td>\n",
       "    </tr>\n",
       "    <tr>\n",
       "      <td>3</td>\n",
       "      <td>NaN</td>\n",
       "      <td>gb</td>\n",
       "    </tr>\n",
       "    <tr>\n",
       "      <td>4</td>\n",
       "      <td>NaN</td>\n",
       "      <td>gb</td>\n",
       "    </tr>\n",
       "    <tr>\n",
       "      <td>5</td>\n",
       "      <td>NaN</td>\n",
       "      <td>gb</td>\n",
       "    </tr>\n",
       "  </tbody>\n",
       "</table>\n",
       "</div>"
      ],
      "text/plain": [
       "   Keyowrd Country\n",
       "0      NaN      gb\n",
       "1      NaN      gb\n",
       "2      NaN      gb\n",
       "3      NaN      gb\n",
       "4      NaN      gb\n",
       "5      NaN      gb"
      ]
     },
     "execution_count": 86,
     "metadata": {},
     "output_type": "execute_result"
    }
   ],
   "source": [
    "df.loc[0:5, ['Keyowrd', 'Country']].reindex()"
   ]
  },
  {
   "cell_type": "code",
   "execution_count": 90,
   "metadata": {},
   "outputs": [
    {
     "data": {
      "text/html": [
       "<div>\n",
       "<style scoped>\n",
       "    .dataframe tbody tr th:only-of-type {\n",
       "        vertical-align: middle;\n",
       "    }\n",
       "\n",
       "    .dataframe tbody tr th {\n",
       "        vertical-align: top;\n",
       "    }\n",
       "\n",
       "    .dataframe thead th {\n",
       "        text-align: right;\n",
       "    }\n",
       "</style>\n",
       "<table border=\"1\" class=\"dataframe\">\n",
       "  <thead>\n",
       "    <tr style=\"text-align: right;\">\n",
       "      <th></th>\n",
       "      <th>Keyword</th>\n",
       "      <th>Country</th>\n",
       "    </tr>\n",
       "  </thead>\n",
       "  <tbody>\n",
       "    <tr>\n",
       "      <td>0</td>\n",
       "      <td>coast</td>\n",
       "      <td>gb</td>\n",
       "    </tr>\n",
       "    <tr>\n",
       "      <td>1</td>\n",
       "      <td>hubspot</td>\n",
       "      <td>gb</td>\n",
       "    </tr>\n",
       "    <tr>\n",
       "      <td>2</td>\n",
       "      <td>digital marketing</td>\n",
       "      <td>gb</td>\n",
       "    </tr>\n",
       "    <tr>\n",
       "      <td>3</td>\n",
       "      <td>digital</td>\n",
       "      <td>gb</td>\n",
       "    </tr>\n",
       "    <tr>\n",
       "      <td>4</td>\n",
       "      <td>content meaning</td>\n",
       "      <td>gb</td>\n",
       "    </tr>\n",
       "  </tbody>\n",
       "</table>\n",
       "</div>"
      ],
      "text/plain": [
       "             Keyword Country\n",
       "0              coast      gb\n",
       "1            hubspot      gb\n",
       "2  digital marketing      gb\n",
       "3            digital      gb\n",
       "4    content meaning      gb"
      ]
     },
     "execution_count": 90,
     "metadata": {},
     "output_type": "execute_result"
    }
   ],
   "source": [
    "df.iloc[0:5,0:2]"
   ]
  },
  {
   "cell_type": "markdown",
   "metadata": {},
   "source": [
    "------------------------------------------------------------"
   ]
  },
  {
   "cell_type": "markdown",
   "metadata": {},
   "source": [
    "### Sorting Dataframes By Column Values"
   ]
  },
  {
   "cell_type": "markdown",
   "metadata": {},
   "source": [
    "Let's rank the keywords by the organic monthly search volume in descending order, also notice that I've used inplace=True, this means that the pandas dataframe is permanently sorted by the search volume:\n",
    "\n",
    "~~~\n",
    "\n",
    "df.sort_values(by='column_name', ascending=Boolean, inplace=Boolean)\n",
    "df.head(integer)\n",
    "\n",
    "- The df.head() command allows us to easily to show the top N results.\n",
    "\n",
    "~~~"
   ]
  },
  {
   "cell_type": "code",
   "execution_count": 27,
   "metadata": {},
   "outputs": [
    {
     "data": {
      "text/html": [
       "<div>\n",
       "<style scoped>\n",
       "    .dataframe tbody tr th:only-of-type {\n",
       "        vertical-align: middle;\n",
       "    }\n",
       "\n",
       "    .dataframe tbody tr th {\n",
       "        vertical-align: top;\n",
       "    }\n",
       "\n",
       "    .dataframe thead th {\n",
       "        text-align: right;\n",
       "    }\n",
       "</style>\n",
       "<table border=\"1\" class=\"dataframe\">\n",
       "  <thead>\n",
       "    <tr style=\"text-align: right;\">\n",
       "      <th></th>\n",
       "      <th>#</th>\n",
       "      <th>Keyword</th>\n",
       "      <th>Country</th>\n",
       "      <th>Difficulty</th>\n",
       "      <th>Volume</th>\n",
       "      <th>CPC</th>\n",
       "      <th>Clicks</th>\n",
       "      <th>CPS</th>\n",
       "      <th>Return Rate</th>\n",
       "      <th>Parent Keyword</th>\n",
       "      <th>Last Update</th>\n",
       "      <th>SERP Features</th>\n",
       "    </tr>\n",
       "  </thead>\n",
       "  <tbody>\n",
       "    <tr>\n",
       "      <td>0</td>\n",
       "      <td>1</td>\n",
       "      <td>coast</td>\n",
       "      <td>gb</td>\n",
       "      <td>42.0</td>\n",
       "      <td>70000.0</td>\n",
       "      <td>2.5</td>\n",
       "      <td>64715.0</td>\n",
       "      <td>0.93</td>\n",
       "      <td>1.67</td>\n",
       "      <td>coast</td>\n",
       "      <td>2020-05-09 23:55:39</td>\n",
       "      <td>Sitelinks</td>\n",
       "    </tr>\n",
       "    <tr>\n",
       "      <td>1</td>\n",
       "      <td>2</td>\n",
       "      <td>hubspot</td>\n",
       "      <td>gb</td>\n",
       "      <td>67.0</td>\n",
       "      <td>63000.0</td>\n",
       "      <td>5.0</td>\n",
       "      <td>59708.0</td>\n",
       "      <td>0.95</td>\n",
       "      <td>2.34</td>\n",
       "      <td>hubspot</td>\n",
       "      <td>2020-05-09 00:57:01</td>\n",
       "      <td>Adwords top, Sitelinks, Top stories, Thumbnail...</td>\n",
       "    </tr>\n",
       "    <tr>\n",
       "      <td>2</td>\n",
       "      <td>3</td>\n",
       "      <td>digital marketing</td>\n",
       "      <td>gb</td>\n",
       "      <td>74.0</td>\n",
       "      <td>19000.0</td>\n",
       "      <td>7.0</td>\n",
       "      <td>11033.0</td>\n",
       "      <td>0.57</td>\n",
       "      <td>1.41</td>\n",
       "      <td>digital marketing</td>\n",
       "      <td>2020-05-09 07:11:09</td>\n",
       "      <td>Adwords top, Sitelinks, People also ask, Top s...</td>\n",
       "    </tr>\n",
       "    <tr>\n",
       "      <td>3</td>\n",
       "      <td>4</td>\n",
       "      <td>digital</td>\n",
       "      <td>gb</td>\n",
       "      <td>89.0</td>\n",
       "      <td>16000.0</td>\n",
       "      <td>2.5</td>\n",
       "      <td>5912.0</td>\n",
       "      <td>0.38</td>\n",
       "      <td>1.19</td>\n",
       "      <td>digital</td>\n",
       "      <td>2020-05-09 02:26:10</td>\n",
       "      <td>Sitelinks, People also ask, Top stories, Thumb...</td>\n",
       "    </tr>\n",
       "    <tr>\n",
       "      <td>4</td>\n",
       "      <td>5</td>\n",
       "      <td>content meaning</td>\n",
       "      <td>gb</td>\n",
       "      <td>45.0</td>\n",
       "      <td>4400.0</td>\n",
       "      <td>17.0</td>\n",
       "      <td>622.0</td>\n",
       "      <td>0.14</td>\n",
       "      <td>1.18</td>\n",
       "      <td>content</td>\n",
       "      <td>2020-05-10 06:32:24</td>\n",
       "      <td>Knowledge card, People also ask, Top stories, ...</td>\n",
       "    </tr>\n",
       "    <tr>\n",
       "      <td>5</td>\n",
       "      <td>6</td>\n",
       "      <td>digital media</td>\n",
       "      <td>gb</td>\n",
       "      <td>24.0</td>\n",
       "      <td>3600.0</td>\n",
       "      <td>3.0</td>\n",
       "      <td>1671.0</td>\n",
       "      <td>0.47</td>\n",
       "      <td>1.24</td>\n",
       "      <td>digital media</td>\n",
       "      <td>2020-05-10 14:14:41</td>\n",
       "      <td>Featured snippet, Thumbnails, People also ask,...</td>\n",
       "    </tr>\n",
       "  </tbody>\n",
       "</table>\n",
       "</div>"
      ],
      "text/plain": [
       "   #            Keyword Country  Difficulty   Volume   CPC   Clicks   CPS  \\\n",
       "0  1              coast      gb        42.0  70000.0   2.5  64715.0  0.93   \n",
       "1  2            hubspot      gb        67.0  63000.0   5.0  59708.0  0.95   \n",
       "2  3  digital marketing      gb        74.0  19000.0   7.0  11033.0  0.57   \n",
       "3  4            digital      gb        89.0  16000.0   2.5   5912.0  0.38   \n",
       "4  5    content meaning      gb        45.0   4400.0  17.0    622.0  0.14   \n",
       "5  6      digital media      gb        24.0   3600.0   3.0   1671.0  0.47   \n",
       "\n",
       "   Return Rate     Parent Keyword          Last Update  \\\n",
       "0         1.67              coast  2020-05-09 23:55:39   \n",
       "1         2.34            hubspot  2020-05-09 00:57:01   \n",
       "2         1.41  digital marketing  2020-05-09 07:11:09   \n",
       "3         1.19            digital  2020-05-09 02:26:10   \n",
       "4         1.18            content  2020-05-10 06:32:24   \n",
       "5         1.24      digital media  2020-05-10 14:14:41   \n",
       "\n",
       "                                       SERP Features  \n",
       "0                                          Sitelinks  \n",
       "1  Adwords top, Sitelinks, Top stories, Thumbnail...  \n",
       "2  Adwords top, Sitelinks, People also ask, Top s...  \n",
       "3  Sitelinks, People also ask, Top stories, Thumb...  \n",
       "4  Knowledge card, People also ask, Top stories, ...  \n",
       "5  Featured snippet, Thumbnails, People also ask,...  "
      ]
     },
     "execution_count": 27,
     "metadata": {},
     "output_type": "execute_result"
    }
   ],
   "source": [
    "df.sort_values(by='Volume', ascending=False, inplace=True)\n",
    "df.head(6)"
   ]
  },
  {
   "cell_type": "markdown",
   "metadata": {},
   "source": [
    "Now let's sort the dataframe based upon CPC:"
   ]
  },
  {
   "cell_type": "code",
   "execution_count": 30,
   "metadata": {},
   "outputs": [
    {
     "data": {
      "text/html": [
       "<div>\n",
       "<style scoped>\n",
       "    .dataframe tbody tr th:only-of-type {\n",
       "        vertical-align: middle;\n",
       "    }\n",
       "\n",
       "    .dataframe tbody tr th {\n",
       "        vertical-align: top;\n",
       "    }\n",
       "\n",
       "    .dataframe thead th {\n",
       "        text-align: right;\n",
       "    }\n",
       "</style>\n",
       "<table border=\"1\" class=\"dataframe\">\n",
       "  <thead>\n",
       "    <tr style=\"text-align: right;\">\n",
       "      <th></th>\n",
       "      <th>#</th>\n",
       "      <th>Keyword</th>\n",
       "      <th>Country</th>\n",
       "      <th>Difficulty</th>\n",
       "      <th>Volume</th>\n",
       "      <th>CPC</th>\n",
       "      <th>Clicks</th>\n",
       "      <th>CPS</th>\n",
       "      <th>Return Rate</th>\n",
       "      <th>Parent Keyword</th>\n",
       "      <th>Last Update</th>\n",
       "      <th>SERP Features</th>\n",
       "    </tr>\n",
       "  </thead>\n",
       "  <tbody>\n",
       "    <tr>\n",
       "      <td>525</td>\n",
       "      <td>526</td>\n",
       "      <td>internet marketing companies</td>\n",
       "      <td>gb</td>\n",
       "      <td>64.0</td>\n",
       "      <td>40.0</td>\n",
       "      <td>60.0</td>\n",
       "      <td>NaN</td>\n",
       "      <td>NaN</td>\n",
       "      <td>NaN</td>\n",
       "      <td>digital marketing agency</td>\n",
       "      <td>2020-04-29 00:18:03</td>\n",
       "      <td>Featured snippet</td>\n",
       "    </tr>\n",
       "    <tr>\n",
       "      <td>442</td>\n",
       "      <td>443</td>\n",
       "      <td>mobile marketing companies</td>\n",
       "      <td>gb</td>\n",
       "      <td>9.0</td>\n",
       "      <td>50.0</td>\n",
       "      <td>40.0</td>\n",
       "      <td>NaN</td>\n",
       "      <td>NaN</td>\n",
       "      <td>NaN</td>\n",
       "      <td>mobile marketing agency</td>\n",
       "      <td>2020-05-04 12:55:50</td>\n",
       "      <td>Featured snippet</td>\n",
       "    </tr>\n",
       "    <tr>\n",
       "      <td>164</td>\n",
       "      <td>165</td>\n",
       "      <td>digital market</td>\n",
       "      <td>gb</td>\n",
       "      <td>83.0</td>\n",
       "      <td>150.0</td>\n",
       "      <td>30.0</td>\n",
       "      <td>78.0</td>\n",
       "      <td>0.58</td>\n",
       "      <td>1.32</td>\n",
       "      <td>digital marketplace</td>\n",
       "      <td>2020-04-24 15:59:15</td>\n",
       "      <td>Sitelinks, People also ask, Top stories, Thumb...</td>\n",
       "    </tr>\n",
       "    <tr>\n",
       "      <td>162</td>\n",
       "      <td>163</td>\n",
       "      <td>search marketing agency</td>\n",
       "      <td>gb</td>\n",
       "      <td>51.0</td>\n",
       "      <td>150.0</td>\n",
       "      <td>25.0</td>\n",
       "      <td>NaN</td>\n",
       "      <td>NaN</td>\n",
       "      <td>NaN</td>\n",
       "      <td>search marketing agency</td>\n",
       "      <td>2020-04-24 18:47:07</td>\n",
       "      <td>Adwords top, Sitelinks, Adwords bottom</td>\n",
       "    </tr>\n",
       "    <tr>\n",
       "      <td>56</td>\n",
       "      <td>57</td>\n",
       "      <td>seo services london</td>\n",
       "      <td>gb</td>\n",
       "      <td>44.0</td>\n",
       "      <td>350.0</td>\n",
       "      <td>25.0</td>\n",
       "      <td>320.0</td>\n",
       "      <td>0.96</td>\n",
       "      <td>2.74</td>\n",
       "      <td>seo services london</td>\n",
       "      <td>2020-05-01 03:22:55</td>\n",
       "      <td>Adwords bottom, Sitelinks</td>\n",
       "    </tr>\n",
       "    <tr>\n",
       "      <td>256</td>\n",
       "      <td>257</td>\n",
       "      <td>top digital marketing companies</td>\n",
       "      <td>gb</td>\n",
       "      <td>39.0</td>\n",
       "      <td>90.0</td>\n",
       "      <td>25.0</td>\n",
       "      <td>NaN</td>\n",
       "      <td>NaN</td>\n",
       "      <td>NaN</td>\n",
       "      <td>digital marketing company</td>\n",
       "      <td>2020-04-16 17:50:50</td>\n",
       "      <td>Sitelinks, People also ask</td>\n",
       "    </tr>\n",
       "  </tbody>\n",
       "</table>\n",
       "</div>"
      ],
      "text/plain": [
       "       #                          Keyword Country  Difficulty  Volume   CPC  \\\n",
       "525  526     internet marketing companies      gb        64.0    40.0  60.0   \n",
       "442  443       mobile marketing companies      gb         9.0    50.0  40.0   \n",
       "164  165                   digital market      gb        83.0   150.0  30.0   \n",
       "162  163          search marketing agency      gb        51.0   150.0  25.0   \n",
       "56    57              seo services london      gb        44.0   350.0  25.0   \n",
       "256  257  top digital marketing companies      gb        39.0    90.0  25.0   \n",
       "\n",
       "     Clicks   CPS  Return Rate             Parent Keyword  \\\n",
       "525     NaN   NaN          NaN   digital marketing agency   \n",
       "442     NaN   NaN          NaN    mobile marketing agency   \n",
       "164    78.0  0.58         1.32        digital marketplace   \n",
       "162     NaN   NaN          NaN    search marketing agency   \n",
       "56    320.0  0.96         2.74        seo services london   \n",
       "256     NaN   NaN          NaN  digital marketing company   \n",
       "\n",
       "             Last Update                                      SERP Features  \n",
       "525  2020-04-29 00:18:03                                   Featured snippet  \n",
       "442  2020-05-04 12:55:50                                   Featured snippet  \n",
       "164  2020-04-24 15:59:15  Sitelinks, People also ask, Top stories, Thumb...  \n",
       "162  2020-04-24 18:47:07             Adwords top, Sitelinks, Adwords bottom  \n",
       "56   2020-05-01 03:22:55                          Adwords bottom, Sitelinks  \n",
       "256  2020-04-16 17:50:50                         Sitelinks, People also ask  "
      ]
     },
     "execution_count": 30,
     "metadata": {},
     "output_type": "execute_result"
    }
   ],
   "source": [
    "df.sort_values(by='CPC', ascending=False).head(6)"
   ]
  },
  {
   "cell_type": "markdown",
   "metadata": {},
   "source": [
    "Okay that's great, but as Ahrefs provides a Parent Keyword column, let's firstly remove any keywords that don't have a value for this column:\n",
    "\n",
    "~~~\n",
    "\n",
    ".dropna(subset='column_name') This command allows us to drop np.NaN (not a number) values from the dataframe.\n",
    "\n",
    "~~~\n",
    "\n",
    "Also let's remove the # column as it is unnecessary:"
   ]
  },
  {
   "cell_type": "code",
   "execution_count": 45,
   "metadata": {},
   "outputs": [
    {
     "data": {
      "text/html": [
       "<div>\n",
       "<style scoped>\n",
       "    .dataframe tbody tr th:only-of-type {\n",
       "        vertical-align: middle;\n",
       "    }\n",
       "\n",
       "    .dataframe tbody tr th {\n",
       "        vertical-align: top;\n",
       "    }\n",
       "\n",
       "    .dataframe thead th {\n",
       "        text-align: right;\n",
       "    }\n",
       "</style>\n",
       "<table border=\"1\" class=\"dataframe\">\n",
       "  <thead>\n",
       "    <tr style=\"text-align: right;\">\n",
       "      <th></th>\n",
       "      <th>Keyword</th>\n",
       "      <th>Country</th>\n",
       "      <th>Difficulty</th>\n",
       "      <th>Volume</th>\n",
       "      <th>CPC</th>\n",
       "      <th>Clicks</th>\n",
       "      <th>CPS</th>\n",
       "      <th>Return Rate</th>\n",
       "      <th>Parent Keyword</th>\n",
       "      <th>Last Update</th>\n",
       "      <th>SERP Features</th>\n",
       "    </tr>\n",
       "  </thead>\n",
       "  <tbody>\n",
       "    <tr>\n",
       "      <td>0</td>\n",
       "      <td>coast</td>\n",
       "      <td>gb</td>\n",
       "      <td>42.0</td>\n",
       "      <td>70000.0</td>\n",
       "      <td>2.5</td>\n",
       "      <td>64715.0</td>\n",
       "      <td>0.93</td>\n",
       "      <td>1.67</td>\n",
       "      <td>coast</td>\n",
       "      <td>2020-05-09 23:55:39</td>\n",
       "      <td>Sitelinks</td>\n",
       "    </tr>\n",
       "    <tr>\n",
       "      <td>1</td>\n",
       "      <td>hubspot</td>\n",
       "      <td>gb</td>\n",
       "      <td>67.0</td>\n",
       "      <td>63000.0</td>\n",
       "      <td>5.0</td>\n",
       "      <td>59708.0</td>\n",
       "      <td>0.95</td>\n",
       "      <td>2.34</td>\n",
       "      <td>hubspot</td>\n",
       "      <td>2020-05-09 00:57:01</td>\n",
       "      <td>Adwords top, Sitelinks, Top stories, Thumbnail...</td>\n",
       "    </tr>\n",
       "    <tr>\n",
       "      <td>2</td>\n",
       "      <td>digital marketing</td>\n",
       "      <td>gb</td>\n",
       "      <td>74.0</td>\n",
       "      <td>19000.0</td>\n",
       "      <td>7.0</td>\n",
       "      <td>11033.0</td>\n",
       "      <td>0.57</td>\n",
       "      <td>1.41</td>\n",
       "      <td>digital marketing</td>\n",
       "      <td>2020-05-09 07:11:09</td>\n",
       "      <td>Adwords top, Sitelinks, People also ask, Top s...</td>\n",
       "    </tr>\n",
       "    <tr>\n",
       "      <td>3</td>\n",
       "      <td>digital</td>\n",
       "      <td>gb</td>\n",
       "      <td>89.0</td>\n",
       "      <td>16000.0</td>\n",
       "      <td>2.5</td>\n",
       "      <td>5912.0</td>\n",
       "      <td>0.38</td>\n",
       "      <td>1.19</td>\n",
       "      <td>digital</td>\n",
       "      <td>2020-05-09 02:26:10</td>\n",
       "      <td>Sitelinks, People also ask, Top stories, Thumb...</td>\n",
       "    </tr>\n",
       "    <tr>\n",
       "      <td>4</td>\n",
       "      <td>content meaning</td>\n",
       "      <td>gb</td>\n",
       "      <td>45.0</td>\n",
       "      <td>4400.0</td>\n",
       "      <td>17.0</td>\n",
       "      <td>622.0</td>\n",
       "      <td>0.14</td>\n",
       "      <td>1.18</td>\n",
       "      <td>content</td>\n",
       "      <td>2020-05-10 06:32:24</td>\n",
       "      <td>Knowledge card, People also ask, Top stories, ...</td>\n",
       "    </tr>\n",
       "    <tr>\n",
       "      <td>5</td>\n",
       "      <td>digital media</td>\n",
       "      <td>gb</td>\n",
       "      <td>24.0</td>\n",
       "      <td>3600.0</td>\n",
       "      <td>3.0</td>\n",
       "      <td>1671.0</td>\n",
       "      <td>0.47</td>\n",
       "      <td>1.24</td>\n",
       "      <td>digital media</td>\n",
       "      <td>2020-05-10 14:14:41</td>\n",
       "      <td>Featured snippet, Thumbnails, People also ask,...</td>\n",
       "    </tr>\n",
       "  </tbody>\n",
       "</table>\n",
       "</div>"
      ],
      "text/plain": [
       "             Keyword Country  Difficulty   Volume   CPC   Clicks   CPS  \\\n",
       "0              coast      gb        42.0  70000.0   2.5  64715.0  0.93   \n",
       "1            hubspot      gb        67.0  63000.0   5.0  59708.0  0.95   \n",
       "2  digital marketing      gb        74.0  19000.0   7.0  11033.0  0.57   \n",
       "3            digital      gb        89.0  16000.0   2.5   5912.0  0.38   \n",
       "4    content meaning      gb        45.0   4400.0  17.0    622.0  0.14   \n",
       "5      digital media      gb        24.0   3600.0   3.0   1671.0  0.47   \n",
       "\n",
       "   Return Rate     Parent Keyword          Last Update  \\\n",
       "0         1.67              coast  2020-05-09 23:55:39   \n",
       "1         2.34            hubspot  2020-05-09 00:57:01   \n",
       "2         1.41  digital marketing  2020-05-09 07:11:09   \n",
       "3         1.19            digital  2020-05-09 02:26:10   \n",
       "4         1.18            content  2020-05-10 06:32:24   \n",
       "5         1.24      digital media  2020-05-10 14:14:41   \n",
       "\n",
       "                                       SERP Features  \n",
       "0                                          Sitelinks  \n",
       "1  Adwords top, Sitelinks, Top stories, Thumbnail...  \n",
       "2  Adwords top, Sitelinks, People also ask, Top s...  \n",
       "3  Sitelinks, People also ask, Top stories, Thumb...  \n",
       "4  Knowledge card, People also ask, Top stories, ...  \n",
       "5  Featured snippet, Thumbnails, People also ask,...  "
      ]
     },
     "execution_count": 45,
     "metadata": {},
     "output_type": "execute_result"
    }
   ],
   "source": [
    "df.dropna(subset=['Parent Keyword'], inplace=True)\n",
    "df.drop(columns=['#'], inplace=True)\n",
    "df.head(3)"
   ]
  },
  {
   "cell_type": "markdown",
   "metadata": {},
   "source": [
    "### Utilising GroupBy Objects:"
   ]
  },
  {
   "cell_type": "markdown",
   "metadata": {},
   "source": [
    "We can use a Pandas function called .groupby() which will allow us to group keywords based upon their Parent Keyword:\n",
    "    \n",
    "~~~\n",
    "\n",
    "df.groupby('column_name')\n",
    "\n",
    "~~~\n",
    "\n",
    "We will also save this groupby object to a variable so that we can reference it directly."
   ]
  },
  {
   "cell_type": "code",
   "execution_count": 48,
   "metadata": {},
   "outputs": [],
   "source": [
    "grouped_parent_keywords = df.groupby('Parent Keyword')"
   ]
  },
  {
   "cell_type": "code",
   "execution_count": 53,
   "metadata": {},
   "outputs": [
    {
     "data": {
      "text/html": [
       "<div>\n",
       "<style scoped>\n",
       "    .dataframe tbody tr th:only-of-type {\n",
       "        vertical-align: middle;\n",
       "    }\n",
       "\n",
       "    .dataframe tbody tr th {\n",
       "        vertical-align: top;\n",
       "    }\n",
       "\n",
       "    .dataframe thead th {\n",
       "        text-align: right;\n",
       "    }\n",
       "</style>\n",
       "<table border=\"1\" class=\"dataframe\">\n",
       "  <thead>\n",
       "    <tr style=\"text-align: right;\">\n",
       "      <th></th>\n",
       "      <th>Keyword</th>\n",
       "      <th>Country</th>\n",
       "      <th>Difficulty</th>\n",
       "      <th>Volume</th>\n",
       "      <th>CPC</th>\n",
       "      <th>Clicks</th>\n",
       "      <th>CPS</th>\n",
       "      <th>Return Rate</th>\n",
       "      <th>Last Update</th>\n",
       "      <th>SERP Features</th>\n",
       "    </tr>\n",
       "    <tr>\n",
       "      <th>Parent Keyword</th>\n",
       "      <th></th>\n",
       "      <th></th>\n",
       "      <th></th>\n",
       "      <th></th>\n",
       "      <th></th>\n",
       "      <th></th>\n",
       "      <th></th>\n",
       "      <th></th>\n",
       "      <th></th>\n",
       "      <th></th>\n",
       "    </tr>\n",
       "  </thead>\n",
       "  <tbody>\n",
       "    <tr>\n",
       "      <td>5 ws</td>\n",
       "      <td>2</td>\n",
       "      <td>2</td>\n",
       "      <td>2</td>\n",
       "      <td>2</td>\n",
       "      <td>0</td>\n",
       "      <td>1</td>\n",
       "      <td>1</td>\n",
       "      <td>1</td>\n",
       "      <td>2</td>\n",
       "      <td>2</td>\n",
       "    </tr>\n",
       "    <tr>\n",
       "      <td>a</td>\n",
       "      <td>3</td>\n",
       "      <td>3</td>\n",
       "      <td>3</td>\n",
       "      <td>3</td>\n",
       "      <td>0</td>\n",
       "      <td>0</td>\n",
       "      <td>0</td>\n",
       "      <td>0</td>\n",
       "      <td>3</td>\n",
       "      <td>3</td>\n",
       "    </tr>\n",
       "    <tr>\n",
       "      <td>absolute digital media</td>\n",
       "      <td>1</td>\n",
       "      <td>1</td>\n",
       "      <td>1</td>\n",
       "      <td>1</td>\n",
       "      <td>1</td>\n",
       "      <td>0</td>\n",
       "      <td>0</td>\n",
       "      <td>0</td>\n",
       "      <td>1</td>\n",
       "      <td>1</td>\n",
       "    </tr>\n",
       "    <tr>\n",
       "      <td>absolute pr</td>\n",
       "      <td>1</td>\n",
       "      <td>1</td>\n",
       "      <td>1</td>\n",
       "      <td>1</td>\n",
       "      <td>1</td>\n",
       "      <td>0</td>\n",
       "      <td>0</td>\n",
       "      <td>0</td>\n",
       "      <td>1</td>\n",
       "      <td>1</td>\n",
       "    </tr>\n",
       "    <tr>\n",
       "      <td>according</td>\n",
       "      <td>2</td>\n",
       "      <td>2</td>\n",
       "      <td>2</td>\n",
       "      <td>2</td>\n",
       "      <td>1</td>\n",
       "      <td>2</td>\n",
       "      <td>2</td>\n",
       "      <td>2</td>\n",
       "      <td>2</td>\n",
       "      <td>2</td>\n",
       "    </tr>\n",
       "    <tr>\n",
       "      <td>...</td>\n",
       "      <td>...</td>\n",
       "      <td>...</td>\n",
       "      <td>...</td>\n",
       "      <td>...</td>\n",
       "      <td>...</td>\n",
       "      <td>...</td>\n",
       "      <td>...</td>\n",
       "      <td>...</td>\n",
       "      <td>...</td>\n",
       "      <td>...</td>\n",
       "    </tr>\n",
       "    <tr>\n",
       "      <td>why work in digital marketing</td>\n",
       "      <td>1</td>\n",
       "      <td>1</td>\n",
       "      <td>1</td>\n",
       "      <td>1</td>\n",
       "      <td>1</td>\n",
       "      <td>1</td>\n",
       "      <td>1</td>\n",
       "      <td>1</td>\n",
       "      <td>1</td>\n",
       "      <td>1</td>\n",
       "    </tr>\n",
       "    <tr>\n",
       "      <td>work digital</td>\n",
       "      <td>1</td>\n",
       "      <td>1</td>\n",
       "      <td>1</td>\n",
       "      <td>1</td>\n",
       "      <td>1</td>\n",
       "      <td>0</td>\n",
       "      <td>0</td>\n",
       "      <td>0</td>\n",
       "      <td>1</td>\n",
       "      <td>1</td>\n",
       "    </tr>\n",
       "    <tr>\n",
       "      <td>world of digital</td>\n",
       "      <td>1</td>\n",
       "      <td>1</td>\n",
       "      <td>1</td>\n",
       "      <td>1</td>\n",
       "      <td>1</td>\n",
       "      <td>0</td>\n",
       "      <td>0</td>\n",
       "      <td>0</td>\n",
       "      <td>1</td>\n",
       "      <td>1</td>\n",
       "    </tr>\n",
       "    <tr>\n",
       "      <td>بازاریابی</td>\n",
       "      <td>1</td>\n",
       "      <td>1</td>\n",
       "      <td>1</td>\n",
       "      <td>1</td>\n",
       "      <td>0</td>\n",
       "      <td>0</td>\n",
       "      <td>0</td>\n",
       "      <td>0</td>\n",
       "      <td>1</td>\n",
       "      <td>1</td>\n",
       "    </tr>\n",
       "    <tr>\n",
       "      <td>مؤسسة</td>\n",
       "      <td>1</td>\n",
       "      <td>1</td>\n",
       "      <td>1</td>\n",
       "      <td>1</td>\n",
       "      <td>1</td>\n",
       "      <td>1</td>\n",
       "      <td>1</td>\n",
       "      <td>1</td>\n",
       "      <td>1</td>\n",
       "      <td>1</td>\n",
       "    </tr>\n",
       "  </tbody>\n",
       "</table>\n",
       "<p>333 rows × 10 columns</p>\n",
       "</div>"
      ],
      "text/plain": [
       "                               Keyword  Country  Difficulty  Volume  CPC  \\\n",
       "Parent Keyword                                                             \n",
       "5 ws                                 2        2           2       2    0   \n",
       "a                                    3        3           3       3    0   \n",
       "absolute digital media               1        1           1       1    1   \n",
       "absolute pr                          1        1           1       1    1   \n",
       "according                            2        2           2       2    1   \n",
       "...                                ...      ...         ...     ...  ...   \n",
       "why work in digital marketing        1        1           1       1    1   \n",
       "work digital                         1        1           1       1    1   \n",
       "world of digital                     1        1           1       1    1   \n",
       "بازاریابی                            1        1           1       1    0   \n",
       "مؤسسة                                1        1           1       1    1   \n",
       "\n",
       "                               Clicks  CPS  Return Rate  Last Update  \\\n",
       "Parent Keyword                                                         \n",
       "5 ws                                1    1            1            2   \n",
       "a                                   0    0            0            3   \n",
       "absolute digital media              0    0            0            1   \n",
       "absolute pr                         0    0            0            1   \n",
       "according                           2    2            2            2   \n",
       "...                               ...  ...          ...          ...   \n",
       "why work in digital marketing       1    1            1            1   \n",
       "work digital                        0    0            0            1   \n",
       "world of digital                    0    0            0            1   \n",
       "بازاریابی                           0    0            0            1   \n",
       "مؤسسة                               1    1            1            1   \n",
       "\n",
       "                               SERP Features  \n",
       "Parent Keyword                                \n",
       "5 ws                                       2  \n",
       "a                                          3  \n",
       "absolute digital media                     1  \n",
       "absolute pr                                1  \n",
       "according                                  2  \n",
       "...                                      ...  \n",
       "why work in digital marketing              1  \n",
       "work digital                               1  \n",
       "world of digital                           1  \n",
       "بازاریابی                                  1  \n",
       "مؤسسة                                      1  \n",
       "\n",
       "[333 rows x 10 columns]"
      ]
     },
     "execution_count": 53,
     "metadata": {},
     "output_type": "execute_result"
    }
   ],
   "source": [
    "grouped_parent_keywords.count()"
   ]
  },
  {
   "cell_type": "code",
   "execution_count": 60,
   "metadata": {},
   "outputs": [
    {
     "data": {
      "text/html": [
       "<div>\n",
       "<style scoped>\n",
       "    .dataframe tbody tr th:only-of-type {\n",
       "        vertical-align: middle;\n",
       "    }\n",
       "\n",
       "    .dataframe tbody tr th {\n",
       "        vertical-align: top;\n",
       "    }\n",
       "\n",
       "    .dataframe thead th {\n",
       "        text-align: right;\n",
       "    }\n",
       "</style>\n",
       "<table border=\"1\" class=\"dataframe\">\n",
       "  <thead>\n",
       "    <tr style=\"text-align: right;\">\n",
       "      <th></th>\n",
       "      <th>Difficulty</th>\n",
       "      <th>Volume</th>\n",
       "      <th>CPC</th>\n",
       "      <th>Clicks</th>\n",
       "      <th>CPS</th>\n",
       "      <th>Return Rate</th>\n",
       "    </tr>\n",
       "    <tr>\n",
       "      <th>Parent Keyword</th>\n",
       "      <th></th>\n",
       "      <th></th>\n",
       "      <th></th>\n",
       "      <th></th>\n",
       "      <th></th>\n",
       "      <th></th>\n",
       "    </tr>\n",
       "  </thead>\n",
       "  <tbody>\n",
       "    <tr>\n",
       "      <td>5 ws</td>\n",
       "      <td>24.000000</td>\n",
       "      <td>95.0</td>\n",
       "      <td>NaN</td>\n",
       "      <td>64.0</td>\n",
       "      <td>0.54</td>\n",
       "      <td>1.00</td>\n",
       "    </tr>\n",
       "    <tr>\n",
       "      <td>a</td>\n",
       "      <td>41.333333</td>\n",
       "      <td>50.0</td>\n",
       "      <td>NaN</td>\n",
       "      <td>NaN</td>\n",
       "      <td>NaN</td>\n",
       "      <td>NaN</td>\n",
       "    </tr>\n",
       "    <tr>\n",
       "      <td>absolute digital media</td>\n",
       "      <td>55.000000</td>\n",
       "      <td>80.0</td>\n",
       "      <td>9.0</td>\n",
       "      <td>NaN</td>\n",
       "      <td>NaN</td>\n",
       "      <td>NaN</td>\n",
       "    </tr>\n",
       "    <tr>\n",
       "      <td>absolute pr</td>\n",
       "      <td>0.000000</td>\n",
       "      <td>30.0</td>\n",
       "      <td>0.0</td>\n",
       "      <td>NaN</td>\n",
       "      <td>NaN</td>\n",
       "      <td>NaN</td>\n",
       "    </tr>\n",
       "    <tr>\n",
       "      <td>according</td>\n",
       "      <td>7.000000</td>\n",
       "      <td>125.0</td>\n",
       "      <td>0.0</td>\n",
       "      <td>18.0</td>\n",
       "      <td>0.15</td>\n",
       "      <td>1.13</td>\n",
       "    </tr>\n",
       "    <tr>\n",
       "      <td>...</td>\n",
       "      <td>...</td>\n",
       "      <td>...</td>\n",
       "      <td>...</td>\n",
       "      <td>...</td>\n",
       "      <td>...</td>\n",
       "      <td>...</td>\n",
       "    </tr>\n",
       "    <tr>\n",
       "      <td>why work in digital marketing</td>\n",
       "      <td>0.000000</td>\n",
       "      <td>100.0</td>\n",
       "      <td>0.0</td>\n",
       "      <td>157.0</td>\n",
       "      <td>1.50</td>\n",
       "      <td>1.67</td>\n",
       "    </tr>\n",
       "    <tr>\n",
       "      <td>work digital</td>\n",
       "      <td>3.000000</td>\n",
       "      <td>60.0</td>\n",
       "      <td>0.0</td>\n",
       "      <td>NaN</td>\n",
       "      <td>NaN</td>\n",
       "      <td>NaN</td>\n",
       "    </tr>\n",
       "    <tr>\n",
       "      <td>world of digital</td>\n",
       "      <td>33.000000</td>\n",
       "      <td>200.0</td>\n",
       "      <td>0.0</td>\n",
       "      <td>NaN</td>\n",
       "      <td>NaN</td>\n",
       "      <td>NaN</td>\n",
       "    </tr>\n",
       "    <tr>\n",
       "      <td>بازاریابی</td>\n",
       "      <td>8.000000</td>\n",
       "      <td>60.0</td>\n",
       "      <td>NaN</td>\n",
       "      <td>NaN</td>\n",
       "      <td>NaN</td>\n",
       "      <td>NaN</td>\n",
       "    </tr>\n",
       "    <tr>\n",
       "      <td>مؤسسة</td>\n",
       "      <td>55.000000</td>\n",
       "      <td>1200.0</td>\n",
       "      <td>0.0</td>\n",
       "      <td>158.0</td>\n",
       "      <td>0.13</td>\n",
       "      <td>1.11</td>\n",
       "    </tr>\n",
       "  </tbody>\n",
       "</table>\n",
       "<p>333 rows × 6 columns</p>\n",
       "</div>"
      ],
      "text/plain": [
       "                               Difficulty  Volume  CPC  Clicks   CPS  \\\n",
       "Parent Keyword                                                         \n",
       "5 ws                            24.000000    95.0  NaN    64.0  0.54   \n",
       "a                               41.333333    50.0  NaN     NaN   NaN   \n",
       "absolute digital media          55.000000    80.0  9.0     NaN   NaN   \n",
       "absolute pr                      0.000000    30.0  0.0     NaN   NaN   \n",
       "according                        7.000000   125.0  0.0    18.0  0.15   \n",
       "...                                   ...     ...  ...     ...   ...   \n",
       "why work in digital marketing    0.000000   100.0  0.0   157.0  1.50   \n",
       "work digital                     3.000000    60.0  0.0     NaN   NaN   \n",
       "world of digital                33.000000   200.0  0.0     NaN   NaN   \n",
       "بازاریابی                        8.000000    60.0  NaN     NaN   NaN   \n",
       "مؤسسة                           55.000000  1200.0  0.0   158.0  0.13   \n",
       "\n",
       "                               Return Rate  \n",
       "Parent Keyword                              \n",
       "5 ws                                  1.00  \n",
       "a                                      NaN  \n",
       "absolute digital media                 NaN  \n",
       "absolute pr                            NaN  \n",
       "according                             1.13  \n",
       "...                                    ...  \n",
       "why work in digital marketing         1.67  \n",
       "work digital                           NaN  \n",
       "world of digital                       NaN  \n",
       "بازاریابی                              NaN  \n",
       "مؤسسة                                 1.11  \n",
       "\n",
       "[333 rows x 6 columns]"
      ]
     },
     "execution_count": 60,
     "metadata": {},
     "output_type": "execute_result"
    }
   ],
   "source": [
    "grouped_parent_keywords.mean()"
   ]
  },
  {
   "cell_type": "markdown",
   "metadata": {},
   "source": [
    "--------------------------------------------------------------------------------"
   ]
  },
  {
   "cell_type": "markdown",
   "metadata": {},
   "source": [
    "Notice that as it is grouping a series of keywords by their Parent Keyword, we need to use aggregation to summarise the grouped metrics. Common functions include the following:\n",
    "\n",
    "~~~\n",
    "\n",
    ".mean()\n",
    ".count()\n",
    ".sum()\n",
    ".median()\n",
    "\n",
    "~~~\n",
    "\n",
    "However for our analysis we'll want to use a custom .agg() function so that we can apply different summarisation techniques to unique columns:"
   ]
  },
  {
   "cell_type": "code",
   "execution_count": 66,
   "metadata": {},
   "outputs": [],
   "source": [
    "grouped_parent_keywords = grouped_parent_keywords.agg({'Keyword': 'count',\n",
    "                             'Difficulty': 'mean', \n",
    "                             'Volume': 'sum', \n",
    "                             'CPC': 'mean',\n",
    "                             'CPS': 'mean', \n",
    "                             'Return Rate': 'mean'}, inplace=True)"
   ]
  },
  {
   "cell_type": "markdown",
   "metadata": {},
   "source": [
    "## We Do Section:\n",
    "\n",
    "Now we can use the similar filtering techniques that we learned earlier. Code along and filter the groupedby dataframe by: \n",
    "\n",
    "- Difficulty\n",
    "- Volume"
   ]
  },
  {
   "cell_type": "code",
   "execution_count": 71,
   "metadata": {},
   "outputs": [
    {
     "data": {
      "text/html": [
       "<div>\n",
       "<style scoped>\n",
       "    .dataframe tbody tr th:only-of-type {\n",
       "        vertical-align: middle;\n",
       "    }\n",
       "\n",
       "    .dataframe tbody tr th {\n",
       "        vertical-align: top;\n",
       "    }\n",
       "\n",
       "    .dataframe thead th {\n",
       "        text-align: right;\n",
       "    }\n",
       "</style>\n",
       "<table border=\"1\" class=\"dataframe\">\n",
       "  <thead>\n",
       "    <tr style=\"text-align: right;\">\n",
       "      <th></th>\n",
       "      <th>Keyword</th>\n",
       "      <th>Difficulty</th>\n",
       "      <th>Volume</th>\n",
       "      <th>CPC</th>\n",
       "      <th>CPS</th>\n",
       "      <th>Return Rate</th>\n",
       "    </tr>\n",
       "    <tr>\n",
       "      <th>Parent Keyword</th>\n",
       "      <th></th>\n",
       "      <th></th>\n",
       "      <th></th>\n",
       "      <th></th>\n",
       "      <th></th>\n",
       "      <th></th>\n",
       "    </tr>\n",
       "  </thead>\n",
       "  <tbody>\n",
       "    <tr>\n",
       "      <td>whois</td>\n",
       "      <td>3</td>\n",
       "      <td>94.666667</td>\n",
       "      <td>1300.0</td>\n",
       "      <td>0.475</td>\n",
       "      <td>0.666667</td>\n",
       "      <td>1.156667</td>\n",
       "    </tr>\n",
       "    <tr>\n",
       "      <td>is it down</td>\n",
       "      <td>1</td>\n",
       "      <td>92.000000</td>\n",
       "      <td>90.0</td>\n",
       "      <td>0.000</td>\n",
       "      <td>NaN</td>\n",
       "      <td>NaN</td>\n",
       "    </tr>\n",
       "    <tr>\n",
       "      <td>the digital picture</td>\n",
       "      <td>1</td>\n",
       "      <td>86.000000</td>\n",
       "      <td>40.0</td>\n",
       "      <td>0.000</td>\n",
       "      <td>NaN</td>\n",
       "      <td>NaN</td>\n",
       "    </tr>\n",
       "    <tr>\n",
       "      <td>what</td>\n",
       "      <td>2</td>\n",
       "      <td>84.500000</td>\n",
       "      <td>170.0</td>\n",
       "      <td>NaN</td>\n",
       "      <td>NaN</td>\n",
       "      <td>NaN</td>\n",
       "    </tr>\n",
       "    <tr>\n",
       "      <td>the drum</td>\n",
       "      <td>1</td>\n",
       "      <td>84.000000</td>\n",
       "      <td>90.0</td>\n",
       "      <td>0.000</td>\n",
       "      <td>NaN</td>\n",
       "      <td>NaN</td>\n",
       "    </tr>\n",
       "    <tr>\n",
       "      <td>...</td>\n",
       "      <td>...</td>\n",
       "      <td>...</td>\n",
       "      <td>...</td>\n",
       "      <td>...</td>\n",
       "      <td>...</td>\n",
       "      <td>...</td>\n",
       "    </tr>\n",
       "    <tr>\n",
       "      <td>digital sales</td>\n",
       "      <td>1</td>\n",
       "      <td>0.000000</td>\n",
       "      <td>60.0</td>\n",
       "      <td>0.000</td>\n",
       "      <td>0.370000</td>\n",
       "      <td>1.120000</td>\n",
       "    </tr>\n",
       "    <tr>\n",
       "      <td>tps</td>\n",
       "      <td>1</td>\n",
       "      <td>NaN</td>\n",
       "      <td>10.0</td>\n",
       "      <td>NaN</td>\n",
       "      <td>NaN</td>\n",
       "      <td>NaN</td>\n",
       "    </tr>\n",
       "    <tr>\n",
       "      <td>b2b marketing strategy</td>\n",
       "      <td>1</td>\n",
       "      <td>NaN</td>\n",
       "      <td>10.0</td>\n",
       "      <td>NaN</td>\n",
       "      <td>NaN</td>\n",
       "      <td>NaN</td>\n",
       "    </tr>\n",
       "    <tr>\n",
       "      <td>star digital</td>\n",
       "      <td>1</td>\n",
       "      <td>NaN</td>\n",
       "      <td>10.0</td>\n",
       "      <td>NaN</td>\n",
       "      <td>NaN</td>\n",
       "      <td>NaN</td>\n",
       "    </tr>\n",
       "    <tr>\n",
       "      <td>the marketing campaign company</td>\n",
       "      <td>1</td>\n",
       "      <td>NaN</td>\n",
       "      <td>10.0</td>\n",
       "      <td>NaN</td>\n",
       "      <td>NaN</td>\n",
       "      <td>NaN</td>\n",
       "    </tr>\n",
       "  </tbody>\n",
       "</table>\n",
       "<p>333 rows × 6 columns</p>\n",
       "</div>"
      ],
      "text/plain": [
       "                                Keyword  Difficulty  Volume    CPC       CPS  \\\n",
       "Parent Keyword                                                                 \n",
       "whois                                 3   94.666667  1300.0  0.475  0.666667   \n",
       "is it down                            1   92.000000    90.0  0.000       NaN   \n",
       "the digital picture                   1   86.000000    40.0  0.000       NaN   \n",
       "what                                  2   84.500000   170.0    NaN       NaN   \n",
       "the drum                              1   84.000000    90.0  0.000       NaN   \n",
       "...                                 ...         ...     ...    ...       ...   \n",
       "digital sales                         1    0.000000    60.0  0.000  0.370000   \n",
       "tps                                   1         NaN    10.0    NaN       NaN   \n",
       "b2b marketing strategy                1         NaN    10.0    NaN       NaN   \n",
       "star digital                          1         NaN    10.0    NaN       NaN   \n",
       "the marketing campaign company        1         NaN    10.0    NaN       NaN   \n",
       "\n",
       "                                Return Rate  \n",
       "Parent Keyword                               \n",
       "whois                              1.156667  \n",
       "is it down                              NaN  \n",
       "the digital picture                     NaN  \n",
       "what                                    NaN  \n",
       "the drum                                NaN  \n",
       "...                                     ...  \n",
       "digital sales                      1.120000  \n",
       "tps                                     NaN  \n",
       "b2b marketing strategy                  NaN  \n",
       "star digital                            NaN  \n",
       "the marketing campaign company          NaN  \n",
       "\n",
       "[333 rows x 6 columns]"
      ]
     },
     "execution_count": 71,
     "metadata": {},
     "output_type": "execute_result"
    }
   ],
   "source": [
    "grouped_parent_keywords.sort_values(by='Volume', ascending=False, inplace=True)\n",
    "grouped_parent_keywords.sort_values(by='Difficulty', ascending=False)"
   ]
  },
  {
   "cell_type": "markdown",
   "metadata": {},
   "source": [
    "----------------------------------------------------------------------------------------------------"
   ]
  },
  {
   "cell_type": "markdown",
   "metadata": {},
   "source": [
    "### Removing exact duplicates"
   ]
  },
  {
   "cell_type": "markdown",
   "metadata": {},
   "source": [
    "Let's now return to our original dataframe and practice some other useful methods. Firstly we can attempt to drop any duplicates within our keyword column:"
   ]
  },
  {
   "cell_type": "code",
   "execution_count": 77,
   "metadata": {},
   "outputs": [],
   "source": [
    "df.drop_duplicates(subset=['Keyword'], inplace=True)"
   ]
  },
  {
   "cell_type": "markdown",
   "metadata": {},
   "source": [
    "However as there are no duplicates inside of the keywords column, let's get a de-duplicated list of parent keywords by using the following command:\n",
    "\n",
    "~~~\n",
    "\n",
    ".drop_duplicates(subset=['column_name'])\n",
    "\n",
    "~~~\n",
    "\n",
    "Then we will select the Parent Keyword column, and convert it into a python list with:\n",
    "\n",
    "~~~\n",
    "\n",
    ".tolist()\n",
    "\n",
    "~~~\n"
   ]
  },
  {
   "cell_type": "code",
   "execution_count": 108,
   "metadata": {},
   "outputs": [
    {
     "name": "stdout",
     "output_type": "stream",
     "text": [
      "This is the first 10 items of a de-duplicated python list from the parent column: ['coast', 'hubspot', 'digital marketing', 'digital', 'content', 'digital media', 'digital marketing agency', 'digital uk', 'and digital', 'online marketing']\n"
     ]
    }
   ],
   "source": [
    "parent_keywords_df = df.drop_duplicates(subset=['Parent Keyword'])\n",
    "parent_keywords_list = parent_keywords_df['Parent Keyword'].to_list()[0:10]\n",
    "print(f\"This is the first 10 items of a de-duplicated python list from the parent column: {parent_keywords_list}\")"
   ]
  },
  {
   "cell_type": "markdown",
   "metadata": {},
   "source": [
    "### DataFrame Filtering (subsetting)"
   ]
  },
  {
   "cell_type": "markdown",
   "metadata": {},
   "source": [
    "The easiest type of filtering is to use the = operator. \n",
    "\n",
    "For example, we might want to find keywords that are equal to hubspot within our dataframe:"
   ]
  },
  {
   "cell_type": "code",
   "execution_count": 226,
   "metadata": {},
   "outputs": [
    {
     "data": {
      "text/html": [
       "<div>\n",
       "<style scoped>\n",
       "    .dataframe tbody tr th:only-of-type {\n",
       "        vertical-align: middle;\n",
       "    }\n",
       "\n",
       "    .dataframe tbody tr th {\n",
       "        vertical-align: top;\n",
       "    }\n",
       "\n",
       "    .dataframe thead th {\n",
       "        text-align: right;\n",
       "    }\n",
       "</style>\n",
       "<table border=\"1\" class=\"dataframe\">\n",
       "  <thead>\n",
       "    <tr style=\"text-align: right;\">\n",
       "      <th></th>\n",
       "      <th>Keyword</th>\n",
       "      <th>Country</th>\n",
       "      <th>Difficulty</th>\n",
       "      <th>Volume</th>\n",
       "      <th>CPC</th>\n",
       "      <th>Clicks</th>\n",
       "      <th>CPS</th>\n",
       "      <th>Return Rate</th>\n",
       "      <th>Parent Keyword</th>\n",
       "      <th>Last Update</th>\n",
       "      <th>SERP Features</th>\n",
       "      <th>Stemmed Keyword</th>\n",
       "    </tr>\n",
       "  </thead>\n",
       "  <tbody>\n",
       "    <tr>\n",
       "      <td>1</td>\n",
       "      <td>hubspot</td>\n",
       "      <td>gb</td>\n",
       "      <td>67.0</td>\n",
       "      <td>63000.0</td>\n",
       "      <td>5.0</td>\n",
       "      <td>59708.0</td>\n",
       "      <td>0.95</td>\n",
       "      <td>2.34</td>\n",
       "      <td>hubspot</td>\n",
       "      <td>2020-05-09 00:57:01</td>\n",
       "      <td>Adwords top, Sitelinks, Top stories, Thumbnail...</td>\n",
       "      <td>hubspot</td>\n",
       "    </tr>\n",
       "  </tbody>\n",
       "</table>\n",
       "</div>"
      ],
      "text/plain": [
       "   Keyword Country  Difficulty   Volume  CPC   Clicks   CPS  Return Rate  \\\n",
       "1  hubspot      gb        67.0  63000.0  5.0  59708.0  0.95         2.34   \n",
       "\n",
       "  Parent Keyword          Last Update  \\\n",
       "1        hubspot  2020-05-09 00:57:01   \n",
       "\n",
       "                                       SERP Features Stemmed Keyword  \n",
       "1  Adwords top, Sitelinks, Top stories, Thumbnail...        hubspot   "
      ]
     },
     "execution_count": 226,
     "metadata": {},
     "output_type": "execute_result"
    }
   ],
   "source": [
    "single_keyword_mask = df['Keyword'] == 'hubspot'\n",
    "single_keyword_df = df[single_keyword_mask]\n",
    "single_keyword_df"
   ]
  },
  {
   "cell_type": "markdown",
   "metadata": {},
   "source": [
    "We could also write the same filter like so:\n",
    "    \n",
    "~~~\n",
    "\n",
    "single_keyword_df = df[df['Keyword'] == 'hubspot']\n",
    "\n",
    "~~~"
   ]
  },
  {
   "cell_type": "markdown",
   "metadata": {},
   "source": [
    "----------------------------------------"
   ]
  },
  {
   "cell_type": "markdown",
   "metadata": {},
   "source": [
    "Additionally might want to filter our dataframe to only find keywords that have over a specific search volume greater than 50, so let's do just that:\n",
    "\n",
    "~~~\n",
    "\n",
    "df['column_name'] > 50\n",
    "\n",
    "~~~\n"
   ]
  },
  {
   "cell_type": "code",
   "execution_count": 115,
   "metadata": {},
   "outputs": [],
   "source": [
    "mask = df['Volume'] > 50\n",
    "filtered_dataframe = df[mask]"
   ]
  },
  {
   "cell_type": "markdown",
   "metadata": {},
   "source": [
    "Another short handed way to accomplish the same operation would be:\n",
    "\n",
    "~~~\n",
    "\n",
    "filtered_dataframe  = df[df['Volume'] > 50]\n",
    "\n",
    "~~~\n"
   ]
  },
  {
   "cell_type": "markdown",
   "metadata": {},
   "source": [
    "----------------------------------------------------------------------"
   ]
  },
  {
   "cell_type": "markdown",
   "metadata": {},
   "source": [
    "We can also filter the dataframe by several columns by chaining the boolean dataframe subsets together:"
   ]
  },
  {
   "cell_type": "code",
   "execution_count": 119,
   "metadata": {},
   "outputs": [],
   "source": [
    "mask_two = (df['Volume'] > 50) & (df['CPC'] > 2.0)\n",
    "two_column_filtered_dataframe = df[mask_two]"
   ]
  },
  {
   "cell_type": "markdown",
   "metadata": {},
   "source": [
    "This could also be written like this:\n",
    "\n",
    "~~~\n",
    "\n",
    "two_column_filtered_dataframe = df[(df['Volume'] > 50) & (df['CPC'] > 2.0)]\n",
    "\n",
    "~~~"
   ]
  },
  {
   "cell_type": "markdown",
   "metadata": {},
   "source": [
    "--------------------------------------------------"
   ]
  },
  {
   "cell_type": "markdown",
   "metadata": {},
   "source": [
    "We can also do OR operations with the pipe operator <strong> | </strong>"
   ]
  },
  {
   "cell_type": "code",
   "execution_count": 125,
   "metadata": {},
   "outputs": [],
   "source": [
    "mask_three = (df['Volume'] > 50) | (df['CPC'] > 2.0)\n",
    "or_dataframe_subset= df[mask_three]"
   ]
  },
  {
   "cell_type": "markdown",
   "metadata": {},
   "source": [
    "Which could also be written like this:\n",
    "    \n",
    "~~~\n",
    "\n",
    "two_column_filtered_dataframe = df[(df['Volume'] > 50) | (df['CPC'] > 2.0)]\n",
    "\n",
    "~~~"
   ]
  },
  {
   "cell_type": "markdown",
   "metadata": {},
   "source": [
    "------------------------------------------------------------------------------------------------------------------------"
   ]
  },
  {
   "cell_type": "markdown",
   "metadata": {},
   "source": [
    "### Grouping de_duplicated keywords with FuzzyWuzzy"
   ]
  },
  {
   "cell_type": "markdown",
   "metadata": {},
   "source": [
    "As well as de-duplicating lists of keywords, it would also be useful to keep all of the keywords but bucket them into keyword groups based upon how close every keyword was as a duplicate in reference to every keyword. \n",
    "\n",
    "Without going into the specifics of how this functions work, you can use it as a way to group keywords based upon their FuzzyWuzzy score:"
   ]
  },
  {
   "cell_type": "code",
   "execution_count": 163,
   "metadata": {},
   "outputs": [],
   "source": [
    "def word_grouper(df, column_name=None, limit=6, threshold=85):\n",
    "    # Create a near_match_duplicated_list \n",
    "    test = df.drop_duplicates(subset=column_name)[column_name].tolist()\n",
    "    master_dict = {}\n",
    "    processed_words = []\n",
    "    no_matches = []\n",
    "\n",
    "    for index, item in enumerate(df[column_name]):\n",
    "        # Let's pop out the first index from the list so we never match against \n",
    "        try:\n",
    "            test.pop(0)\n",
    "        except IndexError as e:\n",
    "            print(e)\n",
    "        \n",
    "        # Let's only loop over the keywords that aren't already grouped\n",
    "        if item not in processed_words:\n",
    "            # Creating the top N matches\n",
    "            try:\n",
    "                matches = process.extract(item, test, limit=limit)\n",
    "                \"\"\"Extracting out the matched words - A threshold for this can be changed so that \n",
    "                    we never cluster words together with a low match score\"\"\"\n",
    "                matches = [item for item in matches if item[1] > threshold]\n",
    "                matched_words = [item[0] for item in matches if item[1] > threshold]\n",
    "                # Saving the matches to a dictionary\n",
    "                master_dict[item] = matches\n",
    "                # Saving the matches and  to a list of processed words\n",
    "                processed_words.extend(matched_words)\n",
    "            except Exception as e:\n",
    "                no_matches.append(item)\n",
    "        else:\n",
    "            pass\n",
    "    return master_dict"
   ]
  },
  {
   "cell_type": "code",
   "execution_count": 188,
   "metadata": {},
   "outputs": [],
   "source": [
    "grouped_words = word_grouper(df, column_name='Keyword', limit=6, threshold=70)"
   ]
  },
  {
   "cell_type": "code",
   "execution_count": 189,
   "metadata": {},
   "outputs": [],
   "source": [
    "test = pd.DataFrame()\n",
    "test = test.from_dict(grouped_words, orient='index')\n",
    "test.iloc[0:20,:]"
   ]
  },
  {
   "cell_type": "markdown",
   "metadata": {},
   "source": [
    "--------------------------------------------------------------------------------------------------------------------"
   ]
  },
  {
   "cell_type": "markdown",
   "metadata": {},
   "source": [
    "### Additional Ways That We Can Improve Our De-Duplication Efforts"
   ]
  },
  {
   "cell_type": "markdown",
   "metadata": {},
   "source": [
    "#### 1. Using .lower()"
   ]
  },
  {
   "cell_type": "markdown",
   "metadata": {},
   "source": [
    ".lower() on a list of strings ensures that any strings which are duplicates such as \"digital marketing services\" vs \"Digital Marketing Services\" can be normalised with this in-built function."
   ]
  },
  {
   "cell_type": "code",
   "execution_count": 192,
   "metadata": {},
   "outputs": [],
   "source": [
    "example = ['DIGITAL MARKETING SERVICES', 'digital marketing services', 'Digital Marketing Services']"
   ]
  },
  {
   "cell_type": "code",
   "execution_count": 195,
   "metadata": {},
   "outputs": [
    {
     "name": "stdout",
     "output_type": "stream",
     "text": [
      "['digital marketing services', 'digital marketing services', 'digital marketing services']\n"
     ]
    }
   ],
   "source": [
    "example = [word.lower() for word in example]\n",
    "print(example)"
   ]
  },
  {
   "cell_type": "code",
   "execution_count": 200,
   "metadata": {},
   "outputs": [
    {
     "name": "stdout",
     "output_type": "stream",
     "text": [
      "This is the de_duplicated_example ['digital marketing services']\n"
     ]
    }
   ],
   "source": [
    "de_duplicated_example = list(set(example))\n",
    "print(f\"This is the de_duplicated_example {de_duplicated_example}\")"
   ]
  },
  {
   "cell_type": "markdown",
   "metadata": {},
   "source": [
    "------------------------------------------------------------------------"
   ]
  },
  {
   "cell_type": "markdown",
   "metadata": {},
   "source": [
    "#### 2. Stemming + Lemmatisation"
   ]
  },
  {
   "cell_type": "markdown",
   "metadata": {},
   "source": [
    "Lemmatization usually refers to doing things properly with the use of a vocabulary and morphological analysis of words, normally aiming to remove inflectional endings only and to return the base or dictionary form of a word, which is known as the lemma."
   ]
  },
  {
   "cell_type": "markdown",
   "metadata": {},
   "source": [
    "Luckily I've already got some stemming + lemmatized functions that we can utilise on our previous dataframe."
   ]
  },
  {
   "cell_type": "markdown",
   "metadata": {},
   "source": [
    "Firstly we'll need to install the python package called NLTK with:\n",
    "\n",
    "~~~\n",
    "pip install nltk\n",
    "~~~"
   ]
  },
  {
   "cell_type": "code",
   "execution_count": 203,
   "metadata": {},
   "outputs": [],
   "source": [
    "from nltk.util import ngrams\n",
    "from nltk.stem import PorterStemmer, LancasterStemmer\n",
    "from nltk.tokenize import sent_tokenize, word_tokenize"
   ]
  },
  {
   "cell_type": "code",
   "execution_count": 205,
   "metadata": {},
   "outputs": [],
   "source": [
    "porter=PorterStemmer()\n",
    "lancaster=LancasterStemmer()\n",
    "\n",
    "# NLP Processing\n",
    "def stem_sentence(sentence):\n",
    "    token_words=word_tokenize(sentence)\n",
    "    # token_words\n",
    "    stem_sentence=[]\n",
    "    for word in token_words:\n",
    "        stem_sentence.append(porter.stem(word))\n",
    "        stem_sentence.append(\" \")\n",
    "    return \"\".join(stem_sentence)\n",
    "\n",
    "#rejoin words after stemming\n",
    "def rejoin_words(row):\n",
    "    joined_words = ( \" \".join(row))\n",
    "    return joined_words\n",
    "\n",
    "#prepare list of all words in criteria report\n",
    "def prepare_list(df, column):\n",
    "    results = []\n",
    "    for t in df[column]:\n",
    "        x=t.split()\n",
    "        for i in x:\n",
    "            results.append(i)\n",
    "    # Remove Duplicates:           \n",
    "    return list(set(results))"
   ]
  },
  {
   "cell_type": "code",
   "execution_count": 227,
   "metadata": {},
   "outputs": [],
   "source": [
    "def test(x):\n",
    "    return x"
   ]
  },
  {
   "cell_type": "markdown",
   "metadata": {},
   "source": [
    "Now we will use an .apply() method on the dataframe, basically how this method works is that it will perform an operation on either every row, or every column. One at a time! \n",
    "\n",
    "For example, let's do a very simple method using the above function (test). Ths will simply return every row:\n",
    "\n",
    "~~~\n",
    "\n",
    "df['Keyword'].apply(test)\n",
    "\n",
    "~~~"
   ]
  },
  {
   "cell_type": "code",
   "execution_count": 228,
   "metadata": {},
   "outputs": [
    {
     "data": {
      "text/plain": [
       "0                                coast\n",
       "1                              hubspot\n",
       "2                    digital marketing\n",
       "3                              digital\n",
       "4                      content meaning\n",
       "                    ...               \n",
       "603            results through digital\n",
       "604    star digital marketing services\n",
       "610         how to market b2b services\n",
       "620           phone marketing services\n",
       "641        campaign marketing services\n",
       "Name: Keyword, Length: 602, dtype: object"
      ]
     },
     "execution_count": 228,
     "metadata": {},
     "output_type": "execute_result"
    }
   ],
   "source": [
    "df['Keyword'].apply(test)"
   ]
  },
  {
   "cell_type": "markdown",
   "metadata": {},
   "source": [
    "Now let's apply some stemming to our keyword column with an .apply() method: \n",
    "\n",
    "- Then we will save it as a new column by re-assigning it to the original dataframe with a new name."
   ]
  },
  {
   "cell_type": "code",
   "execution_count": 229,
   "metadata": {},
   "outputs": [],
   "source": [
    "df['Stemmed Keyword'] = df['Keyword'].apply(stem_sentence)"
   ]
  },
  {
   "cell_type": "code",
   "execution_count": 230,
   "metadata": {},
   "outputs": [
    {
     "data": {
      "text/html": [
       "<div>\n",
       "<style scoped>\n",
       "    .dataframe tbody tr th:only-of-type {\n",
       "        vertical-align: middle;\n",
       "    }\n",
       "\n",
       "    .dataframe tbody tr th {\n",
       "        vertical-align: top;\n",
       "    }\n",
       "\n",
       "    .dataframe thead th {\n",
       "        text-align: right;\n",
       "    }\n",
       "</style>\n",
       "<table border=\"1\" class=\"dataframe\">\n",
       "  <thead>\n",
       "    <tr style=\"text-align: right;\">\n",
       "      <th></th>\n",
       "      <th>Keyword</th>\n",
       "      <th>Country</th>\n",
       "      <th>Difficulty</th>\n",
       "      <th>Volume</th>\n",
       "      <th>CPC</th>\n",
       "      <th>Clicks</th>\n",
       "      <th>CPS</th>\n",
       "      <th>Return Rate</th>\n",
       "      <th>Parent Keyword</th>\n",
       "      <th>Last Update</th>\n",
       "      <th>SERP Features</th>\n",
       "      <th>Stemmed Keyword</th>\n",
       "    </tr>\n",
       "  </thead>\n",
       "  <tbody>\n",
       "    <tr>\n",
       "      <td>0</td>\n",
       "      <td>coast</td>\n",
       "      <td>gb</td>\n",
       "      <td>42.0</td>\n",
       "      <td>70000.0</td>\n",
       "      <td>2.5</td>\n",
       "      <td>64715.0</td>\n",
       "      <td>0.93</td>\n",
       "      <td>1.67</td>\n",
       "      <td>coast</td>\n",
       "      <td>2020-05-09 23:55:39</td>\n",
       "      <td>Sitelinks</td>\n",
       "      <td>coast</td>\n",
       "    </tr>\n",
       "    <tr>\n",
       "      <td>1</td>\n",
       "      <td>hubspot</td>\n",
       "      <td>gb</td>\n",
       "      <td>67.0</td>\n",
       "      <td>63000.0</td>\n",
       "      <td>5.0</td>\n",
       "      <td>59708.0</td>\n",
       "      <td>0.95</td>\n",
       "      <td>2.34</td>\n",
       "      <td>hubspot</td>\n",
       "      <td>2020-05-09 00:57:01</td>\n",
       "      <td>Adwords top, Sitelinks, Top stories, Thumbnail...</td>\n",
       "      <td>hubspot</td>\n",
       "    </tr>\n",
       "    <tr>\n",
       "      <td>2</td>\n",
       "      <td>digital marketing</td>\n",
       "      <td>gb</td>\n",
       "      <td>74.0</td>\n",
       "      <td>19000.0</td>\n",
       "      <td>7.0</td>\n",
       "      <td>11033.0</td>\n",
       "      <td>0.57</td>\n",
       "      <td>1.41</td>\n",
       "      <td>digital marketing</td>\n",
       "      <td>2020-05-09 07:11:09</td>\n",
       "      <td>Adwords top, Sitelinks, People also ask, Top s...</td>\n",
       "      <td>digit market</td>\n",
       "    </tr>\n",
       "    <tr>\n",
       "      <td>3</td>\n",
       "      <td>digital</td>\n",
       "      <td>gb</td>\n",
       "      <td>89.0</td>\n",
       "      <td>16000.0</td>\n",
       "      <td>2.5</td>\n",
       "      <td>5912.0</td>\n",
       "      <td>0.38</td>\n",
       "      <td>1.19</td>\n",
       "      <td>digital</td>\n",
       "      <td>2020-05-09 02:26:10</td>\n",
       "      <td>Sitelinks, People also ask, Top stories, Thumb...</td>\n",
       "      <td>digit</td>\n",
       "    </tr>\n",
       "    <tr>\n",
       "      <td>4</td>\n",
       "      <td>content meaning</td>\n",
       "      <td>gb</td>\n",
       "      <td>45.0</td>\n",
       "      <td>4400.0</td>\n",
       "      <td>17.0</td>\n",
       "      <td>622.0</td>\n",
       "      <td>0.14</td>\n",
       "      <td>1.18</td>\n",
       "      <td>content</td>\n",
       "      <td>2020-05-10 06:32:24</td>\n",
       "      <td>Knowledge card, People also ask, Top stories, ...</td>\n",
       "      <td>content mean</td>\n",
       "    </tr>\n",
       "    <tr>\n",
       "      <td>5</td>\n",
       "      <td>digital media</td>\n",
       "      <td>gb</td>\n",
       "      <td>24.0</td>\n",
       "      <td>3600.0</td>\n",
       "      <td>3.0</td>\n",
       "      <td>1671.0</td>\n",
       "      <td>0.47</td>\n",
       "      <td>1.24</td>\n",
       "      <td>digital media</td>\n",
       "      <td>2020-05-10 14:14:41</td>\n",
       "      <td>Featured snippet, Thumbnails, People also ask,...</td>\n",
       "      <td>digit media</td>\n",
       "    </tr>\n",
       "  </tbody>\n",
       "</table>\n",
       "</div>"
      ],
      "text/plain": [
       "             Keyword Country  Difficulty   Volume   CPC   Clicks   CPS  \\\n",
       "0              coast      gb        42.0  70000.0   2.5  64715.0  0.93   \n",
       "1            hubspot      gb        67.0  63000.0   5.0  59708.0  0.95   \n",
       "2  digital marketing      gb        74.0  19000.0   7.0  11033.0  0.57   \n",
       "3            digital      gb        89.0  16000.0   2.5   5912.0  0.38   \n",
       "4    content meaning      gb        45.0   4400.0  17.0    622.0  0.14   \n",
       "5      digital media      gb        24.0   3600.0   3.0   1671.0  0.47   \n",
       "\n",
       "   Return Rate     Parent Keyword          Last Update  \\\n",
       "0         1.67              coast  2020-05-09 23:55:39   \n",
       "1         2.34            hubspot  2020-05-09 00:57:01   \n",
       "2         1.41  digital marketing  2020-05-09 07:11:09   \n",
       "3         1.19            digital  2020-05-09 02:26:10   \n",
       "4         1.18            content  2020-05-10 06:32:24   \n",
       "5         1.24      digital media  2020-05-10 14:14:41   \n",
       "\n",
       "                                       SERP Features Stemmed Keyword  \n",
       "0                                          Sitelinks          coast   \n",
       "1  Adwords top, Sitelinks, Top stories, Thumbnail...        hubspot   \n",
       "2  Adwords top, Sitelinks, People also ask, Top s...   digit market   \n",
       "3  Sitelinks, People also ask, Top stories, Thumb...          digit   \n",
       "4  Knowledge card, People also ask, Top stories, ...   content mean   \n",
       "5  Featured snippet, Thumbnails, People also ask,...    digit media   "
      ]
     },
     "execution_count": 230,
     "metadata": {},
     "output_type": "execute_result"
    }
   ],
   "source": [
    "df.head(6)"
   ]
  },
  {
   "cell_type": "markdown",
   "metadata": {},
   "source": [
    "We could then use these stemmed/lemmatized keywords instead of the original keywords whilst performing de-duplication with FuzzyWuzzy!"
   ]
  },
  {
   "cell_type": "code",
   "execution_count": 233,
   "metadata": {},
   "outputs": [],
   "source": [
    "stemmed_keywords = df['Stemmed Keyword'].tolist()\n",
    "de_duplicated_stemmed_keywords = list(set(stemmed_keywords))"
   ]
  },
  {
   "cell_type": "code",
   "execution_count": 238,
   "metadata": {},
   "outputs": [],
   "source": [
    "stemmed_unique_keywords = list(process.dedupe(de_duplicated_stemmed_keywords, threshold=80))"
   ]
  },
  {
   "cell_type": "markdown",
   "metadata": {},
   "source": [
    "--------------------------------------------------------------------------------"
   ]
  },
  {
   "cell_type": "markdown",
   "metadata": {},
   "source": [
    "The below code is how you could filter the dataframe to return uniques with the .isin() function:\n",
    "\n",
    "~~~\n",
    "\n",
    "df[df['Stemmed Keyword'].isin(python_list)]\n",
    "\n",
    "~~~"
   ]
  },
  {
   "cell_type": "code",
   "execution_count": 242,
   "metadata": {},
   "outputs": [],
   "source": [
    "unique_stemmed_df = df[df['Stemmed Keyword'].isin(stemmed_unique_keywords)]"
   ]
  },
  {
   "cell_type": "markdown",
   "metadata": {},
   "source": [
    "Also you will notice that the index on the rows is not completely reset:\n",
    "\n",
    "We can reset the index with:\n",
    "\n",
    "~~~\n",
    "\n",
    "unique_stemmed_df.reset_index()\n",
    "\n",
    "~~~"
   ]
  },
  {
   "cell_type": "code",
   "execution_count": 244,
   "metadata": {},
   "outputs": [
    {
     "data": {
      "text/html": [
       "<div>\n",
       "<style scoped>\n",
       "    .dataframe tbody tr th:only-of-type {\n",
       "        vertical-align: middle;\n",
       "    }\n",
       "\n",
       "    .dataframe tbody tr th {\n",
       "        vertical-align: top;\n",
       "    }\n",
       "\n",
       "    .dataframe thead th {\n",
       "        text-align: right;\n",
       "    }\n",
       "</style>\n",
       "<table border=\"1\" class=\"dataframe\">\n",
       "  <thead>\n",
       "    <tr style=\"text-align: right;\">\n",
       "      <th></th>\n",
       "      <th>Keyword</th>\n",
       "      <th>Country</th>\n",
       "      <th>Difficulty</th>\n",
       "      <th>Volume</th>\n",
       "      <th>CPC</th>\n",
       "      <th>Clicks</th>\n",
       "      <th>CPS</th>\n",
       "      <th>Return Rate</th>\n",
       "      <th>Parent Keyword</th>\n",
       "      <th>Last Update</th>\n",
       "      <th>SERP Features</th>\n",
       "      <th>Stemmed Keyword</th>\n",
       "    </tr>\n",
       "  </thead>\n",
       "  <tbody>\n",
       "    <tr>\n",
       "      <td>1</td>\n",
       "      <td>hubspot</td>\n",
       "      <td>gb</td>\n",
       "      <td>67.0</td>\n",
       "      <td>63000.0</td>\n",
       "      <td>5.0</td>\n",
       "      <td>59708.0</td>\n",
       "      <td>0.95</td>\n",
       "      <td>2.34</td>\n",
       "      <td>hubspot</td>\n",
       "      <td>2020-05-09 00:57:01</td>\n",
       "      <td>Adwords top, Sitelinks, Top stories, Thumbnail...</td>\n",
       "      <td>hubspot</td>\n",
       "    </tr>\n",
       "    <tr>\n",
       "      <td>4</td>\n",
       "      <td>content meaning</td>\n",
       "      <td>gb</td>\n",
       "      <td>45.0</td>\n",
       "      <td>4400.0</td>\n",
       "      <td>17.0</td>\n",
       "      <td>622.0</td>\n",
       "      <td>0.14</td>\n",
       "      <td>1.18</td>\n",
       "      <td>content</td>\n",
       "      <td>2020-05-10 06:32:24</td>\n",
       "      <td>Knowledge card, People also ask, Top stories, ...</td>\n",
       "      <td>content mean</td>\n",
       "    </tr>\n",
       "    <tr>\n",
       "      <td>10</td>\n",
       "      <td>hub spot</td>\n",
       "      <td>gb</td>\n",
       "      <td>53.0</td>\n",
       "      <td>2600.0</td>\n",
       "      <td>7.0</td>\n",
       "      <td>1820.0</td>\n",
       "      <td>0.71</td>\n",
       "      <td>1.37</td>\n",
       "      <td>hubspot</td>\n",
       "      <td>2020-05-05 05:59:21</td>\n",
       "      <td>Adwords top, Sitelinks, Top stories, Thumbnail...</td>\n",
       "      <td>hub spot</td>\n",
       "    </tr>\n",
       "    <tr>\n",
       "      <td>15</td>\n",
       "      <td>climb online</td>\n",
       "      <td>gb</td>\n",
       "      <td>3.0</td>\n",
       "      <td>1300.0</td>\n",
       "      <td>0.0</td>\n",
       "      <td>1228.0</td>\n",
       "      <td>0.95</td>\n",
       "      <td>1.20</td>\n",
       "      <td>climb online</td>\n",
       "      <td>2020-05-04 21:52:16</td>\n",
       "      <td>Sitelinks, Top stories, Thumbnails</td>\n",
       "      <td>climb onlin</td>\n",
       "    </tr>\n",
       "    <tr>\n",
       "      <td>18</td>\n",
       "      <td>company meaning</td>\n",
       "      <td>gb</td>\n",
       "      <td>55.0</td>\n",
       "      <td>1200.0</td>\n",
       "      <td>0.0</td>\n",
       "      <td>158.0</td>\n",
       "      <td>0.13</td>\n",
       "      <td>1.11</td>\n",
       "      <td>مؤسسة</td>\n",
       "      <td>2020-05-08 16:52:22</td>\n",
       "      <td>Knowledge card, People also ask, Sitelinks, To...</td>\n",
       "      <td>compani mean</td>\n",
       "    </tr>\n",
       "    <tr>\n",
       "      <td>20</td>\n",
       "      <td>digital marketing strategy</td>\n",
       "      <td>gb</td>\n",
       "      <td>65.0</td>\n",
       "      <td>1200.0</td>\n",
       "      <td>9.0</td>\n",
       "      <td>1112.0</td>\n",
       "      <td>0.96</td>\n",
       "      <td>1.36</td>\n",
       "      <td>digital marketing strategy</td>\n",
       "      <td>2020-05-08 20:21:50</td>\n",
       "      <td>Featured snippet, Thumbnails, People also ask,...</td>\n",
       "      <td>digit market strategi</td>\n",
       "    </tr>\n",
       "  </tbody>\n",
       "</table>\n",
       "</div>"
      ],
      "text/plain": [
       "                       Keyword Country  Difficulty   Volume   CPC   Clicks  \\\n",
       "1                      hubspot      gb        67.0  63000.0   5.0  59708.0   \n",
       "4              content meaning      gb        45.0   4400.0  17.0    622.0   \n",
       "10                    hub spot      gb        53.0   2600.0   7.0   1820.0   \n",
       "15                climb online      gb         3.0   1300.0   0.0   1228.0   \n",
       "18             company meaning      gb        55.0   1200.0   0.0    158.0   \n",
       "20  digital marketing strategy      gb        65.0   1200.0   9.0   1112.0   \n",
       "\n",
       "     CPS  Return Rate              Parent Keyword          Last Update  \\\n",
       "1   0.95         2.34                     hubspot  2020-05-09 00:57:01   \n",
       "4   0.14         1.18                     content  2020-05-10 06:32:24   \n",
       "10  0.71         1.37                     hubspot  2020-05-05 05:59:21   \n",
       "15  0.95         1.20                climb online  2020-05-04 21:52:16   \n",
       "18  0.13         1.11                       مؤسسة  2020-05-08 16:52:22   \n",
       "20  0.96         1.36  digital marketing strategy  2020-05-08 20:21:50   \n",
       "\n",
       "                                        SERP Features         Stemmed Keyword  \n",
       "1   Adwords top, Sitelinks, Top stories, Thumbnail...                hubspot   \n",
       "4   Knowledge card, People also ask, Top stories, ...           content mean   \n",
       "10  Adwords top, Sitelinks, Top stories, Thumbnail...               hub spot   \n",
       "15                 Sitelinks, Top stories, Thumbnails            climb onlin   \n",
       "18  Knowledge card, People also ask, Sitelinks, To...           compani mean   \n",
       "20  Featured snippet, Thumbnails, People also ask,...  digit market strategi   "
      ]
     },
     "execution_count": 244,
     "metadata": {},
     "output_type": "execute_result"
    }
   ],
   "source": [
    "unique_stemmed_df.head(6)"
   ]
  },
  {
   "cell_type": "code",
   "execution_count": 248,
   "metadata": {},
   "outputs": [
    {
     "data": {
      "text/html": [
       "<div>\n",
       "<style scoped>\n",
       "    .dataframe tbody tr th:only-of-type {\n",
       "        vertical-align: middle;\n",
       "    }\n",
       "\n",
       "    .dataframe tbody tr th {\n",
       "        vertical-align: top;\n",
       "    }\n",
       "\n",
       "    .dataframe thead th {\n",
       "        text-align: right;\n",
       "    }\n",
       "</style>\n",
       "<table border=\"1\" class=\"dataframe\">\n",
       "  <thead>\n",
       "    <tr style=\"text-align: right;\">\n",
       "      <th></th>\n",
       "      <th>Keyword</th>\n",
       "      <th>Country</th>\n",
       "      <th>Difficulty</th>\n",
       "      <th>Volume</th>\n",
       "      <th>CPC</th>\n",
       "      <th>Clicks</th>\n",
       "      <th>CPS</th>\n",
       "      <th>Return Rate</th>\n",
       "      <th>Parent Keyword</th>\n",
       "      <th>Last Update</th>\n",
       "      <th>SERP Features</th>\n",
       "      <th>Stemmed Keyword</th>\n",
       "    </tr>\n",
       "  </thead>\n",
       "  <tbody>\n",
       "    <tr>\n",
       "      <td>0</td>\n",
       "      <td>hubspot</td>\n",
       "      <td>gb</td>\n",
       "      <td>67.0</td>\n",
       "      <td>63000.0</td>\n",
       "      <td>5.0</td>\n",
       "      <td>59708.0</td>\n",
       "      <td>0.95</td>\n",
       "      <td>2.34</td>\n",
       "      <td>hubspot</td>\n",
       "      <td>2020-05-09 00:57:01</td>\n",
       "      <td>Adwords top, Sitelinks, Top stories, Thumbnail...</td>\n",
       "      <td>hubspot</td>\n",
       "    </tr>\n",
       "    <tr>\n",
       "      <td>1</td>\n",
       "      <td>content meaning</td>\n",
       "      <td>gb</td>\n",
       "      <td>45.0</td>\n",
       "      <td>4400.0</td>\n",
       "      <td>17.0</td>\n",
       "      <td>622.0</td>\n",
       "      <td>0.14</td>\n",
       "      <td>1.18</td>\n",
       "      <td>content</td>\n",
       "      <td>2020-05-10 06:32:24</td>\n",
       "      <td>Knowledge card, People also ask, Top stories, ...</td>\n",
       "      <td>content mean</td>\n",
       "    </tr>\n",
       "    <tr>\n",
       "      <td>2</td>\n",
       "      <td>hub spot</td>\n",
       "      <td>gb</td>\n",
       "      <td>53.0</td>\n",
       "      <td>2600.0</td>\n",
       "      <td>7.0</td>\n",
       "      <td>1820.0</td>\n",
       "      <td>0.71</td>\n",
       "      <td>1.37</td>\n",
       "      <td>hubspot</td>\n",
       "      <td>2020-05-05 05:59:21</td>\n",
       "      <td>Adwords top, Sitelinks, Top stories, Thumbnail...</td>\n",
       "      <td>hub spot</td>\n",
       "    </tr>\n",
       "    <tr>\n",
       "      <td>3</td>\n",
       "      <td>climb online</td>\n",
       "      <td>gb</td>\n",
       "      <td>3.0</td>\n",
       "      <td>1300.0</td>\n",
       "      <td>0.0</td>\n",
       "      <td>1228.0</td>\n",
       "      <td>0.95</td>\n",
       "      <td>1.20</td>\n",
       "      <td>climb online</td>\n",
       "      <td>2020-05-04 21:52:16</td>\n",
       "      <td>Sitelinks, Top stories, Thumbnails</td>\n",
       "      <td>climb onlin</td>\n",
       "    </tr>\n",
       "    <tr>\n",
       "      <td>4</td>\n",
       "      <td>company meaning</td>\n",
       "      <td>gb</td>\n",
       "      <td>55.0</td>\n",
       "      <td>1200.0</td>\n",
       "      <td>0.0</td>\n",
       "      <td>158.0</td>\n",
       "      <td>0.13</td>\n",
       "      <td>1.11</td>\n",
       "      <td>مؤسسة</td>\n",
       "      <td>2020-05-08 16:52:22</td>\n",
       "      <td>Knowledge card, People also ask, Sitelinks, To...</td>\n",
       "      <td>compani mean</td>\n",
       "    </tr>\n",
       "    <tr>\n",
       "      <td>5</td>\n",
       "      <td>digital marketing strategy</td>\n",
       "      <td>gb</td>\n",
       "      <td>65.0</td>\n",
       "      <td>1200.0</td>\n",
       "      <td>9.0</td>\n",
       "      <td>1112.0</td>\n",
       "      <td>0.96</td>\n",
       "      <td>1.36</td>\n",
       "      <td>digital marketing strategy</td>\n",
       "      <td>2020-05-08 20:21:50</td>\n",
       "      <td>Featured snippet, Thumbnails, People also ask,...</td>\n",
       "      <td>digit market strategi</td>\n",
       "    </tr>\n",
       "  </tbody>\n",
       "</table>\n",
       "</div>"
      ],
      "text/plain": [
       "                      Keyword Country  Difficulty   Volume   CPC   Clicks  \\\n",
       "0                     hubspot      gb        67.0  63000.0   5.0  59708.0   \n",
       "1             content meaning      gb        45.0   4400.0  17.0    622.0   \n",
       "2                    hub spot      gb        53.0   2600.0   7.0   1820.0   \n",
       "3                climb online      gb         3.0   1300.0   0.0   1228.0   \n",
       "4             company meaning      gb        55.0   1200.0   0.0    158.0   \n",
       "5  digital marketing strategy      gb        65.0   1200.0   9.0   1112.0   \n",
       "\n",
       "    CPS  Return Rate              Parent Keyword          Last Update  \\\n",
       "0  0.95         2.34                     hubspot  2020-05-09 00:57:01   \n",
       "1  0.14         1.18                     content  2020-05-10 06:32:24   \n",
       "2  0.71         1.37                     hubspot  2020-05-05 05:59:21   \n",
       "3  0.95         1.20                climb online  2020-05-04 21:52:16   \n",
       "4  0.13         1.11                       مؤسسة  2020-05-08 16:52:22   \n",
       "5  0.96         1.36  digital marketing strategy  2020-05-08 20:21:50   \n",
       "\n",
       "                                       SERP Features         Stemmed Keyword  \n",
       "0  Adwords top, Sitelinks, Top stories, Thumbnail...                hubspot   \n",
       "1  Knowledge card, People also ask, Top stories, ...           content mean   \n",
       "2  Adwords top, Sitelinks, Top stories, Thumbnail...               hub spot   \n",
       "3                 Sitelinks, Top stories, Thumbnails            climb onlin   \n",
       "4  Knowledge card, People also ask, Sitelinks, To...           compani mean   \n",
       "5  Featured snippet, Thumbnails, People also ask,...  digit market strategi   "
      ]
     },
     "execution_count": 248,
     "metadata": {},
     "output_type": "execute_result"
    }
   ],
   "source": [
    "unique_stemmed_df.reset_index(drop=True, inplace=True)\n",
    "unique_stemmed_df.head(6)"
   ]
  },
  {
   "cell_type": "markdown",
   "metadata": {},
   "source": [
    "### Saving Our Final Dataframe To CSV"
   ]
  },
  {
   "cell_type": "markdown",
   "metadata": {},
   "source": [
    "After you've performed any data analysis or script, you can easily save the pandas series object or pandas dataframe to CSV with:\n",
    "\n",
    "~~~\n",
    "\n",
    "df.to_csv('name_of_file.csv', index=True)\n",
    "\n",
    "~~~"
   ]
  },
  {
   "cell_type": "code",
   "execution_count": 250,
   "metadata": {},
   "outputs": [],
   "source": [
    "unique_stemmed_df.to_csv('stemmed_dataframe.csv', index=True)"
   ]
  },
  {
   "cell_type": "markdown",
   "metadata": {},
   "source": [
    "---------------------------------------------------------"
   ]
  },
  {
   "cell_type": "markdown",
   "metadata": {},
   "source": [
    "Congratulations, you've made it to the end of the first tutorial! \n",
    "\n",
    "We've introduced you to the following frameworks:\n",
    "\n",
    "- Python Sets\n",
    "- FuzzyWuzzy\n",
    "- Pandas\n",
    "- NLP Stemming & Lemmatization"
   ]
  },
  {
   "cell_type": "markdown",
   "metadata": {},
   "source": [
    "### Its time to continue on our epic journey and to learn more scripts which will help to automate your SEO life! "
   ]
  }
 ],
 "metadata": {
  "kernelspec": {
   "display_name": "Python 3",
   "language": "python",
   "name": "python3"
  },
  "language_info": {
   "codemirror_mode": {
    "name": "ipython",
    "version": 3
   },
   "file_extension": ".py",
   "mimetype": "text/x-python",
   "name": "python",
   "nbconvert_exporter": "python",
   "pygments_lexer": "ipython3",
   "version": "3.7.4"
  }
 },
 "nbformat": 4,
 "nbformat_minor": 2
}
