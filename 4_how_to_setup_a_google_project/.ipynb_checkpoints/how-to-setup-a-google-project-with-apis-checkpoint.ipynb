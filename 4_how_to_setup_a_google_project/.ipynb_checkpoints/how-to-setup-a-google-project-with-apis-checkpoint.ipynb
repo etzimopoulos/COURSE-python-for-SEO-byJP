{
 "cells": [
  {
   "cell_type": "markdown",
   "metadata": {},
   "source": [
    "# 4. How To Setup A Google Cloud Project With APIs"
   ]
  },
  {
   "cell_type": "markdown",
   "metadata": {},
   "source": [
    "## Learning Outcomes\n",
    "\n",
    "- To learn the appropriate steps for setting up a Google Cloud Platform project.\n",
    "- To learn how to activate specific APIs which can then be accessed via a Service Account.\n",
    "- To learn the importance of hiding your .json service account keys from the internet."
   ]
  },
  {
   "cell_type": "markdown",
   "metadata": {},
   "source": [
    "This will be a short guide on how you can get started as quickly as possible using [Google Cloud Platform](https://cloud.google.com/) with some of Google's APIs."
   ]
  },
  {
   "cell_type": "markdown",
   "metadata": {},
   "source": [
    "---------------------------------------------------------------"
   ]
  },
  {
   "cell_type": "markdown",
   "metadata": {},
   "source": [
    "## Step 1 - Setup A Google Cloud Platform Account"
   ]
  },
  {
   "cell_type": "markdown",
   "metadata": {},
   "source": [
    "Firstly you will need to correctly register for a [Google Cloud Platform account](https://accounts.google.com/signin/v2/identifier?service=cloudconsole&passive=1209600&osid=1&continue=https%3A%2F%2Fconsole.cloud.google.com%2Ffreetrial%3Fref%3Dhttps%3A%2F%2Fcloud.google.com%2Fgcp%2F%3Futm_source%253Dgoogle%2526utm_medium%253Dcpc%2526utm_campaign%253Demea-gb-all-en-dr-bkws-all-all-trial-e-gcp-1008073%2526utm_content%253Dtext-ad-none-any-DEV_c-CRE_230116699671-ADGP_Hybrid%252B%25257C%252BAW%252BSEM%252B%25257C%252BBKWS%252B~%252BEXA_M%3A1_GB_EN_Cloud_General_Cloud_Gap%252BAnalysis%252B01.11.2017-KWID_43700053279216901-kwd-536515849872-userloc_9046069%2526utm_term%253DKW_google%252520cloud%252520platform%252520account-NET_g-PLAC_&followup=https%3A%2F%2Fconsole.cloud.google.com%2Ffreetrial%3Fref%3Dhttps%3A%2F%2Fcloud.google.com%2Fgcp%2F%3Futm_source%253Dgoogle%2526utm_medium%253Dcpc%2526utm_campaign%253Demea-gb-all-en-dr-bkws-all-all-trial-e-gcp-1008073%2526utm_content%253Dtext-ad-none-any-DEV_c-CRE_230116699671-ADGP_Hybrid%252B%25257C%252BAW%252BSEM%252B%25257C%252BBKWS%252B~%252BEXA_M%3A1_GB_EN_Cloud_General_Cloud_Gap%252BAnalysis%252B01.11.2017-KWID_43700053279216901-kwd-536515849872-userloc_9046069%2526utm_term%253DKW_google%252520cloud%252520platform%252520account-NET_g-PLAC_&flowName=GlifWebSignIn&flowEntry=ServiceLogin), you'll likely be able to use your existing Google account."
   ]
  },
  {
   "cell_type": "markdown",
   "metadata": {},
   "source": [
    "![how to sign into gcp](https://sempioneer.com/wp-content/uploads/2020/05/how-to-sign-in-to-google-cloud-platform.png)"
   ]
  },
  {
   "cell_type": "markdown",
   "metadata": {},
   "source": [
    "--------------------------------------------------------------------------------------------------------------"
   ]
  },
  {
   "cell_type": "markdown",
   "metadata": {},
   "source": [
    "## Step 2 - Activate Billing"
   ]
  },
  {
   "cell_type": "markdown",
   "metadata": {},
   "source": [
    "After successfully registering for a trial account you will be entitled to ~$300 free credits that you can spend within the Google Cloud Platform (GCP). However I'd recommend taking the time now to setup billing by adding a valid credit / debit card."
   ]
  },
  {
   "cell_type": "markdown",
   "metadata": {},
   "source": [
    "You can [create a Billing Account here](https://console.cloud.google.com/billing) and its worthing remembering that one billing account can be used across multiple GCP projects."
   ]
  },
  {
   "cell_type": "markdown",
   "metadata": {},
   "source": [
    "![GCP billing page](https://sempioneer.com/wp-content/uploads/2020/05/the-billing-page-for-gcp.png)"
   ]
  },
  {
   "cell_type": "markdown",
   "metadata": {},
   "source": [
    "------------------------------------------------------------------"
   ]
  },
  {
   "cell_type": "markdown",
   "metadata": {},
   "source": [
    "## Step 3 - Create A Google Cloud Platform Project"
   ]
  },
  {
   "cell_type": "markdown",
   "metadata": {},
   "source": [
    "Similarly to Google Ads campaigns, there is a hierarchy to how your Google Cloud Account is structured:"
   ]
  },
  {
   "cell_type": "markdown",
   "metadata": {},
   "source": [
    "![google cloud platform hierarchy](https://sempioneer.com/wp-content/uploads/2020/05/google-cloud-platform-hierachy.png)"
   ]
  },
  {
   "cell_type": "markdown",
   "metadata": {},
   "source": [
    "Therefore whenever you create a new project, you will need to perform the following:\n",
    "- Link your active billing account to the project.\n",
    "- Activate the relevant resources (BigQuery, App Engine, Cloud Storage) etc.\n",
    "- Turn on the relevant APIs (Google Search Console, Google Analytics) etc."
   ]
  },
  {
   "cell_type": "markdown",
   "metadata": {},
   "source": [
    " ------------------------------------------------------------------------------"
   ]
  },
  {
   "cell_type": "markdown",
   "metadata": {},
   "source": [
    "## Step 4 - Create A New GCP Project"
   ]
  },
  {
   "cell_type": "markdown",
   "metadata": {},
   "source": [
    "You can create a [new google cloud project here](https://console.cloud.google.com/projectcreate) or alternatively navigate to it within the UI, then click Create Project in the top right corner."
   ]
  },
  {
   "cell_type": "markdown",
   "metadata": {},
   "source": [
    "![](https://sempioneer.com/wp-content/uploads/2020/05/GCP-projects.png)"
   ]
  },
  {
   "cell_type": "markdown",
   "metadata": {},
   "source": [
    "------------------------------------------------------------------------------------"
   ]
  },
  {
   "cell_type": "markdown",
   "metadata": {},
   "source": [
    "For this tutorial we'll be creating a new project called Google Sheets API Test:"
   ]
  },
  {
   "cell_type": "markdown",
   "metadata": {},
   "source": [
    "--------------------------------------------------------------------------------"
   ]
  },
  {
   "cell_type": "markdown",
   "metadata": {},
   "source": [
    "![](https://sempioneer.com/wp-content/uploads/2020/05/Google-Sheets-API-Test.png)"
   ]
  },
  {
   "cell_type": "markdown",
   "metadata": {},
   "source": [
    "------------------------------------------------------------------------------------"
   ]
  },
  {
   "cell_type": "markdown",
   "metadata": {},
   "source": [
    "## Step 5 - Select The Newly Created Google Cloud Project"
   ]
  },
  {
   "cell_type": "markdown",
   "metadata": {},
   "source": [
    "When adding resources and API's its vital that you double check to make sure that you've selected the correct GCP project."
   ]
  },
  {
   "cell_type": "markdown",
   "metadata": {},
   "source": [
    "![Selecting the right project](https://sempioneer.com/wp-content/uploads/2020/05/selecting-the-right-project.png)"
   ]
  },
  {
   "cell_type": "markdown",
   "metadata": {},
   "source": [
    "------------------------------------------------------------------------"
   ]
  },
  {
   "cell_type": "markdown",
   "metadata": {},
   "source": [
    "## Step 6 - Turn On The Relevant Resources And API's For Your Project"
   ]
  },
  {
   "cell_type": "markdown",
   "metadata": {},
   "source": [
    "As we'll be using Google Sheets within the next lesson, let's navigate to the API section and turn on that specific API for this new project."
   ]
  },
  {
   "cell_type": "markdown",
   "metadata": {},
   "source": [
    "![how to setup the apis](https://sempioneer.com/wp-content/uploads/2020/05/gcp-apis-how-to-setup-1.png)"
   ]
  },
  {
   "cell_type": "markdown",
   "metadata": {},
   "source": [
    "------------------------------------------"
   ]
  },
  {
   "cell_type": "markdown",
   "metadata": {},
   "source": [
    "![Active the google cloud api](https://sempioneer.com/wp-content/uploads/2020/05/activate-google-cloud-api.png)"
   ]
  },
  {
   "cell_type": "markdown",
   "metadata": {},
   "source": [
    "------------------------------------------------------------------------"
   ]
  },
  {
   "cell_type": "markdown",
   "metadata": {},
   "source": [
    "## Step 7 - Authentication With A Service Account"
   ]
  },
  {
   "cell_type": "markdown",
   "metadata": {},
   "source": [
    "Now that we've got the google sheets API turned on, let's create a [service account](https://docs.bmc.com/docs/PATROL4GoogleCloudPlatform/10/creating-a-service-account-key-in-the-google-cloud-platform-project-799095477.html) so that you can programmatically access the resources of your google cloud project."
   ]
  },
  {
   "cell_type": "markdown",
   "metadata": {},
   "source": [
    "![authenticating with gcloud](https://sempioneer.com/wp-content/uploads/2020/05/authorization-with-google-cloud.png)"
   ]
  },
  {
   "cell_type": "markdown",
   "metadata": {},
   "source": [
    "### Create A Service Account"
   ]
  },
  {
   "cell_type": "markdown",
   "metadata": {},
   "source": [
    "![creating a google service account](https://sempioneer.com/wp-content/uploads/2020/05/Service-account.png)"
   ]
  },
  {
   "cell_type": "markdown",
   "metadata": {},
   "source": [
    "### Name Your Service Account"
   ]
  },
  {
   "cell_type": "markdown",
   "metadata": {},
   "source": [
    "![](https://sempioneer.com/wp-content/uploads/2020/05/service-account-creation-2.png)"
   ]
  },
  {
   "cell_type": "markdown",
   "metadata": {},
   "source": [
    "### Give Your Service Account Ownership + Programmatic Access"
   ]
  },
  {
   "cell_type": "markdown",
   "metadata": {},
   "source": [
    "![](https://sempioneer.com/wp-content/uploads/2020/05/service-account-setup-3.png)"
   ]
  },
  {
   "cell_type": "markdown",
   "metadata": {},
   "source": [
    "### Create a JSON Key"
   ]
  },
  {
   "cell_type": "markdown",
   "metadata": {},
   "source": [
    "Creating a .json key will allow you to easily interact with your Google Cloud Project using Python. So let's create and download the .json file:"
   ]
  },
  {
   "cell_type": "markdown",
   "metadata": {},
   "source": [
    "![](https://sempioneer.com/wp-content/uploads/2020/05/service-account-setup-4.png)"
   ]
  },
  {
   "cell_type": "markdown",
   "metadata": {},
   "source": [
    "Okay great so you should have just downloaded a .json service_account key!"
   ]
  },
  {
   "cell_type": "markdown",
   "metadata": {},
   "source": [
    "----------------------------------------------------------------------------------------------------"
   ]
  },
  {
   "cell_type": "markdown",
   "metadata": {},
   "source": [
    "If you're following along from the Python For SEO Course, please can you do the following so that the next tutorials will work:\n",
    "    \n",
    "- Rename your some_name.json key to service_account.json\n",
    "- Move the .json key into the root directory of this folder: 5_google_sheets_with_pandas"
   ]
  },
  {
   "cell_type": "markdown",
   "metadata": {},
   "source": [
    "![](https://sempioneer.com/wp-content/uploads/2020/05/example.png)"
   ]
  },
  {
   "cell_type": "markdown",
   "metadata": {},
   "source": [
    "----------------------------------------------------------------------"
   ]
  },
  {
   "cell_type": "markdown",
   "metadata": {},
   "source": [
    "<strong> Protip: </strong> You must keep your .json key safe and away from the internet. It gives anyone that accesses complete control over that Google Cloud Project.\n",
    "\n",
    "If you have forked my Github repository <strong> then please create a .gitignore file and remove the service-account.json key from your own repository! Alternatively, please keep the .json key outside of the repository and reference it throughout the course. </strong> (This is only a problem for forked/cloned Github repos and if you are just git pulling but not git pushing then there is nothing to worry about here)."
   ]
  },
  {
   "cell_type": "markdown",
   "metadata": {},
   "source": [
    "------------------------------------------------------------------------------------------------"
   ]
  },
  {
   "cell_type": "markdown",
   "metadata": {},
   "source": [
    "Now that we've got a .json key with the google sheets api activated we can now move on to reading and writing data from a live google sheet, see you in the next episode!"
   ]
  }
 ],
 "metadata": {
  "kernelspec": {
   "display_name": "Python 3",
   "language": "python",
   "name": "python3"
  },
  "language_info": {
   "codemirror_mode": {
    "name": "ipython",
    "version": 3
   },
   "file_extension": ".py",
   "mimetype": "text/x-python",
   "name": "python",
   "nbconvert_exporter": "python",
   "pygments_lexer": "ipython3",
   "version": "3.7.6"
  }
 },
 "nbformat": 4,
 "nbformat_minor": 4
}
