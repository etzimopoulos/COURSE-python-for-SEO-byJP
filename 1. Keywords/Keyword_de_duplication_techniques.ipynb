{
 "cells": [
  {
   "cell_type": "markdown",
   "metadata": {},
   "source": [
    "# 1. Keyword De-duplication + 2. Comparing Keyword Lists"
   ]
  },
  {
   "cell_type": "markdown",
   "metadata": {},
   "source": [
    "## Learning Outcomes"
   ]
  },
  {
   "cell_type": "markdown",
   "metadata": {},
   "source": [
    "- Learn how to de-duplicate keyword lists using set operations\n",
    "- Learn how to compare two lists of keywords to using set operations\n",
    "- Learn how to de-duplicate keyword lists using FuzzyWuzzy\n",
    "- Learn how to create groups of keywords using FuzzyWuzzy\n",
    "- Learn how to automatically de-duplicate + group keywords a .CSV file via Ahrefs\n",
    "- Learn how to use  <strong> .lower() </strong> to improve de-duplication\n",
    "- Learn how to use  <strong> NLP lemmmatization </strong> to improve de-duplication"
   ]
  },
  {
   "cell_type": "markdown",
   "metadata": {},
   "source": [
    "--------------------------------------------------------------------------------"
   ]
  },
  {
   "cell_type": "markdown",
   "metadata": {},
   "source": [
    "### De-duplicating Keywords With Set Operations"
   ]
  },
  {
   "cell_type": "code",
   "execution_count": 1,
   "metadata": {},
   "outputs": [],
   "source": [
    "keyword_list_example = ['digital marketing', 'digital marketing', 'digital marketing services', \n",
    "                       'copywriting', 'seo copywriting', 'social media marketing', 'social media',\n",
    "                       'digital marketing services']"
   ]
  },
  {
   "cell_type": "markdown",
   "metadata": {},
   "source": [
    "Set operations allow us to easily de-duplicate a Python list which contains exact duplicates like so:"
   ]
  },
  {
   "cell_type": "code",
   "execution_count": 5,
   "metadata": {},
   "outputs": [],
   "source": [
    "de_duplicated_set = set(keyword_list_example)"
   ]
  },
  {
   "cell_type": "markdown",
   "metadata": {},
   "source": [
    "We can also transform the set back into a Python list and re-assign it back to the original variable keyword_list_example."
   ]
  },
  {
   "cell_type": "code",
   "execution_count": 17,
   "metadata": {},
   "outputs": [],
   "source": [
    "keyword_list_example = list(de_duplicated_set)"
   ]
  },
  {
   "cell_type": "code",
   "execution_count": 19,
   "metadata": {},
   "outputs": [
    {
     "name": "stdout",
     "output_type": "stream",
     "text": [
      "['seo copywriting', 'digital marketing services', 'copywriting', 'social media', 'social media marketing', 'digital marketing']\n"
     ]
    }
   ],
   "source": [
    "print(keyword_list_example)"
   ]
  },
  {
   "cell_type": "markdown",
   "metadata": {},
   "source": [
    "The benefits of using this type of de-duplication is that it is natively supported within Python, however it doesn't allow us to capture partial matches. That's where <strong> FuzzyWuzzy comes in! </strong> "
   ]
  },
  {
   "cell_type": "markdown",
   "metadata": {},
   "source": [
    "--------------------------------------------------"
   ]
  },
  {
   "cell_type": "markdown",
   "metadata": {},
   "source": [
    "### How to Compare Two Keyword Lists With Set Operations"
   ]
  },
  {
   "cell_type": "markdown",
   "metadata": {},
   "source": [
    "We might also want to compare two keyword lists to find where there are matches between the two lists. For example if we were to take google search console data and paid search data we would like to find the following:\n",
    "    \n",
    "\n",
    "- Items that occur within both lists\n",
    "- Items that occur in list_a but not in list_b\n",
    "- Items that occur in list_b but not in list_a\n",
    "- All of the items\n",
    "- Are all of the items in list_a in list_b (boolean - True / False)?\n",
    "- Are all of the items in list_b in list_a (boolean - True / False)?\n",
    "\n",
    "Using the power of python sets we can easily find exact matches between two python lists:"
   ]
  },
  {
   "cell_type": "code",
   "execution_count": 69,
   "metadata": {},
   "outputs": [],
   "source": [
    "google_search_console_keywords = ['data science, machine learning', 'ml consulting', 'digital marketing', 'seo', \n",
    "                                  'social media', 'data science consultants', 'search engine optimisation']\n",
    "paid_search_keywords = ['data science consultants', 'digital marketing', 'seo', \n",
    "                        'search engine optimisation']"
   ]
  },
  {
   "cell_type": "markdown",
   "metadata": {},
   "source": [
    "The .intersection() functionality allows us to find keywords that appear in both lists:"
   ]
  },
  {
   "cell_type": "code",
   "execution_count": 70,
   "metadata": {},
   "outputs": [
    {
     "data": {
      "text/plain": [
       "{'data science consultants',\n",
       " 'digital marketing',\n",
       " 'search engine optimisation',\n",
       " 'seo'}"
      ]
     },
     "execution_count": 70,
     "metadata": {},
     "output_type": "execute_result"
    }
   ],
   "source": [
    "set(google_search_console_keywords).intersection(set(paid_search_keywords))"
   ]
  },
  {
   "cell_type": "markdown",
   "metadata": {},
   "source": [
    "The example below shows all of the keywords within google_search_console_keywords that are not within the paid search keywords list:"
   ]
  },
  {
   "cell_type": "code",
   "execution_count": 71,
   "metadata": {},
   "outputs": [
    {
     "data": {
      "text/plain": [
       "{'data science, machine learning', 'ml consulting', 'social media'}"
      ]
     },
     "execution_count": 71,
     "metadata": {},
     "output_type": "execute_result"
    }
   ],
   "source": [
    "set(google_search_console_keywords) - set(paid_search_keywords)"
   ]
  },
  {
   "cell_type": "markdown",
   "metadata": {},
   "source": [
    "The example below shows the exact opposite, all of the keywords that appear within the paid search keywords list that aren't in the google search console keywords list:\n"
   ]
  },
  {
   "cell_type": "code",
   "execution_count": 72,
   "metadata": {},
   "outputs": [
    {
     "data": {
      "text/plain": [
       "set()"
      ]
     },
     "execution_count": 72,
     "metadata": {},
     "output_type": "execute_result"
    }
   ],
   "source": [
    "set(paid_search_keywords) - set(google_search_console_keywords)"
   ]
  },
  {
   "cell_type": "markdown",
   "metadata": {},
   "source": [
    "We can also easily extract all of the total exact match keywords from both lists with the following set operation:"
   ]
  },
  {
   "cell_type": "code",
   "execution_count": 73,
   "metadata": {},
   "outputs": [
    {
     "data": {
      "text/plain": [
       "{'data science consultants',\n",
       " 'data science, machine learning',\n",
       " 'digital marketing',\n",
       " 'ml consulting',\n",
       " 'search engine optimisation',\n",
       " 'seo',\n",
       " 'social media'}"
      ]
     },
     "execution_count": 73,
     "metadata": {},
     "output_type": "execute_result"
    }
   ],
   "source": [
    "set(google_search_console_keywords).union(paid_search_keywords)"
   ]
  },
  {
   "cell_type": "markdown",
   "metadata": {},
   "source": [
    "The below commands allow us to search to see if all elemnents within the google_search_console keywords list are within the \n",
    "paid_search_keywords list and vice versa!"
   ]
  },
  {
   "cell_type": "code",
   "execution_count": 74,
   "metadata": {},
   "outputs": [],
   "source": [
    "all_gsc_keywords_in_paid_search = set(google_search_console_keywords).issubset(set(paid_search_keywords))\n",
    "all_paid_search_keywords_in_gsc_list = set(paid_search_keywords).issubset(set(google_search_console_keywords))"
   ]
  },
  {
   "cell_type": "code",
   "execution_count": 75,
   "metadata": {},
   "outputs": [
    {
     "name": "stdout",
     "output_type": "stream",
     "text": [
      "False True\n"
     ]
    }
   ],
   "source": [
    "print(all_gsc_keywords_in_paid_search, all_paid_search_keywords_in_gsc_list)"
   ]
  },
  {
   "cell_type": "markdown",
   "metadata": {},
   "source": [
    "------------------------------------------------------------------------------------------------------------"
   ]
  },
  {
   "cell_type": "markdown",
   "metadata": {},
   "source": [
    "### De-duplicating Keywords With [FuzzyWuzzy](https://github.com/seatgeek/fuzzywuzzy) "
   ]
  },
  {
   "cell_type": "markdown",
   "metadata": {},
   "source": [
    "So what's [fuzzywuzzy?](https://github.com/seatgeek/fuzzywuzzy) Its a string matching python package that allows us to easily calculate the difference between several strings via [Levenshtein Distance.](https://en.wikipedia.org/wiki/Levenshtein_distance)\n",
    "\n",
    "Firstly we'll need to install the python package called fuzzywuzzy with:\n",
    "\n",
    "~~~\n",
    "pip install fuzzywuzzy\n",
    "~~~\n",
    "\n",
    "---\n",
    "\n",
    "As a side-note, anytime you install python packages you will need to restart the python ikernel to use them within a Jupyter Notebook <strong> (click Kernel at the top, then click Restart & Clear Output). </strong>\n",
    "\n",
    "---\n",
    "\n",
    "One of the most useful functions from the [fuzzywuzzy package](https://github.com/seatgeek/fuzzywuzzy) is the .dedupe() function, so let's see it in action!\n"
   ]
  },
  {
   "cell_type": "code",
   "execution_count": 8,
   "metadata": {},
   "outputs": [],
   "source": [
    "from fuzzywuzzy import fuzz\n",
    "from fuzzywuzzy import process"
   ]
  },
  {
   "cell_type": "code",
   "execution_count": 21,
   "metadata": {},
   "outputs": [
    {
     "name": "stdout",
     "output_type": "stream",
     "text": [
      "dict_keys(['seo copywriting', 'digital marketing services', 'social media marketing'])\n"
     ]
    }
   ],
   "source": [
    "print(process.dedupe(keyword_list_example, threshold=70))"
   ]
  },
  {
   "cell_type": "markdown",
   "metadata": {},
   "source": [
    "What's important to notice here is that the longer phrases have been chosen as the de-duplicated keywords. Whilst this approach will provide us with a list of duplicates it does come at the cost of loosing what keywords were lost whilst doing the de-duplication.\n",
    "\n",
    "To get the original of keywords, we can take the de-duplicated dict_keys and simply transform it into a list."
   ]
  },
  {
   "cell_type": "code",
   "execution_count": 25,
   "metadata": {},
   "outputs": [
    {
     "name": "stdout",
     "output_type": "stream",
     "text": [
      "['seo copywriting', 'digital marketing services', 'social media marketing'] <class 'list'>\n"
     ]
    }
   ],
   "source": [
    "de_duplicated_keywords = list(process.dedupe(keyword_list_example, threshold=70))\n",
    "print(de_duplicated_keywords, type(de_duplicated_keywords))"
   ]
  },
  {
   "cell_type": "markdown",
   "metadata": {},
   "source": [
    "------------------------------------------------------"
   ]
  },
  {
   "cell_type": "markdown",
   "metadata": {},
   "source": [
    "Also its important to notice that there is a threshold argument which we can pass into process.dedupe:\n",
    "\n",
    "~~~\n",
    "process.dedupe(keyword_list, threshold=70)\n",
    "~~~\n",
    "\n",
    "This number can range from 0 - 100, the intuition behind it is that as the threshold increases we are only de-duplicating keywords that are more closely related to each other. Therefore if we set a low threshold, we will get more de-duplication, however it might come at the cost of quality de-duplication. "
   ]
  },
  {
   "cell_type": "markdown",
   "metadata": {},
   "source": [
    "There is a balance to using the threshold parameter and I encourage you to try different different threshold values. So let's do just that! :) \n",
    "\n",
    "We can use the following code to loop over a range of numbers (stepping up with increments of 10):\n",
    "\n",
    "~~~\n",
    "\n",
    "for i in range(10, 100, 10):\n",
    "    print(i)\n",
    "    # This will start at the number 10 and will increment in steps of 10 up to 90\n",
    "\n",
    "~~~"
   ]
  },
  {
   "cell_type": "code",
   "execution_count": 27,
   "metadata": {},
   "outputs": [],
   "source": [
    "threhold_dictionary = {}"
   ]
  },
  {
   "cell_type": "code",
   "execution_count": 39,
   "metadata": {},
   "outputs": [
    {
     "name": "stdout",
     "output_type": "stream",
     "text": [
      "This is the current threhold value: 10\n",
      "This is the current threhold value: 20\n",
      "This is the current threhold value: 30\n",
      "This is the current threhold value: 40\n",
      "This is the current threhold value: 50\n",
      "This is the current threhold value: 60\n",
      "This is the current threhold value: 70\n",
      "This is the current threhold value: 80\n",
      "This is the current threhold value: 90\n"
     ]
    }
   ],
   "source": [
    "for i in range(10, 100, 10):\n",
    "    # Increasing the number of steps from 10 --> 90 by 10 at a time:\n",
    "    print(f\"This is the current threhold value: {i}\")\n",
    "    # Performing the de-duplication\n",
    "    de_duplicated_items = process.dedupe(keyword_list_example, threshold=i)\n",
    "    # Storing the de-duplicated items\n",
    "    threhold_dictionary[i] = list(de_duplicated_items)"
   ]
  },
  {
   "cell_type": "code",
   "execution_count": 76,
   "metadata": {},
   "outputs": [
    {
     "name": "stdout",
     "output_type": "stream",
     "text": [
      "{10: ['digital marketing services'], 20: ['digital marketing services'], 30: ['digital marketing services', 'digital marketing'], 40: ['social media marketing', 'digital marketing services', 'seo copywriting'], 50: ['seo copywriting', 'digital marketing services', 'social media marketing'], 60: ['seo copywriting', 'digital marketing services', 'social media marketing'], 70: ['seo copywriting', 'digital marketing services', 'social media marketing'], 80: ['seo copywriting', 'digital marketing services', 'social media marketing'], 90: ['seo copywriting', 'digital marketing services', 'social media marketing']}\n"
     ]
    }
   ],
   "source": [
    "print(threhold_dictionary)"
   ]
  },
  {
   "cell_type": "markdown",
   "metadata": {},
   "source": [
    "---------------------------------------------------------------"
   ]
  },
  {
   "cell_type": "markdown",
   "metadata": {},
   "source": [
    "### Grouping de-dupicated keywords with FuzzyWuzzy"
   ]
  },
  {
   "cell_type": "markdown",
   "metadata": {},
   "source": [
    "As well as de-duplicating lists of keywords, it would also be useful to keep all of the keywords but bucket them into keyword groups based upon how close every keyword was as a duplicate in reference to every keyword."
   ]
  },
  {
   "cell_type": "code",
   "execution_count": null,
   "metadata": {},
   "outputs": [],
   "source": []
  },
  {
   "cell_type": "code",
   "execution_count": null,
   "metadata": {},
   "outputs": [],
   "source": []
  },
  {
   "cell_type": "code",
   "execution_count": null,
   "metadata": {},
   "outputs": [],
   "source": []
  },
  {
   "cell_type": "code",
   "execution_count": null,
   "metadata": {},
   "outputs": [],
   "source": []
  },
  {
   "cell_type": "code",
   "execution_count": null,
   "metadata": {},
   "outputs": [],
   "source": []
  },
  {
   "cell_type": "code",
   "execution_count": null,
   "metadata": {},
   "outputs": [],
   "source": []
  },
  {
   "cell_type": "markdown",
   "metadata": {},
   "source": [
    "------------------------------------------------------------------------------------------------------------"
   ]
  },
  {
   "cell_type": "code",
   "execution_count": null,
   "metadata": {},
   "outputs": [],
   "source": []
  }
 ],
 "metadata": {
  "kernelspec": {
   "display_name": "Python 3",
   "language": "python",
   "name": "python3"
  },
  "language_info": {
   "codemirror_mode": {
    "name": "ipython",
    "version": 3
   },
   "file_extension": ".py",
   "mimetype": "text/x-python",
   "name": "python",
   "nbconvert_exporter": "python",
   "pygments_lexer": "ipython3",
   "version": "3.7.4"
  }
 },
 "nbformat": 4,
 "nbformat_minor": 2
}
