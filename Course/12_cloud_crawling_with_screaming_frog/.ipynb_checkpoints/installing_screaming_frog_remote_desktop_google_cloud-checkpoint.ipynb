{
 "cells": [
  {
   "cell_type": "markdown",
   "metadata": {},
   "source": [
    "# 10. How To Install Screaming Frog In The Cloud - Remote Desktop Version"
   ]
  },
  {
   "cell_type": "markdown",
   "metadata": {},
   "source": [
    "------------------------------------------------"
   ]
  },
  {
   "cell_type": "markdown",
   "metadata": {},
   "source": [
    "## Learning Outcomes\n",
    "\n",
    "- Learn to how to setup a linux environment with remote desktop on Google Cloud Platform\n",
    "- Learn how to connect into your linux environment with remote desktop\n",
    "- Learn how to run a screaming frog crawl in the cloud"
   ]
  },
  {
   "cell_type": "markdown",
   "metadata": {},
   "source": [
    "------------------------------------------------------"
   ]
  },
  {
   "cell_type": "markdown",
   "metadata": {},
   "source": [
    "As websites and web applications grow larger, often crawling it to investigate technical SEO issues can be too much for your local computer to handle. [James Finlayson](https://twitter.com/JamesFinlayson) came up with a great idea. \n",
    "\n",
    "<strong>\"Why don't we just put screaming frog on the cloud?\" </strong>\n",
    "\n",
    "---\n",
    "\n",
    "This guide will help you easily setup Screaming Frog on a virtual machine instance on Google Cloud Platform. We will also setup a remote desktop and a graphical interface in order to see the Screaming Frog GUI.\n",
    "\n",
    "Let's get to it."
   ]
  },
  {
   "cell_type": "markdown",
   "metadata": {},
   "source": [
    "--------------------------------------------------------------------------------------------------------------------------------------------"
   ]
  },
  {
   "cell_type": "markdown",
   "metadata": {},
   "source": [
    "## Setup A Google Cloud Project"
   ]
  },
  {
   "cell_type": "markdown",
   "metadata": {},
   "source": [
    "Firstly, you'll need to have registered for a Google Cloud Platform account, then create a Google Cloud Project. If you need help with the setup, [you can refer to this guide.](https://sempioneer.com/python-for-seo/how-to-setup-a-google-cloud-project-with-apis/)"
   ]
  },
  {
   "cell_type": "markdown",
   "metadata": {},
   "source": [
    "--------------------------------------------------------------------------------------------------------------------------------------------"
   ]
  },
  {
   "cell_type": "markdown",
   "metadata": {},
   "source": [
    "## Enable A Virtual Machine "
   ]
  },
  {
   "cell_type": "markdown",
   "metadata": {},
   "source": [
    "![](https://sempioneer.com/wp-content/uploads/2020/06/setup-instructions.png)"
   ]
  },
  {
   "cell_type": "markdown",
   "metadata": {},
   "source": [
    "Click on the hamburger menu in the top left, then find the Compute Engine and Click on VM Instances. If this is the first time that you've setup a compute instance for this Google Project, you'll likely need to wait several minutes. Then click create!"
   ]
  },
  {
   "cell_type": "markdown",
   "metadata": {},
   "source": [
    "![waiting for compute engine in GCP](https://sempioneer.com/wp-content/uploads/2020/06/waiting-for-setup.png)"
   ]
  },
  {
   "cell_type": "markdown",
   "metadata": {},
   "source": [
    "#### Reference Articles + Research:"
   ]
  },
  {
   "cell_type": "markdown",
   "metadata": {},
   "source": [
    "- https://www.vervesearch.com/blog/running-screaming-frog-on-googles-own-servers/\n",
    "- https://www.databulle.com/blog/seo/screaming-frog-headless.html\n",
    "- https://seobutler.com/badass-seo-automate-screaming-frog/\n",
    "- let's try importing a virtual disk - https://cloud.google.com/compute/docs/import/import-existing-image"
   ]
  },
  {
   "cell_type": "markdown",
   "metadata": {},
   "source": [
    "---------------------------------------------------------------------------------------------------------"
   ]
  },
  {
   "cell_type": "markdown",
   "metadata": {},
   "source": [
    "## Setting Up Your Virtual Machine"
   ]
  },
  {
   "cell_type": "markdown",
   "metadata": {},
   "source": [
    "- Click on the create button to make your virtual machine.\n",
    "- Also rename your machine to be called: <strong> screaming-frog-crawler </strong>"
   ]
  },
  {
   "cell_type": "markdown",
   "metadata": {},
   "source": [
    "![](https://sempioneer.com/wp-content/uploads/2020/06/renaming-virtual-instance-.png)"
   ]
  },
  {
   "cell_type": "markdown",
   "metadata": {},
   "source": [
    "----------------------------------------------------------------"
   ]
  },
  {
   "cell_type": "markdown",
   "metadata": {},
   "source": [
    "--------------------------------------------------------------------------------------------------------------------"
   ]
  },
  {
   "cell_type": "markdown",
   "metadata": {},
   "source": [
    "![](https://sempioneer.com/wp-content/uploads/2020/06/setting-up-a-virtual-machine-on-Google-Cloud-Platform.png)"
   ]
  },
  {
   "cell_type": "markdown",
   "metadata": {},
   "source": [
    "Then click the create button at the bottom of the screen."
   ]
  },
  {
   "cell_type": "markdown",
   "metadata": {},
   "source": [
    "-------------------------------------------------------"
   ]
  },
  {
   "cell_type": "markdown",
   "metadata": {},
   "source": [
    "### SSH'ing Into Your Virtual Machine"
   ]
  },
  {
   "cell_type": "markdown",
   "metadata": {},
   "source": [
    "After your virtual machine has finished setting up, click on the SSH button. This will create a browser SSH session with the virtual machine. It will take 1 - 2.5 minutes to connect so please be patient."
   ]
  },
  {
   "cell_type": "markdown",
   "metadata": {},
   "source": [
    "![sshing into the machine](https://sempioneer.com/wp-content/uploads/2020/06/ssh.png)"
   ]
  },
  {
   "cell_type": "markdown",
   "metadata": {},
   "source": [
    "------------------------------------------------------------------------"
   ]
  },
  {
   "cell_type": "markdown",
   "metadata": {},
   "source": [
    "![waiting for ssh session](https://sempioneer.com/wp-content/uploads/2020/06/connecting-to-google-cloud-virtual-machine.png)"
   ]
  },
  {
   "cell_type": "markdown",
   "metadata": {},
   "source": [
    "------------------------------------------------------------------------------------"
   ]
  },
  {
   "cell_type": "markdown",
   "metadata": {},
   "source": [
    "------------------------------------------------------"
   ]
  },
  {
   "cell_type": "markdown",
   "metadata": {},
   "source": [
    "### Upgrading & Installing On The Virtual Machine (VM)"
   ]
  },
  {
   "cell_type": "markdown",
   "metadata": {},
   "source": [
    "![ssh success](https://sempioneer.com/wp-content/uploads/2020/06/ssh-success.png)"
   ]
  },
  {
   "cell_type": "markdown",
   "metadata": {},
   "source": [
    "Now that you are inside the VM, copy and paste the entire code block of commands in one go into your browser based terminal."
   ]
  },
  {
   "cell_type": "markdown",
   "metadata": {},
   "source": [
    "These scripts will perform the following actions: "
   ]
  },
  {
   "cell_type": "markdown",
   "metadata": {},
   "source": [
    "- Upgrading The System.\n",
    "- Installing Google Chrome & Package Dependencies.\n",
    "- Installing Screaming Frog.\n",
    "- Installing Ubuntu Desktop & The vncserver Package."
   ]
  },
  {
   "cell_type": "markdown",
   "metadata": {},
   "source": [
    "-----------------------------------------------------------------------------"
   ]
  },
  {
   "cell_type": "markdown",
   "metadata": {},
   "source": [
    "### ☕  Copy And Paste All Of These Scripts In One Go, Then Grab A Coffee! ☕ "
   ]
  },
  {
   "cell_type": "code",
   "execution_count": 5,
   "metadata": {
    "collapsed": true
   },
   "outputs": [
    {
     "ename": "SyntaxError",
     "evalue": "invalid syntax (<ipython-input-5-b156bfc568e3>, line 2)",
     "output_type": "error",
     "traceback": [
      "\u001b[0;36m  File \u001b[0;32m\"<ipython-input-5-b156bfc568e3>\"\u001b[0;36m, line \u001b[0;32m2\u001b[0m\n\u001b[0;31m    sudo apt-get update; \\\u001b[0m\n\u001b[0m           ^\u001b[0m\n\u001b[0;31mSyntaxError\u001b[0m\u001b[0;31m:\u001b[0m invalid syntax\n"
     ]
    }
   ],
   "source": [
    "# Upgrading the system; \\\n",
    "sudo apt-get update; \\\n",
    "yes y | sudo apt-get upgrade; \\\n",
    "yes y | sudo apt-get install wget; \\\n",
    "\\\n",
    "# Installing Google Chrome & Package Dependencies; \\\n",
    "yes y | wget https://dl.google.com/linux/direct/google-chrome-stable_current_amd64.deb; \\ \n",
    "yes y | sudo apt --fix-broken install ./google-chrome-stable_current_amd64.deb; \\\n",
    "yes y | sudo apt-get install cabextract xfonts-utils; \\ \n",
    "yes y | wget http://ftp.de.debian.org/debian/pool/contrib/m/msttcorefonts/ttf-mscorefonts-installer_3.6_all.deb; \\ \n",
    "yes y | sudo dpkg -i ttf-mscorefonts-installer_3.6_all.deb; \\\n",
    "yes y | sudo apt-get install xdg-utils zenity libgconf-2-4 fonts-wqy-zenhei;  \\\n",
    "\\\n",
    "# Installing Screaming Frog; \\\n",
    "yes y | wget https://download.screamingfrog.co.uk/products/seo-spider/screamingfrogseospider_12.6_all.deb; \\\n",
    "yes y | sudo apt --fix-broken install ./screamingfrogseospider_12.6_all.deb; \\\n",
    "\\\n",
    "# Installing Ubuntu Desktop & The vncserver Package; \\\n",
    "yes y | sudo apt-get install gnome-panel gnome-settings-daemon metacity nautilus gnome-terminal; \\\n",
    "yes y | sudo apt --fix-broken install tightvncserver;"
   ]
  },
  {
   "cell_type": "markdown",
   "metadata": {},
   "source": [
    "Note: Remember to hit <strong> enter on the last tightvncserver installation too! </strong>"
   ]
  },
  {
   "cell_type": "markdown",
   "metadata": {},
   "source": [
    "--------------------------------------------------------------------------------"
   ]
  },
  {
   "cell_type": "markdown",
   "metadata": {},
   "source": [
    "## Modify The Start Up vncserver Script"
   ]
  },
  {
   "cell_type": "markdown",
   "metadata": {},
   "source": [
    "In your browser SSH enter the following two commands: <strong> (You will need to enter a password and skip the view only password here) </strong>"
   ]
  },
  {
   "cell_type": "markdown",
   "metadata": {},
   "source": [
    "- vncserver && vncserver -kill :1 "
   ]
  },
  {
   "cell_type": "markdown",
   "metadata": {},
   "source": [
    "Basically what we're doing with the above script is just creating a VNC server, then deleting it so that the start-up script is generated."
   ]
  },
  {
   "cell_type": "markdown",
   "metadata": {},
   "source": [
    "----------------------------------------------------------------"
   ]
  },
  {
   "cell_type": "markdown",
   "metadata": {},
   "source": [
    "- nano ~/.vnc/xstartup"
   ]
  },
  {
   "cell_type": "markdown",
   "metadata": {},
   "source": [
    "------------------------------------------------------------------------"
   ]
  },
  {
   "cell_type": "markdown",
   "metadata": {},
   "source": [
    "We'll create custom start-up script using the Nano text editor:\n",
    "    \n",
    "~~~\n",
    "nano ~/.vnc/xstartup\n",
    "~~~"
   ]
  },
  {
   "cell_type": "markdown",
   "metadata": {},
   "source": [
    "Then add the lines at the bottom of your ~/.vnc/xstartup script, and hit CTRL + X to save it."
   ]
  },
  {
   "cell_type": "markdown",
   "metadata": {},
   "source": [
    "~~~\n",
    "\n",
    "gnome-panel &\n",
    "gnome-settings-daemon\n",
    "\n",
    "~~~"
   ]
  },
  {
   "cell_type": "markdown",
   "metadata": {},
   "source": [
    "![vncserver setup script](https://sempioneer.com/wp-content/uploads/2020/06/vncserver-setup.png)"
   ]
  },
  {
   "cell_type": "markdown",
   "metadata": {},
   "source": [
    "------------------------------------------------------------------------------------------"
   ]
  },
  {
   "cell_type": "markdown",
   "metadata": {},
   "source": [
    "### Start The vncserver:\n",
    "\n",
    "- To start a VNC session, enter the command: <strong> vncserver </strong> \n",
    "- You will be asked to create a new vnc password.\n",
    "- I would recommend <strong> skipping the view only password. </strong>"
   ]
  },
  {
   "cell_type": "markdown",
   "metadata": {},
   "source": [
    "------------------------------------------------------"
   ]
  },
  {
   "cell_type": "markdown",
   "metadata": {},
   "source": [
    "## Install Google Cloud Software Development Kit (SDK)"
   ]
  },
  {
   "cell_type": "markdown",
   "metadata": {},
   "source": [
    "![](https://sempioneer.com/wp-content/uploads/2020/06/google-cloud-sdk.png)"
   ]
  },
  {
   "cell_type": "markdown",
   "metadata": {},
   "source": [
    "----------------------------------------------------------------------"
   ]
  },
  {
   "cell_type": "markdown",
   "metadata": {},
   "source": [
    "You will need to install the [Google Cloud Software Development (SDK) Kit](https://cloud.google.com/sdk) on your local machine. This provides you with a command line interface for accessing and controlling your Google Cloud Platform resources."
   ]
  },
  {
   "cell_type": "markdown",
   "metadata": {},
   "source": [
    "Make sure you have Python 3x installed on your computer. If you haven't installed Python, follow this [tutorial on how to install Python Anaconda.](https://understandingdata.com/how-to-install-anaconda-mac-os/)"
   ]
  },
  {
   "cell_type": "markdown",
   "metadata": {},
   "source": [
    "-----------------------------------------------------------------------------"
   ]
  },
  {
   "cell_type": "markdown",
   "metadata": {},
   "source": [
    "### Mac "
   ]
  },
  {
   "cell_type": "markdown",
   "metadata": {},
   "source": [
    "\n",
    "1.  https://cloud.google.com/sdk/docs/quickstart-macos Download either the 32bit or 64bit version.\n",
    "2.  Extract the archive to any location on your file system; preferably, your home directory. On macOS, this can be achieved by opening the downloaded .tar.gz archive file in the preferred location.\n",
    "\n",
    "---\n",
    "3.  Run the following shell script:\n",
    "~~~\n",
    "./google-cloud-sdk/install.sh\n",
    "~~~\n",
    "\n",
    "---\n",
    "\n",
    "- Navigate to your terminal and then type:\n",
    "\n",
    "~~~\n",
    "\n",
    "cd ~ && nano .bash_profile\n",
    "\n",
    "~~~\n",
    "\n",
    "Then copy and paste following this code at the bottom and hit CTRL + X to and type y to save it.\n",
    "\n",
    "~~~\n",
    "\n",
    "export PATH=/Users/jamesaphoenix/.local/bin:$PATH\n",
    "\n",
    "~~~\n",
    "\n",
    "(You will need to replace jamesaphoenix with your current username, which you easily find by doing: pwd)"
   ]
  },
  {
   "cell_type": "markdown",
   "metadata": {},
   "source": [
    "![](https://sempioneer.com/wp-content/uploads/2020/06/bash_profile.png)"
   ]
  },
  {
   "cell_type": "markdown",
   "metadata": {},
   "source": [
    "Note: If you're using a newer Mac, then you'll be using a zsh shell. So please also export the same PATH in the following file:\n",
    "        \n",
    "~~~\n",
    "\n",
    "cd ~; nano .zshrc\n",
    "\n",
    "~~~\n"
   ]
  },
  {
   "cell_type": "markdown",
   "metadata": {},
   "source": [
    "------------------------------------------------------------------------------------------------"
   ]
  },
  {
   "cell_type": "markdown",
   "metadata": {},
   "source": [
    "### Windows"
   ]
  },
  {
   "cell_type": "markdown",
   "metadata": {},
   "source": [
    "1. Download the [Google Cloud SDK installer]()\n",
    "2. Launch the installer and follow the prompts.\n",
    "3. After installation has completed, the installer presents several options. Make sure that the following are selected:\n",
    "    - Start Google Cloud SDK Shell\n",
    "    - Run 'gcloud init'"
   ]
  },
  {
   "cell_type": "markdown",
   "metadata": {},
   "source": [
    "--------------------------------------------------------------------------------"
   ]
  },
  {
   "cell_type": "markdown",
   "metadata": {},
   "source": [
    "Now go to either your terminal or command prompt and type:\n",
    "\n",
    "~~~\n",
    "\n",
    "gcloud init\n",
    "gcloud login\n",
    "\n",
    "~~~"
   ]
  },
  {
   "cell_type": "markdown",
   "metadata": {},
   "source": [
    "------------------------------------------"
   ]
  },
  {
   "cell_type": "markdown",
   "metadata": {},
   "source": [
    "## Create an SSH Tunnel + Remote Desktop Server On The Same Port"
   ]
  },
  {
   "cell_type": "markdown",
   "metadata": {},
   "source": [
    "In order to access the remote desktop which is currently running a vncserver on port 5901 by default, we will need to create an SSH tunnel.\n",
    "\n",
    "Make sure to gather all of the relevant information:\n",
    "    \n",
    "- Google Cloud Platform Project ID\n",
    "- Zone (This is the instance that you registered the virtual machine in)\n",
    "- The Name of Your Instance (which we called screaming-frog-crawler)\n",
    "\n",
    "---"
   ]
  },
  {
   "cell_type": "markdown",
   "metadata": {},
   "source": [
    "<strong> gcloud compute ssh insertvirtualinstanncenamehere --project=insertprojectidhere --zone=insertzoneidhere –ssh-flag “-5901:localhost:5901″ </strong>"
   ]
  },
  {
   "cell_type": "markdown",
   "metadata": {},
   "source": [
    "--------------------------------------------------------------------------------------------"
   ]
  },
  {
   "cell_type": "markdown",
   "metadata": {},
   "source": [
    "For example my command looks like this:\n",
    "\n",
    "~~~\n",
    "\n",
    "gcloud compute ssh screaming-frog-crawler --project=savvy-motif-278215 --zone=us-central1-a --ssh-flag \"-L 5901:localhost:5901\"\n",
    "\n",
    "~~~"
   ]
  },
  {
   "cell_type": "markdown",
   "metadata": {},
   "source": [
    "------------------------------------------------------------------------------------------------------------------------"
   ]
  },
  {
   "cell_type": "markdown",
   "metadata": {},
   "source": [
    "## Installing Remote Desktop Software On Your Local Computer (VNCViewer)"
   ]
  },
  {
   "cell_type": "markdown",
   "metadata": {},
   "source": [
    "Now that you have the following two things running:\n",
    "    \n",
    "- A vncserver on the virtual machine on port 5901\n",
    "- An SSH tunnel which is listening to all of the traffic on the virutal machine and forwarding it over to your localhost port 5901.\n",
    "\n",
    "We can setup a remote desktop session.\n",
    "\n",
    "---\n",
    "\n",
    "1. Download [RealVNC's Viewer](https://www.realvnc.com/en/connect/download/viewer/)\n",
    "2. After the installation has finished, click on File --> New connection. Then enter: 127.0.01:5901 as the VNC server name it appropriately."
   ]
  },
  {
   "cell_type": "markdown",
   "metadata": {},
   "source": [
    "![setting up VNCviewer with an SSH tunnel](https://sempioneer.com/wp-content/uploads/2020/06/setting-up-VNC-viewer.png)"
   ]
  },
  {
   "cell_type": "markdown",
   "metadata": {},
   "source": [
    "3. Then a window will hopefully open and you'll be able to see your linux remote desktop."
   ]
  },
  {
   "cell_type": "markdown",
   "metadata": {},
   "source": [
    "--------------------------------------------------------------------------------------------------------------------------------------------"
   ]
  },
  {
   "cell_type": "markdown",
   "metadata": {},
   "source": [
    "## Connect To Your Virtual Machine Via Remote Desktop"
   ]
  },
  {
   "cell_type": "markdown",
   "metadata": {},
   "source": [
    "After connecting to your remote desktop, click on applications in the top left --> Internet, then you'll see Screaming Frog!"
   ]
  },
  {
   "cell_type": "markdown",
   "metadata": {},
   "source": [
    "![](https://sempioneer.com/wp-content/uploads/2020/06/Screaming-Frog.png)"
   ]
  },
  {
   "cell_type": "markdown",
   "metadata": {},
   "source": [
    "Now you can run your Screaming Frog crawls in the Cloud instead of on your local computer!\n",
    "\n",
    "--- \n",
    "\n",
    "<strong> Key Things To Remember: </strong>\n",
    "\n",
    "- Always stop your virtual machines when you're finished with them as they cost money whilst you run them.\n",
    "- Always remember to check that your vncserver and SSH tunnel ports are exactly the same.\n",
    "- The vncserver password is limited to 8 characters, so if you entered in a lengthy password, please rememeber to make a note of the 8 character version."
   ]
  },
  {
   "cell_type": "markdown",
   "metadata": {},
   "source": [
    "-----------------------------------------------------------------"
   ]
  },
  {
   "cell_type": "markdown",
   "metadata": {},
   "source": [
    "### Common Errors:\n",
    "    \n",
    "    \n",
    "<strong>[channel 3: open failed: connect failed: Connection refused](https://stackoverflow.com/questions/18705453/ssh-l-connection-successful-but-localhost-port-forwarding-not-working-channel) </strong>: \n",
    "\n",
    "    - When you connect to port 8783 on your local system, that connection is tunneled through your ssh link to the ssh server on server.com. From there, the ssh server makes TCP connection to localhost port 8783 and relays data between the tunneled connection and the connection to target of the tunnel.\n",
    "\n",
    "    - The \"connection refused\" error is coming from the ssh server on server.com when it tries to make the TCP connection to the target of the tunnel. \"Connection refused\" means that a connection attempt was rejected. The simplest explanation for the rejection is that, on server.com, there's nothing listening for connections on localhost port 8783. In other words, the server software that you were trying to tunnel to isn't running, or else it is running but it's not listening on that port.\n",
    "<strong> connection refused on the VNC remote viewer </strong>: You will need to double check that you're SSH tunnel and vncserver are the same (i.e 5901 and 5901). If you launch multiple vncservers, then the port number will increase by 1 (i.e. 5901 --> 5902 --> 5903). Therefore double check that you're only running on vncserver!"
   ]
  },
  {
   "cell_type": "markdown",
   "metadata": {},
   "source": [
    "-------------------------------------------------------------------------------------------------------------------------------------------------------------------------------"
   ]
  }
 ],
 "metadata": {
  "kernelspec": {
   "display_name": "Python 3",
   "language": "python",
   "name": "python3"
  },
  "language_info": {
   "codemirror_mode": {
    "name": "ipython",
    "version": 3
   },
   "file_extension": ".py",
   "mimetype": "text/x-python",
   "name": "python",
   "nbconvert_exporter": "python",
   "pygments_lexer": "ipython3",
   "version": "3.7.6"
  }
 },
 "nbformat": 4,
 "nbformat_minor": 4
}
