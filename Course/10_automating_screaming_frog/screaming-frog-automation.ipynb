{
 "cells": [
  {
   "cell_type": "markdown",
   "metadata": {},
   "source": [
    "# 10. The Comprehensive Guide To Automating Screaming Frog"
   ]
  },
  {
   "cell_type": "markdown",
   "metadata": {},
   "source": [
    "------------------------------------------------"
   ]
  },
  {
   "cell_type": "markdown",
   "metadata": {},
   "source": [
    "## Learning Outcomes\n",
    "\n",
    "- To learn how to run Screaming Frog using the command line for Mac & Windows."
   ]
  },
  {
   "cell_type": "markdown",
   "metadata": {},
   "source": [
    "------------------------------------------------------"
   ]
  },
  {
   "cell_type": "markdown",
   "metadata": {},
   "source": [
    "[Screaming Frog (SF)](https://www.screamingfrog.co.uk/seo-spider/) is a fantastic desktop crawler that's available for Windows, Mac and Linux. \n",
    "\n",
    "![screaming frog image](https://sempioneer.com/wp-content/uploads/2020/06/screaming-frog-template.png)\n",
    "\n",
    "----\n",
    "\n",
    "This tutorial is separated across <strong> multiple blog posts: </strong>\n",
    "\n",
    "You'll learn not only how to easily automate SF crawls, but also how to automatically wrangle the .csv data using Python.\n",
    "\n",
    "Then we'll <strong> create a data pipeline which will push all of the data into BigQuery to view it in Google Data Studio.</strong>\n",
    "\n",
    "---\n",
    "\n",
    "Finally, we'll step up the automation and upload our scripts to a Google Cloud virtual machine:\n",
    "- The virtual machine will turn on every day at a specific time.\n",
    "- Several python scripts will automatically execute and will perform the following: \n",
    "    - A list of domains from a .txt file / via environment variables will be sequentially crawled.\n",
    "    - We'll wrangle the data and save it to BigQuery.\n",
    "- Then the virtual machine will shut down after all of the domains have either completed or failed.\n",
    "- The daily data will then be available via Google Data Studio.\n",
    "---"
   ]
  },
  {
   "cell_type": "markdown",
   "metadata": {},
   "source": [
    "--------------------------------------------------------------------------------------------------------------------------------"
   ]
  },
  {
   "cell_type": "markdown",
   "metadata": {},
   "source": [
    "In this blog post, you'll learn <strong> how to automate screaming frog with the command line! </strong>\n",
    "\n",
    "![](https://media.giphy.com/media/5fkzHxGP920Ra/giphy.gif)"
   ]
  },
  {
   "cell_type": "markdown",
   "metadata": {},
   "source": [
    "------------------------------------------------------------------------------"
   ]
  },
  {
   "cell_type": "markdown",
   "metadata": {},
   "source": [
    "## The Command Line"
   ]
  },
  {
   "cell_type": "markdown",
   "metadata": {},
   "source": [
    "Many daily acitivites such as opening/closing programs or requesting a web page can be completely automated via the [command line.](https://www.codecademy.com/articles/command-line-commands#:~:text=The%20command%20line%20is%20a,or%20Finder%20on%20Mac%20OS.)\n",
    "\n",
    "If you'd like a detailed overview of the different types of commands you can use on your computer, I'd recommend viewing these guides:\n",
    "\n",
    "---\n",
    "\n",
    "- [Mac/Linux Udemy Course](https://www.udemy.com/course/mac-os-x-command-line-beyond-the-basics-d/)\n",
    "- [Mac/Linux Cheatsheet](https://cheatography.com/davechild/cheat-sheets/linux-command-line/)\n",
    "- [Windows Udemy Course](https://www.udemy.com/topic/windows-command-line/)\n",
    "- [Windows Command Prompt Cheatsheet](https://www.sans.org/security-resources/sec560/windows_command_line_sheet_v1.pdf)\n"
   ]
  },
  {
   "cell_type": "markdown",
   "metadata": {},
   "source": [
    "-------------------------------------------------------------------------------------------------------------------"
   ]
  },
  {
   "cell_type": "markdown",
   "metadata": {},
   "source": [
    "## Part 1 - Screaming Frog CLI"
   ]
  },
  {
   "cell_type": "markdown",
   "metadata": {},
   "source": [
    "<a id='mac-section'></a>\n",
    "### Mac"
   ]
  },
  {
   "cell_type": "markdown",
   "metadata": {},
   "source": [
    "This part of the tutorial is only for Mac OSX users, therefore if you're using Windows, [visit the Windows section instead here.](#windows-section)"
   ]
  },
  {
   "cell_type": "markdown",
   "metadata": {},
   "source": [
    "#### Opening Terminal"
   ]
  },
  {
   "cell_type": "markdown",
   "metadata": {},
   "source": [
    "Firstly you will need to open terminal which can be done by the following commands:\n",
    "    \n",
    "- ⌘ Cmd + Space\n",
    "- Type terminal\n",
    "- Press enter"
   ]
  },
  {
   "cell_type": "markdown",
   "metadata": {},
   "source": [
    "----------------"
   ]
  },
  {
   "cell_type": "markdown",
   "metadata": {},
   "source": [
    "![terminal loading here](https://sempioneer.com/wp-content/uploads/2020/06/loading-macosx-terminal-1.png)"
   ]
  },
  {
   "cell_type": "markdown",
   "metadata": {},
   "source": [
    "----------------------------"
   ]
  },
  {
   "cell_type": "markdown",
   "metadata": {},
   "source": [
    "![mac os x terminal loaded](https://sempioneer.com/wp-content/uploads/2020/06/macosx-terminal-start-1.png)"
   ]
  },
  {
   "cell_type": "markdown",
   "metadata": {},
   "source": [
    "#### Useful Linux Commands:"
   ]
  },
  {
   "cell_type": "markdown",
   "metadata": {},
   "source": [
    "Several useful commands include:\n",
    "- <strong> cd </strong> ~ (cd allows you to change directory)\n",
    "- <strong> pwd </strong> (pwd prints your current working directory)\n",
    "- <strong> mkdir </strong> folder (mkdir allows you to create folders)\n",
    "- <strong> clear </strong> (clear removes any previous text from your terminal)"
   ]
  },
  {
   "cell_type": "markdown",
   "metadata": {},
   "source": [
    "--------------------------------------------------------------------------------------------------------------"
   ]
  },
  {
   "cell_type": "markdown",
   "metadata": {},
   "source": [
    "#### How To Open Screaming Frog With The Terminal"
   ]
  },
  {
   "cell_type": "markdown",
   "metadata": {},
   "source": [
    "Assuming that Screaming Frog is installed in the default location, you can run Screaming Frog with:\n",
    "    \n",
    "~~~\n",
    "\n",
    "/Applications/Screaming\\ Frog\\ SEO\\ Spider.app/Contents/MacOS/ScreamingFrogSEOSpiderLauncher\n",
    "\n",
    "~~~"
   ]
  },
  {
   "cell_type": "markdown",
   "metadata": {},
   "source": [
    "------------------------------------------------------------------------------------------------------------"
   ]
  },
  {
   "cell_type": "markdown",
   "metadata": {},
   "source": [
    "#### How To Create An Alias In Terminal"
   ]
  },
  {
   "cell_type": "markdown",
   "metadata": {},
   "source": [
    "Now let's create a shortcut for the command that we just ran, this is called an [alias](https://linuxize.com/post/how-to-create-bash-aliases/). \n",
    "\n",
    "All of your alias' need to be created inside of either:\n",
    "    \n",
    "~~~\n",
    " \n",
    "~/.bash_profile (Older Mac Terminals)\n",
    "~/.zshrc (Newer Mac Terminals)\n",
    "\n",
    "~~~"
   ]
  },
  {
   "cell_type": "markdown",
   "metadata": {},
   "source": [
    "----------------------------------------------------------------------"
   ]
  },
  {
   "cell_type": "markdown",
   "metadata": {},
   "source": [
    "<strong> NB: You can easily find out whether you're on a new Mac terminal with: </strong>\n",
    "\n",
    "~~~\n",
    "\n",
    "which $SHELL\n",
    "    \n",
    "~~~\n",
    "\n",
    "---\n",
    "\n",
    "If it says <strong> /bin/zsh, then you will need to update the .zsrc file </strong> instead."
   ]
  },
  {
   "cell_type": "markdown",
   "metadata": {},
   "source": [
    "You can edit this file with either:\n",
    "~~~    \n",
    "cd ~ && sudo nano .bash_profile (Older Mac Terminals)\n",
    "cd ~ && sudo nano .zshrc (Newer Mac Terminals)\n",
    "~~~"
   ]
  },
  {
   "cell_type": "markdown",
   "metadata": {},
   "source": [
    "------------------------------------------------------"
   ]
  },
  {
   "cell_type": "markdown",
   "metadata": {},
   "source": [
    "We'll create an alias called <strong>sf </strong> that will automatically run the Screaming Frog Application.\n",
    "\n",
    "Add the following to either your .bash_profile or .zsrc file:\n",
    "\n",
    "~~~\n",
    "\n",
    "alias sf=\"/Applications/Screaming\\ Frog\\ SEO\\ Spider.app/Contents/MacOS/ScreamingFrogSEOSpiderLauncher\"\n",
    "\n",
    "~~~"
   ]
  },
  {
   "cell_type": "markdown",
   "metadata": {},
   "source": [
    "![](https://sempioneer.com/wp-content/uploads/2020/06/creating-alias-sf.png)"
   ]
  },
  {
   "cell_type": "markdown",
   "metadata": {},
   "source": [
    "--------------------------------------------------------"
   ]
  },
  {
   "cell_type": "markdown",
   "metadata": {},
   "source": [
    "Then hit:\n",
    "    \n",
    "~~~\n",
    "\n",
    "CTRL + X (to save the file)\n",
    "Enter\n",
    "\n",
    "~~~"
   ]
  },
  {
   "cell_type": "markdown",
   "metadata": {},
   "source": [
    "![](https://sempioneer.com/wp-content/uploads/2020/06/confirming-alias-sf.png)"
   ]
  },
  {
   "cell_type": "markdown",
   "metadata": {},
   "source": [
    "------------------------------------------------------------------"
   ]
  },
  {
   "cell_type": "markdown",
   "metadata": {},
   "source": [
    "Now close your terminal and reload it using:\n",
    "- ⌘ Cmd + Space\n",
    "- Type terminal\n",
    "- Press enter"
   ]
  },
  {
   "cell_type": "markdown",
   "metadata": {},
   "source": [
    "---------------------------------------------------------------------------------"
   ]
  },
  {
   "cell_type": "markdown",
   "metadata": {},
   "source": [
    "Now type:\n",
    "    \n",
    "~~~\n",
    "\n",
    "sf\n",
    "\n",
    "~~~"
   ]
  },
  {
   "cell_type": "markdown",
   "metadata": {},
   "source": [
    "![](https://sempioneer.com/wp-content/uploads/2020/06/screaming-frog-alias.png)"
   ]
  },
  {
   "cell_type": "markdown",
   "metadata": {},
   "source": [
    "As you can see, we've now successfully created a shortcut for loading Screaming Frog."
   ]
  },
  {
   "cell_type": "markdown",
   "metadata": {},
   "source": [
    "![screaming frog opened from command line](https://sempioneer.com/wp-content/uploads/2020/06/screaming-frog-desktop.png)"
   ]
  },
  {
   "cell_type": "markdown",
   "metadata": {},
   "source": [
    "--------------------------------------------------------"
   ]
  },
  {
   "cell_type": "markdown",
   "metadata": {},
   "source": [
    "#### How To See All Of The Commands:"
   ]
  },
  {
   "cell_type": "markdown",
   "metadata": {},
   "source": [
    "You can easily get a list of all of the available commands with:\n",
    "    \n",
    "~~~\n",
    "\n",
    "sf --help\n",
    "\n",
    "~~~"
   ]
  },
  {
   "cell_type": "markdown",
   "metadata": {},
   "source": [
    "-------------------------------------------------------------------------------------------------------------------"
   ]
  },
  {
   "cell_type": "markdown",
   "metadata": {},
   "source": [
    "#### How To Run A Crawl"
   ]
  },
  {
   "cell_type": "markdown",
   "metadata": {},
   "source": [
    "If you want to open Screaming Frog and crawl a website use this:\n",
    "\n",
    "~~~\n",
    "\n",
    "sf --crawl <url_name>\n",
    "\n",
    "~~~"
   ]
  },
  {
   "cell_type": "markdown",
   "metadata": {},
   "source": [
    "For example if you wanted to crawl https://sempioneer.com:\n",
    "    \n",
    "~~~\n",
    "\n",
    "sf --crawl https://sempioneer.com\n",
    "\n",
    "~~~"
   ]
  },
  {
   "cell_type": "markdown",
   "metadata": {},
   "source": [
    "You can use any URL or domain name that you'd like and the above commands will:\n",
    "\n",
    "- Open your Screaming Frog Application.\n",
    "- Crawl the desired domain."
   ]
  },
  {
   "cell_type": "markdown",
   "metadata": {},
   "source": [
    "------------------------------------------------------------------------------------------------------------"
   ]
  },
  {
   "cell_type": "markdown",
   "metadata": {},
   "source": [
    "#### How To Run Screaming Frog Headless (Without A Graphical User Interface)"
   ]
  },
  {
   "cell_type": "markdown",
   "metadata": {},
   "source": [
    "It's possible for us to execute Screaming Frog without a graphical user interface, by adding <strong>--headless</strong>:\n",
    "\n",
    "~~~\n",
    "\n",
    "sf --headless --crawl <url>\n",
    "\n",
    "\n",
    "~~~\n",
    "\n",
    "Additionally we can save the crawl by adding <strong> --save-crawl:</strong>\n",
    "\n",
    "\n",
    "~~~\n",
    "\n",
    "sf --headless --save-crawl --crawl <url> \n",
    "\n",
    "~~~\n",
    "\n",
    "---\n",
    "\n",
    "<strong> NB: You will need to [purchase a license](https://www.screamingfrog.co.uk/seo-spider/licence/) for executing Screaming Frog with the --save-crawl functionality. </strong>"
   ]
  },
  {
   "cell_type": "markdown",
   "metadata": {},
   "source": [
    "An example would be:\n",
    "    \n",
    "~~~\n",
    "\n",
    "sf --headless --save-crawl --crawl https://phoenixandpartners.co.uk/\n",
    "\n",
    "~~~"
   ]
  },
  {
   "cell_type": "markdown",
   "metadata": {},
   "source": [
    "------------------------------------------------------------------------------------------------------------"
   ]
  },
  {
   "cell_type": "markdown",
   "metadata": {},
   "source": [
    "### How To Export Data"
   ]
  },
  {
   "cell_type": "markdown",
   "metadata": {},
   "source": [
    "Instead of saving a crawl, we'll export the data to a specific folder by adding two extra arguments:\n",
    "\n",
    "~~~\n",
    "\n",
    "--output-folder (This argument allows us to specify a folder where you would like to export the crawl data).\n",
    "--timestamped-output (This argument will save the file under a time-stamped folder and as every file is saved as crawl.seospider, adding a timestamp prevents a conflict or overwriting an existing file).\n",
    "\n",
    "~~~"
   ]
  },
  {
   "cell_type": "markdown",
   "metadata": {},
   "source": [
    "------------------------------------"
   ]
  },
  {
   "cell_type": "markdown",
   "metadata": {},
   "source": [
    "1. Locate your username by typing <strong> pwd </strong> in Terminal and excluding the $. For example my username is: jamesaphoenix\n",
    "    \n"
   ]
  },
  {
   "cell_type": "markdown",
   "metadata": {},
   "source": [
    "![](https://sempioneer.com/wp-content/uploads/2020/06/finding-user-name.png)"
   ]
  },
  {
   "cell_type": "markdown",
   "metadata": {},
   "source": [
    "2. Go back to either your .bash_profile file or .zshrc file and create a new alias:\n",
    "\n",
    "\n",
    "~~~\n",
    "cd ~ && sudo nano .bash_profile (Older Mac Terminals)\n",
    "cd ~ && sudo nano .zshrc (Newer Mac Terminals)\n",
    "~~~\n",
    "\n",
    "---\n",
    "\n",
    "Then add the following alias to the bottom of your file:\n",
    "\n",
    "~~~\n",
    "alias sf-headless=\"/Applications/Screaming\\ Frog\\ SEO\\ Spider.app/Contents/MacOS/ScreamingFrogSEOSpiderLauncher --headless --save-crawl --output-folder /users/{username}/desktop --timestamped-output --crawl\"\n",
    "~~~\n",
    "\n",
    "---\n",
    "\n",
    "Please remember to replace <strong> {username} </strong> with your true username!"
   ]
  },
  {
   "cell_type": "markdown",
   "metadata": {},
   "source": [
    "------------------------------------------------------------------------"
   ]
  },
  {
   "cell_type": "markdown",
   "metadata": {},
   "source": [
    "Save your file and load up a new Terminal window and enter:\n",
    "    \n",
    "~~~\n",
    "\n",
    "sf-headless example.org\n",
    "\n",
    "\n",
    "~~~"
   ]
  },
  {
   "cell_type": "markdown",
   "metadata": {},
   "source": [
    "You'll hopefully have a time-stamped folder on your desktop and inside of that folder, you'll see a file called crawl.seospider"
   ]
  },
  {
   "cell_type": "markdown",
   "metadata": {},
   "source": [
    "------------------------------------------------------"
   ]
  },
  {
   "cell_type": "markdown",
   "metadata": {},
   "source": [
    "![](https://sempioneer.com/wp-content/uploads/2020/06/folder-.png)"
   ]
  },
  {
   "cell_type": "markdown",
   "metadata": {},
   "source": [
    "------------------------------------------------------"
   ]
  },
  {
   "cell_type": "markdown",
   "metadata": {},
   "source": [
    "![](https://sempioneer.com/wp-content/uploads/2020/06/seo-spider.png)"
   ]
  },
  {
   "cell_type": "markdown",
   "metadata": {},
   "source": [
    "--------------------------------------------------"
   ]
  },
  {
   "cell_type": "markdown",
   "metadata": {},
   "source": [
    "#### How To Export A Single Tab"
   ]
  },
  {
   "cell_type": "markdown",
   "metadata": {},
   "source": [
    "As well as doing a crawl, its possible to automatically extract the .csv files."
   ]
  },
  {
   "cell_type": "markdown",
   "metadata": {},
   "source": [
    "You can export tabs, which are these:\n",
    "    \n",
    "![](https://sempioneer.com/wp-content/uploads/2020/06/tabs.png)\n"
   ]
  },
  {
   "cell_type": "markdown",
   "metadata": {},
   "source": [
    "For example if we wanted to crawl the website and export a .csv file with all of the images without alt text, we would do the following:\n",
    "\n",
    "~~~\n",
    "sf --crawl <url> --output-folder /users/{username}/desktop/sf --export-tabs \"Images:Missing Alt Text\" --headless\n",
    "~~~"
   ]
  },
  {
   "cell_type": "markdown",
   "metadata": {},
   "source": [
    "---------------------------------------------------------------------------------------------------------"
   ]
  },
  {
   "cell_type": "markdown",
   "metadata": {},
   "source": [
    "The snytax for exporting from tabs follows a generic structure:"
   ]
  },
  {
   "cell_type": "markdown",
   "metadata": {},
   "source": [
    "~~~\n",
    "\n",
    "--export-tabs \"tab-parent:tab-child\"\n",
    "\n",
    "~~~"
   ]
  },
  {
   "cell_type": "markdown",
   "metadata": {},
   "source": [
    "--------------------------------------------------------------------------------"
   ]
  },
  {
   "cell_type": "markdown",
   "metadata": {},
   "source": [
    "#### How To Export Multiple Tabs"
   ]
  },
  {
   "cell_type": "markdown",
   "metadata": {},
   "source": [
    "You can also export multiple files at once by simplying separating them by a comma:\n",
    "    \n",
    "~~~\n",
    "\n",
    "\"parent1:child1,parent2:child2,parent3:child3\"\n",
    "\n",
    "~~~"
   ]
  },
  {
   "cell_type": "markdown",
   "metadata": {},
   "source": [
    "In order to see the parent:child relationships for the tabs, simply look at how they nested inside of the right panel of Screaming Frog:\n",
    "        "
   ]
  },
  {
   "cell_type": "markdown",
   "metadata": {},
   "source": [
    "![](https://sempioneer.com/wp-content/uploads/2020/06/meta-description-tab.png)"
   ]
  },
  {
   "cell_type": "markdown",
   "metadata": {},
   "source": [
    "-------------------------------------------------"
   ]
  },
  {
   "cell_type": "markdown",
   "metadata": {},
   "source": [
    "![](https://sempioneer.com/wp-content/uploads/2020/06/page-titles-tab.png)"
   ]
  },
  {
   "cell_type": "markdown",
   "metadata": {},
   "source": [
    "------------------------"
   ]
  },
  {
   "cell_type": "markdown",
   "metadata": {},
   "source": [
    "Let's simulataneously extract <strong> duplicated title tags, missing title tags and meta descriptions:</strong>\n",
    "\n",
    "~~~\n",
    "sf --crawl <url> --timestamped-output --output-folder /users/{username}/Desktop --export-tabs \"Page Titles:Duplicate,Page Titles:Missing,Meta Description:Missing\" --headless\n",
    "\n",
    "~~~\n",
    "\n",
    "--- \n",
    "\n",
    "For example my desired URL + username is phoenixandpartners.co.uk + jamesaphoenix:\n",
    "\n",
    "~~~\n",
    "sf --crawl phoenixandpartners.co.uk --timestamped-output --output-folder /users/jamesaphoenix/Desktop --export-tabs \"Page Titles:Duplicate,Page Titles:Missing,Meta Description:Missing\" --headless\n",
    "~~~\n",
    "\n",
    "---\n",
    "\n",
    "![](https://sempioneer.com/wp-content/uploads/2020/06/exporting-multiple-tabs-with-screaming-frog-cli.png)"
   ]
  },
  {
   "cell_type": "markdown",
   "metadata": {},
   "source": [
    "------------------------------------------------------------------------"
   ]
  },
  {
   "cell_type": "markdown",
   "metadata": {},
   "source": [
    "#### How To Export Reports"
   ]
  },
  {
   "cell_type": "markdown",
   "metadata": {},
   "source": [
    "Also you can export reports:\n",
    "\n",
    "![](https://sempioneer.com/wp-content/uploads/2020/06/exporting-screaming-frog-reports.png)"
   ]
  },
  {
   "cell_type": "markdown",
   "metadata": {},
   "source": [
    "The syntax is similar and uses the <strong>parent:child</strong> structure, however <strong> if there is no child then only the parent name is required. </strong>"
   ]
  },
  {
   "cell_type": "markdown",
   "metadata": {},
   "source": [
    "Here's an example where only the parent level is required:\n",
    "\n",
    "~~~\n",
    "sf --crawl <url> --timestamped-output --output-folder /users/{username}/desktop --save-report \"Redirect & Canonical Chains\" --headless\n",
    "\n",
    "~~~\n",
    "---\n",
    "Here's an example where the parent:child structure is required:\n",
    "~~~\n",
    "sf --crawl <url> --timestamped-output --output-folder /users/{username}/desktop --save-report \"Redirects:All Redirects\" --headless\n",
    "~~~\n",
    "\n",
    "--- \n"
   ]
  },
  {
   "cell_type": "markdown",
   "metadata": {},
   "source": [
    "![](https://sempioneer.com/wp-content/uploads/2020/06/all-redirects.png)"
   ]
  },
  {
   "cell_type": "markdown",
   "metadata": {},
   "source": [
    "------------------------------------------------------------------------------------"
   ]
  },
  {
   "cell_type": "markdown",
   "metadata": {},
   "source": [
    "#### How To Perform Bulk Exports"
   ]
  },
  {
   "cell_type": "markdown",
   "metadata": {},
   "source": [
    "We can also extract the bulk exports too! \n",
    "\n",
    "![](https://sempioneer.com/wp-content/uploads/2020/06/bulk-export.png)\n",
    "\n",
    "An example where only a <strong> parent level is required: </strong>\n",
    "\n",
    "~~~\n",
    "\n",
    "sf --crawl <url> --timestamped-output --output-folder /users/{username}/Desktop --bulk-export \"All Images\" --headless\n",
    "\n",
    "~~~\n",
    "\n",
    "---\n",
    "\n",
    "An example where the <strong> parent:child structure is required:</strong>\n",
    "\n",
    "~~~\n",
    "\n",
    "sf --crawl <url> --timestamped-output --output-folder /users/{username}/Desktop --bulk-export \"AMP:All Inlinks\" --headless\n",
    "\n",
    "~~~"
   ]
  },
  {
   "cell_type": "markdown",
   "metadata": {},
   "source": [
    "------------------------------------------------------------------------------------------------------------------------------"
   ]
  },
  {
   "cell_type": "markdown",
   "metadata": {},
   "source": [
    "#### How To Create A Sitemap"
   ]
  },
  {
   "cell_type": "markdown",
   "metadata": {},
   "source": [
    "If you're using a content management system such as [Wordpress](https://wordpress.com/), then I'd recommend using a plugin such as [Yoast](https://yoast.com/wordpress/plugins/seo/) / [TheSEOFramework](https://theseoframework.com/) / [RankMath](https://rankmath.com/) to automatically build your sitemap.xml files.\n",
    "\n",
    "However if you're working with a headless CMS or a static website, you can automatically create sitemaps with [Screaming Frog:](https://www.screamingfrog.co.uk/)\n",
    "\n",
    "~~~\n",
    "\n",
    "sf --crawl <url> --create-sitemap --output-folder /users/{username}/desktop --headless\n",
    "\n",
    "~~~"
   ]
  },
  {
   "cell_type": "markdown",
   "metadata": {},
   "source": [
    "![](https://sempioneer.com/wp-content/uploads/2020/06/sitemap_xml.png)"
   ]
  },
  {
   "cell_type": "markdown",
   "metadata": {},
   "source": [
    "------------------------------------------------------------------------------------------------------------------------------"
   ]
  },
  {
   "cell_type": "markdown",
   "metadata": {},
   "source": [
    "#### How To Create Configuration Files"
   ]
  },
  {
   "cell_type": "markdown",
   "metadata": {},
   "source": [
    "Configuration files allow you to tune the crawl speed, choose specific user agents, crawl or not crawl specific pages and many more features!\n",
    "\n",
    "After changing the configuration inside of Screaming Frog, <strong> you can save it as a configuration file. </strong>\n",
    "\n",
    "We can then apply that configuration file to a headless terminal screaming frog crawl via the terminal.\n",
    "\n",
    "---\n",
    "\n",
    "\n",
    "Create Your Config File:\n",
    "\n",
    "First open up Screaming Frog and go to Configuration > Spider > Extraction > Structured Data:\n",
    "\n",
    "Then tick the following checkboxes:\n",
    "\n",
    "- JSON-LD\n",
    "- Microdata\n",
    "- RDFa\n",
    "\n",
    "---\n",
    "\n",
    "![](https://sempioneer.com/wp-content/uploads/2020/06/creating-a-configuration-file.png)\n"
   ]
  },
  {
   "cell_type": "markdown",
   "metadata": {},
   "source": [
    "<strong> Click OK. </strong>\n",
    "\n",
    "Then you'll need to save the configuration file by:\n",
    "\n",
    "<strong> File > Configuration > Save As </strong>\n",
    "\n",
    "I will choose to call my file custom_crawl.seospiderconfig\n",
    "\n",
    "Make sure to save it under a new folder in your desktop called <strong> config </strong>"
   ]
  },
  {
   "cell_type": "markdown",
   "metadata": {},
   "source": [
    "![](https://sempioneer.com/wp-content/uploads/2020/06/screaming-frog-config-save.png)"
   ]
  },
  {
   "cell_type": "markdown",
   "metadata": {},
   "source": [
    "------------------------------------------"
   ]
  },
  {
   "cell_type": "markdown",
   "metadata": {},
   "source": [
    "#### How To Crawl With A Config File"
   ]
  },
  {
   "cell_type": "markdown",
   "metadata": {},
   "source": [
    "Let's crawl the example site with our newly created configuration file:\n",
    "\n",
    "~~~\n",
    "sf --crawl <url> --config /users/{username}/desktop/config/{configname}.seospiderconfig --output-folder /users/{username}/desktop --save-report \"Redirect & Canonical Chains\" --headless\n",
    "\n",
    "~~~\n",
    "\n",
    "---\n",
    "\n",
    "So in my example it would be:\n",
    "~~~\n",
    "sf --crawl https://phoenixandpartners.co.uk/ --config /users/jamesaphoenix/desktop/config/custom_crawl.seospiderconfig --output-folder /users/jamesaphoenix/desktop --save-report \"Redirect & Canonical Chains\" --headless\n",
    "~~~"
   ]
  },
  {
   "cell_type": "markdown",
   "metadata": {},
   "source": [
    "------------------------------------------------------------------------------------------------------------------------------"
   ]
  },
  {
   "cell_type": "markdown",
   "metadata": {},
   "source": [
    "#### How To Crawl Text Files"
   ]
  },
  {
   "cell_type": "markdown",
   "metadata": {},
   "source": [
    "It's possible to run Screaming Frog in list mode via the terminal.\n",
    "\n",
    "Simply create a .txt file with a list of URLs that you'd like to crawl. \n",
    "\n",
    "These can be from a single website or many websites. Save this .txt to your desktop:"
   ]
  },
  {
   "cell_type": "markdown",
   "metadata": {},
   "source": [
    "The extra argument used here is <strong> --crawl-list </strong> like so:"
   ]
  },
  {
   "cell_type": "markdown",
   "metadata": {},
   "source": [
    "~~~\n",
    "sf --export-tabs \"Response Codes:Client Error (4xx)\" --output-folder /users/{username}/desktop --headless --crawl-list /users/{username}/desktop/{filename}.txt\n",
    "~~~\n",
    "\n",
    "---\n",
    "\n",
    "My example looks like this:\n",
    "\n",
    "~~~\n",
    "sf --export-tabs \"Response Codes:Client Error (4xx)\" --output-folder /users/jamesaphoenix/desktop --headless --crawl-list /users/jamesaphoenix/desktop/urlstocrawl.txt\n",
    "~~~\n",
    "\n",
    "---"
   ]
  },
  {
   "cell_type": "markdown",
   "metadata": {},
   "source": [
    "We've finished the Mac section, I hope that this post provides you with a good overview on how to get started with automating Screaming Frog.\n",
    "\n",
    "Automation is powerful and I encourage you to practice your new found super powers!\n",
    "\n",
    "In the next post, you'll learn how to automatically wrangle your Screaming Frog data with [Python](https://www.python.org/) + [Pandas.](https://pandas.pydata.org/)."
   ]
  },
  {
   "cell_type": "markdown",
   "metadata": {},
   "source": [
    "------------------------------------------------------------------------------------------------------------------------------"
   ]
  },
  {
   "cell_type": "markdown",
   "metadata": {},
   "source": [
    "<a id='windows-section'></a>\n",
    "### Windows"
   ]
  },
  {
   "cell_type": "markdown",
   "metadata": {},
   "source": [
    "This section of the post is for Windows Users, if you're using a [Mac, click here.](#mac-section)"
   ]
  },
  {
   "cell_type": "markdown",
   "metadata": {},
   "source": [
    "------------------------------------------------------------------------------------------------------------"
   ]
  },
  {
   "cell_type": "markdown",
   "metadata": {},
   "source": [
    "### How To use The Command Prompt"
   ]
  },
  {
   "cell_type": "markdown",
   "metadata": {},
   "source": [
    "Firstly type in your Windows search bar <strong> Command Prompt </strong>:"
   ]
  },
  {
   "cell_type": "markdown",
   "metadata": {},
   "source": [
    "![](https://sempioneer.com/wp-content/uploads/2020/06/search-command-propm.png)"
   ]
  },
  {
   "cell_type": "markdown",
   "metadata": {},
   "source": [
    "After opening your Command Prompt it should look similar to this:"
   ]
  },
  {
   "cell_type": "markdown",
   "metadata": {},
   "source": [
    "![Command Prompt example image here](https://sempioneer.com/wp-content/uploads/2020/06/command-prompt-example.png)"
   ]
  },
  {
   "cell_type": "markdown",
   "metadata": {},
   "source": [
    "--------------------------------------------------------"
   ]
  },
  {
   "cell_type": "markdown",
   "metadata": {},
   "source": [
    "Now that your command prompt is running type <strong> start . </strong> and hit <strong> enter </strong>"
   ]
  },
  {
   "cell_type": "markdown",
   "metadata": {},
   "source": [
    "![](https://sempioneer.com/wp-content/uploads/2020/06/desktop.png)"
   ]
  },
  {
   "cell_type": "markdown",
   "metadata": {},
   "source": [
    "---------------------------------------------------------------------------"
   ]
  },
  {
   "cell_type": "markdown",
   "metadata": {},
   "source": [
    "#### Creating Shortcuts In Windows"
   ]
  },
  {
   "cell_type": "markdown",
   "metadata": {},
   "source": [
    "We'll create shortcuts that you can run via command crompt to automate Screaming Frog! \n",
    "\n",
    "Let's store all of these shortcuts in a folder on our desktop.\n",
    "\n",
    "Additionally we'll create a shortcut that will navigate to this specific shortcuts folder! "
   ]
  },
  {
   "cell_type": "markdown",
   "metadata": {},
   "source": [
    "-------------------------"
   ]
  },
  {
   "cell_type": "markdown",
   "metadata": {},
   "source": [
    "- Create a new folder on your desktop called <strong> screaming-frog-commands </strong>\n",
    "- Go to your desktop, right click and then select Shortcut."
   ]
  },
  {
   "cell_type": "markdown",
   "metadata": {},
   "source": [
    "![](https://sempioneer.com/wp-content/uploads/2020/06/how-to-create-shortcuts-in-windows.png)"
   ]
  },
  {
   "cell_type": "markdown",
   "metadata": {},
   "source": [
    "-----------------------------------------------------------------"
   ]
  },
  {
   "cell_type": "markdown",
   "metadata": {},
   "source": [
    "This will open a new window:\n",
    "    \n",
    "    \n",
    "![how to create shortcuts in windows 10](https://sempioneer.com/wp-content/uploads/2020/06/shortcuts-windows-10.png)"
   ]
  },
  {
   "cell_type": "markdown",
   "metadata": {},
   "source": [
    "Change the following command so that the {username} is replaced with your actual username:\n",
    "\n",
    "~~~\n",
    "\n",
    "\"C:\\Windows\\System32\\cmd.exe\" /k cd \"C:\\Users\\{username}\\screaming-frog-commands\"\n",
    "\n",
    "~~~"
   ]
  },
  {
   "cell_type": "markdown",
   "metadata": {},
   "source": [
    "Then enter the command inside of the <strong> Type the location of the item </strong>, click next and save the shortcut as <strong> sf </strong>\n",
    "\n",
    "An icon will have been saved onto your desktop.\n",
    "\n",
    "---\n",
    "\n",
    "\n",
    "![screaming frog shortcut for windows](https://sempioneer.com/wp-content/uploads/2020/06/screaming-frog-shortcut.png)\n",
    "\n",
    "\n",
    "\n",
    "After you click the icon, the shortcut that you entered above will be executed which will:\n",
    "\n",
    "- Open command prompt.\n",
    "- Navigate to the screaming-frog-commands folder on your desktop."
   ]
  },
  {
   "cell_type": "markdown",
   "metadata": {},
   "source": [
    "------------------------------------------------------------------"
   ]
  },
  {
   "cell_type": "markdown",
   "metadata": {},
   "source": [
    "![screaming frog shortcuts](https://sempioneer.com/wp-content/uploads/2020/06/screaming-frog-windows-shortcut.png)"
   ]
  },
  {
   "cell_type": "markdown",
   "metadata": {},
   "source": [
    "--------------------------------------------------------------------------------------------------------------------------------"
   ]
  },
  {
   "cell_type": "markdown",
   "metadata": {},
   "source": [
    "#### How To Open Screaming Frog"
   ]
  },
  {
   "cell_type": "markdown",
   "metadata": {},
   "source": [
    "Next we need to figure out whether you're using a 32bit or 64bit version of Windows. \n",
    "\n",
    "Try to run the 32-bit version in Command Prompt:\n",
    "\n",
    "~~~\n",
    "cd \"C:\\Program Files\\Screaming Frog SEO Spider\"\n",
    "~~~\n",
    "\n",
    "---\n",
    "\n",
    "If you receive this message “The system cannot find the path specified”, then you'll need to use the 64-bit command:\n",
    "\n",
    "~~~\n",
    "\n",
    "cd \"C:\\Program Files (x86)\\Screaming Frog SEO Spider\"\n",
    "\n",
    "~~~"
   ]
  },
  {
   "cell_type": "markdown",
   "metadata": {},
   "source": [
    "------------------------------------------------------------"
   ]
  },
  {
   "cell_type": "markdown",
   "metadata": {},
   "source": [
    "To open Screaming Frog from your current working directory, type <strong>ScreamingFrogSEOSpiderCli.exe </strong>\n",
    "\n",
    "Hopefully you'll now have just opened Screaming Frog from the command line 🥰!"
   ]
  },
  {
   "cell_type": "markdown",
   "metadata": {},
   "source": [
    "------------------------------------------------"
   ]
  },
  {
   "cell_type": "markdown",
   "metadata": {},
   "source": [
    "Close your Command Prompt and open the <strong> sf </strong> shortcut that we created earlier on. Then open this directory in the file explorer with:\n",
    "    \n",
    "\n",
    "~~~\n",
    "\n",
    "start .\n",
    "\n",
    "~~~\n",
    "\n",
    "---\n",
    "\n",
    "\n",
    "From this folder, let's create a new command line shortcut to speed up the process:\n",
    "\n",
    "\n",
    "~~~\n",
    "\n",
    "\"C:\\Windows\\System32\\cmd.exe\" /k cd \"C:\\Program Files (x86)\\Screaming Frog SEO Spider\" & ScreamingFrogSEOSpiderCli.exe\n",
    "\n",
    "~~~\n",
    "\n",
    "---\n",
    "\n",
    "NB: If you're running on a 32-bit version of Windows, simply change \n",
    "\n",
    "<strong> “C:\\Program Files (x86)\\Screaming Frog SEO Spider“ to “C:\\Program Files\\Screaming Frog SEO Spider“ </strong>"
   ]
  },
  {
   "cell_type": "markdown",
   "metadata": {},
   "source": [
    "Name this shortcut <strong> open-sf </strong> \n",
    "\n",
    "Then close the Command Prompt and File Exporer, and navigate to your desktop."
   ]
  },
  {
   "cell_type": "markdown",
   "metadata": {},
   "source": [
    "----\n",
    "\n",
    "Run the sf shortcut and enter open-sf.link\n",
    "\n",
    "This should've opened Screaming Frog.\n",
    "\n",
    "Basically how this works is:\n",
    "\n",
    "1. When we open our <strong>sf</strong> shortcut, we navigate into the screaming-frog-commands folder.\n",
    "2. Then there is an open shortcut called open.lnk. We then ran this by entering its name <strong>open-sf.lnk </strong>"
   ]
  },
  {
   "cell_type": "markdown",
   "metadata": {},
   "source": [
    "--------------------------------------------------------"
   ]
  },
  {
   "cell_type": "markdown",
   "metadata": {},
   "source": [
    "So far we have the following shortcuts:\n",
    "    \n",
    "- <strong> \"C:\\Windows\\System32\\cmd.exe\" </strong> /k (This opens Command Prompt) \n",
    "- <strong> cd \"C:\\Program Files (x86)\\Screaming Frog SEO Spider\" & ScreamingFrogSEOSpiderCli.exe </strong> (This navigates to a specific folder and executes the Screaming Frog application).\n",
    "\n",
    "\n",
    "Notice that the <strong> & </strong> symbol, which ensures that the first command is executed, then the second command is executed afterwards inside of the Command Prompt."
   ]
  },
  {
   "cell_type": "markdown",
   "metadata": {},
   "source": [
    "---------------------------------------------------------------"
   ]
  },
  {
   "cell_type": "markdown",
   "metadata": {},
   "source": [
    "#### How To Run A Crawl"
   ]
  },
  {
   "cell_type": "markdown",
   "metadata": {},
   "source": [
    "Now close Screaming Frog and the Command Prompt. Re-run your <strong>sf</strong> shortcut. In the future sections we'll be adding on more arguments to our shortcut (open.lnk) file:"
   ]
  },
  {
   "cell_type": "markdown",
   "metadata": {},
   "source": [
    "Enter:\n",
    "    \n",
    "~~~\n",
    "open-sf.lnk –-crawl <url>\n",
    "\n",
    "~~~\n",
    "---\n",
    "\n",
    "For example if you wanted to crawl https://phoenixandpartners.co.uk/ then it would be:\n",
    "\n",
    "~~~\n",
    "open-sf.lnk --crawl https://phoenixandpartners.co.uk/\n",
    "~~~"
   ]
  },
  {
   "cell_type": "markdown",
   "metadata": {},
   "source": [
    "Let's create another shortcut in the screaming-frog-commands folder and call it <strong>crawl</strong>:\n",
    "\n",
    "\n",
    "~~~\n",
    "\"C:\\Windows\\System32\\cmd.exe\" /k cd \"C:\\Program Files (x86)\\Screaming Frog SEO Spider\" & ScreamingFrogSEOSpiderCli.exe --crawl\n",
    "\n",
    "~~~"
   ]
  },
  {
   "cell_type": "markdown",
   "metadata": {},
   "source": [
    "Also notice above how the last argument is <strong> --crawl </strong>, which means we will only need to pass a URL into this shortcut for it to successfully execute."
   ]
  },
  {
   "cell_type": "markdown",
   "metadata": {},
   "source": [
    "- Close everything down.\n",
    "- Open your <strong>sf</strong> shortcut.\n",
    "- Then enter:\n",
    "\n",
    "~~~\n",
    "crawl.lnk https://example.org/\n",
    "~~~\n",
    "\n",
    "This will then crawl from the above URL all via the shortcut!"
   ]
  },
  {
   "cell_type": "markdown",
   "metadata": {},
   "source": [
    "------------------------------------------------------------------"
   ]
  },
  {
   "cell_type": "markdown",
   "metadata": {},
   "source": [
    "#### How To Run Screaming Frog Headless (Without A Graphical User Interface)"
   ]
  },
  {
   "cell_type": "markdown",
   "metadata": {},
   "source": [
    "We are going to add several extra arguments to our existing crawl shortcut:"
   ]
  },
  {
   "cell_type": "markdown",
   "metadata": {},
   "source": [
    "It's possible for us to execute Screaming Frog without a graphical user interface (GUI), by adding the <strong>--headless</strong> argument:\n",
    "\n",
    "~~~\n",
    "\n",
    "1. Run the sf shortcut\n",
    "2. crawl <url> --headless\n",
    "\n",
    "\n",
    "~~~\n",
    "\n",
    "Additionally we can save the crawl by adding <strong> --save-crawl:</strong>\n",
    "\n",
    "\n",
    "~~~\n",
    "\n",
    "1. Run the sf shortcut\n",
    "2. Enter crawl <url> --headless --save-crawl\n",
    "\n",
    "~~~\n",
    "\n",
    "---\n",
    "\n",
    "<strong> NB: You will need to [purchase a license](https://www.screamingfrog.co.uk/seo-spider/licence/) for executing Screaming Frog with the --save-crawl functionality. </strong>"
   ]
  },
  {
   "cell_type": "markdown",
   "metadata": {},
   "source": [
    "----------------------------------------------------------------------"
   ]
  },
  {
   "cell_type": "markdown",
   "metadata": {},
   "source": [
    "#### How To Save A Crawl:"
   ]
  },
  {
   "cell_type": "markdown",
   "metadata": {},
   "source": [
    "We can also save our folders to a specific folder with the <strong> --output-folder argument </strong>. Additionally we can make sure that the created folder has a unqiue name by adding the <strong> --timestamped-output </strong> argument.\n",
    "\n",
    "Let's see all of the commands in action <strong> without any shortcuts to easily see what's happening: </strong>\n",
    "\n",
    "~~~\n",
    "\"C:\\Windows\\System32\\cmd.exe\" /k cd \"C:\\Program Files (x86)\\Screaming Frog SEO Spider\" & ScreamingFrogSEOSpiderCli.exe --headless --save-crawl --output-folder \"C:\\Users\\{username}\\Desktop\" --timestamped-output --crawl\n",
    "~~~\n",
    "\n",
    "Then save this as a shortcut called <strong> save-screaming-frog-crawl </strong>"
   ]
  },
  {
   "cell_type": "markdown",
   "metadata": {},
   "source": [
    "----------------------------------------------------------------------------------------"
   ]
  },
  {
   "cell_type": "markdown",
   "metadata": {},
   "source": [
    "You can now easily access this by:\n",
    "    \n",
    "~~~\n",
    "\n",
    "1. Run the sf shortcut\n",
    "2. Enter save-screaming-frog-crawl <url>\n",
    "\n",
    "~~~"
   ]
  },
  {
   "cell_type": "markdown",
   "metadata": {},
   "source": [
    "Now that we've covered the basic crawling applications, let's explore how to export tabs, reports and bulk exports!"
   ]
  },
  {
   "cell_type": "markdown",
   "metadata": {},
   "source": [
    "----------------------------------------------------------------"
   ]
  },
  {
   "cell_type": "markdown",
   "metadata": {},
   "source": [
    "#### How To Export A Single Tab"
   ]
  },
  {
   "cell_type": "markdown",
   "metadata": {},
   "source": [
    "As well as doing a crawl, its possible to automatically extract the .csv files.\n",
    "\n",
    "You can export tabs, which are the following:\n",
    "    \n",
    "![](https://sempioneer.com/wp-content/uploads/2020/06/tabs.png)\n"
   ]
  },
  {
   "cell_type": "markdown",
   "metadata": {},
   "source": [
    "------------------------------------------------------------------------------------------"
   ]
  },
  {
   "cell_type": "markdown",
   "metadata": {},
   "source": [
    "For example if we wanted to crawl the website and export a .csv file with all of the images without alt text, we would do the following:\n",
    "\n",
    "~~~\n",
    "1. Open your sf shortcut, then enter:\n",
    "2. crawl.lnk <url> --output-folder \"C:\\Users\\{username}\\Desktop\" --timestamped-output --export-tabs \"Images:Missing Alt Text\" --headless\n",
    "\n",
    "~~~"
   ]
  },
  {
   "cell_type": "markdown",
   "metadata": {},
   "source": [
    "The snytax for exporting from tabs follows a generic structure:\n",
    "    \n",
    "~~~\n",
    "\n",
    "--export-tabs \"tab-parent:tab-child\"\n",
    "\n",
    "~~~"
   ]
  },
  {
   "cell_type": "markdown",
   "metadata": {},
   "source": [
    "------------------------------------------------------------"
   ]
  },
  {
   "cell_type": "markdown",
   "metadata": {},
   "source": [
    "#### Exporting Multiple Tabs"
   ]
  },
  {
   "cell_type": "markdown",
   "metadata": {},
   "source": [
    "You can easily export multiple tabs by separating the multiple tabs with a comma. Let's simulataneously extract duplicated title tags, missing title tags and meta descriptions:\n",
    "\n",
    "~~~ \n",
    "--export-tabs \"Page Titles:Duplicate,Page Titles:Missing,Meta Description:Missing\"\n",
    "~~~\n",
    "\n",
    "~~~\n",
    "\n",
    "1. Run your sf shortcut\n",
    "2. crawl.lnk <url> --output-folder \"C:\\Users\\{username}\\Desktop\" --export-tabs \"Page Titles:Duplicate,Page Titles:Missing,Meta Description:Missing\" --headless\n",
    "\n",
    "~~~"
   ]
  },
  {
   "cell_type": "markdown",
   "metadata": {},
   "source": [
    "To see the <strong>parent:child</strong> relationships for the tabs, simply look at how they nested on the right panel of Screaming Frog:"
   ]
  },
  {
   "cell_type": "markdown",
   "metadata": {},
   "source": [
    "![](https://sempioneer.com/wp-content/uploads/2020/06/meta-description-tab.png)"
   ]
  },
  {
   "cell_type": "markdown",
   "metadata": {},
   "source": [
    "-------------------------------------------------"
   ]
  },
  {
   "cell_type": "markdown",
   "metadata": {},
   "source": [
    "![](https://sempioneer.com/wp-content/uploads/2020/06/page-titles-tab.png)"
   ]
  },
  {
   "cell_type": "markdown",
   "metadata": {},
   "source": [
    "------------------------------------------------------------"
   ]
  },
  {
   "cell_type": "markdown",
   "metadata": {},
   "source": [
    "For example my username is jamesaphoenix:\n",
    "\n",
    "~~~\n",
    "1. Run the sf shortcut.\n",
    "2. crawl.lnk <url> --output-folder \"C:\\Users\\jamesaphoenix\\Desktop\" --export-tabs \"Page Titles:Duplicate,Page Titles:Missing,Meta Description:Missing\" --headless\n",
    "~~~\n",
    "\n",
    "---"
   ]
  },
  {
   "cell_type": "markdown",
   "metadata": {},
   "source": [
    "#### How To Export Reports"
   ]
  },
  {
   "cell_type": "markdown",
   "metadata": {},
   "source": [
    "Also you can export reports:\n",
    "\n",
    "![](https://sempioneer.com/wp-content/uploads/2020/06/exporting-screaming-frog-reports.png)\n",
    "\n",
    "The syntax is similar and uses the <strong>parent:child</strong> structure, however if there is no child then only the parent name is required."
   ]
  },
  {
   "cell_type": "markdown",
   "metadata": {},
   "source": [
    "------------------------------------------------------"
   ]
  },
  {
   "cell_type": "markdown",
   "metadata": {},
   "source": [
    "Here's an example where only the parent level is required:\n",
    "\n",
    "~~~\n",
    "\n",
    "1. Run your sf shortcut\n",
    "2. crawl.lnk <url> --timestamped-output --output-folder /--output-folder \"C:\\Users\\{username}\\Desktop\" --save-report \"Redirect & Canonical Chains\" --headless\n",
    "\n",
    "~~~\n",
    "---\n",
    "Here's an example where the parent:child structure is required:\n",
    "~~~\n",
    "\n",
    "1. Run your sf shortcut\n",
    "2. crawl.lnk <url> --timestamped-output --output-folder \"C:\\Users\\{username}\\Desktop\" --save-report \"Redirects:All Redirects\" --headless\n",
    "~~~\n",
    "\n",
    "--- \n"
   ]
  },
  {
   "cell_type": "markdown",
   "metadata": {},
   "source": [
    "#### How To Perform Bulk Exports"
   ]
  },
  {
   "cell_type": "markdown",
   "metadata": {},
   "source": [
    "We can also extract the bulk exports too!\n",
    "\n",
    "![](https://sempioneer.com/wp-content/uploads/2020/06/bulk-export.png)\n",
    "\n",
    "An example where only a parent level is required:\n",
    "\n",
    "~~~\n",
    "\n",
    "1. Run your sf shortcut\n",
    "2. crawl.lnk <url> <url> --timestamped-output --output-folder \"C:\\Users\\{username}\\Desktop\" --bulk-export \"All Images\" --headless\n",
    "\n",
    "~~~\n",
    "\n",
    "---\n",
    "\n",
    "An example where the parent:child structure is required:\n",
    "\n",
    "~~~\n",
    "\n",
    "1. Run your sf shortcut\n",
    "2. crawl.lnk <url> --timestamped-output --output-folder \"C:\\Users\\{username}\\Desktop\"--bulk-export \"AMP:All Inlinks\" --headless\n",
    "\n",
    "~~~"
   ]
  },
  {
   "cell_type": "markdown",
   "metadata": {},
   "source": [
    "------------------------------------------------------------------------"
   ]
  },
  {
   "cell_type": "markdown",
   "metadata": {},
   "source": [
    "#### How To Create A Sitemap"
   ]
  },
  {
   "cell_type": "markdown",
   "metadata": {},
   "source": [
    "If you're using a content management system such as [Wordpress](https://wordpress.com/), then I'd recommend using a plugin such as [Yoast](https://yoast.com/wordpress/plugins/seo/)/[TheSEOFramework](https://theseoframework.com/)/[RankMath](https://rankmath.com/) to automatically build your sitemap.xml files.\n",
    "\n",
    "However if you're working with a headless CMS or a static website, you can automatically create sitemaps with Screaming Frog:\n",
    "\n",
    "~~~\n",
    "\n",
    "crawl.lnk <url> --output-folder \"C:\\Users\\{username}\\Desktop\" --headless --create-sitemap\n",
    "\n",
    "~~~"
   ]
  },
  {
   "cell_type": "markdown",
   "metadata": {},
   "source": [
    "------------------------------------------------------------------"
   ]
  },
  {
   "cell_type": "markdown",
   "metadata": {},
   "source": [
    "#### How To Create Configuration Files"
   ]
  },
  {
   "cell_type": "markdown",
   "metadata": {},
   "source": [
    "Configuration files allow you to tune the crawl speed, choose specific user agents, crawl or not crawl specific pages and many more features!\n",
    "\n",
    "After changing the configuration inside of Screaming Frog, you can save it as a configuration file.\n",
    "\n",
    "We can then apply that configuration file to a headless screaming frog crawl via the terminal.\n",
    "\n",
    "---\n",
    "\n",
    "\n",
    "Create Your Config File:\n",
    "\n",
    "First open up Screaming Frog and go to Configuration > Spider > Extraction > Structured Data:\n",
    "\n",
    "Then tick the following checkboxes:\n",
    "\n",
    "- JSON-LD\n",
    "- Microdata\n",
    "- RDFa\n",
    "\n",
    "---\n",
    "\n",
    "![](https://sempioneer.com/wp-content/uploads/2020/06/creating-a-configuration-file.png)\n"
   ]
  },
  {
   "cell_type": "markdown",
   "metadata": {},
   "source": [
    "------------------------------------------"
   ]
  },
  {
   "cell_type": "markdown",
   "metadata": {},
   "source": [
    "Click OK.\n",
    "\n",
    "Then you'll need to save the configuration file by:\n",
    "\n",
    "File > Configuration > Save As\n",
    "\n",
    "I will choose to call my file custom_crawl.seospiderconfig\n",
    "\n",
    "Make sure to save it under a new folder in your desktop called config"
   ]
  },
  {
   "cell_type": "markdown",
   "metadata": {},
   "source": [
    "----------------------------------------------------------------------------------------"
   ]
  },
  {
   "cell_type": "markdown",
   "metadata": {},
   "source": [
    "#### How To Crawl With A Config File"
   ]
  },
  {
   "cell_type": "markdown",
   "metadata": {},
   "source": [
    "Let's crawl the example site with our newly created configuration file:\n",
    "\n",
    "~~~\n",
    "\n",
    "crawl.lnk <url> --config \"C:\\Users\\{username}\\Desktop\"\\{configname}.seospiderconfig --output-folder /\"C:\\Users\\{username}\\Desktop\" --save-report \"Redirect & Canonical Chains\" --headless\n",
    "\n",
    "~~~\n",
    "\n",
    "---\n",
    "\n",
    "So in my example it would be:\n",
    "~~~\n",
    "crawl.lnk https://phoenixandpartners.co.uk/ --config \"C:\\Users\\jamesaphoenix\\Desktop\"\\custom_crawl.seospiderconfig --output-folder \"C:\\Users\\jamesaphoenix\\Desktop\" --save-report \"Redirect & Canonical Chains\" --headless\n",
    "~~~"
   ]
  },
  {
   "cell_type": "markdown",
   "metadata": {},
   "source": [
    "----------------------------------------------------------------"
   ]
  },
  {
   "cell_type": "markdown",
   "metadata": {},
   "source": [
    "#### How To Crawl Text Files"
   ]
  },
  {
   "cell_type": "markdown",
   "metadata": {},
   "source": [
    "It's possible to run Screaming Frog in list mode via the terminal.\n",
    "\n",
    "Simply create a .txt file with a list of URLs that you'd like to crawl. These can be from a single website or many websites. \n",
    "\n",
    "Save this .txt to your desktop:\n",
    "\n",
    "The extra argument used here is <strong> --crawl-list </strong> like so:\n",
    "    \n",
    "    \n",
    "~~~\n",
    "crawl.lnk --export-tabs \"Response Codes:Client Error (4xx)\" --output-folder \"C:\\Users\\{username}\\Desktop\" --headless --crawl-list \"C:\\Users\\{username}\\Desktop\\{filename}.txt\"\n",
    "~~~\n",
    "\n",
    "---\n",
    "\n",
    "My example looks like this:\n",
    "\n",
    "~~~\n",
    "crawl.lnk --export-tabs \"Response Codes:Client Error (4xx)\" --output-folder \"C:\\Users\\jamesaphoenix\\Desktop\" --headless --crawl-list \"C:\\Users\\{username}\\Desktop\\urlstocrawl.txt\n",
    "\n",
    "~~~\n",
    "\n",
    "---"
   ]
  },
  {
   "cell_type": "markdown",
   "metadata": {},
   "source": [
    "We've finished the Windows section, I hope that this post provides you with a good overview on how to get started with automating Screaming Frog.\n",
    "\n",
    "Automation is powerful and I encourage you to practice your new found super powers!\n",
    "\n",
    "In the next post, you'll learn how to automatically wrangle your Screaming Frog data with [Python](https://www.python.org/) + [Pandas](https://pandas.pydata.org/)."
   ]
  },
  {
   "cell_type": "markdown",
   "metadata": {},
   "source": [
    "------------------------------------------------------------------------------------------"
   ]
  }
 ],
 "metadata": {
  "kernelspec": {
   "display_name": "Python 3",
   "language": "python",
   "name": "python3"
  },
  "language_info": {
   "codemirror_mode": {
    "name": "ipython",
    "version": 3
   },
   "file_extension": ".py",
   "mimetype": "text/x-python",
   "name": "python",
   "nbconvert_exporter": "python",
   "pygments_lexer": "ipython3",
   "version": "3.7.6"
  }
 },
 "nbformat": 4,
 "nbformat_minor": 4
}
