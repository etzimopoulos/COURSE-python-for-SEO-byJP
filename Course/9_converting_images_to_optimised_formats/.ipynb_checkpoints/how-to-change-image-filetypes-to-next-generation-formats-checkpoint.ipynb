{
 "cells": [
  {
   "cell_type": "markdown",
   "metadata": {},
   "source": [
    "# 9. How To Convert Your Images Into Next Generation Formats (.WebP) In Python"
   ]
  },
  {
   "cell_type": "markdown",
   "metadata": {},
   "source": [
    "------------------------------------------------"
   ]
  },
  {
   "cell_type": "markdown",
   "metadata": {},
   "source": [
    "## Learning Outcomes\n",
    "\n",
    "- To learn how to change .png images and .jpg images into .webp images."
   ]
  },
  {
   "cell_type": "markdown",
   "metadata": {},
   "source": [
    "------------------------------------------------------"
   ]
  },
  {
   "cell_type": "markdown",
   "metadata": {},
   "source": [
    "With the combined rise of content marketing on the internet and recommended speed changes from Google. Its important that your website or web application is able to serve better formats of images. In this tutorial, you will be learning how to easily convert any image into a .webp format.\n",
    "\n",
    "Also, you'll learn how to combine image resizing and converting your images into the .Webp format."
   ]
  },
  {
   "cell_type": "markdown",
   "metadata": {},
   "source": [
    "---------------------------------------------------------------------------"
   ]
  },
  {
   "cell_type": "markdown",
   "metadata": {},
   "source": [
    "## What Are Next Generation Image Formats And Why Are They Important?"
   ]
  },
  {
   "cell_type": "markdown",
   "metadata": {},
   "source": [
    "Next generation image formats include:\n",
    "- JPEG 2000\n",
    "- JPEG XR\n",
    "- WebP\n",
    "\n",
    "All of these formats have better compression and are higher in quality when compared to their previous PNG and JPEG counterparts. Encoding your images into one of the above formats ensures that your images will use less data, cost you less money and will allow your applications to load faster for your users."
   ]
  },
  {
   "cell_type": "markdown",
   "metadata": {},
   "source": [
    "---------------------------------------------------------------------------------------------"
   ]
  },
  {
   "cell_type": "markdown",
   "metadata": {},
   "source": [
    "## Check Browser Compatibility"
   ]
  },
  {
   "cell_type": "markdown",
   "metadata": {},
   "source": [
    "Currently there isn't true browser support for all of the next-generation image formats, therefore it's recommended that you provide either a fallback JPEG or PNG image for older browsers."
   ]
  },
  {
   "cell_type": "markdown",
   "metadata": {},
   "source": [
    "---------------------------------------------------------------------------------------------"
   ]
  },
  {
   "cell_type": "markdown",
   "metadata": {},
   "source": [
    "## Module Imports"
   ]
  },
  {
   "cell_type": "code",
   "execution_count": 20,
   "metadata": {},
   "outputs": [],
   "source": [
    "from PIL import Image\n",
    "import PIL\n",
    "import os\n",
    "import glob"
   ]
  },
  {
   "cell_type": "markdown",
   "metadata": {},
   "source": [
    "------------------------------------------------------------------------------------"
   ]
  },
  {
   "cell_type": "code",
   "execution_count": 3,
   "metadata": {},
   "outputs": [
    {
     "data": {
      "text/plain": [
       "<module 'PIL.Image' from '/opt/anaconda3/lib/python3.7/site-packages/PIL/Image.py'>"
      ]
     },
     "execution_count": 3,
     "metadata": {},
     "output_type": "execute_result"
    }
   ],
   "source": [
    "Image"
   ]
  },
  {
   "cell_type": "markdown",
   "metadata": {},
   "source": [
    "-------------------------------------------------------------------------------------"
   ]
  },
  {
   "cell_type": "markdown",
   "metadata": {},
   "source": [
    "You can easily load an image from a file, using the open() found within the Image module:\n",
    "\n",
    "~~~\n",
    "\n",
    "image = image.open('image-filepath.png')\n",
    "image.show()\n",
    "\n",
    "~~~\n",
    "\n",
    "----------------------------------------------------------------------------------------"
   ]
  },
  {
   "cell_type": "markdown",
   "metadata": {},
   "source": [
    "## Image Conversions In Python"
   ]
  },
  {
   "cell_type": "markdown",
   "metadata": {},
   "source": [
    "You can convert an image into a different format by:\n",
    "    \n",
    "- Opening the image.\n",
    "- Converting the image to RGB colour.\n",
    "- Saving the image as a different file."
   ]
  },
  {
   "cell_type": "markdown",
   "metadata": {},
   "source": [
    "~~~ \n",
    "\n",
    "# 1. Open The Image:\n",
    "image = Image.open('example.jpg')\n",
    "\n",
    "# 2. Convert the image to RGB Colour:\n",
    "image = image.convert('RGB')\n",
    "\n",
    "# 3. Save The Image:\n",
    "image.save('example-test.png', 'png')\n",
    "\n",
    "~~~"
   ]
  },
  {
   "cell_type": "markdown",
   "metadata": {},
   "source": [
    "------------------------------------------------------------------------"
   ]
  },
  {
   "cell_type": "markdown",
   "metadata": {},
   "source": [
    "### Extra Information About The Functions:"
   ]
  },
  {
   "cell_type": "markdown",
   "metadata": {},
   "source": [
    "<strong> Image.convert() </strong> returns a converted image copy. For the \"P” mode, the method translates pixels through the palette. However, if mode is omitted, a mode is chosen so that all information in the image and the palette is represented without a palette."
   ]
  },
  {
   "cell_type": "markdown",
   "metadata": {},
   "source": [
    "<strong> The image.save() </strong> requires two arguments, the first one is the file path (or file name) and the second one is the file format that you would like to save the image as."
   ]
  },
  {
   "cell_type": "markdown",
   "metadata": {},
   "source": [
    "------------------------------------------------------------------------------------------"
   ]
  },
  {
   "cell_type": "markdown",
   "metadata": {},
   "source": [
    "### Common Image Conversions In Python"
   ]
  },
  {
   "cell_type": "markdown",
   "metadata": {},
   "source": [
    "Let's practice some common image conversions using the Pillow Library!"
   ]
  },
  {
   "cell_type": "code",
   "execution_count": 6,
   "metadata": {},
   "outputs": [
    {
     "name": "stdout",
     "output_type": "stream",
     "text": [
      "example-1.png\r\n",
      "example-2.jpg\r\n",
      "how-to-change-image-filetypes-to-next-generation-formats.ipynb\r\n"
     ]
    }
   ],
   "source": [
    "!ls"
   ]
  },
  {
   "cell_type": "markdown",
   "metadata": {},
   "source": [
    "#### PNG to JPG "
   ]
  },
  {
   "cell_type": "code",
   "execution_count": 10,
   "metadata": {},
   "outputs": [],
   "source": [
    "image = Image.open('example-1.png')\n",
    "image = image.convert('RGB')\n",
    "image.save('new-image.jpg', 'jpeg')"
   ]
  },
  {
   "cell_type": "markdown",
   "metadata": {},
   "source": [
    "------------------------------------------------------------------------------------------------------------------------"
   ]
  },
  {
   "cell_type": "markdown",
   "metadata": {},
   "source": [
    "#### JPG to PNG"
   ]
  },
  {
   "cell_type": "code",
   "execution_count": 11,
   "metadata": {},
   "outputs": [],
   "source": [
    "image = Image.open('example-2.jpg')\n",
    "image = image.convert('RGB')\n",
    "image.save('new-image.png', 'png')"
   ]
  },
  {
   "cell_type": "markdown",
   "metadata": {},
   "source": [
    "------------------------------------------------------------"
   ]
  },
  {
   "cell_type": "markdown",
   "metadata": {},
   "source": [
    "Now if you check in your current working directory, you will now have two extra files:"
   ]
  },
  {
   "cell_type": "markdown",
   "metadata": {},
   "source": [
    "![converting images in python](https://sempioneer.com/wp-content/uploads/2020/06/image-conversion-in-python.png)"
   ]
  },
  {
   "cell_type": "markdown",
   "metadata": {},
   "source": [
    "------------------------------------------------------------------------"
   ]
  },
  {
   "cell_type": "markdown",
   "metadata": {},
   "source": [
    "#### PNG to WebP"
   ]
  },
  {
   "cell_type": "code",
   "execution_count": 16,
   "metadata": {},
   "outputs": [],
   "source": [
    "image = Image.open('example-1.png')\n",
    "image = image.convert('RGB')\n",
    "image.save('new-format-image-from-png.webp', 'webp')"
   ]
  },
  {
   "cell_type": "markdown",
   "metadata": {},
   "source": [
    "#### JPG to WebP"
   ]
  },
  {
   "cell_type": "code",
   "execution_count": 17,
   "metadata": {},
   "outputs": [],
   "source": [
    "image = Image.open('example-2.jpg')\n",
    "image = image.convert('RGB')\n",
    "image.save('new-format-image-from-jpeg.webp', 'webp')"
   ]
  },
  {
   "cell_type": "markdown",
   "metadata": {},
   "source": [
    "------------------------"
   ]
  },
  {
   "cell_type": "markdown",
   "metadata": {},
   "source": [
    "#### WebP to PNG"
   ]
  },
  {
   "cell_type": "code",
   "execution_count": 18,
   "metadata": {},
   "outputs": [],
   "source": [
    "image = Image.open('new-format-image-from-png.webp')\n",
    "image = image.convert('RGB')\n",
    "image.save('converting-from-webp-to-png-format.png', 'png')"
   ]
  },
  {
   "cell_type": "markdown",
   "metadata": {},
   "source": [
    "#### WebP to JPG"
   ]
  },
  {
   "cell_type": "code",
   "execution_count": 19,
   "metadata": {},
   "outputs": [],
   "source": [
    "image = Image.open('new-format-image-from-png.webp')\n",
    "image = image.convert('RGB')\n",
    "image.save('converting-from-webp-to-jpg-format.jpg', 'jpeg')"
   ]
  },
  {
   "cell_type": "markdown",
   "metadata": {},
   "source": [
    "--------------------------------------------"
   ]
  },
  {
   "cell_type": "markdown",
   "metadata": {},
   "source": [
    "![converting from Webp formats to older formats](https://sempioneer.com/wp-content/uploads/2020/06/converting-webp-format-to-jpg-png-with-python.png)"
   ]
  },
  {
   "cell_type": "markdown",
   "metadata": {},
   "source": [
    "------------------------"
   ]
  },
  {
   "cell_type": "markdown",
   "metadata": {},
   "source": [
    "## How To Convert All Images In The Current Working Directory Into The .WebP Format"
   ]
  },
  {
   "cell_type": "markdown",
   "metadata": {},
   "source": [
    "So you can see how easy it is to convert from older image formats to the .Webp format!\n",
    "\n",
    "Let's create a robust python function that will convert any .png or .jpeg files from our current working directory into .webp images!"
   ]
  },
  {
   "cell_type": "code",
   "execution_count": 22,
   "metadata": {},
   "outputs": [],
   "source": [
    "files = os.listdir() # We can list of all of the files and folders using os.listdir()"
   ]
  },
  {
   "cell_type": "code",
   "execution_count": 23,
   "metadata": {},
   "outputs": [
    {
     "name": "stdout",
     "output_type": "stream",
     "text": [
      "These are all of the files in our current working directory: ['how-to-change-image-filetypes-to-next-generation-formats.ipynb', '.DS_Store', 'converting-from-webp-to-png-format.png', 'new-format-image-from-png.webp', 'converting-from-webp-to-jpg-format.jpg', 'new-format-image-from-jpeg.webp', '.ipynb_checkpoints', 'example-1.png', 'new-image.jpg', 'example-2.jpg', 'new-image.png']\n"
     ]
    }
   ],
   "source": [
    "print(f\"These are all of the files in our current working directory: {files}\")"
   ]
  },
  {
   "cell_type": "markdown",
   "metadata": {},
   "source": [
    "------------------------------------------------------------------------------------------------"
   ]
  },
  {
   "cell_type": "code",
   "execution_count": 26,
   "metadata": {},
   "outputs": [],
   "source": [
    "images = [file for file in files if file.endswith(('jpg', 'png'))] # We can filter to only retrieve files ending in jpg or png"
   ]
  },
  {
   "cell_type": "code",
   "execution_count": 27,
   "metadata": {},
   "outputs": [
    {
     "name": "stdout",
     "output_type": "stream",
     "text": [
      "These are all of the images in our current working directory ['converting-from-webp-to-png-format.png', 'converting-from-webp-to-jpg-format.jpg', 'example-1.png', 'new-image.jpg', 'example-2.jpg', 'new-image.png']\n"
     ]
    }
   ],
   "source": [
    "print(f\"These are all of the images in our current working directory {images}\")"
   ]
  },
  {
   "cell_type": "markdown",
   "metadata": {},
   "source": [
    "--------------------------------------------------------------------------------"
   ]
  },
  {
   "cell_type": "code",
   "execution_count": 34,
   "metadata": {},
   "outputs": [],
   "source": [
    "# Defining a Python user-defined exception\n",
    "class Error(Exception):\n",
    "    \"\"\"Base class for other exceptions\"\"\"\n",
    "    pass"
   ]
  },
  {
   "cell_type": "code",
   "execution_count": 51,
   "metadata": {},
   "outputs": [],
   "source": [
    "def convert_image(image_path, image_type):\n",
    "    # 1. Opening the image:\n",
    "    im = Image.open(image_path)\n",
    "    # 2. Converting the image to RGB colour:\n",
    "    im = im.convert('RGB')\n",
    "    # 3. Spliting the image path (to avoid the .jpg or .png being part of the image name):\n",
    "    image_name = image_path.split('.')[0]\n",
    "    print(f\"This is the image name: {image_name}\")\n",
    "    \n",
    "    # Saving the images based upon their specific type:\n",
    "    if image_type == 'jpg' or image_type == 'png':\n",
    "        im.save(f\"Converted-to-next-gen-format-{image_name}.webp\", 'webp')\n",
    "    else:\n",
    "        # Raising an error if we didn't get a jpeg or png file type!\n",
    "        raise Error"
   ]
  },
  {
   "cell_type": "code",
   "execution_count": 52,
   "metadata": {},
   "outputs": [
    {
     "name": "stdout",
     "output_type": "stream",
     "text": [
      "This is the image name: converting-from-webp-to-png-format\n",
      "This is the image name: converting-from-webp-to-jpg-format\n",
      "This is the image name: example-1\n",
      "This is the image name: new-image\n",
      "This is the image name: example-2\n",
      "This is the image name: new-image\n"
     ]
    }
   ],
   "source": [
    "for image in images:\n",
    "    if image.endswith('jpg'):\n",
    "        convert_image(image, image_type='jpg')\n",
    "    elif image.endswith('png'):\n",
    "        convert_image(image, image_type='png')\n",
    "    else:\n",
    "        raise Error"
   ]
  },
  {
   "cell_type": "markdown",
   "metadata": {},
   "source": [
    "------------------------------------------------------------------------"
   ]
  },
  {
   "cell_type": "markdown",
   "metadata": {},
   "source": [
    "![](https://sempioneer.com/wp-content/uploads/2020/06/converting-multiple-images-into-webp-using-python-1.png)"
   ]
  },
  {
   "cell_type": "code",
   "execution_count": 59,
   "metadata": {},
   "outputs": [
    {
     "data": {
      "text/plain": [
       "[None, None, None, None, None]"
      ]
     },
     "execution_count": 59,
     "metadata": {},
     "output_type": "execute_result"
    }
   ],
   "source": [
    "# Deleting any files that contain the sring Converted\n",
    "[os.remove(file) for file in os.listdir() if 'Converted' in file]"
   ]
  },
  {
   "cell_type": "markdown",
   "metadata": {},
   "source": [
    "----------------------------------------------------------------------------------------------------------------\n",
    "\n",
    "After learning how to convert multiple .jpg or .png files into .webp files, with a list comprehension expression we can also execute the convert_image functions one by one:"
   ]
  },
  {
   "cell_type": "code",
   "execution_count": 64,
   "metadata": {},
   "outputs": [
    {
     "name": "stdout",
     "output_type": "stream",
     "text": [
      "This is the image name: converting-from-webp-to-png-format\n",
      "This is the image name: converting-from-webp-to-jpg-format\n",
      "This is the image name: example-1\n",
      "This is the image name: new-image\n",
      "This is the image name: example-2\n",
      "This is the image name: new-image\n"
     ]
    },
    {
     "data": {
      "text/plain": [
       "[None, None, None, None, None, None]"
      ]
     },
     "execution_count": 64,
     "metadata": {},
     "output_type": "execute_result"
    }
   ],
   "source": [
    "[convert_image(image, image_type='jpg') if image.endswith('jpg') else\n",
    " convert_image(image, image_type='png') for image in images ]"
   ]
  },
  {
   "cell_type": "markdown",
   "metadata": {},
   "source": [
    "----------------------------------------------------------------------------------------------------"
   ]
  },
  {
   "cell_type": "markdown",
   "metadata": {},
   "source": [
    "<strong> Deleting All Of The Files Created: </strong>"
   ]
  },
  {
   "cell_type": "code",
   "execution_count": 67,
   "metadata": {},
   "outputs": [],
   "source": [
    "string_matches = ['Converted', 'converting', 'new']\n",
    "for file in os.listdir():\n",
    "    if any(x in file for x in string_matches):\n",
    "        os.remove(file)"
   ]
  }
 ],
 "metadata": {
  "kernelspec": {
   "display_name": "Python 3",
   "language": "python",
   "name": "python3"
  },
  "language_info": {
   "codemirror_mode": {
    "name": "ipython",
    "version": 3
   },
   "file_extension": ".py",
   "mimetype": "text/x-python",
   "name": "python",
   "nbconvert_exporter": "python",
   "pygments_lexer": "ipython3",
   "version": "3.7.6"
  }
 },
 "nbformat": 4,
 "nbformat_minor": 4
}
