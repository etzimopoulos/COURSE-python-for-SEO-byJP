{
 "cells": [
  {
   "cell_type": "markdown",
   "metadata": {},
   "source": [
    "# 3. How To Automatically Delete Multiple Files & Folders In Python"
   ]
  },
  {
   "cell_type": "markdown",
   "metadata": {},
   "source": [
    "------------------------------------------------------------------------"
   ]
  },
  {
   "cell_type": "markdown",
   "metadata": {},
   "source": [
    "## Learning Outcomes\n",
    "\n",
    "- To learn how we can delete single file directories.\n",
    "- To learn how we can delete multiple file directories.\n",
    "- To practice deleting multiple .txt files and also other files."
   ]
  },
  {
   "cell_type": "markdown",
   "metadata": {},
   "source": [
    "So in the last episode we learned how to [combine multiple .csv files within Python.](https://sempioneer.com/python-for-seo/how-to-combine-multiple-csv-files-in-python/) \n",
    "\n",
    "However as is often the case, after we're finished with wrangling the data, we'll need to delete these specific files from our local environment. \n",
    "\n",
    "Therefore, its vital that we can:\n",
    "\n",
    "- Delete multiple folder directories within Python.\n",
    "- Delete all of the files within our current working directory that are a specific filetype (.csv, .txt) etc."
   ]
  },
  {
   "cell_type": "markdown",
   "metadata": {},
   "source": [
    "------------------------------------------------------------------------"
   ]
  },
  {
   "cell_type": "markdown",
   "metadata": {},
   "source": [
    "## Import packages"
   ]
  },
  {
   "cell_type": "code",
   "execution_count": 93,
   "metadata": {},
   "outputs": [],
   "source": [
    "import os\n",
    "import glob\n",
    "import pandas as pd\n",
    "import shutil"
   ]
  },
  {
   "cell_type": "code",
   "execution_count": null,
   "metadata": {},
   "outputs": [],
   "source": []
  },
  {
   "cell_type": "markdown",
   "metadata": {},
   "source": [
    "------------------------------------------------------------------"
   ]
  },
  {
   "cell_type": "markdown",
   "metadata": {},
   "source": [
    "Notice how when we do !ls from the Jupyternotebook or ls from the terminal/commandline we can see <strong> there are several .txt files and file directories that we'd like to delete and keep safe: </strong>\n",
    "\n",
    "~~~\n",
    "\n",
    "!ls - Jupyter notebook\n",
    "ls - Command line\n",
    "\n",
    "\n",
    "~~~"
   ]
  },
  {
   "cell_type": "code",
   "execution_count": null,
   "metadata": {},
   "outputs": [],
   "source": []
  },
  {
   "cell_type": "markdown",
   "metadata": {},
   "source": [
    "------------------------------"
   ]
  },
  {
   "cell_type": "markdown",
   "metadata": {},
   "source": [
    "<strong> Directories To Delete: </strong>\n",
    "\n",
    "- ahrefs_backlink_data\n",
    "- csv_data_to_delete\n",
    "- digital_marketing_content\n",
    "- seo_marketing_content\n",
    "\n",
    "<strong> Directories To Keep Safe: </strong>\n",
    "\n",
    "- I_never_want_to_delete_this_folder\n",
    "\n",
    "<strong> Files To Delete: </strong>\n",
    "\n",
    "- delete_me.txt\n",
    "- delete_this_file.txt\n",
    "- practicing_deleting.txt\n",
    "\n",
    "<strong> Files To Keep Safe: </strong>\n",
    "\n",
    "- keepthisfilesafe.txt"
   ]
  },
  {
   "cell_type": "markdown",
   "metadata": {},
   "source": [
    "----------------------------------------------------------------------------------------------------"
   ]
  },
  {
   "cell_type": "markdown",
   "metadata": {},
   "source": [
    "### Deleting Specific File Directories With Python"
   ]
  },
  {
   "cell_type": "markdown",
   "metadata": {},
   "source": [
    "Firstly let's see if we can find some patterns within the directories that we would like to delete or keep! \n",
    "\n",
    "As we can see both the directories that we want to keep/delete contain underscores, so there is no difference here. However, <strong> we do want to delete all of the sub-directories apart from but one directory </strong> so we can just:\n",
    "\n",
    "1. Obtain all of the file directories within the current working directory.\n",
    "2. Remove the I_never_want_to_delete_this_folder from our python list and then delete the remaining file directories!\n",
    "\n",
    "So let's code that up 😍"
   ]
  },
  {
   "cell_type": "code",
   "execution_count": null,
   "metadata": {},
   "outputs": [],
   "source": []
  },
  {
   "cell_type": "code",
   "execution_count": 97,
   "metadata": {},
   "outputs": [],
   "source": [
    "# Let's define our current path here:\n",
    "# You will need to change this to be unique to your specific directory path:\n",
    "path = '/Users/jamesphoenix/Desktop/Imran_And_James/Python_For_SEO/3_how_to_delete_multiple_local_files'"
   ]
  },
  {
   "cell_type": "markdown",
   "metadata": {},
   "source": [
    "-------------------------------------------------------------------------------------------"
   ]
  },
  {
   "cell_type": "markdown",
   "metadata": {},
   "source": [
    "This command will scan all of the files and folders within the current working directory, we will also filter this by adding and if statement and ensuring that the iterable (each item in the list) is a folder:\n",
    "\n",
    "~~~\n",
    "\n",
    "[ some_code_here if.is_dir()]\n",
    "\n",
    "~~~"
   ]
  },
  {
   "cell_type": "code",
   "execution_count": null,
   "metadata": {},
   "outputs": [],
   "source": []
  },
  {
   "cell_type": "code",
   "execution_count": null,
   "metadata": {},
   "outputs": [],
   "source": []
  },
  {
   "cell_type": "markdown",
   "metadata": {},
   "source": [
    "----------------------------------------------------------------------------------------"
   ]
  },
  {
   "cell_type": "markdown",
   "metadata": {},
   "source": [
    "Now we can just do a list comprehension to only select file names that <strong> never contain the words \"I_never_want\" within the string. </strong>"
   ]
  },
  {
   "cell_type": "code",
   "execution_count": null,
   "metadata": {},
   "outputs": [],
   "source": []
  },
  {
   "cell_type": "code",
   "execution_count": null,
   "metadata": {},
   "outputs": [],
   "source": []
  },
  {
   "cell_type": "markdown",
   "metadata": {},
   "source": [
    "----------------------------------------------------------------------"
   ]
  },
  {
   "cell_type": "markdown",
   "metadata": {},
   "source": [
    "The important syntax to note above is:\n",
    "\n",
    "~~~\n",
    "\n",
    "if \"I never want\" not in folder_name\n",
    "\n",
    "~~~\n",
    "\n",
    "This means that as we loop over every file_name if \"I_never_want\" is not within the string name, it is included within the list comprehension, <strong> however the file I_never_want_to_delete_this_folder does have this string within it and is therefore excluded from the final python list. </strong>"
   ]
  },
  {
   "cell_type": "markdown",
   "metadata": {},
   "source": [
    "---------------------------------------------------------------"
   ]
  },
  {
   "cell_type": "markdown",
   "metadata": {},
   "source": [
    "Now that we've got all of the subfolders in a list we will just create a for loop to delete every folder with:\n",
    "\n",
    "~~~\n",
    "\n",
    "shutil.rmtree()\n",
    "\n",
    "~~~"
   ]
  },
  {
   "cell_type": "code",
   "execution_count": null,
   "metadata": {},
   "outputs": [],
   "source": []
  },
  {
   "cell_type": "markdown",
   "metadata": {},
   "source": [
    "------------------------------------------------------------------------"
   ]
  },
  {
   "cell_type": "markdown",
   "metadata": {},
   "source": [
    "<strong> Pro Tip: </strong> You can only delete files once and they don't go to your recycling bin! \n",
    "\n",
    "So definitely make sure to use print() statements and double check that the files / folders are the ones you would like delete before committing to it! "
   ]
  },
  {
   "cell_type": "markdown",
   "metadata": {},
   "source": [
    "--------------------------------------------------"
   ]
  },
  {
   "cell_type": "markdown",
   "metadata": {},
   "source": [
    "We can double check that all of the folders have been deleted by either running:\n",
    "\n",
    "~~~\n",
    "\n",
    "!ls in a jupyter notebook\n",
    "ls on terminal / gitbash\n",
    "\n",
    "~~~"
   ]
  },
  {
   "cell_type": "code",
   "execution_count": null,
   "metadata": {},
   "outputs": [],
   "source": []
  },
  {
   "cell_type": "markdown",
   "metadata": {},
   "source": [
    "------------------------------------------------------------------------------------"
   ]
  },
  {
   "cell_type": "markdown",
   "metadata": {},
   "source": [
    "### How To Delete Specific File Types Within Your Current Working Directory With Python"
   ]
  },
  {
   "cell_type": "markdown",
   "metadata": {},
   "source": [
    "Now that we've deleted all of the folders and the files/folders inside of those specific folders. \n",
    "\n",
    "Let's practice deleting some specific .txt files from our current working directory! \n",
    "\n",
    "I'm going to show you two different ways we could solve this problem:\n",
    "\n",
    "1. The file that we want to keep doesn't contain underscores _ , <strong> therefore we could delete all of the files containing underscores. </strong>\n",
    "2. All of the files that we want to delete also contain the keyword \"delet\" so <strong> we could technically delete all files which match this text string. </strong>"
   ]
  },
  {
   "cell_type": "markdown",
   "metadata": {},
   "source": [
    "------------------------------------------------------------------------------------"
   ]
  },
  {
   "cell_type": "markdown",
   "metadata": {},
   "source": [
    "### How To Get All Of The Files Within The Current Working Directory In Python"
   ]
  },
  {
   "cell_type": "markdown",
   "metadata": {},
   "source": [
    "Firstly let's obtain all of the directories and then filter it by only items that are also files:"
   ]
  },
  {
   "cell_type": "code",
   "execution_count": null,
   "metadata": {},
   "outputs": [],
   "source": []
  },
  {
   "cell_type": "markdown",
   "metadata": {},
   "source": [
    "----------------------------------------------------------------------"
   ]
  },
  {
   "cell_type": "markdown",
   "metadata": {},
   "source": [
    "Remember that after you've run one of the following two methods, the second one will not work as the files have already been deleted:"
   ]
  },
  {
   "cell_type": "markdown",
   "metadata": {},
   "source": [
    "#### Method One:"
   ]
  },
  {
   "cell_type": "code",
   "execution_count": null,
   "metadata": {},
   "outputs": [],
   "source": []
  },
  {
   "cell_type": "markdown",
   "metadata": {},
   "source": [
    "----------------------------"
   ]
  },
  {
   "cell_type": "markdown",
   "metadata": {},
   "source": [
    "<strong> Method Two: </strong>"
   ]
  },
  {
   "cell_type": "code",
   "execution_count": null,
   "metadata": {},
   "outputs": [],
   "source": []
  },
  {
   "cell_type": "markdown",
   "metadata": {},
   "source": [
    "------------------------------------------------------------------------------------------------"
   ]
  },
  {
   "cell_type": "markdown",
   "metadata": {},
   "source": [
    "## How To Delete Multiple File Types Within The Current Working Directory"
   ]
  },
  {
   "cell_type": "markdown",
   "metadata": {},
   "source": [
    "Now let's make our method two slightly more complex. For example let's say we wanted to delete multiple filetype extensions including .pdf, .csv and .txt files!"
   ]
  },
  {
   "cell_type": "code",
   "execution_count": 107,
   "metadata": {},
   "outputs": [],
   "source": [
    "# The touch command allows us to create new files via terminal:\n",
    "!touch awesomefile.pdf\n",
    "!touch text.csv\n",
    "!touch thisisatest.txt"
   ]
  },
  {
   "cell_type": "code",
   "execution_count": null,
   "metadata": {},
   "outputs": [],
   "source": []
  },
  {
   "cell_type": "markdown",
   "metadata": {},
   "source": [
    "------------------------------------------------------------------------------------------------"
   ]
  },
  {
   "cell_type": "markdown",
   "metadata": {},
   "source": [
    "Another method <strong> would be to use negation (delete everything but). </strong>\n",
    "\n",
    "\n",
    "~~~\n",
    "\n",
    "if not (some_condition  - True / False)\n",
    "\n",
    "~~~"
   ]
  },
  {
   "cell_type": "code",
   "execution_count": null,
   "metadata": {},
   "outputs": [],
   "source": []
  },
  {
   "cell_type": "code",
   "execution_count": null,
   "metadata": {},
   "outputs": [],
   "source": []
  },
  {
   "cell_type": "markdown",
   "metadata": {},
   "source": [
    "----------------------------------------------------------------------------------------------------"
   ]
  },
  {
   "cell_type": "markdown",
   "metadata": {},
   "source": [
    "Remember!\n",
    "\n",
    "~~~\n",
    ".endswith() accepts a tuple of things that you want to match against and returns True if any of them match.\n",
    "\n",
    "~~~"
   ]
  },
  {
   "cell_type": "markdown",
   "metadata": {},
   "source": [
    "----------------------------------------------------------------------------------------------------"
   ]
  },
  {
   "cell_type": "markdown",
   "metadata": {},
   "source": [
    "## How To Search For Specific File Types From Current Directories Downwards"
   ]
  },
  {
   "cell_type": "markdown",
   "metadata": {},
   "source": [
    "If you have tons of subfolders and you would like <strong> to find any files in any of these folders, you can use the following syntax: </strong>\n",
    "\n",
    "~~~\n",
    "\n",
    "for root, dirnames, filenames in os.walk(folder):\n",
    "    for filename in filenames:\n",
    "        if filename.endswith((extensions)):\n",
    "            do_something()\n",
    "~~~\n"
   ]
  },
  {
   "cell_type": "code",
   "execution_count": null,
   "metadata": {},
   "outputs": [],
   "source": []
  },
  {
   "cell_type": "code",
   "execution_count": null,
   "metadata": {},
   "outputs": [],
   "source": []
  },
  {
   "cell_type": "code",
   "execution_count": null,
   "metadata": {},
   "outputs": [],
   "source": []
  },
  {
   "cell_type": "code",
   "execution_count": null,
   "metadata": {},
   "outputs": [],
   "source": []
  },
  {
   "cell_type": "markdown",
   "metadata": {},
   "source": [
    "----------------------------------------------------------------------------------------------------"
   ]
  },
  {
   "cell_type": "markdown",
   "metadata": {},
   "source": [
    "## How To Delete Specific File Types In All Of The Directories Below Your Current Working Directory"
   ]
  },
  {
   "cell_type": "markdown",
   "metadata": {},
   "source": [
    "Now what about recursively deleting all files with a specific file type in a series of subfolders? \n",
    "\n",
    "No problem! \n",
    "\n",
    "We will still use the os.walk() function, however notice that instead of appending the results to a list, <strong> we can just delete the file instead: </strong>\n",
    "\n",
    "~~~\n",
    "\n",
    "for root, dirnames, filenames in os.walk(folder):\n",
    "    for filename in filenames:\n",
    "        if filename.endswith(extensions):\n",
    "            os.remove(filename) # Notice how we are using os.remove() instead of appending to a list.\n",
    "\n",
    "~~~"
   ]
  },
  {
   "cell_type": "markdown",
   "metadata": {},
   "source": [
    "----------------------------------------------------------------------"
   ]
  },
  {
   "cell_type": "markdown",
   "metadata": {},
   "source": [
    "Hopefully you can see how easy it is to <strong> delete files and folders within your local folders at scale. </strong>\n",
    "\n",
    "Reading and deleting multiple files ensures that you can create simple data pipelines such as:\n",
    "    \n",
    "- Manually download 100x .csv files.\n",
    "- Automatically open all of the .csv files.\n",
    "- Concatenate the .csv files together into a pandas dataframe.\n",
    "- Perform some data manipulation on the merged data.\n",
    "- Save the concatenated pandas dataframe as a new csv i.e. master.csv\n",
    "- Delete all of the original .csv files."
   ]
  }
 ],
 "metadata": {
  "kernelspec": {
   "display_name": "Python 3",
   "language": "python",
   "name": "python3"
  },
  "language_info": {
   "codemirror_mode": {
    "name": "ipython",
    "version": 3
   },
   "file_extension": ".py",
   "mimetype": "text/x-python",
   "name": "python",
   "nbconvert_exporter": "python",
   "pygments_lexer": "ipython3",
   "version": "3.7.6"
  }
 },
 "nbformat": 4,
 "nbformat_minor": 4
}
