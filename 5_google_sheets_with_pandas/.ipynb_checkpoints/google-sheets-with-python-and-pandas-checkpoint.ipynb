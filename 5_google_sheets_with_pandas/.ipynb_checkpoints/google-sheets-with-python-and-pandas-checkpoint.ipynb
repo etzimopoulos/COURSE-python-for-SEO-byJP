{
 "cells": [
  {
   "cell_type": "markdown",
   "metadata": {},
   "source": [
    "# 5. How To Read And Write To A Google Sheet With Python & Pandas"
   ]
  },
  {
   "cell_type": "markdown",
   "metadata": {},
   "source": [
    "## Learning Outcomes\n",
    "\n",
    "- To learn how to authenticate with Google Sheets within a .py file or jupyter notebook file.\n",
    "- To learn how to read from a Google Sheet.\n",
    "- To learn how to write (upload) to a Google Sheet."
   ]
  },
  {
   "cell_type": "markdown",
   "metadata": {},
   "source": [
    "---------------------------------------------------------------"
   ]
  },
  {
   "cell_type": "markdown",
   "metadata": {},
   "source": [
    "## Module Imports"
   ]
  },
  {
   "cell_type": "code",
   "execution_count": 4,
   "metadata": {},
   "outputs": [],
   "source": [
    "import pandas as pd\n",
    "import json\n",
    "import csv\n",
    "from google.oauth2 import service_account"
   ]
  },
  {
   "cell_type": "markdown",
   "metadata": {},
   "source": [
    "----------------------------------------------------------------"
   ]
  },
  {
   "cell_type": "markdown",
   "metadata": {},
   "source": [
    "## Download Pygsheets"
   ]
  },
  {
   "cell_type": "markdown",
   "metadata": {},
   "source": [
    "We will be using a python package called [pygsheets](https://pygsheets.readthedocs.io/en/stable/) to easily interact with a new google sheet that we will create.\n",
    "\n",
    "If you're using anaconda you can navigate to your termainl and install the latest version of this package with:\n",
    "\n",
    "~~~\n",
    "\n",
    "conda install pygsheets\n",
    "\n",
    "~~~\n",
    "\n",
    "Alternatively if you're using pip or pip3 to manage your packages you can type either:\n",
    "\n",
    "~~~\n",
    "\n",
    "pip install pygsheets\n",
    "pip3 install pygsheets\n",
    "\n",
    "\n",
    "~~~"
   ]
  },
  {
   "cell_type": "code",
   "execution_count": 2,
   "metadata": {},
   "outputs": [
    {
     "name": "stdout",
     "output_type": "stream",
     "text": [
      "Requirement already satisfied: pygsheets in /Users/jamesphoenix/opt/anaconda3/lib/python3.7/site-packages (2.0.3.1)\n",
      "Requirement already satisfied: google-auth-oauthlib in /Users/jamesphoenix/opt/anaconda3/lib/python3.7/site-packages (from pygsheets) (0.4.1)\n",
      "Requirement already satisfied: oauth2client in /Users/jamesphoenix/opt/anaconda3/lib/python3.7/site-packages (from pygsheets) (4.1.3)\n",
      "Requirement already satisfied: google-api-python-client>=1.5.5 in /Users/jamesphoenix/opt/anaconda3/lib/python3.7/site-packages (from pygsheets) (1.8.3)\n",
      "Requirement already satisfied: google-auth in /Users/jamesphoenix/opt/anaconda3/lib/python3.7/site-packages (from google-auth-oauthlib->pygsheets) (1.14.3)\n",
      "Requirement already satisfied: requests-oauthlib>=0.7.0 in /Users/jamesphoenix/opt/anaconda3/lib/python3.7/site-packages (from google-auth-oauthlib->pygsheets) (1.3.0)\n",
      "Requirement already satisfied: pyasn1-modules>=0.0.5 in /Users/jamesphoenix/opt/anaconda3/lib/python3.7/site-packages (from oauth2client->pygsheets) (0.2.8)\n",
      "Requirement already satisfied: pyasn1>=0.1.7 in /Users/jamesphoenix/opt/anaconda3/lib/python3.7/site-packages (from oauth2client->pygsheets) (0.4.8)\n",
      "Requirement already satisfied: httplib2>=0.9.1 in /Users/jamesphoenix/opt/anaconda3/lib/python3.7/site-packages (from oauth2client->pygsheets) (0.17.3)\n",
      "Requirement already satisfied: six>=1.6.1 in /Users/jamesphoenix/opt/anaconda3/lib/python3.7/site-packages (from oauth2client->pygsheets) (1.14.0)\n",
      "Requirement already satisfied: rsa>=3.1.4 in /Users/jamesphoenix/opt/anaconda3/lib/python3.7/site-packages (from oauth2client->pygsheets) (4.0)\n",
      "Requirement already satisfied: google-api-core<2dev,>=1.13.0 in /Users/jamesphoenix/opt/anaconda3/lib/python3.7/site-packages (from google-api-python-client>=1.5.5->pygsheets) (1.17.0)\n",
      "Requirement already satisfied: uritemplate<4dev,>=3.0.0 in /Users/jamesphoenix/opt/anaconda3/lib/python3.7/site-packages (from google-api-python-client>=1.5.5->pygsheets) (3.0.1)\n",
      "Requirement already satisfied: google-auth-httplib2>=0.0.3 in /Users/jamesphoenix/opt/anaconda3/lib/python3.7/site-packages (from google-api-python-client>=1.5.5->pygsheets) (0.0.3)\n",
      "Requirement already satisfied: setuptools>=40.3.0 in /Users/jamesphoenix/opt/anaconda3/lib/python3.7/site-packages (from google-auth->google-auth-oauthlib->pygsheets) (46.0.0.post20200309)\n",
      "Requirement already satisfied: cachetools<5.0,>=2.0.0 in /Users/jamesphoenix/opt/anaconda3/lib/python3.7/site-packages (from google-auth->google-auth-oauthlib->pygsheets) (4.1.0)\n",
      "Requirement already satisfied: requests>=2.0.0 in /Users/jamesphoenix/.local/lib/python3.7/site-packages (from requests-oauthlib>=0.7.0->google-auth-oauthlib->pygsheets) (2.20.1)\n",
      "Requirement already satisfied: oauthlib>=3.0.0 in /Users/jamesphoenix/opt/anaconda3/lib/python3.7/site-packages (from requests-oauthlib>=0.7.0->google-auth-oauthlib->pygsheets) (3.1.0)\n",
      "Requirement already satisfied: pytz in /Users/jamesphoenix/opt/anaconda3/lib/python3.7/site-packages (from google-api-core<2dev,>=1.13.0->google-api-python-client>=1.5.5->pygsheets) (2019.3)\n",
      "Requirement already satisfied: protobuf>=3.4.0 in /Users/jamesphoenix/opt/anaconda3/lib/python3.7/site-packages (from google-api-core<2dev,>=1.13.0->google-api-python-client>=1.5.5->pygsheets) (3.12.0)\n",
      "Requirement already satisfied: googleapis-common-protos<2.0dev,>=1.6.0 in /Users/jamesphoenix/opt/anaconda3/lib/python3.7/site-packages (from google-api-core<2dev,>=1.13.0->google-api-python-client>=1.5.5->pygsheets) (1.51.0)\n",
      "Requirement already satisfied: urllib3<1.25,>=1.21.1 in /Users/jamesphoenix/.local/lib/python3.7/site-packages (from requests>=2.0.0->requests-oauthlib>=0.7.0->google-auth-oauthlib->pygsheets) (1.24.3)\n",
      "Requirement already satisfied: chardet<3.1.0,>=3.0.2 in /Users/jamesphoenix/opt/anaconda3/lib/python3.7/site-packages (from requests>=2.0.0->requests-oauthlib>=0.7.0->google-auth-oauthlib->pygsheets) (3.0.4)\n",
      "Requirement already satisfied: certifi>=2017.4.17 in /Users/jamesphoenix/opt/anaconda3/lib/python3.7/site-packages (from requests>=2.0.0->requests-oauthlib>=0.7.0->google-auth-oauthlib->pygsheets) (2019.11.28)\n",
      "Requirement already satisfied: idna<2.8,>=2.5 in /Users/jamesphoenix/.local/lib/python3.7/site-packages (from requests>=2.0.0->requests-oauthlib>=0.7.0->google-auth-oauthlib->pygsheets) (2.7)\n"
     ]
    }
   ],
   "source": [
    "!pip install pygsheets"
   ]
  },
  {
   "cell_type": "markdown",
   "metadata": {},
   "source": [
    "As you can see from above I've previously installed pygsheets, after you've installed the python package if you're working from a jupyter notebook, then please restart the Kernel:"
   ]
  },
  {
   "cell_type": "markdown",
   "metadata": {},
   "source": [
    "![how to clear the kernel](https://sempioneer.com/wp-content/uploads/2020/05/1_clear_kernel.png)"
   ]
  },
  {
   "cell_type": "code",
   "execution_count": 10,
   "metadata": {},
   "outputs": [],
   "source": [
    "import pygsheets"
   ]
  },
  {
   "cell_type": "markdown",
   "metadata": {},
   "source": [
    "--------------------------------------------------------------------------------------------------------------------------------"
   ]
  },
  {
   "cell_type": "markdown",
   "metadata": {},
   "source": [
    "## To Authenticate To A Google Cloud Project With A .JSON Service Account Key"
   ]
  },
  {
   "cell_type": "markdown",
   "metadata": {},
   "source": [
    "Using your local .json file we will authenticate to our google service account."
   ]
  },
  {
   "cell_type": "code",
   "execution_count": 7,
   "metadata": {},
   "outputs": [],
   "source": [
    "with open('service_account.json') as source:\n",
    "    info = json.load(source)\n",
    "    \n",
    "credentials = service_account.Credentials.from_service_account_info(info)"
   ]
  },
  {
   "cell_type": "markdown",
   "metadata": {},
   "source": [
    "--------------------------------------------------------"
   ]
  },
  {
   "cell_type": "markdown",
   "metadata": {},
   "source": [
    "## Create A New Google Sheet + Obtain The Unique ID"
   ]
  },
  {
   "cell_type": "markdown",
   "metadata": {},
   "source": [
    "Firstly we are going to create a new google sheet, then we'll obtain the id of that specific google sheet which can be found within the URL:"
   ]
  },
  {
   "cell_type": "markdown",
   "metadata": {},
   "source": [
    "![how to obtain the google sheet id](https://sempioneer.com/wp-content/uploads/2020/05/2_obtain_the_google_sheet_id.png)"
   ]
  },
  {
   "cell_type": "markdown",
   "metadata": {},
   "source": [
    "## Authenticating With Google Sheets (The PyGsheets Method)"
   ]
  },
  {
   "cell_type": "markdown",
   "metadata": {},
   "source": [
    "Let's see how to successfully authenticate to google sheets with our .json key "
   ]
  },
  {
   "cell_type": "code",
   "execution_count": 20,
   "metadata": {},
   "outputs": [],
   "source": [
    "gsheets_api = pygsheets.authorize(service_account_file='service_account.json')"
   ]
  },
  {
   "cell_type": "markdown",
   "metadata": {},
   "source": [
    "---------------------------------------------------------------------------------"
   ]
  },
  {
   "cell_type": "markdown",
   "metadata": {},
   "source": [
    "## How To Read From A Google Sheet\n",
    "\n",
    "- How to extract columns \n",
    "- How to extract all values\n",
    "- How to extract specific columns and rows"
   ]
  },
  {
   "cell_type": "markdown",
   "metadata": {},
   "source": [
    "Remember that every google sheet has worksheets and therefore we need to connect to the default worksheet which is created called <strong> Sheet1</strong>"
   ]
  },
  {
   "cell_type": "code",
   "execution_count": null,
   "metadata": {},
   "outputs": [],
   "source": [
    "gsheets_api.open()"
   ]
  },
  {
   "cell_type": "markdown",
   "metadata": {},
   "source": [
    "Let's add some some data to column A and try to read the values:"
   ]
  },
  {
   "cell_type": "code",
   "execution_count": null,
   "metadata": {},
   "outputs": [],
   "source": []
  },
  {
   "cell_type": "code",
   "execution_count": null,
   "metadata": {},
   "outputs": [],
   "source": [
    "get_as_df(ha"
   ]
  },
  {
   "cell_type": "code",
   "execution_count": null,
   "metadata": {},
   "outputs": [],
   "source": []
  },
  {
   "cell_type": "code",
   "execution_count": null,
   "metadata": {},
   "outputs": [],
   "source": []
  },
  {
   "cell_type": "markdown",
   "metadata": {},
   "source": [
    "## How To Upload Data To A Google Sheet From A Pandas DataFrame"
   ]
  },
  {
   "cell_type": "code",
   "execution_count": null,
   "metadata": {},
   "outputs": [],
   "source": []
  },
  {
   "cell_type": "markdown",
   "metadata": {},
   "source": [
    "--------------------------------------------------------------------------------------------------------------------------------"
   ]
  }
 ],
 "metadata": {
  "kernelspec": {
   "display_name": "Python 3",
   "language": "python",
   "name": "python3"
  },
  "language_info": {
   "codemirror_mode": {
    "name": "ipython",
    "version": 3
   },
   "file_extension": ".py",
   "mimetype": "text/x-python",
   "name": "python",
   "nbconvert_exporter": "python",
   "pygments_lexer": "ipython3",
   "version": "3.7.6"
  }
 },
 "nbformat": 4,
 "nbformat_minor": 4
}
