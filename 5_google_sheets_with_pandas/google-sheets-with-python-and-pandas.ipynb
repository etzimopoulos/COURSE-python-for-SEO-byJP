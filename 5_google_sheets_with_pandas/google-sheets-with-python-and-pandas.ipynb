{
 "cells": [
  {
   "cell_type": "markdown",
   "metadata": {},
   "source": [
    "# 5. The Comprehensive Guide To Google Sheets With Python"
   ]
  },
  {
   "cell_type": "markdown",
   "metadata": {},
   "source": [
    "## Learning Outcomes\n",
    "\n",
    "- To learn how to authenticate with Google Sheets within a .py file or jupyter notebook file.\n",
    "- To learn how to read from a Google Sheet.\n",
    "- To learn how to write (upload) to a Google Sheet.\n",
    "- To learn how to manipulate data within Google Sheets.\n",
    "- To learn how to store data to a local file from a Google Sheet.\n",
    "- To learn how to share a Google Sheet with other gmail users."
   ]
  },
  {
   "cell_type": "markdown",
   "metadata": {},
   "source": [
    "---------------------------------------------------------------"
   ]
  },
  {
   "cell_type": "markdown",
   "metadata": {},
   "source": [
    "## Module Imports"
   ]
  },
  {
   "cell_type": "markdown",
   "metadata": {},
   "source": [
    "In order to run the module imports below you will need to have installed the following python client:\n",
    "\n",
    "- https://github.com/googleapis/google-api-python-client\n",
    "\n",
    "A quick way to do that would be to run the following command and to restart your Jupyter Notebook server:\n",
    "\n",
    "~~~\n",
    "\n",
    "pip install --upgrade google-api-python-client\n",
    "\n",
    "~~~\n",
    "\n",
    "---\n",
    "\n",
    "Additionally I would encourage you to download the gcloud software development kit (SDK), which will come in useful for deploying and access your Google Cloud Platform resources:\n",
    "\n",
    "You can find more information on how to do that from:\n",
    "\n",
    "- https://cloud.google.com/python/setup\n",
    "- https://cloud.google.com/sdk/docs"
   ]
  },
  {
   "cell_type": "code",
   "execution_count": 195,
   "metadata": {},
   "outputs": [
    {
     "name": "stdout",
     "output_type": "stream",
     "text": [
      "Requirement already up-to-date: google-api-python-client in /opt/anaconda3/lib/python3.7/site-packages (1.8.4)\n",
      "Requirement already satisfied, skipping upgrade: google-auth-httplib2>=0.0.3 in /opt/anaconda3/lib/python3.7/site-packages (from google-api-python-client) (0.0.3)\n",
      "Requirement already satisfied, skipping upgrade: google-auth>=1.4.1 in /Users/jamesanthonyphoenix/.local/lib/python3.7/site-packages (from google-api-python-client) (1.11.0)\n",
      "Requirement already satisfied, skipping upgrade: uritemplate<4dev,>=3.0.0 in /opt/anaconda3/lib/python3.7/site-packages (from google-api-python-client) (3.0.1)\n",
      "Requirement already satisfied, skipping upgrade: httplib2<1dev,>=0.9.2 in /opt/anaconda3/lib/python3.7/site-packages (from google-api-python-client) (0.17.0)\n",
      "Requirement already satisfied, skipping upgrade: google-api-core<2dev,>=1.13.0 in /Users/jamesanthonyphoenix/.local/lib/python3.7/site-packages (from google-api-python-client) (1.16.0)\n",
      "Requirement already satisfied, skipping upgrade: six<2dev,>=1.6.1 in /opt/anaconda3/lib/python3.7/site-packages (from google-api-python-client) (1.13.0)\n",
      "Requirement already satisfied, skipping upgrade: cachetools<5.0,>=2.0.0 in /Users/jamesanthonyphoenix/.local/lib/python3.7/site-packages (from google-auth>=1.4.1->google-api-python-client) (4.0.0)\n",
      "Requirement already satisfied, skipping upgrade: setuptools>=40.3.0 in /opt/anaconda3/lib/python3.7/site-packages (from google-auth>=1.4.1->google-api-python-client) (41.4.0)\n",
      "Requirement already satisfied, skipping upgrade: rsa<4.1,>=3.1.4 in /opt/anaconda3/lib/python3.7/site-packages (from google-auth>=1.4.1->google-api-python-client) (4.0)\n",
      "Requirement already satisfied, skipping upgrade: pyasn1-modules>=0.2.1 in /opt/anaconda3/lib/python3.7/site-packages (from google-auth>=1.4.1->google-api-python-client) (0.2.8)\n",
      "Requirement already satisfied, skipping upgrade: pytz in /opt/anaconda3/lib/python3.7/site-packages (from google-api-core<2dev,>=1.13.0->google-api-python-client) (2019.3)\n",
      "Requirement already satisfied, skipping upgrade: googleapis-common-protos<2.0dev,>=1.6.0 in /opt/anaconda3/lib/python3.7/site-packages (from google-api-core<2dev,>=1.13.0->google-api-python-client) (1.51.0)\n",
      "Requirement already satisfied, skipping upgrade: requests<3.0.0dev,>=2.18.0 in /Users/jamesanthonyphoenix/.local/lib/python3.7/site-packages (from google-api-core<2dev,>=1.13.0->google-api-python-client) (2.20.1)\n",
      "Requirement already satisfied, skipping upgrade: protobuf>=3.4.0 in /opt/anaconda3/lib/python3.7/site-packages (from google-api-core<2dev,>=1.13.0->google-api-python-client) (3.11.3)\n",
      "Requirement already satisfied, skipping upgrade: pyasn1>=0.1.3 in /Users/jamesanthonyphoenix/.local/lib/python3.7/site-packages (from rsa<4.1,>=3.1.4->google-auth>=1.4.1->google-api-python-client) (0.4.8)\n",
      "Requirement already satisfied, skipping upgrade: idna<2.8,>=2.5 in /Users/jamesanthonyphoenix/.local/lib/python3.7/site-packages (from requests<3.0.0dev,>=2.18.0->google-api-core<2dev,>=1.13.0->google-api-python-client) (2.7)\n",
      "Requirement already satisfied, skipping upgrade: urllib3<1.25,>=1.21.1 in /opt/anaconda3/lib/python3.7/site-packages (from requests<3.0.0dev,>=2.18.0->google-api-core<2dev,>=1.13.0->google-api-python-client) (1.24.2)\n",
      "Requirement already satisfied, skipping upgrade: certifi>=2017.4.17 in /opt/anaconda3/lib/python3.7/site-packages (from requests<3.0.0dev,>=2.18.0->google-api-core<2dev,>=1.13.0->google-api-python-client) (2019.9.11)\n",
      "Requirement already satisfied, skipping upgrade: chardet<3.1.0,>=3.0.2 in /opt/anaconda3/lib/python3.7/site-packages (from requests<3.0.0dev,>=2.18.0->google-api-core<2dev,>=1.13.0->google-api-python-client) (3.0.4)\n",
      "Note: you may need to restart the kernel to use updated packages.\n"
     ]
    }
   ],
   "source": [
    "pip install --upgrade google-api-python-client"
   ]
  },
  {
   "cell_type": "code",
   "execution_count": 1,
   "metadata": {},
   "outputs": [],
   "source": [
    "import pandas as pd\n",
    "import json\n",
    "import csv\n",
    "from google.oauth2 import service_account"
   ]
  },
  {
   "cell_type": "markdown",
   "metadata": {},
   "source": [
    "----------------------------------------------------------------"
   ]
  },
  {
   "cell_type": "markdown",
   "metadata": {},
   "source": [
    "## Download Pygsheets"
   ]
  },
  {
   "cell_type": "markdown",
   "metadata": {},
   "source": [
    "We will be using a python package called [pygsheets](https://pygsheets.readthedocs.io/en/stable/) to easily interact with a new google sheet that we will create.\n",
    "\n",
    "If you're using anaconda you can navigate to your terminal and install the latest version of this package with:\n",
    "\n",
    "~~~\n",
    "\n",
    "conda install pygsheets\n",
    "\n",
    "~~~\n",
    "\n",
    "Alternatively if you're using pip or pip3 to manage your packages you can type either:\n",
    "\n",
    "~~~\n",
    "\n",
    "pip install pygsheets\n",
    "pip3 install pygsheets\n",
    "\n",
    "\n",
    "~~~"
   ]
  },
  {
   "cell_type": "code",
   "execution_count": 167,
   "metadata": {},
   "outputs": [
    {
     "name": "stdout",
     "output_type": "stream",
     "text": [
      "Requirement already satisfied: pygsheets in /opt/anaconda3/lib/python3.7/site-packages (2.0.3)\n",
      "Requirement already satisfied: google-api-python-client>=1.5.5 in /opt/anaconda3/lib/python3.7/site-packages (from pygsheets) (1.8.4)\n",
      "Requirement already satisfied: oauth2client in /opt/anaconda3/lib/python3.7/site-packages (from pygsheets) (4.1.3)\n",
      "Requirement already satisfied: google-auth-oauthlib in /opt/anaconda3/lib/python3.7/site-packages (from pygsheets) (0.4.1)\n",
      "Requirement already satisfied: google-auth-httplib2>=0.0.3 in /opt/anaconda3/lib/python3.7/site-packages (from google-api-python-client>=1.5.5->pygsheets) (0.0.3)\n",
      "Requirement already satisfied: six<2dev,>=1.6.1 in /opt/anaconda3/lib/python3.7/site-packages (from google-api-python-client>=1.5.5->pygsheets) (1.13.0)\n",
      "Requirement already satisfied: uritemplate<4dev,>=3.0.0 in /opt/anaconda3/lib/python3.7/site-packages (from google-api-python-client>=1.5.5->pygsheets) (3.0.1)\n",
      "Requirement already satisfied: httplib2<1dev,>=0.9.2 in /opt/anaconda3/lib/python3.7/site-packages (from google-api-python-client>=1.5.5->pygsheets) (0.17.0)\n",
      "Requirement already satisfied: google-api-core<2dev,>=1.13.0 in /Users/jamesanthonyphoenix/.local/lib/python3.7/site-packages (from google-api-python-client>=1.5.5->pygsheets) (1.16.0)\n",
      "Requirement already satisfied: google-auth>=1.4.1 in /Users/jamesanthonyphoenix/.local/lib/python3.7/site-packages (from google-api-python-client>=1.5.5->pygsheets) (1.11.0)\n",
      "Requirement already satisfied: rsa>=3.1.4 in /opt/anaconda3/lib/python3.7/site-packages (from oauth2client->pygsheets) (4.0)\n",
      "Requirement already satisfied: pyasn1-modules>=0.0.5 in /opt/anaconda3/lib/python3.7/site-packages (from oauth2client->pygsheets) (0.2.8)\n",
      "Requirement already satisfied: pyasn1>=0.1.7 in /Users/jamesanthonyphoenix/.local/lib/python3.7/site-packages (from oauth2client->pygsheets) (0.4.8)\n",
      "Requirement already satisfied: requests-oauthlib>=0.7.0 in /opt/anaconda3/lib/python3.7/site-packages (from google-auth-oauthlib->pygsheets) (1.3.0)\n",
      "Requirement already satisfied: setuptools>=34.0.0 in /opt/anaconda3/lib/python3.7/site-packages (from google-api-core<2dev,>=1.13.0->google-api-python-client>=1.5.5->pygsheets) (41.4.0)\n",
      "Requirement already satisfied: googleapis-common-protos<2.0dev,>=1.6.0 in /opt/anaconda3/lib/python3.7/site-packages (from google-api-core<2dev,>=1.13.0->google-api-python-client>=1.5.5->pygsheets) (1.51.0)\n",
      "Requirement already satisfied: pytz in /opt/anaconda3/lib/python3.7/site-packages (from google-api-core<2dev,>=1.13.0->google-api-python-client>=1.5.5->pygsheets) (2019.3)\n",
      "Requirement already satisfied: protobuf>=3.4.0 in /opt/anaconda3/lib/python3.7/site-packages (from google-api-core<2dev,>=1.13.0->google-api-python-client>=1.5.5->pygsheets) (3.11.3)\n",
      "Requirement already satisfied: requests<3.0.0dev,>=2.18.0 in /Users/jamesanthonyphoenix/.local/lib/python3.7/site-packages (from google-api-core<2dev,>=1.13.0->google-api-python-client>=1.5.5->pygsheets) (2.20.1)\n",
      "Requirement already satisfied: cachetools<5.0,>=2.0.0 in /Users/jamesanthonyphoenix/.local/lib/python3.7/site-packages (from google-auth>=1.4.1->google-api-python-client>=1.5.5->pygsheets) (4.0.0)\n",
      "Requirement already satisfied: oauthlib>=3.0.0 in /opt/anaconda3/lib/python3.7/site-packages (from requests-oauthlib>=0.7.0->google-auth-oauthlib->pygsheets) (3.1.0)\n",
      "Requirement already satisfied: chardet<3.1.0,>=3.0.2 in /opt/anaconda3/lib/python3.7/site-packages (from requests<3.0.0dev,>=2.18.0->google-api-core<2dev,>=1.13.0->google-api-python-client>=1.5.5->pygsheets) (3.0.4)\n",
      "Requirement already satisfied: idna<2.8,>=2.5 in /Users/jamesanthonyphoenix/.local/lib/python3.7/site-packages (from requests<3.0.0dev,>=2.18.0->google-api-core<2dev,>=1.13.0->google-api-python-client>=1.5.5->pygsheets) (2.7)\n",
      "Requirement already satisfied: urllib3<1.25,>=1.21.1 in /opt/anaconda3/lib/python3.7/site-packages (from requests<3.0.0dev,>=2.18.0->google-api-core<2dev,>=1.13.0->google-api-python-client>=1.5.5->pygsheets) (1.24.2)\n",
      "Requirement already satisfied: certifi>=2017.4.17 in /opt/anaconda3/lib/python3.7/site-packages (from requests<3.0.0dev,>=2.18.0->google-api-core<2dev,>=1.13.0->google-api-python-client>=1.5.5->pygsheets) (2019.9.11)\n"
     ]
    }
   ],
   "source": [
    "!pip install pygsheets"
   ]
  },
  {
   "cell_type": "markdown",
   "metadata": {},
   "source": [
    "As you can see from above I've previously installed pygsheets, after you've installed the python package if you're working from a jupyter notebook, then please restart the Kernel:"
   ]
  },
  {
   "cell_type": "markdown",
   "metadata": {},
   "source": [
    "![how to clear the kernel](https://sempioneer.com/wp-content/uploads/2020/05/1_clear_kernel.png)"
   ]
  },
  {
   "cell_type": "code",
   "execution_count": 168,
   "metadata": {},
   "outputs": [],
   "source": [
    "import pygsheets"
   ]
  },
  {
   "cell_type": "markdown",
   "metadata": {},
   "source": [
    "--------------------------------------------------------------------------------------------------------------------------------"
   ]
  },
  {
   "cell_type": "markdown",
   "metadata": {},
   "source": [
    "## Authenticating To A Google Cloud Project With A .JSON Service Account Key"
   ]
  },
  {
   "cell_type": "markdown",
   "metadata": {},
   "source": [
    "Using a previously obtained local .json file you can authenticate to your google service account."
   ]
  },
  {
   "cell_type": "code",
   "execution_count": 169,
   "metadata": {},
   "outputs": [],
   "source": [
    "with open('service_account.json') as source:\n",
    "    info = json.load(source)\n",
    "    \n",
    "credentials = service_account.Credentials.from_service_account_info(info)"
   ]
  },
  {
   "cell_type": "markdown",
   "metadata": {},
   "source": [
    "--------------------------------------------------------"
   ]
  },
  {
   "cell_type": "markdown",
   "metadata": {},
   "source": [
    "## Create A New Google Sheet + Obtain The Unique ID"
   ]
  },
  {
   "cell_type": "markdown",
   "metadata": {},
   "source": [
    "Firstly we are going to create a new google sheet, then we'll obtain the id of that specific google sheet which can be found within the URL:"
   ]
  },
  {
   "cell_type": "markdown",
   "metadata": {},
   "source": [
    "![how to obtain the google sheet id](https://sempioneer.com/wp-content/uploads/2020/05/2_obtain_the_google_sheet_id.png)"
   ]
  },
  {
   "cell_type": "markdown",
   "metadata": {},
   "source": [
    "--------------------------------------------------------------------------------"
   ]
  },
  {
   "cell_type": "markdown",
   "metadata": {},
   "source": [
    "## Google Sheet Wizardry With Python Commands"
   ]
  },
  {
   "cell_type": "markdown",
   "metadata": {},
   "source": [
    "### Authenticating With Google Sheets With Pyghseets"
   ]
  },
  {
   "cell_type": "markdown",
   "metadata": {},
   "source": [
    "Let's see how to successfully authenticate to google sheets with our .json key "
   ]
  },
  {
   "cell_type": "code",
   "execution_count": 195,
   "metadata": {},
   "outputs": [],
   "source": [
    "client = pygsheets.authorize(service_account_file='service_account.json')"
   ]
  },
  {
   "cell_type": "markdown",
   "metadata": {},
   "source": [
    "---------------------------------------------------------------------------------"
   ]
  },
  {
   "cell_type": "markdown",
   "metadata": {},
   "source": [
    "### How To Connect To a Specific Google Sheet"
   ]
  },
  {
   "cell_type": "markdown",
   "metadata": {},
   "source": [
    "Now that we've authenticated pygsheets with our google cloud project let's connect to a specific google sheet. \n",
    "\n",
    "In order to do this we will need to grab the URL link and share the spreadsheet."
   ]
  },
  {
   "cell_type": "code",
   "execution_count": 196,
   "metadata": {},
   "outputs": [],
   "source": [
    "spreadsheet_url = \\\n",
    "\"https://docs.google.com/spreadsheets/d/1OBR8HEE2rjaWqZPnb8mHnp3YpxxELcy5Zqve3gtX22Q/edit?usp=sharing\""
   ]
  },
  {
   "cell_type": "markdown",
   "metadata": {},
   "source": [
    "Additionally we will extract the spreadsheet ID which can be located in the URL above between <strong> /d/ and /edit? </strong>"
   ]
  },
  {
   "cell_type": "markdown",
   "metadata": {},
   "source": [
    "This id will be unique for you so please make sure to code along! "
   ]
  },
  {
   "cell_type": "markdown",
   "metadata": {},
   "source": [
    "![google spreadsheet](https://sempioneer.com/wp-content/uploads/2020/05/spreadsheet-id-.png)"
   ]
  },
  {
   "cell_type": "code",
   "execution_count": 197,
   "metadata": {},
   "outputs": [],
   "source": [
    "sheet_data = client.sheet.get('1OBR8HEE2rjaWqZPnb8mHnp3YpxxELcy5Zqve3gtX22Q')"
   ]
  },
  {
   "cell_type": "markdown",
   "metadata": {},
   "source": [
    "------------------------------------------------------------------"
   ]
  },
  {
   "cell_type": "markdown",
   "metadata": {},
   "source": [
    "There are three ways to open the spreadsheet:\n",
    "\n",
    "- By the spreadsheet title.\n",
    "- By the unique spreadsheet ID.\n",
    "- By the exact URL of the ghseet.\n",
    "\n",
    "🔥 Let's showcase all three and you can take your pick 🔥"
   ]
  },
  {
   "cell_type": "code",
   "execution_count": 198,
   "metadata": {},
   "outputs": [],
   "source": [
    "# sheet = client.open('Sheet1') ## You will need to activate the Google Drive API as well as the spreadsheet API for this one to work\n",
    "sheet = client.open_by_key('1OBR8HEE2rjaWqZPnb8mHnp3YpxxELcy5Zqve3gtX22Q')\n",
    "sheet = client.open_by_url('https://docs.google.com/spreadsheets/d/1OBR8HEE2rjaWqZPnb8mHnp3YpxxELcy5Zqve3gtX22Q/edit?usp=sharing')"
   ]
  },
  {
   "cell_type": "code",
   "execution_count": 199,
   "metadata": {},
   "outputs": [
    {
     "name": "stdout",
     "output_type": "stream",
     "text": [
      "<Spreadsheet 'Test Google Sheet' Sheets:1>\n"
     ]
    }
   ],
   "source": [
    "print(sheet)"
   ]
  },
  {
   "cell_type": "markdown",
   "metadata": {},
   "source": [
    "------------------------------------------------------------------------------------------"
   ]
  },
  {
   "cell_type": "markdown",
   "metadata": {},
   "source": [
    "### How To Select A Specific Google Worksheet"
   ]
  },
  {
   "cell_type": "markdown",
   "metadata": {},
   "source": [
    "Let's select the automatically created worksheet called Sheet1:"
   ]
  },
  {
   "cell_type": "code",
   "execution_count": 200,
   "metadata": {},
   "outputs": [
    {
     "name": "stdout",
     "output_type": "stream",
     "text": [
      "<Worksheet 'Sheet1' index:0>\n"
     ]
    }
   ],
   "source": [
    "wks = sheet.worksheet_by_title('Sheet1')\n",
    "print(wks)"
   ]
  },
  {
   "cell_type": "markdown",
   "metadata": {},
   "source": [
    "------------------------------------------------------------------------"
   ]
  },
  {
   "cell_type": "markdown",
   "metadata": {},
   "source": [
    "### Accessing Rows & Columns Meta-data"
   ]
  },
  {
   "cell_type": "markdown",
   "metadata": {},
   "source": [
    "After uploading a dataframe into a google sheet, you can see how many columns and rows you have with:\n",
    "    \n",
    "~~~\n",
    "\n",
    "wks.cols # To view the number of columns\n",
    "wks.rows # To view the number of rows\n",
    "\n",
    "~~~"
   ]
  },
  {
   "cell_type": "code",
   "execution_count": 201,
   "metadata": {},
   "outputs": [
    {
     "name": "stdout",
     "output_type": "stream",
     "text": [
      "There are 19 columns in the gsheet!\n",
      "There are 1001 rows in the gsheet!\n"
     ]
    }
   ],
   "source": [
    "print(f\"There are {wks.cols} columns in the gsheet!\")\n",
    "print(f\"There are {wks.rows} rows in the gsheet!\")"
   ]
  },
  {
   "cell_type": "markdown",
   "metadata": {},
   "source": [
    "-----------------------------------------------------------------"
   ]
  },
  {
   "cell_type": "markdown",
   "metadata": {},
   "source": [
    "### How To Upload Data To A Google Sheet From A Pandas DataFrame"
   ]
  },
  {
   "cell_type": "markdown",
   "metadata": {},
   "source": [
    "I am going to use the keyword data that I originally downloaded from Ahrefs, however if you have another csv that's absolutely fine. I'd encourage you to simply read any csv file and to create a pandas dataframe:"
   ]
  },
  {
   "cell_type": "code",
   "execution_count": 202,
   "metadata": {},
   "outputs": [],
   "source": [
    "df = pd.read_csv('../1_Keywords/data/digital-marketing-keyword-ideas.csv', \n",
    "                 delimiter='\\t', \n",
    "                 encoding='UTF-16')\n",
    "\n",
    "df.drop(columns=['#'], inplace=True)"
   ]
  },
  {
   "cell_type": "markdown",
   "metadata": {},
   "source": [
    "To upload a dataframe to this worksheet we can use the following syntax:\n",
    "    \n",
    "~~~\n",
    "\n",
    "set_dataframe(df, start, copy_index=False, copy_head=True, extend=False, fit=False, escape_formulae=False, **kwargs)\n",
    "\n",
    "~~~"
   ]
  },
  {
   "cell_type": "code",
   "execution_count": 203,
   "metadata": {},
   "outputs": [],
   "source": [
    "wks.set_dataframe(df, start=(1,1))"
   ]
  },
  {
   "cell_type": "markdown",
   "metadata": {},
   "source": [
    "![](https://sempioneer.com/wp-content/uploads/2020/05/python-pygsheets.png)"
   ]
  },
  {
   "cell_type": "markdown",
   "metadata": {},
   "source": [
    "It's worth remembering that when you run the above command you will overwrite any cell values. \n",
    "\n",
    "However if you prefer to progressively append new rows to the bottom of the worksheet, please use the below syntax:\n",
    "\n",
    "~~~\n",
    "wks.set_dataframe(df, start=(1,1), extend=True)\n",
    "\n",
    "~~~"
   ]
  },
  {
   "cell_type": "markdown",
   "metadata": {},
   "source": [
    "--------------------------------------------------------------------------------------------------------"
   ]
  },
  {
   "cell_type": "markdown",
   "metadata": {},
   "source": [
    "Pro Tip: If you don't have enough rows within your existing worksheet, then uploading a pandas dataframe might fail! In order to account for this you can check the existing number of rows within the worksheet vs the number of rows within the dataframe and add extra rows if required.\n",
    "\n",
    "We can also do the same thing for columns too!"
   ]
  },
  {
   "cell_type": "code",
   "execution_count": 204,
   "metadata": {},
   "outputs": [],
   "source": [
    "# If the number of rows within the worksheet is less than the dataframe:\n",
    "if wks.rows < df.shape[0]:\n",
    "    number_of_rows_to_add = df.shape[0] - wks.rows + 1 \n",
    "    # Adding the required number of rows\n",
    "    wks.add_rows(number_of_rows_to_add)\n",
    "# If the number of cols within the worksheet is less than the dataframe:\n",
    "elif wks.cols < df.shape[1]:\n",
    "    number_of_cols_to_add = df.shape[1] - wks.cols + 1 \n",
    "    wks.add_cols(number_of_cols_to_add)\n",
    "else:\n",
    "    pass"
   ]
  },
  {
   "cell_type": "markdown",
   "metadata": {},
   "source": [
    "--------------------------------------------------------------------"
   ]
  },
  {
   "cell_type": "markdown",
   "metadata": {},
   "source": [
    "### How To Download A Pandas Dataframe From A Google Sheets Specific Worksheet"
   ]
  },
  {
   "cell_type": "markdown",
   "metadata": {},
   "source": [
    "We can also get data directly from the google sheets worksheet in the form of a dataframe:\n",
    "\n",
    "~~~\n",
    "\n",
    "get_as_df(has_header=True, index_column=None, start=None, end=None, numerize=True, empty_value='', value_render=<ValueRenderOption.FORMATTED_VALUE: 'FORMATTED_VALUE'>, **kwargs)[source]\n",
    "\n",
    "~~~"
   ]
  },
  {
   "cell_type": "code",
   "execution_count": 205,
   "metadata": {},
   "outputs": [],
   "source": [
    "dataframe_two = wks.get_as_df()"
   ]
  },
  {
   "cell_type": "code",
   "execution_count": 206,
   "metadata": {},
   "outputs": [
    {
     "name": "stdout",
     "output_type": "stream",
     "text": [
      "This new dataframe has 1000 rows and 11 columns\n"
     ]
    }
   ],
   "source": [
    "print(f\"This new dataframe has {dataframe_two.shape[0]} rows and {dataframe_two.shape[1]} columns\")"
   ]
  },
  {
   "cell_type": "code",
   "execution_count": 207,
   "metadata": {},
   "outputs": [
    {
     "data": {
      "text/html": [
       "<div>\n",
       "<style scoped>\n",
       "    .dataframe tbody tr th:only-of-type {\n",
       "        vertical-align: middle;\n",
       "    }\n",
       "\n",
       "    .dataframe tbody tr th {\n",
       "        vertical-align: top;\n",
       "    }\n",
       "\n",
       "    .dataframe thead th {\n",
       "        text-align: right;\n",
       "    }\n",
       "</style>\n",
       "<table border=\"1\" class=\"dataframe\">\n",
       "  <thead>\n",
       "    <tr style=\"text-align: right;\">\n",
       "      <th></th>\n",
       "      <th>Keyword</th>\n",
       "      <th>Country</th>\n",
       "      <th>Difficulty</th>\n",
       "      <th>Volume</th>\n",
       "      <th>CPC</th>\n",
       "      <th>Clicks</th>\n",
       "      <th>CPS</th>\n",
       "      <th>Return Rate</th>\n",
       "      <th>Parent Keyword</th>\n",
       "      <th>Last Update</th>\n",
       "      <th>SERP Features</th>\n",
       "    </tr>\n",
       "  </thead>\n",
       "  <tbody>\n",
       "    <tr>\n",
       "      <th>0</th>\n",
       "      <td>coast</td>\n",
       "      <td>gb</td>\n",
       "      <td>42.0</td>\n",
       "      <td>70000.0</td>\n",
       "      <td>2.5</td>\n",
       "      <td>64715.0</td>\n",
       "      <td>0.93</td>\n",
       "      <td>1.67</td>\n",
       "      <td>coast</td>\n",
       "      <td>2020-05-09 23:55:39</td>\n",
       "      <td>Sitelinks</td>\n",
       "    </tr>\n",
       "    <tr>\n",
       "      <th>1</th>\n",
       "      <td>hubspot</td>\n",
       "      <td>gb</td>\n",
       "      <td>67.0</td>\n",
       "      <td>63000.0</td>\n",
       "      <td>5.0</td>\n",
       "      <td>59708.0</td>\n",
       "      <td>0.95</td>\n",
       "      <td>2.34</td>\n",
       "      <td>hubspot</td>\n",
       "      <td>2020-05-09 00:57:01</td>\n",
       "      <td>Adwords top, Sitelinks, Top stories, Thumbnail...</td>\n",
       "    </tr>\n",
       "    <tr>\n",
       "      <th>2</th>\n",
       "      <td>digital marketing</td>\n",
       "      <td>gb</td>\n",
       "      <td>74.0</td>\n",
       "      <td>19000.0</td>\n",
       "      <td>7.0</td>\n",
       "      <td>11033.0</td>\n",
       "      <td>0.57</td>\n",
       "      <td>1.41</td>\n",
       "      <td>digital marketing</td>\n",
       "      <td>2020-05-09 07:11:09</td>\n",
       "      <td>Adwords top, Sitelinks, People also ask, Top s...</td>\n",
       "    </tr>\n",
       "    <tr>\n",
       "      <th>3</th>\n",
       "      <td>digital</td>\n",
       "      <td>gb</td>\n",
       "      <td>89.0</td>\n",
       "      <td>16000.0</td>\n",
       "      <td>2.5</td>\n",
       "      <td>5912.0</td>\n",
       "      <td>0.38</td>\n",
       "      <td>1.19</td>\n",
       "      <td>digital</td>\n",
       "      <td>2020-05-09 02:26:10</td>\n",
       "      <td>Sitelinks, People also ask, Top stories, Thumb...</td>\n",
       "    </tr>\n",
       "    <tr>\n",
       "      <th>4</th>\n",
       "      <td>content meaning</td>\n",
       "      <td>gb</td>\n",
       "      <td>45.0</td>\n",
       "      <td>4400.0</td>\n",
       "      <td>17.0</td>\n",
       "      <td>622.0</td>\n",
       "      <td>0.14</td>\n",
       "      <td>1.18</td>\n",
       "      <td>content</td>\n",
       "      <td>2020-05-10 06:32:24</td>\n",
       "      <td>Knowledge card, People also ask, Top stories, ...</td>\n",
       "    </tr>\n",
       "    <tr>\n",
       "      <th>5</th>\n",
       "      <td>digital media</td>\n",
       "      <td>gb</td>\n",
       "      <td>24.0</td>\n",
       "      <td>3600.0</td>\n",
       "      <td>3.0</td>\n",
       "      <td>1671.0</td>\n",
       "      <td>0.47</td>\n",
       "      <td>1.24</td>\n",
       "      <td>digital media</td>\n",
       "      <td>2020-05-10 14:14:41</td>\n",
       "      <td>Featured snippet, Thumbnails, People also ask,...</td>\n",
       "    </tr>\n",
       "  </tbody>\n",
       "</table>\n",
       "</div>"
      ],
      "text/plain": [
       "             Keyword Country  Difficulty   Volume   CPC   Clicks   CPS  \\\n",
       "0              coast      gb        42.0  70000.0   2.5  64715.0  0.93   \n",
       "1            hubspot      gb        67.0  63000.0   5.0  59708.0  0.95   \n",
       "2  digital marketing      gb        74.0  19000.0   7.0  11033.0  0.57   \n",
       "3            digital      gb        89.0  16000.0   2.5   5912.0  0.38   \n",
       "4    content meaning      gb        45.0   4400.0  17.0    622.0  0.14   \n",
       "5      digital media      gb        24.0   3600.0   3.0   1671.0  0.47   \n",
       "\n",
       "   Return Rate     Parent Keyword          Last Update  \\\n",
       "0         1.67              coast  2020-05-09 23:55:39   \n",
       "1         2.34            hubspot  2020-05-09 00:57:01   \n",
       "2         1.41  digital marketing  2020-05-09 07:11:09   \n",
       "3         1.19            digital  2020-05-09 02:26:10   \n",
       "4         1.18            content  2020-05-10 06:32:24   \n",
       "5         1.24      digital media  2020-05-10 14:14:41   \n",
       "\n",
       "                                       SERP Features  \n",
       "0                                          Sitelinks  \n",
       "1  Adwords top, Sitelinks, Top stories, Thumbnail...  \n",
       "2  Adwords top, Sitelinks, People also ask, Top s...  \n",
       "3  Sitelinks, People also ask, Top stories, Thumb...  \n",
       "4  Knowledge card, People also ask, Top stories, ...  \n",
       "5  Featured snippet, Thumbnails, People also ask,...  "
      ]
     },
     "execution_count": 207,
     "metadata": {},
     "output_type": "execute_result"
    }
   ],
   "source": [
    "dataframe_two.head(6)"
   ]
  },
  {
   "cell_type": "markdown",
   "metadata": {},
   "source": [
    "------------------------------------------------------------------------------------------"
   ]
  },
  {
   "cell_type": "markdown",
   "metadata": {},
   "source": [
    "### How To Get All Of The Google Sheet Values In A Python Format"
   ]
  },
  {
   "cell_type": "markdown",
   "metadata": {},
   "source": [
    "We can also get all of the values in a list of lists:"
   ]
  },
  {
   "cell_type": "code",
   "execution_count": 208,
   "metadata": {},
   "outputs": [],
   "source": [
    "all_values = wks.get_all_values()"
   ]
  },
  {
   "cell_type": "markdown",
   "metadata": {},
   "source": [
    "In my case, notice how this has picked up all of the empty spaces that are located on the right hand side of the worksheet:"
   ]
  },
  {
   "cell_type": "code",
   "execution_count": 209,
   "metadata": {},
   "outputs": [
    {
     "name": "stdout",
     "output_type": "stream",
     "text": [
      "['Keyword', 'Country', 'Difficulty', 'Volume', 'CPC', 'Clicks', 'CPS', 'Return Rate', 'Parent Keyword', 'Last Update', 'SERP Features', '', '', '', '', '', '', '', '']\n"
     ]
    }
   ],
   "source": [
    "print(all_values[0])"
   ]
  },
  {
   "cell_type": "markdown",
   "metadata": {},
   "source": [
    "A way to quickly remove the empty strings per list would be to do a <strong> nested list comprehension: </strong>"
   ]
  },
  {
   "cell_type": "code",
   "execution_count": 210,
   "metadata": {},
   "outputs": [],
   "source": [
    "cleaned_values = [[item for item in unique_list if item ]for unique_list in all_values]"
   ]
  },
  {
   "cell_type": "markdown",
   "metadata": {},
   "source": [
    "------------------------------------------------"
   ]
  },
  {
   "cell_type": "markdown",
   "metadata": {},
   "source": [
    "### How To Get Cell Ranges In Google Sheets With Python"
   ]
  },
  {
   "cell_type": "markdown",
   "metadata": {},
   "source": [
    "You can also extract specific ranges (columns and rows) similar to your excel functions:"
   ]
  },
  {
   "cell_type": "code",
   "execution_count": 211,
   "metadata": {},
   "outputs": [],
   "source": [
    "cell_range = wks.range('A1:F10', \n",
    "          returnas='matrix')"
   ]
  },
  {
   "cell_type": "code",
   "execution_count": 212,
   "metadata": {},
   "outputs": [
    {
     "name": "stdout",
     "output_type": "stream",
     "text": [
      "[['Keyword', 'Country', 'Difficulty', 'Volume', 'CPC', 'Clicks'], ['coast', 'gb', '42', '70000', '2.5', '64715'], ['hubspot', 'gb', '67', '63000', '5', '59708'], ['digital marketing', 'gb', '74', '19000', '7', '11033'], ['digital', 'gb', '89', '16000', '2.5', '5912'], ['content meaning', 'gb', '45', '4400', '17', '622'], ['digital media', 'gb', '24', '3600', '3', '1671'], ['digital marketing agency', 'gb', '57', '3400', '18', '3925'], ['digital uk', 'gb', '24', '3100', '1.2', '2402'], ['what is digital marketing', 'gb', '74', '3100', '2.5', '2119']]\n"
     ]
    }
   ],
   "source": [
    "print(cell_range)"
   ]
  },
  {
   "cell_type": "markdown",
   "metadata": {},
   "source": [
    "-----------------------------------------------------------------------------"
   ]
  },
  {
   "cell_type": "markdown",
   "metadata": {},
   "source": [
    "### How To Get A Single Row For Extracting The Column Headers"
   ]
  },
  {
   "cell_type": "markdown",
   "metadata": {},
   "source": [
    "We can get a single row with:\n",
    "\n",
    "~~~ \n",
    "\n",
    "wks.get_row(row, returnas='matrix', include_tailing_empty=True, **kwargs)\n",
    "\n",
    "~~~"
   ]
  },
  {
   "cell_type": "code",
   "execution_count": 213,
   "metadata": {},
   "outputs": [],
   "source": [
    "headers = wks.get_row(1, include_tailing_empty=False)"
   ]
  },
  {
   "cell_type": "code",
   "execution_count": 214,
   "metadata": {},
   "outputs": [
    {
     "name": "stdout",
     "output_type": "stream",
     "text": [
      "['Keyword', 'Country', 'Difficulty', 'Volume', 'CPC', 'Clicks', 'CPS', 'Return Rate', 'Parent Keyword', 'Last Update', 'SERP Features']\n"
     ]
    }
   ],
   "source": [
    "print(headers)"
   ]
  },
  {
   "cell_type": "markdown",
   "metadata": {},
   "source": [
    "☝️☝️☝️ Also notice how we've changed the <strong> include_tailing_empty to False </strong> which automatically removed any empty strings in that row ☝️☝️☝️"
   ]
  },
  {
   "cell_type": "markdown",
   "metadata": {},
   "source": [
    "------------------------------------------------------------------------------------"
   ]
  },
  {
   "cell_type": "markdown",
   "metadata": {},
   "source": [
    "### How To Extract A Single Column"
   ]
  },
  {
   "cell_type": "markdown",
   "metadata": {},
   "source": [
    "Sometimes you might want to select a specific column from your worksheet:"
   ]
  },
  {
   "cell_type": "code",
   "execution_count": 54,
   "metadata": {},
   "outputs": [],
   "source": [
    "first_column = wks.get_col(1)\n",
    "first_column_data = first_column[1:] # We are doing a python slice here to avoid \n",
    "# extrecting the column names from the first row (keyword)"
   ]
  },
  {
   "cell_type": "markdown",
   "metadata": {},
   "source": [
    "------------------------------------------------------------------------------------"
   ]
  },
  {
   "cell_type": "markdown",
   "metadata": {},
   "source": [
    "### How To Sort By A Column"
   ]
  },
  {
   "cell_type": "markdown",
   "metadata": {},
   "source": [
    "You can easily sort the google sheet by a specific column with:\n",
    "    \n",
    "~~~\n",
    "\n",
    "wks.sort_range(start, end, basecolumnindex=0, sortorder='ASCENDING')\n",
    "# Sorts the data in rows based on the given column index.\n",
    "\n",
    "\n",
    "~~~"
   ]
  },
  {
   "cell_type": "code",
   "execution_count": 55,
   "metadata": {},
   "outputs": [],
   "source": [
    "wks.sort_range(start='A2', end='L1001',basecolumnindex=4, sortorder='DESCENDING' )"
   ]
  },
  {
   "cell_type": "markdown",
   "metadata": {},
   "source": [
    "<strong> Its worth knowing that np.nans (not a number) </strong> are treated as large numbers within google sheets. Therefore let's clear the sheet, remove all of the nans before uploading the dataframe, then we will perform this operation again."
   ]
  },
  {
   "cell_type": "markdown",
   "metadata": {},
   "source": [
    "![](https://sempioneer.com/wp-content/uploads/2020/05/python-pygsheets-nans.png)"
   ]
  },
  {
   "cell_type": "markdown",
   "metadata": {},
   "source": [
    "------------------------------------------------------------------------------------"
   ]
  },
  {
   "cell_type": "markdown",
   "metadata": {},
   "source": [
    "### How To Clear A Google Sheet With Python"
   ]
  },
  {
   "cell_type": "markdown",
   "metadata": {},
   "source": [
    "You can clear all of the existing rows and columns within the sheet by referencing the same workspace variable (wks) and the .clear() syntax: \n",
    "\n",
    "~~~\n",
    "\n",
    "wks.clear()\n",
    "\n",
    "~~~"
   ]
  },
  {
   "cell_type": "code",
   "execution_count": 56,
   "metadata": {},
   "outputs": [],
   "source": [
    "wks.clear()"
   ]
  },
  {
   "cell_type": "markdown",
   "metadata": {},
   "source": [
    "----------------------------------------------------------------------"
   ]
  },
  {
   "cell_type": "markdown",
   "metadata": {},
   "source": [
    "Now I'd recommend removing any nans before uploading your dataframe! So let's remove any np.nans within the Volume Column:"
   ]
  },
  {
   "cell_type": "code",
   "execution_count": 57,
   "metadata": {},
   "outputs": [],
   "source": [
    "df.dropna(subset=['Volume'], inplace=True)\n",
    "wks.set_dataframe(df, start=(1,1))"
   ]
  },
  {
   "cell_type": "markdown",
   "metadata": {},
   "source": [
    "Let's try sorting again by the Volume column with pygsheets:"
   ]
  },
  {
   "cell_type": "code",
   "execution_count": 58,
   "metadata": {},
   "outputs": [],
   "source": [
    "wks.sort_range(start='A2', end='L1001', basecolumnindex=4, sortorder='DESCENDING')"
   ]
  },
  {
   "cell_type": "markdown",
   "metadata": {},
   "source": [
    "![](https://sempioneer.com/wp-content/uploads/2020/05/sorted_volume.png)"
   ]
  },
  {
   "cell_type": "markdown",
   "metadata": {},
   "source": [
    "-----------------------------------------------------------------------------"
   ]
  },
  {
   "cell_type": "markdown",
   "metadata": {},
   "source": [
    "### How To Loop Over Every Row"
   ]
  },
  {
   "cell_type": "markdown",
   "metadata": {},
   "source": [
    "You can iterate over row in your google sheet with a for loop:"
   ]
  },
  {
   "cell_type": "code",
   "execution_count": 59,
   "metadata": {},
   "outputs": [
    {
     "name": "stdout",
     "output_type": "stream",
     "text": [
      "['Keyword', 'Country', 'Difficulty', 'Volume', 'CPC', 'Clicks', 'CPS', 'Return Rate', 'Parent Keyword', 'Last Update', 'SERP Features', '']\n",
      "['digital marketer', 'gb', '73', '1500', 'NaN', '1096', '0.72', '1.31', 'digital marketer', '2020-05-05 15:13:56', 'Sitelinks, People also ask, Top stories, Thumbnails, Adwords bottom', '']\n",
      "['detailed online', 'gb', '0', '450', 'NaN', '391', '0.91', '1.62', 'detailed online', '2020-05-03 13:55:48', 'Sitelinks, Top stories, Thumbnails', '']\n",
      "['what is this?', 'gb', '74', '300', 'NaN', '122', '0.43', '1.12', 'what is this', '2020-04-29 07:44:47', 'Sitelinks, Top stories, Thumbnails, Image pack', '']\n",
      "['define constitutes', 'gb', '8', '300', 'NaN', '23', '0.08', '1.13', 'constitute', '2020-05-04 07:32:28', 'Knowledge card, People also ask', '']\n",
      "['digital marketing agencies london', 'gb', '44', '250', 'NaN', '460', '2.01', '1.49', 'marketing agency', '2020-04-27 18:11:44', 'NaN', '']\n",
      "['services meaning', 'gb', '48', '200', 'NaN', '30', '0.15', '1.18', 'services', '2020-05-09 12:28:03', 'Knowledge card, People also ask, Sitelinks, Videos', '']\n",
      "['marketeer meaning', 'gb', '6', '200', 'NaN', '23', '0.13', '1.18', 'marketeer', '2020-04-24 09:50:43', 'Knowledge card, People also ask, Videos, Image pack', '']\n",
      "['regardless marketing', 'gb', '0', '200', 'NaN', '211', '1.04', '1.5', 'regardless marketing', '2020-05-04 07:36:25', 'NaN', '']\n",
      "['media channels', 'gb', '33', '200', 'NaN', '87', '0.46', '1.1', 'marketing channels', '2020-04-28 06:11:20', 'Featured snippet, Thumbnails, People also ask', '']\n",
      "['on-digital', 'gb', '10', '200', 'NaN', 'NaN', 'NaN', 'NaN', 'itv digital', '2020-05-01 14:22:17', 'Sitelinks, People also ask, Top stories, Thumbnails', '']\n",
      "['the who.com', 'gb', '74', '150', 'NaN', '131', '1.04', '1.27', 'the who', '2020-05-07 09:36:59', 'Adwords top, Sitelinks, Top stories, Thumbnails, Image pack', '']\n",
      "['hubspo', 'gb', '63', '150', 'NaN', '148', '0.94', '1.46', 'hubspot', '2020-04-26 01:10:38', 'Adwords top, Sitelinks, Top stories, Thumbnails, People also ask, Tweet box, Image pack', '']\n",
      "['marketer meaning', 'gb', '3', '150', 'NaN', '42', '0.29', '1.13', 'marketer', '2020-05-04 08:17:54', 'Knowledge card, People also ask', '']\n",
      "['digital marketing services birmingham', 'gb', '17', '150', 'NaN', 'NaN', 'NaN', 'NaN', 'digital agency birmingham', '2020-05-09 20:34:54', 'Featured snippet', '']\n",
      "['who is this?', 'gb', '95', '150', 'NaN', '40', '0.28', '1.23', 'whois', '2020-05-03 21:53:48', 'Sitelinks, Top stories, Thumbnails', '']\n",
      "['digitals', 'gb', '61', '150', 'NaN', '37', '0.28', '1.21', 'digital spy', '2020-04-20 19:58:53', 'Sitelinks, People also ask, Image pack', '']\n",
      "['according to meaning', 'gb', '9', '150', 'NaN', '14', '0.11', '1.13', 'according', '2020-04-17 21:30:15', 'Featured snippet, People also ask', '']\n",
      "[\"who's definition\", 'gb', '2', '150', 'NaN', '21', '0.15', '1.13', \"who 's\", '2020-04-27 02:58:15', 'Knowledge card, People also ask', '']\n",
      "['why is digital marketing important', 'gb', '43', '150', 'NaN', '131', '0.97', '1.2', 'role of digital marketing', '2020-04-18 11:24:52', 'Adwords top, Sitelinks, Featured snippet, Thumbnails, People also ask', '']\n",
      "['huspot', 'gb', '67', '100', 'NaN', '62', '0.63', '1', 'hubspot', '2020-04-28 22:51:53', 'Adwords top, Sitelinks, Top stories, Thumbnails, People also ask, Tweet box, Image pack', '']\n",
      "['content marketing companies', 'gb', '10', '100', 'NaN', 'NaN', 'NaN', 'NaN', 'content marketing agency', '2020-04-18 15:20:02', 'Adwords top, Sitelinks, Featured snippet, Thumbnails, People also ask, Adwords bottom', '']\n",
      "['meaning of create', 'gb', '15', '100', 'NaN', 'NaN', 'NaN', 'NaN', 'create', '2020-05-03 07:08:20', 'Knowledge card, People also ask', '']\n",
      "['like digital', 'gb', '1', '100', 'NaN', '86', '0.83', '1.32', 'like digital', '2020-05-06 07:16:55', 'Sitelinks, Image pack, Top stories, Thumbnails', '']\n",
      "['define services', 'gb', '13', '100', 'NaN', 'NaN', 'NaN', 'NaN', \"service's\", '2020-05-05 23:20:15', 'Knowledge card, People also ask, Sitelinks, Top stories, Thumbnails', '']\n",
      "['business define', 'gb', '64', '100', 'NaN', '45', '0.4', '1.11', 'business definition', '2020-04-24 22:00:55', 'Knowledge card, People also ask, Sitelinks, Top stories, Thumbnails', '']\n",
      "['key-digital', 'gb', '4', '100', 'NaN', 'NaN', 'NaN', 'NaN', 'key digital', '2020-05-03 04:46:31', 'Adwords top, Sitelinks, Top stories, Thumbnails', '']\n",
      "['all digital', 'gb', '48', '100', 'NaN', 'NaN', 'NaN', 'NaN', 'alldigital', '2020-04-24 20:48:34', 'Sitelinks, Top stories, Thumbnails', '']\n",
      "['define in fact', 'gb', '3', '100', 'NaN', 'NaN', 'NaN', 'NaN', 'infact', '2020-04-18 10:56:19', 'Knowledge card, People also ask', '']\n",
      "['what does defined mean', 'gb', '20', '100', 'NaN', '13', '0.13', '1.05', 'defined', '2020-04-23 10:51:20', 'Knowledge card, People also ask, Videos', '']\n",
      "['trends definition in business', 'gb', '17', '100', 'NaN', 'NaN', 'NaN', 'NaN', 'trends definition in business', '2020-05-09 00:34:19', 'Featured snippet, Thumbnails, People also ask, Videos', '']\n",
      "['what is for', 'gb', '30', '100', 'NaN', 'NaN', 'NaN', 'NaN', 'for', '2020-04-28 07:35:06', 'People also ask, Top stories, Thumbnails', '']\n",
      "['digital marketing campaigns', 'gb', '28', '100', 'NaN', '91', '0.82', '1.42', 'digital campaign', '2020-04-20 03:12:22', 'Adwords top, People also ask', '']\n",
      "['hubstop', 'gb', '67', '100', 'NaN', 'NaN', 'NaN', 'NaN', 'hubspot', '2020-05-09 12:25:10', 'Adwords top, Sitelinks, Top stories, Thumbnails, People also ask, Tweet box, Image pack', '']\n",
      "['who what why', 'gb', '20', '100', 'NaN', '64', '0.54', '1', '5 ws', '2020-04-22 17:39:50', 'Sitelinks, People also ask, Videos, Tweet box, Image pack', '']\n",
      "['lucy definition', 'gb', '3', '100', 'NaN', 'NaN', 'NaN', 'NaN', 'lucy definition', '2020-04-15 18:16:50', 'People also ask, Top stories, Thumbnails', '']\n",
      "['digital marketing theory', 'gb', '2', '100', 'NaN', 'NaN', 'NaN', 'NaN', 'digital marketing theory', '2020-04-19 13:22:52', 'People also ask, Image pack', '']\n",
      "['internet marketing services uk', 'gb', '31', '90', 'NaN', 'NaN', 'NaN', 'NaN', 'internet marketing agency', '2020-05-07 13:58:08', 'Adwords bottom, Sitelinks', '']\n",
      "['lucy alexander age', 'gb', '4', '90', 'NaN', 'NaN', 'NaN', 'NaN', 'lucy alexander', '2020-04-26 20:37:18', 'People also ask, Sitelinks', '']\n",
      "['what does a digital marketer do', 'gb', '17', '90', 'NaN', 'NaN', 'NaN', 'NaN', 'digital marketing', '2020-04-15 14:45:05', 'Adwords top, Sitelinks, Featured snippet, Thumbnails, People also ask, Top stories', '']\n",
      "['w-hat', 'gb', '89', '90', 'NaN', 'NaN', 'NaN', 'NaN', 'what', '2020-04-29 19:42:02', 'Sitelinks, Top stories, Thumbnails, Image pack, Videos', '']\n",
      "['what why', 'gb', '28', '90', 'NaN', 'NaN', 'NaN', 'NaN', '5 ws', '2020-04-16 04:49:22', 'Top stories, Thumbnails, Sitelinks, People also ask, Image pack', '']\n",
      "['edigital research', 'gb', '2', '90', 'NaN', 'NaN', 'NaN', 'NaN', 'edigital research', '2020-04-24 14:26:15', 'Sitelinks', '']\n",
      "['best digital', 'gb', '11', '80', 'NaN', 'NaN', 'NaN', 'NaN', 'best digital', '2020-04-17 01:04:09', 'Image pack', '']\n",
      "['hupspot', 'gb', '62', '80', 'NaN', 'NaN', 'NaN', 'NaN', 'hubspot', '2020-04-29 04:59:49', 'Adwords top, Sitelinks, Top stories, Thumbnails, People also ask, Tweet box, Image pack', '']\n",
      "['climb marketing', 'gb', '0', '80', 'NaN', 'NaN', 'NaN', 'NaN', 'climb online', '2020-04-17 00:31:31', 'Sitelinks, Top stories, Thumbnails, Image pack', '']\n",
      "['digital search', 'gb', '20', '80', 'NaN', 'NaN', 'NaN', 'NaN', 'digital marketing agency london', '2020-04-14 01:25:19', 'Featured snippet, Sitelinks', '']\n",
      "['www.coast.co.uk', 'gb', '26', '80', 'NaN', 'NaN', 'NaN', 'NaN', 'coast.co.uk', '2020-05-01 00:47:17', 'Sitelinks', '']\n",
      "['impressions marketing', 'gb', '26', '80', 'NaN', 'NaN', 'NaN', 'NaN', 'impression internet', '2020-05-10 01:28:15', 'Featured snippet, People also ask, Sitelinks, Top stories, Thumbnails', '']\n",
      "['digitalmarketing', 'gb', '74', '80', 'NaN', 'NaN', 'NaN', 'NaN', 'digital marketing', '2020-04-14 16:29:02', 'Adwords top, Sitelinks, People also ask, Top stories, Thumbnails, Adwords bottom', '']\n",
      "['w hat', 'gb', '80', '80', 'NaN', 'NaN', 'NaN', 'NaN', 'what', '2020-04-19 18:20:11', 'Image pack, Top stories, Thumbnails, Sitelinks, Shopping results', '']\n",
      "['digitales', 'gb', '42', '80', 'NaN', 'NaN', 'NaN', 'NaN', 'digitales', '2020-05-02 05:12:22', 'Sitelinks', '']\n",
      "['search engine marketing agency', 'gb', '12', '80', 'NaN', 'NaN', 'NaN', 'NaN', 'search engine marketing agency', '2020-04-27 22:07:04', 'NaN', '']\n",
      "['digital marketer job description', 'gb', '14', '80', 'NaN', 'NaN', 'NaN', 'NaN', 'digital marketing job description', '2020-04-16 22:57:20', 'Featured snippet, Thumbnails, People also ask, Sitelinks', '']\n",
      "['hubpot', 'gb', '67', '80', 'NaN', 'NaN', 'NaN', 'NaN', 'hubspot', '2020-05-10 12:04:59', 'Adwords top, Sitelinks, Top stories, Thumbnails, People also ask, Tweet box, Image pack', '']\n",
      "['marketing means', 'gb', '58', '80', 'NaN', 'NaN', 'NaN', 'NaN', 'marketing means', '2020-04-18 23:47:20', 'Sitelinks, People also ask, Top stories, Thumbnails', '']\n",
      "['best internet marketing company', 'gb', '45', '80', 'NaN', 'NaN', 'NaN', 'NaN', 'best internet marketing company', '2020-04-17 14:27:17', 'Sitelinks, People also ask', '']\n",
      "['digital marketing implementation services', 'gb', 'NaN', '80', 'NaN', 'NaN', 'NaN', 'NaN', 'NaN', 'NaN', 'NaN', '']\n",
      "['internet marketing solutions', 'gb', '10', '70', 'NaN', 'NaN', 'NaN', 'NaN', 'digital marketing solutions', '2020-05-04 08:51:48', 'Featured snippet, Thumbnails, Sitelinks, People also ask', '']\n",
      "['who what', 'gb', '12', '70', 'NaN', 'NaN', 'NaN', 'NaN', 'who what wear', '2020-05-07 08:54:16', 'Top stories, Thumbnails, Sitelinks, Videos', '']\n",
      "['which-what', 'gb', '11', '70', 'NaN', 'NaN', 'NaN', 'NaN', 'which or what', '2020-05-02 16:05:51', 'Top stories, Thumbnails, People also ask', '']\n",
      "['social media agencies london', 'gb', '13', '70', 'NaN', 'NaN', 'NaN', 'NaN', 'social media marketing agency', '2020-05-07 06:20:56', 'Featured snippet', '']\n",
      "['digital marketing business', 'gb', '26', '70', 'NaN', 'NaN', 'NaN', 'NaN', 'digital marketing agency', '2020-04-15 20:55:27', 'Adwords top, Sitelinks, Featured snippet, Thumbnails, People also ask, Top stories, Adwords bottom', '']\n",
      "['digital co uk', 'gb', '41', '70', 'NaN', 'NaN', 'NaN', 'NaN', 'digital uk', '2020-05-03 14:51:19', 'Sitelinks', '']\n",
      "['define increasing', 'gb', '26', '70', 'NaN', 'NaN', 'NaN', 'NaN', 'increase', '2020-04-19 07:05:47', 'Knowledge card, People also ask, Top stories, Thumbnails', '']\n",
      "['digital marketing activities', 'gb', '62', '70', 'NaN', 'NaN', 'NaN', 'NaN', 'digital marketing', '2020-04-29 01:58:15', 'Featured snippet, Thumbnails, People also ask, Sitelinks, Image pack', '']\n",
      "['digital.co.uk', 'gb', '35', '60', 'NaN', 'NaN', 'NaN', 'NaN', 'digital.co.uk', '2020-04-15 01:29:59', 'Sitelinks', '']\n",
      "['do you meaning', 'gb', '6', '60', 'NaN', 'NaN', 'NaN', 'NaN', 'do you', '2020-04-15 10:50:49', 'Featured snippet, People also ask, Top stories, Thumbnails', '']\n",
      "['www.coast', 'gb', '3', '60', 'NaN', 'NaN', 'NaN', 'NaN', 'coast', '2020-04-22 22:46:31', 'Sitelinks', '']\n",
      "['marketers or marketeers', 'gb', '3', '60', 'NaN', 'NaN', 'NaN', 'NaN', 'marketeer', '2020-05-10 01:00:19', 'Featured snippet, Thumbnails, People also ask, Top stories', '']\n",
      "['internet marketing firm', 'gb', '70', '60', 'NaN', 'NaN', 'NaN', 'NaN', 'best internet marketing company', '2020-04-17 02:17:12', 'People also ask', '']\n",
      "['how to find out if a company is still in business', 'gb', '10', '60', 'NaN', 'NaN', 'NaN', 'NaN', 'company insolvency register', '2020-04-19 22:21:47', 'People also ask', '']\n",
      "['climbonline', 'gb', '5', '60', 'NaN', '63', '0.98', '1.1', 'climb online', '2020-05-04 13:28:21', 'Adwords top, Sitelinks', '']\n",
      "['digital def', 'gb', '42', '60', 'NaN', 'NaN', 'NaN', 'NaN', 'digital', '2020-05-03 14:43:48', 'Knowledge card, People also ask', '']\n",
      "['internet marketing company uk', 'gb', '48', '60', 'NaN', 'NaN', 'NaN', 'NaN', 'digital marketing agency', '2020-04-14 14:51:33', 'Featured snippet, Thumbnails, Sitelinks', '']\n",
      "['understanding digital marketing: marketing strategies for engaging the digital generation', 'gb', '1', '60', 'NaN', 'NaN', 'NaN', 'NaN', 'understanding digital marketing', '2020-05-10 12:24:50', 'Top stories, Thumbnails, Image pack', '']\n",
      "['impression digital', 'gb', '4', '60', 'NaN', '40', '0.73', '1.18', 'digital marketing agency', '2020-04-21 13:35:44', 'Sitelinks, Top stories, Thumbnails, Image pack', '']\n",
      "['what is a.', 'gb', '54', '60', 'NaN', 'NaN', 'NaN', 'NaN', 'a', '2020-04-18 20:23:53', 'Knowledge card, People also ask, Top stories, Thumbnails', '']\n",
      "['hubspor', 'gb', '63', '60', 'NaN', 'NaN', 'NaN', 'NaN', 'hubspot', '2020-04-20 15:43:26', 'Adwords top, Sitelinks, Top stories, Thumbnails, People also ask, Tweet box, Image pack', '']\n",
      "['what is digital business', 'gb', '19', '60', 'NaN', 'NaN', 'NaN', 'NaN', 'digital company', '2020-04-14 19:32:51', 'Adwords top, Sitelinks, People also ask, Top stories, Thumbnails', '']\n",
      "['digital media company', 'gb', '50', '60', 'NaN', 'NaN', 'NaN', 'NaN', 'dms', '2020-04-16 11:46:09', 'People also ask, Adwords bottom, Sitelinks', '']\n",
      "['search marketing services', 'gb', '23', '60', 'NaN', 'NaN', 'NaN', 'NaN', 'search engine marketing company', '2020-05-09 10:52:14', 'NaN', '']\n",
      "['بازاریابی', 'gb', '8', '60', 'NaN', 'NaN', 'NaN', 'NaN', 'بازاریابی', '2020-04-19 20:56:28', 'Sitelinks', '']\n",
      "['like who what what what where', 'gb', '0', '60', 'NaN', 'NaN', 'NaN', 'NaN', 'who and what and where song', '2020-05-03 16:48:26', 'Top stories, Thumbnails, Videos', '']\n",
      "['market definition example', 'gb', '37', '60', 'NaN', 'NaN', 'NaN', 'NaN', 'market definition example', '2020-04-19 15:12:07', 'Featured snippet, People also ask, Top stories, Thumbnails, Image pack', '']\n",
      "['digital define', 'gb', '35', '60', 'NaN', 'NaN', 'NaN', 'NaN', 'digital', '2020-04-23 13:29:58', 'Knowledge card, People also ask, Sitelinks, Top stories, Thumbnails', '']\n",
      "['fundamentals of digital marketing', 'gb', '8', '60', 'NaN', 'NaN', 'NaN', 'NaN', 'google certification', '2020-04-14 23:18:06', 'Adwords top, Sitelinks, People also ask, Top stories, Thumbnails, Image pack', '']\n",
      "['what are digital channels', 'gb', '19', '60', 'NaN', 'NaN', 'NaN', 'NaN', 'digital marketing channels', '2020-04-19 21:12:18', 'Featured snippet, Thumbnails, People also ask, Top stories', '']\n",
      "['method digital', 'gb', '42', '60', 'NaN', 'NaN', 'NaN', 'NaN', 'method', '2020-04-16 20:42:22', 'Sitelinks, Top stories, Thumbnails', '']\n",
      "['whats the use', 'gb', '3', '50', 'NaN', 'NaN', 'NaN', 'NaN', \"mac miller what's the use\", '2020-04-16 10:08:17', 'Top stories, Thumbnails, Sitelinks', '']\n",
      "['encompasses means', 'gb', '9', '50', 'NaN', 'NaN', 'NaN', 'NaN', 'encompass', '2020-04-20 19:07:03', 'Knowledge card, People also ask', '']\n",
      "['digital media channels', 'gb', '33', '50', 'NaN', 'NaN', 'NaN', 'NaN', 'digital marketing channels', '2020-04-15 19:38:44', 'Featured snippet, People also ask, Image pack', '']\n",
      "['see define', 'gb', '33', '50', 'NaN', 'NaN', 'NaN', 'NaN', 'see meaning', '2020-05-08 01:47:21', 'Knowledge card, People also ask', '']\n",
      "['coast media', 'gb', '1', '50', 'NaN', 'NaN', 'NaN', 'NaN', 'coast media', '2020-04-16 18:09:18', 'Image pack', '']\n",
      "['one digitals reviews', 'gb', '35', '50', 'NaN', 'NaN', 'NaN', 'NaN', 'onedigitals co uk review', '2020-04-28 17:04:15', 'NaN', '']\n",
      "['hubspoy', 'gb', '64', '50', 'NaN', 'NaN', 'NaN', 'NaN', 'hubspot', '2020-04-16 00:26:16', 'Adwords top, Sitelinks, Top stories, Thumbnails, People also ask, Tweet box, Image pack', '']\n",
      "['can do meaning', 'gb', '5', '50', 'NaN', 'NaN', 'NaN', 'NaN', 'can do attitude', '2020-04-16 21:22:53', 'Knowledge card, People also ask, Top stories, Thumbnails, Image pack', '']\n",
      "['it digital', 'gb', '7', '50', 'NaN', 'NaN', 'NaN', 'NaN', 'it digital', '2020-04-16 17:56:26', 'People also ask, Top stories, Thumbnails, Image pack', '']\n",
      "['passion digital ltd', 'gb', '0', '50', 'NaN', 'NaN', 'NaN', 'NaN', 'digital marketing agency', '2020-05-09 15:42:52', 'Sitelinks, Image pack', '']\n",
      "['what is.a', 'gb', '35', '50', 'NaN', 'NaN', 'NaN', 'NaN', 'a', '2020-04-15 05:11:53', 'Knowledge card, People also ask, Top stories, Thumbnails', '']\n",
      "['market://details', 'gb', '5', '50', 'NaN', 'NaN', 'NaN', 'NaN', 'android market', '2020-04-20 10:57:24', 'Top stories, Thumbnails', '']\n",
      "['go digital reviews', 'gb', '0', '50', 'NaN', 'NaN', 'NaN', 'NaN', 'go digital reviews', '2020-05-06 17:13:07', 'NaN', '']\n",
      "['marketing message definition', 'gb', '17', '50', 'NaN', 'NaN', 'NaN', 'NaN', 'marketing message examples', '2020-05-10 12:26:06', 'Featured snippet, People also ask', '']\n",
      "['digital marketing technology', 'gb', '41', '50', 'NaN', 'NaN', 'NaN', 'NaN', 'digital marketing technology', '2020-05-03 02:14:31', 'People also ask, Sitelinks', '']\n",
      "['essex traffic twitter', 'gb', '0', '50', 'NaN', 'NaN', 'NaN', 'NaN', 'essex travel news', '2020-05-07 02:22:09', 'Tweet box, Top stories, Thumbnails, Image pack, Videos', '']\n",
      "['digital marketers', 'gb', '80', '50', 'NaN', 'NaN', 'NaN', 'NaN', 'digital marketer', '2020-04-19 12:47:06', 'Sitelinks, People also ask, Top stories, Thumbnails', '']\n",
      "['detail online', 'gb', '5', '50', 'NaN', 'NaN', 'NaN', 'NaN', 'detail online', '2020-05-07 13:19:17', 'Sitelinks, Image pack', '']\n",
      "['digital world meaning', 'gb', '1', '50', 'NaN', 'NaN', 'NaN', 'NaN', 'digital world meaning', '2020-05-01 05:41:57', 'Featured snippet, People also ask', '']\n",
      "['london digital marketing', 'gb', '39', '50', 'NaN', 'NaN', 'NaN', 'NaN', 'digital marketing agency', '2020-05-05 09:48:09', 'Adwords top, Sitelinks, Adwords bottom', '']\n",
      "['digital marketing experts', 'gb', '9', '50', 'NaN', 'NaN', 'NaN', 'NaN', 'online marketing expert', '2020-04-27 11:20:45', 'Featured snippet, Thumbnails, Sitelinks, People also ask, Top stories', '']\n",
      "['small world marketing', 'gb', '0', '40', 'NaN', 'NaN', 'NaN', 'NaN', 'small world marketing', '2020-04-28 02:51:23', 'Sitelinks, Image pack', '']\n",
      "[\"what is a '\", 'gb', '35', '40', 'NaN', 'NaN', 'NaN', 'NaN', 'a', '2020-04-18 11:10:53', 'Knowledge card, Top stories, Thumbnails', '']\n",
      "['the who website', 'gb', '88', '40', 'NaN', 'NaN', 'NaN', 'NaN', 'the who', '2020-04-24 20:34:17', 'Sitelinks', '']\n",
      "['space marketing', 'gb', '4', '40', 'NaN', 'NaN', 'NaN', 'NaN', 'space marketing', '2020-05-06 17:56:23', 'Top stories, Thumbnails, Image pack', '']\n",
      "['online marketer', 'gb', '28', '40', 'NaN', 'NaN', 'NaN', 'NaN', 'online marketing', '2020-04-25 20:30:41', 'Adwords top, Sitelinks, People also ask, Top stories, Thumbnails, Adwords bottom', '']\n",
      "['dogital', 'gb', '80', '40', 'NaN', 'NaN', 'NaN', 'NaN', 'digital', '2020-05-07 21:34:12', 'Sitelinks, People also ask, Image pack', '']\n",
      "['define increased', 'gb', '30', '40', 'NaN', 'NaN', 'NaN', 'NaN', 'increased', '2020-04-30 11:12:28', 'Knowledge card, People also ask', '']\n",
      "['what does .com', 'gb', '5', '40', 'NaN', 'NaN', 'NaN', 'NaN', 'what does .com', '2020-04-21 04:27:13', 'People also ask, Sitelinks, Top stories, Thumbnails', '']\n",
      "['service definition business', 'gb', '20', '40', 'NaN', 'NaN', 'NaN', 'NaN', 'service business definition', '2020-04-26 00:11:10', 'Featured snippet, Thumbnails, People also ask, Sitelinks', '']\n",
      "['media industry definition', 'gb', '3', '40', 'NaN', 'NaN', 'NaN', 'NaN', 'media industry', '2020-05-10 16:45:31', 'People also ask', '']\n",
      "['coast to coast ipswich menu', 'gb', '0', '40', 'NaN', 'NaN', 'NaN', 'NaN', 'coast to coast ipswich', '2020-05-07 20:14:22', 'Sitelinks, Image pack', '']\n",
      "['coast digital colchester', 'gb', '0', '40', 'NaN', 'NaN', 'NaN', 'NaN', 'digital marketing agency', '2020-05-03 15:27:03', 'Sitelinks', '']\n",
      "['like who who what what where', 'gb', '0', '40', 'NaN', 'NaN', 'NaN', 'NaN', 'who and what and where song', '2020-05-07 19:52:49', 'Top stories, Thumbnails, Videos, Image pack', '']\n",
      "['define: business', 'gb', '64', '40', 'NaN', 'NaN', 'NaN', 'NaN', 'business definition', '2020-04-16 08:11:14', 'Knowledge card, People also ask, Sitelinks, Top stories, Thumbnails, Image pack', '']\n",
      "['online service definition', 'gb', '1', '40', 'NaN', 'NaN', 'NaN', 'NaN', 'what is online services', '2020-04-29 22:12:56', 'People also ask, Sitelinks', '']\n",
      "['content marketing agencies london', 'gb', '31', '40', 'NaN', 'NaN', 'NaN', 'NaN', 'content agency london', '2020-05-04 11:14:13', 'Adwords top, Sitelinks, Adwords bottom', '']\n",
      "['what does encompasses mean', 'gb', '7', '40', 'NaN', 'NaN', 'NaN', 'NaN', 'encompass', '2020-04-28 10:03:52', 'Knowledge card, People also ask, Videos', '']\n",
      "['what does market mean', 'gb', '43', '40', 'NaN', 'NaN', 'NaN', 'NaN', 'market', '2020-04-18 01:54:46', 'Knowledge card, People also ask, Top stories, Thumbnails', '']\n",
      "['digital seo.net', 'gb', '41', '40', 'NaN', 'NaN', 'NaN', 'NaN', 'seo sussex', '2020-05-06 22:41:36', 'NaN', '']\n",
      "['digital media blog', 'gb', '22', '30', 'NaN', 'NaN', 'NaN', 'NaN', 'digital media blog', '2020-05-10 16:35:49', 'People also ask', '']\n",
      "['marketing world', 'gb', '0', '30', 'NaN', 'NaN', 'NaN', 'NaN', 'content marketing world', '2020-05-05 08:23:19', 'Sitelinks, Top stories, Thumbnails', '']\n",
      "['define wat', 'gb', '15', '30', 'NaN', 'NaN', 'NaN', 'NaN', 'wat', '2020-04-19 22:47:47', 'Knowledge card, People also ask', '']\n",
      "[\"what is this '\", 'gb', '56', '30', 'NaN', 'NaN', 'NaN', 'NaN', 'what is this', '2020-05-09 21:26:03', 'Sitelinks, People also ask, Top stories, Thumbnails, Image pack', '']\n",
      "['digital marketing services uk', 'gb', 'NaN', '30', 'NaN', 'NaN', 'NaN', 'NaN', 'NaN', 'NaN', 'NaN', '']\n",
      "['what is all about', 'gb', '0', '30', 'NaN', 'NaN', 'NaN', 'NaN', 'what is all about', '2020-04-20 10:28:49', 'People also ask, Top stories, Thumbnails', '']\n",
      "['digital channels definition', 'gb', '20', '30', 'NaN', 'NaN', 'NaN', 'NaN', 'digital channel', '2020-04-20 12:21:26', 'Featured snippet, People also ask, Top stories, Thumbnails', '']\n",
      "['top uk digital agencies', 'gb', '5', '30', 'NaN', 'NaN', 'NaN', 'NaN', 'digital agency', '2020-04-18 13:49:07', 'Adwords top, Sitelinks, Featured snippet, Adwords bottom', '']\n",
      "['define marketing concept', 'gb', '15', '30', 'NaN', 'NaN', 'NaN', 'NaN', 'marketing concept', '2020-04-20 14:30:47', 'Featured snippet, People also ask, Top stories, Thumbnails', '']\n",
      "['digital marketing consulting services', 'gb', 'NaN', '30', 'NaN', 'NaN', 'NaN', 'NaN', 'NaN', 'NaN', 'NaN', '']\n",
      "['digital work', 'gb', '12', '30', 'NaN', 'NaN', 'NaN', 'NaN', 'digital work', '2020-04-24 10:19:32', 'People also ask, Image pack', '']\n",
      "['define e marketing', 'gb', '29', '30', 'NaN', 'NaN', 'NaN', 'NaN', 'what is emarketing', '2020-04-23 10:09:59', 'Adwords top, People also ask, Videos', '']\n",
      "['digital marketing sales', 'gb', 'NaN', '20', 'NaN', 'NaN', 'NaN', 'NaN', 'NaN', 'NaN', 'NaN', '']\n",
      "['results through digital', 'gb', '1', '20', 'NaN', '19', '0.87', '1.12', 'results through digital', '2020-05-08 10:34:54', 'Sitelinks, Top stories, Thumbnails, Image pack', '']\n",
      "['star digital marketing services', 'gb', 'NaN', '10', 'NaN', 'NaN', 'NaN', 'NaN', 'star digital', 'NaN', 'NaN', '']\n",
      "['marketing services business', 'gb', 'NaN', '10', 'NaN', 'NaN', 'NaN', 'NaN', 'NaN', 'NaN', 'NaN', '']\n",
      "['digital marketing professional services', 'gb', 'NaN', '10', 'NaN', 'NaN', 'NaN', 'NaN', 'NaN', 'NaN', 'NaN', '']\n",
      "['marketing services company', 'gb', 'NaN', '10', 'NaN', 'NaN', 'NaN', 'NaN', 'NaN', 'NaN', 'NaN', '']\n",
      "['digital marketing company new york', 'gb', 'NaN', '10', 'NaN', 'NaN', 'NaN', 'NaN', 'NaN', 'NaN', 'NaN', '']\n",
      "['uk online marketing services', 'gb', 'NaN', '10', 'NaN', 'NaN', 'NaN', 'NaN', 'NaN', 'NaN', 'NaN', '']\n",
      "['how to market b2b services', 'gb', 'NaN', '10', 'NaN', 'NaN', 'NaN', 'NaN', 'b2b marketing strategy', 'NaN', 'NaN', '']\n",
      "['digital marketing company nyc', 'gb', 'NaN', '10', 'NaN', 'NaN', 'NaN', 'NaN', 'NaN', 'NaN', 'NaN', '']\n",
      "['providing marketing services', 'gb', 'NaN', '10', 'NaN', 'NaN', 'NaN', 'NaN', 'NaN', 'NaN', 'NaN', '']\n",
      "['marketin services', 'gb', 'NaN', '10', 'NaN', 'NaN', 'NaN', 'NaN', 'NaN', 'NaN', 'NaN', '']\n",
      "['marketing service strategies', 'gb', 'NaN', '10', 'NaN', 'NaN', 'NaN', 'NaN', 'NaN', 'NaN', 'NaN', '']\n",
      "['best online marketing services', 'gb', 'NaN', '10', 'NaN', 'NaN', 'NaN', 'NaN', 'NaN', 'NaN', 'NaN', '']\n",
      "['star digital marketing services ltd', 'gb', 'NaN', '10', 'NaN', 'NaN', 'NaN', 'NaN', 'NaN', 'NaN', 'NaN', '']\n",
      "['digital marketing financial services', 'gb', 'NaN', '10', 'NaN', 'NaN', 'NaN', 'NaN', 'NaN', 'NaN', 'NaN', '']\n",
      "['financial services digital marketing', 'gb', 'NaN', '10', 'NaN', 'NaN', 'NaN', 'NaN', 'NaN', 'NaN', 'NaN', '']\n",
      "['selling marketing services', 'gb', 'NaN', '10', 'NaN', 'NaN', 'NaN', 'NaN', 'NaN', 'NaN', 'NaN', '']\n",
      "['phone marketing services', 'gb', 'NaN', '10', 'NaN', 'NaN', 'NaN', 'NaN', 'tps', 'NaN', 'NaN', '']\n",
      "['digital marketing service', 'gb', 'NaN', '10', 'NaN', 'NaN', 'NaN', 'NaN', 'NaN', 'NaN', 'NaN', '']\n",
      "['virtual snipers digital marketing services', 'gb', 'NaN', '10', 'NaN', 'NaN', 'NaN', 'NaN', 'NaN', 'NaN', 'NaN', '']\n",
      "['financial services digital marketing trends', 'gb', 'NaN', '10', 'NaN', 'NaN', 'NaN', 'NaN', 'NaN', 'NaN', 'NaN', '']\n",
      "['sales marketing and service', 'gb', 'NaN', '10', 'NaN', 'NaN', 'NaN', 'NaN', 'NaN', 'NaN', 'NaN', '']\n",
      "['digital marketing services india', 'gb', 'NaN', '10', 'NaN', 'NaN', 'NaN', 'NaN', 'NaN', 'NaN', 'NaN', '']\n",
      "['gannett digital marketing services', 'gb', 'NaN', '10', 'NaN', 'NaN', 'NaN', 'NaN', 'NaN', 'NaN', 'NaN', '']\n",
      "['digital marketing for financial services summit', 'gb', 'NaN', '10', 'NaN', 'NaN', 'NaN', 'NaN', 'NaN', 'NaN', 'NaN', '']\n",
      "['how to sell digital marketing services', 'gb', 'NaN', '10', 'NaN', 'NaN', 'NaN', 'NaN', 'NaN', 'NaN', 'NaN', '']\n",
      "['select marketing services', 'gb', 'NaN', '10', 'NaN', 'NaN', 'NaN', 'NaN', 'NaN', 'NaN', 'NaN', '']\n",
      "['digital marketing strategy services', 'gb', 'NaN', '10', 'NaN', 'NaN', 'NaN', 'NaN', 'NaN', 'NaN', 'NaN', '']\n",
      "['online marketing services uk', 'gb', 'NaN', '10', 'NaN', 'NaN', 'NaN', 'NaN', 'NaN', 'NaN', 'NaN', '']\n",
      "['marketing sevices', 'gb', 'NaN', '10', 'NaN', 'NaN', 'NaN', 'NaN', 'NaN', 'NaN', 'NaN', '']\n",
      "['marketing services strategies', 'gb', 'NaN', '10', 'NaN', 'NaN', 'NaN', 'NaN', 'NaN', 'NaN', 'NaN', '']\n",
      "['digital marketing services birmingham al', 'gb', 'NaN', '10', 'NaN', 'NaN', 'NaN', 'NaN', 'NaN', 'NaN', 'NaN', '']\n",
      "['website traffic marketing services', 'gb', 'NaN', '10', 'NaN', 'NaN', 'NaN', 'NaN', 'NaN', 'NaN', 'NaN', '']\n",
      "['marketing services agency', 'gb', 'NaN', '10', 'NaN', 'NaN', 'NaN', 'NaN', 'NaN', 'NaN', 'NaN', '']\n",
      "['marketing of it services', 'gb', 'NaN', '10', 'NaN', 'NaN', 'NaN', 'NaN', 'NaN', 'NaN', 'NaN', '']\n",
      "['marketing in it services', 'gb', 'NaN', '10', 'NaN', 'NaN', 'NaN', 'NaN', 'NaN', 'NaN', 'NaN', '']\n",
      "['selling digital marketing services', 'gb', 'NaN', '10', 'NaN', 'NaN', 'NaN', 'NaN', 'NaN', 'NaN', 'NaN', '']\n",
      "['marketing services network', 'gb', 'NaN', '10', 'NaN', 'NaN', 'NaN', 'NaN', 'NaN', 'NaN', 'NaN', '']\n",
      "['campaign marketing services', 'gb', 'NaN', '10', 'NaN', 'NaN', 'NaN', 'NaN', 'the marketing campaign company', 'NaN', 'NaN', '']\n",
      "['digital marketing trends in financial services', 'gb', 'NaN', '0', 'NaN', 'NaN', 'NaN', 'NaN', 'NaN', 'NaN', 'NaN', '']\n",
      "['digital marketing services reading', 'gb', 'NaN', '0', 'NaN', 'NaN', 'NaN', 'NaN', 'NaN', 'NaN', 'NaN', '']\n",
      "['digital marketing services bristol', 'gb', 'NaN', '0', 'NaN', 'NaN', 'NaN', 'NaN', 'NaN', 'NaN', 'NaN', '']\n",
      "['financial services digital marketing agency', 'gb', 'NaN', '0', 'NaN', 'NaN', 'NaN', 'NaN', 'NaN', 'NaN', 'NaN', '']\n",
      "['digital marketing automation services', 'gb', 'NaN', '0', 'NaN', 'NaN', 'NaN', 'NaN', 'NaN', 'NaN', 'NaN', '']\n",
      "['digital marketing services list', 'gb', 'NaN', '0', 'NaN', 'NaN', 'NaN', 'NaN', 'NaN', 'NaN', 'NaN', '']\n",
      "['digital marketing in financial services', 'gb', 'NaN', '0', 'NaN', 'NaN', 'NaN', 'NaN', 'NaN', 'NaN', 'NaN', '']\n",
      "['who needs digital marketing', 'gb', 'NaN', '0', 'NaN', 'NaN', 'NaN', 'NaN', 'NaN', 'NaN', 'NaN', '']\n",
      "['rv digital marketing services', 'gb', 'NaN', '0', 'NaN', 'NaN', 'NaN', 'NaN', 'NaN', 'NaN', 'NaN', '']\n",
      "['buy digital marketing services', 'gb', 'NaN', '0', 'NaN', 'NaN', 'NaN', 'NaN', 'NaN', 'NaN', 'NaN', '']\n",
      "['how much to charge for digital marketing', 'gb', 'NaN', '0', 'NaN', 'NaN', 'NaN', 'NaN', 'NaN', 'NaN', 'NaN', '']\n",
      "['digital marketing services for small business', 'gb', 'NaN', '0', 'NaN', 'NaN', 'NaN', 'NaN', 'NaN', 'NaN', 'NaN', '']\n",
      "['digital services marketing', 'gb', 'NaN', '0', 'NaN', 'NaN', 'NaN', 'NaN', 'NaN', 'NaN', 'NaN', '']\n",
      "['how to pitch digital marketing services', 'gb', 'NaN', '0', 'NaN', 'NaN', 'NaN', 'NaN', 'NaN', 'NaN', 'NaN', '']\n",
      "['digital marketing services pricing', 'gb', 'NaN', '0', 'NaN', 'NaN', 'NaN', 'NaN', 'NaN', 'NaN', 'NaN', '']\n",
      "['altitude internet digital marketing services limited', 'gb', 'NaN', '0', 'NaN', 'NaN', 'NaN', 'NaN', 'NaN', 'NaN', 'NaN', '']\n",
      "['internet marketing companies', 'gb', '64', '40', '60', 'NaN', 'NaN', 'NaN', 'digital marketing agency', '2020-04-29 00:18:03', 'Featured snippet', '']\n",
      "['mobile marketing companies', 'gb', '9', '50', '40', 'NaN', 'NaN', 'NaN', 'mobile marketing agency', '2020-05-04 12:55:50', 'Featured snippet', '']\n",
      "['digital market', 'gb', '83', '150', '30', '78', '0.58', '1.32', 'digital marketplace', '2020-04-24 15:59:15', 'Sitelinks, People also ask, Top stories, Thumbnails', '']\n",
      "['seo services london', 'gb', '44', '350', '25', '320', '0.96', '2.74', 'seo services london', '2020-05-01 03:22:55', 'Adwords bottom, Sitelinks', '']\n",
      "['search marketing agency', 'gb', '51', '150', '25', 'NaN', 'NaN', 'NaN', 'search marketing agency', '2020-04-24 18:47:07', 'Adwords top, Sitelinks, Adwords bottom', '']\n",
      "['online marketing companies', 'gb', '48', '100', '25', 'NaN', 'NaN', 'NaN', 'digital marketing agency', '2020-04-18 10:50:21', 'Featured snippet, People also ask', '']\n",
      "['top digital marketing companies', 'gb', '39', '90', '25', 'NaN', 'NaN', 'NaN', 'digital marketing company', '2020-04-16 17:50:50', 'Sitelinks, People also ask', '']\n",
      "['digital advertising companies', 'gb', '28', '50', '25', 'NaN', 'NaN', 'NaN', 'digital agency', '2020-04-15 21:26:20', 'Adwords top, Adwords bottom, Sitelinks', '']\n",
      "['the search marketing shop', 'gb', '0', '40', '25', 'NaN', 'NaN', 'NaN', 'the search marketing shop', '2020-04-19 02:19:27', 'Sitelinks, Image pack', '']\n",
      "['content marketing agency uk', 'gb', '8', '90', '20', 'NaN', 'NaN', 'NaN', 'content marketing agency', '2020-05-05 09:12:49', 'NaN', '']\n",
      "['best digital marketing agency', 'gb', '47', '80', '20', 'NaN', 'NaN', 'NaN', 'marketing agency', '2020-04-14 21:52:02', 'Sitelinks', '']\n",
      "['seo and digital marketing', 'gb', '17', '80', '20', 'NaN', 'NaN', 'NaN', 'seo marketing', '2020-04-19 23:46:13', 'Adwords top, Sitelinks, Featured snippet, People also ask, Top stories, Thumbnails, Adwords bottom', '']\n",
      "['b2b digital marketing agency', 'gb', '40', '40', '20', 'NaN', 'NaN', 'NaN', 'NaN', 'NaN', 'NaN', '']\n",
      "['digital marketing agency', 'gb', '57', '3400', '18', '3925', '1.14', '1.39', 'digital marketing agency', '2020-05-10 16:47:24', 'Adwords top, Sitelinks, People also ask, Adwords bottom', '']\n",
      "['digital marketing communications', 'gb', '26', '40', '18', 'NaN', 'NaN', 'NaN', 'digital marketing', '2020-04-27 05:12:26', 'Adwords top, Sitelinks, Featured snippet, Thumbnails, People also ask, Image pack', '']\n",
      "['content meaning', 'gb', '45', '4400', '17', '622', '0.14', '1.18', 'content', '2020-05-10 06:32:24', 'Knowledge card, People also ask, Top stories, Thumbnails', '']\n",
      "['content marketing agency', 'gb', '11', '500', '17', '912', '1.83', '1.52', 'content marketing agency', '2020-05-01 07:46:32', 'Sitelinks, Adwords bottom', '']\n",
      "['email marketing agency', 'gb', '8', '250', '17', '480', '1.78', '2', 'email marketing agency', '2020-04-25 12:34:52', 'Adwords top, Sitelinks, Adwords bottom', '']\n",
      "['digital agencies london', 'gb', '50', '200', '17', '456', '2.42', '1.91', 'digital marketing agency', '2020-04-19 12:13:25', 'Adwords top, Sitelinks, Adwords bottom', '']\n",
      "['content marketing agency london', 'gb', '36', '150', '16', 'NaN', 'NaN', 'NaN', 'content marketing agency', '2020-04-30 01:56:51', 'Featured snippet, Sitelinks', '']\n",
      "['digital marketing agency reading', 'gb', '1', '60', '16', 'NaN', 'NaN', 'NaN', 'digital marketing agency reading', '2020-04-16 04:59:53', 'Adwords top, Sitelinks, Videos, Image pack, Adwords bottom', '']\n",
      "['digital marketing company', 'gb', '48', '500', '15', '552', '1.05', '1.45', 'digital marketing agency', '2020-05-06 02:13:21', 'Adwords top, Sitelinks, People also ask, Adwords bottom', '']\n",
      "['digital marketing agencies', 'gb', '35', '300', '15', '473', '1.61', '1.48', 'digital marketing agency', '2020-05-08 20:03:47', 'Adwords top, Sitelinks, Adwords bottom', '']\n",
      "['email marketing agency london', 'gb', '8', '80', '15', 'NaN', 'NaN', 'NaN', 'marketing email', '2020-04-26 23:44:02', 'Featured snippet', '']\n",
      "['digital marketing life cycle', 'gb', '0', '80', '15', 'NaN', 'NaN', 'NaN', 'digital marketing life cycle', '2020-04-14 13:04:01', 'Featured snippet, Thumbnails, People also ask, Image pack, Videos, Top stories', '']\n",
      "['digital marketing agency london', 'gb', '66', '700', '14', '1818', '2.5', '1.6', 'digital marketing agency', '2020-05-06 12:03:52', 'Adwords top, Sitelinks, Featured snippet, Adwords bottom', '']\n",
      "['digital marketing companies', 'gb', '46', '250', '14', '429', '1.66', '1.3', 'digital marketing agency', '2020-04-26 20:53:34', 'Adwords top, Sitelinks, People also ask, Adwords bottom', '']\n",
      "['benefits of digital marketing', 'gb', '15', '200', '14', '220', '1.09', '1.18', 'benefits of digital marketing', '2020-05-06 12:53:13', 'Featured snippet, Thumbnails, People also ask', '']\n",
      "['online marketing agency', 'gb', '64', '150', '14', '198', '1.47', '1.15', 'digital marketing agency', '2020-04-26 03:58:13', 'Adwords top, Sitelinks, People also ask, Adwords bottom', '']\n",
      "['digital marketing companies in uk', 'gb', '56', '100', '14', 'NaN', 'NaN', 'NaN', 'digital marketing agency', '2020-05-04 10:38:02', 'Featured snippet, Adwords bottom, Sitelinks', '']\n",
      "['top digital marketing agencies', 'gb', '24', '100', '14', 'NaN', 'NaN', 'NaN', 'marketing agency', '2020-04-14 06:42:38', 'Sitelinks, People also ask', '']\n",
      "['digital marketing agency uk', 'gb', '56', '100', '14', '155', '1.28', '1.43', 'digital marketing agency', '2020-04-25 20:13:55', 'NaN', '']\n",
      "['top digital marketing agencies london', 'gb', '22', '100', '14', '211', '1.74', '1.29', 'digital marketing agency', '2020-05-04 19:50:10', 'NaN', '']\n",
      "['internet marketing services', 'gb', '34', '90', '14', 'NaN', 'NaN', 'NaN', 'digital marketing services', '2020-04-19 15:12:27', 'People also ask', '']\n",
      "['impressions digital marketing', 'gb', '23', '70', '14', 'NaN', 'NaN', 'NaN', 'digital marketing agency', '2020-04-16 08:59:23', 'Sitelinks, People also ask, Top stories, Thumbnails', '']\n",
      "['digital media agencies', 'gb', '39', '40', '14', 'NaN', 'NaN', 'NaN', 'marketing agency', '2020-05-09 20:56:34', 'Adwords top, Sitelinks, Adwords bottom', '']\n",
      "['online marketing company', 'gb', '63', '250', '13', 'NaN', 'NaN', 'NaN', 'online marketing company', '2020-04-29 13:28:21', 'People also ask, Sitelinks', '']\n",
      "['social media marketing companies', 'gb', '15', '200', '13', '221', '1.17', '1.25', 'social media agency', '2020-04-24 05:41:15', 'Adwords top, Sitelinks, Featured snippet, Adwords bottom', '']\n",
      "['seo digital marketing', 'gb', '36', '150', '13', '158', '1.17', '1.36', 'seo marketing', '2020-04-19 04:23:05', 'Adwords top, Sitelinks, Featured snippet, People also ask, Top stories, Thumbnails, Adwords bottom', '']\n",
      "['website design nottingham', 'gb', '37', '150', '13', 'NaN', 'NaN', 'NaN', 'web design nottingham', '2020-04-29 15:39:22', 'Adwords bottom, Sitelinks', '']\n",
      "['ppc online', 'gb', '71', '100', '13', '72', '0.64', '1.19', 'nhs prepayment card', '2020-04-28 12:36:43', 'People also ask, Top stories, Thumbnails', '']\n",
      "['social media advertising agency', 'gb', '7', '100', '13', 'NaN', 'NaN', 'NaN', 'social media advertising', '2020-05-08 20:20:04', 'Adwords top, Sitelinks, Adwords bottom', '']\n",
      "['digital content marketing', 'gb', '24', '90', '13', 'NaN', 'NaN', 'NaN', 'digital content marketing', '2020-05-05 09:32:31', 'Featured snippet, People also ask', '']\n",
      "['social media marketing agency uk', 'gb', '6', '70', '13', 'NaN', 'NaN', 'NaN', 'social media marketing agency', '2020-05-10 00:11:43', 'Adwords top, Sitelinks, Adwords bottom', '']\n",
      "['digital marketing strategist', 'gb', '39', '60', '13', 'NaN', 'NaN', 'NaN', 'digital marketing strategist', '2020-05-08 10:13:13', 'Featured snippet, Thumbnails, People also ask, Top stories', '']\n",
      "['web designers nottingham', 'gb', '37', '50', '13', 'NaN', 'NaN', 'NaN', 'web design nottingham', '2020-04-30 12:22:10', 'Adwords bottom, Sitelinks', '']\n",
      "['digital marketing for financial services', 'gb', '0', '50', '13', 'NaN', 'NaN', 'NaN', 'digital marketing for financial services', '2020-04-17 06:01:48', 'Adwords top, Sitelinks, Adwords bottom', '']\n",
      "['internet marketing experts', 'gb', '8', '20', '13', 'NaN', 'NaN', 'NaN', 'online marketing expert', '2020-04-24 10:20:51', 'Adwords top, Sitelinks, Adwords bottom', '']\n",
      "['digital marketing services', 'gb', '31', '500', '12', '582', '1.2', '1.83', 'digital marketing services', '2020-05-02 00:01:11', 'Adwords top, Sitelinks, People also ask, Adwords bottom', '']\n",
      "['digital marketing agency near me', 'gb', '59', '250', '12', '134', '0.51', '1.27', 'digital marketing agency', '2020-05-07 19:24:04', 'NaN', '']\n",
      "['marketing-online', 'gb', '70', '200', '12', 'NaN', 'NaN', 'NaN', 'online marketing', '2020-05-03 04:10:27', 'People also ask, Top stories, Thumbnails', '']\n",
      "['internet marketing company', 'gb', '38', '150', '12', 'NaN', 'NaN', 'NaN', 'marketing company', '2020-05-03 07:23:11', 'Featured snippet, People also ask', '']\n",
      "['search marketing company', 'gb', '71', '100', '12', 'NaN', 'NaN', 'NaN', 'digital marketing agency', '2020-05-10 03:55:11', 'NaN', '']\n",
      "['how to get into digital marketing', 'gb', '5', '100', '12', '131', '1.15', '1.22', 'how to get into marketing', '2020-04-23 13:33:47', 'Adwords top, Sitelinks, Featured snippet, Thumbnails, People also ask, Top stories', '']\n",
      "['digital marketing strategies', 'gb', '64', '90', '12', '107', '1.19', '1.13', 'marketing strategy', '2020-04-17 11:58:50', 'Featured snippet, Thumbnails, People also ask, Top stories', '']\n",
      "['full service digital agency', 'gb', '9', '80', '12', 'NaN', 'NaN', 'NaN', 'full service digital agency', '2020-04-25 15:23:37', 'People also ask', '']\n",
      "['digital agency services', 'gb', '6', '70', '12', 'NaN', 'NaN', 'NaN', 'digital marketing services', '2020-04-16 16:37:22', 'People also ask', '']\n",
      "['web design nottingham', 'gb', '38', '500', '11', '489', '0.93', '3.19', 'web design nottingham', '2020-05-06 10:34:16', 'Sitelinks, Adwords bottom', '']\n",
      "['digital marketing campaign', 'gb', '39', '300', '11', '217', '0.72', '1.36', 'marketing pricing', '2020-04-26 22:21:26', 'Adwords top, Sitelinks, Featured snippet, People also ask', '']\n",
      "['types of digital marketing', 'gb', '42', '200', '11', '184', '0.93', '1.13', 'types of digital marketing', '2020-05-02 02:09:05', 'Featured snippet, Thumbnails, People also ask, Sitelinks', '']\n",
      "['digital marketing companies london', 'gb', '41', '200', '11', 'NaN', 'NaN', 'NaN', 'digital marketing agency london', '2020-04-20 16:40:13', 'Adwords top, Sitelinks, Adwords bottom', '']\n",
      "['social media agency london', 'gb', '28', '200', '11', '457', '2.12', '1.67', 'social media agency london', '2020-05-07 14:34:02', 'Sitelinks, Adwords bottom', '']\n",
      "['digital media agency', 'gb', '45', '150', '11', '221', '1.75', '1.22', 'marketing agency', '2020-04-28 13:31:22', 'Sitelinks, People also ask', '']\n",
      "['london digital agency', 'gb', '56', '150', '11', 'NaN', 'NaN', 'NaN', 'marketing agency', '2020-04-29 14:02:27', 'Adwords top, Sitelinks, Adwords bottom', '']\n",
      "['learn digital marketing', 'gb', '49', '150', '11', '90', '0.59', '1.13', 'digital', '2020-04-30 23:50:55', 'Adwords top, Featured snippet, Sitelinks, People also ask, Top stories, Thumbnails, Adwords bottom', '']\n",
      "['web marketing company', 'gb', '25', '100', '11', 'NaN', 'NaN', 'NaN', 'online marketing company', '2020-04-16 18:29:22', 'Adwords top, Adwords bottom, Sitelinks', '']\n",
      "['what is e-marketing', 'gb', '17', '100', '11', 'NaN', 'NaN', 'NaN', 'what is emarketing', '2020-04-21 17:28:59', 'Adwords top, Sitelinks, People also ask, Top stories, Thumbnails', '']\n",
      "['online advertising agency', 'gb', '28', '100', '11', 'NaN', 'NaN', 'NaN', 'online advertising agency', '2020-04-19 15:18:35', 'Adwords top, Sitelinks, Adwords bottom', '']\n",
      "['social media marketing agency london', 'gb', '24', '90', '11', '149', '1.6', '1.19', 'social media marketing agency', '2020-04-16 19:45:03', 'Adwords top, Sitelinks, Featured snippet, Adwords bottom', '']\n",
      "['best digital agencies london', 'gb', '18', '80', '11', 'NaN', 'NaN', 'NaN', 'digital agency', '2020-05-01 06:42:19', 'Featured snippet, Thumbnails, Adwords bottom, Sitelinks', '']\n",
      "['go umbrella time online', 'gb', '5', '40', '11', 'NaN', 'NaN', 'NaN', 'go umbrella time online', '2020-05-07 09:55:25', 'Adwords top', '']\n",
      "['internet marketing expert', 'gb', '10', '30', '11', 'NaN', 'NaN', 'NaN', 'online marketing expert', '2020-05-08 08:20:31', 'NaN', '']\n",
      "['online marketing', 'gb', '70', '2200', '10', '1370', '0.62', '1.23', 'online marketing', '2020-05-07 12:26:37', 'Adwords top, Sitelinks, People also ask, Top stories, Thumbnails, Adwords bottom', '']\n",
      "['social media marketing agency', 'gb', '11', '900', '10', '1209', '1.34', '1.52', 'social media marketing agency', '2020-05-08 19:58:46', 'Adwords top, Sitelinks, People also ask, Top stories, Thumbnails, Image pack, Adwords bottom', '']\n",
      "['digital agency london', 'gb', '52', '450', '10', '1297', '3.01', '1.71', 'marketing agency', '2020-04-29 07:33:16', 'Adwords top, Sitelinks', '']\n",
      "['marketing online', 'gb', '70', '300', '10', '170', '0.58', '1.25', 'online marketing', '2020-05-03 04:10:16', 'People also ask, Top stories, Thumbnails, Adwords bottom, Sitelinks', '']\n",
      "['digital advertising agency', 'gb', '31', '100', '10', 'NaN', 'NaN', 'NaN', 'digital advertising agency', '2020-04-20 22:38:14', 'People also ask, Sitelinks', '']\n",
      "['online marketing agency london', 'gb', '45', '100', '10', 'NaN', 'NaN', 'NaN', 'digital marketing agency', '2020-05-04 17:49:12', 'Sitelinks', '']\n",
      "['social media marketing services', 'gb', '22', '90', '10', 'NaN', 'NaN', 'NaN', 'social media marketing agency', '2020-04-22 05:46:59', 'Adwords top, Sitelinks, Adwords bottom', '']\n",
      "['online digital marketing', 'gb', '57', '80', '10', 'NaN', 'NaN', 'NaN', 'digital marketing course', '2020-04-29 08:08:31', 'Sitelinks, People also ask, Top stories, Thumbnails', '']\n",
      "['social media marketing companies uk', 'gb', '7', '80', '10', 'NaN', 'NaN', 'NaN', 'social media marketing agency', '2020-05-07 23:46:05', 'NaN', '']\n",
      "['social media agency bristol', 'gb', '4', '40', '10', 'NaN', 'NaN', 'NaN', 'social media marketing bristol', '2020-05-06 19:31:49', 'Sitelinks', '']\n",
      "['digital agency', 'gb', '48', '1300', '9', '1659', '1.31', '1.42', 'digital marketing agency', '2020-05-06 10:50:13', 'Adwords top, Sitelinks, Top stories, Thumbnails, People also ask, Adwords bottom', '']\n",
      "['digital marketing strategy', 'gb', '65', '1200', '9', '1112', '0.96', '1.36', 'digital marketing strategy', '2020-05-08 20:21:50', 'Featured snippet, Thumbnails, People also ask, Sitelinks, Top stories, Adwords bottom', '']\n",
      "['digital marketing london', 'gb', '41', '400', '9', '777', '1.86', '1.87', 'digital marketing agency', '2020-05-02 02:45:42', 'Sitelinks, Adwords bottom', '']\n",
      "['digital marketing techniques', 'gb', '62', '200', '9', '219', '1.25', '1.26', 'digital marketing techniques', '2020-05-01 15:45:19', 'Featured snippet, Thumbnails, People also ask, Top stories', '']\n",
      "['digital media marketing', 'gb', '66', '150', '9', '73', '0.46', '1.16', 'digital marketing', '2020-04-30 09:40:00', 'Featured snippet, Thumbnails, People also ask, Sitelinks, Top stories', '']\n",
      "['digital marketing expert', 'gb', '13', '100', '9', 'NaN', 'NaN', 'NaN', 'digital marketing consultant', '2020-04-19 02:28:26', 'Sitelinks, People also ask, Top stories, Thumbnails', '']\n",
      "['online marketing expert', 'gb', '8', '90', '9', 'NaN', 'NaN', 'NaN', 'online marketing expert', '2020-05-10 13:19:28', 'Adwords top, Sitelinks, Top stories, Thumbnails, Adwords bottom', '']\n",
      "['digital media agency london', 'gb', '51', '90', '9', 'NaN', 'NaN', 'NaN', 'digital marketing agency', '2020-04-21 23:30:45', 'NaN', '']\n",
      "['top digital agencies london', 'gb', '7', '90', '9', 'NaN', 'NaN', 'NaN', 'digital marketing agency', '2020-05-05 07:50:28', 'Adwords bottom, Sitelinks', '']\n",
      "['digital ad agency', 'gb', '48', '80', '9', 'NaN', 'NaN', 'NaN', 'digital marketing agency', '2020-05-04 12:45:25', 'People also ask', '']\n",
      "['digital marketing agency essex', 'gb', '55', '80', '9', 'NaN', 'NaN', 'NaN', 'absolute digital media', '2020-04-16 06:52:01', 'Adwords top, Sitelinks, Adwords bottom', '']\n",
      "['digital marketing social media', 'gb', '75', '60', '9', 'NaN', 'NaN', 'NaN', 'social media marketing', '2020-04-14 01:33:47', 'Featured snippet, Sitelinks, Top stories, Thumbnails', '']\n",
      "['digital transformation agency london', 'gb', '47', '50', '9', 'NaN', 'NaN', 'NaN', 'digital transformation agency london', '2020-04-20 21:59:34', 'Adwords bottom', '']\n",
      "['web designer nottingham', 'gb', '37', '50', '9', 'NaN', 'NaN', 'NaN', 'web design nottingham', '2020-04-16 10:21:07', 'Sitelinks, Image pack', '']\n",
      "['online marketing channels', 'gb', '40', '50', '9', 'NaN', 'NaN', 'NaN', 'marketing channels', '2020-04-16 04:53:23', 'Adwords top, Sitelinks, Featured snippet, Thumbnails, People also ask', '']\n",
      "['digital agencies uk', 'gb', '28', '40', '9', 'NaN', 'NaN', 'NaN', 'digital agency uk', '2020-04-29 08:19:51', 'Featured snippet, Thumbnails', '']\n",
      "['internet marketing strategy', 'gb', '65', '40', '9', 'NaN', 'NaN', 'NaN', 'strategy internet marketing', '2020-04-15 02:06:14', 'Featured snippet, Thumbnails, Top stories, Image pack', '']\n",
      "['digital marketing company london', 'gb', '52', '30', '9', 'NaN', 'NaN', 'NaN', 'digital marketing agency', '2020-05-10 15:28:03', 'Adwords top, Sitelinks, Adwords bottom', '']\n",
      "['social media marketing london', 'gb', '8', '200', '8', '294', '1.58', '1.73', 'social media agency london', '2020-04-20 08:50:31', 'Adwords top, Sitelinks, Featured snippet, Adwords bottom', '']\n",
      "['internet marketing agency', 'gb', '49', '200', '8', 'NaN', 'NaN', 'NaN', 'digital marketing agency', '2020-05-09 00:49:38', 'NaN', '']\n",
      "['strategy internet marketing', 'gb', '68', '150', '8', 'NaN', 'NaN', 'NaN', 'strategy internet marketing', '2020-04-29 08:17:15', 'Featured snippet, Thumbnails, People also ask', '']\n",
      "['social media company', 'gb', '35', '150', '8', '113', '0.89', '1.26', 'social media marketing agency', '2020-04-29 14:51:36', 'People also ask, Image pack', '']\n",
      "['online marketing business', 'gb', '56', '100', '8', 'NaN', 'NaN', 'NaN', 'marketing agency', '2020-05-05 22:21:52', 'People also ask, Top stories, Thumbnails', '']\n",
      "['social media companies london', 'gb', '17', '100', '8', 'NaN', 'NaN', 'NaN', 'social media marketing agency', '2020-04-23 19:06:43', 'Adwords top, Sitelinks, Featured snippet, Adwords bottom', '']\n",
      "['marketing website', 'gb', '38', '100', '8', 'NaN', 'NaN', 'NaN', 'website agency', '2020-04-26 15:41:58', 'NaN', '']\n",
      "['nottingham web design', 'gb', '37', '100', '8', 'NaN', 'NaN', 'NaN', 'web design nottingham', '2020-04-20 13:01:16', 'Adwords top, Sitelinks, Adwords bottom', '']\n",
      "['internet marketing strategies', 'gb', '57', '100', '8', 'NaN', 'NaN', 'NaN', 'internet marketing', '2020-05-01 23:13:32', 'Featured snippet, Thumbnails, People also ask, Top stories', '']\n",
      "['digital technology examples', 'gb', '23', '100', '8', 'NaN', 'NaN', 'NaN', 'digital technology', '2020-05-02 06:23:27', 'Featured snippet, Thumbnails, People also ask', '']\n",
      "['what is a digital agency', 'gb', '11', '100', '8', '52', '0.43', '1.07', 'what is a digital agency', '2020-04-23 13:46:44', 'Adwords top, Sitelinks, Featured snippet, Thumbnails, People also ask, Top stories', '']\n",
      "['digital marketing services london', 'gb', '55', '100', '8', 'NaN', 'NaN', 'NaN', 'marketing agency', '2020-04-19 19:29:36', 'Sitelinks', '']\n",
      "['web marketing agency', 'gb', '57', '90', '8', 'NaN', 'NaN', 'NaN', 'web marketing agency', '2020-05-02 04:50:13', 'People also ask, Adwords bottom, Sitelinks', '']\n",
      "['social media marketing company', 'gb', '19', '80', '8', 'NaN', 'NaN', 'NaN', 'social media agency', '2020-04-21 18:26:15', 'Adwords top, Sitelinks, Adwords bottom', '']\n",
      "['web design agency nottingham', 'gb', '37', '80', '8', 'NaN', 'NaN', 'NaN', 'web design nottingham', '2020-04-29 23:10:33', 'Adwords bottom, Sitelinks', '']\n",
      "['digital platform definition', 'gb', '11', '80', '8', 'NaN', 'NaN', 'NaN', 'digital platform definition', '2020-04-16 09:04:48', 'Adwords top, Sitelinks, Featured snippet, Thumbnails, People also ask', '']\n",
      "['digital agency reading', 'gb', '25', '70', '8', 'NaN', 'NaN', 'NaN', 'digital agency reading', '2020-04-17 16:12:08', 'Adwords top, Sitelinks, Adwords bottom', '']\n",
      "['full service marketing agency', 'gb', '8', '70', '8', 'NaN', 'NaN', 'NaN', 'full service agency', '2020-04-20 03:06:45', 'People also ask', '']\n",
      "['digital marketing firm', 'gb', '43', '70', '8', 'NaN', 'NaN', 'NaN', 'marketing agency', '2020-04-24 06:28:24', 'Adwords top, Sitelinks, Top stories, Thumbnails, Adwords bottom', '']\n",
      "['digital advertising agency london', 'gb', '47', '60', '8', 'NaN', 'NaN', 'NaN', 'digital agency', '2020-04-25 09:49:43', 'Featured snippet, Thumbnails', '']\n",
      "['online marketing uk', 'gb', '50', '60', '8', 'NaN', 'NaN', 'NaN', 'digital marketing agency', '2020-04-21 08:17:52', 'NaN', '']\n",
      "['online marketing news', 'gb', '59', '50', '8', 'NaN', 'NaN', 'NaN', 'marketing news', '2020-05-08 16:23:15', 'Sitelinks', '']\n",
      "['social media and digital marketing', 'gb', '61', '40', '8', 'NaN', 'NaN', 'NaN', 'social media marketing', '2020-04-29 04:55:42', 'Featured snippet, People also ask', '']\n",
      "['marketing agency in london', 'gb', '28', '30', '8', 'NaN', 'NaN', 'NaN', 'digital marketing agency', '2020-05-06 13:15:13', 'Adwords top, Sitelinks, Adwords bottom', '']\n",
      "['digital marketing', 'gb', '74', '19000', '7', '11033', '0.57', '1.41', 'digital marketing', '2020-05-09 07:11:09', 'Adwords top, Sitelinks, People also ask, Top stories, Thumbnails, Adwords bottom', '']\n",
      "['hub spot', 'gb', '53', '2600', '7', '1820', '0.71', '1.37', 'hubspot', '2020-05-05 05:59:21', 'Adwords top, Sitelinks, Top stories, Thumbnails, People also ask, Tweet box', '']\n",
      "['performance marketing', 'gb', '7', '1200', '7', '738', '0.63', '1.41', 'performance marketing', '2020-05-09 18:16:37', 'Adwords top, Sitelinks, Featured snippet, Thumbnails, People also ask', '']\n",
      "['internet marketing', 'gb', '70', '1100', '7', '687', '0.63', '1.47', 'internet marketing', '2020-05-08 00:21:40', 'Featured snippet, Thumbnails, People also ask, Sitelinks, Top stories, Adwords bottom', '']\n",
      "['digital marketing news', 'gb', '50', '900', '7', '1203', '1.4', '1.39', 'marketing news', '2020-05-10 03:01:32', 'Sitelinks, Adwords bottom', '']\n",
      "['digital marketing channels', 'gb', '24', '500', '7', '396', '0.74', '1.46', 'digital marketing channels', '2020-05-07 11:49:56', 'Featured snippet, Thumbnails, People also ask, Image pack', '']\n",
      "['social media companies', 'gb', '25', '300', '7', '236', '0.73', '1.12', 'social media marketing agency', '2020-05-03 17:36:49', 'Adwords top, Sitelinks, People also ask, Adwords bottom', '']\n",
      "['website marketing', 'gb', '30', '150', '7', '75', '0.56', '1.13', 'marketing website', '2020-04-29 16:37:11', 'Featured snippet, People also ask', '']\n",
      "['online marketing strategies', 'gb', '56', '150', '7', '109', '0.71', '1.62', 'online marketing', '2020-04-27 14:54:17', 'Featured snippet, Thumbnails, People also ask, Top stories, Image pack', '']\n",
      "['online marketing services', 'gb', '26', '100', '7', 'NaN', 'NaN', 'NaN', 'digital marketing services', '2020-04-26 10:57:52', 'Adwords top, Sitelinks, People also ask, Adwords bottom', '']\n",
      "['digital marketing solutions', 'gb', '39', '100', '7', '64', '0.54', '1.17', 'digital marketing solutions', '2020-04-17 01:45:34', 'Adwords top, Sitelinks, Featured snippet, People also ask, Adwords bottom', '']\n",
      "['digital marketing uk', 'gb', '56', '100', '7', '72', '0.64', '1.14', 'digital marketing agency', '2020-05-05 05:17:18', 'Adwords bottom, Sitelinks', '']\n",
      "['web marketing services', 'gb', '23', '100', '7', 'NaN', 'NaN', 'NaN', 'web marketing services', '2020-04-17 15:02:19', 'Adwords top, Sitelinks, People also ask, Adwords bottom', '']\n",
      "['market online', 'gb', '54', '70', '7', 'NaN', 'NaN', 'NaN', 'market .com', '2020-04-24 23:22:58', 'Adwords top, Sitelinks', '']\n",
      "['performance marketing agency', 'gb', '48', '70', '7', 'NaN', 'NaN', 'NaN', 'digital marketing agency', '2020-05-08 03:10:38', 'Sitelinks', '']\n",
      "['social media marketing companies london', 'gb', '24', '60', '7', 'NaN', 'NaN', 'NaN', 'social media agency', '2020-04-19 08:24:12', 'Adwords top, Sitelinks, Adwords bottom', '']\n",
      "['web design company nottingham', 'gb', '43', '60', '7', 'NaN', 'NaN', 'NaN', 'web design nottingham', '2020-05-05 18:07:19', 'Adwords bottom, Sitelinks', '']\n",
      "['introduction to digital marketing', 'gb', '51', '60', '7', 'NaN', 'NaN', 'NaN', 'google certification', '2020-04-18 10:47:53', 'Featured snippet, Top stories, Thumbnails, Sitelinks, People also ask', '']\n",
      "['online marketing campaign', 'gb', '48', '50', '7', 'NaN', 'NaN', 'NaN', 'marketing campaign', '2020-05-06 05:50:33', 'People also ask', '']\n",
      "['digital marketing news uk', 'gb', '40', '50', '7', 'NaN', 'NaN', 'NaN', 'digital marketing', '2020-04-15 10:44:33', 'Adwords top, Sitelinks', '']\n",
      "['social media companies uk', 'gb', '22', '50', '7', 'NaN', 'NaN', 'NaN', 'social media marketing agency', '2020-04-14 00:03:20', 'Featured snippet', '']\n",
      "['web development nottingham', 'gb', '41', '40', '7', 'NaN', 'NaN', 'NaN', 'web design nottingham', '2020-05-07 10:22:48', 'Sitelinks, Adwords bottom', '']\n",
      "['website marketing company', 'gb', '48', '40', '7', 'NaN', 'NaN', 'NaN', 'online marketing company', '2020-04-24 04:47:03', 'Sitelinks', '']\n",
      "['integrated marketing agency london', 'gb', '36', '40', '7', 'NaN', 'NaN', 'NaN', 'integrated marketing agency london', '2020-04-18 17:07:59', 'NaN', '']\n",
      "['marketing agency london', 'gb', '39', '500', '6', '1103', '2.1', '1.43', 'digital marketing agency', '2020-05-06 11:19:31', 'Sitelinks, Adwords bottom', '']\n",
      "['marketing company', 'gb', '54', '500', '6', '680', '1.3', '1.29', 'marketing company', '2020-05-04 21:22:34', 'People also ask', '']\n",
      "['marketing digital', 'gb', '69', '450', '6', '291', '0.67', '1.23', 'digital marketing', '2020-04-29 06:22:36', 'Adwords top, Sitelinks, Featured snippet, Thumbnails, People also ask, Top stories, Adwords bottom', '']\n",
      "['marketing services', 'gb', '5', '400', '6', '266', '0.67', '1.26', 'marketing services', '2020-05-05 10:51:03', 'People also ask, Sitelinks, Image pack', '']\n",
      "['discuss the market', 'gb', '52', '250', '6', 'NaN', 'NaN', 'NaN', 'discuss the market', '2020-04-25 21:11:47', 'Sitelinks, Top stories, Thumbnails', '']\n",
      "['search marketing', 'gb', '28', '200', '6', '149', '0.69', '1.23', 'search engine marketing', '2020-05-02 19:25:26', 'People also ask', '']\n",
      "['digital agency uk', 'gb', '45', '200', '6', 'NaN', 'NaN', 'NaN', 'digital marketing agency', '2020-04-29 16:12:19', 'Sitelinks', '']\n",
      "['services marketing', 'gb', '9', '200', '6', '167', '0.76', '1.32', 'what is service marketing', '2020-04-29 01:22:22', 'Featured snippet, Thumbnails, People also ask, Sitelinks, Top stories', '']\n",
      "['digital marketing blog', 'gb', '69', '150', '6', '158', '0.98', '1.14', 'digital marketing blog', '2020-04-17 11:46:37', 'Adwords top, Sitelinks', '']\n",
      "['marketing blog', 'gb', '30', '150', '6', '208', '1.35', '1.3', 'marketing blog', '2020-04-26 11:08:57', 'Sitelinks', '']\n",
      "['marketing agency reading', 'gb', '6', '150', '6', 'NaN', 'NaN', 'NaN', 'marketing agency reading', '2020-05-01 22:59:53', 'NaN', '']\n",
      "['digital marketing blogs', 'gb', '64', '150', '6', '178', '1.1', '1.44', 'digital marketing blog', '2020-05-02 11:59:44', 'Sitelinks', '']\n",
      "['top marketing agencies london', 'gb', '10', '150', '6', '162', '0.97', '1.32', 'marketing agency', '2020-05-03 02:45:08', 'People also ask', '']\n",
      "['media-marketing', 'gb', '84', '150', '6', 'NaN', 'NaN', 'NaN', 'social media marketing', '2020-05-04 09:37:45', 'Featured snippet, Thumbnails', '']\n",
      "['london marketing agency', 'gb', '39', '150', '6', 'NaN', 'NaN', 'NaN', 'digital agency', '2020-04-30 19:16:09', 'Sitelinks', '']\n",
      "['online marketing strategy', 'gb', '62', '100', '6', 'NaN', 'NaN', 'NaN', 'strategy internet marketing', '2020-04-18 10:01:05', 'Adwords top, Sitelinks, Featured snippet, People also ask, Top stories, Thumbnails, Image pack', '']\n",
      "['social media marketing uk', 'gb', '9', '100', '6', '142', '1.17', '1.3', 'social media management agency', '2020-05-08 15:19:08', 'Sitelinks', '']\n",
      "['digital marketing industry', 'gb', '57', '90', '6', 'NaN', 'NaN', 'NaN', 'digital marketing', '2020-04-14 07:47:15', 'Adwords top, Sitelinks, People also ask, Adwords bottom', '']\n",
      "['social media marketing cost', 'gb', '23', '90', '6', 'NaN', 'NaN', 'NaN', 'social media manager', '2020-04-22 07:48:01', 'Adwords top, Sitelinks, Featured snippet, Thumbnails, People also ask, Adwords bottom', '']\n",
      "['digital marketing websites', 'gb', '59', '80', '6', 'NaN', 'NaN', 'NaN', 'marketing website', '2020-05-10 14:37:39', 'Featured snippet, Thumbnails, Sitelinks', '']\n",
      "['marketing companies essex', 'gb', '37', '80', '6', 'NaN', 'NaN', 'NaN', 'cjam', '2020-04-15 13:25:31', 'Adwords top, Sitelinks, Adwords bottom', '']\n",
      "['marketing agencies in london', 'gb', '36', '70', '6', 'NaN', 'NaN', 'NaN', 'marketing agency', '2020-04-27 13:07:38', 'People also ask', '']\n",
      "['digital marketing communication', 'gb', '23', '60', '6', 'NaN', 'NaN', 'NaN', 'digital marketing', '2020-05-10 19:43:12', 'Adwords top, Sitelinks, Featured snippet, People also ask', '']\n",
      "['online marketing plan', 'gb', '51', '50', '6', 'NaN', 'NaN', 'NaN', 'online marketing plan', '2020-04-20 11:45:35', 'People also ask, Image pack', '']\n",
      "['whats digital marketing', 'gb', '67', '50', '6', 'NaN', 'NaN', 'NaN', 'digital marketing', '2020-04-15 18:37:51', 'Adwords top, Sitelinks, People also ask, Top stories, Thumbnails', '']\n",
      "['social media marketing companies for small business', 'gb', '41', '40', '6', 'NaN', 'NaN', 'NaN', 'social media marketing agency', '2020-04-14 07:12:20', 'Featured snippet, Sitelinks', '']\n",
      "['website marketing strategy', 'gb', '45', '40', '6', 'NaN', 'NaN', 'NaN', 'marketing website', '2020-04-24 01:13:53', 'Adwords top, Sitelinks, Featured snippet, Thumbnails', '']\n",
      "['marketing company uk', 'gb', '43', '30', '6', 'NaN', 'NaN', 'NaN', 'marketing companies', '2020-05-07 18:52:23', 'Featured snippet, Thumbnails, People also ask', '']\n",
      "['best digital marketing blogs', 'gb', '14', '30', '6', 'NaN', 'NaN', 'NaN', 'digital marketing blog', '2020-04-19 11:30:50', 'NaN', '']\n",
      "['hubspot', 'gb', '67', '63000', '5', '59708', '0.95', '2.34', 'hubspot', '2020-05-09 00:57:01', 'Adwords top, Sitelinks, Top stories, Thumbnails, People also ask, Tweet box, Image pack', '']\n",
      "['digital marketing definition', 'gb', '66', '800', '5', '509', '0.62', '1.28', 'digital marketing', '2020-05-07 00:10:43', 'People also ask, Sitelinks, Top stories, Thumbnails', '']\n",
      "['digital business', 'gb', '33', '400', '5', '198', '0.49', '1.19', 'digital company', '2020-04-26 19:12:35', 'Adwords top, Sitelinks, Featured snippet, Thumbnails, People also ask, Top stories, Adwords bottom', '']\n",
      "['digital marketing specialist', 'gb', '1', '250', '5', '125', '0.53', '1.14', 'digital marketing specialist', '2020-04-17 06:52:02', 'Adwords top, Sitelinks, People also ask, Adwords bottom', '']\n",
      "['marketing companies near me', 'gb', '22', '250', '5', '456', '1.88', '1.49', 'digital marketing agency london', '2020-04-24 22:54:04', 'Adwords top, Sitelinks, Adwords bottom', '']\n",
      "['digital marketing platforms', 'gb', '73', '100', '5', '98', '0.81', '1.17', 'digital marketing platforms', '2020-05-04 01:48:16', 'Featured snippet, Thumbnails, People also ask, Sitelinks', '']\n",
      "['digital marketing essex', 'gb', '48', '70', '5', 'NaN', 'NaN', 'NaN', 'revive digital media', '2020-04-19 06:01:25', 'Sitelinks, Adwords bottom', '']\n",
      "['social media marketing examples', 'gb', '58', '70', '5', 'NaN', 'NaN', 'NaN', 'social media strategy example', '2020-04-17 14:41:42', 'Featured snippet, Thumbnails, People also ask', '']\n",
      "['marketing companys', 'gb', '7', '60', '5', 'NaN', 'NaN', 'NaN', 'marketing agency', '2020-05-09 03:29:09', 'Adwords top, Sitelinks, People also ask, Image pack', '']\n",
      "['how to become a digital marketer', 'gb', '15', '60', '5', 'NaN', 'NaN', 'NaN', 'how to become a digital marketer', '2020-05-09 13:35:38', 'Adwords top, Sitelinks, Featured snippet, Thumbnails, People also ask, Top stories, Adwords bottom', '']\n",
      "['online marketing solutions', 'gb', '2', '40', '5', 'NaN', 'NaN', 'NaN', 'online marketing solutions', '2020-04-15 09:20:52', 'Adwords top, Sitelinks, Adwords bottom', '']\n",
      "['marketing companies', 'gb', '7', '800', '4.5', '777', '0.93', '1.24', 'marketing agency', '2020-05-07 08:37:51', 'People also ask, Image pack', '']\n",
      "['marketing agencies london', 'gb', '21', '400', '4.5', '675', '1.67', '1.72', 'marketing agency', '2020-05-01 20:07:21', 'People also ask', '']\n",
      "['agency online', 'gb', '66', '350', '4.5', 'NaN', 'NaN', 'NaN', 'agency online', '2020-04-15 18:50:27', 'Sitelinks, Adwords bottom', '']\n",
      "['marketing agencies near me', 'gb', '46', '150', '4.5', 'NaN', 'NaN', 'NaN', 'marketing agency', '2020-05-09 21:25:59', 'Adwords top, Sitelinks, Adwords bottom', '']\n",
      "['digital marketing examples', 'gb', '35', '150', '4.5', '141', '0.87', '1.13', 'digital marketing', '2020-04-25 11:17:09', 'Adwords top, Sitelinks, Featured snippet, Thumbnails, People also ask', '']\n",
      "['digital company', 'gb', '46', '100', '4.5', 'NaN', 'NaN', 'NaN', 'top it companies', '2020-05-08 13:31:18', 'Top stories, Thumbnails, People also ask', '']\n",
      "['importance of digital marketing', 'gb', '40', '100', '4.5', '100', '0.86', '1.17', 'role of digital marketing', '2020-04-24 13:52:05', 'Adwords top, Featured snippet, Thumbnails, People also ask', '']\n",
      "['what is e marketing', 'gb', '15', '100', '4.5', 'NaN', 'NaN', 'NaN', 'e marketing', '2020-04-25 09:29:13', 'Adwords top, People also ask, Top stories, Thumbnails', '']\n",
      "['marketing agency uk', 'gb', '48', '100', '4.5', 'NaN', 'NaN', 'NaN', 'digital marketing agency', '2020-04-21 01:01:22', 'Adwords top, Sitelinks, Featured snippet, Thumbnails, Adwords bottom', '']\n",
      "['marketing agencies uk', 'gb', '22', '80', '4.5', 'NaN', 'NaN', 'NaN', 'digital marketing agency', '2020-04-28 00:03:46', 'Featured snippet, Thumbnails', '']\n",
      "['london marketing agencies', 'gb', '31', '70', '4.5', 'NaN', 'NaN', 'NaN', 'marketing agency', '2020-04-25 12:57:16', 'Adwords top, Sitelinks, People also ask, Adwords bottom', '']\n",
      "['online marketing definition', 'gb', '72', '70', '4.5', 'NaN', 'NaN', 'NaN', 'online marketing', '2020-05-02 07:22:00', 'People also ask, Top stories, Thumbnails', '']\n",
      "['elements of internet marketing', 'gb', '1', '60', '4.5', 'NaN', 'NaN', 'NaN', 'elements of internet marketing', '2020-05-04 14:43:40', 'Featured snippet, Thumbnails, People also ask', '']\n",
      "['best online marketing', 'gb', '45', '50', '4.5', 'NaN', 'NaN', 'NaN', 'online marketing', '2020-04-17 09:23:23', 'Featured snippet, Thumbnails, People also ask', '']\n",
      "['internet marketing business', 'gb', '76', '50', '4.5', 'NaN', 'NaN', 'NaN', 'online marketing business', '2020-04-14 21:47:38', 'People also ask, Top stories, Thumbnails, Adwords bottom, Sitelinks', '']\n",
      "['internet marketing service', 'gb', '39', '200', '4', 'NaN', 'NaN', 'NaN', 'digital marketing services', '2020-04-14 02:30:47', 'People also ask, Sitelinks', '']\n",
      "['digital marketing meaning', 'gb', '68', '200', '4', '103', '0.49', '1.13', 'digital marketing', '2020-04-26 03:31:06', 'Sitelinks, People also ask, Top stories, Thumbnails', '']\n",
      "['digital and social media marketing', 'gb', '42', '150', '4', 'NaN', 'NaN', 'NaN', 'types of digital marketing', '2020-04-26 13:14:20', 'Adwords top, Sitelinks, Featured snippet, People also ask, Adwords bottom', '']\n",
      "['advertising agencies near me', 'gb', '32', '150', '4', 'NaN', 'NaN', 'NaN', 'advertising agencies near me', '2020-05-08 16:46:06', 'People also ask', '']\n",
      "['digital media companies', 'gb', '25', '150', '4', '162', '1.23', '1.43', 'american internet and media company', '2020-04-29 08:37:33', 'Featured snippet, People also ask', '']\n",
      "['full service agency', 'gb', '5', '150', '4', 'NaN', 'NaN', 'NaN', 'full service agency', '2020-04-23 15:34:16', 'Adwords top, Sitelinks, People also ask, Adwords bottom', '']\n",
      "['digital marketing roles', 'gb', '12', '100', '4', '63', '0.66', '1.09', 'digital marketing job description', '2020-05-01 03:10:23', 'Featured snippet, Thumbnails, People also ask, Sitelinks', '']\n",
      "['what is online marketing', 'gb', '77', '100', '4', '68', '0.58', '1.04', 'online marketing', '2020-04-25 15:30:19', 'Adwords top, Sitelinks, People also ask, Top stories, Thumbnails', '']\n",
      "['understanding digital marketing', 'gb', '5', '80', '4', 'NaN', 'NaN', 'NaN', 'understanding digital marketing', '2020-04-15 01:38:41', 'Featured snippet, Thumbnails, Top stories', '']\n",
      "['what is digital marketing strategy', 'gb', '33', '80', '4', '56', '0.65', '1.05', 'digital marketing strategy', '2020-04-14 11:23:40', 'Featured snippet, Thumbnails, People also ask, Sitelinks, Top stories, Image pack', '']\n",
      "['marketing companies in london', 'gb', '22', '80', '4', 'NaN', 'NaN', 'NaN', 'marketing agency', '2020-04-23 12:52:34', 'Adwords top, Sitelinks, People also ask, Adwords bottom', '']\n",
      "['top digital agencies uk', 'gb', '5', '70', '4', 'NaN', 'NaN', 'NaN', 'digital agency', '2020-05-06 15:03:12', 'Featured snippet', '']\n",
      "['digital marketing articles', 'gb', '17', '70', '4', 'NaN', 'NaN', 'NaN', 'digital marketing articles', '2020-04-28 02:40:41', 'NaN', '']\n",
      "['media marketing', 'gb', '83', '70', '4', '34', '0.51', '1.27', 'social media marketing', '2020-04-26 12:00:13', 'Adwords top, Sitelinks, People also ask', '']\n",
      "['digital media companies london', 'gb', '27', '60', '4', 'NaN', 'NaN', 'NaN', 'digital agency', '2020-04-16 06:06:42', 'Adwords top, Sitelinks, Adwords bottom', '']\n",
      "['online marketing firm', 'gb', '55', '60', '4', 'NaN', 'NaN', 'NaN', 'marketing agency', '2020-04-18 07:13:57', 'Adwords top, Sitelinks, People also ask, Top stories, Thumbnails, Adwords bottom', '']\n",
      "['digital media products', 'gb', '6', '60', '4', 'NaN', 'NaN', 'NaN', 'digital media products', '2020-05-10 15:26:48', 'Featured snippet, Thumbnails, People also ask', '']\n",
      "['design agency colchester', 'gb', '24', '50', '4', 'NaN', 'NaN', 'NaN', 'design agency colchester', '2020-05-05 10:39:08', 'Image pack', '']\n",
      "['examples of digital marketing', 'gb', '39', '50', '4', 'NaN', 'NaN', 'NaN', 'digital marketing', '2020-04-15 05:37:41', 'Adwords top, Sitelinks, Featured snippet, Thumbnails, People also ask', '']\n",
      "['business market definition', 'gb', '38', '40', '4', 'NaN', 'NaN', 'NaN', 'business market definition', '2020-05-10 00:04:00', 'People also ask, Sitelinks, Top stories, Thumbnails', '']\n",
      "['digital marketing show', 'gb', '53', '20', '4', 'NaN', 'NaN', 'NaN', 'digital marketing conference', '2020-04-28 12:22:18', 'Sitelinks', '']\n",
      "['digital channels', 'gb', '32', '450', '3.5', '261', '0.56', '1.19', 'digital marketing channels', '2020-04-26 20:18:52', 'Featured snippet, People also ask, Image pack, Top stories, Thumbnails', '']\n",
      "['what is a media agency', 'gb', '2', '250', '3.5', '214', '0.93', '1.32', 'media agency', '2020-05-07 10:29:32', 'People also ask, Top stories, Thumbnails', '']\n",
      "['marketing agency essex', 'gb', '47', '100', '3.5', 'NaN', 'NaN', 'NaN', 'revive digital media', '2020-05-05 18:36:36', 'NaN', '']\n",
      "['marketing agency ipswich', 'gb', '30', '80', '3.5', 'NaN', 'NaN', 'NaN', 'crafted', '2020-05-03 06:43:12', 'Sitelinks, Top stories, Thumbnails', '']\n",
      "['marketing agency colchester', 'gb', '22', '70', '3.5', 'NaN', 'NaN', 'NaN', 'marketing agency colchester', '2020-04-19 07:26:06', 'Adwords top, Sitelinks, Adwords bottom', '']\n",
      "['how to do online marketing', 'gb', '68', '60', '3.5', 'NaN', 'NaN', 'NaN', 'online marketing', '2020-04-17 01:06:15', 'Adwords top, Sitelinks, Featured snippet, People also ask, Top stories, Thumbnails', '']\n",
      "['it marketing', 'gb', '4', '60', '3.5', 'NaN', 'NaN', 'NaN', 'it marketing', '2020-04-19 05:05:18', 'Adwords top, Sitelinks, Image pack, Adwords bottom', '']\n",
      "['best marketing agencies london', 'gb', '11', '60', '3.5', 'NaN', 'NaN', 'NaN', 'marketing agency', '2020-04-18 23:55:21', 'Adwords top, Sitelinks, People also ask, Adwords bottom', '']\n",
      "['digital agency essex', 'gb', '55', '40', '3.5', 'NaN', 'NaN', 'NaN', 'marketing agency essex', '2020-05-10 00:47:16', 'Image pack', '']\n",
      "['internet marketing uk', 'gb', '13', '30', '3.5', 'NaN', 'NaN', 'NaN', 'internet marketing agency', '2020-04-24 05:12:40', 'Sitelinks, Adwords bottom', '']\n",
      "['marketing service', 'gb', '46', '30', '3.5', 'NaN', 'NaN', 'NaN', 'services marketing', '2020-05-07 02:15:55', 'Featured snippet, Thumbnails, People also ask, Sitelinks', '']\n",
      "['digital media', 'gb', '24', '3600', '3', '1671', '0.47', '1.24', 'digital media', '2020-05-10 14:14:41', 'Featured snippet, Thumbnails, People also ask, Sitelinks, Top stories', '']\n",
      "['hubsport', 'gb', '63', '250', '3', '158', '0.69', '1.06', 'hubspot', '2020-04-21 05:01:09', 'Sitelinks, Top stories, Thumbnails, People also ask, Tweet box, Image pack', '']\n",
      "['marketing companies london', 'gb', '10', '250', '3', '352', '1.45', '1.59', 'marketing agency', '2020-04-17 03:12:18', 'People also ask', '']\n",
      "['marketing work', 'gb', '23', '100', '3', 'NaN', 'NaN', 'NaN', 'marketing executive', '2020-04-15 22:12:02', 'Featured snippet, Thumbnails, People also ask, Sitelinks, Top stories, Image pack, Adwords bottom', '']\n",
      "['marketing firms london', 'gb', '43', '90', '3', 'NaN', 'NaN', 'NaN', 'marketing agency', '2020-04-27 21:14:11', 'Featured snippet, People also ask', '']\n",
      "['digital marketing colchester', 'gb', '0', '50', '3', 'NaN', 'NaN', 'NaN', 'digital marketing colchester', '2020-04-15 08:27:47', 'Adwords top, Sitelinks, Adwords bottom', '']\n",
      "['digital media advertising', 'gb', '12', '40', '3', 'NaN', 'NaN', 'NaN', 'digital advertising', '2020-04-25 11:19:50', 'Featured snippet, Thumbnails, People also ask', '']\n",
      "['digital marketing what is it', 'gb', '67', '40', '3', 'NaN', 'NaN', 'NaN', 'digital marketing', '2020-04-14 02:00:24', 'People also ask, Sitelinks, Top stories, Thumbnails', '']\n",
      "['network marketing company', 'gb', '30', '30', '3', 'NaN', 'NaN', 'NaN', 'mlm companies', '2020-04-29 18:44:38', 'Adwords top, Sitelinks, People also ask, Top stories, Thumbnails, Adwords bottom', '']\n",
      "['solution marketing nottingham', 'gb', '0', '30', '3', 'NaN', 'NaN', 'NaN', 'solution marketing', '2020-04-19 06:32:27', 'NaN', '']\n",
      "['coast', 'gb', '42', '70000', '2.5', '64715', '0.93', '1.67', 'coast', '2020-05-09 23:55:39', 'Sitelinks', '']\n",
      "['digital', 'gb', '89', '16000', '2.5', '5912', '0.38', '1.19', 'digital', '2020-05-09 02:26:10', 'Sitelinks, People also ask, Top stories, Thumbnails, Image pack', '']\n",
      "['what is digital marketing', 'gb', '74', '3100', '2.5', '2119', '0.69', '1.19', 'digital marketing', '2020-05-08 23:38:10', 'Adwords top, Sitelinks, People also ask, Top stories, Thumbnails', '']\n",
      "['digital content', 'gb', '8', '450', '2.5', '255', '0.54', '1.28', 'digital content', '2020-04-25 07:27:15', 'Featured snippet, Thumbnails, People also ask, Top stories', '']\n",
      "['digital marketing job description', 'gb', '21', '450', '2.5', '405', '0.94', '1.25', 'digital marketing job description', '2020-04-28 12:16:33', 'Featured snippet, Thumbnails, People also ask, Sitelinks', '']\n",
      "['online meaning', 'gb', '29', '200', '2.5', '53', '0.24', '1.07', 'online', '2020-04-25 13:44:02', 'Knowledge card, People also ask, Top stories, Thumbnails', '']\n",
      "['digital promotion', 'gb', '6', '150', '2.5', '109', '0.69', '1.25', 'digital promotion', '2020-05-08 23:54:42', 'Featured snippet, People also ask, Videos', '']\n",
      "['role of digital marketing', 'gb', '39', '150', '2.5', 'NaN', 'NaN', 'NaN', 'role of digital marketing', '2020-04-16 00:32:32', 'Adwords top, Sitelinks, Featured snippet, Thumbnails, People also ask', '']\n",
      "['digital marketing basics', 'gb', '58', '80', '2.5', 'NaN', 'NaN', 'NaN', 'digital marketing basics', '2020-04-20 08:02:35', 'Adwords top, Sitelinks, Featured snippet, Thumbnails, People also ask, Top stories', '']\n",
      "['marketing information', 'gb', '6', '70', '2.5', 'NaN', 'NaN', 'NaN', 'marketing information', '2020-04-24 05:28:59', 'Featured snippet, Thumbnails, People also ask, Sitelinks, Top stories', '']\n",
      "['uses of internet in business', 'gb', '6', '60', '2.5', 'NaN', 'NaN', 'NaN', 'uses of internet in business', '2020-04-16 10:34:32', 'Featured snippet, Thumbnails, People also ask, Image pack', '']\n",
      "['online strategy', 'gb', '68', '60', '2.5', 'NaN', 'NaN', 'NaN', 'strategy internet marketing', '2020-04-26 10:38:20', 'Adwords top, Sitelinks, People also ask, Top stories, Thumbnails', '']\n",
      "['creative agency essex', 'gb', '26', '60', '2.5', 'NaN', 'NaN', 'NaN', 'design agency essex', '2020-05-09 03:06:27', 'Adwords top, Sitelinks, Adwords bottom', '']\n",
      "['marketing channels examples', 'gb', '37', '40', '2.5', 'NaN', 'NaN', 'NaN', 'marketing channels', '2020-04-19 18:19:44', 'Featured snippet, Thumbnails, People also ask, Sitelinks', '']\n",
      "['sales and marketing companies', 'gb', '9', '40', '2.5', 'NaN', 'NaN', 'NaN', 'shs', '2020-04-21 17:33:01', 'Sitelinks, People also ask, Image pack', '']\n",
      "['what is digital media marketing', 'gb', '66', '30', '2.5', 'NaN', 'NaN', 'NaN', 'digital marketing', '2020-04-15 17:48:01', 'Adwords top, Sitelinks, Featured snippet, Thumbnails, Top stories', '']\n",
      "['paid market research nottingham', 'gb', '5', '20', '2.5', 'NaN', 'NaN', 'NaN', 'market research nottingham', 'NaN', 'NaN', '']\n",
      "['key digital', 'gb', '4', '1300', '2', '727', '0.58', '4.14', 'key digital', '2020-05-04 18:01:42', 'Sitelinks, Top stories, Thumbnails', '']\n",
      "['marketing blogs', 'gb', '30', '300', '2', '382', '1.35', '1.2', 'marketing blogs', '2020-04-28 10:39:10', 'Sitelinks', '']\n",
      "['hibspot', 'gb', '67', '300', '2', '265', '0.82', '1.7', 'hubspot', '2020-04-28 19:35:38', 'Adwords top, Sitelinks, Top stories, Thumbnails, People also ask, Tweet box, Image pack', '']\n",
      "['media companies near me', 'gb', '29', '150', '2', '184', '1.24', '1.43', 'social media management', '2020-04-17 08:51:38', 'NaN', '']\n",
      "['coast logo', 'gb', '0', '100', '2', '68', '0.62', '1.13', 'coast logo', '2020-04-30 14:57:31', 'Sitelinks', '']\n",
      "['online campaign', 'gb', '42', '90', '2', '45', '0.5', '1.04', 'online marketing campaign', '2020-04-18 03:33:53', 'People also ask', '']\n",
      "['digital london', 'gb', '36', '90', '2', 'NaN', 'NaN', 'NaN', 'digital london', '2020-04-28 10:50:27', 'Adwords top, Sitelinks', '']\n",
      "['coast near london', 'gb', '2', '80', '2', 'NaN', 'NaN', 'NaN', 'beaches near london', '2020-04-26 03:43:38', 'Featured snippet, Thumbnails, People also ask', '']\n",
      "['internet marketing london', 'gb', '54', '40', '2', 'NaN', 'NaN', 'NaN', 'digital marketing agency', '2020-04-30 15:02:47', 'Featured snippet, Thumbnails, Sitelinks', '']\n",
      "['media and marketing', 'gb', '10', '40', '2', 'NaN', 'NaN', 'NaN', 'media and marketing', '2020-05-08 18:57:52', 'Featured snippet, People also ask', '']\n",
      "['digital marketing agency services', 'gb', 'NaN', '20', '2', 'NaN', 'NaN', 'NaN', 'NaN', 'NaN', 'NaN', '']\n",
      "['digital definition', 'gb', '34', '500', '1.9', '89', '0.18', '1.06', 'digital', '2020-05-09 07:11:07', 'Knowledge card, People also ask, Top stories, Thumbnails', '']\n",
      "['digital companies london', 'gb', '36', '90', '1.9', 'NaN', 'NaN', 'NaN', 'digital marketing agency london', '2020-04-17 17:59:32', 'NaN', '']\n",
      "['how to market a website', 'gb', '53', '70', '1.9', 'NaN', 'NaN', 'NaN', 'how to market a website', '2020-04-20 03:10:05', 'Featured snippet, Thumbnails, People also ask, Top stories, Image pack', '']\n",
      "['marketing a service', 'gb', '25', '30', '1.9', 'NaN', 'NaN', 'NaN', 'services marketing', '2020-04-19 21:20:33', 'Featured snippet, Thumbnails, People also ask, Videos', '']\n",
      "['what is digital advertising', 'gb', '12', '100', '1.8', '99', '1', '1.29', 'what is digital advertising', '2020-05-08 01:19:59', 'People also ask, Sitelinks, Top stories, Thumbnails', '']\n",
      "['market details', 'gb', '41', '60', '1.8', 'NaN', 'NaN', 'NaN', 'android market', '2020-04-17 05:39:47', 'Top stories, Thumbnails', '']\n",
      "['top marketing firms uk', 'gb', '6', '30', '1.8', 'NaN', 'NaN', 'NaN', 'marketing agency', '2020-05-07 01:36:09', 'Featured snippet, Thumbnails, People also ask', '']\n",
      "['marketing concept definition', 'gb', '19', '100', '1.6', 'NaN', 'NaN', 'NaN', 'marketing concept', '2020-04-25 13:00:23', 'Featured snippet, Thumbnails, People also ask, Top stories', '']\n",
      "['types of digital media', 'gb', '24', '90', '1.6', 'NaN', 'NaN', 'NaN', 'digital media', '2020-04-17 02:05:24', 'Featured snippet, Thumbnails, People also ask, Sitelinks, Image pack, Videos', '']\n",
      "['types of online marketing', 'gb', '31', '60', '1.6', 'NaN', 'NaN', 'NaN', 'types of digital marketing', '2020-04-15 06:48:02', 'Adwords top, Sitelinks, Featured snippet, Thumbnails, People also ask', '']\n",
      "['digital marketing methods', 'gb', '67', '60', '1.6', 'NaN', 'NaN', 'NaN', 'digital marketing strategy', '2020-05-07 23:24:30', 'Featured snippet, Thumbnails, People also ask, Image pack', '']\n",
      "['full-service', 'gb', '3', '40', '1.5', 'NaN', 'NaN', 'NaN', 'the full service', '2020-04-20 13:59:29', 'Adwords top, Sitelinks, People also ask', '']\n",
      "['digital technology definition', 'gb', '12', '350', '1.4', '207', '0.57', '1.11', 'digital technology', '2020-04-23 10:34:31', 'Featured snippet, People also ask, Top stories, Thumbnails', '']\n",
      "['essex digital awards', 'gb', '0', '90', '1.4', 'NaN', 'NaN', 'NaN', 'essex digital awards', '2020-04-23 12:35:02', 'Image pack', '']\n",
      "['agency services', 'gb', '1', '70', '1.4', 'NaN', 'NaN', 'NaN', 'agency services', '2020-05-10 18:43:53', 'People also ask', '']\n",
      "['the who .com', 'gb', '77', '150', '1.3', 'NaN', 'NaN', 'NaN', 'the who', '2020-04-19 21:42:36', 'Sitelinks, Top stories, Thumbnails', '']\n",
      "['why digital marketing is important', 'gb', '43', '70', '1.3', 'NaN', 'NaN', 'NaN', 'role of digital marketing', '2020-05-10 12:35:02', 'Featured snippet, Thumbnails, People also ask', '']\n",
      "['marketing concept examples', 'gb', '22', '50', '1.3', 'NaN', 'NaN', 'NaN', 'marketing concepts', '2020-04-15 13:23:14', 'Featured snippet, Thumbnails, People also ask, Top stories, Image pack', '']\n",
      "['interactive media examples', 'gb', '9', '40', '1.3', 'NaN', 'NaN', 'NaN', 'interactive media', '2020-04-19 11:45:53', 'Featured snippet, People also ask, Top stories, Thumbnails, Videos', '']\n",
      "['digital uk', 'gb', '24', '3100', '1.2', '2402', '0.78', '1.32', 'digital uk', '2020-05-09 01:27:37', 'Sitelinks, People also ask', '']\n",
      "['online media', 'gb', '22', '300', '1.2', '92', '0.33', '1.13', 'digital media', '2020-04-26 07:13:11', 'Sitelinks, People also ask, Top stories, Thumbnails', '']\n",
      "['the who com', 'gb', '75', '150', '1.2', 'NaN', 'NaN', 'NaN', 'the who', '2020-04-29 03:17:16', 'Sitelinks, Tweet box, Top stories, Thumbnails', '']\n",
      "['digital blog', 'gb', '47', '90', '1.2', 'NaN', 'NaN', 'NaN', 'digital marketing', '2020-05-01 19:11:57', 'NaN', '']\n",
      "['internet businesses', 'gb', '59', '60', '1.2', 'NaN', 'NaN', 'NaN', 'online business ideas', '2020-05-02 05:59:48', 'Featured snippet, Thumbnails, People also ask, Sitelinks, Top stories, Adwords bottom', '']\n",
      "['best digital market', 'gb', '6', '30', '1.2', 'NaN', 'NaN', 'NaN', 'best digital market', '2020-04-25 07:31:44', 'Top stories, Thumbnails', '']\n",
      "['website meaning', 'gb', '49', '150', '1.1', '18', '0.14', '1.08', 'website - definition', '2020-04-25 14:15:39', 'Knowledge card, People also ask, Sitelinks', '']\n",
      "['digital marketing terms', 'gb', '10', '50', '1.1', 'NaN', 'NaN', 'NaN', 'digital marketing terms', '2020-05-08 00:08:11', 'Featured snippet, Thumbnails', '']\n",
      "['digital online', 'gb', '57', '40', '1.1', 'NaN', 'NaN', 'NaN', 'google digital garage', '2020-04-24 23:51:14', 'People also ask, Sitelinks', '']\n",
      "['online marketing london', 'gb', '41', '100', '1', 'NaN', 'NaN', 'NaN', 'online marketing london', '2020-04-23 10:40:58', 'NaN', '']\n",
      "['digital media sales', 'gb', '0', '30', '1', 'NaN', 'NaN', 'NaN', 'digital media sales', '2020-04-16 05:52:39', 'People also ask', '']\n",
      "['marketing meaning', 'gb', '70', '600', '0.9', '234', '0.37', '1.17', 'marketing', '2020-05-07 09:37:34', 'Knowledge card, People also ask, Sitelinks, Top stories, Thumbnails', '']\n",
      "['head of digital marketing', 'gb', '0', '150', '0.9', '53', '0.39', '1.24', 'head of digital marketing', '2020-04-16 22:07:17', 'NaN', '']\n",
      "['marketing vs advertising', 'gb', '22', '100', '0.9', '67', '0.55', '1.06', 'difference between marketing and advertising', '2020-04-26 13:23:01', 'Featured snippet, Thumbnails, People also ask, Top stories', '']\n",
      "['digtal', 'gb', '80', '70', '0.9', 'NaN', 'NaN', 'NaN', 'digital', '2020-05-07 22:16:24', 'Sitelinks, People also ask, Image pack', '']\n",
      "['digital marketing ipswich', 'gb', '28', '50', '0.9', 'NaN', 'NaN', 'NaN', 'digital marketing ipswich', '2020-05-10 10:01:10', 'Image pack', '']\n",
      "['the who net', 'gb', '44', '30', '0.9', 'NaN', 'NaN', 'NaN', 'the who', '2020-04-19 15:41:18', 'Sitelinks', '']\n",
      "['what is digital media', 'gb', '13', '400', '0.8', '226', '0.54', '1.22', 'digital media', '2020-05-04 08:46:49', 'Sitelinks, People also ask, Top stories, Thumbnails', '']\n",
      "['coast london', 'gb', '7', '200', '0.8', '152', '0.75', '1.13', 'coast', '2020-04-26 13:01:23', 'Sitelinks, People also ask, Image pack', '']\n",
      "['digital uk website', 'gb', '67', '150', '0.8', '150', '1.18', '1.08', 'digital uk', '2020-04-29 17:18:51', 'Sitelinks, People also ask', '']\n",
      "['who is website', 'gb', '95', '150', '0.8', '202', '1.25', '1.12', 'whois', '2020-04-22 17:23:17', 'Sitelinks', '']\n",
      "['coast head office london', 'gb', '5', '60', '0.8', 'NaN', 'NaN', 'NaN', 'coast customer services', '2020-04-15 05:26:58', 'NaN', '']\n",
      "['information marketing', 'gb', '24', '40', '0.7', 'NaN', 'NaN', 'NaN', 'information marketing', '2020-04-19 11:35:27', 'Featured snippet, Thumbnails, People also ask, Top stories', '']\n",
      "['search social media by email', 'gb', '36', '70', '0.6', 'NaN', 'NaN', 'NaN', 'username search', '2020-04-15 22:39:32', 'Adwords top, Featured snippet, Thumbnails, People also ask', '']\n",
      "['social media marketing bristol', 'gb', '0', '60', '0.6', 'NaN', 'NaN', 'NaN', 'social media marketing bristol', '2020-05-09 17:28:24', 'NaN', '']\n",
      "['digital media definition', 'gb', '10', '200', '0.5', '73', '0.34', '1.13', 'digital media', '2020-04-28 06:10:21', 'Sitelinks, People also ask, Videos, Top stories, Thumbnails', '']\n",
      "['passion digital', 'gb', '1', '450', '0.35', '391', '0.83', '1.43', 'digital marketing agency', '2020-05-01 07:33:02', 'Adwords top, Sitelinks, Top stories, Thumbnails', '']\n",
      "['www coast co uk', 'gb', '4', '300', '0.35', 'NaN', 'NaN', 'NaN', 'coast', '2020-04-16 15:46:51', 'Sitelinks', '']\n",
      "['email meaning', 'gb', '29', '200', '0.35', '23', '0.12', '1.14', 'definition of email', '2020-05-02 09:05:41', 'Knowledge card, People also ask, Sitelinks, Top stories, Thumbnails', '']\n",
      "['coasr', 'gb', '42', '150', '0.25', '89', '0.55', '1.1', 'coast', '2020-04-29 23:11:46', 'Sitelinks, People also ask, Top stories, Thumbnails', '']\n",
      "['caost', 'gb', '42', '100', '0.2', '89', '0.75', '1.14', 'coast', '2020-04-20 13:12:03', 'Sitelinks, People also ask, Image pack, Top stories, Thumbnails', '']\n",
      "['coast website', 'gb', '61', '90', '0.2', 'NaN', 'NaN', 'NaN', 'coast', '2020-04-24 21:14:24', 'Sitelinks', '']\n",
      "['ccoast', 'gb', '42', '40', '0.2', 'NaN', 'NaN', 'NaN', 'coast', '2020-04-22 03:22:21', 'Sitelinks, People also ask, Image pack', '']\n",
      "['coast uk', 'gb', '21', '1400', '0.15', '1290', '0.93', '1.6', 'coast', '2020-05-10 07:36:46', 'Sitelinks, Image pack', '']\n",
      "['who is this', 'gb', '94', '1000', '0.15', '487', '0.47', '1.12', 'whois', '2020-05-10 11:17:08', 'Sitelinks, Top stories, Thumbnails', '']\n",
      "['coast online', 'gb', '2', '200', '0.15', '190', '0.86', '1.69', 'coast', '2020-05-01 16:30:44', 'Sitelinks', '']\n",
      "['coadt', 'gb', '43', '150', '0.15', '111', '0.75', '1.07', 'coast', '2020-05-01 03:16:24', 'Sitelinks', '']\n",
      "['www coast com', 'gb', '2', '90', '0.15', 'NaN', 'NaN', 'NaN', 'coast', '2020-04-15 20:15:11', 'Sitelinks', '']\n",
      "['internet channels', 'gb', '56', '50', '0.15', 'NaN', 'NaN', 'NaN', 'best wifi channel', '2020-05-06 13:13:35', 'Featured snippet, Thumbnails, People also ask, Sitelinks, Top stories', '']\n",
      "['www coast', 'gb', '4', '300', '0.1', 'NaN', 'NaN', 'NaN', 'coast', '2020-04-24 04:09:23', 'Sitelinks', '']\n",
      "['marketing essex', 'gb', '26', '90', '0.1', 'NaN', 'NaN', 'NaN', 'marketing essex', '2020-05-06 15:58:34', 'NaN', '']\n",
      "['form digital', 'gb', '0', '70', '0.06', 'NaN', 'NaN', 'NaN', 'form digital', '2020-04-17 02:54:52', 'Sitelinks, Image pack, Top stories, Thumbnails', '']\n",
      "['examples of digital media', 'gb', '9', '60', '0.02', 'NaN', 'NaN', 'NaN', 'digital media examples', '2020-04-27 11:46:15', 'Featured snippet, Thumbnails, People also ask, Top stories', '']\n",
      "['and digital', 'gb', '11', '3100', '0', '3219', '1.03', '1.45', 'and digital', '2020-05-09 12:29:16', 'Sitelinks, Image pack', '']\n",
      "['what is this', 'gb', '39', '1400', '0', '311', '0.22', '1.08', 'what is this', '2020-05-04 14:29:05', 'Sitelinks, People also ask, Top stories, Thumbnails', '']\n",
      "['climb online', 'gb', '3', '1300', '0', '1228', '0.95', '1.2', 'climb online', '2020-05-04 21:52:16', 'Sitelinks, Top stories, Thumbnails', '']\n",
      "['company meaning', 'gb', '55', '1200', '0', '158', '0.13', '1.11', 'مؤسسة', '2020-05-08 16:52:22', 'Knowledge card, People also ask, Sitelinks, Top stories, Thumbnails', '']\n",
      "['digital meaning', 'gb', '29', '800', '0', '230', '0.29', '1.07', 'digital', '2020-05-10 00:31:54', 'Knowledge card, People also ask, Top stories, Thumbnails', '']\n",
      "['which or what', 'gb', '9', '700', '0', '495', '0.68', '1.14', 'which or what', '2020-05-06 06:18:54', 'Featured snippet, People also ask, Top stories, Thumbnails', '']\n",
      "['more definition', 'gb', '22', '600', '0', '79', '0.14', '1.15', 'more', '2020-05-09 16:34:04', 'Knowledge card, Sitelinks, People also ask', '']\n",
      "['coast digital', 'gb', '1', '500', '0', '458', '0.91', '1.66', 'digital marketing agency', '2020-05-07 05:21:09', 'Sitelinks, Image pack', '']\n",
      "['define business', 'gb', '64', '400', '0', '46', '0.11', '1.1', 'business definition', '2020-04-30 23:54:18', 'Knowledge card, People also ask, Sitelinks, Top stories, Thumbnails', '']\n",
      "['market meaning', 'gb', '0', '400', '0', '102', '0.27', '1.17', 'market', '2020-05-02 12:47:26', 'Knowledge card, People also ask, Top stories, Thumbnails', '']\n",
      "['define more', 'gb', '85', '350', '0', '25', '0.07', '1.39', 'more', '2020-05-07 08:19:44', 'Knowledge card, Sitelinks, People also ask', '']\n",
      "['on digital', 'gb', '62', '300', '0', '229', '0.71', '1.09', 'itv digital', '2020-04-21 02:44:49', 'Sitelinks, People also ask, Top stories, Thumbnails, Image pack', '']\n",
      "['define numerous', 'gb', '21', '300', '0', '17', '0.06', '1.16', 'numerous', '2020-05-01 19:04:37', 'Knowledge card, People also ask, Top stories, Thumbnails', '']\n",
      "['what is digital', 'gb', '30', '300', '0', '310', '1', '1.23', 'digital', '2020-04-30 23:40:03', 'People also ask, Sitelinks, Top stories, Thumbnails', '']\n",
      "['what does digital mean', 'gb', '22', '250', '0', '120', '0.52', '1.23', 'digital', '2020-05-06 03:27:25', 'Knowledge card, People also ask, Top stories, Thumbnails, Image pack', '']\n",
      "['define digital', 'gb', '42', '250', '0', '84', '0.33', '1.24', 'digital', '2020-04-28 12:56:47', 'Knowledge card, People also ask, Top stories, Thumbnails', '']\n",
      "['digital campaign', 'gb', '41', '200', '0', '134', '0.76', '1.2', 'digital campaign', '2020-04-22 16:30:04', 'People also ask, Image pack', '']\n",
      "['can definition', 'gb', '19', '200', '0', '28', '0.14', '1.09', 'can', '2020-05-01 08:25:22', 'Knowledge card, Sitelinks, People also ask', '']\n",
      "['world of digital', 'gb', '33', '200', '0', 'NaN', 'NaN', 'NaN', 'world of digital', '2020-05-05 14:28:57', 'Sitelinks, Top stories, Thumbnails', '']\n",
      "['digital space', 'gb', '4', '150', '0', '75', '0.5', '1.24', 'digital space', '2020-04-27 12:07:54', 'Sitelinks, People also ask, Image pack', '']\n",
      "['digital media examples', 'gb', '17', '150', '0', '123', '0.86', '1.06', 'digital media examples', '2020-04-21 18:52:26', 'Featured snippet, Thumbnails, People also ask', '']\n",
      "['define all', 'gb', '23', '150', '0', '26', '0.16', '1.26', 'all', '2020-04-28 09:46:15', 'Knowledge card, Sitelinks, People also ask, Top stories, Thumbnails', '']\n",
      "['whats more', 'gb', '0', '150', '0', '41', '0.28', '1.1', \"what's more\", '2020-04-26 16:57:16', 'Knowledge card, People also ask, Top stories, Thumbnails', '']\n",
      "['post meaning after', 'gb', '37', '150', '0', '34', '0.21', '1.2', 'post', '2020-05-01 14:52:01', 'Featured snippet, People also ask, Videos', '']\n",
      "[\"what's the time today\", 'gb', '68', '150', '0', 'NaN', 'NaN', 'NaN', 'time', '2020-04-19 05:39:57', 'Knowledge card, Sitelinks, People also ask', '']\n",
      "['online post', 'gb', '77', '150', '0', '138', '0.94', '2.35', 'click and drop', '2020-04-17 00:38:55', 'Sitelinks', '']\n",
      "['full fat pr', 'gb', '0', '150', '0', '184', '1.17', '1.3', 'full fat', '2020-04-30 15:45:29', 'Sitelinks, Top stories, Thumbnails, Videos', '']\n",
      "['garish definition', 'gb', '9', '150', '0', '28', '0.17', '1.1', 'garish', '2020-05-04 01:27:31', 'Knowledge card, People also ask, Videos', '']\n",
      "['info meaning', 'gb', '4', '150', '0', '54', '0.32', '1.11', 'info meaning', '2020-04-28 02:17:15', 'Knowledge card, People also ask, Videos', '']\n",
      "['why digital marketing', 'gb', '63', '150', '0', '102', '0.68', '1.05', 'digital marketing', '2020-05-01 08:08:36', 'Featured snippet, Thumbnails, People also ask, Sitelinks, Top stories', '']\n",
      "['methods digital', 'gb', '0', '150', '0', '166', '1.12', '1.5', 'methods', '2020-04-25 00:22:36', 'Sitelinks', '']\n",
      "['whowhatwhy', 'gb', '17', '150', '0', 'NaN', 'NaN', 'NaN', 'whowhatwhy', '2020-04-25 19:07:23', 'Sitelinks, Tweet box, Top stories, Thumbnails, Image pack, Videos', '']\n",
      "['definition of digital marketing', 'gb', '66', '100', '0', '102', '0.97', '1.35', 'digital marketing', '2020-04-21 08:06:04', 'Sitelinks, People also ask, Top stories, Thumbnails', '']\n",
      "['define digital marketing', 'gb', '64', '100', '0', '65', '0.58', '1.22', 'digital marketing', '2020-04-26 19:21:19', 'Adwords top, People also ask, Sitelinks, Top stories, Thumbnails', '']\n",
      "['what does comprise mean', 'gb', '14', '100', '0', '7', '0.06', '1.1', 'comprise', '2020-04-23 01:17:28', 'Knowledge card, People also ask, Top stories, Thumbnails', '']\n",
      "['hubspot marketing blog', 'gb', '79', '100', '0', 'NaN', 'NaN', 'NaN', 'marketing blog', '2020-04-17 04:19:42', 'Sitelinks, Image pack', '']\n",
      "['why work in digital marketing', 'gb', '0', '100', '0', '157', '1.5', '1.67', 'why work in digital marketing', '2020-04-28 15:00:24', 'Featured snippet, Thumbnails, People also ask', '']\n",
      "['definition of a business', 'gb', '65', '100', '0', 'NaN', 'NaN', 'NaN', 'business definition', '2020-05-05 22:14:51', 'Knowledge card, People also ask, Sitelinks, Videos', '']\n",
      "['definition of digital', 'gb', '34', '100', '0', 'NaN', 'NaN', 'NaN', 'digital', '2020-04-19 23:09:45', 'Knowledge card, People also ask', '']\n",
      "['define online', 'gb', '23', '100', '0', '12', '0.13', '1.1', 'online', '2020-04-20 23:59:40', 'Knowledge card, People also ask, Top stories, Thumbnails', '']\n",
      "['what does according mean', 'gb', '5', '100', '0', '22', '0.19', '1.13', 'according', '2020-04-25 04:31:14', 'Knowledge card, People also ask, Videos', '']\n",
      "['define including', 'gb', '22', '100', '0', '18', '0.15', '1.17', 'including', '2020-04-25 20:36:21', 'Knowledge card, People also ask, Sitelinks', '']\n",
      "['define an english person', 'gb', '2', '100', '0', 'NaN', 'NaN', 'NaN', 'define an english person', '2020-05-05 01:37:11', 'NaN', '']\n",
      "['marketing media', 'gb', '84', '90', '0', 'NaN', 'NaN', 'NaN', 'the drum', '2020-05-08 11:58:48', 'Featured snippet, People also ask, Top stories, Thumbnails', '']\n",
      "['define encompasses', 'gb', '9', '90', '0', '9', '0.1', '1.15', 'encompass', '2020-04-26 10:25:26', 'Knowledge card, People also ask', '']\n",
      "['what is flr', 'gb', '21', '90', '0', '42', '0.48', '1.1', 'for', '2020-05-10 19:53:24', 'Featured snippet, People also ask, Top stories, Thumbnails', '']\n",
      "['get on with it meaning', 'gb', '0', '90', '0', 'NaN', 'NaN', 'NaN', 'get on with it', '2020-05-07 12:38:23', 'Featured snippet, People also ask, Videos', '']\n",
      "['marketing sector', 'gb', '10', '90', '0', 'NaN', 'NaN', 'NaN', 'marketing industry', '2020-04-19 22:18:14', 'Featured snippet, Thumbnails, People also ask, Sitelinks, Image pack', '']\n",
      "['what does comprised mean', 'gb', '22', '90', '0', 'NaN', 'NaN', 'NaN', 'comprised', '2020-04-21 05:24:47', 'Knowledge card, People also ask', '']\n",
      "['is website up', 'gb', '92', '90', '0', 'NaN', 'NaN', 'NaN', 'is it down', '2020-04-23 17:09:16', 'Sitelinks, People also ask', '']\n",
      "['define digital media', 'gb', '13', '90', '0', 'NaN', 'NaN', 'NaN', 'digital media', '2020-05-03 03:27:41', 'Sitelinks, People also ask, Top stories, Thumbnails', '']\n",
      "['make it up to you meaning', 'gb', '0', '90', '0', '22', '0.24', '1.21', 'make it up to you', '2020-05-07 08:29:24', 'Featured snippet, People also ask, Videos', '']\n",
      "['online definition', 'gb', '16', '80', '0', '11', '0.14', '1.11', 'online', '2020-04-30 12:33:37', 'Knowledge card, People also ask, Sitelinks', '']\n",
      "['market trends definition', 'gb', '6', '80', '0', 'NaN', 'NaN', 'NaN', 'bull market', '2020-04-19 23:45:51', 'Sitelinks, People also ask, Top stories, Thumbnails', '']\n",
      "['what is digital content', 'gb', '5', '80', '0', 'NaN', 'NaN', 'NaN', 'what is digital content', '2020-05-07 14:49:11', 'People also ask, Sitelinks, Top stories, Thumbnails', '']\n",
      "['digital does', 'gb', '23', '80', '0', 'NaN', 'NaN', 'NaN', 'does', '2020-05-10 07:47:48', 'Sitelinks, Image pack', '']\n",
      "['business to business definition', 'gb', '51', '70', '0', 'NaN', 'NaN', 'NaN', 'b2b', '2020-04-21 04:22:37', 'People also ask, Top stories, Thumbnails', '']\n",
      "['what is the marketing concept', 'gb', '24', '70', '0', 'NaN', 'NaN', 'NaN', 'marketing concept', '2020-04-18 13:10:15', 'Featured snippet, Thumbnails, People also ask, Top stories, Image pack', '']\n",
      "['digitsl', 'gb', '89', '70', '0', 'NaN', 'NaN', 'NaN', 'digital', '2020-04-20 20:16:50', 'Sitelinks, People also ask, Top stories, Thumbnails, Image pack', '']\n",
      "['digital media services uk ltd', 'gb', '0', '70', '0', '65', '0.89', '1.12', 'dms', '2020-04-15 00:08:40', 'Adwords top, Sitelinks', '']\n",
      "['digital devices online', 'gb', '1', '70', '0', 'NaN', 'NaN', 'NaN', 'digital devices', '2020-04-24 17:46:48', 'Sitelinks, Top stories, Thumbnails', '']\n",
      "['define digital technology', 'gb', '12', '70', '0', 'NaN', 'NaN', 'NaN', 'digital technology', '2020-04-14 21:02:17', 'Featured snippet, People also ask', '']\n",
      "['online services definition', 'gb', '1', '70', '0', 'NaN', 'NaN', 'NaN', 'what is online services', '2020-05-09 06:29:57', 'People also ask', '']\n",
      "['digital media meaning', 'gb', '13', '70', '0', 'NaN', 'NaN', 'NaN', 'digital media', '2020-04-23 12:01:32', 'Sitelinks, People also ask, Top stories, Thumbnails', '']\n",
      "['description of a market', 'gb', '1', '60', '0', 'NaN', 'NaN', 'NaN', 'description of a market', '2020-04-17 21:16:47', 'Featured snippet, People also ask, Image pack', '']\n",
      "['internet marketing bristol', 'gb', '53', '60', '0', 'NaN', 'NaN', 'NaN', 'digirank', '2020-05-04 04:12:27', 'Sitelinks', '']\n",
      "['what does entails mean', 'gb', '11', '60', '0', 'NaN', 'NaN', 'NaN', 'entail', '2020-04-17 23:44:24', 'Knowledge card, People also ask', '']\n",
      "['new digital media', 'gb', '37', '60', '0', 'NaN', 'NaN', 'NaN', 'new media', '2020-05-10 11:50:02', 'Sitelinks, People also ask', '']\n",
      "['digital media industry', 'gb', '16', '60', '0', 'NaN', 'NaN', 'NaN', 'digital media', '2020-04-29 01:44:40', 'Sitelinks, People also ask, Top stories, Thumbnails', '']\n",
      "['lucy online free', 'gb', '2', '60', '0', 'NaN', 'NaN', 'NaN', 'watch lucy online free', '2020-04-17 19:02:30', 'Knowledge card, Top stories, Thumbnails, Adwords bottom, Sitelinks', '']\n",
      "['digital results', 'gb', '12', '60', '0', 'NaN', 'NaN', 'NaN', 'forge agency', '2020-04-25 05:14:29', 'Top stories, Thumbnails, Image pack', '']\n",
      "['online marketing blog', 'gb', '82', '60', '0', 'NaN', 'NaN', 'NaN', 'digital marketing blogs', '2020-04-26 22:47:18', 'Adwords top, Sitelinks', '']\n",
      "['what is &', 'gb', '36', '60', '0', 'NaN', 'NaN', 'NaN', 'ampersand', '2020-05-03 19:59:15', 'Sitelinks, People also ask, Top stories, Thumbnails', '']\n",
      "['work digital', 'gb', '3', '60', '0', 'NaN', 'NaN', 'NaN', 'work digital', '2020-04-19 08:34:05', 'Top stories, Thumbnails, Image pack', '']\n",
      "['areas of marketing', 'gb', '17', '60', '0', 'NaN', 'NaN', 'NaN', 'areas of marketing', '2020-05-06 04:55:48', 'Featured snippet, People also ask, Sitelinks, Image pack', '']\n",
      "['digital marketing images', 'gb', '4', '60', '0', 'NaN', 'NaN', 'NaN', 'digital marketing images', '2020-05-07 10:04:31', 'Image pack, Sitelinks', '']\n",
      "['internet marketing seo', 'gb', '81', '60', '0', 'NaN', 'NaN', 'NaN', 'internet marketing seo', '2020-05-07 06:25:11', 'Featured snippet, Thumbnails, People also ask, Sitelinks', '']\n",
      "['online web marketing', 'gb', '49', '60', '0', 'NaN', 'NaN', 'NaN', 'online web marketing', '2020-04-20 09:40:08', 'Adwords top, Sitelinks, People also ask, Adwords bottom', '']\n",
      "['digital sales', 'gb', '0', '60', '0', '20', '0.37', '1.12', 'digital sales', '2020-05-07 11:16:51', 'Featured snippet, People also ask, Top stories, Thumbnails, Image pack', '']\n",
      "['what is the who', 'gb', '50', '60', '0', 'NaN', 'NaN', 'NaN', 'who is who', '2020-04-20 18:25:37', 'Sitelinks, Tweet box', '']\n",
      "['marketing business definition', 'gb', '70', '50', '0', 'NaN', 'NaN', 'NaN', 'what is marketing', '2020-04-29 12:43:17', 'Featured snippet, Thumbnails, People also ask, Videos, Image pack', '']\n",
      "['digitally meaning', 'gb', '12', '50', '0', 'NaN', 'NaN', 'NaN', 'digitally', '2020-04-17 20:58:27', 'Knowledge card, People also ask, Videos, Top stories, Thumbnails', '']\n",
      "['digital media manager', 'gb', '2', '50', '0', 'NaN', 'NaN', 'NaN', 'digital media manager', '2020-05-07 06:31:08', 'People also ask', '']\n",
      "['define used to', 'gb', '3', '50', '0', 'NaN', 'NaN', 'NaN', 'used to definition', '2020-04-30 00:40:39', 'Knowledge card, People also ask', '']\n",
      "['meaning of digital', 'gb', '30', '50', '0', 'NaN', 'NaN', 'NaN', 'digital', '2020-04-24 07:03:51', 'Knowledge card, People also ask, Top stories, Thumbnails', '']\n",
      "['what is a media company', 'gb', '12', '50', '0', 'NaN', 'NaN', 'NaN', 'media company', '2020-05-09 09:08:00', 'Featured snippet, Thumbnails, People also ask, Top stories', '']\n",
      "['what is a com', 'gb', '68', '50', '0', 'NaN', 'NaN', 'NaN', 'microsoft.com', '2020-05-03 00:50:51', 'Sitelinks, People also ask', '']\n",
      "['which and what', 'gb', '9', '50', '0', 'NaN', 'NaN', 'NaN', 'which or what', '2020-04-26 16:12:27', 'Featured snippet, People also ask, Top stories, Thumbnails', '']\n",
      "[\"who's online\", 'gb', '1', '50', '0', 'NaN', 'NaN', 'NaN', \"who's online\", '2020-04-19 23:46:11', 'Featured snippet, Top stories, Thumbnails', '']\n",
      "['didgital', 'gb', '79', '50', '0', 'NaN', 'NaN', 'NaN', 'digital spy', '2020-04-19 08:00:34', 'Sitelinks, People also ask, Image pack', '']\n",
      "['definition of digital media', 'gb', '13', '50', '0', 'NaN', 'NaN', 'NaN', 'digital media', '2020-05-01 09:26:01', 'Sitelinks, People also ask, Top stories, Thumbnails, Videos', '']\n",
      "['internet description', 'gb', '51', '50', '0', 'NaN', 'NaN', 'NaN', 'internet', '2020-05-10 17:19:42', 'Featured snippet, People also ask, Sitelinks, Videos', '']\n",
      "['clim online', 'gb', '24', '40', '0', 'NaN', 'NaN', 'NaN', 'climb online', '2020-04-28 13:06:51', 'Adwords top, Sitelinks', '']\n",
      "['blog internet marketing', 'gb', '83', '40', '0', 'NaN', 'NaN', 'NaN', 'internet marketing blog', '2020-04-29 05:25:21', 'NaN', '']\n",
      "['market description', 'gb', '17', '40', '0', 'NaN', 'NaN', 'NaN', 'description of a market', '2020-04-26 04:39:23', 'Featured snippet, Thumbnails, People also ask, Top stories', '']\n",
      "['digitial', 'gb', '79', '40', '0', 'NaN', 'NaN', 'NaN', 'digital', '2020-04-26 12:06:18', 'Sitelinks, People also ask, Top stories, Thumbnails', '']\n",
      "['now digital', 'gb', '5', '40', '0', 'NaN', 'NaN', 'NaN', 'now digital', '2020-04-24 07:03:43', 'Top stories, Thumbnails', '']\n",
      "['digital 1', 'gb', '26', '40', '0', 'NaN', 'NaN', 'NaN', 'digital 1', '2020-04-21 18:13:04', 'Sitelinks, Top stories, Thumbnails, Image pack', '']\n",
      "['how of', 'gb', '48', '40', '0', 'NaN', 'NaN', 'NaN', 'how of', '2020-05-08 17:04:27', 'People also ask', '']\n",
      "['biddable media definition', 'gb', '0', '40', '0', 'NaN', 'NaN', 'NaN', 'biddable media', '2020-04-25 15:38:07', 'Featured snippet, Thumbnails', '']\n",
      "['what will be will be meaning', 'gb', '0', '40', '0', 'NaN', 'NaN', 'NaN', 'what will be will be', '2020-05-07 13:04:17', 'Featured snippet, People also ask, Image pack, Videos', '']\n",
      "['digital means', 'gb', '23', '40', '0', 'NaN', 'NaN', 'NaN', 'digital', '2020-05-08 05:32:48', 'Knowledge card, People also ask, Top stories, Thumbnails', '']\n",
      "['direct and digital marketing', 'gb', '1', '40', '0', 'NaN', 'NaN', 'NaN', 'direct and digital marketing', '2020-04-23 10:55:58', 'Adwords top, Sitelinks, Featured snippet, People also ask, Top stories, Thumbnails', '']\n",
      "['the digital', 'gb', '86', '40', '0', 'NaN', 'NaN', 'NaN', 'the digital picture', '2020-04-28 09:01:55', 'Sitelinks, Top stories, Thumbnails, Image pack', '']\n",
      "['market sector definition', 'gb', '11', '40', '0', 'NaN', 'NaN', 'NaN', 'market sector definition', '2020-05-09 03:12:46', 'People also ask', '']\n",
      "['digital space definition', 'gb', '8', '40', '0', 'NaN', 'NaN', 'NaN', 'digital space definition', '2020-04-22 05:03:43', 'Featured snippet, People also ask', '']\n",
      "['full personal service', 'gb', '0', '40', '0', 'NaN', 'NaN', 'NaN', 'full personal service', '2020-05-10 02:07:25', 'People also ask, Top stories, Thumbnails', '']\n",
      "['digial', 'gb', '78', '40', '0', 'NaN', 'NaN', 'NaN', 'digital', '2020-04-20 13:03:16', 'Sitelinks, People also ask, Top stories, Thumbnails, Image pack', '']\n",
      "['the help agency', 'gb', '1', '40', '0', 'NaN', 'NaN', 'NaN', 'the help agency', '2020-05-08 15:25:51', 'Sitelinks', '']\n",
      "['coast agency', 'gb', '2', '40', '0', 'NaN', 'NaN', 'NaN', 'marketing agency poole', '2020-04-26 04:51:56', 'Sitelinks, Image pack, Videos', '']\n",
      "['new media marketing', 'gb', '72', '40', '0', 'NaN', 'NaN', 'NaN', 'media-marketing', '2020-05-03 19:41:57', 'People also ask', '']\n",
      "['be website', 'gb', '47', '40', '0', 'NaN', 'NaN', 'NaN', 'british eventing', '2020-04-25 02:23:23', 'Sitelinks, Image pack', '']\n",
      "['digitla', 'gb', '69', '40', '0', 'NaN', 'NaN', 'NaN', 'digital spy', '2020-04-20 08:13:41', 'Sitelinks, People also ask, Image pack', '']\n",
      "['constitutes define', 'gb', '9', '30', '0', 'NaN', 'NaN', 'NaN', 'constitute', '2020-04-15 00:35:46', 'Knowledge card, People also ask', '']\n",
      "['uk agency services', 'gb', '56', '30', '0', 'NaN', 'NaN', 'NaN', 'uk agency', '2020-05-08 20:06:59', 'NaN', '']\n",
      "['define consist', 'gb', '18', '30', '0', '3', '0.12', '1.17', 'consists', '2020-04-30 00:27:20', 'Knowledge card, People also ask', '']\n",
      "['worldofdigital', 'gb', '31', '30', '0', 'NaN', 'NaN', 'NaN', 'digital world', '2020-05-09 05:25:30', 'Top stories, Thumbnails, Image pack', '']\n",
      "['digtial', 'gb', '70', '30', '0', 'NaN', 'NaN', 'NaN', 'digital', '2020-05-04 09:55:26', 'Sitelinks, People also ask', '']\n",
      "['market business definition', 'gb', '58', '30', '0', 'NaN', 'NaN', 'NaN', 'market', '2020-05-06 23:52:43', 'Featured snippet, People also ask, Videos', '']\n",
      "['essex digital media', 'gb', '43', '30', '0', 'NaN', 'NaN', 'NaN', 'digital media blog', '2020-04-19 00:19:04', 'Sitelinks, Image pack', '']\n",
      "['what digital', 'gb', '68', '30', '0', 'NaN', 'NaN', 'NaN', 'what digital', '2020-05-09 16:50:09', 'Sitelinks, People also ask, Top stories, Thumbnails', '']\n",
      "['why digital media', 'gb', '53', '30', '0', 'NaN', 'NaN', 'NaN', 'digital media', '2020-05-08 19:03:13', 'Sitelinks, People also ask, Top stories, Thumbnails', '']\n",
      "['new digital business', 'gb', '31', '30', '0', 'NaN', 'NaN', 'NaN', 'new digital business', '2020-04-26 03:03:12', 'Adwords top, Sitelinks, People also ask, Top stories, Thumbnails, Videos, Image pack', '']\n",
      "['digital marketing resources', 'gb', '24', '30', '0', 'NaN', 'NaN', 'NaN', 'digital marketing resources', '2020-04-15 14:43:31', 'Adwords top, Sitelinks, Featured snippet, Thumbnails, Adwords bottom', '']\n",
      "['absolute pr and marketing', 'gb', '0', '30', '0', 'NaN', 'NaN', 'NaN', 'absolute pr', '2020-04-29 08:32:43', 'Sitelinks, Image pack', '']\n",
      "['define the media', 'gb', '45', '30', '0', 'NaN', 'NaN', 'NaN', 'media', '2020-05-06 06:11:10', 'Knowledge card, People also ask, Sitelinks', '']\n",
      "['service marketing strategy', 'gb', '14', '20', '0', 'NaN', 'NaN', 'NaN', 'service marketing strategy', '2020-04-26 10:03:44', 'Adwords top, Sitelinks, Featured snippet, Thumbnails, People also ask, Top stories', '']\n",
      "['', '', '', '', '', '', '', '', '', '', '', '']\n",
      "['', '', '', '', '', '', '', '', '', '', '', '']\n",
      "['', '', '', '', '', '', '', '', '', '', '', '']\n",
      "['', '', '', '', '', '', '', '', '', '', '', '']\n",
      "['', '', '', '', '', '', '', '', '', '', '', '']\n",
      "['', '', '', '', '', '', '', '', '', '', '', '']\n",
      "['', '', '', '', '', '', '', '', '', '', '', '']\n",
      "['', '', '', '', '', '', '', '', '', '', '', '']\n",
      "['', '', '', '', '', '', '', '', '', '', '', '']\n",
      "['', '', '', '', '', '', '', '', '', '', '', '']\n",
      "['', '', '', '', '', '', '', '', '', '', '', '']\n",
      "['', '', '', '', '', '', '', '', '', '', '', '']\n",
      "['', '', '', '', '', '', '', '', '', '', '', '']\n",
      "['', '', '', '', '', '', '', '', '', '', '', '']\n",
      "['', '', '', '', '', '', '', '', '', '', '', '']\n",
      "['', '', '', '', '', '', '', '', '', '', '', '']\n",
      "['', '', '', '', '', '', '', '', '', '', '', '']\n",
      "['', '', '', '', '', '', '', '', '', '', '', '']\n",
      "['', '', '', '', '', '', '', '', '', '', '', '']\n",
      "['', '', '', '', '', '', '', '', '', '', '', '']\n",
      "['', '', '', '', '', '', '', '', '', '', '', '']\n",
      "['', '', '', '', '', '', '', '', '', '', '', '']\n",
      "['', '', '', '', '', '', '', '', '', '', '', '']\n",
      "['', '', '', '', '', '', '', '', '', '', '', '']\n",
      "['', '', '', '', '', '', '', '', '', '', '', '']\n",
      "['', '', '', '', '', '', '', '', '', '', '', '']\n",
      "['', '', '', '', '', '', '', '', '', '', '', '']\n",
      "['', '', '', '', '', '', '', '', '', '', '', '']\n",
      "['', '', '', '', '', '', '', '', '', '', '', '']\n",
      "['', '', '', '', '', '', '', '', '', '', '', '']\n",
      "['', '', '', '', '', '', '', '', '', '', '', '']\n",
      "['', '', '', '', '', '', '', '', '', '', '', '']\n",
      "['', '', '', '', '', '', '', '', '', '', '', '']\n",
      "['', '', '', '', '', '', '', '', '', '', '', '']\n",
      "['', '', '', '', '', '', '', '', '', '', '', '']\n",
      "['', '', '', '', '', '', '', '', '', '', '', '']\n",
      "['', '', '', '', '', '', '', '', '', '', '', '']\n",
      "['', '', '', '', '', '', '', '', '', '', '', '']\n",
      "['', '', '', '', '', '', '', '', '', '', '', '']\n",
      "['', '', '', '', '', '', '', '', '', '', '', '']\n",
      "['', '', '', '', '', '', '', '', '', '', '', '']\n",
      "['', '', '', '', '', '', '', '', '', '', '', '']\n",
      "['', '', '', '', '', '', '', '', '', '', '', '']\n",
      "['', '', '', '', '', '', '', '', '', '', '', '']\n",
      "['', '', '', '', '', '', '', '', '', '', '', '']\n",
      "['', '', '', '', '', '', '', '', '', '', '', '']\n",
      "['', '', '', '', '', '', '', '', '', '', '', '']\n",
      "['', '', '', '', '', '', '', '', '', '', '', '']\n",
      "['', '', '', '', '', '', '', '', '', '', '', '']\n",
      "['', '', '', '', '', '', '', '', '', '', '', '']\n",
      "['', '', '', '', '', '', '', '', '', '', '', '']\n",
      "['', '', '', '', '', '', '', '', '', '', '', '']\n",
      "['', '', '', '', '', '', '', '', '', '', '', '']\n",
      "['', '', '', '', '', '', '', '', '', '', '', '']\n",
      "['', '', '', '', '', '', '', '', '', '', '', '']\n",
      "['', '', '', '', '', '', '', '', '', '', '', '']\n",
      "['', '', '', '', '', '', '', '', '', '', '', '']\n",
      "['', '', '', '', '', '', '', '', '', '', '', '']\n",
      "['', '', '', '', '', '', '', '', '', '', '', '']\n",
      "['', '', '', '', '', '', '', '', '', '', '', '']\n",
      "['', '', '', '', '', '', '', '', '', '', '', '']\n",
      "['', '', '', '', '', '', '', '', '', '', '', '']\n",
      "['', '', '', '', '', '', '', '', '', '', '', '']\n",
      "['', '', '', '', '', '', '', '', '', '', '', '']\n",
      "['', '', '', '', '', '', '', '', '', '', '', '']\n",
      "['', '', '', '', '', '', '', '', '', '', '', '']\n",
      "['', '', '', '', '', '', '', '', '', '', '', '']\n",
      "['', '', '', '', '', '', '', '', '', '', '', '']\n",
      "['', '', '', '', '', '', '', '', '', '', '', '']\n",
      "['', '', '', '', '', '', '', '', '', '', '', '']\n",
      "['', '', '', '', '', '', '', '', '', '', '', '']\n",
      "['', '', '', '', '', '', '', '', '', '', '', '']\n",
      "['', '', '', '', '', '', '', '', '', '', '', '']\n",
      "['', '', '', '', '', '', '', '', '', '', '', '']\n",
      "['', '', '', '', '', '', '', '', '', '', '', '']\n",
      "['', '', '', '', '', '', '', '', '', '', '', '']\n",
      "['', '', '', '', '', '', '', '', '', '', '', '']\n",
      "['', '', '', '', '', '', '', '', '', '', '', '']\n",
      "['', '', '', '', '', '', '', '', '', '', '', '']\n",
      "['', '', '', '', '', '', '', '', '', '', '', '']\n",
      "['', '', '', '', '', '', '', '', '', '', '', '']\n",
      "['', '', '', '', '', '', '', '', '', '', '', '']\n",
      "['', '', '', '', '', '', '', '', '', '', '', '']\n",
      "['', '', '', '', '', '', '', '', '', '', '', '']\n",
      "['', '', '', '', '', '', '', '', '', '', '', '']\n",
      "['', '', '', '', '', '', '', '', '', '', '', '']\n",
      "['', '', '', '', '', '', '', '', '', '', '', '']\n",
      "['', '', '', '', '', '', '', '', '', '', '', '']\n",
      "['', '', '', '', '', '', '', '', '', '', '', '']\n",
      "['', '', '', '', '', '', '', '', '', '', '', '']\n",
      "['', '', '', '', '', '', '', '', '', '', '', '']\n",
      "['', '', '', '', '', '', '', '', '', '', '', '']\n",
      "['', '', '', '', '', '', '', '', '', '', '', '']\n",
      "['', '', '', '', '', '', '', '', '', '', '', '']\n",
      "['', '', '', '', '', '', '', '', '', '', '', '']\n",
      "['', '', '', '', '', '', '', '', '', '', '', '']\n",
      "['', '', '', '', '', '', '', '', '', '', '', '']\n",
      "['', '', '', '', '', '', '', '', '', '', '', '']\n",
      "['', '', '', '', '', '', '', '', '', '', '', '']\n",
      "['', '', '', '', '', '', '', '', '', '', '', '']\n",
      "['', '', '', '', '', '', '', '', '', '', '', '']\n",
      "['', '', '', '', '', '', '', '', '', '', '', '']\n",
      "['', '', '', '', '', '', '', '', '', '', '', '']\n",
      "['', '', '', '', '', '', '', '', '', '', '', '']\n",
      "['', '', '', '', '', '', '', '', '', '', '', '']\n",
      "['', '', '', '', '', '', '', '', '', '', '', '']\n",
      "['', '', '', '', '', '', '', '', '', '', '', '']\n",
      "['', '', '', '', '', '', '', '', '', '', '', '']\n",
      "['', '', '', '', '', '', '', '', '', '', '', '']\n",
      "['', '', '', '', '', '', '', '', '', '', '', '']\n",
      "['', '', '', '', '', '', '', '', '', '', '', '']\n",
      "['', '', '', '', '', '', '', '', '', '', '', '']\n",
      "['', '', '', '', '', '', '', '', '', '', '', '']\n",
      "['', '', '', '', '', '', '', '', '', '', '', '']\n",
      "['', '', '', '', '', '', '', '', '', '', '', '']\n",
      "['', '', '', '', '', '', '', '', '', '', '', '']\n",
      "['', '', '', '', '', '', '', '', '', '', '', '']\n",
      "['', '', '', '', '', '', '', '', '', '', '', '']\n",
      "['', '', '', '', '', '', '', '', '', '', '', '']\n",
      "['', '', '', '', '', '', '', '', '', '', '', '']\n",
      "['', '', '', '', '', '', '', '', '', '', '', '']\n",
      "['', '', '', '', '', '', '', '', '', '', '', '']\n",
      "['', '', '', '', '', '', '', '', '', '', '', '']\n",
      "['', '', '', '', '', '', '', '', '', '', '', '']\n",
      "['', '', '', '', '', '', '', '', '', '', '', '']\n",
      "['', '', '', '', '', '', '', '', '', '', '', '']\n",
      "['', '', '', '', '', '', '', '', '', '', '', '']\n",
      "['', '', '', '', '', '', '', '', '', '', '', '']\n",
      "['', '', '', '', '', '', '', '', '', '', '', '']\n",
      "['', '', '', '', '', '', '', '', '', '', '', '']\n",
      "['', '', '', '', '', '', '', '', '', '', '', '']\n",
      "['', '', '', '', '', '', '', '', '', '', '', '']\n",
      "['', '', '', '', '', '', '', '', '', '', '', '']\n",
      "['', '', '', '', '', '', '', '', '', '', '', '']\n",
      "['', '', '', '', '', '', '', '', '', '', '', '']\n",
      "['', '', '', '', '', '', '', '', '', '', '', '']\n",
      "['', '', '', '', '', '', '', '', '', '', '', '']\n",
      "['', '', '', '', '', '', '', '', '', '', '', '']\n",
      "['', '', '', '', '', '', '', '', '', '', '', '']\n",
      "['', '', '', '', '', '', '', '', '', '', '', '']\n",
      "['', '', '', '', '', '', '', '', '', '', '', '']\n",
      "['', '', '', '', '', '', '', '', '', '', '', '']\n",
      "['', '', '', '', '', '', '', '', '', '', '', '']\n",
      "['', '', '', '', '', '', '', '', '', '', '', '']\n",
      "['', '', '', '', '', '', '', '', '', '', '', '']\n",
      "['', '', '', '', '', '', '', '', '', '', '', '']\n",
      "['', '', '', '', '', '', '', '', '', '', '', '']\n",
      "['', '', '', '', '', '', '', '', '', '', '', '']\n",
      "['', '', '', '', '', '', '', '', '', '', '', '']\n",
      "['', '', '', '', '', '', '', '', '', '', '', '']\n",
      "['', '', '', '', '', '', '', '', '', '', '', '']\n",
      "['', '', '', '', '', '', '', '', '', '', '', '']\n",
      "['', '', '', '', '', '', '', '', '', '', '', '']\n",
      "['', '', '', '', '', '', '', '', '', '', '', '']\n",
      "['', '', '', '', '', '', '', '', '', '', '', '']\n",
      "['', '', '', '', '', '', '', '', '', '', '', '']\n",
      "['', '', '', '', '', '', '', '', '', '', '', '']\n",
      "['', '', '', '', '', '', '', '', '', '', '', '']\n",
      "['', '', '', '', '', '', '', '', '', '', '', '']\n",
      "['', '', '', '', '', '', '', '', '', '', '', '']\n",
      "['', '', '', '', '', '', '', '', '', '', '', '']\n",
      "['', '', '', '', '', '', '', '', '', '', '', '']\n",
      "['', '', '', '', '', '', '', '', '', '', '', '']\n",
      "['', '', '', '', '', '', '', '', '', '', '', '']\n",
      "['', '', '', '', '', '', '', '', '', '', '', '']\n",
      "['', '', '', '', '', '', '', '', '', '', '', '']\n",
      "['', '', '', '', '', '', '', '', '', '', '', '']\n",
      "['', '', '', '', '', '', '', '', '', '', '', '']\n",
      "['', '', '', '', '', '', '', '', '', '', '', '']\n",
      "['', '', '', '', '', '', '', '', '', '', '', '']\n",
      "['', '', '', '', '', '', '', '', '', '', '', '']\n",
      "['', '', '', '', '', '', '', '', '', '', '', '']\n",
      "['', '', '', '', '', '', '', '', '', '', '', '']\n",
      "['', '', '', '', '', '', '', '', '', '', '', '']\n",
      "['', '', '', '', '', '', '', '', '', '', '', '']\n",
      "['', '', '', '', '', '', '', '', '', '', '', '']\n",
      "['', '', '', '', '', '', '', '', '', '', '', '']\n",
      "['', '', '', '', '', '', '', '', '', '', '', '']\n",
      "['', '', '', '', '', '', '', '', '', '', '', '']\n",
      "['', '', '', '', '', '', '', '', '', '', '', '']\n",
      "['', '', '', '', '', '', '', '', '', '', '', '']\n",
      "['', '', '', '', '', '', '', '', '', '', '', '']\n",
      "['', '', '', '', '', '', '', '', '', '', '', '']\n",
      "['', '', '', '', '', '', '', '', '', '', '', '']\n",
      "['', '', '', '', '', '', '', '', '', '', '', '']\n",
      "['', '', '', '', '', '', '', '', '', '', '', '']\n",
      "['', '', '', '', '', '', '', '', '', '', '', '']\n",
      "['', '', '', '', '', '', '', '', '', '', '', '']\n",
      "['', '', '', '', '', '', '', '', '', '', '', '']\n",
      "['', '', '', '', '', '', '', '', '', '', '', '']\n",
      "['', '', '', '', '', '', '', '', '', '', '', '']\n",
      "['', '', '', '', '', '', '', '', '', '', '', '']\n",
      "['', '', '', '', '', '', '', '', '', '', '', '']\n",
      "['', '', '', '', '', '', '', '', '', '', '', '']\n",
      "['', '', '', '', '', '', '', '', '', '', '', '']\n",
      "['', '', '', '', '', '', '', '', '', '', '', '']\n",
      "['', '', '', '', '', '', '', '', '', '', '', '']\n",
      "['', '', '', '', '', '', '', '', '', '', '', '']\n",
      "['', '', '', '', '', '', '', '', '', '', '', '']\n",
      "['', '', '', '', '', '', '', '', '', '', '', '']\n",
      "['', '', '', '', '', '', '', '', '', '', '', '']\n",
      "['', '', '', '', '', '', '', '', '', '', '', '']\n",
      "['', '', '', '', '', '', '', '', '', '', '', '']\n",
      "['', '', '', '', '', '', '', '', '', '', '', '']\n",
      "['', '', '', '', '', '', '', '', '', '', '', '']\n",
      "['', '', '', '', '', '', '', '', '', '', '', '']\n",
      "['', '', '', '', '', '', '', '', '', '', '', '']\n",
      "['', '', '', '', '', '', '', '', '', '', '', '']\n",
      "['', '', '', '', '', '', '', '', '', '', '', '']\n",
      "['', '', '', '', '', '', '', '', '', '', '', '']\n",
      "['', '', '', '', '', '', '', '', '', '', '', '']\n",
      "['', '', '', '', '', '', '', '', '', '', '', '']\n",
      "['', '', '', '', '', '', '', '', '', '', '', '']\n",
      "['', '', '', '', '', '', '', '', '', '', '', '']\n",
      "['', '', '', '', '', '', '', '', '', '', '', '']\n",
      "['', '', '', '', '', '', '', '', '', '', '', '']\n",
      "['', '', '', '', '', '', '', '', '', '', '', '']\n",
      "['', '', '', '', '', '', '', '', '', '', '', '']\n",
      "['', '', '', '', '', '', '', '', '', '', '', '']\n",
      "['', '', '', '', '', '', '', '', '', '', '', '']\n",
      "['', '', '', '', '', '', '', '', '', '', '', '']\n",
      "['', '', '', '', '', '', '', '', '', '', '', '']\n",
      "['', '', '', '', '', '', '', '', '', '', '', '']\n",
      "['', '', '', '', '', '', '', '', '', '', '', '']\n",
      "['', '', '', '', '', '', '', '', '', '', '', '']\n",
      "['', '', '', '', '', '', '', '', '', '', '', '']\n",
      "['', '', '', '', '', '', '', '', '', '', '', '']\n",
      "['', '', '', '', '', '', '', '', '', '', '', '']\n",
      "['', '', '', '', '', '', '', '', '', '', '', '']\n",
      "['', '', '', '', '', '', '', '', '', '', '', '']\n",
      "['', '', '', '', '', '', '', '', '', '', '', '']\n",
      "['', '', '', '', '', '', '', '', '', '', '', '']\n",
      "['', '', '', '', '', '', '', '', '', '', '', '']\n",
      "['', '', '', '', '', '', '', '', '', '', '', '']\n",
      "['', '', '', '', '', '', '', '', '', '', '', '']\n",
      "['', '', '', '', '', '', '', '', '', '', '', '']\n",
      "['', '', '', '', '', '', '', '', '', '', '', '']\n",
      "['', '', '', '', '', '', '', '', '', '', '', '']\n",
      "['', '', '', '', '', '', '', '', '', '', '', '']\n",
      "['', '', '', '', '', '', '', '', '', '', '', '']\n",
      "['', '', '', '', '', '', '', '', '', '', '', '']\n",
      "['', '', '', '', '', '', '', '', '', '', '', '']\n",
      "['', '', '', '', '', '', '', '', '', '', '', '']\n",
      "['', '', '', '', '', '', '', '', '', '', '', '']\n",
      "['', '', '', '', '', '', '', '', '', '', '', '']\n",
      "['', '', '', '', '', '', '', '', '', '', '', '']\n",
      "['', '', '', '', '', '', '', '', '', '', '', '']\n",
      "['', '', '', '', '', '', '', '', '', '', '', '']\n",
      "['', '', '', '', '', '', '', '', '', '', '', '']\n",
      "['', '', '', '', '', '', '', '', '', '', '', '']\n",
      "['', '', '', '', '', '', '', '', '', '', '', '']\n",
      "['', '', '', '', '', '', '', '', '', '', '', '']\n",
      "['', '', '', '', '', '', '', '', '', '', '', '']\n",
      "['', '', '', '', '', '', '', '', '', '', '', '']\n",
      "['', '', '', '', '', '', '', '', '', '', '', '']\n",
      "['', '', '', '', '', '', '', '', '', '', '', '']\n",
      "['', '', '', '', '', '', '', '', '', '', '', '']\n",
      "['', '', '', '', '', '', '', '', '', '', '', '']\n",
      "['', '', '', '', '', '', '', '', '', '', '', '']\n",
      "['', '', '', '', '', '', '', '', '', '', '', '']\n",
      "['', '', '', '', '', '', '', '', '', '', '', '']\n",
      "['', '', '', '', '', '', '', '', '', '', '', '']\n",
      "['', '', '', '', '', '', '', '', '', '', '', '']\n",
      "['', '', '', '', '', '', '', '', '', '', '', '']\n",
      "['', '', '', '', '', '', '', '', '', '', '', '']\n",
      "['', '', '', '', '', '', '', '', '', '', '', '']\n",
      "['', '', '', '', '', '', '', '', '', '', '', '']\n",
      "['', '', '', '', '', '', '', '', '', '', '', '']\n",
      "['', '', '', '', '', '', '', '', '', '', '', '']\n",
      "['', '', '', '', '', '', '', '', '', '', '', '']\n",
      "['', '', '', '', '', '', '', '', '', '', '', '']\n",
      "['', '', '', '', '', '', '', '', '', '', '', '']\n",
      "['', '', '', '', '', '', '', '', '', '', '', '']\n",
      "['', '', '', '', '', '', '', '', '', '', '', '']\n",
      "['', '', '', '', '', '', '', '', '', '', '', '']\n",
      "['', '', '', '', '', '', '', '', '', '', '', '']\n",
      "['', '', '', '', '', '', '', '', '', '', '', '']\n",
      "['', '', '', '', '', '', '', '', '', '', '', '']\n",
      "['', '', '', '', '', '', '', '', '', '', '', '']\n",
      "['', '', '', '', '', '', '', '', '', '', '', '']\n",
      "['', '', '', '', '', '', '', '', '', '', '', '']\n",
      "['', '', '', '', '', '', '', '', '', '', '', '']\n",
      "['', '', '', '', '', '', '', '', '', '', '', '']\n",
      "['', '', '', '', '', '', '', '', '', '', '', '']\n",
      "['', '', '', '', '', '', '', '', '', '', '', '']\n",
      "['', '', '', '', '', '', '', '', '', '', '', '']\n",
      "['', '', '', '', '', '', '', '', '', '', '', '']\n",
      "['', '', '', '', '', '', '', '', '', '', '', '']\n",
      "['', '', '', '', '', '', '', '', '', '', '', '']\n",
      "['', '', '', '', '', '', '', '', '', '', '', '']\n",
      "['', '', '', '', '', '', '', '', '', '', '', '']\n",
      "['', '', '', '', '', '', '', '', '', '', '', '']\n",
      "['', '', '', '', '', '', '', '', '', '', '', '']\n",
      "['', '', '', '', '', '', '', '', '', '', '', '']\n",
      "['', '', '', '', '', '', '', '', '', '', '', '']\n",
      "['', '', '', '', '', '', '', '', '', '', '', '']\n",
      "['', '', '', '', '', '', '', '', '', '', '', '']\n",
      "['', '', '', '', '', '', '', '', '', '', '', '']\n",
      "['', '', '', '', '', '', '', '', '', '', '', '']\n",
      "['', '', '', '', '', '', '', '', '', '', '', '']\n",
      "['', '', '', '', '', '', '', '', '', '', '', '']\n",
      "['', '', '', '', '', '', '', '', '', '', '', '']\n",
      "['', '', '', '', '', '', '', '', '', '', '', '']\n",
      "['', '', '', '', '', '', '', '', '', '', '', '']\n",
      "['', '', '', '', '', '', '', '', '', '', '', '']\n",
      "['', '', '', '', '', '', '', '', '', '', '', '']\n",
      "['', '', '', '', '', '', '', '', '', '', '', '']\n",
      "['', '', '', '', '', '', '', '', '', '', '', '']\n",
      "['', '', '', '', '', '', '', '', '', '', '', '']\n",
      "['', '', '', '', '', '', '', '', '', '', '', '']\n",
      "['', '', '', '', '', '', '', '', '', '', '', '']\n",
      "['', '', '', '', '', '', '', '', '', '', '', '']\n",
      "['', '', '', '', '', '', '', '', '', '', '', '']\n",
      "['', '', '', '', '', '', '', '', '', '', '', '']\n",
      "['', '', '', '', '', '', '', '', '', '', '', '']\n",
      "['', '', '', '', '', '', '', '', '', '', '', '']\n",
      "['', '', '', '', '', '', '', '', '', '', '', '']\n",
      "['', '', '', '', '', '', '', '', '', '', '', '']\n",
      "['', '', '', '', '', '', '', '', '', '', '', '']\n",
      "['', '', '', '', '', '', '', '', '', '', '', '']\n",
      "['', '', '', '', '', '', '', '', '', '', '', '']\n",
      "['', '', '', '', '', '', '', '', '', '', '', '']\n",
      "['', '', '', '', '', '', '', '', '', '', '', '']\n",
      "['', '', '', '', '', '', '', '', '', '', '', '']\n",
      "['', '', '', '', '', '', '', '', '', '', '', '']\n",
      "['', '', '', '', '', '', '', '', '', '', '', '']\n",
      "['', '', '', '', '', '', '', '', '', '', '', '']\n",
      "['', '', '', '', '', '', '', '', '', '', '', '']\n",
      "['', '', '', '', '', '', '', '', '', '', '', '']\n",
      "['', '', '', '', '', '', '', '', '', '', '', '']\n",
      "['', '', '', '', '', '', '', '', '', '', '', '']\n",
      "['', '', '', '', '', '', 'NA', '', '', '', '', '']\n",
      "['', '', '', '', '', '', 'NA', '', '', '', '', '']\n",
      "['', '', '', '', '', '', 'NA', '', '', '', '', '']\n",
      "['', '', '', '', '', '', 'NA', '', '', '', '', '']\n",
      "['', '', '', '', '', '', 'NA', '', '', '', '', '']\n"
     ]
    }
   ],
   "source": [
    "for row in wks:\n",
    "    print(row)"
   ]
  },
  {
   "cell_type": "markdown",
   "metadata": {},
   "source": [
    "--------------------------------------------------------------------------------"
   ]
  },
  {
   "cell_type": "markdown",
   "metadata": {},
   "source": [
    "## Updating Specific Parts Of Your Google Sheet"
   ]
  },
  {
   "cell_type": "markdown",
   "metadata": {},
   "source": [
    "Updating parts of your Google sheet gives you the flexibility to do a raw data dump into google sheets.\n",
    "\n",
    "Afterwards and if other situations or API's change, you can specifically update any column, row or a range within your google sheet. \n",
    "\n",
    "Let's start by looking at how we can replace specific values:"
   ]
  },
  {
   "cell_type": "markdown",
   "metadata": {},
   "source": [
    "-------------------------------------------------------------------------------------------"
   ]
  },
  {
   "cell_type": "markdown",
   "metadata": {},
   "source": [
    "### How To Replace Specific Values Within Your Google Sheet"
   ]
  },
  {
   "cell_type": "markdown",
   "metadata": {},
   "source": [
    "Replacing values within your google sheets is incredibly easy and can be done via: \n",
    "    \n",
    "~~~\n",
    "\n",
    "wks.replace(pattern, replacement=None, **kwargs)\n",
    "\n",
    "~~~"
   ]
  },
  {
   "cell_type": "markdown",
   "metadata": {},
   "source": [
    "Let's for example try replacing any np.nans (not a number) in the Clicks and CPS column:"
   ]
  },
  {
   "cell_type": "code",
   "execution_count": 60,
   "metadata": {},
   "outputs": [],
   "source": [
    "wks.replace(\"NaN\", replacement=\"0\")"
   ]
  },
  {
   "cell_type": "markdown",
   "metadata": {},
   "source": [
    "![](https://sempioneer.com/wp-content/uploads/2020/05/replacing-nan-values.png)"
   ]
  },
  {
   "cell_type": "markdown",
   "metadata": {},
   "source": [
    "Although this has indeed replaced the \"NaN\" values, the operation has occurred across all columns and rows within the worksheet. This might not be exactly what you're looking for!\n",
    "\n",
    "<strong> For example maybe you're simply looking to replace cell values within 2 columns? </strong>"
   ]
  },
  {
   "cell_type": "markdown",
   "metadata": {},
   "source": [
    "--------------------------------------------------------------------------------------------------------------------------------"
   ]
  },
  {
   "cell_type": "markdown",
   "metadata": {},
   "source": [
    "### Introducing Find And Update Values"
   ]
  },
  {
   "cell_type": "code",
   "execution_count": 61,
   "metadata": {},
   "outputs": [],
   "source": [
    "wks.clear()\n",
    "wks.set_dataframe(df, start=(1,1))"
   ]
  },
  {
   "cell_type": "markdown",
   "metadata": {},
   "source": [
    "We will perform the following operations:\n",
    "\n",
    "- Find all of the cells between column 3 and 6 (exclusive so only two columns will be selected).\n",
    "- Then match against NaN (not a number) cells."
   ]
  },
  {
   "cell_type": "code",
   "execution_count": 215,
   "metadata": {},
   "outputs": [],
   "source": [
    "cells = wks.find(\"NaN\", searchByRegex=False, matchCase=False, \n",
    "     matchEntireCell=False, includeFormulas=False, \n",
    "    cols=(3,6), rows=None, forceFetch=True)"
   ]
  },
  {
   "cell_type": "code",
   "execution_count": 216,
   "metadata": {},
   "outputs": [
    {
     "name": "stdout",
     "output_type": "stream",
     "text": [
      "[<Cell E14 'NaN'>, <Cell E48 'NaN'>, <Cell F57 'NaN'>, <Cell F64 'NaN'>, <Cell E65 'NaN'>]\n"
     ]
    }
   ],
   "source": [
    "print(cells[0:5])"
   ]
  },
  {
   "cell_type": "markdown",
   "metadata": {},
   "source": [
    "----------------------------------------------------------------------------------------------------"
   ]
  },
  {
   "cell_type": "markdown",
   "metadata": {},
   "source": [
    "### How To Update A Range of Values"
   ]
  },
  {
   "cell_type": "markdown",
   "metadata": {},
   "source": [
    "If you'd like to update a range of values use the following syntax, for this example we'll assign the selected nan values to \"Other\":\n",
    "\n",
    "~~~\n",
    "wks.update_values(crange=None, values=None, cell_list=None, extend=False, majordim='ROWS', parse=None)\n",
    "\n",
    "~~~"
   ]
  },
  {
   "cell_type": "code",
   "execution_count": 64,
   "metadata": {},
   "outputs": [],
   "source": [
    "for cell in cells:\n",
    "    cell.value = \"Other\"\n",
    "wks.update_values(cell_list=cells)"
   ]
  },
  {
   "cell_type": "markdown",
   "metadata": {},
   "source": [
    "![](https://sempioneer.com/wp-content/uploads/2020/05/updating-specific-cells.png)"
   ]
  },
  {
   "cell_type": "markdown",
   "metadata": {},
   "source": [
    "------------------------------------------------------------------------------------------"
   ]
  },
  {
   "cell_type": "markdown",
   "metadata": {},
   "source": [
    "As you can see, we've only updated the CPC and Clicks column \"NaN\" values with \"Other\" and the other column values remain the same! \n",
    "\n",
    "In the example above we've specifically referenced a cell_list, however you could also use the two methods below:\n",
    "\n",
    "~~~\n",
    "\n",
    "# Update a single cell.\n",
    "wks.update_value('A1', \"Numbers on Stuff\")\n",
    "\n",
    "# Update the worksheet with the numpy array values. Beginning at cell 'A2'.\n",
    "wks.update_values('A2', my_numpy_array.to_list())\n",
    "\n",
    "~~~"
   ]
  },
  {
   "cell_type": "markdown",
   "metadata": {},
   "source": [
    "--------------------------------------------------------------------------------"
   ]
  },
  {
   "cell_type": "markdown",
   "metadata": {},
   "source": [
    "## Column Data Manipulation"
   ]
  },
  {
   "cell_type": "markdown",
   "metadata": {},
   "source": [
    "### How To Add Multiple Columns"
   ]
  },
  {
   "cell_type": "markdown",
   "metadata": {},
   "source": [
    "To add columns to your existing worksheet you can use this syntax:\n",
    "    \n",
    "~~~\n",
    "\n",
    "wks.add_cols(3)\n",
    "\n",
    "~~~"
   ]
  },
  {
   "cell_type": "code",
   "execution_count": 65,
   "metadata": {},
   "outputs": [],
   "source": [
    "wks.add_cols(5)"
   ]
  },
  {
   "cell_type": "markdown",
   "metadata": {},
   "source": [
    "![](https://sempioneer.com/wp-content/uploads/2020/05/how-to-add-extra-columns-with-python-pygsheets.png)"
   ]
  },
  {
   "cell_type": "markdown",
   "metadata": {},
   "source": [
    "------------------------------------------------------------------------------------"
   ]
  },
  {
   "cell_type": "markdown",
   "metadata": {},
   "source": [
    "### How To Get The Column Names With The Column Index Positions"
   ]
  },
  {
   "cell_type": "markdown",
   "metadata": {},
   "source": [
    "Firstly we will extract all of the headers on row 1, then we will wrap this variable with enumerate and convert it into a python dictionary. \n",
    "\n",
    "This will allow us to create a lookup table for index positions!\n",
    "\n",
    "--- \n",
    "\n",
    "Notice below how we have also changed:\n",
    "\n",
    "~~~\n",
    "\n",
    "include_tailing_empty=True\n",
    "\n",
    "~~~\n",
    "\n",
    "The reason why is that we just want to make sure that if we had empty column values between tables, we would also pick up any empty string values between columns."
   ]
  },
  {
   "cell_type": "markdown",
   "metadata": {},
   "source": [
    "------------------------------"
   ]
  },
  {
   "cell_type": "code",
   "execution_count": 217,
   "metadata": {},
   "outputs": [],
   "source": [
    "headers = wks.get_row(1, include_tailing_empty=True)\n",
    "enumerated_headers = list(enumerate(headers))"
   ]
  },
  {
   "cell_type": "code",
   "execution_count": 218,
   "metadata": {},
   "outputs": [
    {
     "name": "stdout",
     "output_type": "stream",
     "text": [
      "[(0, 'Keyword'), (1, 'Country'), (2, 'Difficulty'), (3, 'Volume'), (4, 'CPC'), (5, 'Clicks'), (6, 'CPS'), (7, 'Return Rate'), (8, 'Parent Keyword'), (9, 'Last Update'), (10, 'SERP Features'), (11, ''), (12, ''), (13, ''), (14, ''), (15, ''), (16, ''), (17, ''), (18, '')]\n"
     ]
    }
   ],
   "source": [
    "print(f\"{enumerated_headers}\")"
   ]
  },
  {
   "cell_type": "markdown",
   "metadata": {},
   "source": [
    "------------------------------------------------------"
   ]
  },
  {
   "cell_type": "markdown",
   "metadata": {},
   "source": [
    "Now let's remove any of the enumerated headers that have an empty string with a list comprehension:"
   ]
  },
  {
   "cell_type": "code",
   "execution_count": 68,
   "metadata": {},
   "outputs": [],
   "source": [
    "enumerated_headers = [tuple_object for tuple_object in enumerated_headers if tuple_object[1]]"
   ]
  },
  {
   "cell_type": "code",
   "execution_count": 69,
   "metadata": {},
   "outputs": [
    {
     "name": "stdout",
     "output_type": "stream",
     "text": [
      "These are the cleaned, enumerated headers: \n",
      " \n",
      " [(0, 'Keyword'), (1, 'Country'), (2, 'Difficulty'), (3, 'Volume'), (4, 'CPC'), (5, 'Clicks'), (6, 'CPS'), (7, 'Return Rate'), (8, 'Parent Keyword'), (9, 'Last Update'), (10, 'SERP Features')]\n"
     ]
    }
   ],
   "source": [
    "print(f\"These are the cleaned, enumerated headers: \\n \\n {enumerated_headers}\")"
   ]
  },
  {
   "cell_type": "markdown",
   "metadata": {},
   "source": [
    "-------------------------------------------------------------------------------------------"
   ]
  },
  {
   "cell_type": "markdown",
   "metadata": {},
   "source": [
    "We can then convert this list of tuples into a python dictionary to create a look up table for columns versus their index positions:"
   ]
  },
  {
   "cell_type": "code",
   "execution_count": 70,
   "metadata": {},
   "outputs": [],
   "source": [
    "lookup_table = dict(enumerated_headers)\n",
    "lookup_table_reversed = {value: key for key, value in lookup_table.items()}"
   ]
  },
  {
   "cell_type": "code",
   "execution_count": 71,
   "metadata": {},
   "outputs": [
    {
     "name": "stdout",
     "output_type": "stream",
     "text": [
      "From this you can see how we've created a lookup table via a python dictionary where the key is the column name and the value is the index position: \n",
      "\n",
      " {'Keyword': 0, 'Country': 1, 'Difficulty': 2, 'Volume': 3, 'CPC': 4, 'Clicks': 5, 'CPS': 6, 'Return Rate': 7, 'Parent Keyword': 8, 'Last Update': 9, 'SERP Features': 10}\n"
     ]
    }
   ],
   "source": [
    "print(f\"From this you can see how we've created a lookup table via a python dictionary where the key is the column name and the value is the index position: \\n\\n {lookup_table_reversed}\")"
   ]
  },
  {
   "cell_type": "markdown",
   "metadata": {},
   "source": [
    "--------------------------------------------------------------------------------------------"
   ]
  },
  {
   "cell_type": "markdown",
   "metadata": {},
   "source": [
    "### How To Delete Columns"
   ]
  },
  {
   "cell_type": "markdown",
   "metadata": {},
   "source": [
    "You will need to pass two parameters when deleting columns via pyghseets: \n",
    "\n",
    "~~~\n",
    "\n",
    "wks.delete_cols(index, number=1)\n",
    "\n",
    "index – Index of first column to delete.\n",
    "number – Number of columns to delete.\n",
    "\n",
    "~~~"
   ]
  },
  {
   "cell_type": "code",
   "execution_count": 219,
   "metadata": {},
   "outputs": [
    {
     "name": "stdout",
     "output_type": "stream",
     "text": [
      "Currently we have 19 columns in the google sheet.\n"
     ]
    }
   ],
   "source": [
    "print(f\"Currently we have {wks.cols} columns in the google sheet.\")"
   ]
  },
  {
   "cell_type": "code",
   "execution_count": 220,
   "metadata": {},
   "outputs": [
    {
     "data": {
      "text/plain": [
       "11"
      ]
     },
     "execution_count": 220,
     "metadata": {},
     "output_type": "execute_result"
    }
   ],
   "source": [
    "max(lookup_table.keys()) + 1 "
   ]
  },
  {
   "cell_type": "markdown",
   "metadata": {},
   "source": [
    "------------------------------------------------------------"
   ]
  },
  {
   "cell_type": "markdown",
   "metadata": {},
   "source": [
    "As we can see the highest index position that we have as a true column from row 1 is 10. Therefore let's delete all of the columns from index position 12 and greater:\n",
    "\n",
    "Pro tip: Now the reason why it is 12 and not 11 is because pygsheets starts its index positioning for columns and rows at 1, whilst python starts its indexing at position 0. Also pygsheets is inclusive with the starting index (1 means from 1 onwards, rather than column 2 onwards)."
   ]
  },
  {
   "cell_type": "code",
   "execution_count": 74,
   "metadata": {},
   "outputs": [],
   "source": [
    "wks.delete_cols(index=12,number=wks.cols - 10)"
   ]
  },
  {
   "cell_type": "markdown",
   "metadata": {},
   "source": [
    "----------------------------------------------------------------"
   ]
  },
  {
   "cell_type": "markdown",
   "metadata": {},
   "source": [
    "You can now easily delete multiple columns by creating your own column index with enumerate!"
   ]
  },
  {
   "cell_type": "markdown",
   "metadata": {},
   "source": [
    "![](https://sempioneer.com/wp-content/uploads/2020/05/column-reduction.png)"
   ]
  },
  {
   "cell_type": "markdown",
   "metadata": {},
   "source": [
    "---------------------------------------------------------------"
   ]
  },
  {
   "cell_type": "markdown",
   "metadata": {},
   "source": [
    "### How To Insert Columns"
   ]
  },
  {
   "cell_type": "markdown",
   "metadata": {},
   "source": [
    "The following syntax allows you to insert multiple columns:\n",
    "    \n",
    "~~~\n",
    "\n",
    "wks.insert_cols(col, number=1, values=None, inherit=False)\n",
    "\n",
    "\n",
    "Parameters:\n",
    "col – Index of the col at which the values will be inserted.\n",
    "number – Number of columns to be inserted.\n",
    "values – Content to be inserted into new columns.\n",
    "inherit – New cells will inherit properties from the column to the left (True) or to the right (False).\n",
    "\n",
    "~~~"
   ]
  },
  {
   "cell_type": "markdown",
   "metadata": {},
   "source": [
    "---------------------------------------------------------------------------------"
   ]
  },
  {
   "cell_type": "markdown",
   "metadata": {},
   "source": [
    "### How To Update A Single Column"
   ]
  },
  {
   "cell_type": "markdown",
   "metadata": {},
   "source": [
    "In order to update a single column, use this syntax:\n",
    "    \n",
    "~~~\n",
    "\n",
    "wks.update_col(index, values, row_offset=0)\n",
    "\n",
    "~~~"
   ]
  },
  {
   "cell_type": "markdown",
   "metadata": {},
   "source": [
    "We can use the previous lookup table that we created to search for a specific column:"
   ]
  },
  {
   "cell_type": "code",
   "execution_count": 75,
   "metadata": {},
   "outputs": [],
   "source": [
    "data = wks.update_col(index = lookup_table_reversed['CPS'] + 1\n",
    "               ,values = wks.rows * [\"NA\"], \n",
    "            row_offset=1)"
   ]
  },
  {
   "cell_type": "markdown",
   "metadata": {},
   "source": [
    "Protip: If you need to create a list of a specific size in python use the following code:\n",
    "        \n",
    "~~~\n",
    "\n",
    "this_list_will_be_10_5s = [5] * 10\n",
    "\n",
    "~~~"
   ]
  },
  {
   "cell_type": "code",
   "execution_count": 221,
   "metadata": {},
   "outputs": [
    {
     "name": "stdout",
     "output_type": "stream",
     "text": [
      "[5, 5, 5, 5, 5, 5, 5, 5, 5, 5]\n"
     ]
    }
   ],
   "source": [
    "print([5] * 10)"
   ]
  },
  {
   "cell_type": "markdown",
   "metadata": {},
   "source": [
    "![](https://sempioneer.com/wp-content/uploads/2020/05/CPS-column.png)"
   ]
  },
  {
   "cell_type": "markdown",
   "metadata": {},
   "source": [
    "------------------------------------------------------------------------"
   ]
  },
  {
   "cell_type": "markdown",
   "metadata": {},
   "source": [
    "### How To Adjust Column Width"
   ]
  },
  {
   "cell_type": "markdown",
   "metadata": {},
   "source": [
    "Do you need to adjust specific columns to be a certain width? No problem!\n",
    "\n",
    "~~~\n",
    "\n",
    "wks.adjust_column_width(start, end=None, pixel_size=None)\n",
    "\n",
    "~~~\n",
    "\n",
    "Also its worth remembering that whenever you use wks.clear(), all of the formatting will be erased from the worksheet. \n",
    "\n",
    "---\n",
    "\n",
    "We can just provide pygsheets with a start index and end index for columns with a specific pixel size like so:"
   ]
  },
  {
   "cell_type": "code",
   "execution_count": 76,
   "metadata": {},
   "outputs": [],
   "source": [
    "wks.adjust_column_width(start=1, end=3, pixel_size=300)"
   ]
  },
  {
   "cell_type": "markdown",
   "metadata": {},
   "source": [
    "![](https://sempioneer.com/wp-content/uploads/2020/05/adjusting-column-heights.png)"
   ]
  },
  {
   "cell_type": "markdown",
   "metadata": {},
   "source": [
    "--------------------------------------------------------"
   ]
  },
  {
   "cell_type": "markdown",
   "metadata": {},
   "source": [
    "## Row Data Manipulation"
   ]
  },
  {
   "cell_type": "markdown",
   "metadata": {},
   "source": [
    "### How To Select A Single Row"
   ]
  },
  {
   "cell_type": "markdown",
   "metadata": {},
   "source": [
    "To select a single row you can just use:\n",
    "    \n",
    "~~~\n",
    "\n",
    "wks.get_row(row, returnas='matrix', include_tailing_empty=True, **kwargs)\n",
    "\n",
    "include_tailing_empty – whether to include empty trailing cells/values after last non-zero value\n",
    "row – index of row\n",
    "kwargs – all parameters of pygsheets.Worksheet.get_values()\n",
    "returnas – (‘matrix’, ‘cell’, ‘range’) return as cell objects or just 2d array or range object\n",
    "\n",
    "\n",
    "~~~"
   ]
  },
  {
   "cell_type": "code",
   "execution_count": 77,
   "metadata": {},
   "outputs": [
    {
     "data": {
      "text/plain": [
       "['Keyword',\n",
       " 'Country',\n",
       " 'Difficulty',\n",
       " 'Volume',\n",
       " 'CPC',\n",
       " 'Clicks',\n",
       " 'CPS',\n",
       " 'Return Rate',\n",
       " 'Parent Keyword',\n",
       " 'Last Update',\n",
       " 'SERP Features']"
      ]
     },
     "execution_count": 77,
     "metadata": {},
     "output_type": "execute_result"
    }
   ],
   "source": [
    "wks.get_row(1)"
   ]
  },
  {
   "cell_type": "markdown",
   "metadata": {},
   "source": [
    "----------------------------------------------------------------------"
   ]
  },
  {
   "cell_type": "markdown",
   "metadata": {},
   "source": [
    "### How To Insert Multiple Rows"
   ]
  },
  {
   "cell_type": "markdown",
   "metadata": {},
   "source": [
    "Selecting multiple rows is very easy and can be done like so:\n",
    "    \n",
    "~~~\n",
    "\n",
    "wks.insert_rows(row, number=1, values=None, inherit=False)\n",
    "\n",
    "\n",
    "~~~"
   ]
  },
  {
   "cell_type": "markdown",
   "metadata": {},
   "source": [
    "Let's find the last row to add a row, and we can insert a new row at index position 3."
   ]
  },
  {
   "cell_type": "code",
   "execution_count": 222,
   "metadata": {},
   "outputs": [
    {
     "name": "stdout",
     "output_type": "stream",
     "text": [
      "The last row is 1001\n",
      "These are the values which will be appended to the new row: \n",
      " \n",
      " ['Test', 'Test', 'Test', 'Test', 'Test', 'Test', 'Test', 'Test', 'Test', 'Test', 'Test', 'Test', 'Test', 'Test', 'Test', 'Test', 'Test', 'Test', 'Test']\n"
     ]
    }
   ],
   "source": [
    "values = wks.cols * [\"Test\"]\n",
    "print(f\"The last row is {wks.rows}\")\n",
    "print(f\"These are the values which will be appended to the new row: \\n \\n {values}\")"
   ]
  },
  {
   "cell_type": "code",
   "execution_count": 79,
   "metadata": {},
   "outputs": [],
   "source": [
    "wks.insert_rows(3, values=values )"
   ]
  },
  {
   "cell_type": "markdown",
   "metadata": {},
   "source": [
    "![](https://sempioneer.com/wp-content/uploads/2020/05/inserting-a-new-row.png)"
   ]
  },
  {
   "cell_type": "markdown",
   "metadata": {},
   "source": [
    "------------------------------"
   ]
  },
  {
   "cell_type": "markdown",
   "metadata": {},
   "source": [
    "Pro Tip: When you insert new rows, they must be below the index number of the final row. If you need to create more rows, I'd recommend using this method instead:\n",
    "\n",
    "~~~\n",
    "\n",
    "wks.add_rows(500)\n",
    "\n",
    "~~~"
   ]
  },
  {
   "cell_type": "markdown",
   "metadata": {},
   "source": [
    "---------------------------------------------------------------"
   ]
  },
  {
   "cell_type": "markdown",
   "metadata": {},
   "source": [
    "### How To Delete Rows"
   ]
  },
  {
   "cell_type": "markdown",
   "metadata": {},
   "source": [
    "To delete rows, utilise this syntax:\n",
    "    \n",
    "~~~\n",
    "\n",
    "wks.delete_rows(index, number=1)\n",
    "\n",
    ":param index:   Index of first row to delete\n",
    ":param number:  Number of rows to delete\n",
    "\n",
    "~~~"
   ]
  },
  {
   "cell_type": "code",
   "execution_count": 80,
   "metadata": {},
   "outputs": [],
   "source": [
    "wks.delete_rows(5, number=7)"
   ]
  },
  {
   "cell_type": "markdown",
   "metadata": {},
   "source": [
    "---------------------------------------------------------------------------------------------------"
   ]
  },
  {
   "cell_type": "markdown",
   "metadata": {},
   "source": [
    "## Formatting Google Sheets In Python"
   ]
  },
  {
   "cell_type": "markdown",
   "metadata": {},
   "source": [
    "### Frozen Rows + Columns"
   ]
  },
  {
   "cell_type": "markdown",
   "metadata": {},
   "source": [
    "You can easily set the number of Frozen Rows + Columns with the two commands:\n",
    "    \n",
    "~~~\n",
    "\n",
    "wks.frozen_rows = 5\n",
    "wks.frozen_cols = 3\n",
    "~~~\n"
   ]
  },
  {
   "cell_type": "code",
   "execution_count": 81,
   "metadata": {},
   "outputs": [],
   "source": [
    "wks.frozen_rows = 1\n",
    "wks.frozen_cols = 2"
   ]
  },
  {
   "cell_type": "markdown",
   "metadata": {},
   "source": [
    "![](https://sempioneer.com/wp-content/uploads/2020/05/Frozen-Rows-and-Frozen-Columns.png)"
   ]
  },
  {
   "cell_type": "markdown",
   "metadata": {},
   "source": [
    "--------------------------------------------------------------------------------"
   ]
  },
  {
   "cell_type": "markdown",
   "metadata": {},
   "source": [
    "### How To Bold Cells"
   ]
  },
  {
   "cell_type": "markdown",
   "metadata": {},
   "source": [
    "Let's bold all of the cells in the first row:"
   ]
  },
  {
   "cell_type": "code",
   "execution_count": 82,
   "metadata": {},
   "outputs": [],
   "source": [
    "from pygsheets.datarange import DataRange"
   ]
  },
  {
   "cell_type": "code",
   "execution_count": 83,
   "metadata": {},
   "outputs": [],
   "source": [
    "model_cell = wks.cell('A1')\n",
    "model_cell.set_text_format('bold', True)\n",
    "DataRange('A1','K1', worksheet=wks).apply_format(model_cell)"
   ]
  },
  {
   "cell_type": "markdown",
   "metadata": {},
   "source": [
    "The first image below shows the BEFORE, and the second image shows the AFTER after of applying the DataRange based upon the model cell!"
   ]
  },
  {
   "cell_type": "markdown",
   "metadata": {},
   "source": [
    "Before:\n",
    "![](https://sempioneer.com/wp-content/uploads/2020/05/Before.png)"
   ]
  },
  {
   "cell_type": "markdown",
   "metadata": {},
   "source": [
    "After:\n",
    "![](https://sempioneer.com/wp-content/uploads/2020/05/After.png)"
   ]
  },
  {
   "cell_type": "markdown",
   "metadata": {},
   "source": [
    "------------------------------------------------------------------------"
   ]
  },
  {
   "cell_type": "markdown",
   "metadata": {},
   "source": [
    "### Batching Your API Calls"
   ]
  },
  {
   "cell_type": "markdown",
   "metadata": {},
   "source": [
    "If you are going to make a lot of requests to the Google Sheets API, its recommended to batch your API requests. This reduces the chances that your API requests will be unsuccesful due to rate limits. The way that pygsheets implements API batching is as follows:\n",
    "\n",
    "~~~\n",
    "\n",
    "wks.unlink()\n",
    "for i in range(10):\n",
    "    wks.update_value((1, i), i) # wont call api\n",
    "wks.link() # will do all the updates\n",
    "\n",
    "~~~"
   ]
  },
  {
   "cell_type": "markdown",
   "metadata": {},
   "source": [
    "---------------------------------------------------------------------------------------------------"
   ]
  },
  {
   "cell_type": "markdown",
   "metadata": {},
   "source": [
    "### How To Share A Google Sheet With An Email Address In Python"
   ]
  },
  {
   "cell_type": "markdown",
   "metadata": {},
   "source": [
    "You can easily share any connected spreadsheet with:\n",
    "    \n",
    "~~~\n",
    "\n",
    ".share(email_or_domain, role='reader', type='user', **kwargs)\n",
    "\n",
    "~~~\n",
    "\n",
    "Additionally you can include an email message to your user!"
   ]
  },
  {
   "cell_type": "code",
   "execution_count": 86,
   "metadata": {},
   "outputs": [],
   "source": [
    "sheet.share('example@gmail.com', role='commenter', \n",
    "             type='user', emailMessage='Here is the spreadsheet we talked about!')"
   ]
  },
  {
   "cell_type": "markdown",
   "metadata": {},
   "source": [
    "-------------------------------------------------------------------------------------"
   ]
  },
  {
   "cell_type": "markdown",
   "metadata": {},
   "source": [
    "### How To Export A Google Sheet To A .CSV"
   ]
  },
  {
   "cell_type": "markdown",
   "metadata": {},
   "source": [
    "Also its possible to easily export your google sheet to a .csv file with: \n",
    "\n",
    "~~~\n",
    "\n",
    "wks.export(file_format=<ExportType.CSV: 'text/csv:.csv'>, filename=None, path='')\n",
    "\n",
    "~~~"
   ]
  },
  {
   "cell_type": "markdown",
   "metadata": {},
   "source": [
    "However <strong> we'll need to enable the Google Drive API </strong> for this to work, so quickly go to your Google Cloud Project and activate this API for the following command to work:"
   ]
  },
  {
   "cell_type": "markdown",
   "metadata": {},
   "source": [
    "![](https://sempioneer.com/wp-content/uploads/2020/05/googel-drive-api.png)"
   ]
  },
  {
   "cell_type": "code",
   "execution_count": 87,
   "metadata": {},
   "outputs": [],
   "source": [
    "wks.export(filename='this_is_a_csv_file')"
   ]
  },
  {
   "cell_type": "markdown",
   "metadata": {},
   "source": [
    "![](https://sempioneer.com/wp-content/uploads/2020/05/local-file.csv-from-google-sheets-with-python.png)"
   ]
  },
  {
   "cell_type": "markdown",
   "metadata": {},
   "source": [
    "----------------------------------------------------------------"
   ]
  },
  {
   "cell_type": "markdown",
   "metadata": {},
   "source": [
    "### How To Convert A Google Sheet Into JSON"
   ]
  },
  {
   "cell_type": "markdown",
   "metadata": {},
   "source": [
    "Sometimes when communicating with another developer, they might want to receive your data in JSON format. \n",
    "\n",
    "You can easily turn your google sheets data into a JSON API and feed it directly into another REST API by chaining these two commands:\n",
    "    \n",
    "~~~\n",
    "\n",
    "wks.get_as_df().to_json()\n",
    "\n",
    "~~~"
   ]
  },
  {
   "cell_type": "markdown",
   "metadata": {},
   "source": [
    "This will do two things:\n",
    "- Firstly we will obtain the entire worksheet as a pandas dataframe.\n",
    "- Secondly we'll convert the pandas dataframe into a JSON object."
   ]
  },
  {
   "cell_type": "code",
   "execution_count": 88,
   "metadata": {},
   "outputs": [
    {
     "data": {
      "text/plain": [
       "'{\"Keyword\":{\"0\":\"coast\",\"1\":\"hubspot\",\"2\":\"Test\",\"3\":\"and digital\",\"4\":\"hub spot\",\"5\":\"online marketing\",\"6\":\"digital marketer\",\"7\":\"coast uk\",\"8\":\"what is this\",\"9\":\"climb online\",\"10\":\"digital agency\",\"11\":\"key digital\",\"12\":\"company meaning\",\"13\":\"performance marketing\",\"14\":\"digital marketing strategy\",\"15\":\"internet marketing\",\"16\":\"who is this\",\"17\":\"digital marketing news\",\"18\":\"social media marketing agency\",\"19\":\"marketing companies\",\"20\":\"digital marketing definition\",\"21\":\"digital meaning\",\"22\":\"which or what\",\"23\":\"digital marketing agency london\",\"24\":\"more definition\",\"25\":\"marketing meaning\",\"26\":\"coast digital\",\"27\":\"digital marketing company\",\"28\":\"web design nottingham\",\"29\":\"digital marketing channels\",\"30\":\"digital definition\",\"31\":\"marketing agency london\",\"32\":\"marketing company\",\"33\":\"digital marketing services\",\"34\":\"content marketing agency\",\"35\":\"digital content\",\"36\":\"digital marketing job description\",\"37\":\"digital channels\",\"38\":\"marketing digital\",\"39\":\"passion digital\",\"40\":\"detailed online\",\"41\":\"digital agency london\",\"42\":\"define business\",\"43\":\"marketing agencies london\",\"44\":\"market meaning\",\"45\":\"what is digital media\",\"46\":\"marketing services\",\"47\":\"digital marketing london\",\"48\":\"digital business\",\"49\":\"agency online\",\"50\":\"seo services london\",\"51\":\"define more\",\"52\":\"digital technology definition\",\"53\":\"digital marketing campaign\",\"54\":\"marketing online\",\"55\":\"on digital\",\"56\":\"www coast\",\"57\":\"what is this?\",\"58\":\"social media companies\",\"59\":\"define numerous\",\"60\":\"online media\",\"61\":\"marketing blogs\",\"62\":\"what is digital\",\"63\":\"define constitutes\",\"64\":\"digital marketing agencies\",\"65\":\"hibspot\",\"66\":\"www coast co uk\",\"67\":\"digital marketing specialist\",\"68\":\"discuss the market\",\"69\":\"digital marketing companies\",\"70\":\"online marketing company\",\"71\":\"digital marketing agencies london\",\"72\":\"hubsport\",\"73\":\"digital marketing agency near me\",\"74\":\"marketing companies near me\",\"75\":\"what does digital mean\",\"76\":\"email marketing agency\",\"77\":\"what is a media agency\",\"78\":\"define digital\",\"79\":\"marketing companies london\",\"80\":\"services meaning\",\"81\":\"digital agencies london\",\"82\":\"social media marketing london\",\"83\":\"digital campaign\",\"84\":\"types of digital marketing\",\"85\":\"internet marketing service\",\"86\":\"marketeer meaning\",\"87\":\"regardless marketing\",\"88\":\"social media marketing companies\",\"89\":\"search marketing\",\"90\":\"digital marketing companies london\",\"91\":\"online meaning\",\"92\":\"digital media definition\",\"93\":\"digital marketing techniques\",\"94\":\"marketing-online\",\"95\":\"coast online\",\"96\":\"media channels\",\"97\":\"can definition\",\"98\":\"internet marketing agency\",\"99\":\"world of digital\",\"100\":\"on-digital\",\"101\":\"digital agency uk\",\"102\":\"email meaning\",\"103\":\"services marketing\",\"104\":\"social media agency london\",\"105\":\"coast london\",\"106\":\"digital marketing meaning\",\"107\":\"benefits of digital marketing\",\"108\":\"digital space\",\"109\":\"digital marketing blog\",\"110\":\"marketing blog\",\"111\":\"seo digital marketing\",\"112\":\"digital media examples\",\"113\":\"the who.com\",\"114\":\"digital media agency\",\"115\":\"coasr\",\"116\":\"coadt\",\"117\":\"digital media marketing\",\"118\":\"marketing agencies near me\",\"119\":\"define all\",\"120\":\"hubspo\",\"121\":\"whats more\",\"122\":\"london digital agency\",\"123\":\"website marketing\",\"124\":\"post meaning after\",\"125\":\"marketing agency reading\",\"126\":\"the who .com\",\"127\":\"digital marketing blogs\",\"128\":\"what\\'s the time today\",\"129\":\"online post\",\"130\":\"marketer meaning\",\"131\":\"full fat pr\",\"132\":\"digital uk website\",\"133\":\"digital marketing services birmingham\",\"134\":\"top marketing agencies london\",\"135\":\"who is this?\",\"136\":\"digital promotion\",\"137\":\"head of digital marketing\",\"138\":\"digital marketing examples\",\"139\":\"internet marketing company\",\"140\":\"online marketing agency\",\"141\":\"website design nottingham\",\"142\":\"garish definition\",\"143\":\"digitals\",\"144\":\"info meaning\",\"145\":\"who is website\",\"146\":\"according to meaning\",\"147\":\"learn digital marketing\",\"148\":\"the who com\",\"149\":\"media-marketing\",\"150\":\"strategy internet marketing\",\"151\":\"online marketing strategies\",\"152\":\"why digital marketing\",\"153\":\"who\\'s definition\",\"154\":\"why is digital marketing important\",\"155\":\"digital and social media marketing\",\"156\":\"search marketing agency\",\"157\":\"methods digital\",\"158\":\"digital market\",\"159\":\"advertising agencies near me\",\"160\":\"role of digital marketing\",\"161\":\"digital media companies\",\"162\":\"social media company\",\"163\":\"whowhatwhy\",\"164\":\"london marketing agency\",\"165\":\"website meaning\",\"166\":\"full service agency\",\"167\":\"content marketing agency london\",\"168\":\"media companies near me\",\"169\":\"marketing work\",\"170\":\"huspot\",\"171\":\"online marketing services\",\"172\":\"content marketing companies\",\"173\":\"what is digital advertising\",\"174\":\"digital marketing solutions\",\"175\":\"definition of digital marketing\",\"176\":\"define digital marketing\",\"177\":\"what does comprise mean\",\"178\":\"hubspot marketing blog\",\"179\":\"online marketing london\",\"180\":\"search marketing company\",\"181\":\"ppc online\",\"182\":\"meaning of create\",\"183\":\"why work in digital marketing\",\"184\":\"digital marketing companies in uk\",\"185\":\"like digital\",\"186\":\"how to get into digital marketing\",\"187\":\"digital company\",\"188\":\"online marketing strategy\",\"189\":\"online marketing business\",\"190\":\"marketing agency essex\",\"191\":\"social media companies london\",\"192\":\"define services\",\"193\":\"definition of a business\",\"194\":\"top digital marketing agencies\",\"195\":\"digital marketing platforms\",\"196\":\"definition of digital\",\"197\":\"online marketing companies\",\"198\":\"business define\",\"199\":\"social media advertising agency\",\"200\":\"digital marketing roles\",\"201\":\"importance of digital marketing\",\"202\":\"key-digital\",\"203\":\"digital marketing uk\",\"204\":\"caost\",\"205\":\"digital marketing agency uk\",\"206\":\"top digital marketing agencies london\",\"207\":\"digital advertising agency\",\"208\":\"web marketing company\",\"209\":\"web marketing services\",\"210\":\"define online\",\"211\":\"all digital\",\"212\":\"marketing website\",\"213\":\"define in fact\",\"214\":\"what is online marketing\",\"215\":\"what does according mean\",\"216\":\"nottingham web design\",\"217\":\"what does defined mean\",\"218\":\"online marketing agency london\",\"219\":\"what is e-marketing\",\"220\":\"internet marketing strategies\",\"221\":\"trends definition in business\",\"222\":\"define including\",\"223\":\"define an english person\",\"224\":\"what is for\",\"225\":\"digital marketing campaigns\",\"226\":\"hubstop\",\"227\":\"who what why\",\"228\":\"coast logo\",\"229\":\"digital technology examples\",\"230\":\"marketing concept definition\",\"231\":\"what is a digital agency\",\"232\":\"marketing vs advertising\",\"233\":\"lucy definition\",\"234\":\"digital marketing services london\",\"235\":\"what is e marketing\",\"236\":\"digital marketing theory\",\"237\":\"digital marketing expert\",\"238\":\"social media marketing uk\",\"239\":\"marketing agency uk\",\"240\":\"online advertising agency\",\"241\":\"internet marketing services uk\",\"242\":\"coast website\",\"243\":\"www coast com\",\"244\":\"lucy alexander age\",\"245\":\"digital marketing strategies\",\"246\":\"what does a digital marketer do\",\"247\":\"types of digital media\",\"248\":\"marketing firms london\",\"249\":\"marketing media\",\"250\":\"top digital marketing companies\",\"251\":\"online marketing expert\",\"252\":\"digital content marketing\",\"253\":\"content marketing agency uk\",\"254\":\"digital companies london\",\"255\":\"define encompasses\",\"256\":\"digital media agency london\",\"257\":\"digital marketing industry\",\"258\":\"social media marketing services\",\"259\":\"what is flr\",\"260\":\"essex digital awards\",\"261\":\"get on with it meaning\",\"262\":\"marketing sector\",\"263\":\"w-hat\",\"264\":\"web marketing agency\",\"265\":\"what does comprised mean\",\"266\":\"social media marketing cost\",\"267\":\"what why\",\"268\":\"edigital research\",\"269\":\"is website up\",\"270\":\"social media marketing agency london\",\"271\":\"top digital agencies london\",\"272\":\"online campaign\",\"273\":\"define digital media\",\"274\":\"digital blog\",\"275\":\"internet marketing services\",\"276\":\"marketing essex\",\"277\":\"make it up to you meaning\",\"278\":\"digital london\",\"279\":\"understanding digital marketing\",\"280\":\"what is digital marketing strategy\",\"281\":\"social media marketing company\",\"282\":\"online definition\",\"283\":\"digital marketing websites\",\"284\":\"best digital\",\"285\":\"web design agency nottingham\",\"286\":\"market trends definition\",\"287\":\"best digital agencies london\",\"288\":\"what is digital content\",\"289\":\"online digital marketing\",\"290\":\"hupspot\",\"291\":\"social media marketing companies uk\",\"292\":\"climb marketing\",\"293\":\"full service digital agency\",\"294\":\"digital search\",\"295\":\"email marketing agency london\",\"296\":\"digital ad agency\",\"297\":\"marketing agencies uk\",\"298\":\"marketing agency ipswich\",\"299\":\"www.coast.co.uk\",\"300\":\"impressions marketing\",\"301\":\"digital does\",\"302\":\"marketing companies essex\",\"303\":\"digitalmarketing\",\"304\":\"best digital marketing agency\",\"305\":\"digital platform definition\",\"306\":\"w hat\",\"307\":\"digital marketing basics\",\"308\":\"digitales\",\"309\":\"search engine marketing agency\",\"310\":\"marketing companies in london\",\"311\":\"coast near london\",\"312\":\"digital marketer job description\",\"313\":\"digital marketing life cycle\",\"314\":\"seo and digital marketing\",\"315\":\"hubpot\",\"316\":\"digital marketing agency essex\",\"317\":\"marketing means\",\"318\":\"best internet marketing company\",\"319\":\"digital marketing implementation services\",\"320\":\"business to business definition\",\"321\":\"why digital marketing is important\",\"322\":\"top digital agencies uk\",\"323\":\"form digital\",\"324\":\"what is the marketing concept\",\"325\":\"social media marketing agency uk\",\"326\":\"digital marketing essex\",\"327\":\"internet marketing solutions\",\"328\":\"who what\",\"329\":\"london marketing agencies\",\"330\":\"digitsl\",\"331\":\"which-what\",\"332\":\"social media agencies london\",\"333\":\"digital media services uk ltd\",\"334\":\"digtal\",\"335\":\"online marketing definition\",\"336\":\"digital marketing business\",\"337\":\"social media marketing examples\",\"338\":\"digital agency reading\",\"339\":\"digital co uk\",\"340\":\"digital devices online\",\"341\":\"define digital technology\",\"342\":\"how to market a website\",\"343\":\"impressions digital marketing\",\"344\":\"search social media by email\",\"345\":\"digital marketing articles\",\"346\":\"full service marketing agency\",\"347\":\"media marketing\",\"348\":\"marketing agencies in london\",\"349\":\"market online\",\"350\":\"define increasing\",\"351\":\"marketing agency colchester\",\"352\":\"performance marketing agency\",\"353\":\"digital marketing activities\",\"354\":\"agency services\",\"355\":\"online services definition\",\"356\":\"digital media meaning\",\"357\":\"digital agency services\",\"358\":\"digital marketing firm\",\"359\":\"marketing information\",\"360\":\"description of a market\",\"361\":\"how to do online marketing\",\"362\":\"types of online marketing\",\"363\":\"digital.co.uk\",\"364\":\"examples of digital media\",\"365\":\"do you meaning\",\"366\":\"digital marketing agency reading\",\"367\":\"digital media companies london\",\"368\":\"www.coast\",\"369\":\"marketers or marketeers\",\"370\":\"uses of internet in business\",\"371\":\"internet marketing firm\",\"372\":\"it marketing\",\"373\":\"internet marketing bristol\",\"374\":\"online strategy\",\"375\":\"social media marketing companies london\",\"376\":\"how to find out if a company is still in business\",\"377\":\"what does entails mean\",\"378\":\"new digital media\",\"379\":\"digital media industry\",\"380\":\"social media marketing bristol\",\"381\":\"lucy online free\",\"382\":\"climbonline\",\"383\":\"digital results\",\"384\":\"digital def\",\"385\":\"internet marketing company uk\",\"386\":\"market details\",\"387\":\"understanding digital marketing: marketing strategies for engaging the digital generation\",\"388\":\"impression digital\",\"389\":\"what is a.\",\"390\":\"online marketing blog\",\"391\":\"creative agency essex\",\"392\":\"what is &\",\"393\":\"hubspor\",\"394\":\"work digital\",\"395\":\"online marketing firm\",\"396\":\"what is digital business\",\"397\":\"digital media company\",\"398\":\"areas of marketing\",\"399\":\"digital marketing strategist\",\"400\":\"digital marketing social media\",\"401\":\"digital marketing communication\",\"402\":\"digital advertising agency london\",\"403\":\"web design company nottingham\",\"404\":\"search marketing services\",\"405\":\"internet businesses\",\"406\":\"coast head office london\",\"407\":\"digital marketing methods\",\"408\":\"\\\\u0628\\\\u0627\\\\u0632\\\\u0627\\\\u0631\\\\u06cc\\\\u0627\\\\u0628\\\\u06cc\",\"409\":\"digital media products\",\"410\":\"marketing companys\",\"411\":\"introduction to digital marketing\",\"412\":\"like who what what what where\",\"413\":\"digital marketing images\",\"414\":\"elements of internet marketing\",\"415\":\"internet marketing seo\",\"416\":\"market definition example\",\"417\":\"online web marketing\",\"418\":\"digital define\",\"419\":\"digital sales\",\"420\":\"what is the who\",\"421\":\"how to become a digital marketer\",\"422\":\"best marketing agencies london\",\"423\":\"online marketing uk\",\"424\":\"fundamentals of digital marketing\",\"425\":\"what are digital channels\",\"426\":\"method digital\",\"427\":\"whats the use\",\"428\":\"online marketing campaign\",\"429\":\"best online marketing\",\"430\":\"marketing business definition\",\"431\":\"digitally meaning\",\"432\":\"encompasses means\",\"433\":\"online marketing news\",\"434\":\"digital media channels\",\"435\":\"see define\",\"436\":\"mobile marketing companies\",\"437\":\"coast media\",\"438\":\"digital marketing ipswich\",\"439\":\"one digitals reviews\",\"440\":\"marketing concept examples\",\"441\":\"hubspoy\",\"442\":\"digital transformation agency london\",\"443\":\"design agency colchester\",\"444\":\"digital marketing news uk\",\"445\":\"digital marketing terms\",\"446\":\"digital media manager\",\"447\":\"social media companies uk\",\"448\":\"examples of digital marketing\",\"449\":\"online marketing plan\",\"450\":\"define used to\",\"451\":\"can do meaning\",\"452\":\"web designers nottingham\",\"453\":\"meaning of digital\",\"454\":\"it digital\",\"455\":\"passion digital ltd\",\"456\":\"what is a media company\",\"457\":\"what is.a\",\"458\":\"market:\\\\/\\\\/details\",\"459\":\"what is a com\",\"460\":\"go digital reviews\",\"461\":\"marketing message definition\",\"462\":\"whats digital marketing\",\"463\":\"web designer nottingham\",\"464\":\"which and what\",\"465\":\"who\\'s online\",\"466\":\"digital marketing technology\",\"467\":\"online marketing channels\",\"468\":\"internet marketing business\",\"469\":\"didgital\",\"470\":\"internet channels\",\"471\":\"digital advertising companies\",\"472\":\"definition of digital media\",\"473\":\"essex traffic twitter\",\"474\":\"digital marketers\",\"475\":\"internet description\",\"476\":\"detail online\",\"477\":\"digital marketing for financial services\",\"478\":\"digital marketing colchester\",\"479\":\"digital world meaning\",\"480\":\"london digital marketing\",\"481\":\"digital marketing experts\",\"482\":\"internet marketing london\",\"483\":\"small world marketing\",\"484\":\"clim online\",\"485\":\"blog internet marketing\",\"486\":\"what is a \\'\",\"487\":\"the who website\",\"488\":\"market description\",\"489\":\"digitial\",\"490\":\"now digital\",\"491\":\"space marketing\",\"492\":\"digital 1\",\"493\":\"how of\",\"494\":\"online marketer\",\"495\":\"online marketing solutions\",\"496\":\"the search marketing shop\",\"497\":\"dogital\",\"498\":\"marketing channels examples\",\"499\":\"biddable media definition\",\"500\":\"what will be will be meaning\",\"501\":\"information marketing\",\"502\":\"digital means\",\"503\":\"define increased\",\"504\":\"direct and digital marketing\",\"505\":\"the digital\",\"506\":\"market sector definition\",\"507\":\"digital marketing communications\",\"508\":\"full-service\",\"509\":\"what does .com\",\"510\":\"media and marketing\",\"511\":\"digital online\",\"512\":\"social media marketing companies for small business\",\"513\":\"interactive media examples\",\"514\":\"b2b digital marketing agency\",\"515\":\"social media and digital marketing\",\"516\":\"go umbrella time online\",\"517\":\"ccoast\",\"518\":\"social media agency bristol\",\"519\":\"internet marketing companies\",\"520\":\"service definition business\",\"521\":\"media industry definition\",\"522\":\"business market definition\",\"523\":\"coast to coast ipswich menu\",\"524\":\"coast digital colchester\",\"525\":\"digital agencies uk\",\"526\":\"digital space definition\",\"527\":\"like who who what what where\",\"528\":\"internet marketing strategy\",\"529\":\"define: business\",\"530\":\"online service definition\",\"531\":\"website marketing strategy\",\"532\":\"content marketing agencies london\",\"533\":\"digital media advertising\",\"534\":\"digital media agencies\",\"535\":\"full personal service\",\"536\":\"sales and marketing companies\",\"537\":\"digial\",\"538\":\"the help agency\",\"539\":\"coast agency\",\"540\":\"digital agency essex\",\"541\":\"what does encompasses mean\",\"542\":\"digital marketing what is it\",\"543\":\"what does market mean\",\"544\":\"web development nottingham\",\"545\":\"new media marketing\",\"546\":\"be website\",\"547\":\"website marketing company\",\"548\":\"digitla\",\"549\":\"digital seo.net\",\"550\":\"integrated marketing agency london\",\"551\":\"constitutes define\",\"552\":\"uk agency services\",\"553\":\"define consist\",\"554\":\"marketing company uk\",\"555\":\"worldofdigital\",\"556\":\"digtial\",\"557\":\"marketing a service\",\"558\":\"top marketing firms uk\",\"559\":\"digital marketing company london\",\"560\":\"digital media blog\",\"561\":\"market business definition\",\"562\":\"network marketing company\",\"563\":\"essex digital media\",\"564\":\"marketing world\",\"565\":\"what digital\",\"566\":\"define wat\",\"567\":\"what is this \\'\",\"568\":\"digital marketing services uk\",\"569\":\"why digital media\",\"570\":\"internet marketing uk\",\"571\":\"the who net\",\"572\":\"what is all about\",\"573\":\"marketing agency in london\",\"574\":\"digital channels definition\",\"575\":\"internet marketing expert\",\"576\":\"best digital market\",\"577\":\"marketing service\",\"578\":\"best digital marketing blogs\",\"579\":\"top uk digital agencies\",\"580\":\"define marketing concept\",\"581\":\"new digital business\",\"582\":\"digital marketing consulting services\",\"583\":\"digital media sales\",\"584\":\"digital work\",\"585\":\"solution marketing nottingham\",\"586\":\"digital marketing resources\",\"587\":\"what is digital media marketing\",\"588\":\"absolute pr and marketing\",\"589\":\"define e marketing\",\"590\":\"define the media\",\"591\":\"internet marketing experts\",\"592\":\"digital marketing sales\",\"593\":\"digital marketing agency services\",\"594\":\"service marketing strategy\",\"595\":\"paid market research nottingham\",\"596\":\"digital marketing show\",\"597\":\"results through digital\",\"598\":\"star digital marketing services\",\"599\":\"marketing services business\",\"600\":\"digital marketing professional services\",\"601\":\"marketing services company\",\"602\":\"digital marketing company new york\",\"603\":\"uk online marketing services\",\"604\":\"how to market b2b services\",\"605\":\"digital marketing company nyc\",\"606\":\"providing marketing services\",\"607\":\"marketin services\",\"608\":\"marketing service strategies\",\"609\":\"best online marketing services\",\"610\":\"star digital marketing services ltd\",\"611\":\"digital marketing financial services\",\"612\":\"financial services digital marketing\",\"613\":\"selling marketing services\",\"614\":\"phone marketing services\",\"615\":\"digital marketing service\",\"616\":\"virtual snipers digital marketing services\",\"617\":\"financial services digital marketing trends\",\"618\":\"sales marketing and service\",\"619\":\"digital marketing services india\",\"620\":\"gannett digital marketing services\",\"621\":\"digital marketing for financial services summit\",\"622\":\"how to sell digital marketing services\",\"623\":\"select marketing services\",\"624\":\"digital marketing strategy services\",\"625\":\"online marketing services uk\",\"626\":\"marketing sevices\",\"627\":\"marketing services strategies\",\"628\":\"digital marketing services birmingham al\",\"629\":\"website traffic marketing services\",\"630\":\"marketing services agency\",\"631\":\"marketing of it services\",\"632\":\"marketing in it services\",\"633\":\"selling digital marketing services\",\"634\":\"marketing services network\",\"635\":\"campaign marketing services\",\"636\":\"digital marketing trends in financial services\",\"637\":\"digital marketing services reading\",\"638\":\"digital marketing services bristol\",\"639\":\"financial services digital marketing agency\",\"640\":\"digital marketing automation services\",\"641\":\"digital marketing services list\",\"642\":\"digital marketing in financial services\",\"643\":\"who needs digital marketing\",\"644\":\"rv digital marketing services\",\"645\":\"buy digital marketing services\",\"646\":\"how much to charge for digital marketing\",\"647\":\"digital marketing services for small business\",\"648\":\"digital services marketing\",\"649\":\"how to pitch digital marketing services\",\"650\":\"digital marketing services pricing\",\"651\":\"altitude internet digital marketing services limited\",\"652\":\"\",\"653\":\"\",\"654\":\"\",\"655\":\"\",\"656\":\"\",\"657\":\"\",\"658\":\"\",\"659\":\"\",\"660\":\"\",\"661\":\"\",\"662\":\"\",\"663\":\"\",\"664\":\"\",\"665\":\"\",\"666\":\"\",\"667\":\"\",\"668\":\"\",\"669\":\"\",\"670\":\"\",\"671\":\"\",\"672\":\"\",\"673\":\"\",\"674\":\"\",\"675\":\"\",\"676\":\"\",\"677\":\"\",\"678\":\"\",\"679\":\"\",\"680\":\"\",\"681\":\"\",\"682\":\"\",\"683\":\"\",\"684\":\"\",\"685\":\"\",\"686\":\"\",\"687\":\"\",\"688\":\"\",\"689\":\"\",\"690\":\"\",\"691\":\"\",\"692\":\"\",\"693\":\"\",\"694\":\"\",\"695\":\"\",\"696\":\"\",\"697\":\"\",\"698\":\"\",\"699\":\"\",\"700\":\"\",\"701\":\"\",\"702\":\"\",\"703\":\"\",\"704\":\"\",\"705\":\"\",\"706\":\"\",\"707\":\"\",\"708\":\"\",\"709\":\"\",\"710\":\"\",\"711\":\"\",\"712\":\"\",\"713\":\"\",\"714\":\"\",\"715\":\"\",\"716\":\"\",\"717\":\"\",\"718\":\"\",\"719\":\"\",\"720\":\"\",\"721\":\"\",\"722\":\"\",\"723\":\"\",\"724\":\"\",\"725\":\"\",\"726\":\"\",\"727\":\"\",\"728\":\"\",\"729\":\"\",\"730\":\"\",\"731\":\"\",\"732\":\"\",\"733\":\"\",\"734\":\"\",\"735\":\"\",\"736\":\"\",\"737\":\"\",\"738\":\"\",\"739\":\"\",\"740\":\"\",\"741\":\"\",\"742\":\"\",\"743\":\"\",\"744\":\"\",\"745\":\"\",\"746\":\"\",\"747\":\"\",\"748\":\"\",\"749\":\"\",\"750\":\"\",\"751\":\"\",\"752\":\"\",\"753\":\"\",\"754\":\"\",\"755\":\"\",\"756\":\"\",\"757\":\"\",\"758\":\"\",\"759\":\"\",\"760\":\"\",\"761\":\"\",\"762\":\"\",\"763\":\"\",\"764\":\"\",\"765\":\"\",\"766\":\"\",\"767\":\"\",\"768\":\"\",\"769\":\"\",\"770\":\"\",\"771\":\"\",\"772\":\"\",\"773\":\"\",\"774\":\"\",\"775\":\"\",\"776\":\"\",\"777\":\"\",\"778\":\"\",\"779\":\"\",\"780\":\"\",\"781\":\"\",\"782\":\"\",\"783\":\"\",\"784\":\"\",\"785\":\"\",\"786\":\"\",\"787\":\"\",\"788\":\"\",\"789\":\"\",\"790\":\"\",\"791\":\"\",\"792\":\"\",\"793\":\"\",\"794\":\"\",\"795\":\"\",\"796\":\"\",\"797\":\"\",\"798\":\"\",\"799\":\"\",\"800\":\"\",\"801\":\"\",\"802\":\"\",\"803\":\"\",\"804\":\"\",\"805\":\"\",\"806\":\"\",\"807\":\"\",\"808\":\"\",\"809\":\"\",\"810\":\"\",\"811\":\"\",\"812\":\"\",\"813\":\"\",\"814\":\"\",\"815\":\"\",\"816\":\"\",\"817\":\"\",\"818\":\"\",\"819\":\"\",\"820\":\"\",\"821\":\"\",\"822\":\"\",\"823\":\"\",\"824\":\"\",\"825\":\"\",\"826\":\"\",\"827\":\"\",\"828\":\"\",\"829\":\"\",\"830\":\"\",\"831\":\"\",\"832\":\"\",\"833\":\"\",\"834\":\"\",\"835\":\"\",\"836\":\"\",\"837\":\"\",\"838\":\"\",\"839\":\"\",\"840\":\"\",\"841\":\"\",\"842\":\"\",\"843\":\"\",\"844\":\"\",\"845\":\"\",\"846\":\"\",\"847\":\"\",\"848\":\"\",\"849\":\"\",\"850\":\"\",\"851\":\"\",\"852\":\"\",\"853\":\"\",\"854\":\"\",\"855\":\"\",\"856\":\"\",\"857\":\"\",\"858\":\"\",\"859\":\"\",\"860\":\"\",\"861\":\"\",\"862\":\"\",\"863\":\"\",\"864\":\"\",\"865\":\"\",\"866\":\"\",\"867\":\"\",\"868\":\"\",\"869\":\"\",\"870\":\"\",\"871\":\"\",\"872\":\"\",\"873\":\"\",\"874\":\"\",\"875\":\"\",\"876\":\"\",\"877\":\"\",\"878\":\"\",\"879\":\"\",\"880\":\"\",\"881\":\"\",\"882\":\"\",\"883\":\"\",\"884\":\"\",\"885\":\"\",\"886\":\"\",\"887\":\"\",\"888\":\"\",\"889\":\"\",\"890\":\"\",\"891\":\"\",\"892\":\"\",\"893\":\"\",\"894\":\"\",\"895\":\"\",\"896\":\"\",\"897\":\"\",\"898\":\"\",\"899\":\"\",\"900\":\"\",\"901\":\"\",\"902\":\"\",\"903\":\"\",\"904\":\"\",\"905\":\"\",\"906\":\"\",\"907\":\"\",\"908\":\"\",\"909\":\"\",\"910\":\"\",\"911\":\"\",\"912\":\"\",\"913\":\"\",\"914\":\"\",\"915\":\"\",\"916\":\"\",\"917\":\"\",\"918\":\"\",\"919\":\"\",\"920\":\"\",\"921\":\"\",\"922\":\"\",\"923\":\"\",\"924\":\"\",\"925\":\"\",\"926\":\"\",\"927\":\"\",\"928\":\"\",\"929\":\"\",\"930\":\"\",\"931\":\"\",\"932\":\"\",\"933\":\"\",\"934\":\"\",\"935\":\"\",\"936\":\"\",\"937\":\"\",\"938\":\"\",\"939\":\"\",\"940\":\"\",\"941\":\"\",\"942\":\"\",\"943\":\"\",\"944\":\"\",\"945\":\"\",\"946\":\"\",\"947\":\"\",\"948\":\"\",\"949\":\"\",\"950\":\"\",\"951\":\"\",\"952\":\"\",\"953\":\"\",\"954\":\"\",\"955\":\"\",\"956\":\"\",\"957\":\"\",\"958\":\"\",\"959\":\"\",\"960\":\"\",\"961\":\"\",\"962\":\"\",\"963\":\"\",\"964\":\"\",\"965\":\"\",\"966\":\"\",\"967\":\"\",\"968\":\"\",\"969\":\"\",\"970\":\"\",\"971\":\"\",\"972\":\"\",\"973\":\"\",\"974\":\"\",\"975\":\"\",\"976\":\"\",\"977\":\"\",\"978\":\"\",\"979\":\"\",\"980\":\"\",\"981\":\"\",\"982\":\"\",\"983\":\"\",\"984\":\"\",\"985\":\"\",\"986\":\"\",\"987\":\"\"},\"Country\":{\"0\":\"gb\",\"1\":\"gb\",\"2\":\"Test\",\"3\":\"gb\",\"4\":\"gb\",\"5\":\"gb\",\"6\":\"gb\",\"7\":\"gb\",\"8\":\"gb\",\"9\":\"gb\",\"10\":\"gb\",\"11\":\"gb\",\"12\":\"gb\",\"13\":\"gb\",\"14\":\"gb\",\"15\":\"gb\",\"16\":\"gb\",\"17\":\"gb\",\"18\":\"gb\",\"19\":\"gb\",\"20\":\"gb\",\"21\":\"gb\",\"22\":\"gb\",\"23\":\"gb\",\"24\":\"gb\",\"25\":\"gb\",\"26\":\"gb\",\"27\":\"gb\",\"28\":\"gb\",\"29\":\"gb\",\"30\":\"gb\",\"31\":\"gb\",\"32\":\"gb\",\"33\":\"gb\",\"34\":\"gb\",\"35\":\"gb\",\"36\":\"gb\",\"37\":\"gb\",\"38\":\"gb\",\"39\":\"gb\",\"40\":\"gb\",\"41\":\"gb\",\"42\":\"gb\",\"43\":\"gb\",\"44\":\"gb\",\"45\":\"gb\",\"46\":\"gb\",\"47\":\"gb\",\"48\":\"gb\",\"49\":\"gb\",\"50\":\"gb\",\"51\":\"gb\",\"52\":\"gb\",\"53\":\"gb\",\"54\":\"gb\",\"55\":\"gb\",\"56\":\"gb\",\"57\":\"gb\",\"58\":\"gb\",\"59\":\"gb\",\"60\":\"gb\",\"61\":\"gb\",\"62\":\"gb\",\"63\":\"gb\",\"64\":\"gb\",\"65\":\"gb\",\"66\":\"gb\",\"67\":\"gb\",\"68\":\"gb\",\"69\":\"gb\",\"70\":\"gb\",\"71\":\"gb\",\"72\":\"gb\",\"73\":\"gb\",\"74\":\"gb\",\"75\":\"gb\",\"76\":\"gb\",\"77\":\"gb\",\"78\":\"gb\",\"79\":\"gb\",\"80\":\"gb\",\"81\":\"gb\",\"82\":\"gb\",\"83\":\"gb\",\"84\":\"gb\",\"85\":\"gb\",\"86\":\"gb\",\"87\":\"gb\",\"88\":\"gb\",\"89\":\"gb\",\"90\":\"gb\",\"91\":\"gb\",\"92\":\"gb\",\"93\":\"gb\",\"94\":\"gb\",\"95\":\"gb\",\"96\":\"gb\",\"97\":\"gb\",\"98\":\"gb\",\"99\":\"gb\",\"100\":\"gb\",\"101\":\"gb\",\"102\":\"gb\",\"103\":\"gb\",\"104\":\"gb\",\"105\":\"gb\",\"106\":\"gb\",\"107\":\"gb\",\"108\":\"gb\",\"109\":\"gb\",\"110\":\"gb\",\"111\":\"gb\",\"112\":\"gb\",\"113\":\"gb\",\"114\":\"gb\",\"115\":\"gb\",\"116\":\"gb\",\"117\":\"gb\",\"118\":\"gb\",\"119\":\"gb\",\"120\":\"gb\",\"121\":\"gb\",\"122\":\"gb\",\"123\":\"gb\",\"124\":\"gb\",\"125\":\"gb\",\"126\":\"gb\",\"127\":\"gb\",\"128\":\"gb\",\"129\":\"gb\",\"130\":\"gb\",\"131\":\"gb\",\"132\":\"gb\",\"133\":\"gb\",\"134\":\"gb\",\"135\":\"gb\",\"136\":\"gb\",\"137\":\"gb\",\"138\":\"gb\",\"139\":\"gb\",\"140\":\"gb\",\"141\":\"gb\",\"142\":\"gb\",\"143\":\"gb\",\"144\":\"gb\",\"145\":\"gb\",\"146\":\"gb\",\"147\":\"gb\",\"148\":\"gb\",\"149\":\"gb\",\"150\":\"gb\",\"151\":\"gb\",\"152\":\"gb\",\"153\":\"gb\",\"154\":\"gb\",\"155\":\"gb\",\"156\":\"gb\",\"157\":\"gb\",\"158\":\"gb\",\"159\":\"gb\",\"160\":\"gb\",\"161\":\"gb\",\"162\":\"gb\",\"163\":\"gb\",\"164\":\"gb\",\"165\":\"gb\",\"166\":\"gb\",\"167\":\"gb\",\"168\":\"gb\",\"169\":\"gb\",\"170\":\"gb\",\"171\":\"gb\",\"172\":\"gb\",\"173\":\"gb\",\"174\":\"gb\",\"175\":\"gb\",\"176\":\"gb\",\"177\":\"gb\",\"178\":\"gb\",\"179\":\"gb\",\"180\":\"gb\",\"181\":\"gb\",\"182\":\"gb\",\"183\":\"gb\",\"184\":\"gb\",\"185\":\"gb\",\"186\":\"gb\",\"187\":\"gb\",\"188\":\"gb\",\"189\":\"gb\",\"190\":\"gb\",\"191\":\"gb\",\"192\":\"gb\",\"193\":\"gb\",\"194\":\"gb\",\"195\":\"gb\",\"196\":\"gb\",\"197\":\"gb\",\"198\":\"gb\",\"199\":\"gb\",\"200\":\"gb\",\"201\":\"gb\",\"202\":\"gb\",\"203\":\"gb\",\"204\":\"gb\",\"205\":\"gb\",\"206\":\"gb\",\"207\":\"gb\",\"208\":\"gb\",\"209\":\"gb\",\"210\":\"gb\",\"211\":\"gb\",\"212\":\"gb\",\"213\":\"gb\",\"214\":\"gb\",\"215\":\"gb\",\"216\":\"gb\",\"217\":\"gb\",\"218\":\"gb\",\"219\":\"gb\",\"220\":\"gb\",\"221\":\"gb\",\"222\":\"gb\",\"223\":\"gb\",\"224\":\"gb\",\"225\":\"gb\",\"226\":\"gb\",\"227\":\"gb\",\"228\":\"gb\",\"229\":\"gb\",\"230\":\"gb\",\"231\":\"gb\",\"232\":\"gb\",\"233\":\"gb\",\"234\":\"gb\",\"235\":\"gb\",\"236\":\"gb\",\"237\":\"gb\",\"238\":\"gb\",\"239\":\"gb\",\"240\":\"gb\",\"241\":\"gb\",\"242\":\"gb\",\"243\":\"gb\",\"244\":\"gb\",\"245\":\"gb\",\"246\":\"gb\",\"247\":\"gb\",\"248\":\"gb\",\"249\":\"gb\",\"250\":\"gb\",\"251\":\"gb\",\"252\":\"gb\",\"253\":\"gb\",\"254\":\"gb\",\"255\":\"gb\",\"256\":\"gb\",\"257\":\"gb\",\"258\":\"gb\",\"259\":\"gb\",\"260\":\"gb\",\"261\":\"gb\",\"262\":\"gb\",\"263\":\"gb\",\"264\":\"gb\",\"265\":\"gb\",\"266\":\"gb\",\"267\":\"gb\",\"268\":\"gb\",\"269\":\"gb\",\"270\":\"gb\",\"271\":\"gb\",\"272\":\"gb\",\"273\":\"gb\",\"274\":\"gb\",\"275\":\"gb\",\"276\":\"gb\",\"277\":\"gb\",\"278\":\"gb\",\"279\":\"gb\",\"280\":\"gb\",\"281\":\"gb\",\"282\":\"gb\",\"283\":\"gb\",\"284\":\"gb\",\"285\":\"gb\",\"286\":\"gb\",\"287\":\"gb\",\"288\":\"gb\",\"289\":\"gb\",\"290\":\"gb\",\"291\":\"gb\",\"292\":\"gb\",\"293\":\"gb\",\"294\":\"gb\",\"295\":\"gb\",\"296\":\"gb\",\"297\":\"gb\",\"298\":\"gb\",\"299\":\"gb\",\"300\":\"gb\",\"301\":\"gb\",\"302\":\"gb\",\"303\":\"gb\",\"304\":\"gb\",\"305\":\"gb\",\"306\":\"gb\",\"307\":\"gb\",\"308\":\"gb\",\"309\":\"gb\",\"310\":\"gb\",\"311\":\"gb\",\"312\":\"gb\",\"313\":\"gb\",\"314\":\"gb\",\"315\":\"gb\",\"316\":\"gb\",\"317\":\"gb\",\"318\":\"gb\",\"319\":\"gb\",\"320\":\"gb\",\"321\":\"gb\",\"322\":\"gb\",\"323\":\"gb\",\"324\":\"gb\",\"325\":\"gb\",\"326\":\"gb\",\"327\":\"gb\",\"328\":\"gb\",\"329\":\"gb\",\"330\":\"gb\",\"331\":\"gb\",\"332\":\"gb\",\"333\":\"gb\",\"334\":\"gb\",\"335\":\"gb\",\"336\":\"gb\",\"337\":\"gb\",\"338\":\"gb\",\"339\":\"gb\",\"340\":\"gb\",\"341\":\"gb\",\"342\":\"gb\",\"343\":\"gb\",\"344\":\"gb\",\"345\":\"gb\",\"346\":\"gb\",\"347\":\"gb\",\"348\":\"gb\",\"349\":\"gb\",\"350\":\"gb\",\"351\":\"gb\",\"352\":\"gb\",\"353\":\"gb\",\"354\":\"gb\",\"355\":\"gb\",\"356\":\"gb\",\"357\":\"gb\",\"358\":\"gb\",\"359\":\"gb\",\"360\":\"gb\",\"361\":\"gb\",\"362\":\"gb\",\"363\":\"gb\",\"364\":\"gb\",\"365\":\"gb\",\"366\":\"gb\",\"367\":\"gb\",\"368\":\"gb\",\"369\":\"gb\",\"370\":\"gb\",\"371\":\"gb\",\"372\":\"gb\",\"373\":\"gb\",\"374\":\"gb\",\"375\":\"gb\",\"376\":\"gb\",\"377\":\"gb\",\"378\":\"gb\",\"379\":\"gb\",\"380\":\"gb\",\"381\":\"gb\",\"382\":\"gb\",\"383\":\"gb\",\"384\":\"gb\",\"385\":\"gb\",\"386\":\"gb\",\"387\":\"gb\",\"388\":\"gb\",\"389\":\"gb\",\"390\":\"gb\",\"391\":\"gb\",\"392\":\"gb\",\"393\":\"gb\",\"394\":\"gb\",\"395\":\"gb\",\"396\":\"gb\",\"397\":\"gb\",\"398\":\"gb\",\"399\":\"gb\",\"400\":\"gb\",\"401\":\"gb\",\"402\":\"gb\",\"403\":\"gb\",\"404\":\"gb\",\"405\":\"gb\",\"406\":\"gb\",\"407\":\"gb\",\"408\":\"gb\",\"409\":\"gb\",\"410\":\"gb\",\"411\":\"gb\",\"412\":\"gb\",\"413\":\"gb\",\"414\":\"gb\",\"415\":\"gb\",\"416\":\"gb\",\"417\":\"gb\",\"418\":\"gb\",\"419\":\"gb\",\"420\":\"gb\",\"421\":\"gb\",\"422\":\"gb\",\"423\":\"gb\",\"424\":\"gb\",\"425\":\"gb\",\"426\":\"gb\",\"427\":\"gb\",\"428\":\"gb\",\"429\":\"gb\",\"430\":\"gb\",\"431\":\"gb\",\"432\":\"gb\",\"433\":\"gb\",\"434\":\"gb\",\"435\":\"gb\",\"436\":\"gb\",\"437\":\"gb\",\"438\":\"gb\",\"439\":\"gb\",\"440\":\"gb\",\"441\":\"gb\",\"442\":\"gb\",\"443\":\"gb\",\"444\":\"gb\",\"445\":\"gb\",\"446\":\"gb\",\"447\":\"gb\",\"448\":\"gb\",\"449\":\"gb\",\"450\":\"gb\",\"451\":\"gb\",\"452\":\"gb\",\"453\":\"gb\",\"454\":\"gb\",\"455\":\"gb\",\"456\":\"gb\",\"457\":\"gb\",\"458\":\"gb\",\"459\":\"gb\",\"460\":\"gb\",\"461\":\"gb\",\"462\":\"gb\",\"463\":\"gb\",\"464\":\"gb\",\"465\":\"gb\",\"466\":\"gb\",\"467\":\"gb\",\"468\":\"gb\",\"469\":\"gb\",\"470\":\"gb\",\"471\":\"gb\",\"472\":\"gb\",\"473\":\"gb\",\"474\":\"gb\",\"475\":\"gb\",\"476\":\"gb\",\"477\":\"gb\",\"478\":\"gb\",\"479\":\"gb\",\"480\":\"gb\",\"481\":\"gb\",\"482\":\"gb\",\"483\":\"gb\",\"484\":\"gb\",\"485\":\"gb\",\"486\":\"gb\",\"487\":\"gb\",\"488\":\"gb\",\"489\":\"gb\",\"490\":\"gb\",\"491\":\"gb\",\"492\":\"gb\",\"493\":\"gb\",\"494\":\"gb\",\"495\":\"gb\",\"496\":\"gb\",\"497\":\"gb\",\"498\":\"gb\",\"499\":\"gb\",\"500\":\"gb\",\"501\":\"gb\",\"502\":\"gb\",\"503\":\"gb\",\"504\":\"gb\",\"505\":\"gb\",\"506\":\"gb\",\"507\":\"gb\",\"508\":\"gb\",\"509\":\"gb\",\"510\":\"gb\",\"511\":\"gb\",\"512\":\"gb\",\"513\":\"gb\",\"514\":\"gb\",\"515\":\"gb\",\"516\":\"gb\",\"517\":\"gb\",\"518\":\"gb\",\"519\":\"gb\",\"520\":\"gb\",\"521\":\"gb\",\"522\":\"gb\",\"523\":\"gb\",\"524\":\"gb\",\"525\":\"gb\",\"526\":\"gb\",\"527\":\"gb\",\"528\":\"gb\",\"529\":\"gb\",\"530\":\"gb\",\"531\":\"gb\",\"532\":\"gb\",\"533\":\"gb\",\"534\":\"gb\",\"535\":\"gb\",\"536\":\"gb\",\"537\":\"gb\",\"538\":\"gb\",\"539\":\"gb\",\"540\":\"gb\",\"541\":\"gb\",\"542\":\"gb\",\"543\":\"gb\",\"544\":\"gb\",\"545\":\"gb\",\"546\":\"gb\",\"547\":\"gb\",\"548\":\"gb\",\"549\":\"gb\",\"550\":\"gb\",\"551\":\"gb\",\"552\":\"gb\",\"553\":\"gb\",\"554\":\"gb\",\"555\":\"gb\",\"556\":\"gb\",\"557\":\"gb\",\"558\":\"gb\",\"559\":\"gb\",\"560\":\"gb\",\"561\":\"gb\",\"562\":\"gb\",\"563\":\"gb\",\"564\":\"gb\",\"565\":\"gb\",\"566\":\"gb\",\"567\":\"gb\",\"568\":\"gb\",\"569\":\"gb\",\"570\":\"gb\",\"571\":\"gb\",\"572\":\"gb\",\"573\":\"gb\",\"574\":\"gb\",\"575\":\"gb\",\"576\":\"gb\",\"577\":\"gb\",\"578\":\"gb\",\"579\":\"gb\",\"580\":\"gb\",\"581\":\"gb\",\"582\":\"gb\",\"583\":\"gb\",\"584\":\"gb\",\"585\":\"gb\",\"586\":\"gb\",\"587\":\"gb\",\"588\":\"gb\",\"589\":\"gb\",\"590\":\"gb\",\"591\":\"gb\",\"592\":\"gb\",\"593\":\"gb\",\"594\":\"gb\",\"595\":\"gb\",\"596\":\"gb\",\"597\":\"gb\",\"598\":\"gb\",\"599\":\"gb\",\"600\":\"gb\",\"601\":\"gb\",\"602\":\"gb\",\"603\":\"gb\",\"604\":\"gb\",\"605\":\"gb\",\"606\":\"gb\",\"607\":\"gb\",\"608\":\"gb\",\"609\":\"gb\",\"610\":\"gb\",\"611\":\"gb\",\"612\":\"gb\",\"613\":\"gb\",\"614\":\"gb\",\"615\":\"gb\",\"616\":\"gb\",\"617\":\"gb\",\"618\":\"gb\",\"619\":\"gb\",\"620\":\"gb\",\"621\":\"gb\",\"622\":\"gb\",\"623\":\"gb\",\"624\":\"gb\",\"625\":\"gb\",\"626\":\"gb\",\"627\":\"gb\",\"628\":\"gb\",\"629\":\"gb\",\"630\":\"gb\",\"631\":\"gb\",\"632\":\"gb\",\"633\":\"gb\",\"634\":\"gb\",\"635\":\"gb\",\"636\":\"gb\",\"637\":\"gb\",\"638\":\"gb\",\"639\":\"gb\",\"640\":\"gb\",\"641\":\"gb\",\"642\":\"gb\",\"643\":\"gb\",\"644\":\"gb\",\"645\":\"gb\",\"646\":\"gb\",\"647\":\"gb\",\"648\":\"gb\",\"649\":\"gb\",\"650\":\"gb\",\"651\":\"gb\",\"652\":\"\",\"653\":\"\",\"654\":\"\",\"655\":\"\",\"656\":\"\",\"657\":\"\",\"658\":\"\",\"659\":\"\",\"660\":\"\",\"661\":\"\",\"662\":\"\",\"663\":\"\",\"664\":\"\",\"665\":\"\",\"666\":\"\",\"667\":\"\",\"668\":\"\",\"669\":\"\",\"670\":\"\",\"671\":\"\",\"672\":\"\",\"673\":\"\",\"674\":\"\",\"675\":\"\",\"676\":\"\",\"677\":\"\",\"678\":\"\",\"679\":\"\",\"680\":\"\",\"681\":\"\",\"682\":\"\",\"683\":\"\",\"684\":\"\",\"685\":\"\",\"686\":\"\",\"687\":\"\",\"688\":\"\",\"689\":\"\",\"690\":\"\",\"691\":\"\",\"692\":\"\",\"693\":\"\",\"694\":\"\",\"695\":\"\",\"696\":\"\",\"697\":\"\",\"698\":\"\",\"699\":\"\",\"700\":\"\",\"701\":\"\",\"702\":\"\",\"703\":\"\",\"704\":\"\",\"705\":\"\",\"706\":\"\",\"707\":\"\",\"708\":\"\",\"709\":\"\",\"710\":\"\",\"711\":\"\",\"712\":\"\",\"713\":\"\",\"714\":\"\",\"715\":\"\",\"716\":\"\",\"717\":\"\",\"718\":\"\",\"719\":\"\",\"720\":\"\",\"721\":\"\",\"722\":\"\",\"723\":\"\",\"724\":\"\",\"725\":\"\",\"726\":\"\",\"727\":\"\",\"728\":\"\",\"729\":\"\",\"730\":\"\",\"731\":\"\",\"732\":\"\",\"733\":\"\",\"734\":\"\",\"735\":\"\",\"736\":\"\",\"737\":\"\",\"738\":\"\",\"739\":\"\",\"740\":\"\",\"741\":\"\",\"742\":\"\",\"743\":\"\",\"744\":\"\",\"745\":\"\",\"746\":\"\",\"747\":\"\",\"748\":\"\",\"749\":\"\",\"750\":\"\",\"751\":\"\",\"752\":\"\",\"753\":\"\",\"754\":\"\",\"755\":\"\",\"756\":\"\",\"757\":\"\",\"758\":\"\",\"759\":\"\",\"760\":\"\",\"761\":\"\",\"762\":\"\",\"763\":\"\",\"764\":\"\",\"765\":\"\",\"766\":\"\",\"767\":\"\",\"768\":\"\",\"769\":\"\",\"770\":\"\",\"771\":\"\",\"772\":\"\",\"773\":\"\",\"774\":\"\",\"775\":\"\",\"776\":\"\",\"777\":\"\",\"778\":\"\",\"779\":\"\",\"780\":\"\",\"781\":\"\",\"782\":\"\",\"783\":\"\",\"784\":\"\",\"785\":\"\",\"786\":\"\",\"787\":\"\",\"788\":\"\",\"789\":\"\",\"790\":\"\",\"791\":\"\",\"792\":\"\",\"793\":\"\",\"794\":\"\",\"795\":\"\",\"796\":\"\",\"797\":\"\",\"798\":\"\",\"799\":\"\",\"800\":\"\",\"801\":\"\",\"802\":\"\",\"803\":\"\",\"804\":\"\",\"805\":\"\",\"806\":\"\",\"807\":\"\",\"808\":\"\",\"809\":\"\",\"810\":\"\",\"811\":\"\",\"812\":\"\",\"813\":\"\",\"814\":\"\",\"815\":\"\",\"816\":\"\",\"817\":\"\",\"818\":\"\",\"819\":\"\",\"820\":\"\",\"821\":\"\",\"822\":\"\",\"823\":\"\",\"824\":\"\",\"825\":\"\",\"826\":\"\",\"827\":\"\",\"828\":\"\",\"829\":\"\",\"830\":\"\",\"831\":\"\",\"832\":\"\",\"833\":\"\",\"834\":\"\",\"835\":\"\",\"836\":\"\",\"837\":\"\",\"838\":\"\",\"839\":\"\",\"840\":\"\",\"841\":\"\",\"842\":\"\",\"843\":\"\",\"844\":\"\",\"845\":\"\",\"846\":\"\",\"847\":\"\",\"848\":\"\",\"849\":\"\",\"850\":\"\",\"851\":\"\",\"852\":\"\",\"853\":\"\",\"854\":\"\",\"855\":\"\",\"856\":\"\",\"857\":\"\",\"858\":\"\",\"859\":\"\",\"860\":\"\",\"861\":\"\",\"862\":\"\",\"863\":\"\",\"864\":\"\",\"865\":\"\",\"866\":\"\",\"867\":\"\",\"868\":\"\",\"869\":\"\",\"870\":\"\",\"871\":\"\",\"872\":\"\",\"873\":\"\",\"874\":\"\",\"875\":\"\",\"876\":\"\",\"877\":\"\",\"878\":\"\",\"879\":\"\",\"880\":\"\",\"881\":\"\",\"882\":\"\",\"883\":\"\",\"884\":\"\",\"885\":\"\",\"886\":\"\",\"887\":\"\",\"888\":\"\",\"889\":\"\",\"890\":\"\",\"891\":\"\",\"892\":\"\",\"893\":\"\",\"894\":\"\",\"895\":\"\",\"896\":\"\",\"897\":\"\",\"898\":\"\",\"899\":\"\",\"900\":\"\",\"901\":\"\",\"902\":\"\",\"903\":\"\",\"904\":\"\",\"905\":\"\",\"906\":\"\",\"907\":\"\",\"908\":\"\",\"909\":\"\",\"910\":\"\",\"911\":\"\",\"912\":\"\",\"913\":\"\",\"914\":\"\",\"915\":\"\",\"916\":\"\",\"917\":\"\",\"918\":\"\",\"919\":\"\",\"920\":\"\",\"921\":\"\",\"922\":\"\",\"923\":\"\",\"924\":\"\",\"925\":\"\",\"926\":\"\",\"927\":\"\",\"928\":\"\",\"929\":\"\",\"930\":\"\",\"931\":\"\",\"932\":\"\",\"933\":\"\",\"934\":\"\",\"935\":\"\",\"936\":\"\",\"937\":\"\",\"938\":\"\",\"939\":\"\",\"940\":\"\",\"941\":\"\",\"942\":\"\",\"943\":\"\",\"944\":\"\",\"945\":\"\",\"946\":\"\",\"947\":\"\",\"948\":\"\",\"949\":\"\",\"950\":\"\",\"951\":\"\",\"952\":\"\",\"953\":\"\",\"954\":\"\",\"955\":\"\",\"956\":\"\",\"957\":\"\",\"958\":\"\",\"959\":\"\",\"960\":\"\",\"961\":\"\",\"962\":\"\",\"963\":\"\",\"964\":\"\",\"965\":\"\",\"966\":\"\",\"967\":\"\",\"968\":\"\",\"969\":\"\",\"970\":\"\",\"971\":\"\",\"972\":\"\",\"973\":\"\",\"974\":\"\",\"975\":\"\",\"976\":\"\",\"977\":\"\",\"978\":\"\",\"979\":\"\",\"980\":\"\",\"981\":\"\",\"982\":\"\",\"983\":\"\",\"984\":\"\",\"985\":\"\",\"986\":\"\",\"987\":\"\"},\"Difficulty\":{\"0\":42,\"1\":67,\"2\":\"Test\",\"3\":11,\"4\":53,\"5\":70,\"6\":73,\"7\":21,\"8\":39,\"9\":3,\"10\":48,\"11\":4,\"12\":55,\"13\":7,\"14\":65,\"15\":70,\"16\":94,\"17\":50,\"18\":11,\"19\":7,\"20\":66,\"21\":29,\"22\":9,\"23\":66,\"24\":22,\"25\":70,\"26\":1,\"27\":48,\"28\":38,\"29\":24,\"30\":34,\"31\":39,\"32\":54,\"33\":31,\"34\":11,\"35\":8,\"36\":21,\"37\":32,\"38\":69,\"39\":1,\"40\":0,\"41\":52,\"42\":64,\"43\":21,\"44\":0,\"45\":13,\"46\":5,\"47\":41,\"48\":33,\"49\":66,\"50\":44,\"51\":85,\"52\":12,\"53\":39,\"54\":70,\"55\":62,\"56\":4,\"57\":74,\"58\":25,\"59\":21,\"60\":22,\"61\":30,\"62\":30,\"63\":8,\"64\":35,\"65\":67,\"66\":4,\"67\":1,\"68\":52,\"69\":46,\"70\":63,\"71\":44,\"72\":63,\"73\":59,\"74\":22,\"75\":22,\"76\":8,\"77\":2,\"78\":42,\"79\":10,\"80\":48,\"81\":50,\"82\":8,\"83\":41,\"84\":42,\"85\":39,\"86\":6,\"87\":0,\"88\":15,\"89\":28,\"90\":41,\"91\":29,\"92\":10,\"93\":62,\"94\":70,\"95\":2,\"96\":33,\"97\":19,\"98\":49,\"99\":33,\"100\":10,\"101\":45,\"102\":29,\"103\":9,\"104\":28,\"105\":7,\"106\":68,\"107\":15,\"108\":4,\"109\":69,\"110\":30,\"111\":36,\"112\":17,\"113\":74,\"114\":45,\"115\":42,\"116\":43,\"117\":66,\"118\":46,\"119\":23,\"120\":63,\"121\":0,\"122\":56,\"123\":30,\"124\":37,\"125\":6,\"126\":77,\"127\":64,\"128\":68,\"129\":77,\"130\":3,\"131\":0,\"132\":67,\"133\":17,\"134\":10,\"135\":95,\"136\":6,\"137\":0,\"138\":35,\"139\":38,\"140\":64,\"141\":37,\"142\":9,\"143\":61,\"144\":4,\"145\":95,\"146\":9,\"147\":49,\"148\":75,\"149\":84,\"150\":68,\"151\":56,\"152\":63,\"153\":2,\"154\":43,\"155\":42,\"156\":51,\"157\":0,\"158\":83,\"159\":32,\"160\":39,\"161\":25,\"162\":35,\"163\":17,\"164\":39,\"165\":49,\"166\":5,\"167\":36,\"168\":29,\"169\":23,\"170\":67,\"171\":26,\"172\":10,\"173\":12,\"174\":39,\"175\":66,\"176\":64,\"177\":14,\"178\":79,\"179\":41,\"180\":71,\"181\":71,\"182\":15,\"183\":0,\"184\":56,\"185\":1,\"186\":5,\"187\":46,\"188\":62,\"189\":56,\"190\":47,\"191\":17,\"192\":13,\"193\":65,\"194\":24,\"195\":73,\"196\":34,\"197\":48,\"198\":64,\"199\":7,\"200\":12,\"201\":40,\"202\":4,\"203\":56,\"204\":42,\"205\":56,\"206\":22,\"207\":31,\"208\":25,\"209\":23,\"210\":23,\"211\":48,\"212\":38,\"213\":3,\"214\":77,\"215\":5,\"216\":37,\"217\":20,\"218\":45,\"219\":17,\"220\":57,\"221\":17,\"222\":22,\"223\":2,\"224\":30,\"225\":28,\"226\":67,\"227\":20,\"228\":0,\"229\":23,\"230\":19,\"231\":11,\"232\":22,\"233\":3,\"234\":55,\"235\":15,\"236\":2,\"237\":13,\"238\":9,\"239\":48,\"240\":28,\"241\":31,\"242\":61,\"243\":2,\"244\":4,\"245\":64,\"246\":17,\"247\":24,\"248\":43,\"249\":84,\"250\":39,\"251\":8,\"252\":24,\"253\":8,\"254\":36,\"255\":9,\"256\":51,\"257\":57,\"258\":22,\"259\":21,\"260\":0,\"261\":0,\"262\":10,\"263\":89,\"264\":57,\"265\":22,\"266\":23,\"267\":28,\"268\":2,\"269\":92,\"270\":24,\"271\":7,\"272\":42,\"273\":13,\"274\":47,\"275\":34,\"276\":26,\"277\":0,\"278\":36,\"279\":5,\"280\":33,\"281\":19,\"282\":16,\"283\":59,\"284\":11,\"285\":37,\"286\":6,\"287\":18,\"288\":5,\"289\":57,\"290\":62,\"291\":7,\"292\":0,\"293\":9,\"294\":20,\"295\":8,\"296\":48,\"297\":22,\"298\":30,\"299\":26,\"300\":26,\"301\":23,\"302\":37,\"303\":74,\"304\":47,\"305\":11,\"306\":80,\"307\":58,\"308\":42,\"309\":12,\"310\":22,\"311\":2,\"312\":14,\"313\":0,\"314\":17,\"315\":67,\"316\":55,\"317\":58,\"318\":45,\"319\":\"Other\",\"320\":51,\"321\":43,\"322\":5,\"323\":0,\"324\":24,\"325\":6,\"326\":48,\"327\":10,\"328\":12,\"329\":31,\"330\":89,\"331\":11,\"332\":13,\"333\":0,\"334\":80,\"335\":72,\"336\":26,\"337\":58,\"338\":25,\"339\":41,\"340\":1,\"341\":12,\"342\":53,\"343\":23,\"344\":36,\"345\":17,\"346\":8,\"347\":83,\"348\":36,\"349\":54,\"350\":26,\"351\":22,\"352\":48,\"353\":62,\"354\":1,\"355\":1,\"356\":13,\"357\":6,\"358\":43,\"359\":6,\"360\":1,\"361\":68,\"362\":31,\"363\":35,\"364\":9,\"365\":6,\"366\":1,\"367\":27,\"368\":3,\"369\":3,\"370\":6,\"371\":70,\"372\":4,\"373\":53,\"374\":68,\"375\":24,\"376\":10,\"377\":11,\"378\":37,\"379\":16,\"380\":0,\"381\":2,\"382\":5,\"383\":12,\"384\":42,\"385\":48,\"386\":41,\"387\":1,\"388\":4,\"389\":54,\"390\":82,\"391\":26,\"392\":36,\"393\":63,\"394\":3,\"395\":55,\"396\":19,\"397\":50,\"398\":17,\"399\":39,\"400\":75,\"401\":23,\"402\":47,\"403\":43,\"404\":23,\"405\":59,\"406\":5,\"407\":67,\"408\":8,\"409\":6,\"410\":7,\"411\":51,\"412\":0,\"413\":4,\"414\":1,\"415\":81,\"416\":37,\"417\":49,\"418\":35,\"419\":0,\"420\":50,\"421\":15,\"422\":11,\"423\":50,\"424\":8,\"425\":19,\"426\":42,\"427\":3,\"428\":48,\"429\":45,\"430\":70,\"431\":12,\"432\":9,\"433\":59,\"434\":33,\"435\":33,\"436\":9,\"437\":1,\"438\":28,\"439\":35,\"440\":22,\"441\":64,\"442\":47,\"443\":24,\"444\":40,\"445\":10,\"446\":2,\"447\":22,\"448\":39,\"449\":51,\"450\":3,\"451\":5,\"452\":37,\"453\":30,\"454\":7,\"455\":0,\"456\":12,\"457\":35,\"458\":5,\"459\":68,\"460\":0,\"461\":17,\"462\":67,\"463\":37,\"464\":9,\"465\":1,\"466\":41,\"467\":40,\"468\":76,\"469\":79,\"470\":56,\"471\":28,\"472\":13,\"473\":0,\"474\":80,\"475\":51,\"476\":5,\"477\":0,\"478\":0,\"479\":1,\"480\":39,\"481\":9,\"482\":54,\"483\":0,\"484\":24,\"485\":83,\"486\":35,\"487\":88,\"488\":17,\"489\":79,\"490\":5,\"491\":4,\"492\":26,\"493\":48,\"494\":28,\"495\":2,\"496\":0,\"497\":80,\"498\":37,\"499\":0,\"500\":0,\"501\":24,\"502\":23,\"503\":30,\"504\":1,\"505\":86,\"506\":11,\"507\":26,\"508\":3,\"509\":5,\"510\":10,\"511\":57,\"512\":41,\"513\":9,\"514\":40,\"515\":61,\"516\":5,\"517\":42,\"518\":4,\"519\":64,\"520\":20,\"521\":3,\"522\":38,\"523\":0,\"524\":0,\"525\":28,\"526\":8,\"527\":0,\"528\":65,\"529\":64,\"530\":1,\"531\":45,\"532\":31,\"533\":12,\"534\":39,\"535\":0,\"536\":9,\"537\":78,\"538\":1,\"539\":2,\"540\":55,\"541\":7,\"542\":67,\"543\":43,\"544\":41,\"545\":72,\"546\":47,\"547\":48,\"548\":69,\"549\":41,\"550\":36,\"551\":9,\"552\":56,\"553\":18,\"554\":43,\"555\":31,\"556\":70,\"557\":25,\"558\":6,\"559\":52,\"560\":22,\"561\":58,\"562\":30,\"563\":43,\"564\":0,\"565\":68,\"566\":15,\"567\":56,\"568\":\"Other\",\"569\":53,\"570\":13,\"571\":44,\"572\":0,\"573\":28,\"574\":20,\"575\":10,\"576\":6,\"577\":46,\"578\":14,\"579\":5,\"580\":15,\"581\":31,\"582\":\"Other\",\"583\":0,\"584\":12,\"585\":0,\"586\":24,\"587\":66,\"588\":0,\"589\":29,\"590\":45,\"591\":8,\"592\":\"Other\",\"593\":\"Other\",\"594\":14,\"595\":5,\"596\":53,\"597\":1,\"598\":\"Other\",\"599\":\"Other\",\"600\":\"Other\",\"601\":\"Other\",\"602\":\"Other\",\"603\":\"Other\",\"604\":\"Other\",\"605\":\"Other\",\"606\":\"Other\",\"607\":\"Other\",\"608\":\"Other\",\"609\":\"Other\",\"610\":\"Other\",\"611\":\"Other\",\"612\":\"Other\",\"613\":\"Other\",\"614\":\"Other\",\"615\":\"Other\",\"616\":\"Other\",\"617\":\"Other\",\"618\":\"Other\",\"619\":\"Other\",\"620\":\"Other\",\"621\":\"Other\",\"622\":\"Other\",\"623\":\"Other\",\"624\":\"Other\",\"625\":\"Other\",\"626\":\"Other\",\"627\":\"Other\",\"628\":\"Other\",\"629\":\"Other\",\"630\":\"Other\",\"631\":\"Other\",\"632\":\"Other\",\"633\":\"Other\",\"634\":\"Other\",\"635\":\"Other\",\"636\":\"Other\",\"637\":\"Other\",\"638\":\"Other\",\"639\":\"Other\",\"640\":\"Other\",\"641\":\"Other\",\"642\":\"Other\",\"643\":\"Other\",\"644\":\"Other\",\"645\":\"Other\",\"646\":\"Other\",\"647\":\"Other\",\"648\":\"Other\",\"649\":\"Other\",\"650\":\"Other\",\"651\":\"Other\",\"652\":\"\",\"653\":\"\",\"654\":\"\",\"655\":\"\",\"656\":\"\",\"657\":\"\",\"658\":\"\",\"659\":\"\",\"660\":\"\",\"661\":\"\",\"662\":\"\",\"663\":\"\",\"664\":\"\",\"665\":\"\",\"666\":\"\",\"667\":\"\",\"668\":\"\",\"669\":\"\",\"670\":\"\",\"671\":\"\",\"672\":\"\",\"673\":\"\",\"674\":\"\",\"675\":\"\",\"676\":\"\",\"677\":\"\",\"678\":\"\",\"679\":\"\",\"680\":\"\",\"681\":\"\",\"682\":\"\",\"683\":\"\",\"684\":\"\",\"685\":\"\",\"686\":\"\",\"687\":\"\",\"688\":\"\",\"689\":\"\",\"690\":\"\",\"691\":\"\",\"692\":\"\",\"693\":\"\",\"694\":\"\",\"695\":\"\",\"696\":\"\",\"697\":\"\",\"698\":\"\",\"699\":\"\",\"700\":\"\",\"701\":\"\",\"702\":\"\",\"703\":\"\",\"704\":\"\",\"705\":\"\",\"706\":\"\",\"707\":\"\",\"708\":\"\",\"709\":\"\",\"710\":\"\",\"711\":\"\",\"712\":\"\",\"713\":\"\",\"714\":\"\",\"715\":\"\",\"716\":\"\",\"717\":\"\",\"718\":\"\",\"719\":\"\",\"720\":\"\",\"721\":\"\",\"722\":\"\",\"723\":\"\",\"724\":\"\",\"725\":\"\",\"726\":\"\",\"727\":\"\",\"728\":\"\",\"729\":\"\",\"730\":\"\",\"731\":\"\",\"732\":\"\",\"733\":\"\",\"734\":\"\",\"735\":\"\",\"736\":\"\",\"737\":\"\",\"738\":\"\",\"739\":\"\",\"740\":\"\",\"741\":\"\",\"742\":\"\",\"743\":\"\",\"744\":\"\",\"745\":\"\",\"746\":\"\",\"747\":\"\",\"748\":\"\",\"749\":\"\",\"750\":\"\",\"751\":\"\",\"752\":\"\",\"753\":\"\",\"754\":\"\",\"755\":\"\",\"756\":\"\",\"757\":\"\",\"758\":\"\",\"759\":\"\",\"760\":\"\",\"761\":\"\",\"762\":\"\",\"763\":\"\",\"764\":\"\",\"765\":\"\",\"766\":\"\",\"767\":\"\",\"768\":\"\",\"769\":\"\",\"770\":\"\",\"771\":\"\",\"772\":\"\",\"773\":\"\",\"774\":\"\",\"775\":\"\",\"776\":\"\",\"777\":\"\",\"778\":\"\",\"779\":\"\",\"780\":\"\",\"781\":\"\",\"782\":\"\",\"783\":\"\",\"784\":\"\",\"785\":\"\",\"786\":\"\",\"787\":\"\",\"788\":\"\",\"789\":\"\",\"790\":\"\",\"791\":\"\",\"792\":\"\",\"793\":\"\",\"794\":\"\",\"795\":\"\",\"796\":\"\",\"797\":\"\",\"798\":\"\",\"799\":\"\",\"800\":\"\",\"801\":\"\",\"802\":\"\",\"803\":\"\",\"804\":\"\",\"805\":\"\",\"806\":\"\",\"807\":\"\",\"808\":\"\",\"809\":\"\",\"810\":\"\",\"811\":\"\",\"812\":\"\",\"813\":\"\",\"814\":\"\",\"815\":\"\",\"816\":\"\",\"817\":\"\",\"818\":\"\",\"819\":\"\",\"820\":\"\",\"821\":\"\",\"822\":\"\",\"823\":\"\",\"824\":\"\",\"825\":\"\",\"826\":\"\",\"827\":\"\",\"828\":\"\",\"829\":\"\",\"830\":\"\",\"831\":\"\",\"832\":\"\",\"833\":\"\",\"834\":\"\",\"835\":\"\",\"836\":\"\",\"837\":\"\",\"838\":\"\",\"839\":\"\",\"840\":\"\",\"841\":\"\",\"842\":\"\",\"843\":\"\",\"844\":\"\",\"845\":\"\",\"846\":\"\",\"847\":\"\",\"848\":\"\",\"849\":\"\",\"850\":\"\",\"851\":\"\",\"852\":\"\",\"853\":\"\",\"854\":\"\",\"855\":\"\",\"856\":\"\",\"857\":\"\",\"858\":\"\",\"859\":\"\",\"860\":\"\",\"861\":\"\",\"862\":\"\",\"863\":\"\",\"864\":\"\",\"865\":\"\",\"866\":\"\",\"867\":\"\",\"868\":\"\",\"869\":\"\",\"870\":\"\",\"871\":\"\",\"872\":\"\",\"873\":\"\",\"874\":\"\",\"875\":\"\",\"876\":\"\",\"877\":\"\",\"878\":\"\",\"879\":\"\",\"880\":\"\",\"881\":\"\",\"882\":\"\",\"883\":\"\",\"884\":\"\",\"885\":\"\",\"886\":\"\",\"887\":\"\",\"888\":\"\",\"889\":\"\",\"890\":\"\",\"891\":\"\",\"892\":\"\",\"893\":\"\",\"894\":\"\",\"895\":\"\",\"896\":\"\",\"897\":\"\",\"898\":\"\",\"899\":\"\",\"900\":\"\",\"901\":\"\",\"902\":\"\",\"903\":\"\",\"904\":\"\",\"905\":\"\",\"906\":\"\",\"907\":\"\",\"908\":\"\",\"909\":\"\",\"910\":\"\",\"911\":\"\",\"912\":\"\",\"913\":\"\",\"914\":\"\",\"915\":\"\",\"916\":\"\",\"917\":\"\",\"918\":\"\",\"919\":\"\",\"920\":\"\",\"921\":\"\",\"922\":\"\",\"923\":\"\",\"924\":\"\",\"925\":\"\",\"926\":\"\",\"927\":\"\",\"928\":\"\",\"929\":\"\",\"930\":\"\",\"931\":\"\",\"932\":\"\",\"933\":\"\",\"934\":\"\",\"935\":\"\",\"936\":\"\",\"937\":\"\",\"938\":\"\",\"939\":\"\",\"940\":\"\",\"941\":\"\",\"942\":\"\",\"943\":\"\",\"944\":\"\",\"945\":\"\",\"946\":\"\",\"947\":\"\",\"948\":\"\",\"949\":\"\",\"950\":\"\",\"951\":\"\",\"952\":\"\",\"953\":\"\",\"954\":\"\",\"955\":\"\",\"956\":\"\",\"957\":\"\",\"958\":\"\",\"959\":\"\",\"960\":\"\",\"961\":\"\",\"962\":\"\",\"963\":\"\",\"964\":\"\",\"965\":\"\",\"966\":\"\",\"967\":\"\",\"968\":\"\",\"969\":\"\",\"970\":\"\",\"971\":\"\",\"972\":\"\",\"973\":\"\",\"974\":\"\",\"975\":\"\",\"976\":\"\",\"977\":\"\",\"978\":\"\",\"979\":\"\",\"980\":\"\",\"981\":\"\",\"982\":\"\",\"983\":\"\",\"984\":\"\",\"985\":\"\",\"986\":\"\",\"987\":\"\"},\"Volume\":{\"0\":70000,\"1\":63000,\"2\":\"Test\",\"3\":3100,\"4\":2600,\"5\":2200,\"6\":1500,\"7\":1400,\"8\":1400,\"9\":1300,\"10\":1300,\"11\":1300,\"12\":1200,\"13\":1200,\"14\":1200,\"15\":1100,\"16\":1000,\"17\":900,\"18\":900,\"19\":800,\"20\":800,\"21\":800,\"22\":700,\"23\":700,\"24\":600,\"25\":600,\"26\":500,\"27\":500,\"28\":500,\"29\":500,\"30\":500,\"31\":500,\"32\":500,\"33\":500,\"34\":500,\"35\":450,\"36\":450,\"37\":450,\"38\":450,\"39\":450,\"40\":450,\"41\":450,\"42\":400,\"43\":400,\"44\":400,\"45\":400,\"46\":400,\"47\":400,\"48\":400,\"49\":350,\"50\":350,\"51\":350,\"52\":350,\"53\":300,\"54\":300,\"55\":300,\"56\":300,\"57\":300,\"58\":300,\"59\":300,\"60\":300,\"61\":300,\"62\":300,\"63\":300,\"64\":300,\"65\":300,\"66\":300,\"67\":250,\"68\":250,\"69\":250,\"70\":250,\"71\":250,\"72\":250,\"73\":250,\"74\":250,\"75\":250,\"76\":250,\"77\":250,\"78\":250,\"79\":250,\"80\":200,\"81\":200,\"82\":200,\"83\":200,\"84\":200,\"85\":200,\"86\":200,\"87\":200,\"88\":200,\"89\":200,\"90\":200,\"91\":200,\"92\":200,\"93\":200,\"94\":200,\"95\":200,\"96\":200,\"97\":200,\"98\":200,\"99\":200,\"100\":200,\"101\":200,\"102\":200,\"103\":200,\"104\":200,\"105\":200,\"106\":200,\"107\":200,\"108\":150,\"109\":150,\"110\":150,\"111\":150,\"112\":150,\"113\":150,\"114\":150,\"115\":150,\"116\":150,\"117\":150,\"118\":150,\"119\":150,\"120\":150,\"121\":150,\"122\":150,\"123\":150,\"124\":150,\"125\":150,\"126\":150,\"127\":150,\"128\":150,\"129\":150,\"130\":150,\"131\":150,\"132\":150,\"133\":150,\"134\":150,\"135\":150,\"136\":150,\"137\":150,\"138\":150,\"139\":150,\"140\":150,\"141\":150,\"142\":150,\"143\":150,\"144\":150,\"145\":150,\"146\":150,\"147\":150,\"148\":150,\"149\":150,\"150\":150,\"151\":150,\"152\":150,\"153\":150,\"154\":150,\"155\":150,\"156\":150,\"157\":150,\"158\":150,\"159\":150,\"160\":150,\"161\":150,\"162\":150,\"163\":150,\"164\":150,\"165\":150,\"166\":150,\"167\":150,\"168\":150,\"169\":100,\"170\":100,\"171\":100,\"172\":100,\"173\":100,\"174\":100,\"175\":100,\"176\":100,\"177\":100,\"178\":100,\"179\":100,\"180\":100,\"181\":100,\"182\":100,\"183\":100,\"184\":100,\"185\":100,\"186\":100,\"187\":100,\"188\":100,\"189\":100,\"190\":100,\"191\":100,\"192\":100,\"193\":100,\"194\":100,\"195\":100,\"196\":100,\"197\":100,\"198\":100,\"199\":100,\"200\":100,\"201\":100,\"202\":100,\"203\":100,\"204\":100,\"205\":100,\"206\":100,\"207\":100,\"208\":100,\"209\":100,\"210\":100,\"211\":100,\"212\":100,\"213\":100,\"214\":100,\"215\":100,\"216\":100,\"217\":100,\"218\":100,\"219\":100,\"220\":100,\"221\":100,\"222\":100,\"223\":100,\"224\":100,\"225\":100,\"226\":100,\"227\":100,\"228\":100,\"229\":100,\"230\":100,\"231\":100,\"232\":100,\"233\":100,\"234\":100,\"235\":100,\"236\":100,\"237\":100,\"238\":100,\"239\":100,\"240\":100,\"241\":90,\"242\":90,\"243\":90,\"244\":90,\"245\":90,\"246\":90,\"247\":90,\"248\":90,\"249\":90,\"250\":90,\"251\":90,\"252\":90,\"253\":90,\"254\":90,\"255\":90,\"256\":90,\"257\":90,\"258\":90,\"259\":90,\"260\":90,\"261\":90,\"262\":90,\"263\":90,\"264\":90,\"265\":90,\"266\":90,\"267\":90,\"268\":90,\"269\":90,\"270\":90,\"271\":90,\"272\":90,\"273\":90,\"274\":90,\"275\":90,\"276\":90,\"277\":90,\"278\":90,\"279\":80,\"280\":80,\"281\":80,\"282\":80,\"283\":80,\"284\":80,\"285\":80,\"286\":80,\"287\":80,\"288\":80,\"289\":80,\"290\":80,\"291\":80,\"292\":80,\"293\":80,\"294\":80,\"295\":80,\"296\":80,\"297\":80,\"298\":80,\"299\":80,\"300\":80,\"301\":80,\"302\":80,\"303\":80,\"304\":80,\"305\":80,\"306\":80,\"307\":80,\"308\":80,\"309\":80,\"310\":80,\"311\":80,\"312\":80,\"313\":80,\"314\":80,\"315\":80,\"316\":80,\"317\":80,\"318\":80,\"319\":80,\"320\":70,\"321\":70,\"322\":70,\"323\":70,\"324\":70,\"325\":70,\"326\":70,\"327\":70,\"328\":70,\"329\":70,\"330\":70,\"331\":70,\"332\":70,\"333\":70,\"334\":70,\"335\":70,\"336\":70,\"337\":70,\"338\":70,\"339\":70,\"340\":70,\"341\":70,\"342\":70,\"343\":70,\"344\":70,\"345\":70,\"346\":70,\"347\":70,\"348\":70,\"349\":70,\"350\":70,\"351\":70,\"352\":70,\"353\":70,\"354\":70,\"355\":70,\"356\":70,\"357\":70,\"358\":70,\"359\":70,\"360\":60,\"361\":60,\"362\":60,\"363\":60,\"364\":60,\"365\":60,\"366\":60,\"367\":60,\"368\":60,\"369\":60,\"370\":60,\"371\":60,\"372\":60,\"373\":60,\"374\":60,\"375\":60,\"376\":60,\"377\":60,\"378\":60,\"379\":60,\"380\":60,\"381\":60,\"382\":60,\"383\":60,\"384\":60,\"385\":60,\"386\":60,\"387\":60,\"388\":60,\"389\":60,\"390\":60,\"391\":60,\"392\":60,\"393\":60,\"394\":60,\"395\":60,\"396\":60,\"397\":60,\"398\":60,\"399\":60,\"400\":60,\"401\":60,\"402\":60,\"403\":60,\"404\":60,\"405\":60,\"406\":60,\"407\":60,\"408\":60,\"409\":60,\"410\":60,\"411\":60,\"412\":60,\"413\":60,\"414\":60,\"415\":60,\"416\":60,\"417\":60,\"418\":60,\"419\":60,\"420\":60,\"421\":60,\"422\":60,\"423\":60,\"424\":60,\"425\":60,\"426\":60,\"427\":50,\"428\":50,\"429\":50,\"430\":50,\"431\":50,\"432\":50,\"433\":50,\"434\":50,\"435\":50,\"436\":50,\"437\":50,\"438\":50,\"439\":50,\"440\":50,\"441\":50,\"442\":50,\"443\":50,\"444\":50,\"445\":50,\"446\":50,\"447\":50,\"448\":50,\"449\":50,\"450\":50,\"451\":50,\"452\":50,\"453\":50,\"454\":50,\"455\":50,\"456\":50,\"457\":50,\"458\":50,\"459\":50,\"460\":50,\"461\":50,\"462\":50,\"463\":50,\"464\":50,\"465\":50,\"466\":50,\"467\":50,\"468\":50,\"469\":50,\"470\":50,\"471\":50,\"472\":50,\"473\":50,\"474\":50,\"475\":50,\"476\":50,\"477\":50,\"478\":50,\"479\":50,\"480\":50,\"481\":50,\"482\":40,\"483\":40,\"484\":40,\"485\":40,\"486\":40,\"487\":40,\"488\":40,\"489\":40,\"490\":40,\"491\":40,\"492\":40,\"493\":40,\"494\":40,\"495\":40,\"496\":40,\"497\":40,\"498\":40,\"499\":40,\"500\":40,\"501\":40,\"502\":40,\"503\":40,\"504\":40,\"505\":40,\"506\":40,\"507\":40,\"508\":40,\"509\":40,\"510\":40,\"511\":40,\"512\":40,\"513\":40,\"514\":40,\"515\":40,\"516\":40,\"517\":40,\"518\":40,\"519\":40,\"520\":40,\"521\":40,\"522\":40,\"523\":40,\"524\":40,\"525\":40,\"526\":40,\"527\":40,\"528\":40,\"529\":40,\"530\":40,\"531\":40,\"532\":40,\"533\":40,\"534\":40,\"535\":40,\"536\":40,\"537\":40,\"538\":40,\"539\":40,\"540\":40,\"541\":40,\"542\":40,\"543\":40,\"544\":40,\"545\":40,\"546\":40,\"547\":40,\"548\":40,\"549\":40,\"550\":40,\"551\":30,\"552\":30,\"553\":30,\"554\":30,\"555\":30,\"556\":30,\"557\":30,\"558\":30,\"559\":30,\"560\":30,\"561\":30,\"562\":30,\"563\":30,\"564\":30,\"565\":30,\"566\":30,\"567\":30,\"568\":30,\"569\":30,\"570\":30,\"571\":30,\"572\":30,\"573\":30,\"574\":30,\"575\":30,\"576\":30,\"577\":30,\"578\":30,\"579\":30,\"580\":30,\"581\":30,\"582\":30,\"583\":30,\"584\":30,\"585\":30,\"586\":30,\"587\":30,\"588\":30,\"589\":30,\"590\":30,\"591\":20,\"592\":20,\"593\":20,\"594\":20,\"595\":20,\"596\":20,\"597\":20,\"598\":10,\"599\":10,\"600\":10,\"601\":10,\"602\":10,\"603\":10,\"604\":10,\"605\":10,\"606\":10,\"607\":10,\"608\":10,\"609\":10,\"610\":10,\"611\":10,\"612\":10,\"613\":10,\"614\":10,\"615\":10,\"616\":10,\"617\":10,\"618\":10,\"619\":10,\"620\":10,\"621\":10,\"622\":10,\"623\":10,\"624\":10,\"625\":10,\"626\":10,\"627\":10,\"628\":10,\"629\":10,\"630\":10,\"631\":10,\"632\":10,\"633\":10,\"634\":10,\"635\":10,\"636\":0,\"637\":0,\"638\":0,\"639\":0,\"640\":0,\"641\":0,\"642\":0,\"643\":0,\"644\":0,\"645\":0,\"646\":0,\"647\":0,\"648\":0,\"649\":0,\"650\":0,\"651\":0,\"652\":\"\",\"653\":\"\",\"654\":\"\",\"655\":\"\",\"656\":\"\",\"657\":\"\",\"658\":\"\",\"659\":\"\",\"660\":\"\",\"661\":\"\",\"662\":\"\",\"663\":\"\",\"664\":\"\",\"665\":\"\",\"666\":\"\",\"667\":\"\",\"668\":\"\",\"669\":\"\",\"670\":\"\",\"671\":\"\",\"672\":\"\",\"673\":\"\",\"674\":\"\",\"675\":\"\",\"676\":\"\",\"677\":\"\",\"678\":\"\",\"679\":\"\",\"680\":\"\",\"681\":\"\",\"682\":\"\",\"683\":\"\",\"684\":\"\",\"685\":\"\",\"686\":\"\",\"687\":\"\",\"688\":\"\",\"689\":\"\",\"690\":\"\",\"691\":\"\",\"692\":\"\",\"693\":\"\",\"694\":\"\",\"695\":\"\",\"696\":\"\",\"697\":\"\",\"698\":\"\",\"699\":\"\",\"700\":\"\",\"701\":\"\",\"702\":\"\",\"703\":\"\",\"704\":\"\",\"705\":\"\",\"706\":\"\",\"707\":\"\",\"708\":\"\",\"709\":\"\",\"710\":\"\",\"711\":\"\",\"712\":\"\",\"713\":\"\",\"714\":\"\",\"715\":\"\",\"716\":\"\",\"717\":\"\",\"718\":\"\",\"719\":\"\",\"720\":\"\",\"721\":\"\",\"722\":\"\",\"723\":\"\",\"724\":\"\",\"725\":\"\",\"726\":\"\",\"727\":\"\",\"728\":\"\",\"729\":\"\",\"730\":\"\",\"731\":\"\",\"732\":\"\",\"733\":\"\",\"734\":\"\",\"735\":\"\",\"736\":\"\",\"737\":\"\",\"738\":\"\",\"739\":\"\",\"740\":\"\",\"741\":\"\",\"742\":\"\",\"743\":\"\",\"744\":\"\",\"745\":\"\",\"746\":\"\",\"747\":\"\",\"748\":\"\",\"749\":\"\",\"750\":\"\",\"751\":\"\",\"752\":\"\",\"753\":\"\",\"754\":\"\",\"755\":\"\",\"756\":\"\",\"757\":\"\",\"758\":\"\",\"759\":\"\",\"760\":\"\",\"761\":\"\",\"762\":\"\",\"763\":\"\",\"764\":\"\",\"765\":\"\",\"766\":\"\",\"767\":\"\",\"768\":\"\",\"769\":\"\",\"770\":\"\",\"771\":\"\",\"772\":\"\",\"773\":\"\",\"774\":\"\",\"775\":\"\",\"776\":\"\",\"777\":\"\",\"778\":\"\",\"779\":\"\",\"780\":\"\",\"781\":\"\",\"782\":\"\",\"783\":\"\",\"784\":\"\",\"785\":\"\",\"786\":\"\",\"787\":\"\",\"788\":\"\",\"789\":\"\",\"790\":\"\",\"791\":\"\",\"792\":\"\",\"793\":\"\",\"794\":\"\",\"795\":\"\",\"796\":\"\",\"797\":\"\",\"798\":\"\",\"799\":\"\",\"800\":\"\",\"801\":\"\",\"802\":\"\",\"803\":\"\",\"804\":\"\",\"805\":\"\",\"806\":\"\",\"807\":\"\",\"808\":\"\",\"809\":\"\",\"810\":\"\",\"811\":\"\",\"812\":\"\",\"813\":\"\",\"814\":\"\",\"815\":\"\",\"816\":\"\",\"817\":\"\",\"818\":\"\",\"819\":\"\",\"820\":\"\",\"821\":\"\",\"822\":\"\",\"823\":\"\",\"824\":\"\",\"825\":\"\",\"826\":\"\",\"827\":\"\",\"828\":\"\",\"829\":\"\",\"830\":\"\",\"831\":\"\",\"832\":\"\",\"833\":\"\",\"834\":\"\",\"835\":\"\",\"836\":\"\",\"837\":\"\",\"838\":\"\",\"839\":\"\",\"840\":\"\",\"841\":\"\",\"842\":\"\",\"843\":\"\",\"844\":\"\",\"845\":\"\",\"846\":\"\",\"847\":\"\",\"848\":\"\",\"849\":\"\",\"850\":\"\",\"851\":\"\",\"852\":\"\",\"853\":\"\",\"854\":\"\",\"855\":\"\",\"856\":\"\",\"857\":\"\",\"858\":\"\",\"859\":\"\",\"860\":\"\",\"861\":\"\",\"862\":\"\",\"863\":\"\",\"864\":\"\",\"865\":\"\",\"866\":\"\",\"867\":\"\",\"868\":\"\",\"869\":\"\",\"870\":\"\",\"871\":\"\",\"872\":\"\",\"873\":\"\",\"874\":\"\",\"875\":\"\",\"876\":\"\",\"877\":\"\",\"878\":\"\",\"879\":\"\",\"880\":\"\",\"881\":\"\",\"882\":\"\",\"883\":\"\",\"884\":\"\",\"885\":\"\",\"886\":\"\",\"887\":\"\",\"888\":\"\",\"889\":\"\",\"890\":\"\",\"891\":\"\",\"892\":\"\",\"893\":\"\",\"894\":\"\",\"895\":\"\",\"896\":\"\",\"897\":\"\",\"898\":\"\",\"899\":\"\",\"900\":\"\",\"901\":\"\",\"902\":\"\",\"903\":\"\",\"904\":\"\",\"905\":\"\",\"906\":\"\",\"907\":\"\",\"908\":\"\",\"909\":\"\",\"910\":\"\",\"911\":\"\",\"912\":\"\",\"913\":\"\",\"914\":\"\",\"915\":\"\",\"916\":\"\",\"917\":\"\",\"918\":\"\",\"919\":\"\",\"920\":\"\",\"921\":\"\",\"922\":\"\",\"923\":\"\",\"924\":\"\",\"925\":\"\",\"926\":\"\",\"927\":\"\",\"928\":\"\",\"929\":\"\",\"930\":\"\",\"931\":\"\",\"932\":\"\",\"933\":\"\",\"934\":\"\",\"935\":\"\",\"936\":\"\",\"937\":\"\",\"938\":\"\",\"939\":\"\",\"940\":\"\",\"941\":\"\",\"942\":\"\",\"943\":\"\",\"944\":\"\",\"945\":\"\",\"946\":\"\",\"947\":\"\",\"948\":\"\",\"949\":\"\",\"950\":\"\",\"951\":\"\",\"952\":\"\",\"953\":\"\",\"954\":\"\",\"955\":\"\",\"956\":\"\",\"957\":\"\",\"958\":\"\",\"959\":\"\",\"960\":\"\",\"961\":\"\",\"962\":\"\",\"963\":\"\",\"964\":\"\",\"965\":\"\",\"966\":\"\",\"967\":\"\",\"968\":\"\",\"969\":\"\",\"970\":\"\",\"971\":\"\",\"972\":\"\",\"973\":\"\",\"974\":\"\",\"975\":\"\",\"976\":\"\",\"977\":\"\",\"978\":\"\",\"979\":\"\",\"980\":\"\",\"981\":\"\",\"982\":\"\",\"983\":\"\",\"984\":\"\",\"985\":\"\",\"986\":\"\",\"987\":\"\"},\"CPC\":{\"0\":2.5,\"1\":5,\"2\":\"Test\",\"3\":0,\"4\":7,\"5\":10,\"6\":\"Other\",\"7\":0.15,\"8\":0,\"9\":0,\"10\":9,\"11\":2,\"12\":0,\"13\":7,\"14\":9,\"15\":7,\"16\":0.15,\"17\":7,\"18\":10,\"19\":4.5,\"20\":5,\"21\":0,\"22\":0,\"23\":14,\"24\":0,\"25\":0.9,\"26\":0,\"27\":15,\"28\":11,\"29\":7,\"30\":1.9,\"31\":6,\"32\":6,\"33\":12,\"34\":17,\"35\":2.5,\"36\":2.5,\"37\":3.5,\"38\":6,\"39\":0.35,\"40\":\"Other\",\"41\":10,\"42\":0,\"43\":4.5,\"44\":0,\"45\":0.8,\"46\":6,\"47\":9,\"48\":5,\"49\":4.5,\"50\":25,\"51\":0,\"52\":1.4,\"53\":11,\"54\":10,\"55\":0,\"56\":0.1,\"57\":\"Other\",\"58\":7,\"59\":0,\"60\":1.2,\"61\":2,\"62\":0,\"63\":\"Other\",\"64\":15,\"65\":2,\"66\":0.35,\"67\":5,\"68\":6,\"69\":14,\"70\":13,\"71\":\"Other\",\"72\":3,\"73\":12,\"74\":5,\"75\":0,\"76\":17,\"77\":3.5,\"78\":0,\"79\":3,\"80\":\"Other\",\"81\":17,\"82\":8,\"83\":0,\"84\":11,\"85\":4,\"86\":\"Other\",\"87\":\"Other\",\"88\":13,\"89\":6,\"90\":11,\"91\":2.5,\"92\":0.5,\"93\":9,\"94\":12,\"95\":0.15,\"96\":\"Other\",\"97\":0,\"98\":8,\"99\":0,\"100\":\"Other\",\"101\":6,\"102\":0.35,\"103\":6,\"104\":11,\"105\":0.8,\"106\":4,\"107\":14,\"108\":0,\"109\":6,\"110\":6,\"111\":13,\"112\":0,\"113\":\"Other\",\"114\":11,\"115\":0.25,\"116\":0.15,\"117\":9,\"118\":4.5,\"119\":0,\"120\":\"Other\",\"121\":0,\"122\":11,\"123\":7,\"124\":0,\"125\":6,\"126\":1.3,\"127\":6,\"128\":0,\"129\":0,\"130\":\"Other\",\"131\":0,\"132\":0.8,\"133\":\"Other\",\"134\":6,\"135\":\"Other\",\"136\":2.5,\"137\":0.9,\"138\":4.5,\"139\":12,\"140\":14,\"141\":13,\"142\":0,\"143\":\"Other\",\"144\":0,\"145\":0.8,\"146\":\"Other\",\"147\":11,\"148\":1.2,\"149\":6,\"150\":8,\"151\":7,\"152\":0,\"153\":\"Other\",\"154\":\"Other\",\"155\":4,\"156\":25,\"157\":0,\"158\":30,\"159\":4,\"160\":2.5,\"161\":4,\"162\":8,\"163\":0,\"164\":6,\"165\":1.1,\"166\":4,\"167\":16,\"168\":2,\"169\":3,\"170\":\"Other\",\"171\":7,\"172\":\"Other\",\"173\":1.8,\"174\":7,\"175\":0,\"176\":0,\"177\":0,\"178\":0,\"179\":1,\"180\":12,\"181\":13,\"182\":\"Other\",\"183\":0,\"184\":14,\"185\":\"Other\",\"186\":12,\"187\":4.5,\"188\":6,\"189\":8,\"190\":3.5,\"191\":8,\"192\":\"Other\",\"193\":0,\"194\":14,\"195\":5,\"196\":0,\"197\":25,\"198\":\"Other\",\"199\":13,\"200\":4,\"201\":4.5,\"202\":\"Other\",\"203\":7,\"204\":0.2,\"205\":14,\"206\":14,\"207\":10,\"208\":11,\"209\":7,\"210\":0,\"211\":\"Other\",\"212\":8,\"213\":\"Other\",\"214\":4,\"215\":0,\"216\":8,\"217\":\"Other\",\"218\":10,\"219\":11,\"220\":8,\"221\":\"Other\",\"222\":0,\"223\":0,\"224\":\"Other\",\"225\":\"Other\",\"226\":\"Other\",\"227\":\"Other\",\"228\":2,\"229\":8,\"230\":1.6,\"231\":8,\"232\":0.9,\"233\":\"Other\",\"234\":8,\"235\":4.5,\"236\":\"Other\",\"237\":9,\"238\":6,\"239\":4.5,\"240\":11,\"241\":\"Other\",\"242\":0.2,\"243\":0.15,\"244\":\"Other\",\"245\":12,\"246\":\"Other\",\"247\":1.6,\"248\":3,\"249\":0,\"250\":25,\"251\":9,\"252\":13,\"253\":20,\"254\":1.9,\"255\":0,\"256\":9,\"257\":6,\"258\":10,\"259\":0,\"260\":1.4,\"261\":0,\"262\":0,\"263\":\"Other\",\"264\":8,\"265\":0,\"266\":6,\"267\":\"Other\",\"268\":\"Other\",\"269\":0,\"270\":11,\"271\":9,\"272\":2,\"273\":0,\"274\":1.2,\"275\":14,\"276\":0.1,\"277\":0,\"278\":2,\"279\":4,\"280\":4,\"281\":8,\"282\":0,\"283\":6,\"284\":\"Other\",\"285\":8,\"286\":0,\"287\":11,\"288\":0,\"289\":10,\"290\":\"Other\",\"291\":10,\"292\":\"Other\",\"293\":12,\"294\":\"Other\",\"295\":15,\"296\":9,\"297\":4.5,\"298\":3.5,\"299\":\"Other\",\"300\":\"Other\",\"301\":0,\"302\":6,\"303\":\"Other\",\"304\":20,\"305\":8,\"306\":\"Other\",\"307\":2.5,\"308\":\"Other\",\"309\":\"Other\",\"310\":4,\"311\":2,\"312\":\"Other\",\"313\":15,\"314\":20,\"315\":\"Other\",\"316\":9,\"317\":\"Other\",\"318\":\"Other\",\"319\":\"Other\",\"320\":0,\"321\":1.3,\"322\":4,\"323\":0.06,\"324\":0,\"325\":13,\"326\":5,\"327\":\"Other\",\"328\":\"Other\",\"329\":4.5,\"330\":0,\"331\":\"Other\",\"332\":\"Other\",\"333\":0,\"334\":0.9,\"335\":4.5,\"336\":\"Other\",\"337\":5,\"338\":8,\"339\":\"Other\",\"340\":0,\"341\":0,\"342\":1.9,\"343\":14,\"344\":0.6,\"345\":4,\"346\":8,\"347\":4,\"348\":6,\"349\":7,\"350\":\"Other\",\"351\":3.5,\"352\":7,\"353\":\"Other\",\"354\":1.4,\"355\":0,\"356\":0,\"357\":12,\"358\":8,\"359\":2.5,\"360\":0,\"361\":3.5,\"362\":1.6,\"363\":\"Other\",\"364\":0.02,\"365\":\"Other\",\"366\":16,\"367\":4,\"368\":\"Other\",\"369\":\"Other\",\"370\":2.5,\"371\":\"Other\",\"372\":3.5,\"373\":0,\"374\":2.5,\"375\":7,\"376\":\"Other\",\"377\":0,\"378\":0,\"379\":0,\"380\":0.6,\"381\":0,\"382\":\"Other\",\"383\":0,\"384\":\"Other\",\"385\":\"Other\",\"386\":1.8,\"387\":\"Other\",\"388\":\"Other\",\"389\":\"Other\",\"390\":0,\"391\":2.5,\"392\":0,\"393\":\"Other\",\"394\":0,\"395\":4,\"396\":\"Other\",\"397\":\"Other\",\"398\":0,\"399\":13,\"400\":9,\"401\":6,\"402\":8,\"403\":7,\"404\":\"Other\",\"405\":1.2,\"406\":0.8,\"407\":1.6,\"408\":\"Other\",\"409\":4,\"410\":5,\"411\":7,\"412\":\"Other\",\"413\":0,\"414\":4.5,\"415\":0,\"416\":\"Other\",\"417\":0,\"418\":\"Other\",\"419\":0,\"420\":0,\"421\":5,\"422\":3.5,\"423\":8,\"424\":\"Other\",\"425\":\"Other\",\"426\":\"Other\",\"427\":\"Other\",\"428\":7,\"429\":4.5,\"430\":0,\"431\":0,\"432\":\"Other\",\"433\":8,\"434\":\"Other\",\"435\":\"Other\",\"436\":40,\"437\":\"Other\",\"438\":0.9,\"439\":\"Other\",\"440\":1.3,\"441\":\"Other\",\"442\":9,\"443\":4,\"444\":7,\"445\":1.1,\"446\":0,\"447\":7,\"448\":4,\"449\":6,\"450\":0,\"451\":\"Other\",\"452\":13,\"453\":0,\"454\":\"Other\",\"455\":\"Other\",\"456\":0,\"457\":\"Other\",\"458\":\"Other\",\"459\":0,\"460\":\"Other\",\"461\":\"Other\",\"462\":6,\"463\":9,\"464\":0,\"465\":0,\"466\":\"Other\",\"467\":9,\"468\":4.5,\"469\":0,\"470\":0.15,\"471\":25,\"472\":0,\"473\":\"Other\",\"474\":\"Other\",\"475\":0,\"476\":\"Other\",\"477\":13,\"478\":3,\"479\":\"Other\",\"480\":\"Other\",\"481\":\"Other\",\"482\":2,\"483\":\"Other\",\"484\":0,\"485\":0,\"486\":\"Other\",\"487\":\"Other\",\"488\":0,\"489\":0,\"490\":0,\"491\":\"Other\",\"492\":0,\"493\":0,\"494\":\"Other\",\"495\":5,\"496\":25,\"497\":\"Other\",\"498\":2.5,\"499\":0,\"500\":0,\"501\":0.7,\"502\":0,\"503\":\"Other\",\"504\":0,\"505\":0,\"506\":0,\"507\":18,\"508\":1.5,\"509\":\"Other\",\"510\":2,\"511\":1.1,\"512\":6,\"513\":1.3,\"514\":20,\"515\":8,\"516\":11,\"517\":0.2,\"518\":10,\"519\":60,\"520\":\"Other\",\"521\":\"Other\",\"522\":4,\"523\":\"Other\",\"524\":\"Other\",\"525\":9,\"526\":0,\"527\":\"Other\",\"528\":9,\"529\":\"Other\",\"530\":\"Other\",\"531\":6,\"532\":\"Other\",\"533\":3,\"534\":14,\"535\":0,\"536\":2.5,\"537\":0,\"538\":0,\"539\":0,\"540\":3.5,\"541\":\"Other\",\"542\":3,\"543\":\"Other\",\"544\":7,\"545\":0,\"546\":0,\"547\":7,\"548\":0,\"549\":\"Other\",\"550\":7,\"551\":0,\"552\":0,\"553\":0,\"554\":6,\"555\":0,\"556\":0,\"557\":1.9,\"558\":1.8,\"559\":9,\"560\":\"Other\",\"561\":0,\"562\":3,\"563\":0,\"564\":\"Other\",\"565\":0,\"566\":\"Other\",\"567\":\"Other\",\"568\":\"Other\",\"569\":0,\"570\":3.5,\"571\":0.9,\"572\":\"Other\",\"573\":8,\"574\":\"Other\",\"575\":11,\"576\":1.2,\"577\":3.5,\"578\":6,\"579\":\"Other\",\"580\":\"Other\",\"581\":0,\"582\":\"Other\",\"583\":1,\"584\":\"Other\",\"585\":3,\"586\":0,\"587\":2.5,\"588\":0,\"589\":\"Other\",\"590\":0,\"591\":13,\"592\":\"Other\",\"593\":2,\"594\":0,\"595\":2.5,\"596\":4,\"597\":\"Other\",\"598\":\"Other\",\"599\":\"Other\",\"600\":\"Other\",\"601\":\"Other\",\"602\":\"Other\",\"603\":\"Other\",\"604\":\"Other\",\"605\":\"Other\",\"606\":\"Other\",\"607\":\"Other\",\"608\":\"Other\",\"609\":\"Other\",\"610\":\"Other\",\"611\":\"Other\",\"612\":\"Other\",\"613\":\"Other\",\"614\":\"Other\",\"615\":\"Other\",\"616\":\"Other\",\"617\":\"Other\",\"618\":\"Other\",\"619\":\"Other\",\"620\":\"Other\",\"621\":\"Other\",\"622\":\"Other\",\"623\":\"Other\",\"624\":\"Other\",\"625\":\"Other\",\"626\":\"Other\",\"627\":\"Other\",\"628\":\"Other\",\"629\":\"Other\",\"630\":\"Other\",\"631\":\"Other\",\"632\":\"Other\",\"633\":\"Other\",\"634\":\"Other\",\"635\":\"Other\",\"636\":\"Other\",\"637\":\"Other\",\"638\":\"Other\",\"639\":\"Other\",\"640\":\"Other\",\"641\":\"Other\",\"642\":\"Other\",\"643\":\"Other\",\"644\":\"Other\",\"645\":\"Other\",\"646\":\"Other\",\"647\":\"Other\",\"648\":\"Other\",\"649\":\"Other\",\"650\":\"Other\",\"651\":\"Other\",\"652\":\"\",\"653\":\"\",\"654\":\"\",\"655\":\"\",\"656\":\"\",\"657\":\"\",\"658\":\"\",\"659\":\"\",\"660\":\"\",\"661\":\"\",\"662\":\"\",\"663\":\"\",\"664\":\"\",\"665\":\"\",\"666\":\"\",\"667\":\"\",\"668\":\"\",\"669\":\"\",\"670\":\"\",\"671\":\"\",\"672\":\"\",\"673\":\"\",\"674\":\"\",\"675\":\"\",\"676\":\"\",\"677\":\"\",\"678\":\"\",\"679\":\"\",\"680\":\"\",\"681\":\"\",\"682\":\"\",\"683\":\"\",\"684\":\"\",\"685\":\"\",\"686\":\"\",\"687\":\"\",\"688\":\"\",\"689\":\"\",\"690\":\"\",\"691\":\"\",\"692\":\"\",\"693\":\"\",\"694\":\"\",\"695\":\"\",\"696\":\"\",\"697\":\"\",\"698\":\"\",\"699\":\"\",\"700\":\"\",\"701\":\"\",\"702\":\"\",\"703\":\"\",\"704\":\"\",\"705\":\"\",\"706\":\"\",\"707\":\"\",\"708\":\"\",\"709\":\"\",\"710\":\"\",\"711\":\"\",\"712\":\"\",\"713\":\"\",\"714\":\"\",\"715\":\"\",\"716\":\"\",\"717\":\"\",\"718\":\"\",\"719\":\"\",\"720\":\"\",\"721\":\"\",\"722\":\"\",\"723\":\"\",\"724\":\"\",\"725\":\"\",\"726\":\"\",\"727\":\"\",\"728\":\"\",\"729\":\"\",\"730\":\"\",\"731\":\"\",\"732\":\"\",\"733\":\"\",\"734\":\"\",\"735\":\"\",\"736\":\"\",\"737\":\"\",\"738\":\"\",\"739\":\"\",\"740\":\"\",\"741\":\"\",\"742\":\"\",\"743\":\"\",\"744\":\"\",\"745\":\"\",\"746\":\"\",\"747\":\"\",\"748\":\"\",\"749\":\"\",\"750\":\"\",\"751\":\"\",\"752\":\"\",\"753\":\"\",\"754\":\"\",\"755\":\"\",\"756\":\"\",\"757\":\"\",\"758\":\"\",\"759\":\"\",\"760\":\"\",\"761\":\"\",\"762\":\"\",\"763\":\"\",\"764\":\"\",\"765\":\"\",\"766\":\"\",\"767\":\"\",\"768\":\"\",\"769\":\"\",\"770\":\"\",\"771\":\"\",\"772\":\"\",\"773\":\"\",\"774\":\"\",\"775\":\"\",\"776\":\"\",\"777\":\"\",\"778\":\"\",\"779\":\"\",\"780\":\"\",\"781\":\"\",\"782\":\"\",\"783\":\"\",\"784\":\"\",\"785\":\"\",\"786\":\"\",\"787\":\"\",\"788\":\"\",\"789\":\"\",\"790\":\"\",\"791\":\"\",\"792\":\"\",\"793\":\"\",\"794\":\"\",\"795\":\"\",\"796\":\"\",\"797\":\"\",\"798\":\"\",\"799\":\"\",\"800\":\"\",\"801\":\"\",\"802\":\"\",\"803\":\"\",\"804\":\"\",\"805\":\"\",\"806\":\"\",\"807\":\"\",\"808\":\"\",\"809\":\"\",\"810\":\"\",\"811\":\"\",\"812\":\"\",\"813\":\"\",\"814\":\"\",\"815\":\"\",\"816\":\"\",\"817\":\"\",\"818\":\"\",\"819\":\"\",\"820\":\"\",\"821\":\"\",\"822\":\"\",\"823\":\"\",\"824\":\"\",\"825\":\"\",\"826\":\"\",\"827\":\"\",\"828\":\"\",\"829\":\"\",\"830\":\"\",\"831\":\"\",\"832\":\"\",\"833\":\"\",\"834\":\"\",\"835\":\"\",\"836\":\"\",\"837\":\"\",\"838\":\"\",\"839\":\"\",\"840\":\"\",\"841\":\"\",\"842\":\"\",\"843\":\"\",\"844\":\"\",\"845\":\"\",\"846\":\"\",\"847\":\"\",\"848\":\"\",\"849\":\"\",\"850\":\"\",\"851\":\"\",\"852\":\"\",\"853\":\"\",\"854\":\"\",\"855\":\"\",\"856\":\"\",\"857\":\"\",\"858\":\"\",\"859\":\"\",\"860\":\"\",\"861\":\"\",\"862\":\"\",\"863\":\"\",\"864\":\"\",\"865\":\"\",\"866\":\"\",\"867\":\"\",\"868\":\"\",\"869\":\"\",\"870\":\"\",\"871\":\"\",\"872\":\"\",\"873\":\"\",\"874\":\"\",\"875\":\"\",\"876\":\"\",\"877\":\"\",\"878\":\"\",\"879\":\"\",\"880\":\"\",\"881\":\"\",\"882\":\"\",\"883\":\"\",\"884\":\"\",\"885\":\"\",\"886\":\"\",\"887\":\"\",\"888\":\"\",\"889\":\"\",\"890\":\"\",\"891\":\"\",\"892\":\"\",\"893\":\"\",\"894\":\"\",\"895\":\"\",\"896\":\"\",\"897\":\"\",\"898\":\"\",\"899\":\"\",\"900\":\"\",\"901\":\"\",\"902\":\"\",\"903\":\"\",\"904\":\"\",\"905\":\"\",\"906\":\"\",\"907\":\"\",\"908\":\"\",\"909\":\"\",\"910\":\"\",\"911\":\"\",\"912\":\"\",\"913\":\"\",\"914\":\"\",\"915\":\"\",\"916\":\"\",\"917\":\"\",\"918\":\"\",\"919\":\"\",\"920\":\"\",\"921\":\"\",\"922\":\"\",\"923\":\"\",\"924\":\"\",\"925\":\"\",\"926\":\"\",\"927\":\"\",\"928\":\"\",\"929\":\"\",\"930\":\"\",\"931\":\"\",\"932\":\"\",\"933\":\"\",\"934\":\"\",\"935\":\"\",\"936\":\"\",\"937\":\"\",\"938\":\"\",\"939\":\"\",\"940\":\"\",\"941\":\"\",\"942\":\"\",\"943\":\"\",\"944\":\"\",\"945\":\"\",\"946\":\"\",\"947\":\"\",\"948\":\"\",\"949\":\"\",\"950\":\"\",\"951\":\"\",\"952\":\"\",\"953\":\"\",\"954\":\"\",\"955\":\"\",\"956\":\"\",\"957\":\"\",\"958\":\"\",\"959\":\"\",\"960\":\"\",\"961\":\"\",\"962\":\"\",\"963\":\"\",\"964\":\"\",\"965\":\"\",\"966\":\"\",\"967\":\"\",\"968\":\"\",\"969\":\"\",\"970\":\"\",\"971\":\"\",\"972\":\"\",\"973\":\"\",\"974\":\"\",\"975\":\"\",\"976\":\"\",\"977\":\"\",\"978\":\"\",\"979\":\"\",\"980\":\"\",\"981\":\"\",\"982\":\"\",\"983\":\"\",\"984\":\"\",\"985\":\"\",\"986\":\"\",\"987\":\"\"},\"Clicks\":{\"0\":64715,\"1\":59708,\"2\":\"Test\",\"3\":3219,\"4\":1820,\"5\":1370,\"6\":1096,\"7\":1290,\"8\":311,\"9\":1228,\"10\":1659,\"11\":727,\"12\":158,\"13\":738,\"14\":1112,\"15\":687,\"16\":487,\"17\":1203,\"18\":1209,\"19\":777,\"20\":509,\"21\":230,\"22\":495,\"23\":1818,\"24\":79,\"25\":234,\"26\":458,\"27\":552,\"28\":489,\"29\":396,\"30\":89,\"31\":1103,\"32\":680,\"33\":582,\"34\":912,\"35\":255,\"36\":405,\"37\":261,\"38\":291,\"39\":391,\"40\":391,\"41\":1297,\"42\":46,\"43\":675,\"44\":102,\"45\":226,\"46\":266,\"47\":777,\"48\":198,\"49\":\"Other\",\"50\":320,\"51\":25,\"52\":207,\"53\":217,\"54\":170,\"55\":229,\"56\":\"Other\",\"57\":122,\"58\":236,\"59\":17,\"60\":92,\"61\":382,\"62\":310,\"63\":23,\"64\":473,\"65\":265,\"66\":\"Other\",\"67\":125,\"68\":\"Other\",\"69\":429,\"70\":\"Other\",\"71\":460,\"72\":158,\"73\":134,\"74\":456,\"75\":120,\"76\":480,\"77\":214,\"78\":84,\"79\":352,\"80\":30,\"81\":456,\"82\":294,\"83\":134,\"84\":184,\"85\":\"Other\",\"86\":23,\"87\":211,\"88\":221,\"89\":149,\"90\":\"Other\",\"91\":53,\"92\":73,\"93\":219,\"94\":\"Other\",\"95\":190,\"96\":87,\"97\":28,\"98\":\"Other\",\"99\":\"Other\",\"100\":\"Other\",\"101\":\"Other\",\"102\":23,\"103\":167,\"104\":457,\"105\":152,\"106\":103,\"107\":220,\"108\":75,\"109\":158,\"110\":208,\"111\":158,\"112\":123,\"113\":131,\"114\":221,\"115\":89,\"116\":111,\"117\":73,\"118\":\"Other\",\"119\":26,\"120\":148,\"121\":41,\"122\":\"Other\",\"123\":75,\"124\":34,\"125\":\"Other\",\"126\":\"Other\",\"127\":178,\"128\":\"Other\",\"129\":138,\"130\":42,\"131\":184,\"132\":150,\"133\":\"Other\",\"134\":162,\"135\":40,\"136\":109,\"137\":53,\"138\":141,\"139\":\"Other\",\"140\":198,\"141\":\"Other\",\"142\":28,\"143\":37,\"144\":54,\"145\":202,\"146\":14,\"147\":90,\"148\":\"Other\",\"149\":\"Other\",\"150\":\"Other\",\"151\":109,\"152\":102,\"153\":21,\"154\":131,\"155\":\"Other\",\"156\":\"Other\",\"157\":166,\"158\":78,\"159\":\"Other\",\"160\":\"Other\",\"161\":162,\"162\":113,\"163\":\"Other\",\"164\":\"Other\",\"165\":18,\"166\":\"Other\",\"167\":\"Other\",\"168\":184,\"169\":\"Other\",\"170\":62,\"171\":\"Other\",\"172\":\"Other\",\"173\":99,\"174\":64,\"175\":102,\"176\":65,\"177\":7,\"178\":\"Other\",\"179\":\"Other\",\"180\":\"Other\",\"181\":72,\"182\":\"Other\",\"183\":157,\"184\":\"Other\",\"185\":86,\"186\":131,\"187\":\"Other\",\"188\":\"Other\",\"189\":\"Other\",\"190\":\"Other\",\"191\":\"Other\",\"192\":\"Other\",\"193\":\"Other\",\"194\":\"Other\",\"195\":98,\"196\":\"Other\",\"197\":\"Other\",\"198\":45,\"199\":\"Other\",\"200\":63,\"201\":100,\"202\":\"Other\",\"203\":72,\"204\":89,\"205\":155,\"206\":211,\"207\":\"Other\",\"208\":\"Other\",\"209\":\"Other\",\"210\":12,\"211\":\"Other\",\"212\":\"Other\",\"213\":\"Other\",\"214\":68,\"215\":22,\"216\":\"Other\",\"217\":13,\"218\":\"Other\",\"219\":\"Other\",\"220\":\"Other\",\"221\":\"Other\",\"222\":18,\"223\":\"Other\",\"224\":\"Other\",\"225\":91,\"226\":\"Other\",\"227\":64,\"228\":68,\"229\":\"Other\",\"230\":\"Other\",\"231\":52,\"232\":67,\"233\":\"Other\",\"234\":\"Other\",\"235\":\"Other\",\"236\":\"Other\",\"237\":\"Other\",\"238\":142,\"239\":\"Other\",\"240\":\"Other\",\"241\":\"Other\",\"242\":\"Other\",\"243\":\"Other\",\"244\":\"Other\",\"245\":107,\"246\":\"Other\",\"247\":\"Other\",\"248\":\"Other\",\"249\":\"Other\",\"250\":\"Other\",\"251\":\"Other\",\"252\":\"Other\",\"253\":\"Other\",\"254\":\"Other\",\"255\":9,\"256\":\"Other\",\"257\":\"Other\",\"258\":\"Other\",\"259\":42,\"260\":\"Other\",\"261\":\"Other\",\"262\":\"Other\",\"263\":\"Other\",\"264\":\"Other\",\"265\":\"Other\",\"266\":\"Other\",\"267\":\"Other\",\"268\":\"Other\",\"269\":\"Other\",\"270\":149,\"271\":\"Other\",\"272\":45,\"273\":\"Other\",\"274\":\"Other\",\"275\":\"Other\",\"276\":\"Other\",\"277\":22,\"278\":\"Other\",\"279\":\"Other\",\"280\":56,\"281\":\"Other\",\"282\":11,\"283\":\"Other\",\"284\":\"Other\",\"285\":\"Other\",\"286\":\"Other\",\"287\":\"Other\",\"288\":\"Other\",\"289\":\"Other\",\"290\":\"Other\",\"291\":\"Other\",\"292\":\"Other\",\"293\":\"Other\",\"294\":\"Other\",\"295\":\"Other\",\"296\":\"Other\",\"297\":\"Other\",\"298\":\"Other\",\"299\":\"Other\",\"300\":\"Other\",\"301\":\"Other\",\"302\":\"Other\",\"303\":\"Other\",\"304\":\"Other\",\"305\":\"Other\",\"306\":\"Other\",\"307\":\"Other\",\"308\":\"Other\",\"309\":\"Other\",\"310\":\"Other\",\"311\":\"Other\",\"312\":\"Other\",\"313\":\"Other\",\"314\":\"Other\",\"315\":\"Other\",\"316\":\"Other\",\"317\":\"Other\",\"318\":\"Other\",\"319\":\"Other\",\"320\":\"Other\",\"321\":\"Other\",\"322\":\"Other\",\"323\":\"Other\",\"324\":\"Other\",\"325\":\"Other\",\"326\":\"Other\",\"327\":\"Other\",\"328\":\"Other\",\"329\":\"Other\",\"330\":\"Other\",\"331\":\"Other\",\"332\":\"Other\",\"333\":65,\"334\":\"Other\",\"335\":\"Other\",\"336\":\"Other\",\"337\":\"Other\",\"338\":\"Other\",\"339\":\"Other\",\"340\":\"Other\",\"341\":\"Other\",\"342\":\"Other\",\"343\":\"Other\",\"344\":\"Other\",\"345\":\"Other\",\"346\":\"Other\",\"347\":34,\"348\":\"Other\",\"349\":\"Other\",\"350\":\"Other\",\"351\":\"Other\",\"352\":\"Other\",\"353\":\"Other\",\"354\":\"Other\",\"355\":\"Other\",\"356\":\"Other\",\"357\":\"Other\",\"358\":\"Other\",\"359\":\"Other\",\"360\":\"Other\",\"361\":\"Other\",\"362\":\"Other\",\"363\":\"Other\",\"364\":\"Other\",\"365\":\"Other\",\"366\":\"Other\",\"367\":\"Other\",\"368\":\"Other\",\"369\":\"Other\",\"370\":\"Other\",\"371\":\"Other\",\"372\":\"Other\",\"373\":\"Other\",\"374\":\"Other\",\"375\":\"Other\",\"376\":\"Other\",\"377\":\"Other\",\"378\":\"Other\",\"379\":\"Other\",\"380\":\"Other\",\"381\":\"Other\",\"382\":63,\"383\":\"Other\",\"384\":\"Other\",\"385\":\"Other\",\"386\":\"Other\",\"387\":\"Other\",\"388\":40,\"389\":\"Other\",\"390\":\"Other\",\"391\":\"Other\",\"392\":\"Other\",\"393\":\"Other\",\"394\":\"Other\",\"395\":\"Other\",\"396\":\"Other\",\"397\":\"Other\",\"398\":\"Other\",\"399\":\"Other\",\"400\":\"Other\",\"401\":\"Other\",\"402\":\"Other\",\"403\":\"Other\",\"404\":\"Other\",\"405\":\"Other\",\"406\":\"Other\",\"407\":\"Other\",\"408\":\"Other\",\"409\":\"Other\",\"410\":\"Other\",\"411\":\"Other\",\"412\":\"Other\",\"413\":\"Other\",\"414\":\"Other\",\"415\":\"Other\",\"416\":\"Other\",\"417\":\"Other\",\"418\":\"Other\",\"419\":20,\"420\":\"Other\",\"421\":\"Other\",\"422\":\"Other\",\"423\":\"Other\",\"424\":\"Other\",\"425\":\"Other\",\"426\":\"Other\",\"427\":\"Other\",\"428\":\"Other\",\"429\":\"Other\",\"430\":\"Other\",\"431\":\"Other\",\"432\":\"Other\",\"433\":\"Other\",\"434\":\"Other\",\"435\":\"Other\",\"436\":\"Other\",\"437\":\"Other\",\"438\":\"Other\",\"439\":\"Other\",\"440\":\"Other\",\"441\":\"Other\",\"442\":\"Other\",\"443\":\"Other\",\"444\":\"Other\",\"445\":\"Other\",\"446\":\"Other\",\"447\":\"Other\",\"448\":\"Other\",\"449\":\"Other\",\"450\":\"Other\",\"451\":\"Other\",\"452\":\"Other\",\"453\":\"Other\",\"454\":\"Other\",\"455\":\"Other\",\"456\":\"Other\",\"457\":\"Other\",\"458\":\"Other\",\"459\":\"Other\",\"460\":\"Other\",\"461\":\"Other\",\"462\":\"Other\",\"463\":\"Other\",\"464\":\"Other\",\"465\":\"Other\",\"466\":\"Other\",\"467\":\"Other\",\"468\":\"Other\",\"469\":\"Other\",\"470\":\"Other\",\"471\":\"Other\",\"472\":\"Other\",\"473\":\"Other\",\"474\":\"Other\",\"475\":\"Other\",\"476\":\"Other\",\"477\":\"Other\",\"478\":\"Other\",\"479\":\"Other\",\"480\":\"Other\",\"481\":\"Other\",\"482\":\"Other\",\"483\":\"Other\",\"484\":\"Other\",\"485\":\"Other\",\"486\":\"Other\",\"487\":\"Other\",\"488\":\"Other\",\"489\":\"Other\",\"490\":\"Other\",\"491\":\"Other\",\"492\":\"Other\",\"493\":\"Other\",\"494\":\"Other\",\"495\":\"Other\",\"496\":\"Other\",\"497\":\"Other\",\"498\":\"Other\",\"499\":\"Other\",\"500\":\"Other\",\"501\":\"Other\",\"502\":\"Other\",\"503\":\"Other\",\"504\":\"Other\",\"505\":\"Other\",\"506\":\"Other\",\"507\":\"Other\",\"508\":\"Other\",\"509\":\"Other\",\"510\":\"Other\",\"511\":\"Other\",\"512\":\"Other\",\"513\":\"Other\",\"514\":\"Other\",\"515\":\"Other\",\"516\":\"Other\",\"517\":\"Other\",\"518\":\"Other\",\"519\":\"Other\",\"520\":\"Other\",\"521\":\"Other\",\"522\":\"Other\",\"523\":\"Other\",\"524\":\"Other\",\"525\":\"Other\",\"526\":\"Other\",\"527\":\"Other\",\"528\":\"Other\",\"529\":\"Other\",\"530\":\"Other\",\"531\":\"Other\",\"532\":\"Other\",\"533\":\"Other\",\"534\":\"Other\",\"535\":\"Other\",\"536\":\"Other\",\"537\":\"Other\",\"538\":\"Other\",\"539\":\"Other\",\"540\":\"Other\",\"541\":\"Other\",\"542\":\"Other\",\"543\":\"Other\",\"544\":\"Other\",\"545\":\"Other\",\"546\":\"Other\",\"547\":\"Other\",\"548\":\"Other\",\"549\":\"Other\",\"550\":\"Other\",\"551\":\"Other\",\"552\":\"Other\",\"553\":3,\"554\":\"Other\",\"555\":\"Other\",\"556\":\"Other\",\"557\":\"Other\",\"558\":\"Other\",\"559\":\"Other\",\"560\":\"Other\",\"561\":\"Other\",\"562\":\"Other\",\"563\":\"Other\",\"564\":\"Other\",\"565\":\"Other\",\"566\":\"Other\",\"567\":\"Other\",\"568\":\"Other\",\"569\":\"Other\",\"570\":\"Other\",\"571\":\"Other\",\"572\":\"Other\",\"573\":\"Other\",\"574\":\"Other\",\"575\":\"Other\",\"576\":\"Other\",\"577\":\"Other\",\"578\":\"Other\",\"579\":\"Other\",\"580\":\"Other\",\"581\":\"Other\",\"582\":\"Other\",\"583\":\"Other\",\"584\":\"Other\",\"585\":\"Other\",\"586\":\"Other\",\"587\":\"Other\",\"588\":\"Other\",\"589\":\"Other\",\"590\":\"Other\",\"591\":\"Other\",\"592\":\"Other\",\"593\":\"Other\",\"594\":\"Other\",\"595\":\"Other\",\"596\":\"Other\",\"597\":19,\"598\":\"Other\",\"599\":\"Other\",\"600\":\"Other\",\"601\":\"Other\",\"602\":\"Other\",\"603\":\"Other\",\"604\":\"Other\",\"605\":\"Other\",\"606\":\"Other\",\"607\":\"Other\",\"608\":\"Other\",\"609\":\"Other\",\"610\":\"Other\",\"611\":\"Other\",\"612\":\"Other\",\"613\":\"Other\",\"614\":\"Other\",\"615\":\"Other\",\"616\":\"Other\",\"617\":\"Other\",\"618\":\"Other\",\"619\":\"Other\",\"620\":\"Other\",\"621\":\"Other\",\"622\":\"Other\",\"623\":\"Other\",\"624\":\"Other\",\"625\":\"Other\",\"626\":\"Other\",\"627\":\"Other\",\"628\":\"Other\",\"629\":\"Other\",\"630\":\"Other\",\"631\":\"Other\",\"632\":\"Other\",\"633\":\"Other\",\"634\":\"Other\",\"635\":\"Other\",\"636\":\"Other\",\"637\":\"Other\",\"638\":\"Other\",\"639\":\"Other\",\"640\":\"Other\",\"641\":\"Other\",\"642\":\"Other\",\"643\":\"Other\",\"644\":\"Other\",\"645\":\"Other\",\"646\":\"Other\",\"647\":\"Other\",\"648\":\"Other\",\"649\":\"Other\",\"650\":\"Other\",\"651\":\"Other\",\"652\":\"\",\"653\":\"\",\"654\":\"\",\"655\":\"\",\"656\":\"\",\"657\":\"\",\"658\":\"\",\"659\":\"\",\"660\":\"\",\"661\":\"\",\"662\":\"\",\"663\":\"\",\"664\":\"\",\"665\":\"\",\"666\":\"\",\"667\":\"\",\"668\":\"\",\"669\":\"\",\"670\":\"\",\"671\":\"\",\"672\":\"\",\"673\":\"\",\"674\":\"\",\"675\":\"\",\"676\":\"\",\"677\":\"\",\"678\":\"\",\"679\":\"\",\"680\":\"\",\"681\":\"\",\"682\":\"\",\"683\":\"\",\"684\":\"\",\"685\":\"\",\"686\":\"\",\"687\":\"\",\"688\":\"\",\"689\":\"\",\"690\":\"\",\"691\":\"\",\"692\":\"\",\"693\":\"\",\"694\":\"\",\"695\":\"\",\"696\":\"\",\"697\":\"\",\"698\":\"\",\"699\":\"\",\"700\":\"\",\"701\":\"\",\"702\":\"\",\"703\":\"\",\"704\":\"\",\"705\":\"\",\"706\":\"\",\"707\":\"\",\"708\":\"\",\"709\":\"\",\"710\":\"\",\"711\":\"\",\"712\":\"\",\"713\":\"\",\"714\":\"\",\"715\":\"\",\"716\":\"\",\"717\":\"\",\"718\":\"\",\"719\":\"\",\"720\":\"\",\"721\":\"\",\"722\":\"\",\"723\":\"\",\"724\":\"\",\"725\":\"\",\"726\":\"\",\"727\":\"\",\"728\":\"\",\"729\":\"\",\"730\":\"\",\"731\":\"\",\"732\":\"\",\"733\":\"\",\"734\":\"\",\"735\":\"\",\"736\":\"\",\"737\":\"\",\"738\":\"\",\"739\":\"\",\"740\":\"\",\"741\":\"\",\"742\":\"\",\"743\":\"\",\"744\":\"\",\"745\":\"\",\"746\":\"\",\"747\":\"\",\"748\":\"\",\"749\":\"\",\"750\":\"\",\"751\":\"\",\"752\":\"\",\"753\":\"\",\"754\":\"\",\"755\":\"\",\"756\":\"\",\"757\":\"\",\"758\":\"\",\"759\":\"\",\"760\":\"\",\"761\":\"\",\"762\":\"\",\"763\":\"\",\"764\":\"\",\"765\":\"\",\"766\":\"\",\"767\":\"\",\"768\":\"\",\"769\":\"\",\"770\":\"\",\"771\":\"\",\"772\":\"\",\"773\":\"\",\"774\":\"\",\"775\":\"\",\"776\":\"\",\"777\":\"\",\"778\":\"\",\"779\":\"\",\"780\":\"\",\"781\":\"\",\"782\":\"\",\"783\":\"\",\"784\":\"\",\"785\":\"\",\"786\":\"\",\"787\":\"\",\"788\":\"\",\"789\":\"\",\"790\":\"\",\"791\":\"\",\"792\":\"\",\"793\":\"\",\"794\":\"\",\"795\":\"\",\"796\":\"\",\"797\":\"\",\"798\":\"\",\"799\":\"\",\"800\":\"\",\"801\":\"\",\"802\":\"\",\"803\":\"\",\"804\":\"\",\"805\":\"\",\"806\":\"\",\"807\":\"\",\"808\":\"\",\"809\":\"\",\"810\":\"\",\"811\":\"\",\"812\":\"\",\"813\":\"\",\"814\":\"\",\"815\":\"\",\"816\":\"\",\"817\":\"\",\"818\":\"\",\"819\":\"\",\"820\":\"\",\"821\":\"\",\"822\":\"\",\"823\":\"\",\"824\":\"\",\"825\":\"\",\"826\":\"\",\"827\":\"\",\"828\":\"\",\"829\":\"\",\"830\":\"\",\"831\":\"\",\"832\":\"\",\"833\":\"\",\"834\":\"\",\"835\":\"\",\"836\":\"\",\"837\":\"\",\"838\":\"\",\"839\":\"\",\"840\":\"\",\"841\":\"\",\"842\":\"\",\"843\":\"\",\"844\":\"\",\"845\":\"\",\"846\":\"\",\"847\":\"\",\"848\":\"\",\"849\":\"\",\"850\":\"\",\"851\":\"\",\"852\":\"\",\"853\":\"\",\"854\":\"\",\"855\":\"\",\"856\":\"\",\"857\":\"\",\"858\":\"\",\"859\":\"\",\"860\":\"\",\"861\":\"\",\"862\":\"\",\"863\":\"\",\"864\":\"\",\"865\":\"\",\"866\":\"\",\"867\":\"\",\"868\":\"\",\"869\":\"\",\"870\":\"\",\"871\":\"\",\"872\":\"\",\"873\":\"\",\"874\":\"\",\"875\":\"\",\"876\":\"\",\"877\":\"\",\"878\":\"\",\"879\":\"\",\"880\":\"\",\"881\":\"\",\"882\":\"\",\"883\":\"\",\"884\":\"\",\"885\":\"\",\"886\":\"\",\"887\":\"\",\"888\":\"\",\"889\":\"\",\"890\":\"\",\"891\":\"\",\"892\":\"\",\"893\":\"\",\"894\":\"\",\"895\":\"\",\"896\":\"\",\"897\":\"\",\"898\":\"\",\"899\":\"\",\"900\":\"\",\"901\":\"\",\"902\":\"\",\"903\":\"\",\"904\":\"\",\"905\":\"\",\"906\":\"\",\"907\":\"\",\"908\":\"\",\"909\":\"\",\"910\":\"\",\"911\":\"\",\"912\":\"\",\"913\":\"\",\"914\":\"\",\"915\":\"\",\"916\":\"\",\"917\":\"\",\"918\":\"\",\"919\":\"\",\"920\":\"\",\"921\":\"\",\"922\":\"\",\"923\":\"\",\"924\":\"\",\"925\":\"\",\"926\":\"\",\"927\":\"\",\"928\":\"\",\"929\":\"\",\"930\":\"\",\"931\":\"\",\"932\":\"\",\"933\":\"\",\"934\":\"\",\"935\":\"\",\"936\":\"\",\"937\":\"\",\"938\":\"\",\"939\":\"\",\"940\":\"\",\"941\":\"\",\"942\":\"\",\"943\":\"\",\"944\":\"\",\"945\":\"\",\"946\":\"\",\"947\":\"\",\"948\":\"\",\"949\":\"\",\"950\":\"\",\"951\":\"\",\"952\":\"\",\"953\":\"\",\"954\":\"\",\"955\":\"\",\"956\":\"\",\"957\":\"\",\"958\":\"\",\"959\":\"\",\"960\":\"\",\"961\":\"\",\"962\":\"\",\"963\":\"\",\"964\":\"\",\"965\":\"\",\"966\":\"\",\"967\":\"\",\"968\":\"\",\"969\":\"\",\"970\":\"\",\"971\":\"\",\"972\":\"\",\"973\":\"\",\"974\":\"\",\"975\":\"\",\"976\":\"\",\"977\":\"\",\"978\":\"\",\"979\":\"\",\"980\":\"\",\"981\":\"\",\"982\":\"\",\"983\":\"\",\"984\":\"\",\"985\":\"\",\"986\":\"\",\"987\":\"\"},\"CPS\":{\"0\":\"NA\",\"1\":\"NA\",\"2\":\"Test\",\"3\":\"NA\",\"4\":\"NA\",\"5\":\"NA\",\"6\":\"NA\",\"7\":\"NA\",\"8\":\"NA\",\"9\":\"NA\",\"10\":\"NA\",\"11\":\"NA\",\"12\":\"NA\",\"13\":\"NA\",\"14\":\"NA\",\"15\":\"NA\",\"16\":\"NA\",\"17\":\"NA\",\"18\":\"NA\",\"19\":\"NA\",\"20\":\"NA\",\"21\":\"NA\",\"22\":\"NA\",\"23\":\"NA\",\"24\":\"NA\",\"25\":\"NA\",\"26\":\"NA\",\"27\":\"NA\",\"28\":\"NA\",\"29\":\"NA\",\"30\":\"NA\",\"31\":\"NA\",\"32\":\"NA\",\"33\":\"NA\",\"34\":\"NA\",\"35\":\"NA\",\"36\":\"NA\",\"37\":\"NA\",\"38\":\"NA\",\"39\":\"NA\",\"40\":\"NA\",\"41\":\"NA\",\"42\":\"NA\",\"43\":\"NA\",\"44\":\"NA\",\"45\":\"NA\",\"46\":\"NA\",\"47\":\"NA\",\"48\":\"NA\",\"49\":\"NA\",\"50\":\"NA\",\"51\":\"NA\",\"52\":\"NA\",\"53\":\"NA\",\"54\":\"NA\",\"55\":\"NA\",\"56\":\"NA\",\"57\":\"NA\",\"58\":\"NA\",\"59\":\"NA\",\"60\":\"NA\",\"61\":\"NA\",\"62\":\"NA\",\"63\":\"NA\",\"64\":\"NA\",\"65\":\"NA\",\"66\":\"NA\",\"67\":\"NA\",\"68\":\"NA\",\"69\":\"NA\",\"70\":\"NA\",\"71\":\"NA\",\"72\":\"NA\",\"73\":\"NA\",\"74\":\"NA\",\"75\":\"NA\",\"76\":\"NA\",\"77\":\"NA\",\"78\":\"NA\",\"79\":\"NA\",\"80\":\"NA\",\"81\":\"NA\",\"82\":\"NA\",\"83\":\"NA\",\"84\":\"NA\",\"85\":\"NA\",\"86\":\"NA\",\"87\":\"NA\",\"88\":\"NA\",\"89\":\"NA\",\"90\":\"NA\",\"91\":\"NA\",\"92\":\"NA\",\"93\":\"NA\",\"94\":\"NA\",\"95\":\"NA\",\"96\":\"NA\",\"97\":\"NA\",\"98\":\"NA\",\"99\":\"NA\",\"100\":\"NA\",\"101\":\"NA\",\"102\":\"NA\",\"103\":\"NA\",\"104\":\"NA\",\"105\":\"NA\",\"106\":\"NA\",\"107\":\"NA\",\"108\":\"NA\",\"109\":\"NA\",\"110\":\"NA\",\"111\":\"NA\",\"112\":\"NA\",\"113\":\"NA\",\"114\":\"NA\",\"115\":\"NA\",\"116\":\"NA\",\"117\":\"NA\",\"118\":\"NA\",\"119\":\"NA\",\"120\":\"NA\",\"121\":\"NA\",\"122\":\"NA\",\"123\":\"NA\",\"124\":\"NA\",\"125\":\"NA\",\"126\":\"NA\",\"127\":\"NA\",\"128\":\"NA\",\"129\":\"NA\",\"130\":\"NA\",\"131\":\"NA\",\"132\":\"NA\",\"133\":\"NA\",\"134\":\"NA\",\"135\":\"NA\",\"136\":\"NA\",\"137\":\"NA\",\"138\":\"NA\",\"139\":\"NA\",\"140\":\"NA\",\"141\":\"NA\",\"142\":\"NA\",\"143\":\"NA\",\"144\":\"NA\",\"145\":\"NA\",\"146\":\"NA\",\"147\":\"NA\",\"148\":\"NA\",\"149\":\"NA\",\"150\":\"NA\",\"151\":\"NA\",\"152\":\"NA\",\"153\":\"NA\",\"154\":\"NA\",\"155\":\"NA\",\"156\":\"NA\",\"157\":\"NA\",\"158\":\"NA\",\"159\":\"NA\",\"160\":\"NA\",\"161\":\"NA\",\"162\":\"NA\",\"163\":\"NA\",\"164\":\"NA\",\"165\":\"NA\",\"166\":\"NA\",\"167\":\"NA\",\"168\":\"NA\",\"169\":\"NA\",\"170\":\"NA\",\"171\":\"NA\",\"172\":\"NA\",\"173\":\"NA\",\"174\":\"NA\",\"175\":\"NA\",\"176\":\"NA\",\"177\":\"NA\",\"178\":\"NA\",\"179\":\"NA\",\"180\":\"NA\",\"181\":\"NA\",\"182\":\"NA\",\"183\":\"NA\",\"184\":\"NA\",\"185\":\"NA\",\"186\":\"NA\",\"187\":\"NA\",\"188\":\"NA\",\"189\":\"NA\",\"190\":\"NA\",\"191\":\"NA\",\"192\":\"NA\",\"193\":\"NA\",\"194\":\"NA\",\"195\":\"NA\",\"196\":\"NA\",\"197\":\"NA\",\"198\":\"NA\",\"199\":\"NA\",\"200\":\"NA\",\"201\":\"NA\",\"202\":\"NA\",\"203\":\"NA\",\"204\":\"NA\",\"205\":\"NA\",\"206\":\"NA\",\"207\":\"NA\",\"208\":\"NA\",\"209\":\"NA\",\"210\":\"NA\",\"211\":\"NA\",\"212\":\"NA\",\"213\":\"NA\",\"214\":\"NA\",\"215\":\"NA\",\"216\":\"NA\",\"217\":\"NA\",\"218\":\"NA\",\"219\":\"NA\",\"220\":\"NA\",\"221\":\"NA\",\"222\":\"NA\",\"223\":\"NA\",\"224\":\"NA\",\"225\":\"NA\",\"226\":\"NA\",\"227\":\"NA\",\"228\":\"NA\",\"229\":\"NA\",\"230\":\"NA\",\"231\":\"NA\",\"232\":\"NA\",\"233\":\"NA\",\"234\":\"NA\",\"235\":\"NA\",\"236\":\"NA\",\"237\":\"NA\",\"238\":\"NA\",\"239\":\"NA\",\"240\":\"NA\",\"241\":\"NA\",\"242\":\"NA\",\"243\":\"NA\",\"244\":\"NA\",\"245\":\"NA\",\"246\":\"NA\",\"247\":\"NA\",\"248\":\"NA\",\"249\":\"NA\",\"250\":\"NA\",\"251\":\"NA\",\"252\":\"NA\",\"253\":\"NA\",\"254\":\"NA\",\"255\":\"NA\",\"256\":\"NA\",\"257\":\"NA\",\"258\":\"NA\",\"259\":\"NA\",\"260\":\"NA\",\"261\":\"NA\",\"262\":\"NA\",\"263\":\"NA\",\"264\":\"NA\",\"265\":\"NA\",\"266\":\"NA\",\"267\":\"NA\",\"268\":\"NA\",\"269\":\"NA\",\"270\":\"NA\",\"271\":\"NA\",\"272\":\"NA\",\"273\":\"NA\",\"274\":\"NA\",\"275\":\"NA\",\"276\":\"NA\",\"277\":\"NA\",\"278\":\"NA\",\"279\":\"NA\",\"280\":\"NA\",\"281\":\"NA\",\"282\":\"NA\",\"283\":\"NA\",\"284\":\"NA\",\"285\":\"NA\",\"286\":\"NA\",\"287\":\"NA\",\"288\":\"NA\",\"289\":\"NA\",\"290\":\"NA\",\"291\":\"NA\",\"292\":\"NA\",\"293\":\"NA\",\"294\":\"NA\",\"295\":\"NA\",\"296\":\"NA\",\"297\":\"NA\",\"298\":\"NA\",\"299\":\"NA\",\"300\":\"NA\",\"301\":\"NA\",\"302\":\"NA\",\"303\":\"NA\",\"304\":\"NA\",\"305\":\"NA\",\"306\":\"NA\",\"307\":\"NA\",\"308\":\"NA\",\"309\":\"NA\",\"310\":\"NA\",\"311\":\"NA\",\"312\":\"NA\",\"313\":\"NA\",\"314\":\"NA\",\"315\":\"NA\",\"316\":\"NA\",\"317\":\"NA\",\"318\":\"NA\",\"319\":\"NA\",\"320\":\"NA\",\"321\":\"NA\",\"322\":\"NA\",\"323\":\"NA\",\"324\":\"NA\",\"325\":\"NA\",\"326\":\"NA\",\"327\":\"NA\",\"328\":\"NA\",\"329\":\"NA\",\"330\":\"NA\",\"331\":\"NA\",\"332\":\"NA\",\"333\":\"NA\",\"334\":\"NA\",\"335\":\"NA\",\"336\":\"NA\",\"337\":\"NA\",\"338\":\"NA\",\"339\":\"NA\",\"340\":\"NA\",\"341\":\"NA\",\"342\":\"NA\",\"343\":\"NA\",\"344\":\"NA\",\"345\":\"NA\",\"346\":\"NA\",\"347\":\"NA\",\"348\":\"NA\",\"349\":\"NA\",\"350\":\"NA\",\"351\":\"NA\",\"352\":\"NA\",\"353\":\"NA\",\"354\":\"NA\",\"355\":\"NA\",\"356\":\"NA\",\"357\":\"NA\",\"358\":\"NA\",\"359\":\"NA\",\"360\":\"NA\",\"361\":\"NA\",\"362\":\"NA\",\"363\":\"NA\",\"364\":\"NA\",\"365\":\"NA\",\"366\":\"NA\",\"367\":\"NA\",\"368\":\"NA\",\"369\":\"NA\",\"370\":\"NA\",\"371\":\"NA\",\"372\":\"NA\",\"373\":\"NA\",\"374\":\"NA\",\"375\":\"NA\",\"376\":\"NA\",\"377\":\"NA\",\"378\":\"NA\",\"379\":\"NA\",\"380\":\"NA\",\"381\":\"NA\",\"382\":\"NA\",\"383\":\"NA\",\"384\":\"NA\",\"385\":\"NA\",\"386\":\"NA\",\"387\":\"NA\",\"388\":\"NA\",\"389\":\"NA\",\"390\":\"NA\",\"391\":\"NA\",\"392\":\"NA\",\"393\":\"NA\",\"394\":\"NA\",\"395\":\"NA\",\"396\":\"NA\",\"397\":\"NA\",\"398\":\"NA\",\"399\":\"NA\",\"400\":\"NA\",\"401\":\"NA\",\"402\":\"NA\",\"403\":\"NA\",\"404\":\"NA\",\"405\":\"NA\",\"406\":\"NA\",\"407\":\"NA\",\"408\":\"NA\",\"409\":\"NA\",\"410\":\"NA\",\"411\":\"NA\",\"412\":\"NA\",\"413\":\"NA\",\"414\":\"NA\",\"415\":\"NA\",\"416\":\"NA\",\"417\":\"NA\",\"418\":\"NA\",\"419\":\"NA\",\"420\":\"NA\",\"421\":\"NA\",\"422\":\"NA\",\"423\":\"NA\",\"424\":\"NA\",\"425\":\"NA\",\"426\":\"NA\",\"427\":\"NA\",\"428\":\"NA\",\"429\":\"NA\",\"430\":\"NA\",\"431\":\"NA\",\"432\":\"NA\",\"433\":\"NA\",\"434\":\"NA\",\"435\":\"NA\",\"436\":\"NA\",\"437\":\"NA\",\"438\":\"NA\",\"439\":\"NA\",\"440\":\"NA\",\"441\":\"NA\",\"442\":\"NA\",\"443\":\"NA\",\"444\":\"NA\",\"445\":\"NA\",\"446\":\"NA\",\"447\":\"NA\",\"448\":\"NA\",\"449\":\"NA\",\"450\":\"NA\",\"451\":\"NA\",\"452\":\"NA\",\"453\":\"NA\",\"454\":\"NA\",\"455\":\"NA\",\"456\":\"NA\",\"457\":\"NA\",\"458\":\"NA\",\"459\":\"NA\",\"460\":\"NA\",\"461\":\"NA\",\"462\":\"NA\",\"463\":\"NA\",\"464\":\"NA\",\"465\":\"NA\",\"466\":\"NA\",\"467\":\"NA\",\"468\":\"NA\",\"469\":\"NA\",\"470\":\"NA\",\"471\":\"NA\",\"472\":\"NA\",\"473\":\"NA\",\"474\":\"NA\",\"475\":\"NA\",\"476\":\"NA\",\"477\":\"NA\",\"478\":\"NA\",\"479\":\"NA\",\"480\":\"NA\",\"481\":\"NA\",\"482\":\"NA\",\"483\":\"NA\",\"484\":\"NA\",\"485\":\"NA\",\"486\":\"NA\",\"487\":\"NA\",\"488\":\"NA\",\"489\":\"NA\",\"490\":\"NA\",\"491\":\"NA\",\"492\":\"NA\",\"493\":\"NA\",\"494\":\"NA\",\"495\":\"NA\",\"496\":\"NA\",\"497\":\"NA\",\"498\":\"NA\",\"499\":\"NA\",\"500\":\"NA\",\"501\":\"NA\",\"502\":\"NA\",\"503\":\"NA\",\"504\":\"NA\",\"505\":\"NA\",\"506\":\"NA\",\"507\":\"NA\",\"508\":\"NA\",\"509\":\"NA\",\"510\":\"NA\",\"511\":\"NA\",\"512\":\"NA\",\"513\":\"NA\",\"514\":\"NA\",\"515\":\"NA\",\"516\":\"NA\",\"517\":\"NA\",\"518\":\"NA\",\"519\":\"NA\",\"520\":\"NA\",\"521\":\"NA\",\"522\":\"NA\",\"523\":\"NA\",\"524\":\"NA\",\"525\":\"NA\",\"526\":\"NA\",\"527\":\"NA\",\"528\":\"NA\",\"529\":\"NA\",\"530\":\"NA\",\"531\":\"NA\",\"532\":\"NA\",\"533\":\"NA\",\"534\":\"NA\",\"535\":\"NA\",\"536\":\"NA\",\"537\":\"NA\",\"538\":\"NA\",\"539\":\"NA\",\"540\":\"NA\",\"541\":\"NA\",\"542\":\"NA\",\"543\":\"NA\",\"544\":\"NA\",\"545\":\"NA\",\"546\":\"NA\",\"547\":\"NA\",\"548\":\"NA\",\"549\":\"NA\",\"550\":\"NA\",\"551\":\"NA\",\"552\":\"NA\",\"553\":\"NA\",\"554\":\"NA\",\"555\":\"NA\",\"556\":\"NA\",\"557\":\"NA\",\"558\":\"NA\",\"559\":\"NA\",\"560\":\"NA\",\"561\":\"NA\",\"562\":\"NA\",\"563\":\"NA\",\"564\":\"NA\",\"565\":\"NA\",\"566\":\"NA\",\"567\":\"NA\",\"568\":\"NA\",\"569\":\"NA\",\"570\":\"NA\",\"571\":\"NA\",\"572\":\"NA\",\"573\":\"NA\",\"574\":\"NA\",\"575\":\"NA\",\"576\":\"NA\",\"577\":\"NA\",\"578\":\"NA\",\"579\":\"NA\",\"580\":\"NA\",\"581\":\"NA\",\"582\":\"NA\",\"583\":\"NA\",\"584\":\"NA\",\"585\":\"NA\",\"586\":\"NA\",\"587\":\"NA\",\"588\":\"NA\",\"589\":\"NA\",\"590\":\"NA\",\"591\":\"NA\",\"592\":\"NA\",\"593\":\"NA\",\"594\":\"NA\",\"595\":\"NA\",\"596\":\"NA\",\"597\":\"NA\",\"598\":\"NA\",\"599\":\"NA\",\"600\":\"NA\",\"601\":\"NA\",\"602\":\"NA\",\"603\":\"NA\",\"604\":\"NA\",\"605\":\"NA\",\"606\":\"NA\",\"607\":\"NA\",\"608\":\"NA\",\"609\":\"NA\",\"610\":\"NA\",\"611\":\"NA\",\"612\":\"NA\",\"613\":\"NA\",\"614\":\"NA\",\"615\":\"NA\",\"616\":\"NA\",\"617\":\"NA\",\"618\":\"NA\",\"619\":\"NA\",\"620\":\"NA\",\"621\":\"NA\",\"622\":\"NA\",\"623\":\"NA\",\"624\":\"NA\",\"625\":\"NA\",\"626\":\"NA\",\"627\":\"NA\",\"628\":\"NA\",\"629\":\"NA\",\"630\":\"NA\",\"631\":\"NA\",\"632\":\"NA\",\"633\":\"NA\",\"634\":\"NA\",\"635\":\"NA\",\"636\":\"NA\",\"637\":\"NA\",\"638\":\"NA\",\"639\":\"NA\",\"640\":\"NA\",\"641\":\"NA\",\"642\":\"NA\",\"643\":\"NA\",\"644\":\"NA\",\"645\":\"NA\",\"646\":\"NA\",\"647\":\"NA\",\"648\":\"NA\",\"649\":\"NA\",\"650\":\"NA\",\"651\":\"NA\",\"652\":\"NA\",\"653\":\"NA\",\"654\":\"NA\",\"655\":\"NA\",\"656\":\"NA\",\"657\":\"NA\",\"658\":\"NA\",\"659\":\"NA\",\"660\":\"NA\",\"661\":\"NA\",\"662\":\"NA\",\"663\":\"NA\",\"664\":\"NA\",\"665\":\"NA\",\"666\":\"NA\",\"667\":\"NA\",\"668\":\"NA\",\"669\":\"NA\",\"670\":\"NA\",\"671\":\"NA\",\"672\":\"NA\",\"673\":\"NA\",\"674\":\"NA\",\"675\":\"NA\",\"676\":\"NA\",\"677\":\"NA\",\"678\":\"NA\",\"679\":\"NA\",\"680\":\"NA\",\"681\":\"NA\",\"682\":\"NA\",\"683\":\"NA\",\"684\":\"NA\",\"685\":\"NA\",\"686\":\"NA\",\"687\":\"NA\",\"688\":\"NA\",\"689\":\"NA\",\"690\":\"NA\",\"691\":\"NA\",\"692\":\"NA\",\"693\":\"NA\",\"694\":\"NA\",\"695\":\"NA\",\"696\":\"NA\",\"697\":\"NA\",\"698\":\"NA\",\"699\":\"NA\",\"700\":\"NA\",\"701\":\"NA\",\"702\":\"NA\",\"703\":\"NA\",\"704\":\"NA\",\"705\":\"NA\",\"706\":\"NA\",\"707\":\"NA\",\"708\":\"NA\",\"709\":\"NA\",\"710\":\"NA\",\"711\":\"NA\",\"712\":\"NA\",\"713\":\"NA\",\"714\":\"NA\",\"715\":\"NA\",\"716\":\"NA\",\"717\":\"NA\",\"718\":\"NA\",\"719\":\"NA\",\"720\":\"NA\",\"721\":\"NA\",\"722\":\"NA\",\"723\":\"NA\",\"724\":\"NA\",\"725\":\"NA\",\"726\":\"NA\",\"727\":\"NA\",\"728\":\"NA\",\"729\":\"NA\",\"730\":\"NA\",\"731\":\"NA\",\"732\":\"NA\",\"733\":\"NA\",\"734\":\"NA\",\"735\":\"NA\",\"736\":\"NA\",\"737\":\"NA\",\"738\":\"NA\",\"739\":\"NA\",\"740\":\"NA\",\"741\":\"NA\",\"742\":\"NA\",\"743\":\"NA\",\"744\":\"NA\",\"745\":\"NA\",\"746\":\"NA\",\"747\":\"NA\",\"748\":\"NA\",\"749\":\"NA\",\"750\":\"NA\",\"751\":\"NA\",\"752\":\"NA\",\"753\":\"NA\",\"754\":\"NA\",\"755\":\"NA\",\"756\":\"NA\",\"757\":\"NA\",\"758\":\"NA\",\"759\":\"NA\",\"760\":\"NA\",\"761\":\"NA\",\"762\":\"NA\",\"763\":\"NA\",\"764\":\"NA\",\"765\":\"NA\",\"766\":\"NA\",\"767\":\"NA\",\"768\":\"NA\",\"769\":\"NA\",\"770\":\"NA\",\"771\":\"NA\",\"772\":\"NA\",\"773\":\"NA\",\"774\":\"NA\",\"775\":\"NA\",\"776\":\"NA\",\"777\":\"NA\",\"778\":\"NA\",\"779\":\"NA\",\"780\":\"NA\",\"781\":\"NA\",\"782\":\"NA\",\"783\":\"NA\",\"784\":\"NA\",\"785\":\"NA\",\"786\":\"NA\",\"787\":\"NA\",\"788\":\"NA\",\"789\":\"NA\",\"790\":\"NA\",\"791\":\"NA\",\"792\":\"NA\",\"793\":\"NA\",\"794\":\"NA\",\"795\":\"NA\",\"796\":\"NA\",\"797\":\"NA\",\"798\":\"NA\",\"799\":\"NA\",\"800\":\"NA\",\"801\":\"NA\",\"802\":\"NA\",\"803\":\"NA\",\"804\":\"NA\",\"805\":\"NA\",\"806\":\"NA\",\"807\":\"NA\",\"808\":\"NA\",\"809\":\"NA\",\"810\":\"NA\",\"811\":\"NA\",\"812\":\"NA\",\"813\":\"NA\",\"814\":\"NA\",\"815\":\"NA\",\"816\":\"NA\",\"817\":\"NA\",\"818\":\"NA\",\"819\":\"NA\",\"820\":\"NA\",\"821\":\"NA\",\"822\":\"NA\",\"823\":\"NA\",\"824\":\"NA\",\"825\":\"NA\",\"826\":\"NA\",\"827\":\"NA\",\"828\":\"NA\",\"829\":\"NA\",\"830\":\"NA\",\"831\":\"NA\",\"832\":\"NA\",\"833\":\"NA\",\"834\":\"NA\",\"835\":\"NA\",\"836\":\"NA\",\"837\":\"NA\",\"838\":\"NA\",\"839\":\"NA\",\"840\":\"NA\",\"841\":\"NA\",\"842\":\"NA\",\"843\":\"NA\",\"844\":\"NA\",\"845\":\"NA\",\"846\":\"NA\",\"847\":\"NA\",\"848\":\"NA\",\"849\":\"NA\",\"850\":\"NA\",\"851\":\"NA\",\"852\":\"NA\",\"853\":\"NA\",\"854\":\"NA\",\"855\":\"NA\",\"856\":\"NA\",\"857\":\"NA\",\"858\":\"NA\",\"859\":\"NA\",\"860\":\"NA\",\"861\":\"NA\",\"862\":\"NA\",\"863\":\"NA\",\"864\":\"NA\",\"865\":\"NA\",\"866\":\"NA\",\"867\":\"NA\",\"868\":\"NA\",\"869\":\"NA\",\"870\":\"NA\",\"871\":\"NA\",\"872\":\"NA\",\"873\":\"NA\",\"874\":\"NA\",\"875\":\"NA\",\"876\":\"NA\",\"877\":\"NA\",\"878\":\"NA\",\"879\":\"NA\",\"880\":\"NA\",\"881\":\"NA\",\"882\":\"NA\",\"883\":\"NA\",\"884\":\"NA\",\"885\":\"NA\",\"886\":\"NA\",\"887\":\"NA\",\"888\":\"NA\",\"889\":\"NA\",\"890\":\"NA\",\"891\":\"NA\",\"892\":\"NA\",\"893\":\"NA\",\"894\":\"NA\",\"895\":\"NA\",\"896\":\"NA\",\"897\":\"NA\",\"898\":\"NA\",\"899\":\"NA\",\"900\":\"NA\",\"901\":\"NA\",\"902\":\"NA\",\"903\":\"NA\",\"904\":\"NA\",\"905\":\"NA\",\"906\":\"NA\",\"907\":\"NA\",\"908\":\"NA\",\"909\":\"NA\",\"910\":\"NA\",\"911\":\"NA\",\"912\":\"NA\",\"913\":\"NA\",\"914\":\"NA\",\"915\":\"NA\",\"916\":\"NA\",\"917\":\"NA\",\"918\":\"NA\",\"919\":\"NA\",\"920\":\"NA\",\"921\":\"NA\",\"922\":\"NA\",\"923\":\"NA\",\"924\":\"NA\",\"925\":\"NA\",\"926\":\"NA\",\"927\":\"NA\",\"928\":\"NA\",\"929\":\"NA\",\"930\":\"NA\",\"931\":\"NA\",\"932\":\"NA\",\"933\":\"NA\",\"934\":\"NA\",\"935\":\"NA\",\"936\":\"NA\",\"937\":\"NA\",\"938\":\"NA\",\"939\":\"NA\",\"940\":\"NA\",\"941\":\"NA\",\"942\":\"NA\",\"943\":\"NA\",\"944\":\"NA\",\"945\":\"NA\",\"946\":\"NA\",\"947\":\"NA\",\"948\":\"NA\",\"949\":\"NA\",\"950\":\"NA\",\"951\":\"NA\",\"952\":\"NA\",\"953\":\"NA\",\"954\":\"NA\",\"955\":\"NA\",\"956\":\"NA\",\"957\":\"NA\",\"958\":\"NA\",\"959\":\"NA\",\"960\":\"NA\",\"961\":\"NA\",\"962\":\"NA\",\"963\":\"NA\",\"964\":\"NA\",\"965\":\"NA\",\"966\":\"NA\",\"967\":\"NA\",\"968\":\"NA\",\"969\":\"NA\",\"970\":\"NA\",\"971\":\"NA\",\"972\":\"NA\",\"973\":\"NA\",\"974\":\"NA\",\"975\":\"NA\",\"976\":\"NA\",\"977\":\"NA\",\"978\":\"NA\",\"979\":\"NA\",\"980\":\"NA\",\"981\":\"NA\",\"982\":\"NA\",\"983\":\"NA\",\"984\":\"NA\",\"985\":\"NA\",\"986\":\"NA\",\"987\":\"NA\"},\"Return Rate\":{\"0\":1.67,\"1\":2.34,\"2\":\"Test\",\"3\":1.45,\"4\":1.37,\"5\":1.23,\"6\":1.31,\"7\":1.6,\"8\":1.08,\"9\":1.2,\"10\":1.42,\"11\":4.14,\"12\":1.11,\"13\":1.41,\"14\":1.36,\"15\":1.47,\"16\":1.12,\"17\":1.39,\"18\":1.52,\"19\":1.24,\"20\":1.28,\"21\":1.07,\"22\":1.14,\"23\":1.6,\"24\":1.15,\"25\":1.17,\"26\":1.66,\"27\":1.45,\"28\":3.19,\"29\":1.46,\"30\":1.06,\"31\":1.43,\"32\":1.29,\"33\":1.83,\"34\":1.52,\"35\":1.28,\"36\":1.25,\"37\":1.19,\"38\":1.23,\"39\":1.43,\"40\":1.62,\"41\":1.71,\"42\":1.1,\"43\":1.72,\"44\":1.17,\"45\":1.22,\"46\":1.26,\"47\":1.87,\"48\":1.19,\"49\":null,\"50\":2.74,\"51\":1.39,\"52\":1.11,\"53\":1.36,\"54\":1.25,\"55\":1.09,\"56\":null,\"57\":1.12,\"58\":1.12,\"59\":1.16,\"60\":1.13,\"61\":1.2,\"62\":1.23,\"63\":1.13,\"64\":1.48,\"65\":1.7,\"66\":null,\"67\":1.14,\"68\":null,\"69\":1.3,\"70\":null,\"71\":1.49,\"72\":1.06,\"73\":1.27,\"74\":1.49,\"75\":1.23,\"76\":2,\"77\":1.32,\"78\":1.24,\"79\":1.59,\"80\":1.18,\"81\":1.91,\"82\":1.73,\"83\":1.2,\"84\":1.13,\"85\":null,\"86\":1.18,\"87\":1.5,\"88\":1.25,\"89\":1.23,\"90\":null,\"91\":1.07,\"92\":1.13,\"93\":1.26,\"94\":null,\"95\":1.69,\"96\":1.1,\"97\":1.09,\"98\":null,\"99\":null,\"100\":null,\"101\":null,\"102\":1.14,\"103\":1.32,\"104\":1.67,\"105\":1.13,\"106\":1.13,\"107\":1.18,\"108\":1.24,\"109\":1.14,\"110\":1.3,\"111\":1.36,\"112\":1.06,\"113\":1.27,\"114\":1.22,\"115\":1.1,\"116\":1.07,\"117\":1.16,\"118\":null,\"119\":1.26,\"120\":1.46,\"121\":1.1,\"122\":null,\"123\":1.13,\"124\":1.2,\"125\":null,\"126\":null,\"127\":1.44,\"128\":null,\"129\":2.35,\"130\":1.13,\"131\":1.3,\"132\":1.08,\"133\":null,\"134\":1.32,\"135\":1.23,\"136\":1.25,\"137\":1.24,\"138\":1.13,\"139\":null,\"140\":1.15,\"141\":null,\"142\":1.1,\"143\":1.21,\"144\":1.11,\"145\":1.12,\"146\":1.13,\"147\":1.13,\"148\":null,\"149\":null,\"150\":null,\"151\":1.62,\"152\":1.05,\"153\":1.13,\"154\":1.2,\"155\":null,\"156\":null,\"157\":1.5,\"158\":1.32,\"159\":null,\"160\":null,\"161\":1.43,\"162\":1.26,\"163\":null,\"164\":null,\"165\":1.08,\"166\":null,\"167\":null,\"168\":1.43,\"169\":null,\"170\":1,\"171\":null,\"172\":null,\"173\":1.29,\"174\":1.17,\"175\":1.35,\"176\":1.22,\"177\":1.1,\"178\":null,\"179\":null,\"180\":null,\"181\":1.19,\"182\":null,\"183\":1.67,\"184\":null,\"185\":1.32,\"186\":1.22,\"187\":null,\"188\":null,\"189\":null,\"190\":null,\"191\":null,\"192\":null,\"193\":null,\"194\":null,\"195\":1.17,\"196\":null,\"197\":null,\"198\":1.11,\"199\":null,\"200\":1.09,\"201\":1.17,\"202\":null,\"203\":1.14,\"204\":1.14,\"205\":1.43,\"206\":1.29,\"207\":null,\"208\":null,\"209\":null,\"210\":1.1,\"211\":null,\"212\":null,\"213\":null,\"214\":1.04,\"215\":1.13,\"216\":null,\"217\":1.05,\"218\":null,\"219\":null,\"220\":null,\"221\":null,\"222\":1.17,\"223\":null,\"224\":null,\"225\":1.42,\"226\":null,\"227\":1,\"228\":1.13,\"229\":null,\"230\":null,\"231\":1.07,\"232\":1.06,\"233\":null,\"234\":null,\"235\":null,\"236\":null,\"237\":null,\"238\":1.3,\"239\":null,\"240\":null,\"241\":null,\"242\":null,\"243\":null,\"244\":null,\"245\":1.13,\"246\":null,\"247\":null,\"248\":null,\"249\":null,\"250\":null,\"251\":null,\"252\":null,\"253\":null,\"254\":null,\"255\":1.15,\"256\":null,\"257\":null,\"258\":null,\"259\":1.1,\"260\":null,\"261\":null,\"262\":null,\"263\":null,\"264\":null,\"265\":null,\"266\":null,\"267\":null,\"268\":null,\"269\":null,\"270\":1.19,\"271\":null,\"272\":1.04,\"273\":null,\"274\":null,\"275\":null,\"276\":null,\"277\":1.21,\"278\":null,\"279\":null,\"280\":1.05,\"281\":null,\"282\":1.11,\"283\":null,\"284\":null,\"285\":null,\"286\":null,\"287\":null,\"288\":null,\"289\":null,\"290\":null,\"291\":null,\"292\":null,\"293\":null,\"294\":null,\"295\":null,\"296\":null,\"297\":null,\"298\":null,\"299\":null,\"300\":null,\"301\":null,\"302\":null,\"303\":null,\"304\":null,\"305\":null,\"306\":null,\"307\":null,\"308\":null,\"309\":null,\"310\":null,\"311\":null,\"312\":null,\"313\":null,\"314\":null,\"315\":null,\"316\":null,\"317\":null,\"318\":null,\"319\":null,\"320\":null,\"321\":null,\"322\":null,\"323\":null,\"324\":null,\"325\":null,\"326\":null,\"327\":null,\"328\":null,\"329\":null,\"330\":null,\"331\":null,\"332\":null,\"333\":1.12,\"334\":null,\"335\":null,\"336\":null,\"337\":null,\"338\":null,\"339\":null,\"340\":null,\"341\":null,\"342\":null,\"343\":null,\"344\":null,\"345\":null,\"346\":null,\"347\":1.27,\"348\":null,\"349\":null,\"350\":null,\"351\":null,\"352\":null,\"353\":null,\"354\":null,\"355\":null,\"356\":null,\"357\":null,\"358\":null,\"359\":null,\"360\":null,\"361\":null,\"362\":null,\"363\":null,\"364\":null,\"365\":null,\"366\":null,\"367\":null,\"368\":null,\"369\":null,\"370\":null,\"371\":null,\"372\":null,\"373\":null,\"374\":null,\"375\":null,\"376\":null,\"377\":null,\"378\":null,\"379\":null,\"380\":null,\"381\":null,\"382\":1.1,\"383\":null,\"384\":null,\"385\":null,\"386\":null,\"387\":null,\"388\":1.18,\"389\":null,\"390\":null,\"391\":null,\"392\":null,\"393\":null,\"394\":null,\"395\":null,\"396\":null,\"397\":null,\"398\":null,\"399\":null,\"400\":null,\"401\":null,\"402\":null,\"403\":null,\"404\":null,\"405\":null,\"406\":null,\"407\":null,\"408\":null,\"409\":null,\"410\":null,\"411\":null,\"412\":null,\"413\":null,\"414\":null,\"415\":null,\"416\":null,\"417\":null,\"418\":null,\"419\":1.12,\"420\":null,\"421\":null,\"422\":null,\"423\":null,\"424\":null,\"425\":null,\"426\":null,\"427\":null,\"428\":null,\"429\":null,\"430\":null,\"431\":null,\"432\":null,\"433\":null,\"434\":null,\"435\":null,\"436\":null,\"437\":null,\"438\":null,\"439\":null,\"440\":null,\"441\":null,\"442\":null,\"443\":null,\"444\":null,\"445\":null,\"446\":null,\"447\":null,\"448\":null,\"449\":null,\"450\":null,\"451\":null,\"452\":null,\"453\":null,\"454\":null,\"455\":null,\"456\":null,\"457\":null,\"458\":null,\"459\":null,\"460\":null,\"461\":null,\"462\":null,\"463\":null,\"464\":null,\"465\":null,\"466\":null,\"467\":null,\"468\":null,\"469\":null,\"470\":null,\"471\":null,\"472\":null,\"473\":null,\"474\":null,\"475\":null,\"476\":null,\"477\":null,\"478\":null,\"479\":null,\"480\":null,\"481\":null,\"482\":null,\"483\":null,\"484\":null,\"485\":null,\"486\":null,\"487\":null,\"488\":null,\"489\":null,\"490\":null,\"491\":null,\"492\":null,\"493\":null,\"494\":null,\"495\":null,\"496\":null,\"497\":null,\"498\":null,\"499\":null,\"500\":null,\"501\":null,\"502\":null,\"503\":null,\"504\":null,\"505\":null,\"506\":null,\"507\":null,\"508\":null,\"509\":null,\"510\":null,\"511\":null,\"512\":null,\"513\":null,\"514\":null,\"515\":null,\"516\":null,\"517\":null,\"518\":null,\"519\":null,\"520\":null,\"521\":null,\"522\":null,\"523\":null,\"524\":null,\"525\":null,\"526\":null,\"527\":null,\"528\":null,\"529\":null,\"530\":null,\"531\":null,\"532\":null,\"533\":null,\"534\":null,\"535\":null,\"536\":null,\"537\":null,\"538\":null,\"539\":null,\"540\":null,\"541\":null,\"542\":null,\"543\":null,\"544\":null,\"545\":null,\"546\":null,\"547\":null,\"548\":null,\"549\":null,\"550\":null,\"551\":null,\"552\":null,\"553\":1.17,\"554\":null,\"555\":null,\"556\":null,\"557\":null,\"558\":null,\"559\":null,\"560\":null,\"561\":null,\"562\":null,\"563\":null,\"564\":null,\"565\":null,\"566\":null,\"567\":null,\"568\":null,\"569\":null,\"570\":null,\"571\":null,\"572\":null,\"573\":null,\"574\":null,\"575\":null,\"576\":null,\"577\":null,\"578\":null,\"579\":null,\"580\":null,\"581\":null,\"582\":null,\"583\":null,\"584\":null,\"585\":null,\"586\":null,\"587\":null,\"588\":null,\"589\":null,\"590\":null,\"591\":null,\"592\":null,\"593\":null,\"594\":null,\"595\":null,\"596\":null,\"597\":1.12,\"598\":null,\"599\":null,\"600\":null,\"601\":null,\"602\":null,\"603\":null,\"604\":null,\"605\":null,\"606\":null,\"607\":null,\"608\":null,\"609\":null,\"610\":null,\"611\":null,\"612\":null,\"613\":null,\"614\":null,\"615\":null,\"616\":null,\"617\":null,\"618\":null,\"619\":null,\"620\":null,\"621\":null,\"622\":null,\"623\":null,\"624\":null,\"625\":null,\"626\":null,\"627\":null,\"628\":null,\"629\":null,\"630\":null,\"631\":null,\"632\":null,\"633\":null,\"634\":null,\"635\":null,\"636\":null,\"637\":null,\"638\":null,\"639\":null,\"640\":null,\"641\":null,\"642\":null,\"643\":null,\"644\":null,\"645\":null,\"646\":null,\"647\":null,\"648\":null,\"649\":null,\"650\":null,\"651\":null,\"652\":null,\"653\":null,\"654\":null,\"655\":null,\"656\":null,\"657\":null,\"658\":null,\"659\":null,\"660\":null,\"661\":null,\"662\":null,\"663\":null,\"664\":null,\"665\":null,\"666\":null,\"667\":null,\"668\":null,\"669\":null,\"670\":null,\"671\":null,\"672\":null,\"673\":null,\"674\":null,\"675\":null,\"676\":null,\"677\":null,\"678\":null,\"679\":null,\"680\":null,\"681\":null,\"682\":null,\"683\":null,\"684\":null,\"685\":null,\"686\":null,\"687\":null,\"688\":null,\"689\":null,\"690\":null,\"691\":null,\"692\":null,\"693\":null,\"694\":null,\"695\":null,\"696\":null,\"697\":null,\"698\":null,\"699\":null,\"700\":null,\"701\":null,\"702\":null,\"703\":null,\"704\":null,\"705\":null,\"706\":null,\"707\":null,\"708\":null,\"709\":null,\"710\":null,\"711\":null,\"712\":null,\"713\":null,\"714\":null,\"715\":null,\"716\":null,\"717\":null,\"718\":null,\"719\":null,\"720\":null,\"721\":null,\"722\":null,\"723\":null,\"724\":null,\"725\":null,\"726\":null,\"727\":null,\"728\":null,\"729\":null,\"730\":null,\"731\":null,\"732\":null,\"733\":null,\"734\":null,\"735\":null,\"736\":null,\"737\":null,\"738\":null,\"739\":null,\"740\":null,\"741\":null,\"742\":null,\"743\":null,\"744\":null,\"745\":null,\"746\":null,\"747\":null,\"748\":null,\"749\":null,\"750\":null,\"751\":null,\"752\":null,\"753\":null,\"754\":null,\"755\":null,\"756\":null,\"757\":null,\"758\":null,\"759\":null,\"760\":null,\"761\":null,\"762\":null,\"763\":null,\"764\":null,\"765\":null,\"766\":null,\"767\":null,\"768\":null,\"769\":null,\"770\":null,\"771\":null,\"772\":null,\"773\":null,\"774\":null,\"775\":null,\"776\":null,\"777\":null,\"778\":null,\"779\":null,\"780\":null,\"781\":null,\"782\":null,\"783\":null,\"784\":null,\"785\":null,\"786\":null,\"787\":null,\"788\":null,\"789\":null,\"790\":null,\"791\":null,\"792\":null,\"793\":null,\"794\":null,\"795\":null,\"796\":null,\"797\":null,\"798\":null,\"799\":null,\"800\":null,\"801\":null,\"802\":null,\"803\":null,\"804\":null,\"805\":null,\"806\":null,\"807\":null,\"808\":null,\"809\":null,\"810\":null,\"811\":null,\"812\":null,\"813\":null,\"814\":null,\"815\":null,\"816\":null,\"817\":null,\"818\":null,\"819\":null,\"820\":null,\"821\":null,\"822\":null,\"823\":null,\"824\":null,\"825\":null,\"826\":null,\"827\":null,\"828\":null,\"829\":null,\"830\":null,\"831\":null,\"832\":null,\"833\":null,\"834\":null,\"835\":null,\"836\":null,\"837\":null,\"838\":null,\"839\":null,\"840\":null,\"841\":null,\"842\":null,\"843\":null,\"844\":null,\"845\":null,\"846\":null,\"847\":null,\"848\":null,\"849\":null,\"850\":null,\"851\":null,\"852\":null,\"853\":null,\"854\":null,\"855\":null,\"856\":null,\"857\":null,\"858\":null,\"859\":null,\"860\":null,\"861\":null,\"862\":null,\"863\":null,\"864\":null,\"865\":null,\"866\":null,\"867\":null,\"868\":null,\"869\":null,\"870\":null,\"871\":null,\"872\":null,\"873\":null,\"874\":null,\"875\":null,\"876\":null,\"877\":null,\"878\":null,\"879\":null,\"880\":null,\"881\":null,\"882\":null,\"883\":null,\"884\":null,\"885\":null,\"886\":null,\"887\":null,\"888\":null,\"889\":null,\"890\":null,\"891\":null,\"892\":null,\"893\":null,\"894\":null,\"895\":null,\"896\":null,\"897\":null,\"898\":null,\"899\":null,\"900\":null,\"901\":null,\"902\":null,\"903\":null,\"904\":null,\"905\":null,\"906\":null,\"907\":null,\"908\":null,\"909\":null,\"910\":null,\"911\":null,\"912\":null,\"913\":null,\"914\":null,\"915\":null,\"916\":null,\"917\":null,\"918\":null,\"919\":null,\"920\":null,\"921\":null,\"922\":null,\"923\":null,\"924\":null,\"925\":null,\"926\":null,\"927\":null,\"928\":null,\"929\":null,\"930\":null,\"931\":null,\"932\":null,\"933\":null,\"934\":null,\"935\":null,\"936\":null,\"937\":null,\"938\":null,\"939\":null,\"940\":null,\"941\":null,\"942\":null,\"943\":null,\"944\":null,\"945\":null,\"946\":null,\"947\":null,\"948\":null,\"949\":null,\"950\":null,\"951\":null,\"952\":null,\"953\":null,\"954\":null,\"955\":null,\"956\":null,\"957\":null,\"958\":null,\"959\":null,\"960\":null,\"961\":null,\"962\":null,\"963\":null,\"964\":null,\"965\":null,\"966\":null,\"967\":null,\"968\":null,\"969\":null,\"970\":null,\"971\":null,\"972\":null,\"973\":null,\"974\":null,\"975\":null,\"976\":null,\"977\":null,\"978\":null,\"979\":null,\"980\":null,\"981\":null,\"982\":null,\"983\":null,\"984\":null,\"985\":null,\"986\":null,\"987\":null},\"Parent Keyword\":{\"0\":\"coast\",\"1\":\"hubspot\",\"2\":\"Test\",\"3\":\"and digital\",\"4\":\"hubspot\",\"5\":\"online marketing\",\"6\":\"digital marketer\",\"7\":\"coast\",\"8\":\"what is this\",\"9\":\"climb online\",\"10\":\"digital marketing agency\",\"11\":\"key digital\",\"12\":\"\\\\u0645\\\\u0624\\\\u0633\\\\u0633\\\\u0629\",\"13\":\"performance marketing\",\"14\":\"digital marketing strategy\",\"15\":\"internet marketing\",\"16\":\"whois\",\"17\":\"marketing news\",\"18\":\"social media marketing agency\",\"19\":\"marketing agency\",\"20\":\"digital marketing\",\"21\":\"digital\",\"22\":\"which or what\",\"23\":\"digital marketing agency\",\"24\":\"more\",\"25\":\"marketing\",\"26\":\"digital marketing agency\",\"27\":\"digital marketing agency\",\"28\":\"web design nottingham\",\"29\":\"digital marketing channels\",\"30\":\"digital\",\"31\":\"digital marketing agency\",\"32\":\"marketing company\",\"33\":\"digital marketing services\",\"34\":\"content marketing agency\",\"35\":\"digital content\",\"36\":\"digital marketing job description\",\"37\":\"digital marketing channels\",\"38\":\"digital marketing\",\"39\":\"digital marketing agency\",\"40\":\"detailed online\",\"41\":\"marketing agency\",\"42\":\"business definition\",\"43\":\"marketing agency\",\"44\":\"market\",\"45\":\"digital media\",\"46\":\"marketing services\",\"47\":\"digital marketing agency\",\"48\":\"digital company\",\"49\":\"agency online\",\"50\":\"seo services london\",\"51\":\"more\",\"52\":\"digital technology\",\"53\":\"marketing pricing\",\"54\":\"online marketing\",\"55\":\"itv digital\",\"56\":\"coast\",\"57\":\"what is this\",\"58\":\"social media marketing agency\",\"59\":\"numerous\",\"60\":\"digital media\",\"61\":\"marketing blogs\",\"62\":\"digital\",\"63\":\"constitute\",\"64\":\"digital marketing agency\",\"65\":\"hubspot\",\"66\":\"coast\",\"67\":\"digital marketing specialist\",\"68\":\"discuss the market\",\"69\":\"digital marketing agency\",\"70\":\"online marketing company\",\"71\":\"marketing agency\",\"72\":\"hubspot\",\"73\":\"digital marketing agency\",\"74\":\"digital marketing agency london\",\"75\":\"digital\",\"76\":\"email marketing agency\",\"77\":\"media agency\",\"78\":\"digital\",\"79\":\"marketing agency\",\"80\":\"services\",\"81\":\"digital marketing agency\",\"82\":\"social media agency london\",\"83\":\"digital campaign\",\"84\":\"types of digital marketing\",\"85\":\"digital marketing services\",\"86\":\"marketeer\",\"87\":\"regardless marketing\",\"88\":\"social media agency\",\"89\":\"search engine marketing\",\"90\":\"digital marketing agency london\",\"91\":\"online\",\"92\":\"digital media\",\"93\":\"digital marketing techniques\",\"94\":\"online marketing\",\"95\":\"coast\",\"96\":\"marketing channels\",\"97\":\"can\",\"98\":\"digital marketing agency\",\"99\":\"world of digital\",\"100\":\"itv digital\",\"101\":\"digital marketing agency\",\"102\":\"definition of email\",\"103\":\"what is service marketing\",\"104\":\"social media agency london\",\"105\":\"coast\",\"106\":\"digital marketing\",\"107\":\"benefits of digital marketing\",\"108\":\"digital space\",\"109\":\"digital marketing blog\",\"110\":\"marketing blog\",\"111\":\"seo marketing\",\"112\":\"digital media examples\",\"113\":\"the who\",\"114\":\"marketing agency\",\"115\":\"coast\",\"116\":\"coast\",\"117\":\"digital marketing\",\"118\":\"marketing agency\",\"119\":\"all\",\"120\":\"hubspot\",\"121\":\"what\\'s more\",\"122\":\"marketing agency\",\"123\":\"marketing website\",\"124\":\"post\",\"125\":\"marketing agency reading\",\"126\":\"the who\",\"127\":\"digital marketing blog\",\"128\":\"time\",\"129\":\"click and drop\",\"130\":\"marketer\",\"131\":\"full fat\",\"132\":\"digital uk\",\"133\":\"digital agency birmingham\",\"134\":\"marketing agency\",\"135\":\"whois\",\"136\":\"digital promotion\",\"137\":\"head of digital marketing\",\"138\":\"digital marketing\",\"139\":\"marketing company\",\"140\":\"digital marketing agency\",\"141\":\"web design nottingham\",\"142\":\"garish\",\"143\":\"digital spy\",\"144\":\"info meaning\",\"145\":\"whois\",\"146\":\"according\",\"147\":\"digital\",\"148\":\"the who\",\"149\":\"social media marketing\",\"150\":\"strategy internet marketing\",\"151\":\"online marketing\",\"152\":\"digital marketing\",\"153\":\"who \\'s\",\"154\":\"role of digital marketing\",\"155\":\"types of digital marketing\",\"156\":\"search marketing agency\",\"157\":\"methods\",\"158\":\"digital marketplace\",\"159\":\"advertising agencies near me\",\"160\":\"role of digital marketing\",\"161\":\"american internet and media company\",\"162\":\"social media marketing agency\",\"163\":\"whowhatwhy\",\"164\":\"digital agency\",\"165\":\"website - definition\",\"166\":\"full service agency\",\"167\":\"content marketing agency\",\"168\":\"social media management\",\"169\":\"marketing executive\",\"170\":\"hubspot\",\"171\":\"digital marketing services\",\"172\":\"content marketing agency\",\"173\":\"what is digital advertising\",\"174\":\"digital marketing solutions\",\"175\":\"digital marketing\",\"176\":\"digital marketing\",\"177\":\"comprise\",\"178\":\"marketing blog\",\"179\":\"online marketing london\",\"180\":\"digital marketing agency\",\"181\":\"nhs prepayment card\",\"182\":\"create\",\"183\":\"why work in digital marketing\",\"184\":\"digital marketing agency\",\"185\":\"like digital\",\"186\":\"how to get into marketing\",\"187\":\"top it companies\",\"188\":\"strategy internet marketing\",\"189\":\"marketing agency\",\"190\":\"revive digital media\",\"191\":\"social media marketing agency\",\"192\":\"service\\'s\",\"193\":\"business definition\",\"194\":\"marketing agency\",\"195\":\"digital marketing platforms\",\"196\":\"digital\",\"197\":\"digital marketing agency\",\"198\":\"business definition\",\"199\":\"social media advertising\",\"200\":\"digital marketing job description\",\"201\":\"role of digital marketing\",\"202\":\"key digital\",\"203\":\"digital marketing agency\",\"204\":\"coast\",\"205\":\"digital marketing agency\",\"206\":\"digital marketing agency\",\"207\":\"digital advertising agency\",\"208\":\"online marketing company\",\"209\":\"web marketing services\",\"210\":\"online\",\"211\":\"alldigital\",\"212\":\"website agency\",\"213\":\"infact\",\"214\":\"online marketing\",\"215\":\"according\",\"216\":\"web design nottingham\",\"217\":\"defined\",\"218\":\"digital marketing agency\",\"219\":\"what is emarketing\",\"220\":\"internet marketing\",\"221\":\"trends definition in business\",\"222\":\"including\",\"223\":\"define an english person\",\"224\":\"for\",\"225\":\"digital campaign\",\"226\":\"hubspot\",\"227\":\"5 ws\",\"228\":\"coast logo\",\"229\":\"digital technology\",\"230\":\"marketing concept\",\"231\":\"what is a digital agency\",\"232\":\"difference between marketing and advertising\",\"233\":\"lucy definition\",\"234\":\"marketing agency\",\"235\":\"e marketing\",\"236\":\"digital marketing theory\",\"237\":\"digital marketing consultant\",\"238\":\"social media management agency\",\"239\":\"digital marketing agency\",\"240\":\"online advertising agency\",\"241\":\"internet marketing agency\",\"242\":\"coast\",\"243\":\"coast\",\"244\":\"lucy alexander\",\"245\":\"marketing strategy\",\"246\":\"digital marketing\",\"247\":\"digital media\",\"248\":\"marketing agency\",\"249\":\"the drum\",\"250\":\"digital marketing company\",\"251\":\"online marketing expert\",\"252\":\"digital content marketing\",\"253\":\"content marketing agency\",\"254\":\"digital marketing agency london\",\"255\":\"encompass\",\"256\":\"digital marketing agency\",\"257\":\"digital marketing\",\"258\":\"social media marketing agency\",\"259\":\"for\",\"260\":\"essex digital awards\",\"261\":\"get on with it\",\"262\":\"marketing industry\",\"263\":\"what\",\"264\":\"web marketing agency\",\"265\":\"comprised\",\"266\":\"social media manager\",\"267\":\"5 ws\",\"268\":\"edigital research\",\"269\":\"is it down\",\"270\":\"social media marketing agency\",\"271\":\"digital marketing agency\",\"272\":\"online marketing campaign\",\"273\":\"digital media\",\"274\":\"digital marketing\",\"275\":\"digital marketing services\",\"276\":\"marketing essex\",\"277\":\"make it up to you\",\"278\":\"digital london\",\"279\":\"understanding digital marketing\",\"280\":\"digital marketing strategy\",\"281\":\"social media agency\",\"282\":\"online\",\"283\":\"marketing website\",\"284\":\"best digital\",\"285\":\"web design nottingham\",\"286\":\"bull market\",\"287\":\"digital agency\",\"288\":\"what is digital content\",\"289\":\"digital marketing course\",\"290\":\"hubspot\",\"291\":\"social media marketing agency\",\"292\":\"climb online\",\"293\":\"full service digital agency\",\"294\":\"digital marketing agency london\",\"295\":\"marketing email\",\"296\":\"digital marketing agency\",\"297\":\"digital marketing agency\",\"298\":\"crafted\",\"299\":\"coast.co.uk\",\"300\":\"impression internet\",\"301\":\"does\",\"302\":\"cjam\",\"303\":\"digital marketing\",\"304\":\"marketing agency\",\"305\":\"digital platform definition\",\"306\":\"what\",\"307\":\"digital marketing basics\",\"308\":\"digitales\",\"309\":\"search engine marketing agency\",\"310\":\"marketing agency\",\"311\":\"beaches near london\",\"312\":\"digital marketing job description\",\"313\":\"digital marketing life cycle\",\"314\":\"seo marketing\",\"315\":\"hubspot\",\"316\":\"absolute digital media\",\"317\":\"marketing means\",\"318\":\"best internet marketing company\",\"319\":null,\"320\":\"b2b\",\"321\":\"role of digital marketing\",\"322\":\"digital agency\",\"323\":\"form digital\",\"324\":\"marketing concept\",\"325\":\"social media marketing agency\",\"326\":\"revive digital media\",\"327\":\"digital marketing solutions\",\"328\":\"who what wear\",\"329\":\"marketing agency\",\"330\":\"digital\",\"331\":\"which or what\",\"332\":\"social media marketing agency\",\"333\":\"dms\",\"334\":\"digital\",\"335\":\"online marketing\",\"336\":\"digital marketing agency\",\"337\":\"social media strategy example\",\"338\":\"digital agency reading\",\"339\":\"digital uk\",\"340\":\"digital devices\",\"341\":\"digital technology\",\"342\":\"how to market a website\",\"343\":\"digital marketing agency\",\"344\":\"username search\",\"345\":\"digital marketing articles\",\"346\":\"full service agency\",\"347\":\"social media marketing\",\"348\":\"marketing agency\",\"349\":\"market .com\",\"350\":\"increase\",\"351\":\"marketing agency colchester\",\"352\":\"digital marketing agency\",\"353\":\"digital marketing\",\"354\":\"agency services\",\"355\":\"what is online services\",\"356\":\"digital media\",\"357\":\"digital marketing services\",\"358\":\"marketing agency\",\"359\":\"marketing information\",\"360\":\"description of a market\",\"361\":\"online marketing\",\"362\":\"types of digital marketing\",\"363\":\"digital.co.uk\",\"364\":\"digital media examples\",\"365\":\"do you\",\"366\":\"digital marketing agency reading\",\"367\":\"digital agency\",\"368\":\"coast\",\"369\":\"marketeer\",\"370\":\"uses of internet in business\",\"371\":\"best internet marketing company\",\"372\":\"it marketing\",\"373\":\"digirank\",\"374\":\"strategy internet marketing\",\"375\":\"social media agency\",\"376\":\"company insolvency register\",\"377\":\"entail\",\"378\":\"new media\",\"379\":\"digital media\",\"380\":\"social media marketing bristol\",\"381\":\"watch lucy online free\",\"382\":\"climb online\",\"383\":\"forge agency\",\"384\":\"digital\",\"385\":\"digital marketing agency\",\"386\":\"android market\",\"387\":\"understanding digital marketing\",\"388\":\"digital marketing agency\",\"389\":\"a\",\"390\":\"digital marketing blogs\",\"391\":\"design agency essex\",\"392\":\"ampersand\",\"393\":\"hubspot\",\"394\":\"work digital\",\"395\":\"marketing agency\",\"396\":\"digital company\",\"397\":\"dms\",\"398\":\"areas of marketing\",\"399\":\"digital marketing strategist\",\"400\":\"social media marketing\",\"401\":\"digital marketing\",\"402\":\"digital agency\",\"403\":\"web design nottingham\",\"404\":\"search engine marketing company\",\"405\":\"online business ideas\",\"406\":\"coast customer services\",\"407\":\"digital marketing strategy\",\"408\":\"\\\\u0628\\\\u0627\\\\u0632\\\\u0627\\\\u0631\\\\u06cc\\\\u0627\\\\u0628\\\\u06cc\",\"409\":\"digital media products\",\"410\":\"marketing agency\",\"411\":\"google certification\",\"412\":\"who and what and where song\",\"413\":\"digital marketing images\",\"414\":\"elements of internet marketing\",\"415\":\"internet marketing seo\",\"416\":\"market definition example\",\"417\":\"online web marketing\",\"418\":\"digital\",\"419\":\"digital sales\",\"420\":\"who is who\",\"421\":\"how to become a digital marketer\",\"422\":\"marketing agency\",\"423\":\"digital marketing agency\",\"424\":\"google certification\",\"425\":\"digital marketing channels\",\"426\":\"method\",\"427\":\"mac miller what\\'s the use\",\"428\":\"marketing campaign\",\"429\":\"online marketing\",\"430\":\"what is marketing\",\"431\":\"digitally\",\"432\":\"encompass\",\"433\":\"marketing news\",\"434\":\"digital marketing channels\",\"435\":\"see meaning\",\"436\":\"mobile marketing agency\",\"437\":\"coast media\",\"438\":\"digital marketing ipswich\",\"439\":\"onedigitals co uk review\",\"440\":\"marketing concepts\",\"441\":\"hubspot\",\"442\":\"digital transformation agency london\",\"443\":\"design agency colchester\",\"444\":\"digital marketing\",\"445\":\"digital marketing terms\",\"446\":\"digital media manager\",\"447\":\"social media marketing agency\",\"448\":\"digital marketing\",\"449\":\"online marketing plan\",\"450\":\"used to definition\",\"451\":\"can do attitude\",\"452\":\"web design nottingham\",\"453\":\"digital\",\"454\":\"it digital\",\"455\":\"digital marketing agency\",\"456\":\"media company\",\"457\":\"a\",\"458\":\"android market\",\"459\":\"microsoft.com\",\"460\":\"go digital reviews\",\"461\":\"marketing message examples\",\"462\":\"digital marketing\",\"463\":\"web design nottingham\",\"464\":\"which or what\",\"465\":\"who\\'s online\",\"466\":\"digital marketing technology\",\"467\":\"marketing channels\",\"468\":\"online marketing business\",\"469\":\"digital spy\",\"470\":\"best wifi channel\",\"471\":\"digital agency\",\"472\":\"digital media\",\"473\":\"essex travel news\",\"474\":\"digital marketer\",\"475\":\"internet\",\"476\":\"detail online\",\"477\":\"digital marketing for financial services\",\"478\":\"digital marketing colchester\",\"479\":\"digital world meaning\",\"480\":\"digital marketing agency\",\"481\":\"online marketing expert\",\"482\":\"digital marketing agency\",\"483\":\"small world marketing\",\"484\":\"climb online\",\"485\":\"internet marketing blog\",\"486\":\"a\",\"487\":\"the who\",\"488\":\"description of a market\",\"489\":\"digital\",\"490\":\"now digital\",\"491\":\"space marketing\",\"492\":\"digital 1\",\"493\":\"how of\",\"494\":\"online marketing\",\"495\":\"online marketing solutions\",\"496\":\"the search marketing shop\",\"497\":\"digital\",\"498\":\"marketing channels\",\"499\":\"biddable media\",\"500\":\"what will be will be\",\"501\":\"information marketing\",\"502\":\"digital\",\"503\":\"increased\",\"504\":\"direct and digital marketing\",\"505\":\"the digital picture\",\"506\":\"market sector definition\",\"507\":\"digital marketing\",\"508\":\"the full service\",\"509\":\"what does .com\",\"510\":\"media and marketing\",\"511\":\"google digital garage\",\"512\":\"social media marketing agency\",\"513\":\"interactive media\",\"514\":null,\"515\":\"social media marketing\",\"516\":\"go umbrella time online\",\"517\":\"coast\",\"518\":\"social media marketing bristol\",\"519\":\"digital marketing agency\",\"520\":\"service business definition\",\"521\":\"media industry\",\"522\":\"business market definition\",\"523\":\"coast to coast ipswich\",\"524\":\"digital marketing agency\",\"525\":\"digital agency uk\",\"526\":\"digital space definition\",\"527\":\"who and what and where song\",\"528\":\"strategy internet marketing\",\"529\":\"business definition\",\"530\":\"what is online services\",\"531\":\"marketing website\",\"532\":\"content agency london\",\"533\":\"digital advertising\",\"534\":\"marketing agency\",\"535\":\"full personal service\",\"536\":\"shs\",\"537\":\"digital\",\"538\":\"the help agency\",\"539\":\"marketing agency poole\",\"540\":\"marketing agency essex\",\"541\":\"encompass\",\"542\":\"digital marketing\",\"543\":\"market\",\"544\":\"web design nottingham\",\"545\":\"media-marketing\",\"546\":\"british eventing\",\"547\":\"online marketing company\",\"548\":\"digital spy\",\"549\":\"seo sussex\",\"550\":\"integrated marketing agency london\",\"551\":\"constitute\",\"552\":\"uk agency\",\"553\":\"consists\",\"554\":\"marketing companies\",\"555\":\"digital world\",\"556\":\"digital\",\"557\":\"services marketing\",\"558\":\"marketing agency\",\"559\":\"digital marketing agency\",\"560\":\"digital media blog\",\"561\":\"market\",\"562\":\"mlm companies\",\"563\":\"digital media blog\",\"564\":\"content marketing world\",\"565\":\"what digital\",\"566\":\"wat\",\"567\":\"what is this\",\"568\":null,\"569\":\"digital media\",\"570\":\"internet marketing agency\",\"571\":\"the who\",\"572\":\"what is all about\",\"573\":\"digital marketing agency\",\"574\":\"digital channel\",\"575\":\"online marketing expert\",\"576\":\"best digital market\",\"577\":\"services marketing\",\"578\":\"digital marketing blog\",\"579\":\"digital agency\",\"580\":\"marketing concept\",\"581\":\"new digital business\",\"582\":null,\"583\":\"digital media sales\",\"584\":\"digital work\",\"585\":\"solution marketing\",\"586\":\"digital marketing resources\",\"587\":\"digital marketing\",\"588\":\"absolute pr\",\"589\":\"what is emarketing\",\"590\":\"media\",\"591\":\"online marketing expert\",\"592\":null,\"593\":null,\"594\":\"service marketing strategy\",\"595\":\"market research nottingham\",\"596\":\"digital marketing conference\",\"597\":\"results through digital\",\"598\":\"star digital\",\"599\":null,\"600\":null,\"601\":null,\"602\":null,\"603\":null,\"604\":\"b2b marketing strategy\",\"605\":null,\"606\":null,\"607\":null,\"608\":null,\"609\":null,\"610\":null,\"611\":null,\"612\":null,\"613\":null,\"614\":\"tps\",\"615\":null,\"616\":null,\"617\":null,\"618\":null,\"619\":null,\"620\":null,\"621\":null,\"622\":null,\"623\":null,\"624\":null,\"625\":null,\"626\":null,\"627\":null,\"628\":null,\"629\":null,\"630\":null,\"631\":null,\"632\":null,\"633\":null,\"634\":null,\"635\":\"the marketing campaign company\",\"636\":null,\"637\":null,\"638\":null,\"639\":null,\"640\":null,\"641\":null,\"642\":null,\"643\":null,\"644\":null,\"645\":null,\"646\":null,\"647\":null,\"648\":null,\"649\":null,\"650\":null,\"651\":null,\"652\":null,\"653\":null,\"654\":null,\"655\":null,\"656\":null,\"657\":null,\"658\":null,\"659\":null,\"660\":null,\"661\":null,\"662\":null,\"663\":null,\"664\":null,\"665\":null,\"666\":null,\"667\":null,\"668\":null,\"669\":null,\"670\":null,\"671\":null,\"672\":null,\"673\":null,\"674\":null,\"675\":null,\"676\":null,\"677\":null,\"678\":null,\"679\":null,\"680\":null,\"681\":null,\"682\":null,\"683\":null,\"684\":null,\"685\":null,\"686\":null,\"687\":null,\"688\":null,\"689\":null,\"690\":null,\"691\":null,\"692\":null,\"693\":null,\"694\":null,\"695\":null,\"696\":null,\"697\":null,\"698\":null,\"699\":null,\"700\":null,\"701\":null,\"702\":null,\"703\":null,\"704\":null,\"705\":null,\"706\":null,\"707\":null,\"708\":null,\"709\":null,\"710\":null,\"711\":null,\"712\":null,\"713\":null,\"714\":null,\"715\":null,\"716\":null,\"717\":null,\"718\":null,\"719\":null,\"720\":null,\"721\":null,\"722\":null,\"723\":null,\"724\":null,\"725\":null,\"726\":null,\"727\":null,\"728\":null,\"729\":null,\"730\":null,\"731\":null,\"732\":null,\"733\":null,\"734\":null,\"735\":null,\"736\":null,\"737\":null,\"738\":null,\"739\":null,\"740\":null,\"741\":null,\"742\":null,\"743\":null,\"744\":null,\"745\":null,\"746\":null,\"747\":null,\"748\":null,\"749\":null,\"750\":null,\"751\":null,\"752\":null,\"753\":null,\"754\":null,\"755\":null,\"756\":null,\"757\":null,\"758\":null,\"759\":null,\"760\":null,\"761\":null,\"762\":null,\"763\":null,\"764\":null,\"765\":null,\"766\":null,\"767\":null,\"768\":null,\"769\":null,\"770\":null,\"771\":null,\"772\":null,\"773\":null,\"774\":null,\"775\":null,\"776\":null,\"777\":null,\"778\":null,\"779\":null,\"780\":null,\"781\":null,\"782\":null,\"783\":null,\"784\":null,\"785\":null,\"786\":null,\"787\":null,\"788\":null,\"789\":null,\"790\":null,\"791\":null,\"792\":null,\"793\":null,\"794\":null,\"795\":null,\"796\":null,\"797\":null,\"798\":null,\"799\":null,\"800\":null,\"801\":null,\"802\":null,\"803\":null,\"804\":null,\"805\":null,\"806\":null,\"807\":null,\"808\":null,\"809\":null,\"810\":null,\"811\":null,\"812\":null,\"813\":null,\"814\":null,\"815\":null,\"816\":null,\"817\":null,\"818\":null,\"819\":null,\"820\":null,\"821\":null,\"822\":null,\"823\":null,\"824\":null,\"825\":null,\"826\":null,\"827\":null,\"828\":null,\"829\":null,\"830\":null,\"831\":null,\"832\":null,\"833\":null,\"834\":null,\"835\":null,\"836\":null,\"837\":null,\"838\":null,\"839\":null,\"840\":null,\"841\":null,\"842\":null,\"843\":null,\"844\":null,\"845\":null,\"846\":null,\"847\":null,\"848\":null,\"849\":null,\"850\":null,\"851\":null,\"852\":null,\"853\":null,\"854\":null,\"855\":null,\"856\":null,\"857\":null,\"858\":null,\"859\":null,\"860\":null,\"861\":null,\"862\":null,\"863\":null,\"864\":null,\"865\":null,\"866\":null,\"867\":null,\"868\":null,\"869\":null,\"870\":null,\"871\":null,\"872\":null,\"873\":null,\"874\":null,\"875\":null,\"876\":null,\"877\":null,\"878\":null,\"879\":null,\"880\":null,\"881\":null,\"882\":null,\"883\":null,\"884\":null,\"885\":null,\"886\":null,\"887\":null,\"888\":null,\"889\":null,\"890\":null,\"891\":null,\"892\":null,\"893\":null,\"894\":null,\"895\":null,\"896\":null,\"897\":null,\"898\":null,\"899\":null,\"900\":null,\"901\":null,\"902\":null,\"903\":null,\"904\":null,\"905\":null,\"906\":null,\"907\":null,\"908\":null,\"909\":null,\"910\":null,\"911\":null,\"912\":null,\"913\":null,\"914\":null,\"915\":null,\"916\":null,\"917\":null,\"918\":null,\"919\":null,\"920\":null,\"921\":null,\"922\":null,\"923\":null,\"924\":null,\"925\":null,\"926\":null,\"927\":null,\"928\":null,\"929\":null,\"930\":null,\"931\":null,\"932\":null,\"933\":null,\"934\":null,\"935\":null,\"936\":null,\"937\":null,\"938\":null,\"939\":null,\"940\":null,\"941\":null,\"942\":null,\"943\":null,\"944\":null,\"945\":null,\"946\":null,\"947\":null,\"948\":null,\"949\":null,\"950\":null,\"951\":null,\"952\":null,\"953\":null,\"954\":null,\"955\":null,\"956\":null,\"957\":null,\"958\":null,\"959\":null,\"960\":null,\"961\":null,\"962\":null,\"963\":null,\"964\":null,\"965\":null,\"966\":null,\"967\":null,\"968\":null,\"969\":null,\"970\":null,\"971\":null,\"972\":null,\"973\":null,\"974\":null,\"975\":null,\"976\":null,\"977\":null,\"978\":null,\"979\":null,\"980\":null,\"981\":null,\"982\":null,\"983\":null,\"984\":null,\"985\":null,\"986\":null,\"987\":null},\"Last Update\":{\"0\":\"2020-05-09 23:55:39\",\"1\":\"2020-05-09 00:57:01\",\"2\":\"Test\",\"3\":\"2020-05-09 12:29:16\",\"4\":\"2020-05-05 05:59:21\",\"5\":\"2020-05-07 12:26:37\",\"6\":\"2020-05-05 15:13:56\",\"7\":\"2020-05-10 07:36:46\",\"8\":\"2020-05-04 14:29:05\",\"9\":\"2020-05-04 21:52:16\",\"10\":\"2020-05-06 10:50:13\",\"11\":\"2020-05-04 18:01:42\",\"12\":\"2020-05-08 16:52:22\",\"13\":\"2020-05-09 18:16:37\",\"14\":\"2020-05-08 20:21:50\",\"15\":\"2020-05-08 00:21:40\",\"16\":\"2020-05-10 11:17:08\",\"17\":\"2020-05-10 03:01:32\",\"18\":\"2020-05-08 19:58:46\",\"19\":\"2020-05-07 08:37:51\",\"20\":\"2020-05-07 00:10:43\",\"21\":\"2020-05-10 00:31:54\",\"22\":\"2020-05-06 06:18:54\",\"23\":\"2020-05-06 12:03:52\",\"24\":\"2020-05-09 16:34:04\",\"25\":\"2020-05-07 09:37:34\",\"26\":\"2020-05-07 05:21:09\",\"27\":\"2020-05-06 02:13:21\",\"28\":\"2020-05-06 10:34:16\",\"29\":\"2020-05-07 11:49:56\",\"30\":\"2020-05-09 07:11:07\",\"31\":\"2020-05-06 11:19:31\",\"32\":\"2020-05-04 21:22:34\",\"33\":\"2020-05-02 00:01:11\",\"34\":\"2020-05-01 07:46:32\",\"35\":\"2020-04-25 07:27:15\",\"36\":\"2020-04-28 12:16:33\",\"37\":\"2020-04-26 20:18:52\",\"38\":\"2020-04-29 06:22:36\",\"39\":\"2020-05-01 07:33:02\",\"40\":\"2020-05-03 13:55:48\",\"41\":\"2020-04-29 07:33:16\",\"42\":\"2020-04-30 23:54:18\",\"43\":\"2020-05-01 20:07:21\",\"44\":\"2020-05-02 12:47:26\",\"45\":\"2020-05-04 08:46:49\",\"46\":\"2020-05-05 10:51:03\",\"47\":\"2020-05-02 02:45:42\",\"48\":\"2020-04-26 19:12:35\",\"49\":\"2020-04-15 18:50:27\",\"50\":\"2020-05-01 03:22:55\",\"51\":\"2020-05-07 08:19:44\",\"52\":\"2020-04-23 10:34:31\",\"53\":\"2020-04-26 22:21:26\",\"54\":\"2020-05-03 04:10:16\",\"55\":\"2020-04-21 02:44:49\",\"56\":\"2020-04-24 04:09:23\",\"57\":\"2020-04-29 07:44:47\",\"58\":\"2020-05-03 17:36:49\",\"59\":\"2020-05-01 19:04:37\",\"60\":\"2020-04-26 07:13:11\",\"61\":\"2020-04-28 10:39:10\",\"62\":\"2020-04-30 23:40:03\",\"63\":\"2020-05-04 07:32:28\",\"64\":\"2020-05-08 20:03:47\",\"65\":\"2020-04-28 19:35:38\",\"66\":\"2020-04-16 15:46:51\",\"67\":\"2020-04-17 06:52:02\",\"68\":\"2020-04-25 21:11:47\",\"69\":\"2020-04-26 20:53:34\",\"70\":\"2020-04-29 13:28:21\",\"71\":\"2020-04-27 18:11:44\",\"72\":\"2020-04-21 05:01:09\",\"73\":\"2020-05-07 19:24:04\",\"74\":\"2020-04-24 22:54:04\",\"75\":\"2020-05-06 03:27:25\",\"76\":\"2020-04-25 12:34:52\",\"77\":\"2020-05-07 10:29:32\",\"78\":\"2020-04-28 12:56:47\",\"79\":\"2020-04-17 03:12:18\",\"80\":\"2020-05-09 12:28:03\",\"81\":\"2020-04-19 12:13:25\",\"82\":\"2020-04-20 08:50:31\",\"83\":\"2020-04-22 16:30:04\",\"84\":\"2020-05-02 02:09:05\",\"85\":\"2020-04-14 02:30:47\",\"86\":\"2020-04-24 09:50:43\",\"87\":\"2020-05-04 07:36:25\",\"88\":\"2020-04-24 05:41:15\",\"89\":\"2020-05-02 19:25:26\",\"90\":\"2020-04-20 16:40:13\",\"91\":\"2020-04-25 13:44:02\",\"92\":\"2020-04-28 06:10:21\",\"93\":\"2020-05-01 15:45:19\",\"94\":\"2020-05-03 04:10:27\",\"95\":\"2020-05-01 16:30:44\",\"96\":\"2020-04-28 06:11:20\",\"97\":\"2020-05-01 08:25:22\",\"98\":\"2020-05-09 00:49:38\",\"99\":\"2020-05-05 14:28:57\",\"100\":\"2020-05-01 14:22:17\",\"101\":\"2020-04-29 16:12:19\",\"102\":\"2020-05-02 09:05:41\",\"103\":\"2020-04-29 01:22:22\",\"104\":\"2020-05-07 14:34:02\",\"105\":\"2020-04-26 13:01:23\",\"106\":\"2020-04-26 03:31:06\",\"107\":\"2020-05-06 12:53:13\",\"108\":\"2020-04-27 12:07:54\",\"109\":\"2020-04-17 11:46:37\",\"110\":\"2020-04-26 11:08:57\",\"111\":\"2020-04-19 04:23:05\",\"112\":\"2020-04-21 18:52:26\",\"113\":\"2020-05-07 09:36:59\",\"114\":\"2020-04-28 13:31:22\",\"115\":\"2020-04-29 23:11:46\",\"116\":\"2020-05-01 03:16:24\",\"117\":\"2020-04-30 09:40:00\",\"118\":\"2020-05-09 21:25:59\",\"119\":\"2020-04-28 09:46:15\",\"120\":\"2020-04-26 01:10:38\",\"121\":\"2020-04-26 16:57:16\",\"122\":\"2020-04-29 14:02:27\",\"123\":\"2020-04-29 16:37:11\",\"124\":\"2020-05-01 14:52:01\",\"125\":\"2020-05-01 22:59:53\",\"126\":\"2020-04-19 21:42:36\",\"127\":\"2020-05-02 11:59:44\",\"128\":\"2020-04-19 05:39:57\",\"129\":\"2020-04-17 00:38:55\",\"130\":\"2020-05-04 08:17:54\",\"131\":\"2020-04-30 15:45:29\",\"132\":\"2020-04-29 17:18:51\",\"133\":\"2020-05-09 20:34:54\",\"134\":\"2020-05-03 02:45:08\",\"135\":\"2020-05-03 21:53:48\",\"136\":\"2020-05-08 23:54:42\",\"137\":\"2020-04-16 22:07:17\",\"138\":\"2020-04-25 11:17:09\",\"139\":\"2020-05-03 07:23:11\",\"140\":\"2020-04-26 03:58:13\",\"141\":\"2020-04-29 15:39:22\",\"142\":\"2020-05-04 01:27:31\",\"143\":\"2020-04-20 19:58:53\",\"144\":\"2020-04-28 02:17:15\",\"145\":\"2020-04-22 17:23:17\",\"146\":\"2020-04-17 21:30:15\",\"147\":\"2020-04-30 23:50:55\",\"148\":\"2020-04-29 03:17:16\",\"149\":\"2020-05-04 09:37:45\",\"150\":\"2020-04-29 08:17:15\",\"151\":\"2020-04-27 14:54:17\",\"152\":\"2020-05-01 08:08:36\",\"153\":\"2020-04-27 02:58:15\",\"154\":\"2020-04-18 11:24:52\",\"155\":\"2020-04-26 13:14:20\",\"156\":\"2020-04-24 18:47:07\",\"157\":\"2020-04-25 00:22:36\",\"158\":\"2020-04-24 15:59:15\",\"159\":\"2020-05-08 16:46:06\",\"160\":\"2020-04-16 00:32:32\",\"161\":\"2020-04-29 08:37:33\",\"162\":\"2020-04-29 14:51:36\",\"163\":\"2020-04-25 19:07:23\",\"164\":\"2020-04-30 19:16:09\",\"165\":\"2020-04-25 14:15:39\",\"166\":\"2020-04-23 15:34:16\",\"167\":\"2020-04-30 01:56:51\",\"168\":\"2020-04-17 08:51:38\",\"169\":\"2020-04-15 22:12:02\",\"170\":\"2020-04-28 22:51:53\",\"171\":\"2020-04-26 10:57:52\",\"172\":\"2020-04-18 15:20:02\",\"173\":\"2020-05-08 01:19:59\",\"174\":\"2020-04-17 01:45:34\",\"175\":\"2020-04-21 08:06:04\",\"176\":\"2020-04-26 19:21:19\",\"177\":\"2020-04-23 01:17:28\",\"178\":\"2020-04-17 04:19:42\",\"179\":\"2020-04-23 10:40:58\",\"180\":\"2020-05-10 03:55:11\",\"181\":\"2020-04-28 12:36:43\",\"182\":\"2020-05-03 07:08:20\",\"183\":\"2020-04-28 15:00:24\",\"184\":\"2020-05-04 10:38:02\",\"185\":\"2020-05-06 07:16:55\",\"186\":\"2020-04-23 13:33:47\",\"187\":\"2020-05-08 13:31:18\",\"188\":\"2020-04-18 10:01:05\",\"189\":\"2020-05-05 22:21:52\",\"190\":\"2020-05-05 18:36:36\",\"191\":\"2020-04-23 19:06:43\",\"192\":\"2020-05-05 23:20:15\",\"193\":\"2020-05-05 22:14:51\",\"194\":\"2020-04-14 06:42:38\",\"195\":\"2020-05-04 01:48:16\",\"196\":\"2020-04-19 23:09:45\",\"197\":\"2020-04-18 10:50:21\",\"198\":\"2020-04-24 22:00:55\",\"199\":\"2020-05-08 20:20:04\",\"200\":\"2020-05-01 03:10:23\",\"201\":\"2020-04-24 13:52:05\",\"202\":\"2020-05-03 04:46:31\",\"203\":\"2020-05-05 05:17:18\",\"204\":\"2020-04-20 13:12:03\",\"205\":\"2020-04-25 20:13:55\",\"206\":\"2020-05-04 19:50:10\",\"207\":\"2020-04-20 22:38:14\",\"208\":\"2020-04-16 18:29:22\",\"209\":\"2020-04-17 15:02:19\",\"210\":\"2020-04-20 23:59:40\",\"211\":\"2020-04-24 20:48:34\",\"212\":\"2020-04-26 15:41:58\",\"213\":\"2020-04-18 10:56:19\",\"214\":\"2020-04-25 15:30:19\",\"215\":\"2020-04-25 04:31:14\",\"216\":\"2020-04-20 13:01:16\",\"217\":\"2020-04-23 10:51:20\",\"218\":\"2020-05-04 17:49:12\",\"219\":\"2020-04-21 17:28:59\",\"220\":\"2020-05-01 23:13:32\",\"221\":\"2020-05-09 00:34:19\",\"222\":\"2020-04-25 20:36:21\",\"223\":\"2020-05-05 01:37:11\",\"224\":\"2020-04-28 07:35:06\",\"225\":\"2020-04-20 03:12:22\",\"226\":\"2020-05-09 12:25:10\",\"227\":\"2020-04-22 17:39:50\",\"228\":\"2020-04-30 14:57:31\",\"229\":\"2020-05-02 06:23:27\",\"230\":\"2020-04-25 13:00:23\",\"231\":\"2020-04-23 13:46:44\",\"232\":\"2020-04-26 13:23:01\",\"233\":\"2020-04-15 18:16:50\",\"234\":\"2020-04-19 19:29:36\",\"235\":\"2020-04-25 09:29:13\",\"236\":\"2020-04-19 13:22:52\",\"237\":\"2020-04-19 02:28:26\",\"238\":\"2020-05-08 15:19:08\",\"239\":\"2020-04-21 01:01:22\",\"240\":\"2020-04-19 15:18:35\",\"241\":\"2020-05-07 13:58:08\",\"242\":\"2020-04-24 21:14:24\",\"243\":\"2020-04-15 20:15:11\",\"244\":\"2020-04-26 20:37:18\",\"245\":\"2020-04-17 11:58:50\",\"246\":\"2020-04-15 14:45:05\",\"247\":\"2020-04-17 02:05:24\",\"248\":\"2020-04-27 21:14:11\",\"249\":\"2020-05-08 11:58:48\",\"250\":\"2020-04-16 17:50:50\",\"251\":\"2020-05-10 13:19:28\",\"252\":\"2020-05-05 09:32:31\",\"253\":\"2020-05-05 09:12:49\",\"254\":\"2020-04-17 17:59:32\",\"255\":\"2020-04-26 10:25:26\",\"256\":\"2020-04-21 23:30:45\",\"257\":\"2020-04-14 07:47:15\",\"258\":\"2020-04-22 05:46:59\",\"259\":\"2020-05-10 19:53:24\",\"260\":\"2020-04-23 12:35:02\",\"261\":\"2020-05-07 12:38:23\",\"262\":\"2020-04-19 22:18:14\",\"263\":\"2020-04-29 19:42:02\",\"264\":\"2020-05-02 04:50:13\",\"265\":\"2020-04-21 05:24:47\",\"266\":\"2020-04-22 07:48:01\",\"267\":\"2020-04-16 04:49:22\",\"268\":\"2020-04-24 14:26:15\",\"269\":\"2020-04-23 17:09:16\",\"270\":\"2020-04-16 19:45:03\",\"271\":\"2020-05-05 07:50:28\",\"272\":\"2020-04-18 03:33:53\",\"273\":\"2020-05-03 03:27:41\",\"274\":\"2020-05-01 19:11:57\",\"275\":\"2020-04-19 15:12:27\",\"276\":\"2020-05-06 15:58:34\",\"277\":\"2020-05-07 08:29:24\",\"278\":\"2020-04-28 10:50:27\",\"279\":\"2020-04-15 01:38:41\",\"280\":\"2020-04-14 11:23:40\",\"281\":\"2020-04-21 18:26:15\",\"282\":\"2020-04-30 12:33:37\",\"283\":\"2020-05-10 14:37:39\",\"284\":\"2020-04-17 01:04:09\",\"285\":\"2020-04-29 23:10:33\",\"286\":\"2020-04-19 23:45:51\",\"287\":\"2020-05-01 06:42:19\",\"288\":\"2020-05-07 14:49:11\",\"289\":\"2020-04-29 08:08:31\",\"290\":\"2020-04-29 04:59:49\",\"291\":\"2020-05-07 23:46:05\",\"292\":\"2020-04-17 00:31:31\",\"293\":\"2020-04-25 15:23:37\",\"294\":\"2020-04-14 01:25:19\",\"295\":\"2020-04-26 23:44:02\",\"296\":\"2020-05-04 12:45:25\",\"297\":\"2020-04-28 00:03:46\",\"298\":\"2020-05-03 06:43:12\",\"299\":\"2020-05-01 00:47:17\",\"300\":\"2020-05-10 01:28:15\",\"301\":\"2020-05-10 07:47:48\",\"302\":\"2020-04-15 13:25:31\",\"303\":\"2020-04-14 16:29:02\",\"304\":\"2020-04-14 21:52:02\",\"305\":\"2020-04-16 09:04:48\",\"306\":\"2020-04-19 18:20:11\",\"307\":\"2020-04-20 08:02:35\",\"308\":\"2020-05-02 05:12:22\",\"309\":\"2020-04-27 22:07:04\",\"310\":\"2020-04-23 12:52:34\",\"311\":\"2020-04-26 03:43:38\",\"312\":\"2020-04-16 22:57:20\",\"313\":\"2020-04-14 13:04:01\",\"314\":\"2020-04-19 23:46:13\",\"315\":\"2020-05-10 12:04:59\",\"316\":\"2020-04-16 06:52:01\",\"317\":\"2020-04-18 23:47:20\",\"318\":\"2020-04-17 14:27:17\",\"319\":null,\"320\":\"2020-04-21 04:22:37\",\"321\":\"2020-05-10 12:35:02\",\"322\":\"2020-05-06 15:03:12\",\"323\":\"2020-04-17 02:54:52\",\"324\":\"2020-04-18 13:10:15\",\"325\":\"2020-05-10 00:11:43\",\"326\":\"2020-04-19 06:01:25\",\"327\":\"2020-05-04 08:51:48\",\"328\":\"2020-05-07 08:54:16\",\"329\":\"2020-04-25 12:57:16\",\"330\":\"2020-04-20 20:16:50\",\"331\":\"2020-05-02 16:05:51\",\"332\":\"2020-05-07 06:20:56\",\"333\":\"2020-04-15 00:08:40\",\"334\":\"2020-05-07 22:16:24\",\"335\":\"2020-05-02 07:22:00\",\"336\":\"2020-04-15 20:55:27\",\"337\":\"2020-04-17 14:41:42\",\"338\":\"2020-04-17 16:12:08\",\"339\":\"2020-05-03 14:51:19\",\"340\":\"2020-04-24 17:46:48\",\"341\":\"2020-04-14 21:02:17\",\"342\":\"2020-04-20 03:10:05\",\"343\":\"2020-04-16 08:59:23\",\"344\":\"2020-04-15 22:39:32\",\"345\":\"2020-04-28 02:40:41\",\"346\":\"2020-04-20 03:06:45\",\"347\":\"2020-04-26 12:00:13\",\"348\":\"2020-04-27 13:07:38\",\"349\":\"2020-04-24 23:22:58\",\"350\":\"2020-04-19 07:05:47\",\"351\":\"2020-04-19 07:26:06\",\"352\":\"2020-05-08 03:10:38\",\"353\":\"2020-04-29 01:58:15\",\"354\":\"2020-05-10 18:43:53\",\"355\":\"2020-05-09 06:29:57\",\"356\":\"2020-04-23 12:01:32\",\"357\":\"2020-04-16 16:37:22\",\"358\":\"2020-04-24 06:28:24\",\"359\":\"2020-04-24 05:28:59\",\"360\":\"2020-04-17 21:16:47\",\"361\":\"2020-04-17 01:06:15\",\"362\":\"2020-04-15 06:48:02\",\"363\":\"2020-04-15 01:29:59\",\"364\":\"2020-04-27 11:46:15\",\"365\":\"2020-04-15 10:50:49\",\"366\":\"2020-04-16 04:59:53\",\"367\":\"2020-04-16 06:06:42\",\"368\":\"2020-04-22 22:46:31\",\"369\":\"2020-05-10 01:00:19\",\"370\":\"2020-04-16 10:34:32\",\"371\":\"2020-04-17 02:17:12\",\"372\":\"2020-04-19 05:05:18\",\"373\":\"2020-05-04 04:12:27\",\"374\":\"2020-04-26 10:38:20\",\"375\":\"2020-04-19 08:24:12\",\"376\":\"2020-04-19 22:21:47\",\"377\":\"2020-04-17 23:44:24\",\"378\":\"2020-05-10 11:50:02\",\"379\":\"2020-04-29 01:44:40\",\"380\":\"2020-05-09 17:28:24\",\"381\":\"2020-04-17 19:02:30\",\"382\":\"2020-05-04 13:28:21\",\"383\":\"2020-04-25 05:14:29\",\"384\":\"2020-05-03 14:43:48\",\"385\":\"2020-04-14 14:51:33\",\"386\":\"2020-04-17 05:39:47\",\"387\":\"2020-05-10 12:24:50\",\"388\":\"2020-04-21 13:35:44\",\"389\":\"2020-04-18 20:23:53\",\"390\":\"2020-04-26 22:47:18\",\"391\":\"2020-05-09 03:06:27\",\"392\":\"2020-05-03 19:59:15\",\"393\":\"2020-04-20 15:43:26\",\"394\":\"2020-04-19 08:34:05\",\"395\":\"2020-04-18 07:13:57\",\"396\":\"2020-04-14 19:32:51\",\"397\":\"2020-04-16 11:46:09\",\"398\":\"2020-05-06 04:55:48\",\"399\":\"2020-05-08 10:13:13\",\"400\":\"2020-04-14 01:33:47\",\"401\":\"2020-05-10 19:43:12\",\"402\":\"2020-04-25 09:49:43\",\"403\":\"2020-05-05 18:07:19\",\"404\":\"2020-05-09 10:52:14\",\"405\":\"2020-05-02 05:59:48\",\"406\":\"2020-04-15 05:26:58\",\"407\":\"2020-05-07 23:24:30\",\"408\":\"2020-04-19 20:56:28\",\"409\":\"2020-05-10 15:26:48\",\"410\":\"2020-05-09 03:29:09\",\"411\":\"2020-04-18 10:47:53\",\"412\":\"2020-05-03 16:48:26\",\"413\":\"2020-05-07 10:04:31\",\"414\":\"2020-05-04 14:43:40\",\"415\":\"2020-05-07 06:25:11\",\"416\":\"2020-04-19 15:12:07\",\"417\":\"2020-04-20 09:40:08\",\"418\":\"2020-04-23 13:29:58\",\"419\":\"2020-05-07 11:16:51\",\"420\":\"2020-04-20 18:25:37\",\"421\":\"2020-05-09 13:35:38\",\"422\":\"2020-04-18 23:55:21\",\"423\":\"2020-04-21 08:17:52\",\"424\":\"2020-04-14 23:18:06\",\"425\":\"2020-04-19 21:12:18\",\"426\":\"2020-04-16 20:42:22\",\"427\":\"2020-04-16 10:08:17\",\"428\":\"2020-05-06 05:50:33\",\"429\":\"2020-04-17 09:23:23\",\"430\":\"2020-04-29 12:43:17\",\"431\":\"2020-04-17 20:58:27\",\"432\":\"2020-04-20 19:07:03\",\"433\":\"2020-05-08 16:23:15\",\"434\":\"2020-04-15 19:38:44\",\"435\":\"2020-05-08 01:47:21\",\"436\":\"2020-05-04 12:55:50\",\"437\":\"2020-04-16 18:09:18\",\"438\":\"2020-05-10 10:01:10\",\"439\":\"2020-04-28 17:04:15\",\"440\":\"2020-04-15 13:23:14\",\"441\":\"2020-04-16 00:26:16\",\"442\":\"2020-04-20 21:59:34\",\"443\":\"2020-05-05 10:39:08\",\"444\":\"2020-04-15 10:44:33\",\"445\":\"2020-05-08 00:08:11\",\"446\":\"2020-05-07 06:31:08\",\"447\":\"2020-04-14 00:03:20\",\"448\":\"2020-04-15 05:37:41\",\"449\":\"2020-04-20 11:45:35\",\"450\":\"2020-04-30 00:40:39\",\"451\":\"2020-04-16 21:22:53\",\"452\":\"2020-04-30 12:22:10\",\"453\":\"2020-04-24 07:03:51\",\"454\":\"2020-04-16 17:56:26\",\"455\":\"2020-05-09 15:42:52\",\"456\":\"2020-05-09 09:08:00\",\"457\":\"2020-04-15 05:11:53\",\"458\":\"2020-04-20 10:57:24\",\"459\":\"2020-05-03 00:50:51\",\"460\":\"2020-05-06 17:13:07\",\"461\":\"2020-05-10 12:26:06\",\"462\":\"2020-04-15 18:37:51\",\"463\":\"2020-04-16 10:21:07\",\"464\":\"2020-04-26 16:12:27\",\"465\":\"2020-04-19 23:46:11\",\"466\":\"2020-05-03 02:14:31\",\"467\":\"2020-04-16 04:53:23\",\"468\":\"2020-04-14 21:47:38\",\"469\":\"2020-04-19 08:00:34\",\"470\":\"2020-05-06 13:13:35\",\"471\":\"2020-04-15 21:26:20\",\"472\":\"2020-05-01 09:26:01\",\"473\":\"2020-05-07 02:22:09\",\"474\":\"2020-04-19 12:47:06\",\"475\":\"2020-05-10 17:19:42\",\"476\":\"2020-05-07 13:19:17\",\"477\":\"2020-04-17 06:01:48\",\"478\":\"2020-04-15 08:27:47\",\"479\":\"2020-05-01 05:41:57\",\"480\":\"2020-05-05 09:48:09\",\"481\":\"2020-04-27 11:20:45\",\"482\":\"2020-04-30 15:02:47\",\"483\":\"2020-04-28 02:51:23\",\"484\":\"2020-04-28 13:06:51\",\"485\":\"2020-04-29 05:25:21\",\"486\":\"2020-04-18 11:10:53\",\"487\":\"2020-04-24 20:34:17\",\"488\":\"2020-04-26 04:39:23\",\"489\":\"2020-04-26 12:06:18\",\"490\":\"2020-04-24 07:03:43\",\"491\":\"2020-05-06 17:56:23\",\"492\":\"2020-04-21 18:13:04\",\"493\":\"2020-05-08 17:04:27\",\"494\":\"2020-04-25 20:30:41\",\"495\":\"2020-04-15 09:20:52\",\"496\":\"2020-04-19 02:19:27\",\"497\":\"2020-05-07 21:34:12\",\"498\":\"2020-04-19 18:19:44\",\"499\":\"2020-04-25 15:38:07\",\"500\":\"2020-05-07 13:04:17\",\"501\":\"2020-04-19 11:35:27\",\"502\":\"2020-05-08 05:32:48\",\"503\":\"2020-04-30 11:12:28\",\"504\":\"2020-04-23 10:55:58\",\"505\":\"2020-04-28 09:01:55\",\"506\":\"2020-05-09 03:12:46\",\"507\":\"2020-04-27 05:12:26\",\"508\":\"2020-04-20 13:59:29\",\"509\":\"2020-04-21 04:27:13\",\"510\":\"2020-05-08 18:57:52\",\"511\":\"2020-04-24 23:51:14\",\"512\":\"2020-04-14 07:12:20\",\"513\":\"2020-04-19 11:45:53\",\"514\":null,\"515\":\"2020-04-29 04:55:42\",\"516\":\"2020-05-07 09:55:25\",\"517\":\"2020-04-22 03:22:21\",\"518\":\"2020-05-06 19:31:49\",\"519\":\"2020-04-29 00:18:03\",\"520\":\"2020-04-26 00:11:10\",\"521\":\"2020-05-10 16:45:31\",\"522\":\"2020-05-10 00:04:00\",\"523\":\"2020-05-07 20:14:22\",\"524\":\"2020-05-03 15:27:03\",\"525\":\"2020-04-29 08:19:51\",\"526\":\"2020-04-22 05:03:43\",\"527\":\"2020-05-07 19:52:49\",\"528\":\"2020-04-15 02:06:14\",\"529\":\"2020-04-16 08:11:14\",\"530\":\"2020-04-29 22:12:56\",\"531\":\"2020-04-24 01:13:53\",\"532\":\"2020-05-04 11:14:13\",\"533\":\"2020-04-25 11:19:50\",\"534\":\"2020-05-09 20:56:34\",\"535\":\"2020-05-10 02:07:25\",\"536\":\"2020-04-21 17:33:01\",\"537\":\"2020-04-20 13:03:16\",\"538\":\"2020-05-08 15:25:51\",\"539\":\"2020-04-26 04:51:56\",\"540\":\"2020-05-10 00:47:16\",\"541\":\"2020-04-28 10:03:52\",\"542\":\"2020-04-14 02:00:24\",\"543\":\"2020-04-18 01:54:46\",\"544\":\"2020-05-07 10:22:48\",\"545\":\"2020-05-03 19:41:57\",\"546\":\"2020-04-25 02:23:23\",\"547\":\"2020-04-24 04:47:03\",\"548\":\"2020-04-20 08:13:41\",\"549\":\"2020-05-06 22:41:36\",\"550\":\"2020-04-18 17:07:59\",\"551\":\"2020-04-15 00:35:46\",\"552\":\"2020-05-08 20:06:59\",\"553\":\"2020-04-30 00:27:20\",\"554\":\"2020-05-07 18:52:23\",\"555\":\"2020-05-09 05:25:30\",\"556\":\"2020-05-04 09:55:26\",\"557\":\"2020-04-19 21:20:33\",\"558\":\"2020-05-07 01:36:09\",\"559\":\"2020-05-10 15:28:03\",\"560\":\"2020-05-10 16:35:49\",\"561\":\"2020-05-06 23:52:43\",\"562\":\"2020-04-29 18:44:38\",\"563\":\"2020-04-19 00:19:04\",\"564\":\"2020-05-05 08:23:19\",\"565\":\"2020-05-09 16:50:09\",\"566\":\"2020-04-19 22:47:47\",\"567\":\"2020-05-09 21:26:03\",\"568\":null,\"569\":\"2020-05-08 19:03:13\",\"570\":\"2020-04-24 05:12:40\",\"571\":\"2020-04-19 15:41:18\",\"572\":\"2020-04-20 10:28:49\",\"573\":\"2020-05-06 13:15:13\",\"574\":\"2020-04-20 12:21:26\",\"575\":\"2020-05-08 08:20:31\",\"576\":\"2020-04-25 07:31:44\",\"577\":\"2020-05-07 02:15:55\",\"578\":\"2020-04-19 11:30:50\",\"579\":\"2020-04-18 13:49:07\",\"580\":\"2020-04-20 14:30:47\",\"581\":\"2020-04-26 03:03:12\",\"582\":null,\"583\":\"2020-04-16 05:52:39\",\"584\":\"2020-04-24 10:19:32\",\"585\":\"2020-04-19 06:32:27\",\"586\":\"2020-04-15 14:43:31\",\"587\":\"2020-04-15 17:48:01\",\"588\":\"2020-04-29 08:32:43\",\"589\":\"2020-04-23 10:09:59\",\"590\":\"2020-05-06 06:11:10\",\"591\":\"2020-04-24 10:20:51\",\"592\":null,\"593\":null,\"594\":\"2020-04-26 10:03:44\",\"595\":null,\"596\":\"2020-04-28 12:22:18\",\"597\":\"2020-05-08 10:34:54\",\"598\":null,\"599\":null,\"600\":null,\"601\":null,\"602\":null,\"603\":null,\"604\":null,\"605\":null,\"606\":null,\"607\":null,\"608\":null,\"609\":null,\"610\":null,\"611\":null,\"612\":null,\"613\":null,\"614\":null,\"615\":null,\"616\":null,\"617\":null,\"618\":null,\"619\":null,\"620\":null,\"621\":null,\"622\":null,\"623\":null,\"624\":null,\"625\":null,\"626\":null,\"627\":null,\"628\":null,\"629\":null,\"630\":null,\"631\":null,\"632\":null,\"633\":null,\"634\":null,\"635\":null,\"636\":null,\"637\":null,\"638\":null,\"639\":null,\"640\":null,\"641\":null,\"642\":null,\"643\":null,\"644\":null,\"645\":null,\"646\":null,\"647\":null,\"648\":null,\"649\":null,\"650\":null,\"651\":null,\"652\":null,\"653\":null,\"654\":null,\"655\":null,\"656\":null,\"657\":null,\"658\":null,\"659\":null,\"660\":null,\"661\":null,\"662\":null,\"663\":null,\"664\":null,\"665\":null,\"666\":null,\"667\":null,\"668\":null,\"669\":null,\"670\":null,\"671\":null,\"672\":null,\"673\":null,\"674\":null,\"675\":null,\"676\":null,\"677\":null,\"678\":null,\"679\":null,\"680\":null,\"681\":null,\"682\":null,\"683\":null,\"684\":null,\"685\":null,\"686\":null,\"687\":null,\"688\":null,\"689\":null,\"690\":null,\"691\":null,\"692\":null,\"693\":null,\"694\":null,\"695\":null,\"696\":null,\"697\":null,\"698\":null,\"699\":null,\"700\":null,\"701\":null,\"702\":null,\"703\":null,\"704\":null,\"705\":null,\"706\":null,\"707\":null,\"708\":null,\"709\":null,\"710\":null,\"711\":null,\"712\":null,\"713\":null,\"714\":null,\"715\":null,\"716\":null,\"717\":null,\"718\":null,\"719\":null,\"720\":null,\"721\":null,\"722\":null,\"723\":null,\"724\":null,\"725\":null,\"726\":null,\"727\":null,\"728\":null,\"729\":null,\"730\":null,\"731\":null,\"732\":null,\"733\":null,\"734\":null,\"735\":null,\"736\":null,\"737\":null,\"738\":null,\"739\":null,\"740\":null,\"741\":null,\"742\":null,\"743\":null,\"744\":null,\"745\":null,\"746\":null,\"747\":null,\"748\":null,\"749\":null,\"750\":null,\"751\":null,\"752\":null,\"753\":null,\"754\":null,\"755\":null,\"756\":null,\"757\":null,\"758\":null,\"759\":null,\"760\":null,\"761\":null,\"762\":null,\"763\":null,\"764\":null,\"765\":null,\"766\":null,\"767\":null,\"768\":null,\"769\":null,\"770\":null,\"771\":null,\"772\":null,\"773\":null,\"774\":null,\"775\":null,\"776\":null,\"777\":null,\"778\":null,\"779\":null,\"780\":null,\"781\":null,\"782\":null,\"783\":null,\"784\":null,\"785\":null,\"786\":null,\"787\":null,\"788\":null,\"789\":null,\"790\":null,\"791\":null,\"792\":null,\"793\":null,\"794\":null,\"795\":null,\"796\":null,\"797\":null,\"798\":null,\"799\":null,\"800\":null,\"801\":null,\"802\":null,\"803\":null,\"804\":null,\"805\":null,\"806\":null,\"807\":null,\"808\":null,\"809\":null,\"810\":null,\"811\":null,\"812\":null,\"813\":null,\"814\":null,\"815\":null,\"816\":null,\"817\":null,\"818\":null,\"819\":null,\"820\":null,\"821\":null,\"822\":null,\"823\":null,\"824\":null,\"825\":null,\"826\":null,\"827\":null,\"828\":null,\"829\":null,\"830\":null,\"831\":null,\"832\":null,\"833\":null,\"834\":null,\"835\":null,\"836\":null,\"837\":null,\"838\":null,\"839\":null,\"840\":null,\"841\":null,\"842\":null,\"843\":null,\"844\":null,\"845\":null,\"846\":null,\"847\":null,\"848\":null,\"849\":null,\"850\":null,\"851\":null,\"852\":null,\"853\":null,\"854\":null,\"855\":null,\"856\":null,\"857\":null,\"858\":null,\"859\":null,\"860\":null,\"861\":null,\"862\":null,\"863\":null,\"864\":null,\"865\":null,\"866\":null,\"867\":null,\"868\":null,\"869\":null,\"870\":null,\"871\":null,\"872\":null,\"873\":null,\"874\":null,\"875\":null,\"876\":null,\"877\":null,\"878\":null,\"879\":null,\"880\":null,\"881\":null,\"882\":null,\"883\":null,\"884\":null,\"885\":null,\"886\":null,\"887\":null,\"888\":null,\"889\":null,\"890\":null,\"891\":null,\"892\":null,\"893\":null,\"894\":null,\"895\":null,\"896\":null,\"897\":null,\"898\":null,\"899\":null,\"900\":null,\"901\":null,\"902\":null,\"903\":null,\"904\":null,\"905\":null,\"906\":null,\"907\":null,\"908\":null,\"909\":null,\"910\":null,\"911\":null,\"912\":null,\"913\":null,\"914\":null,\"915\":null,\"916\":null,\"917\":null,\"918\":null,\"919\":null,\"920\":null,\"921\":null,\"922\":null,\"923\":null,\"924\":null,\"925\":null,\"926\":null,\"927\":null,\"928\":null,\"929\":null,\"930\":null,\"931\":null,\"932\":null,\"933\":null,\"934\":null,\"935\":null,\"936\":null,\"937\":null,\"938\":null,\"939\":null,\"940\":null,\"941\":null,\"942\":null,\"943\":null,\"944\":null,\"945\":null,\"946\":null,\"947\":null,\"948\":null,\"949\":null,\"950\":null,\"951\":null,\"952\":null,\"953\":null,\"954\":null,\"955\":null,\"956\":null,\"957\":null,\"958\":null,\"959\":null,\"960\":null,\"961\":null,\"962\":null,\"963\":null,\"964\":null,\"965\":null,\"966\":null,\"967\":null,\"968\":null,\"969\":null,\"970\":null,\"971\":null,\"972\":null,\"973\":null,\"974\":null,\"975\":null,\"976\":null,\"977\":null,\"978\":null,\"979\":null,\"980\":null,\"981\":null,\"982\":null,\"983\":null,\"984\":null,\"985\":null,\"986\":null,\"987\":null},\"SERP Features\":{\"0\":\"Sitelinks\",\"1\":\"Adwords top, Sitelinks, Top stories, Thumbnails, People also ask, Tweet box, Image pack\",\"2\":null,\"3\":\"Sitelinks, Image pack\",\"4\":\"Adwords top, Sitelinks, Top stories, Thumbnails, People also ask, Tweet box\",\"5\":\"Adwords top, Sitelinks, People also ask, Top stories, Thumbnails, Adwords bottom\",\"6\":\"Sitelinks, People also ask, Top stories, Thumbnails, Adwords bottom\",\"7\":\"Sitelinks, Image pack\",\"8\":\"Sitelinks, People also ask, Top stories, Thumbnails\",\"9\":\"Sitelinks, Top stories, Thumbnails\",\"10\":\"Adwords top, Sitelinks, Top stories, Thumbnails, People also ask, Adwords bottom\",\"11\":\"Sitelinks, Top stories, Thumbnails\",\"12\":\"Knowledge card, People also ask, Sitelinks, Top stories, Thumbnails\",\"13\":\"Adwords top, Sitelinks, Featured snippet, Thumbnails, People also ask\",\"14\":\"Featured snippet, Thumbnails, People also ask, Sitelinks, Top stories, Adwords bottom\",\"15\":\"Featured snippet, Thumbnails, People also ask, Sitelinks, Top stories, Adwords bottom\",\"16\":\"Sitelinks, Top stories, Thumbnails\",\"17\":\"Sitelinks, Adwords bottom\",\"18\":\"Adwords top, Sitelinks, People also ask, Top stories, Thumbnails, Image pack, Adwords bottom\",\"19\":\"People also ask, Image pack\",\"20\":\"People also ask, Sitelinks, Top stories, Thumbnails\",\"21\":\"Knowledge card, People also ask, Top stories, Thumbnails\",\"22\":\"Featured snippet, People also ask, Top stories, Thumbnails\",\"23\":\"Adwords top, Sitelinks, Featured snippet, Adwords bottom\",\"24\":\"Knowledge card, Sitelinks, People also ask\",\"25\":\"Knowledge card, People also ask, Sitelinks, Top stories, Thumbnails\",\"26\":\"Sitelinks, Image pack\",\"27\":\"Adwords top, Sitelinks, People also ask, Adwords bottom\",\"28\":\"Sitelinks, Adwords bottom\",\"29\":\"Featured snippet, Thumbnails, People also ask, Image pack\",\"30\":\"Knowledge card, People also ask, Top stories, Thumbnails\",\"31\":\"Sitelinks, Adwords bottom\",\"32\":\"People also ask\",\"33\":\"Adwords top, Sitelinks, People also ask, Adwords bottom\",\"34\":\"Sitelinks, Adwords bottom\",\"35\":\"Featured snippet, Thumbnails, People also ask, Top stories\",\"36\":\"Featured snippet, Thumbnails, People also ask, Sitelinks\",\"37\":\"Featured snippet, People also ask, Image pack, Top stories, Thumbnails\",\"38\":\"Adwords top, Sitelinks, Featured snippet, Thumbnails, People also ask, Top stories, Adwords bottom\",\"39\":\"Adwords top, Sitelinks, Top stories, Thumbnails\",\"40\":\"Sitelinks, Top stories, Thumbnails\",\"41\":\"Adwords top, Sitelinks\",\"42\":\"Knowledge card, People also ask, Sitelinks, Top stories, Thumbnails\",\"43\":\"People also ask\",\"44\":\"Knowledge card, People also ask, Top stories, Thumbnails\",\"45\":\"Sitelinks, People also ask, Top stories, Thumbnails\",\"46\":\"People also ask, Sitelinks, Image pack\",\"47\":\"Sitelinks, Adwords bottom\",\"48\":\"Adwords top, Sitelinks, Featured snippet, Thumbnails, People also ask, Top stories, Adwords bottom\",\"49\":\"Sitelinks, Adwords bottom\",\"50\":\"Adwords bottom, Sitelinks\",\"51\":\"Knowledge card, Sitelinks, People also ask\",\"52\":\"Featured snippet, People also ask, Top stories, Thumbnails\",\"53\":\"Adwords top, Sitelinks, Featured snippet, People also ask\",\"54\":\"People also ask, Top stories, Thumbnails, Adwords bottom, Sitelinks\",\"55\":\"Sitelinks, People also ask, Top stories, Thumbnails, Image pack\",\"56\":\"Sitelinks\",\"57\":\"Sitelinks, Top stories, Thumbnails, Image pack\",\"58\":\"Adwords top, Sitelinks, People also ask, Adwords bottom\",\"59\":\"Knowledge card, People also ask, Top stories, Thumbnails\",\"60\":\"Sitelinks, People also ask, Top stories, Thumbnails\",\"61\":\"Sitelinks\",\"62\":\"People also ask, Sitelinks, Top stories, Thumbnails\",\"63\":\"Knowledge card, People also ask\",\"64\":\"Adwords top, Sitelinks, Adwords bottom\",\"65\":\"Adwords top, Sitelinks, Top stories, Thumbnails, People also ask, Tweet box, Image pack\",\"66\":\"Sitelinks\",\"67\":\"Adwords top, Sitelinks, People also ask, Adwords bottom\",\"68\":\"Sitelinks, Top stories, Thumbnails\",\"69\":\"Adwords top, Sitelinks, People also ask, Adwords bottom\",\"70\":\"People also ask, Sitelinks\",\"71\":null,\"72\":\"Sitelinks, Top stories, Thumbnails, People also ask, Tweet box, Image pack\",\"73\":null,\"74\":\"Adwords top, Sitelinks, Adwords bottom\",\"75\":\"Knowledge card, People also ask, Top stories, Thumbnails, Image pack\",\"76\":\"Adwords top, Sitelinks, Adwords bottom\",\"77\":\"People also ask, Top stories, Thumbnails\",\"78\":\"Knowledge card, People also ask, Top stories, Thumbnails\",\"79\":\"People also ask\",\"80\":\"Knowledge card, People also ask, Sitelinks, Videos\",\"81\":\"Adwords top, Sitelinks, Adwords bottom\",\"82\":\"Adwords top, Sitelinks, Featured snippet, Adwords bottom\",\"83\":\"People also ask, Image pack\",\"84\":\"Featured snippet, Thumbnails, People also ask, Sitelinks\",\"85\":\"People also ask, Sitelinks\",\"86\":\"Knowledge card, People also ask, Videos, Image pack\",\"87\":null,\"88\":\"Adwords top, Sitelinks, Featured snippet, Adwords bottom\",\"89\":\"People also ask\",\"90\":\"Adwords top, Sitelinks, Adwords bottom\",\"91\":\"Knowledge card, People also ask, Top stories, Thumbnails\",\"92\":\"Sitelinks, People also ask, Videos, Top stories, Thumbnails\",\"93\":\"Featured snippet, Thumbnails, People also ask, Top stories\",\"94\":\"People also ask, Top stories, Thumbnails\",\"95\":\"Sitelinks\",\"96\":\"Featured snippet, Thumbnails, People also ask\",\"97\":\"Knowledge card, Sitelinks, People also ask\",\"98\":null,\"99\":\"Sitelinks, Top stories, Thumbnails\",\"100\":\"Sitelinks, People also ask, Top stories, Thumbnails\",\"101\":\"Sitelinks\",\"102\":\"Knowledge card, People also ask, Sitelinks, Top stories, Thumbnails\",\"103\":\"Featured snippet, Thumbnails, People also ask, Sitelinks, Top stories\",\"104\":\"Sitelinks, Adwords bottom\",\"105\":\"Sitelinks, People also ask, Image pack\",\"106\":\"Sitelinks, People also ask, Top stories, Thumbnails\",\"107\":\"Featured snippet, Thumbnails, People also ask\",\"108\":\"Sitelinks, People also ask, Image pack\",\"109\":\"Adwords top, Sitelinks\",\"110\":\"Sitelinks\",\"111\":\"Adwords top, Sitelinks, Featured snippet, People also ask, Top stories, Thumbnails, Adwords bottom\",\"112\":\"Featured snippet, Thumbnails, People also ask\",\"113\":\"Adwords top, Sitelinks, Top stories, Thumbnails, Image pack\",\"114\":\"Sitelinks, People also ask\",\"115\":\"Sitelinks, People also ask, Top stories, Thumbnails\",\"116\":\"Sitelinks\",\"117\":\"Featured snippet, Thumbnails, People also ask, Sitelinks, Top stories\",\"118\":\"Adwords top, Sitelinks, Adwords bottom\",\"119\":\"Knowledge card, Sitelinks, People also ask, Top stories, Thumbnails\",\"120\":\"Adwords top, Sitelinks, Top stories, Thumbnails, People also ask, Tweet box, Image pack\",\"121\":\"Knowledge card, People also ask, Top stories, Thumbnails\",\"122\":\"Adwords top, Sitelinks, Adwords bottom\",\"123\":\"Featured snippet, People also ask\",\"124\":\"Featured snippet, People also ask, Videos\",\"125\":null,\"126\":\"Sitelinks, Top stories, Thumbnails\",\"127\":\"Sitelinks\",\"128\":\"Knowledge card, Sitelinks, People also ask\",\"129\":\"Sitelinks\",\"130\":\"Knowledge card, People also ask\",\"131\":\"Sitelinks, Top stories, Thumbnails, Videos\",\"132\":\"Sitelinks, People also ask\",\"133\":\"Featured snippet\",\"134\":\"People also ask\",\"135\":\"Sitelinks, Top stories, Thumbnails\",\"136\":\"Featured snippet, People also ask, Videos\",\"137\":null,\"138\":\"Adwords top, Sitelinks, Featured snippet, Thumbnails, People also ask\",\"139\":\"Featured snippet, People also ask\",\"140\":\"Adwords top, Sitelinks, People also ask, Adwords bottom\",\"141\":\"Adwords bottom, Sitelinks\",\"142\":\"Knowledge card, People also ask, Videos\",\"143\":\"Sitelinks, People also ask, Image pack\",\"144\":\"Knowledge card, People also ask, Videos\",\"145\":\"Sitelinks\",\"146\":\"Featured snippet, People also ask\",\"147\":\"Adwords top, Featured snippet, Sitelinks, People also ask, Top stories, Thumbnails, Adwords bottom\",\"148\":\"Sitelinks, Tweet box, Top stories, Thumbnails\",\"149\":\"Featured snippet, Thumbnails\",\"150\":\"Featured snippet, Thumbnails, People also ask\",\"151\":\"Featured snippet, Thumbnails, People also ask, Top stories, Image pack\",\"152\":\"Featured snippet, Thumbnails, People also ask, Sitelinks, Top stories\",\"153\":\"Knowledge card, People also ask\",\"154\":\"Adwords top, Sitelinks, Featured snippet, Thumbnails, People also ask\",\"155\":\"Adwords top, Sitelinks, Featured snippet, People also ask, Adwords bottom\",\"156\":\"Adwords top, Sitelinks, Adwords bottom\",\"157\":\"Sitelinks\",\"158\":\"Sitelinks, People also ask, Top stories, Thumbnails\",\"159\":\"People also ask\",\"160\":\"Adwords top, Sitelinks, Featured snippet, Thumbnails, People also ask\",\"161\":\"Featured snippet, People also ask\",\"162\":\"People also ask, Image pack\",\"163\":\"Sitelinks, Tweet box, Top stories, Thumbnails, Image pack, Videos\",\"164\":\"Sitelinks\",\"165\":\"Knowledge card, People also ask, Sitelinks\",\"166\":\"Adwords top, Sitelinks, People also ask, Adwords bottom\",\"167\":\"Featured snippet, Sitelinks\",\"168\":null,\"169\":\"Featured snippet, Thumbnails, People also ask, Sitelinks, Top stories, Image pack, Adwords bottom\",\"170\":\"Adwords top, Sitelinks, Top stories, Thumbnails, People also ask, Tweet box, Image pack\",\"171\":\"Adwords top, Sitelinks, People also ask, Adwords bottom\",\"172\":\"Adwords top, Sitelinks, Featured snippet, Thumbnails, People also ask, Adwords bottom\",\"173\":\"People also ask, Sitelinks, Top stories, Thumbnails\",\"174\":\"Adwords top, Sitelinks, Featured snippet, People also ask, Adwords bottom\",\"175\":\"Sitelinks, People also ask, Top stories, Thumbnails\",\"176\":\"Adwords top, People also ask, Sitelinks, Top stories, Thumbnails\",\"177\":\"Knowledge card, People also ask, Top stories, Thumbnails\",\"178\":\"Sitelinks, Image pack\",\"179\":null,\"180\":null,\"181\":\"People also ask, Top stories, Thumbnails\",\"182\":\"Knowledge card, People also ask\",\"183\":\"Featured snippet, Thumbnails, People also ask\",\"184\":\"Featured snippet, Adwords bottom, Sitelinks\",\"185\":\"Sitelinks, Image pack, Top stories, Thumbnails\",\"186\":\"Adwords top, Sitelinks, Featured snippet, Thumbnails, People also ask, Top stories\",\"187\":\"Top stories, Thumbnails, People also ask\",\"188\":\"Adwords top, Sitelinks, Featured snippet, People also ask, Top stories, Thumbnails, Image pack\",\"189\":\"People also ask, Top stories, Thumbnails\",\"190\":null,\"191\":\"Adwords top, Sitelinks, Featured snippet, Adwords bottom\",\"192\":\"Knowledge card, People also ask, Sitelinks, Top stories, Thumbnails\",\"193\":\"Knowledge card, People also ask, Sitelinks, Videos\",\"194\":\"Sitelinks, People also ask\",\"195\":\"Featured snippet, Thumbnails, People also ask, Sitelinks\",\"196\":\"Knowledge card, People also ask\",\"197\":\"Featured snippet, People also ask\",\"198\":\"Knowledge card, People also ask, Sitelinks, Top stories, Thumbnails\",\"199\":\"Adwords top, Sitelinks, Adwords bottom\",\"200\":\"Featured snippet, Thumbnails, People also ask, Sitelinks\",\"201\":\"Adwords top, Featured snippet, Thumbnails, People also ask\",\"202\":\"Adwords top, Sitelinks, Top stories, Thumbnails\",\"203\":\"Adwords bottom, Sitelinks\",\"204\":\"Sitelinks, People also ask, Image pack, Top stories, Thumbnails\",\"205\":null,\"206\":null,\"207\":\"People also ask, Sitelinks\",\"208\":\"Adwords top, Adwords bottom, Sitelinks\",\"209\":\"Adwords top, Sitelinks, People also ask, Adwords bottom\",\"210\":\"Knowledge card, People also ask, Top stories, Thumbnails\",\"211\":\"Sitelinks, Top stories, Thumbnails\",\"212\":null,\"213\":\"Knowledge card, People also ask\",\"214\":\"Adwords top, Sitelinks, People also ask, Top stories, Thumbnails\",\"215\":\"Knowledge card, People also ask, Videos\",\"216\":\"Adwords top, Sitelinks, Adwords bottom\",\"217\":\"Knowledge card, People also ask, Videos\",\"218\":\"Sitelinks\",\"219\":\"Adwords top, Sitelinks, People also ask, Top stories, Thumbnails\",\"220\":\"Featured snippet, Thumbnails, People also ask, Top stories\",\"221\":\"Featured snippet, Thumbnails, People also ask, Videos\",\"222\":\"Knowledge card, People also ask, Sitelinks\",\"223\":null,\"224\":\"People also ask, Top stories, Thumbnails\",\"225\":\"Adwords top, People also ask\",\"226\":\"Adwords top, Sitelinks, Top stories, Thumbnails, People also ask, Tweet box, Image pack\",\"227\":\"Sitelinks, People also ask, Videos, Tweet box, Image pack\",\"228\":\"Sitelinks\",\"229\":\"Featured snippet, Thumbnails, People also ask\",\"230\":\"Featured snippet, Thumbnails, People also ask, Top stories\",\"231\":\"Adwords top, Sitelinks, Featured snippet, Thumbnails, People also ask, Top stories\",\"232\":\"Featured snippet, Thumbnails, People also ask, Top stories\",\"233\":\"People also ask, Top stories, Thumbnails\",\"234\":\"Sitelinks\",\"235\":\"Adwords top, People also ask, Top stories, Thumbnails\",\"236\":\"People also ask, Image pack\",\"237\":\"Sitelinks, People also ask, Top stories, Thumbnails\",\"238\":\"Sitelinks\",\"239\":\"Adwords top, Sitelinks, Featured snippet, Thumbnails, Adwords bottom\",\"240\":\"Adwords top, Sitelinks, Adwords bottom\",\"241\":\"Adwords bottom, Sitelinks\",\"242\":\"Sitelinks\",\"243\":\"Sitelinks\",\"244\":\"People also ask, Sitelinks\",\"245\":\"Featured snippet, Thumbnails, People also ask, Top stories\",\"246\":\"Adwords top, Sitelinks, Featured snippet, Thumbnails, People also ask, Top stories\",\"247\":\"Featured snippet, Thumbnails, People also ask, Sitelinks, Image pack, Videos\",\"248\":\"Featured snippet, People also ask\",\"249\":\"Featured snippet, People also ask, Top stories, Thumbnails\",\"250\":\"Sitelinks, People also ask\",\"251\":\"Adwords top, Sitelinks, Top stories, Thumbnails, Adwords bottom\",\"252\":\"Featured snippet, People also ask\",\"253\":null,\"254\":null,\"255\":\"Knowledge card, People also ask\",\"256\":null,\"257\":\"Adwords top, Sitelinks, People also ask, Adwords bottom\",\"258\":\"Adwords top, Sitelinks, Adwords bottom\",\"259\":\"Featured snippet, People also ask, Top stories, Thumbnails\",\"260\":\"Image pack\",\"261\":\"Featured snippet, People also ask, Videos\",\"262\":\"Featured snippet, Thumbnails, People also ask, Sitelinks, Image pack\",\"263\":\"Sitelinks, Top stories, Thumbnails, Image pack, Videos\",\"264\":\"People also ask, Adwords bottom, Sitelinks\",\"265\":\"Knowledge card, People also ask\",\"266\":\"Adwords top, Sitelinks, Featured snippet, Thumbnails, People also ask, Adwords bottom\",\"267\":\"Top stories, Thumbnails, Sitelinks, People also ask, Image pack\",\"268\":\"Sitelinks\",\"269\":\"Sitelinks, People also ask\",\"270\":\"Adwords top, Sitelinks, Featured snippet, Adwords bottom\",\"271\":\"Adwords bottom, Sitelinks\",\"272\":\"People also ask\",\"273\":\"Sitelinks, People also ask, Top stories, Thumbnails\",\"274\":null,\"275\":\"People also ask\",\"276\":null,\"277\":\"Featured snippet, People also ask, Videos\",\"278\":\"Adwords top, Sitelinks\",\"279\":\"Featured snippet, Thumbnails, Top stories\",\"280\":\"Featured snippet, Thumbnails, People also ask, Sitelinks, Top stories, Image pack\",\"281\":\"Adwords top, Sitelinks, Adwords bottom\",\"282\":\"Knowledge card, People also ask, Sitelinks\",\"283\":\"Featured snippet, Thumbnails, Sitelinks\",\"284\":\"Image pack\",\"285\":\"Adwords bottom, Sitelinks\",\"286\":\"Sitelinks, People also ask, Top stories, Thumbnails\",\"287\":\"Featured snippet, Thumbnails, Adwords bottom, Sitelinks\",\"288\":\"People also ask, Sitelinks, Top stories, Thumbnails\",\"289\":\"Sitelinks, People also ask, Top stories, Thumbnails\",\"290\":\"Adwords top, Sitelinks, Top stories, Thumbnails, People also ask, Tweet box, Image pack\",\"291\":null,\"292\":\"Sitelinks, Top stories, Thumbnails, Image pack\",\"293\":\"People also ask\",\"294\":\"Featured snippet, Sitelinks\",\"295\":\"Featured snippet\",\"296\":\"People also ask\",\"297\":\"Featured snippet, Thumbnails\",\"298\":\"Sitelinks, Top stories, Thumbnails\",\"299\":\"Sitelinks\",\"300\":\"Featured snippet, People also ask, Sitelinks, Top stories, Thumbnails\",\"301\":\"Sitelinks, Image pack\",\"302\":\"Adwords top, Sitelinks, Adwords bottom\",\"303\":\"Adwords top, Sitelinks, People also ask, Top stories, Thumbnails, Adwords bottom\",\"304\":\"Sitelinks\",\"305\":\"Adwords top, Sitelinks, Featured snippet, Thumbnails, People also ask\",\"306\":\"Image pack, Top stories, Thumbnails, Sitelinks, Shopping results\",\"307\":\"Adwords top, Sitelinks, Featured snippet, Thumbnails, People also ask, Top stories\",\"308\":\"Sitelinks\",\"309\":null,\"310\":\"Adwords top, Sitelinks, People also ask, Adwords bottom\",\"311\":\"Featured snippet, Thumbnails, People also ask\",\"312\":\"Featured snippet, Thumbnails, People also ask, Sitelinks\",\"313\":\"Featured snippet, Thumbnails, People also ask, Image pack, Videos, Top stories\",\"314\":\"Adwords top, Sitelinks, Featured snippet, People also ask, Top stories, Thumbnails, Adwords bottom\",\"315\":\"Adwords top, Sitelinks, Top stories, Thumbnails, People also ask, Tweet box, Image pack\",\"316\":\"Adwords top, Sitelinks, Adwords bottom\",\"317\":\"Sitelinks, People also ask, Top stories, Thumbnails\",\"318\":\"Sitelinks, People also ask\",\"319\":null,\"320\":\"People also ask, Top stories, Thumbnails\",\"321\":\"Featured snippet, Thumbnails, People also ask\",\"322\":\"Featured snippet\",\"323\":\"Sitelinks, Image pack, Top stories, Thumbnails\",\"324\":\"Featured snippet, Thumbnails, People also ask, Top stories, Image pack\",\"325\":\"Adwords top, Sitelinks, Adwords bottom\",\"326\":\"Sitelinks, Adwords bottom\",\"327\":\"Featured snippet, Thumbnails, Sitelinks, People also ask\",\"328\":\"Top stories, Thumbnails, Sitelinks, Videos\",\"329\":\"Adwords top, Sitelinks, People also ask, Adwords bottom\",\"330\":\"Sitelinks, People also ask, Top stories, Thumbnails, Image pack\",\"331\":\"Top stories, Thumbnails, People also ask\",\"332\":\"Featured snippet\",\"333\":\"Adwords top, Sitelinks\",\"334\":\"Sitelinks, People also ask, Image pack\",\"335\":\"People also ask, Top stories, Thumbnails\",\"336\":\"Adwords top, Sitelinks, Featured snippet, Thumbnails, People also ask, Top stories, Adwords bottom\",\"337\":\"Featured snippet, Thumbnails, People also ask\",\"338\":\"Adwords top, Sitelinks, Adwords bottom\",\"339\":\"Sitelinks\",\"340\":\"Sitelinks, Top stories, Thumbnails\",\"341\":\"Featured snippet, People also ask\",\"342\":\"Featured snippet, Thumbnails, People also ask, Top stories, Image pack\",\"343\":\"Sitelinks, People also ask, Top stories, Thumbnails\",\"344\":\"Adwords top, Featured snippet, Thumbnails, People also ask\",\"345\":null,\"346\":\"People also ask\",\"347\":\"Adwords top, Sitelinks, People also ask\",\"348\":\"People also ask\",\"349\":\"Adwords top, Sitelinks\",\"350\":\"Knowledge card, People also ask, Top stories, Thumbnails\",\"351\":\"Adwords top, Sitelinks, Adwords bottom\",\"352\":\"Sitelinks\",\"353\":\"Featured snippet, Thumbnails, People also ask, Sitelinks, Image pack\",\"354\":\"People also ask\",\"355\":\"People also ask\",\"356\":\"Sitelinks, People also ask, Top stories, Thumbnails\",\"357\":\"People also ask\",\"358\":\"Adwords top, Sitelinks, Top stories, Thumbnails, Adwords bottom\",\"359\":\"Featured snippet, Thumbnails, People also ask, Sitelinks, Top stories\",\"360\":\"Featured snippet, People also ask, Image pack\",\"361\":\"Adwords top, Sitelinks, Featured snippet, People also ask, Top stories, Thumbnails\",\"362\":\"Adwords top, Sitelinks, Featured snippet, Thumbnails, People also ask\",\"363\":\"Sitelinks\",\"364\":\"Featured snippet, Thumbnails, People also ask, Top stories\",\"365\":\"Featured snippet, People also ask, Top stories, Thumbnails\",\"366\":\"Adwords top, Sitelinks, Videos, Image pack, Adwords bottom\",\"367\":\"Adwords top, Sitelinks, Adwords bottom\",\"368\":\"Sitelinks\",\"369\":\"Featured snippet, Thumbnails, People also ask, Top stories\",\"370\":\"Featured snippet, Thumbnails, People also ask, Image pack\",\"371\":\"People also ask\",\"372\":\"Adwords top, Sitelinks, Image pack, Adwords bottom\",\"373\":\"Sitelinks\",\"374\":\"Adwords top, Sitelinks, People also ask, Top stories, Thumbnails\",\"375\":\"Adwords top, Sitelinks, Adwords bottom\",\"376\":\"People also ask\",\"377\":\"Knowledge card, People also ask\",\"378\":\"Sitelinks, People also ask\",\"379\":\"Sitelinks, People also ask, Top stories, Thumbnails\",\"380\":null,\"381\":\"Knowledge card, Top stories, Thumbnails, Adwords bottom, Sitelinks\",\"382\":\"Adwords top, Sitelinks\",\"383\":\"Top stories, Thumbnails, Image pack\",\"384\":\"Knowledge card, People also ask\",\"385\":\"Featured snippet, Thumbnails, Sitelinks\",\"386\":\"Top stories, Thumbnails\",\"387\":\"Top stories, Thumbnails, Image pack\",\"388\":\"Sitelinks, Top stories, Thumbnails, Image pack\",\"389\":\"Knowledge card, People also ask, Top stories, Thumbnails\",\"390\":\"Adwords top, Sitelinks\",\"391\":\"Adwords top, Sitelinks, Adwords bottom\",\"392\":\"Sitelinks, People also ask, Top stories, Thumbnails\",\"393\":\"Adwords top, Sitelinks, Top stories, Thumbnails, People also ask, Tweet box, Image pack\",\"394\":\"Top stories, Thumbnails, Image pack\",\"395\":\"Adwords top, Sitelinks, People also ask, Top stories, Thumbnails, Adwords bottom\",\"396\":\"Adwords top, Sitelinks, People also ask, Top stories, Thumbnails\",\"397\":\"People also ask, Adwords bottom, Sitelinks\",\"398\":\"Featured snippet, People also ask, Sitelinks, Image pack\",\"399\":\"Featured snippet, Thumbnails, People also ask, Top stories\",\"400\":\"Featured snippet, Sitelinks, Top stories, Thumbnails\",\"401\":\"Adwords top, Sitelinks, Featured snippet, People also ask\",\"402\":\"Featured snippet, Thumbnails\",\"403\":\"Adwords bottom, Sitelinks\",\"404\":null,\"405\":\"Featured snippet, Thumbnails, People also ask, Sitelinks, Top stories, Adwords bottom\",\"406\":null,\"407\":\"Featured snippet, Thumbnails, People also ask, Image pack\",\"408\":\"Sitelinks\",\"409\":\"Featured snippet, Thumbnails, People also ask\",\"410\":\"Adwords top, Sitelinks, People also ask, Image pack\",\"411\":\"Featured snippet, Top stories, Thumbnails, Sitelinks, People also ask\",\"412\":\"Top stories, Thumbnails, Videos\",\"413\":\"Image pack, Sitelinks\",\"414\":\"Featured snippet, Thumbnails, People also ask\",\"415\":\"Featured snippet, Thumbnails, People also ask, Sitelinks\",\"416\":\"Featured snippet, People also ask, Top stories, Thumbnails, Image pack\",\"417\":\"Adwords top, Sitelinks, People also ask, Adwords bottom\",\"418\":\"Knowledge card, People also ask, Sitelinks, Top stories, Thumbnails\",\"419\":\"Featured snippet, People also ask, Top stories, Thumbnails, Image pack\",\"420\":\"Sitelinks, Tweet box\",\"421\":\"Adwords top, Sitelinks, Featured snippet, Thumbnails, People also ask, Top stories, Adwords bottom\",\"422\":\"Adwords top, Sitelinks, People also ask, Adwords bottom\",\"423\":null,\"424\":\"Adwords top, Sitelinks, People also ask, Top stories, Thumbnails, Image pack\",\"425\":\"Featured snippet, Thumbnails, People also ask, Top stories\",\"426\":\"Sitelinks, Top stories, Thumbnails\",\"427\":\"Top stories, Thumbnails, Sitelinks\",\"428\":\"People also ask\",\"429\":\"Featured snippet, Thumbnails, People also ask\",\"430\":\"Featured snippet, Thumbnails, People also ask, Videos, Image pack\",\"431\":\"Knowledge card, People also ask, Videos, Top stories, Thumbnails\",\"432\":\"Knowledge card, People also ask\",\"433\":\"Sitelinks\",\"434\":\"Featured snippet, People also ask, Image pack\",\"435\":\"Knowledge card, People also ask\",\"436\":\"Featured snippet\",\"437\":\"Image pack\",\"438\":\"Image pack\",\"439\":null,\"440\":\"Featured snippet, Thumbnails, People also ask, Top stories, Image pack\",\"441\":\"Adwords top, Sitelinks, Top stories, Thumbnails, People also ask, Tweet box, Image pack\",\"442\":\"Adwords bottom\",\"443\":\"Image pack\",\"444\":\"Adwords top, Sitelinks\",\"445\":\"Featured snippet, Thumbnails\",\"446\":\"People also ask\",\"447\":\"Featured snippet\",\"448\":\"Adwords top, Sitelinks, Featured snippet, Thumbnails, People also ask\",\"449\":\"People also ask, Image pack\",\"450\":\"Knowledge card, People also ask\",\"451\":\"Knowledge card, People also ask, Top stories, Thumbnails, Image pack\",\"452\":\"Adwords bottom, Sitelinks\",\"453\":\"Knowledge card, People also ask, Top stories, Thumbnails\",\"454\":\"People also ask, Top stories, Thumbnails, Image pack\",\"455\":\"Sitelinks, Image pack\",\"456\":\"Featured snippet, Thumbnails, People also ask, Top stories\",\"457\":\"Knowledge card, People also ask, Top stories, Thumbnails\",\"458\":\"Top stories, Thumbnails\",\"459\":\"Sitelinks, People also ask\",\"460\":null,\"461\":\"Featured snippet, People also ask\",\"462\":\"Adwords top, Sitelinks, People also ask, Top stories, Thumbnails\",\"463\":\"Sitelinks, Image pack\",\"464\":\"Featured snippet, People also ask, Top stories, Thumbnails\",\"465\":\"Featured snippet, Top stories, Thumbnails\",\"466\":\"People also ask, Sitelinks\",\"467\":\"Adwords top, Sitelinks, Featured snippet, Thumbnails, People also ask\",\"468\":\"People also ask, Top stories, Thumbnails, Adwords bottom, Sitelinks\",\"469\":\"Sitelinks, People also ask, Image pack\",\"470\":\"Featured snippet, Thumbnails, People also ask, Sitelinks, Top stories\",\"471\":\"Adwords top, Adwords bottom, Sitelinks\",\"472\":\"Sitelinks, People also ask, Top stories, Thumbnails, Videos\",\"473\":\"Tweet box, Top stories, Thumbnails, Image pack, Videos\",\"474\":\"Sitelinks, People also ask, Top stories, Thumbnails\",\"475\":\"Featured snippet, People also ask, Sitelinks, Videos\",\"476\":\"Sitelinks, Image pack\",\"477\":\"Adwords top, Sitelinks, Adwords bottom\",\"478\":\"Adwords top, Sitelinks, Adwords bottom\",\"479\":\"Featured snippet, People also ask\",\"480\":\"Adwords top, Sitelinks, Adwords bottom\",\"481\":\"Featured snippet, Thumbnails, Sitelinks, People also ask, Top stories\",\"482\":\"Featured snippet, Thumbnails, Sitelinks\",\"483\":\"Sitelinks, Image pack\",\"484\":\"Adwords top, Sitelinks\",\"485\":null,\"486\":\"Knowledge card, Top stories, Thumbnails\",\"487\":\"Sitelinks\",\"488\":\"Featured snippet, Thumbnails, People also ask, Top stories\",\"489\":\"Sitelinks, People also ask, Top stories, Thumbnails\",\"490\":\"Top stories, Thumbnails\",\"491\":\"Top stories, Thumbnails, Image pack\",\"492\":\"Sitelinks, Top stories, Thumbnails, Image pack\",\"493\":\"People also ask\",\"494\":\"Adwords top, Sitelinks, People also ask, Top stories, Thumbnails, Adwords bottom\",\"495\":\"Adwords top, Sitelinks, Adwords bottom\",\"496\":\"Sitelinks, Image pack\",\"497\":\"Sitelinks, People also ask, Image pack\",\"498\":\"Featured snippet, Thumbnails, People also ask, Sitelinks\",\"499\":\"Featured snippet, Thumbnails\",\"500\":\"Featured snippet, People also ask, Image pack, Videos\",\"501\":\"Featured snippet, Thumbnails, People also ask, Top stories\",\"502\":\"Knowledge card, People also ask, Top stories, Thumbnails\",\"503\":\"Knowledge card, People also ask\",\"504\":\"Adwords top, Sitelinks, Featured snippet, People also ask, Top stories, Thumbnails\",\"505\":\"Sitelinks, Top stories, Thumbnails, Image pack\",\"506\":\"People also ask\",\"507\":\"Adwords top, Sitelinks, Featured snippet, Thumbnails, People also ask, Image pack\",\"508\":\"Adwords top, Sitelinks, People also ask\",\"509\":\"People also ask, Sitelinks, Top stories, Thumbnails\",\"510\":\"Featured snippet, People also ask\",\"511\":\"People also ask, Sitelinks\",\"512\":\"Featured snippet, Sitelinks\",\"513\":\"Featured snippet, People also ask, Top stories, Thumbnails, Videos\",\"514\":null,\"515\":\"Featured snippet, People also ask\",\"516\":\"Adwords top\",\"517\":\"Sitelinks, People also ask, Image pack\",\"518\":\"Sitelinks\",\"519\":\"Featured snippet\",\"520\":\"Featured snippet, Thumbnails, People also ask, Sitelinks\",\"521\":\"People also ask\",\"522\":\"People also ask, Sitelinks, Top stories, Thumbnails\",\"523\":\"Sitelinks, Image pack\",\"524\":\"Sitelinks\",\"525\":\"Featured snippet, Thumbnails\",\"526\":\"Featured snippet, People also ask\",\"527\":\"Top stories, Thumbnails, Videos, Image pack\",\"528\":\"Featured snippet, Thumbnails, Top stories, Image pack\",\"529\":\"Knowledge card, People also ask, Sitelinks, Top stories, Thumbnails, Image pack\",\"530\":\"People also ask, Sitelinks\",\"531\":\"Adwords top, Sitelinks, Featured snippet, Thumbnails\",\"532\":\"Adwords top, Sitelinks, Adwords bottom\",\"533\":\"Featured snippet, Thumbnails, People also ask\",\"534\":\"Adwords top, Sitelinks, Adwords bottom\",\"535\":\"People also ask, Top stories, Thumbnails\",\"536\":\"Sitelinks, People also ask, Image pack\",\"537\":\"Sitelinks, People also ask, Top stories, Thumbnails, Image pack\",\"538\":\"Sitelinks\",\"539\":\"Sitelinks, Image pack, Videos\",\"540\":\"Image pack\",\"541\":\"Knowledge card, People also ask, Videos\",\"542\":\"People also ask, Sitelinks, Top stories, Thumbnails\",\"543\":\"Knowledge card, People also ask, Top stories, Thumbnails\",\"544\":\"Sitelinks, Adwords bottom\",\"545\":\"People also ask\",\"546\":\"Sitelinks, Image pack\",\"547\":\"Sitelinks\",\"548\":\"Sitelinks, People also ask, Image pack\",\"549\":null,\"550\":null,\"551\":\"Knowledge card, People also ask\",\"552\":null,\"553\":\"Knowledge card, People also ask\",\"554\":\"Featured snippet, Thumbnails, People also ask\",\"555\":\"Top stories, Thumbnails, Image pack\",\"556\":\"Sitelinks, People also ask\",\"557\":\"Featured snippet, Thumbnails, People also ask, Videos\",\"558\":\"Featured snippet, Thumbnails, People also ask\",\"559\":\"Adwords top, Sitelinks, Adwords bottom\",\"560\":\"People also ask\",\"561\":\"Featured snippet, People also ask, Videos\",\"562\":\"Adwords top, Sitelinks, People also ask, Top stories, Thumbnails, Adwords bottom\",\"563\":\"Sitelinks, Image pack\",\"564\":\"Sitelinks, Top stories, Thumbnails\",\"565\":\"Sitelinks, People also ask, Top stories, Thumbnails\",\"566\":\"Knowledge card, People also ask\",\"567\":\"Sitelinks, People also ask, Top stories, Thumbnails, Image pack\",\"568\":null,\"569\":\"Sitelinks, People also ask, Top stories, Thumbnails\",\"570\":\"Sitelinks, Adwords bottom\",\"571\":\"Sitelinks\",\"572\":\"People also ask, Top stories, Thumbnails\",\"573\":\"Adwords top, Sitelinks, Adwords bottom\",\"574\":\"Featured snippet, People also ask, Top stories, Thumbnails\",\"575\":null,\"576\":\"Top stories, Thumbnails\",\"577\":\"Featured snippet, Thumbnails, People also ask, Sitelinks\",\"578\":null,\"579\":\"Adwords top, Sitelinks, Featured snippet, Adwords bottom\",\"580\":\"Featured snippet, People also ask, Top stories, Thumbnails\",\"581\":\"Adwords top, Sitelinks, People also ask, Top stories, Thumbnails, Videos, Image pack\",\"582\":null,\"583\":\"People also ask\",\"584\":\"People also ask, Image pack\",\"585\":null,\"586\":\"Adwords top, Sitelinks, Featured snippet, Thumbnails, Adwords bottom\",\"587\":\"Adwords top, Sitelinks, Featured snippet, Thumbnails, Top stories\",\"588\":\"Sitelinks, Image pack\",\"589\":\"Adwords top, People also ask, Videos\",\"590\":\"Knowledge card, People also ask, Sitelinks\",\"591\":\"Adwords top, Sitelinks, Adwords bottom\",\"592\":null,\"593\":null,\"594\":\"Adwords top, Sitelinks, Featured snippet, Thumbnails, People also ask, Top stories\",\"595\":null,\"596\":\"Sitelinks\",\"597\":\"Sitelinks, Top stories, Thumbnails, Image pack\",\"598\":null,\"599\":null,\"600\":null,\"601\":null,\"602\":null,\"603\":null,\"604\":null,\"605\":null,\"606\":null,\"607\":null,\"608\":null,\"609\":null,\"610\":null,\"611\":null,\"612\":null,\"613\":null,\"614\":null,\"615\":null,\"616\":null,\"617\":null,\"618\":null,\"619\":null,\"620\":null,\"621\":null,\"622\":null,\"623\":null,\"624\":null,\"625\":null,\"626\":null,\"627\":null,\"628\":null,\"629\":null,\"630\":null,\"631\":null,\"632\":null,\"633\":null,\"634\":null,\"635\":null,\"636\":null,\"637\":null,\"638\":null,\"639\":null,\"640\":null,\"641\":null,\"642\":null,\"643\":null,\"644\":null,\"645\":null,\"646\":null,\"647\":null,\"648\":null,\"649\":null,\"650\":null,\"651\":null,\"652\":null,\"653\":null,\"654\":null,\"655\":null,\"656\":null,\"657\":null,\"658\":null,\"659\":null,\"660\":null,\"661\":null,\"662\":null,\"663\":null,\"664\":null,\"665\":null,\"666\":null,\"667\":null,\"668\":null,\"669\":null,\"670\":null,\"671\":null,\"672\":null,\"673\":null,\"674\":null,\"675\":null,\"676\":null,\"677\":null,\"678\":null,\"679\":null,\"680\":null,\"681\":null,\"682\":null,\"683\":null,\"684\":null,\"685\":null,\"686\":null,\"687\":null,\"688\":null,\"689\":null,\"690\":null,\"691\":null,\"692\":null,\"693\":null,\"694\":null,\"695\":null,\"696\":null,\"697\":null,\"698\":null,\"699\":null,\"700\":null,\"701\":null,\"702\":null,\"703\":null,\"704\":null,\"705\":null,\"706\":null,\"707\":null,\"708\":null,\"709\":null,\"710\":null,\"711\":null,\"712\":null,\"713\":null,\"714\":null,\"715\":null,\"716\":null,\"717\":null,\"718\":null,\"719\":null,\"720\":null,\"721\":null,\"722\":null,\"723\":null,\"724\":null,\"725\":null,\"726\":null,\"727\":null,\"728\":null,\"729\":null,\"730\":null,\"731\":null,\"732\":null,\"733\":null,\"734\":null,\"735\":null,\"736\":null,\"737\":null,\"738\":null,\"739\":null,\"740\":null,\"741\":null,\"742\":null,\"743\":null,\"744\":null,\"745\":null,\"746\":null,\"747\":null,\"748\":null,\"749\":null,\"750\":null,\"751\":null,\"752\":null,\"753\":null,\"754\":null,\"755\":null,\"756\":null,\"757\":null,\"758\":null,\"759\":null,\"760\":null,\"761\":null,\"762\":null,\"763\":null,\"764\":null,\"765\":null,\"766\":null,\"767\":null,\"768\":null,\"769\":null,\"770\":null,\"771\":null,\"772\":null,\"773\":null,\"774\":null,\"775\":null,\"776\":null,\"777\":null,\"778\":null,\"779\":null,\"780\":null,\"781\":null,\"782\":null,\"783\":null,\"784\":null,\"785\":null,\"786\":null,\"787\":null,\"788\":null,\"789\":null,\"790\":null,\"791\":null,\"792\":null,\"793\":null,\"794\":null,\"795\":null,\"796\":null,\"797\":null,\"798\":null,\"799\":null,\"800\":null,\"801\":null,\"802\":null,\"803\":null,\"804\":null,\"805\":null,\"806\":null,\"807\":null,\"808\":null,\"809\":null,\"810\":null,\"811\":null,\"812\":null,\"813\":null,\"814\":null,\"815\":null,\"816\":null,\"817\":null,\"818\":null,\"819\":null,\"820\":null,\"821\":null,\"822\":null,\"823\":null,\"824\":null,\"825\":null,\"826\":null,\"827\":null,\"828\":null,\"829\":null,\"830\":null,\"831\":null,\"832\":null,\"833\":null,\"834\":null,\"835\":null,\"836\":null,\"837\":null,\"838\":null,\"839\":null,\"840\":null,\"841\":null,\"842\":null,\"843\":null,\"844\":null,\"845\":null,\"846\":null,\"847\":null,\"848\":null,\"849\":null,\"850\":null,\"851\":null,\"852\":null,\"853\":null,\"854\":null,\"855\":null,\"856\":null,\"857\":null,\"858\":null,\"859\":null,\"860\":null,\"861\":null,\"862\":null,\"863\":null,\"864\":null,\"865\":null,\"866\":null,\"867\":null,\"868\":null,\"869\":null,\"870\":null,\"871\":null,\"872\":null,\"873\":null,\"874\":null,\"875\":null,\"876\":null,\"877\":null,\"878\":null,\"879\":null,\"880\":null,\"881\":null,\"882\":null,\"883\":null,\"884\":null,\"885\":null,\"886\":null,\"887\":null,\"888\":null,\"889\":null,\"890\":null,\"891\":null,\"892\":null,\"893\":null,\"894\":null,\"895\":null,\"896\":null,\"897\":null,\"898\":null,\"899\":null,\"900\":null,\"901\":null,\"902\":null,\"903\":null,\"904\":null,\"905\":null,\"906\":null,\"907\":null,\"908\":null,\"909\":null,\"910\":null,\"911\":null,\"912\":null,\"913\":null,\"914\":null,\"915\":null,\"916\":null,\"917\":null,\"918\":null,\"919\":null,\"920\":null,\"921\":null,\"922\":null,\"923\":null,\"924\":null,\"925\":null,\"926\":null,\"927\":null,\"928\":null,\"929\":null,\"930\":null,\"931\":null,\"932\":null,\"933\":null,\"934\":null,\"935\":null,\"936\":null,\"937\":null,\"938\":null,\"939\":null,\"940\":null,\"941\":null,\"942\":null,\"943\":null,\"944\":null,\"945\":null,\"946\":null,\"947\":null,\"948\":null,\"949\":null,\"950\":null,\"951\":null,\"952\":null,\"953\":null,\"954\":null,\"955\":null,\"956\":null,\"957\":null,\"958\":null,\"959\":null,\"960\":null,\"961\":null,\"962\":null,\"963\":null,\"964\":null,\"965\":null,\"966\":null,\"967\":null,\"968\":null,\"969\":null,\"970\":null,\"971\":null,\"972\":null,\"973\":null,\"974\":null,\"975\":null,\"976\":null,\"977\":null,\"978\":null,\"979\":null,\"980\":null,\"981\":null,\"982\":null,\"983\":null,\"984\":null,\"985\":null,\"986\":null,\"987\":null}}'"
      ]
     },
     "execution_count": 88,
     "metadata": {},
     "output_type": "execute_result"
    }
   ],
   "source": [
    "wks.get_as_df().to_json()"
   ]
  },
  {
   "cell_type": "markdown",
   "metadata": {},
   "source": [
    "--------------------------------------------------------------------------------"
   ]
  },
  {
   "cell_type": "markdown",
   "metadata": {},
   "source": [
    "## How To Use Google's Python Native API For Google Sheets"
   ]
  },
  {
   "cell_type": "markdown",
   "metadata": {},
   "source": [
    "The above commands solely work within [Pygsheets](https://pygsheets.readthedocs.io/en/stable/reference.html), however its important that you learn how to connect with Google's Native Python API for google sheets."
   ]
  },
  {
   "cell_type": "markdown",
   "metadata": {},
   "source": [
    "---------------------------------------------------------------------------------"
   ]
  },
  {
   "cell_type": "markdown",
   "metadata": {},
   "source": [
    "### How To Connect To The API"
   ]
  },
  {
   "cell_type": "code",
   "execution_count": 101,
   "metadata": {},
   "outputs": [],
   "source": [
    "from googleapiclient.discovery import build\n",
    "\n",
    "with open('service_account.json') as source:\n",
    "    info = json.load(source)\n",
    "    \n",
    "credentials = service_account.Credentials.from_service_account_info(info)"
   ]
  },
  {
   "cell_type": "markdown",
   "metadata": {},
   "source": [
    "---------------------------------------------------------------------------------"
   ]
  },
  {
   "cell_type": "markdown",
   "metadata": {},
   "source": [
    "### Sending Your First Request"
   ]
  },
  {
   "cell_type": "markdown",
   "metadata": {},
   "source": [
    "In this tutorial, we are going to be specifically look at the [batchClear](https://developers.google.com/sheets/api/reference/rest/v4/spreadsheets.values/batchClear), [batchGet](https://developers.google.com/sheets/api/reference/rest/v4/spreadsheets.values/batchGet), [batchUpdate](https://developers.google.com/sheets/api/reference/rest/v4/spreadsheets.values/batchUpdate) as these three end points are incredibly useful.\n",
    "\n",
    "~~~\n",
    "\n",
    "service = discovery.build('sheets', 'v4', credentials=credentials)\n",
    "\n",
    "# The ID of the spreadsheet to update.\n",
    "spreadsheet_id = 'my-spreadsheet-id'  # TODO: Update placeholder value.\n",
    "\n",
    "batch_clear_values_request_body = {\n",
    "    # The ranges to clear, in A1 notation.\n",
    "    'ranges': [],  # TODO: Update placeholder value.\n",
    "\n",
    "    # TODO: Add desired entries to the request body.\n",
    "}\n",
    "\n",
    "request = service.spreadsheets().values().batchClear(spreadsheetId=spreadsheet_id, body=batch_clear_values_request_body)\n",
    "response = request.execute()\n",
    "\n",
    "# TODO: Change code below to process the `response` dict:\n",
    "print(response)\n",
    "\n",
    "\n",
    "~~~"
   ]
  },
  {
   "cell_type": "markdown",
   "metadata": {},
   "source": [
    "----------------------------------------------------------------------"
   ]
  },
  {
   "cell_type": "markdown",
   "metadata": {},
   "source": [
    "<strong> Let's Understand This Step By Step: </strong>"
   ]
  },
  {
   "cell_type": "markdown",
   "metadata": {},
   "source": [
    "1. You will need to build a service that authenticates with the native google sheets api via a correct credentials object.\n",
    "2. Secondly you'll need the relevant spreadsheet id.\n",
    "3. Thirdly you'll need to create a batchClear request object.\n",
    "4. Finally we will attach the service object with the batchClear request object."
   ]
  },
  {
   "cell_type": "markdown",
   "metadata": {},
   "source": [
    "--------------------------------------------------------"
   ]
  },
  {
   "cell_type": "markdown",
   "metadata": {},
   "source": [
    "### Clearing A Column / Range With [batchClear](https://developers.google.com/sheets/api/reference/rest/v4/spreadsheets.values/batchClear)"
   ]
  },
  {
   "cell_type": "code",
   "execution_count": 105,
   "metadata": {},
   "outputs": [
    {
     "name": "stdout",
     "output_type": "stream",
     "text": [
      "{'spreadsheetId': '1OBR8HEE2rjaWqZPnb8mHnp3YpxxELcy5Zqve3gtX22Q', 'clearedRanges': ['Sheet1!A1:A989']}\n"
     ]
    }
   ],
   "source": [
    "with open('service_account.json') as source:\n",
    "    info = json.load(source)\n",
    "    \n",
    "credentials = service_account.Credentials.from_service_account_info(info)\n",
    "google_ghseets_api= build('sheets', 'v4', credentials=credentials, cache_discovery=False)\n",
    "\n",
    "spreadsheet_id = '1OBR8HEE2rjaWqZPnb8mHnp3YpxxELcy5Zqve3gtX22Q'\n",
    "\n",
    "batch_clear_values_request_body = {\n",
    "    # The ranges to clear, in A1 notation.\n",
    "    'ranges': ['A1:A1000'],  # TODO: Update placeholder value..\n",
    "}\n",
    "\n",
    "request = google_ghseets_api.spreadsheets().values().batchClear(spreadsheetId=spreadsheet_id, \n",
    "                                                                body=batch_clear_values_request_body)\n",
    "response = request.execute()\n",
    "\n",
    "print(response)"
   ]
  },
  {
   "cell_type": "markdown",
   "metadata": {},
   "source": [
    "![](https://sempioneer.com/wp-content/uploads/2020/05/clearing-a-column-with-python-in-pygsheets.png)"
   ]
  },
  {
   "cell_type": "markdown",
   "metadata": {},
   "source": [
    "-------------------------------------------------------------------------------------"
   ]
  },
  {
   "cell_type": "markdown",
   "metadata": {},
   "source": [
    "## How To Add Data Validation Boxes With [batchUpdate](https://developers.google.com/sheets/api/reference/rest/v4/spreadsheets/request#SetDataValidationRequest)"
   ]
  },
  {
   "cell_type": "markdown",
   "metadata": {},
   "source": [
    "Adding data validation is relatively easy, the code below will add several data validation boxes to the second column."
   ]
  },
  {
   "cell_type": "code",
   "execution_count": 135,
   "metadata": {},
   "outputs": [],
   "source": [
    "request = {\n",
    "      \"requests\": [\n",
    "        {\n",
    "          \"setDataValidation\": {\n",
    "            \"range\": {\n",
    "              \"sheetId\": 0,\n",
    "              \"startRowIndex\": 1,\n",
    "              \"startColumnIndex\": 1,\n",
    "               \"endColumnIndex\":2\n",
    "            },\n",
    "            \"rule\": {\n",
    "              \"condition\": {\n",
    "                \"type\": \"ONE_OF_LIST\",\n",
    "          \"values\": [\n",
    "            {\n",
    "              \"userEnteredValue\": \"EUROPE_LR\"\n",
    "            },\n",
    "            {\n",
    "              \"userEnteredValue\": \"EUROPE_HR\"\n",
    "            },\n",
    "            {\n",
    "              \"userEnteredValue\": \"WORLD_HR\"\n",
    "            },\n",
    "            {\n",
    "              \"userEnteredValue\": \"WORLD_LR\"\n",
    "            }\n",
    "            ]\n",
    "           }\n",
    "          }\n",
    "        }\n",
    "      }\n",
    "   ]\n",
    " }\n",
    "\n",
    "request = google_ghseets_api.spreadsheets().batchUpdate(spreadsheetId=spreadsheet_id, \n",
    "                                                                body=request)\n",
    "response = request.execute()"
   ]
  },
  {
   "cell_type": "markdown",
   "metadata": {},
   "source": [
    "![](https://sempioneer.com/wp-content/uploads/2020/05/adding-data-validation-boxes-with-python.png)"
   ]
  },
  {
   "cell_type": "markdown",
   "metadata": {},
   "source": [
    "------------------------------------------------------------------------------------------------"
   ]
  },
  {
   "cell_type": "markdown",
   "metadata": {},
   "source": [
    "### How To Retrieve A Range of Cells"
   ]
  },
  {
   "cell_type": "code",
   "execution_count": 148,
   "metadata": {},
   "outputs": [],
   "source": [
    "# The A1:D1 notation of the values to retrieve.\n",
    "ranges = ['A1:D1000']  # TODO: Update placeholder value.\n",
    "request = google_ghseets_api.spreadsheets().values().batchGet(spreadsheetId=spreadsheet_id, ranges=ranges)\n",
    "response = request.execute()"
   ]
  },
  {
   "cell_type": "code",
   "execution_count": 150,
   "metadata": {},
   "outputs": [],
   "source": [
    "spreadsheet_data = response['valueRanges'][0]['values']"
   ]
  },
  {
   "cell_type": "code",
   "execution_count": 152,
   "metadata": {},
   "outputs": [
    {
     "name": "stdout",
     "output_type": "stream",
     "text": [
      "[['', 'Country', 'Difficulty', 'Volume'], ['', 'gb', '42', '70000'], ['', 'EUROPE_LR', '67', '63000']]\n"
     ]
    }
   ],
   "source": [
    "print(spreadsheet_data[0:3])"
   ]
  },
  {
   "cell_type": "markdown",
   "metadata": {},
   "source": [
    "---------------------------------------------"
   ]
  },
  {
   "cell_type": "markdown",
   "metadata": {},
   "source": [
    "Hopefully this guide has provided you with a comprehensive overview of how best to use Google Sheets with Python!\n",
    "For more advanced techniques I'd recommend viewing the following documentation:\n",
    "\n",
    "- [Pygsheets](https://pygsheets.readthedocs.io/en/stable/index.html)\n",
    "- [Google's Native RESTful Spreadsheet API](https://developers.google.com/sheets/api/reference/rest/v4/spreadsheets/request#findreplacerequest)"
   ]
  }
 ],
 "metadata": {
  "kernelspec": {
   "display_name": "Python 3",
   "language": "python",
   "name": "python3"
  },
  "language_info": {
   "codemirror_mode": {
    "name": "ipython",
    "version": 3
   },
   "file_extension": ".py",
   "mimetype": "text/x-python",
   "name": "python",
   "nbconvert_exporter": "python",
   "pygments_lexer": "ipython3",
   "version": "3.7.4"
  }
 },
 "nbformat": 4,
 "nbformat_minor": 4
}
