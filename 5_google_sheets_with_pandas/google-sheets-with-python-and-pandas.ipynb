{
 "cells": [
  {
   "cell_type": "markdown",
   "metadata": {},
   "source": [
    "# 5. How To Read And Write To A Google Sheet With Python & Pandas"
   ]
  },
  {
   "cell_type": "markdown",
   "metadata": {},
   "source": [
    "## Learning Outcomes\n",
    "\n",
    "- To learn how to authenticate with Google Sheets within a .py file or jupyter notebook file.\n",
    "- To learn how to read from a Google Sheet.\n",
    "- To learn how to write (upload) to a Google Sheet.\n",
    "- To learn how to maniuplate data within Google Sheets.\n",
    "- To learn how to store data to a local file from a Google Sheet.\n",
    "- To learn how to share a Google Sheet with other gmail users."
   ]
  },
  {
   "cell_type": "markdown",
   "metadata": {},
   "source": [
    "---------------------------------------------------------------"
   ]
  },
  {
   "cell_type": "markdown",
   "metadata": {},
   "source": [
    "## Module Imports"
   ]
  },
  {
   "cell_type": "markdown",
   "metadata": {},
   "source": [
    "In order to run the module imports below you will need to have installed the following python client:\n",
    "\n",
    "- https://github.com/googleapis/google-api-python-client\n",
    "\n",
    "A quick way to do that would be to run the following command and to restart your Jupyter Notebook server:\n",
    "\n",
    "~~~\n",
    "\n",
    "pip install --upgrade google-api-python-client\n",
    "\n",
    "~~~\n",
    "\n",
    "---\n",
    "\n",
    "Additionally I would encourage you to download the gcloud software development kit (SDK), which will come in useful for deploying and access your Google Cloud Platform resources:\n",
    "\n",
    "You can find more information on how to do that from:\n",
    "\n",
    "- https://cloud.google.com/python/setup\n",
    "- https://cloud.google.com/sdk/docs"
   ]
  },
  {
   "cell_type": "code",
   "execution_count": 195,
   "metadata": {},
   "outputs": [
    {
     "name": "stdout",
     "output_type": "stream",
     "text": [
      "Requirement already up-to-date: google-api-python-client in /opt/anaconda3/lib/python3.7/site-packages (1.8.4)\n",
      "Requirement already satisfied, skipping upgrade: google-auth-httplib2>=0.0.3 in /opt/anaconda3/lib/python3.7/site-packages (from google-api-python-client) (0.0.3)\n",
      "Requirement already satisfied, skipping upgrade: google-auth>=1.4.1 in /Users/jamesanthonyphoenix/.local/lib/python3.7/site-packages (from google-api-python-client) (1.11.0)\n",
      "Requirement already satisfied, skipping upgrade: uritemplate<4dev,>=3.0.0 in /opt/anaconda3/lib/python3.7/site-packages (from google-api-python-client) (3.0.1)\n",
      "Requirement already satisfied, skipping upgrade: httplib2<1dev,>=0.9.2 in /opt/anaconda3/lib/python3.7/site-packages (from google-api-python-client) (0.17.0)\n",
      "Requirement already satisfied, skipping upgrade: google-api-core<2dev,>=1.13.0 in /Users/jamesanthonyphoenix/.local/lib/python3.7/site-packages (from google-api-python-client) (1.16.0)\n",
      "Requirement already satisfied, skipping upgrade: six<2dev,>=1.6.1 in /opt/anaconda3/lib/python3.7/site-packages (from google-api-python-client) (1.13.0)\n",
      "Requirement already satisfied, skipping upgrade: cachetools<5.0,>=2.0.0 in /Users/jamesanthonyphoenix/.local/lib/python3.7/site-packages (from google-auth>=1.4.1->google-api-python-client) (4.0.0)\n",
      "Requirement already satisfied, skipping upgrade: setuptools>=40.3.0 in /opt/anaconda3/lib/python3.7/site-packages (from google-auth>=1.4.1->google-api-python-client) (41.4.0)\n",
      "Requirement already satisfied, skipping upgrade: rsa<4.1,>=3.1.4 in /opt/anaconda3/lib/python3.7/site-packages (from google-auth>=1.4.1->google-api-python-client) (4.0)\n",
      "Requirement already satisfied, skipping upgrade: pyasn1-modules>=0.2.1 in /opt/anaconda3/lib/python3.7/site-packages (from google-auth>=1.4.1->google-api-python-client) (0.2.8)\n",
      "Requirement already satisfied, skipping upgrade: pytz in /opt/anaconda3/lib/python3.7/site-packages (from google-api-core<2dev,>=1.13.0->google-api-python-client) (2019.3)\n",
      "Requirement already satisfied, skipping upgrade: googleapis-common-protos<2.0dev,>=1.6.0 in /opt/anaconda3/lib/python3.7/site-packages (from google-api-core<2dev,>=1.13.0->google-api-python-client) (1.51.0)\n",
      "Requirement already satisfied, skipping upgrade: requests<3.0.0dev,>=2.18.0 in /Users/jamesanthonyphoenix/.local/lib/python3.7/site-packages (from google-api-core<2dev,>=1.13.0->google-api-python-client) (2.20.1)\n",
      "Requirement already satisfied, skipping upgrade: protobuf>=3.4.0 in /opt/anaconda3/lib/python3.7/site-packages (from google-api-core<2dev,>=1.13.0->google-api-python-client) (3.11.3)\n",
      "Requirement already satisfied, skipping upgrade: pyasn1>=0.1.3 in /Users/jamesanthonyphoenix/.local/lib/python3.7/site-packages (from rsa<4.1,>=3.1.4->google-auth>=1.4.1->google-api-python-client) (0.4.8)\n",
      "Requirement already satisfied, skipping upgrade: idna<2.8,>=2.5 in /Users/jamesanthonyphoenix/.local/lib/python3.7/site-packages (from requests<3.0.0dev,>=2.18.0->google-api-core<2dev,>=1.13.0->google-api-python-client) (2.7)\n",
      "Requirement already satisfied, skipping upgrade: urllib3<1.25,>=1.21.1 in /opt/anaconda3/lib/python3.7/site-packages (from requests<3.0.0dev,>=2.18.0->google-api-core<2dev,>=1.13.0->google-api-python-client) (1.24.2)\n",
      "Requirement already satisfied, skipping upgrade: certifi>=2017.4.17 in /opt/anaconda3/lib/python3.7/site-packages (from requests<3.0.0dev,>=2.18.0->google-api-core<2dev,>=1.13.0->google-api-python-client) (2019.9.11)\n",
      "Requirement already satisfied, skipping upgrade: chardet<3.1.0,>=3.0.2 in /opt/anaconda3/lib/python3.7/site-packages (from requests<3.0.0dev,>=2.18.0->google-api-core<2dev,>=1.13.0->google-api-python-client) (3.0.4)\n",
      "Note: you may need to restart the kernel to use updated packages.\n"
     ]
    }
   ],
   "source": [
    "pip install --upgrade google-api-python-client"
   ]
  },
  {
   "cell_type": "code",
   "execution_count": 196,
   "metadata": {},
   "outputs": [],
   "source": [
    "import pandas as pd\n",
    "import json\n",
    "import csv\n",
    "from google.oauth2 import service_account"
   ]
  },
  {
   "cell_type": "markdown",
   "metadata": {},
   "source": [
    "----------------------------------------------------------------"
   ]
  },
  {
   "cell_type": "markdown",
   "metadata": {},
   "source": [
    "## Download Pygsheets"
   ]
  },
  {
   "cell_type": "markdown",
   "metadata": {},
   "source": [
    "We will be using a python package called [pygsheets](https://pygsheets.readthedocs.io/en/stable/) to easily interact with a new google sheet that we will create.\n",
    "\n",
    "If you're using anaconda you can navigate to your terminal and install the latest version of this package with:\n",
    "\n",
    "~~~\n",
    "\n",
    "conda install pygsheets\n",
    "\n",
    "~~~\n",
    "\n",
    "Alternatively if you're using pip or pip3 to manage your packages you can type either:\n",
    "\n",
    "~~~\n",
    "\n",
    "pip install pygsheets\n",
    "pip3 install pygsheets\n",
    "\n",
    "\n",
    "~~~"
   ]
  },
  {
   "cell_type": "code",
   "execution_count": 197,
   "metadata": {},
   "outputs": [
    {
     "name": "stdout",
     "output_type": "stream",
     "text": [
      "Requirement already satisfied: pygsheets in /opt/anaconda3/lib/python3.7/site-packages (2.0.3)\n",
      "Requirement already satisfied: google-auth-oauthlib in /opt/anaconda3/lib/python3.7/site-packages (from pygsheets) (0.4.1)\n",
      "Requirement already satisfied: google-api-python-client>=1.5.5 in /opt/anaconda3/lib/python3.7/site-packages (from pygsheets) (1.8.4)\n",
      "Requirement already satisfied: oauth2client in /opt/anaconda3/lib/python3.7/site-packages (from pygsheets) (4.1.3)\n",
      "Requirement already satisfied: google-auth in /Users/jamesanthonyphoenix/.local/lib/python3.7/site-packages (from google-auth-oauthlib->pygsheets) (1.11.0)\n",
      "Requirement already satisfied: requests-oauthlib>=0.7.0 in /opt/anaconda3/lib/python3.7/site-packages (from google-auth-oauthlib->pygsheets) (1.3.0)\n",
      "Requirement already satisfied: six<2dev,>=1.6.1 in /opt/anaconda3/lib/python3.7/site-packages (from google-api-python-client>=1.5.5->pygsheets) (1.13.0)\n",
      "Requirement already satisfied: google-api-core<2dev,>=1.13.0 in /Users/jamesanthonyphoenix/.local/lib/python3.7/site-packages (from google-api-python-client>=1.5.5->pygsheets) (1.16.0)\n",
      "Requirement already satisfied: httplib2<1dev,>=0.9.2 in /opt/anaconda3/lib/python3.7/site-packages (from google-api-python-client>=1.5.5->pygsheets) (0.17.0)\n",
      "Requirement already satisfied: google-auth-httplib2>=0.0.3 in /opt/anaconda3/lib/python3.7/site-packages (from google-api-python-client>=1.5.5->pygsheets) (0.0.3)\n",
      "Requirement already satisfied: uritemplate<4dev,>=3.0.0 in /opt/anaconda3/lib/python3.7/site-packages (from google-api-python-client>=1.5.5->pygsheets) (3.0.1)\n",
      "Requirement already satisfied: pyasn1-modules>=0.0.5 in /opt/anaconda3/lib/python3.7/site-packages (from oauth2client->pygsheets) (0.2.8)\n",
      "Requirement already satisfied: rsa>=3.1.4 in /opt/anaconda3/lib/python3.7/site-packages (from oauth2client->pygsheets) (4.0)\n",
      "Requirement already satisfied: pyasn1>=0.1.7 in /Users/jamesanthonyphoenix/.local/lib/python3.7/site-packages (from oauth2client->pygsheets) (0.4.8)\n",
      "Requirement already satisfied: cachetools<5.0,>=2.0.0 in /Users/jamesanthonyphoenix/.local/lib/python3.7/site-packages (from google-auth->google-auth-oauthlib->pygsheets) (4.0.0)\n",
      "Requirement already satisfied: setuptools>=40.3.0 in /opt/anaconda3/lib/python3.7/site-packages (from google-auth->google-auth-oauthlib->pygsheets) (41.4.0)\n",
      "Requirement already satisfied: oauthlib>=3.0.0 in /opt/anaconda3/lib/python3.7/site-packages (from requests-oauthlib>=0.7.0->google-auth-oauthlib->pygsheets) (3.1.0)\n",
      "Requirement already satisfied: requests>=2.0.0 in /Users/jamesanthonyphoenix/.local/lib/python3.7/site-packages (from requests-oauthlib>=0.7.0->google-auth-oauthlib->pygsheets) (2.20.1)\n",
      "Requirement already satisfied: protobuf>=3.4.0 in /opt/anaconda3/lib/python3.7/site-packages (from google-api-core<2dev,>=1.13.0->google-api-python-client>=1.5.5->pygsheets) (3.11.3)\n",
      "Requirement already satisfied: pytz in /opt/anaconda3/lib/python3.7/site-packages (from google-api-core<2dev,>=1.13.0->google-api-python-client>=1.5.5->pygsheets) (2019.3)\n",
      "Requirement already satisfied: googleapis-common-protos<2.0dev,>=1.6.0 in /opt/anaconda3/lib/python3.7/site-packages (from google-api-core<2dev,>=1.13.0->google-api-python-client>=1.5.5->pygsheets) (1.51.0)\n",
      "Requirement already satisfied: chardet<3.1.0,>=3.0.2 in /opt/anaconda3/lib/python3.7/site-packages (from requests>=2.0.0->requests-oauthlib>=0.7.0->google-auth-oauthlib->pygsheets) (3.0.4)\n",
      "Requirement already satisfied: urllib3<1.25,>=1.21.1 in /opt/anaconda3/lib/python3.7/site-packages (from requests>=2.0.0->requests-oauthlib>=0.7.0->google-auth-oauthlib->pygsheets) (1.24.2)\n",
      "Requirement already satisfied: idna<2.8,>=2.5 in /Users/jamesanthonyphoenix/.local/lib/python3.7/site-packages (from requests>=2.0.0->requests-oauthlib>=0.7.0->google-auth-oauthlib->pygsheets) (2.7)\n",
      "Requirement already satisfied: certifi>=2017.4.17 in /opt/anaconda3/lib/python3.7/site-packages (from requests>=2.0.0->requests-oauthlib>=0.7.0->google-auth-oauthlib->pygsheets) (2019.9.11)\n"
     ]
    }
   ],
   "source": [
    "!pip install pygsheets"
   ]
  },
  {
   "cell_type": "markdown",
   "metadata": {},
   "source": [
    "As you can see from above I've previously installed pygsheets, after you've installed the python package if you're working from a jupyter notebook, then please restart the Kernel:"
   ]
  },
  {
   "cell_type": "markdown",
   "metadata": {},
   "source": [
    "![how to clear the kernel](https://sempioneer.com/wp-content/uploads/2020/05/1_clear_kernel.png)"
   ]
  },
  {
   "cell_type": "code",
   "execution_count": 198,
   "metadata": {},
   "outputs": [],
   "source": [
    "import pygsheets"
   ]
  },
  {
   "cell_type": "markdown",
   "metadata": {},
   "source": [
    "--------------------------------------------------------------------------------------------------------------------------------"
   ]
  },
  {
   "cell_type": "markdown",
   "metadata": {},
   "source": [
    "## To Authenticate To A Google Cloud Project With A .JSON Service Account Key"
   ]
  },
  {
   "cell_type": "markdown",
   "metadata": {},
   "source": [
    "Using your local .json file we will authenticate to our google service account."
   ]
  },
  {
   "cell_type": "code",
   "execution_count": 199,
   "metadata": {},
   "outputs": [],
   "source": [
    "with open('service_account.json') as source:\n",
    "    info = json.load(source)\n",
    "    \n",
    "credentials = service_account.Credentials.from_service_account_info(info)"
   ]
  },
  {
   "cell_type": "markdown",
   "metadata": {},
   "source": [
    "--------------------------------------------------------"
   ]
  },
  {
   "cell_type": "markdown",
   "metadata": {},
   "source": [
    "## Create A New Google Sheet + Obtain The Unique ID"
   ]
  },
  {
   "cell_type": "markdown",
   "metadata": {},
   "source": [
    "Firstly we are going to create a new google sheet, then we'll obtain the id of that specific google sheet which can be found within the URL:"
   ]
  },
  {
   "cell_type": "markdown",
   "metadata": {},
   "source": [
    "![how to obtain the google sheet id](https://sempioneer.com/wp-content/uploads/2020/05/2_obtain_the_google_sheet_id.png)"
   ]
  },
  {
   "cell_type": "markdown",
   "metadata": {},
   "source": [
    "## Python With Google Sheet Commands"
   ]
  },
  {
   "cell_type": "markdown",
   "metadata": {},
   "source": [
    "### Authenticating With Google Sheets With Pyghseets"
   ]
  },
  {
   "cell_type": "markdown",
   "metadata": {},
   "source": [
    "Let's see how to successfully authenticate to google sheets with our .json key "
   ]
  },
  {
   "cell_type": "code",
   "execution_count": 200,
   "metadata": {},
   "outputs": [],
   "source": [
    "client = pygsheets.authorize(service_account_file='service_account.json')"
   ]
  },
  {
   "cell_type": "markdown",
   "metadata": {},
   "source": [
    "---------------------------------------------------------------------------------"
   ]
  },
  {
   "cell_type": "markdown",
   "metadata": {},
   "source": [
    "### How to connect to a specific google sheet"
   ]
  },
  {
   "cell_type": "markdown",
   "metadata": {},
   "source": [
    "Now that we've authenticated pygsheets with our google cloud project let's connect to a specific google sheet. In order to do this we will need to grab the URL link and share the spreadsheet."
   ]
  },
  {
   "cell_type": "code",
   "execution_count": 201,
   "metadata": {},
   "outputs": [],
   "source": [
    "spreadsheet_url = \\\n",
    "\"https://docs.google.com/spreadsheets/d/1OBR8HEE2rjaWqZPnb8mHnp3YpxxELcy5Zqve3gtX22Q/edit?usp=sharing\""
   ]
  },
  {
   "cell_type": "markdown",
   "metadata": {},
   "source": [
    "Additionally we will extract the spreadsheet ID which can be located in the URL above between /d/ and /edit?"
   ]
  },
  {
   "cell_type": "markdown",
   "metadata": {},
   "source": [
    "This id will be unique for you so please make sure to code along! "
   ]
  },
  {
   "cell_type": "markdown",
   "metadata": {},
   "source": [
    "![google spreadsheet](https://sempioneer.com/wp-content/uploads/2020/05/spreadsheet-id-.png)"
   ]
  },
  {
   "cell_type": "code",
   "execution_count": 202,
   "metadata": {},
   "outputs": [],
   "source": [
    "sheet_data = client.sheet.get('1OBR8HEE2rjaWqZPnb8mHnp3YpxxELcy5Zqve3gtX22Q')"
   ]
  },
  {
   "cell_type": "markdown",
   "metadata": {},
   "source": [
    "There are three ways to open the spreadsheet:\n",
    "\n",
    "- By the spreadsheet title\n",
    "- By the unique spreadsheet ID\n",
    "- By the exact URL of the ghseet\n",
    "\n",
    "Let's showcase all three and you can take your pick!"
   ]
  },
  {
   "cell_type": "code",
   "execution_count": 203,
   "metadata": {},
   "outputs": [],
   "source": [
    "# sheet = client.open('Sheet1') ## You will need to activate the Google Drive API as well as the spreadsheet API for this one to work\n",
    "sheet = client.open_by_key('1OBR8HEE2rjaWqZPnb8mHnp3YpxxELcy5Zqve3gtX22Q')\n",
    "sheet = client.open_by_url('https://docs.google.com/spreadsheets/d/1OBR8HEE2rjaWqZPnb8mHnp3YpxxELcy5Zqve3gtX22Q/edit?usp=sharing')"
   ]
  },
  {
   "cell_type": "code",
   "execution_count": 204,
   "metadata": {},
   "outputs": [
    {
     "name": "stdout",
     "output_type": "stream",
     "text": [
      "<Spreadsheet 'Test Google Sheet' Sheets:1>\n"
     ]
    }
   ],
   "source": [
    "print(sheet)"
   ]
  },
  {
   "cell_type": "markdown",
   "metadata": {},
   "source": [
    "------------------------------------------------------------------------------------------"
   ]
  },
  {
   "cell_type": "markdown",
   "metadata": {},
   "source": [
    "### How To Select A Specific Google Worksheet"
   ]
  },
  {
   "cell_type": "markdown",
   "metadata": {},
   "source": [
    "Let's select a worksheet was automatically created with the gsheet called Sheet1:"
   ]
  },
  {
   "cell_type": "code",
   "execution_count": 205,
   "metadata": {},
   "outputs": [
    {
     "name": "stdout",
     "output_type": "stream",
     "text": [
      "<Worksheet 'Sheet1' index:0>\n"
     ]
    }
   ],
   "source": [
    "wks = sheet.worksheet_by_title('Sheet1')\n",
    "print(wks)"
   ]
  },
  {
   "cell_type": "markdown",
   "metadata": {},
   "source": [
    "------------------------------------------------------------------------"
   ]
  },
  {
   "cell_type": "markdown",
   "metadata": {},
   "source": [
    "### Accessing Rows & Columns Meta-data"
   ]
  },
  {
   "cell_type": "markdown",
   "metadata": {},
   "source": [
    "After uploading a dataframe into a google sheet, you can see how many columns and rows you have with:\n",
    "    \n",
    "~~~\n",
    "\n",
    "wks.cols # To view the number of columns\n",
    "wks.rows # To view the number of rows\n",
    "\n",
    "~~~"
   ]
  },
  {
   "cell_type": "code",
   "execution_count": 206,
   "metadata": {},
   "outputs": [
    {
     "name": "stdout",
     "output_type": "stream",
     "text": [
      "There are 31 columns in the gsheet!\n",
      "There are 1001 rows in the gsheet!\n"
     ]
    }
   ],
   "source": [
    "print(f\"There are {wks.cols} columns in the gsheet!\")\n",
    "print(f\"There are {wks.rows} rows in the gsheet!\")"
   ]
  },
  {
   "cell_type": "markdown",
   "metadata": {},
   "source": [
    "-----------------------------------------------------------------"
   ]
  },
  {
   "cell_type": "markdown",
   "metadata": {},
   "source": [
    "### How To Upload Data To A Google Sheet From A Pandas DataFrame"
   ]
  },
  {
   "cell_type": "markdown",
   "metadata": {},
   "source": [
    "I am going to use the keyword data that I originally downloaded from Ahrefs, however if you have another csv that's absolutely fine. I'd encourage you to simply read any csv file and to create a pandas dataframe:"
   ]
  },
  {
   "cell_type": "code",
   "execution_count": 207,
   "metadata": {},
   "outputs": [],
   "source": [
    "df = pd.read_csv('../1_Keywords/data/digital-marketing-keyword-ideas.csv', \n",
    "                 delimiter='\\t', \n",
    "                 encoding='UTF-16')\n",
    "\n",
    "df.drop(columns=['#'], inplace=True)"
   ]
  },
  {
   "cell_type": "markdown",
   "metadata": {},
   "source": [
    "To upload a dataframe to this worksheet we can use the following syntax:\n",
    "    \n",
    "~~~\n",
    "\n",
    "set_dataframe(df, start, copy_index=False, copy_head=True, extend=False, fit=False, escape_formulae=False, **kwargs)\n",
    "\n",
    "~~~"
   ]
  },
  {
   "cell_type": "code",
   "execution_count": 208,
   "metadata": {},
   "outputs": [],
   "source": [
    "wks.set_dataframe(df, start=(1,1))"
   ]
  },
  {
   "cell_type": "markdown",
   "metadata": {},
   "source": [
    "![](https://sempioneer.com/wp-content/uploads/2020/05/python-pygsheets.png)"
   ]
  },
  {
   "cell_type": "markdown",
   "metadata": {},
   "source": [
    "It's worth remembering that when you run the above command you will overwrite any cell values. Instead if you would like to progressively append rows within your google sheets please use the below syntax:\n",
    "\n",
    "~~~\n",
    "wks.set_dataframe(df, start=(1,1), extend=True)\n",
    "\n",
    "~~~"
   ]
  },
  {
   "cell_type": "markdown",
   "metadata": {},
   "source": [
    "--------------------------------------------------------------------------------------------------------"
   ]
  },
  {
   "cell_type": "markdown",
   "metadata": {},
   "source": [
    "Pro Tip: If you don't have enough rows within your existing worksheet, then uploading a pandas dataframe might fail! In order to account for this you can check the existing number of rows within the worksheet vs the number of rows within the dataframe and add extra rows if required.\n",
    "\n",
    "We can also do the same thing for columns too!"
   ]
  },
  {
   "cell_type": "code",
   "execution_count": 209,
   "metadata": {},
   "outputs": [],
   "source": [
    "# If the number of rows within the worksheet is less than the dataframe:\n",
    "if wks.rows < df.shape[0]:\n",
    "    number_of_rows_to_add = df.shape[0] - wks.rows + 1 \n",
    "    # Adding the required number of rows\n",
    "    wks.add_rows(number_of_rows)\n",
    "# If the number of cols within the worksheet is less than the dataframe:\n",
    "elif wks.cols < df.shape[1]:\n",
    "    number_of_cols_to_add = df.shape[1] - wks.cols + 1 \n",
    "    wks.add_cols(number_of_cols_to_add)\n",
    "else:\n",
    "    pass"
   ]
  },
  {
   "cell_type": "markdown",
   "metadata": {},
   "source": [
    "--------------------------------------------------------------------"
   ]
  },
  {
   "cell_type": "markdown",
   "metadata": {},
   "source": [
    "### How To A Pandas Dataframe From A Specific Worksheet"
   ]
  },
  {
   "cell_type": "markdown",
   "metadata": {},
   "source": [
    "We can also get data directly from the google sheets worksheet in the form of a dataframe:\n",
    "\n",
    "~~~\n",
    "\n",
    "get_as_df(has_header=True, index_column=None, start=None, end=None, numerize=True, empty_value='', value_render=<ValueRenderOption.FORMATTED_VALUE: 'FORMATTED_VALUE'>, **kwargs)[source]\n",
    "\n",
    "~~~"
   ]
  },
  {
   "cell_type": "code",
   "execution_count": 210,
   "metadata": {},
   "outputs": [],
   "source": [
    "dataframe_two = wks.get_as_df()"
   ]
  },
  {
   "cell_type": "code",
   "execution_count": 211,
   "metadata": {},
   "outputs": [
    {
     "name": "stdout",
     "output_type": "stream",
     "text": [
      "This new dataframe has 1000 rows and 11 columns\n"
     ]
    }
   ],
   "source": [
    "print(f\"This new dataframe has {dataframe_two.shape[0]} rows and {dataframe_two.shape[1]} columns\")"
   ]
  },
  {
   "cell_type": "code",
   "execution_count": 212,
   "metadata": {},
   "outputs": [
    {
     "data": {
      "text/html": [
       "<div>\n",
       "<style scoped>\n",
       "    .dataframe tbody tr th:only-of-type {\n",
       "        vertical-align: middle;\n",
       "    }\n",
       "\n",
       "    .dataframe tbody tr th {\n",
       "        vertical-align: top;\n",
       "    }\n",
       "\n",
       "    .dataframe thead th {\n",
       "        text-align: right;\n",
       "    }\n",
       "</style>\n",
       "<table border=\"1\" class=\"dataframe\">\n",
       "  <thead>\n",
       "    <tr style=\"text-align: right;\">\n",
       "      <th></th>\n",
       "      <th>Keyword</th>\n",
       "      <th>Country</th>\n",
       "      <th>Difficulty</th>\n",
       "      <th>Volume</th>\n",
       "      <th>CPC</th>\n",
       "      <th>Clicks</th>\n",
       "      <th>CPS</th>\n",
       "      <th>Return Rate</th>\n",
       "      <th>Parent Keyword</th>\n",
       "      <th>Last Update</th>\n",
       "      <th>SERP Features</th>\n",
       "    </tr>\n",
       "  </thead>\n",
       "  <tbody>\n",
       "    <tr>\n",
       "      <th>0</th>\n",
       "      <td>coast</td>\n",
       "      <td>gb</td>\n",
       "      <td>42.0</td>\n",
       "      <td>70000.0</td>\n",
       "      <td>2.5</td>\n",
       "      <td>64715.0</td>\n",
       "      <td>0.93</td>\n",
       "      <td>1.67</td>\n",
       "      <td>coast</td>\n",
       "      <td>2020-05-09 23:55:39</td>\n",
       "      <td>Sitelinks</td>\n",
       "    </tr>\n",
       "    <tr>\n",
       "      <th>1</th>\n",
       "      <td>hubspot</td>\n",
       "      <td>gb</td>\n",
       "      <td>67.0</td>\n",
       "      <td>63000.0</td>\n",
       "      <td>5.0</td>\n",
       "      <td>59708.0</td>\n",
       "      <td>0.95</td>\n",
       "      <td>2.34</td>\n",
       "      <td>hubspot</td>\n",
       "      <td>2020-05-09 00:57:01</td>\n",
       "      <td>Adwords top, Sitelinks, Top stories, Thumbnail...</td>\n",
       "    </tr>\n",
       "    <tr>\n",
       "      <th>2</th>\n",
       "      <td>digital marketing</td>\n",
       "      <td>gb</td>\n",
       "      <td>74.0</td>\n",
       "      <td>19000.0</td>\n",
       "      <td>7.0</td>\n",
       "      <td>11033.0</td>\n",
       "      <td>0.57</td>\n",
       "      <td>1.41</td>\n",
       "      <td>digital marketing</td>\n",
       "      <td>2020-05-09 07:11:09</td>\n",
       "      <td>Adwords top, Sitelinks, People also ask, Top s...</td>\n",
       "    </tr>\n",
       "    <tr>\n",
       "      <th>3</th>\n",
       "      <td>digital</td>\n",
       "      <td>gb</td>\n",
       "      <td>89.0</td>\n",
       "      <td>16000.0</td>\n",
       "      <td>2.5</td>\n",
       "      <td>5912.0</td>\n",
       "      <td>0.38</td>\n",
       "      <td>1.19</td>\n",
       "      <td>digital</td>\n",
       "      <td>2020-05-09 02:26:10</td>\n",
       "      <td>Sitelinks, People also ask, Top stories, Thumb...</td>\n",
       "    </tr>\n",
       "    <tr>\n",
       "      <th>4</th>\n",
       "      <td>content meaning</td>\n",
       "      <td>gb</td>\n",
       "      <td>45.0</td>\n",
       "      <td>4400.0</td>\n",
       "      <td>17.0</td>\n",
       "      <td>622.0</td>\n",
       "      <td>0.14</td>\n",
       "      <td>1.18</td>\n",
       "      <td>content</td>\n",
       "      <td>2020-05-10 06:32:24</td>\n",
       "      <td>Knowledge card, People also ask, Top stories, ...</td>\n",
       "    </tr>\n",
       "    <tr>\n",
       "      <th>5</th>\n",
       "      <td>digital media</td>\n",
       "      <td>gb</td>\n",
       "      <td>24.0</td>\n",
       "      <td>3600.0</td>\n",
       "      <td>3.0</td>\n",
       "      <td>1671.0</td>\n",
       "      <td>0.47</td>\n",
       "      <td>1.24</td>\n",
       "      <td>digital media</td>\n",
       "      <td>2020-05-10 14:14:41</td>\n",
       "      <td>Featured snippet, Thumbnails, People also ask,...</td>\n",
       "    </tr>\n",
       "  </tbody>\n",
       "</table>\n",
       "</div>"
      ],
      "text/plain": [
       "             Keyword Country  Difficulty   Volume   CPC   Clicks   CPS  \\\n",
       "0              coast      gb        42.0  70000.0   2.5  64715.0  0.93   \n",
       "1            hubspot      gb        67.0  63000.0   5.0  59708.0  0.95   \n",
       "2  digital marketing      gb        74.0  19000.0   7.0  11033.0  0.57   \n",
       "3            digital      gb        89.0  16000.0   2.5   5912.0  0.38   \n",
       "4    content meaning      gb        45.0   4400.0  17.0    622.0  0.14   \n",
       "5      digital media      gb        24.0   3600.0   3.0   1671.0  0.47   \n",
       "\n",
       "   Return Rate     Parent Keyword          Last Update  \\\n",
       "0         1.67              coast  2020-05-09 23:55:39   \n",
       "1         2.34            hubspot  2020-05-09 00:57:01   \n",
       "2         1.41  digital marketing  2020-05-09 07:11:09   \n",
       "3         1.19            digital  2020-05-09 02:26:10   \n",
       "4         1.18            content  2020-05-10 06:32:24   \n",
       "5         1.24      digital media  2020-05-10 14:14:41   \n",
       "\n",
       "                                       SERP Features  \n",
       "0                                          Sitelinks  \n",
       "1  Adwords top, Sitelinks, Top stories, Thumbnail...  \n",
       "2  Adwords top, Sitelinks, People also ask, Top s...  \n",
       "3  Sitelinks, People also ask, Top stories, Thumb...  \n",
       "4  Knowledge card, People also ask, Top stories, ...  \n",
       "5  Featured snippet, Thumbnails, People also ask,...  "
      ]
     },
     "execution_count": 212,
     "metadata": {},
     "output_type": "execute_result"
    }
   ],
   "source": [
    "dataframe_two.head(6)"
   ]
  },
  {
   "cell_type": "markdown",
   "metadata": {},
   "source": [
    "------------------------------------------------------------------------------------------"
   ]
  },
  {
   "cell_type": "markdown",
   "metadata": {},
   "source": [
    "### How To Get All Of The Google Sheet Values In A Python Format"
   ]
  },
  {
   "cell_type": "markdown",
   "metadata": {},
   "source": [
    "We can also get all of the values in a list of lists:"
   ]
  },
  {
   "cell_type": "code",
   "execution_count": 213,
   "metadata": {},
   "outputs": [],
   "source": [
    "all_values = wks.get_all_values()"
   ]
  },
  {
   "cell_type": "markdown",
   "metadata": {},
   "source": [
    "In my case, notice how this has picked up all of the empty spaces that are located on the right hand side of the worksheet:"
   ]
  },
  {
   "cell_type": "code",
   "execution_count": 214,
   "metadata": {},
   "outputs": [
    {
     "name": "stdout",
     "output_type": "stream",
     "text": [
      "['Keyword', 'Country', 'Difficulty', 'Volume', 'CPC', 'Clicks', 'CPS', 'Return Rate', 'Parent Keyword', 'Last Update', 'SERP Features', '', '', '', '', '', '', '', '', '', '', '', '', '', '', '', '', '', '', '', '']\n"
     ]
    }
   ],
   "source": [
    "print(all_values[0])"
   ]
  },
  {
   "cell_type": "markdown",
   "metadata": {},
   "source": [
    "A way to quickly remove the empty strings per list would be do a <strong> nested list comprehension: </strong>"
   ]
  },
  {
   "cell_type": "code",
   "execution_count": 215,
   "metadata": {},
   "outputs": [],
   "source": [
    "cleaned_values = [[item for item in unique_list if item ]for unique_list in all_values]"
   ]
  },
  {
   "cell_type": "markdown",
   "metadata": {},
   "source": [
    "------------------------------------------------"
   ]
  },
  {
   "cell_type": "markdown",
   "metadata": {},
   "source": [
    "### How To Get Cell Ranges In Google Sheets With Python"
   ]
  },
  {
   "cell_type": "markdown",
   "metadata": {},
   "source": [
    "You can also specific ranges similar to your excel functions for getting custom columns and rows."
   ]
  },
  {
   "cell_type": "code",
   "execution_count": 216,
   "metadata": {},
   "outputs": [],
   "source": [
    "cell_range = wks.range('A1:F10', \n",
    "          returnas='matrix')"
   ]
  },
  {
   "cell_type": "code",
   "execution_count": 217,
   "metadata": {},
   "outputs": [
    {
     "name": "stdout",
     "output_type": "stream",
     "text": [
      "[['Keyword', 'Country', 'Difficulty', 'Volume', 'CPC', 'Clicks'], ['coast', 'gb', '42', '70000', '2.5', '64715'], ['hubspot', 'gb', '67', '63000', '5', '59708'], ['digital marketing', 'gb', '74', '19000', '7', '11033'], ['digital', 'gb', '89', '16000', '2.5', '5912'], ['content meaning', 'gb', '45', '4400', '17', '622'], ['digital media', 'gb', '24', '3600', '3', '1671'], ['digital marketing agency', 'gb', '57', '3400', '18', '3925'], ['digital uk', 'gb', '24', '3100', '1.2', '2402'], ['what is digital marketing', 'gb', '74', '3100', '2.5', '2119']]\n"
     ]
    }
   ],
   "source": [
    "print(cell_range)"
   ]
  },
  {
   "cell_type": "markdown",
   "metadata": {},
   "source": [
    "-----------------------------------------------------------------------------"
   ]
  },
  {
   "cell_type": "markdown",
   "metadata": {},
   "source": [
    "### How To Get A Single Row For Extracting The Column Headers"
   ]
  },
  {
   "cell_type": "markdown",
   "metadata": {},
   "source": [
    "We can get a single row with:\n",
    "\n",
    "~~~ \n",
    "\n",
    "wks.get_row(row, returnas='matrix', include_tailing_empty=True, **kwargs)\n",
    "\n",
    "~~~"
   ]
  },
  {
   "cell_type": "code",
   "execution_count": 218,
   "metadata": {},
   "outputs": [],
   "source": [
    "headers = wks.get_row(1, include_tailing_empty=False)"
   ]
  },
  {
   "cell_type": "code",
   "execution_count": 219,
   "metadata": {},
   "outputs": [
    {
     "name": "stdout",
     "output_type": "stream",
     "text": [
      "['Keyword', 'Country', 'Difficulty', 'Volume', 'CPC', 'Clicks', 'CPS', 'Return Rate', 'Parent Keyword', 'Last Update', 'SERP Features']\n"
     ]
    }
   ],
   "source": [
    "print(headers)"
   ]
  },
  {
   "cell_type": "markdown",
   "metadata": {},
   "source": [
    "Also notice how we've changed the include_tailing_empty to False which has automatically removed any empty strings in that row."
   ]
  },
  {
   "cell_type": "markdown",
   "metadata": {},
   "source": [
    "------------------------------------------------------------------------------------"
   ]
  },
  {
   "cell_type": "markdown",
   "metadata": {},
   "source": [
    "### How To Extract A Single Column"
   ]
  },
  {
   "cell_type": "markdown",
   "metadata": {},
   "source": [
    "Sometimes you might want to select a specific column from your worksheet:"
   ]
  },
  {
   "cell_type": "code",
   "execution_count": 220,
   "metadata": {},
   "outputs": [],
   "source": [
    "first_column = wks.get_col(1)\n",
    "first_column_data = first_column[1:] # We are doing a slide here to remove the header (keyword)"
   ]
  },
  {
   "cell_type": "markdown",
   "metadata": {},
   "source": [
    "------------------------------------------------------------------------------------"
   ]
  },
  {
   "cell_type": "markdown",
   "metadata": {},
   "source": [
    "### How To Sort By A Column"
   ]
  },
  {
   "cell_type": "markdown",
   "metadata": {},
   "source": [
    "You can easily sort the google sheet by a specific column with:\n",
    "    \n",
    "~~~\n",
    "\n",
    "wks.sort_range(start, end, basecolumnindex=0, sortorder='ASCENDING')\n",
    "# Sorts the data in rows based on the given column index.\n",
    "\n",
    "\n",
    "~~~"
   ]
  },
  {
   "cell_type": "code",
   "execution_count": 221,
   "metadata": {},
   "outputs": [],
   "source": [
    "wks.sort_range(start='A2', end='L1001',basecolumnindex=4, sortorder='DESCENDING' )"
   ]
  },
  {
   "cell_type": "markdown",
   "metadata": {},
   "source": [
    "<strong> Its worth knowing that np.nans (not a number) </strong> are treated as large numbers within google sheets. Therefore let's clear the sheet, remove all of the nans before uploading the dataframe, then we will perform this operation again."
   ]
  },
  {
   "cell_type": "markdown",
   "metadata": {},
   "source": [
    "![](https://sempioneer.com/wp-content/uploads/2020/05/python-pygsheets-nans.png)"
   ]
  },
  {
   "cell_type": "markdown",
   "metadata": {},
   "source": [
    "------------------------------------------------------------------------------------"
   ]
  },
  {
   "cell_type": "markdown",
   "metadata": {},
   "source": [
    "### How To Clear A Google Sheet With Python"
   ]
  },
  {
   "cell_type": "markdown",
   "metadata": {},
   "source": [
    "You can clear all of the existing rows and columns within the sheet by referencing the same workspace variable (wks) and the .clear() syntax: \n",
    "\n",
    "~~~\n",
    "\n",
    "wks.clear()\n",
    "\n",
    "~~~"
   ]
  },
  {
   "cell_type": "code",
   "execution_count": 222,
   "metadata": {},
   "outputs": [],
   "source": [
    "wks.clear()"
   ]
  },
  {
   "cell_type": "markdown",
   "metadata": {},
   "source": [
    "----------------------------------------------------------------------"
   ]
  },
  {
   "cell_type": "markdown",
   "metadata": {},
   "source": [
    "Now I'd recommend removing any nans before uploading your dataframe! So let's remove any np.nans within the Volume Column:"
   ]
  },
  {
   "cell_type": "code",
   "execution_count": 223,
   "metadata": {},
   "outputs": [],
   "source": [
    "df.dropna(subset=['Volume'], inplace=True)\n",
    "wks.set_dataframe(df, start=(1,1))"
   ]
  },
  {
   "cell_type": "markdown",
   "metadata": {},
   "source": [
    "Let's try sorting again by the Volume column with pygsheets:"
   ]
  },
  {
   "cell_type": "code",
   "execution_count": 224,
   "metadata": {},
   "outputs": [],
   "source": [
    "wks.sort_range(start='A2', end='L1001',basecolumnindex=4, sortorder='DESCENDING' )"
   ]
  },
  {
   "cell_type": "markdown",
   "metadata": {},
   "source": [
    "![](https://sempioneer.com/wp-content/uploads/2020/05/sorted_volume.png)"
   ]
  },
  {
   "cell_type": "markdown",
   "metadata": {},
   "source": [
    "-----------------------------------------------------------------------------"
   ]
  },
  {
   "cell_type": "markdown",
   "metadata": {},
   "source": [
    "### How To Loop Over Every Row"
   ]
  },
  {
   "cell_type": "markdown",
   "metadata": {},
   "source": [
    "You can iterate over row in your google sheet with a for loop:"
   ]
  },
  {
   "cell_type": "code",
   "execution_count": 225,
   "metadata": {},
   "outputs": [
    {
     "name": "stdout",
     "output_type": "stream",
     "text": [
      "['Keyword', 'Country', 'Difficulty', 'Volume', 'CPC', 'Clicks', 'CPS', 'Return Rate', 'Parent Keyword', 'Last Update', 'SERP Features', '', '', '', '', '', '', '', '', '', '', '', '', '', '', '', '', '', '', '', '']\n",
      "['digital marketer', 'gb', '73', '1500', 'NaN', '1096', '0.72', '1.31', 'digital marketer', '2020-05-05 15:13:56', 'Sitelinks, People also ask, Top stories, Thumbnails, Adwords bottom', '', '', '', '', '', '', '', '', '', '', '', '', '', '', '', '', '', '', '', '']\n",
      "['detailed online', 'gb', '0', '450', 'NaN', '391', '0.91', '1.62', 'detailed online', '2020-05-03 13:55:48', 'Sitelinks, Top stories, Thumbnails', '', '', '', '', '', '', '', '', '', '', '', '', '', '', '', '', '', '', '', '']\n",
      "['what is this?', 'gb', '74', '300', 'NaN', '122', '0.43', '1.12', 'what is this', '2020-04-29 07:44:47', 'Sitelinks, Top stories, Thumbnails, Image pack', '', '', '', '', '', '', '', '', '', '', '', '', '', '', '', '', '', '', '', '']\n",
      "['define constitutes', 'gb', '8', '300', 'NaN', '23', '0.08', '1.13', 'constitute', '2020-05-04 07:32:28', 'Knowledge card, People also ask', '', '', '', '', '', '', '', '', '', '', '', '', '', '', '', '', '', '', '', '']\n",
      "['digital marketing agencies london', 'gb', '44', '250', 'NaN', '460', '2.01', '1.49', 'marketing agency', '2020-04-27 18:11:44', 'NaN', '', '', '', '', '', '', '', '', '', '', '', '', '', '', '', '', '', '', '', '']\n",
      "['services meaning', 'gb', '48', '200', 'NaN', '30', '0.15', '1.18', 'services', '2020-05-09 12:28:03', 'Knowledge card, People also ask, Sitelinks, Videos', '', '', '', '', '', '', '', '', '', '', '', '', '', '', '', '', '', '', '', '']\n",
      "['marketeer meaning', 'gb', '6', '200', 'NaN', '23', '0.13', '1.18', 'marketeer', '2020-04-24 09:50:43', 'Knowledge card, People also ask, Videos, Image pack', '', '', '', '', '', '', '', '', '', '', '', '', '', '', '', '', '', '', '', '']\n",
      "['regardless marketing', 'gb', '0', '200', 'NaN', '211', '1.04', '1.5', 'regardless marketing', '2020-05-04 07:36:25', 'NaN', '', '', '', '', '', '', '', '', '', '', '', '', '', '', '', '', '', '', '', '']\n",
      "['media channels', 'gb', '33', '200', 'NaN', '87', '0.46', '1.1', 'marketing channels', '2020-04-28 06:11:20', 'Featured snippet, Thumbnails, People also ask', '', '', '', '', '', '', '', '', '', '', '', '', '', '', '', '', '', '', '', '']\n",
      "['on-digital', 'gb', '10', '200', 'NaN', 'NaN', 'NaN', 'NaN', 'itv digital', '2020-05-01 14:22:17', 'Sitelinks, People also ask, Top stories, Thumbnails', '', '', '', '', '', '', '', '', '', '', '', '', '', '', '', '', '', '', '', '']\n",
      "['the who.com', 'gb', '74', '150', 'NaN', '131', '1.04', '1.27', 'the who', '2020-05-07 09:36:59', 'Adwords top, Sitelinks, Top stories, Thumbnails, Image pack', '', '', '', '', '', '', '', '', '', '', '', '', '', '', '', '', '', '', '', '']\n",
      "['hubspo', 'gb', '63', '150', 'NaN', '148', '0.94', '1.46', 'hubspot', '2020-04-26 01:10:38', 'Adwords top, Sitelinks, Top stories, Thumbnails, People also ask, Tweet box, Image pack', '', '', '', '', '', '', '', '', '', '', '', '', '', '', '', '', '', '', '', '']\n",
      "['marketer meaning', 'gb', '3', '150', 'NaN', '42', '0.29', '1.13', 'marketer', '2020-05-04 08:17:54', 'Knowledge card, People also ask', '', '', '', '', '', '', '', '', '', '', '', '', '', '', '', '', '', '', '', '']\n",
      "['digital marketing services birmingham', 'gb', '17', '150', 'NaN', 'NaN', 'NaN', 'NaN', 'digital agency birmingham', '2020-05-09 20:34:54', 'Featured snippet', '', '', '', '', '', '', '', '', '', '', '', '', '', '', '', '', '', '', '', '']\n",
      "['who is this?', 'gb', '95', '150', 'NaN', '40', '0.28', '1.23', 'whois', '2020-05-03 21:53:48', 'Sitelinks, Top stories, Thumbnails', '', '', '', '', '', '', '', '', '', '', '', '', '', '', '', '', '', '', '', '']\n",
      "['digitals', 'gb', '61', '150', 'NaN', '37', '0.28', '1.21', 'digital spy', '2020-04-20 19:58:53', 'Sitelinks, People also ask, Image pack', '', '', '', '', '', '', '', '', '', '', '', '', '', '', '', '', '', '', '', '']\n",
      "['according to meaning', 'gb', '9', '150', 'NaN', '14', '0.11', '1.13', 'according', '2020-04-17 21:30:15', 'Featured snippet, People also ask', '', '', '', '', '', '', '', '', '', '', '', '', '', '', '', '', '', '', '', '']\n",
      "[\"who's definition\", 'gb', '2', '150', 'NaN', '21', '0.15', '1.13', \"who 's\", '2020-04-27 02:58:15', 'Knowledge card, People also ask', '', '', '', '', '', '', '', '', '', '', '', '', '', '', '', '', '', '', '', '']\n",
      "['why is digital marketing important', 'gb', '43', '150', 'NaN', '131', '0.97', '1.2', 'role of digital marketing', '2020-04-18 11:24:52', 'Adwords top, Sitelinks, Featured snippet, Thumbnails, People also ask', '', '', '', '', '', '', '', '', '', '', '', '', '', '', '', '', '', '', '', '']\n",
      "['huspot', 'gb', '67', '100', 'NaN', '62', '0.63', '1', 'hubspot', '2020-04-28 22:51:53', 'Adwords top, Sitelinks, Top stories, Thumbnails, People also ask, Tweet box, Image pack', '', '', '', '', '', '', '', '', '', '', '', '', '', '', '', '', '', '', '', '']\n",
      "['content marketing companies', 'gb', '10', '100', 'NaN', 'NaN', 'NaN', 'NaN', 'content marketing agency', '2020-04-18 15:20:02', 'Adwords top, Sitelinks, Featured snippet, Thumbnails, People also ask, Adwords bottom', '', '', '', '', '', '', '', '', '', '', '', '', '', '', '', '', '', '', '', '']\n",
      "['meaning of create', 'gb', '15', '100', 'NaN', 'NaN', 'NaN', 'NaN', 'create', '2020-05-03 07:08:20', 'Knowledge card, People also ask', '', '', '', '', '', '', '', '', '', '', '', '', '', '', '', '', '', '', '', '']\n",
      "['like digital', 'gb', '1', '100', 'NaN', '86', '0.83', '1.32', 'like digital', '2020-05-06 07:16:55', 'Sitelinks, Image pack, Top stories, Thumbnails', '', '', '', '', '', '', '', '', '', '', '', '', '', '', '', '', '', '', '', '']\n",
      "['define services', 'gb', '13', '100', 'NaN', 'NaN', 'NaN', 'NaN', \"service's\", '2020-05-05 23:20:15', 'Knowledge card, People also ask, Sitelinks, Top stories, Thumbnails', '', '', '', '', '', '', '', '', '', '', '', '', '', '', '', '', '', '', '', '']\n",
      "['business define', 'gb', '64', '100', 'NaN', '45', '0.4', '1.11', 'business definition', '2020-04-24 22:00:55', 'Knowledge card, People also ask, Sitelinks, Top stories, Thumbnails', '', '', '', '', '', '', '', '', '', '', '', '', '', '', '', '', '', '', '', '']\n",
      "['key-digital', 'gb', '4', '100', 'NaN', 'NaN', 'NaN', 'NaN', 'key digital', '2020-05-03 04:46:31', 'Adwords top, Sitelinks, Top stories, Thumbnails', '', '', '', '', '', '', '', '', '', '', '', '', '', '', '', '', '', '', '', '']\n",
      "['all digital', 'gb', '48', '100', 'NaN', 'NaN', 'NaN', 'NaN', 'alldigital', '2020-04-24 20:48:34', 'Sitelinks, Top stories, Thumbnails', '', '', '', '', '', '', '', '', '', '', '', '', '', '', '', '', '', '', '', '']\n",
      "['define in fact', 'gb', '3', '100', 'NaN', 'NaN', 'NaN', 'NaN', 'infact', '2020-04-18 10:56:19', 'Knowledge card, People also ask', '', '', '', '', '', '', '', '', '', '', '', '', '', '', '', '', '', '', '', '']\n",
      "['what does defined mean', 'gb', '20', '100', 'NaN', '13', '0.13', '1.05', 'defined', '2020-04-23 10:51:20', 'Knowledge card, People also ask, Videos', '', '', '', '', '', '', '', '', '', '', '', '', '', '', '', '', '', '', '', '']\n",
      "['trends definition in business', 'gb', '17', '100', 'NaN', 'NaN', 'NaN', 'NaN', 'trends definition in business', '2020-05-09 00:34:19', 'Featured snippet, Thumbnails, People also ask, Videos', '', '', '', '', '', '', '', '', '', '', '', '', '', '', '', '', '', '', '', '']\n",
      "['what is for', 'gb', '30', '100', 'NaN', 'NaN', 'NaN', 'NaN', 'for', '2020-04-28 07:35:06', 'People also ask, Top stories, Thumbnails', '', '', '', '', '', '', '', '', '', '', '', '', '', '', '', '', '', '', '', '']\n",
      "['digital marketing campaigns', 'gb', '28', '100', 'NaN', '91', '0.82', '1.42', 'digital campaign', '2020-04-20 03:12:22', 'Adwords top, People also ask', '', '', '', '', '', '', '', '', '', '', '', '', '', '', '', '', '', '', '', '']\n",
      "['hubstop', 'gb', '67', '100', 'NaN', 'NaN', 'NaN', 'NaN', 'hubspot', '2020-05-09 12:25:10', 'Adwords top, Sitelinks, Top stories, Thumbnails, People also ask, Tweet box, Image pack', '', '', '', '', '', '', '', '', '', '', '', '', '', '', '', '', '', '', '', '']\n",
      "['who what why', 'gb', '20', '100', 'NaN', '64', '0.54', '1', '5 ws', '2020-04-22 17:39:50', 'Sitelinks, People also ask, Videos, Tweet box, Image pack', '', '', '', '', '', '', '', '', '', '', '', '', '', '', '', '', '', '', '', '']\n",
      "['lucy definition', 'gb', '3', '100', 'NaN', 'NaN', 'NaN', 'NaN', 'lucy definition', '2020-04-15 18:16:50', 'People also ask, Top stories, Thumbnails', '', '', '', '', '', '', '', '', '', '', '', '', '', '', '', '', '', '', '', '']\n",
      "['digital marketing theory', 'gb', '2', '100', 'NaN', 'NaN', 'NaN', 'NaN', 'digital marketing theory', '2020-04-19 13:22:52', 'People also ask, Image pack', '', '', '', '', '', '', '', '', '', '', '', '', '', '', '', '', '', '', '', '']\n",
      "['internet marketing services uk', 'gb', '31', '90', 'NaN', 'NaN', 'NaN', 'NaN', 'internet marketing agency', '2020-05-07 13:58:08', 'Adwords bottom, Sitelinks', '', '', '', '', '', '', '', '', '', '', '', '', '', '', '', '', '', '', '', '']\n",
      "['lucy alexander age', 'gb', '4', '90', 'NaN', 'NaN', 'NaN', 'NaN', 'lucy alexander', '2020-04-26 20:37:18', 'People also ask, Sitelinks', '', '', '', '', '', '', '', '', '', '', '', '', '', '', '', '', '', '', '', '']\n",
      "['what does a digital marketer do', 'gb', '17', '90', 'NaN', 'NaN', 'NaN', 'NaN', 'digital marketing', '2020-04-15 14:45:05', 'Adwords top, Sitelinks, Featured snippet, Thumbnails, People also ask, Top stories', '', '', '', '', '', '', '', '', '', '', '', '', '', '', '', '', '', '', '', '']\n",
      "['w-hat', 'gb', '89', '90', 'NaN', 'NaN', 'NaN', 'NaN', 'what', '2020-04-29 19:42:02', 'Sitelinks, Top stories, Thumbnails, Image pack, Videos', '', '', '', '', '', '', '', '', '', '', '', '', '', '', '', '', '', '', '', '']\n",
      "['what why', 'gb', '28', '90', 'NaN', 'NaN', 'NaN', 'NaN', '5 ws', '2020-04-16 04:49:22', 'Top stories, Thumbnails, Sitelinks, People also ask, Image pack', '', '', '', '', '', '', '', '', '', '', '', '', '', '', '', '', '', '', '', '']\n",
      "['edigital research', 'gb', '2', '90', 'NaN', 'NaN', 'NaN', 'NaN', 'edigital research', '2020-04-24 14:26:15', 'Sitelinks', '', '', '', '', '', '', '', '', '', '', '', '', '', '', '', '', '', '', '', '']\n",
      "['best digital', 'gb', '11', '80', 'NaN', 'NaN', 'NaN', 'NaN', 'best digital', '2020-04-17 01:04:09', 'Image pack', '', '', '', '', '', '', '', '', '', '', '', '', '', '', '', '', '', '', '', '']\n",
      "['hupspot', 'gb', '62', '80', 'NaN', 'NaN', 'NaN', 'NaN', 'hubspot', '2020-04-29 04:59:49', 'Adwords top, Sitelinks, Top stories, Thumbnails, People also ask, Tweet box, Image pack', '', '', '', '', '', '', '', '', '', '', '', '', '', '', '', '', '', '', '', '']\n",
      "['climb marketing', 'gb', '0', '80', 'NaN', 'NaN', 'NaN', 'NaN', 'climb online', '2020-04-17 00:31:31', 'Sitelinks, Top stories, Thumbnails, Image pack', '', '', '', '', '', '', '', '', '', '', '', '', '', '', '', '', '', '', '', '']\n",
      "['digital search', 'gb', '20', '80', 'NaN', 'NaN', 'NaN', 'NaN', 'digital marketing agency london', '2020-04-14 01:25:19', 'Featured snippet, Sitelinks', '', '', '', '', '', '', '', '', '', '', '', '', '', '', '', '', '', '', '', '']\n",
      "['www.coast.co.uk', 'gb', '26', '80', 'NaN', 'NaN', 'NaN', 'NaN', 'coast.co.uk', '2020-05-01 00:47:17', 'Sitelinks', '', '', '', '', '', '', '', '', '', '', '', '', '', '', '', '', '', '', '', '']\n",
      "['impressions marketing', 'gb', '26', '80', 'NaN', 'NaN', 'NaN', 'NaN', 'impression internet', '2020-05-10 01:28:15', 'Featured snippet, People also ask, Sitelinks, Top stories, Thumbnails', '', '', '', '', '', '', '', '', '', '', '', '', '', '', '', '', '', '', '', '']\n",
      "['digitalmarketing', 'gb', '74', '80', 'NaN', 'NaN', 'NaN', 'NaN', 'digital marketing', '2020-04-14 16:29:02', 'Adwords top, Sitelinks, People also ask, Top stories, Thumbnails, Adwords bottom', '', '', '', '', '', '', '', '', '', '', '', '', '', '', '', '', '', '', '', '']\n",
      "['w hat', 'gb', '80', '80', 'NaN', 'NaN', 'NaN', 'NaN', 'what', '2020-04-19 18:20:11', 'Image pack, Top stories, Thumbnails, Sitelinks, Shopping results', '', '', '', '', '', '', '', '', '', '', '', '', '', '', '', '', '', '', '', '']\n",
      "['digitales', 'gb', '42', '80', 'NaN', 'NaN', 'NaN', 'NaN', 'digitales', '2020-05-02 05:12:22', 'Sitelinks', '', '', '', '', '', '', '', '', '', '', '', '', '', '', '', '', '', '', '', '']\n",
      "['search engine marketing agency', 'gb', '12', '80', 'NaN', 'NaN', 'NaN', 'NaN', 'search engine marketing agency', '2020-04-27 22:07:04', 'NaN', '', '', '', '', '', '', '', '', '', '', '', '', '', '', '', '', '', '', '', '']\n",
      "['digital marketer job description', 'gb', '14', '80', 'NaN', 'NaN', 'NaN', 'NaN', 'digital marketing job description', '2020-04-16 22:57:20', 'Featured snippet, Thumbnails, People also ask, Sitelinks', '', '', '', '', '', '', '', '', '', '', '', '', '', '', '', '', '', '', '', '']\n",
      "['hubpot', 'gb', '67', '80', 'NaN', 'NaN', 'NaN', 'NaN', 'hubspot', '2020-05-10 12:04:59', 'Adwords top, Sitelinks, Top stories, Thumbnails, People also ask, Tweet box, Image pack', '', '', '', '', '', '', '', '', '', '', '', '', '', '', '', '', '', '', '', '']\n",
      "['marketing means', 'gb', '58', '80', 'NaN', 'NaN', 'NaN', 'NaN', 'marketing means', '2020-04-18 23:47:20', 'Sitelinks, People also ask, Top stories, Thumbnails', '', '', '', '', '', '', '', '', '', '', '', '', '', '', '', '', '', '', '', '']\n",
      "['best internet marketing company', 'gb', '45', '80', 'NaN', 'NaN', 'NaN', 'NaN', 'best internet marketing company', '2020-04-17 14:27:17', 'Sitelinks, People also ask', '', '', '', '', '', '', '', '', '', '', '', '', '', '', '', '', '', '', '', '']\n",
      "['digital marketing implementation services', 'gb', 'NaN', '80', 'NaN', 'NaN', 'NaN', 'NaN', 'NaN', 'NaN', 'NaN', '', '', '', '', '', '', '', '', '', '', '', '', '', '', '', '', '', '', '', '']\n",
      "['internet marketing solutions', 'gb', '10', '70', 'NaN', 'NaN', 'NaN', 'NaN', 'digital marketing solutions', '2020-05-04 08:51:48', 'Featured snippet, Thumbnails, Sitelinks, People also ask', '', '', '', '', '', '', '', '', '', '', '', '', '', '', '', '', '', '', '', '']\n",
      "['who what', 'gb', '12', '70', 'NaN', 'NaN', 'NaN', 'NaN', 'who what wear', '2020-05-07 08:54:16', 'Top stories, Thumbnails, Sitelinks, Videos', '', '', '', '', '', '', '', '', '', '', '', '', '', '', '', '', '', '', '', '']\n",
      "['which-what', 'gb', '11', '70', 'NaN', 'NaN', 'NaN', 'NaN', 'which or what', '2020-05-02 16:05:51', 'Top stories, Thumbnails, People also ask', '', '', '', '', '', '', '', '', '', '', '', '', '', '', '', '', '', '', '', '']\n",
      "['social media agencies london', 'gb', '13', '70', 'NaN', 'NaN', 'NaN', 'NaN', 'social media marketing agency', '2020-05-07 06:20:56', 'Featured snippet', '', '', '', '', '', '', '', '', '', '', '', '', '', '', '', '', '', '', '', '']\n",
      "['digital marketing business', 'gb', '26', '70', 'NaN', 'NaN', 'NaN', 'NaN', 'digital marketing agency', '2020-04-15 20:55:27', 'Adwords top, Sitelinks, Featured snippet, Thumbnails, People also ask, Top stories, Adwords bottom', '', '', '', '', '', '', '', '', '', '', '', '', '', '', '', '', '', '', '', '']\n",
      "['digital co uk', 'gb', '41', '70', 'NaN', 'NaN', 'NaN', 'NaN', 'digital uk', '2020-05-03 14:51:19', 'Sitelinks', '', '', '', '', '', '', '', '', '', '', '', '', '', '', '', '', '', '', '', '']\n",
      "['define increasing', 'gb', '26', '70', 'NaN', 'NaN', 'NaN', 'NaN', 'increase', '2020-04-19 07:05:47', 'Knowledge card, People also ask, Top stories, Thumbnails', '', '', '', '', '', '', '', '', '', '', '', '', '', '', '', '', '', '', '', '']\n",
      "['digital marketing activities', 'gb', '62', '70', 'NaN', 'NaN', 'NaN', 'NaN', 'digital marketing', '2020-04-29 01:58:15', 'Featured snippet, Thumbnails, People also ask, Sitelinks, Image pack', '', '', '', '', '', '', '', '', '', '', '', '', '', '', '', '', '', '', '', '']\n",
      "['digital.co.uk', 'gb', '35', '60', 'NaN', 'NaN', 'NaN', 'NaN', 'digital.co.uk', '2020-04-15 01:29:59', 'Sitelinks', '', '', '', '', '', '', '', '', '', '', '', '', '', '', '', '', '', '', '', '']\n",
      "['do you meaning', 'gb', '6', '60', 'NaN', 'NaN', 'NaN', 'NaN', 'do you', '2020-04-15 10:50:49', 'Featured snippet, People also ask, Top stories, Thumbnails', '', '', '', '', '', '', '', '', '', '', '', '', '', '', '', '', '', '', '', '']\n",
      "['www.coast', 'gb', '3', '60', 'NaN', 'NaN', 'NaN', 'NaN', 'coast', '2020-04-22 22:46:31', 'Sitelinks', '', '', '', '', '', '', '', '', '', '', '', '', '', '', '', '', '', '', '', '']\n",
      "['marketers or marketeers', 'gb', '3', '60', 'NaN', 'NaN', 'NaN', 'NaN', 'marketeer', '2020-05-10 01:00:19', 'Featured snippet, Thumbnails, People also ask, Top stories', '', '', '', '', '', '', '', '', '', '', '', '', '', '', '', '', '', '', '', '']\n",
      "['internet marketing firm', 'gb', '70', '60', 'NaN', 'NaN', 'NaN', 'NaN', 'best internet marketing company', '2020-04-17 02:17:12', 'People also ask', '', '', '', '', '', '', '', '', '', '', '', '', '', '', '', '', '', '', '', '']\n",
      "['how to find out if a company is still in business', 'gb', '10', '60', 'NaN', 'NaN', 'NaN', 'NaN', 'company insolvency register', '2020-04-19 22:21:47', 'People also ask', '', '', '', '', '', '', '', '', '', '', '', '', '', '', '', '', '', '', '', '']\n",
      "['climbonline', 'gb', '5', '60', 'NaN', '63', '0.98', '1.1', 'climb online', '2020-05-04 13:28:21', 'Adwords top, Sitelinks', '', '', '', '', '', '', '', '', '', '', '', '', '', '', '', '', '', '', '', '']\n",
      "['digital def', 'gb', '42', '60', 'NaN', 'NaN', 'NaN', 'NaN', 'digital', '2020-05-03 14:43:48', 'Knowledge card, People also ask', '', '', '', '', '', '', '', '', '', '', '', '', '', '', '', '', '', '', '', '']\n",
      "['internet marketing company uk', 'gb', '48', '60', 'NaN', 'NaN', 'NaN', 'NaN', 'digital marketing agency', '2020-04-14 14:51:33', 'Featured snippet, Thumbnails, Sitelinks', '', '', '', '', '', '', '', '', '', '', '', '', '', '', '', '', '', '', '', '']\n",
      "['understanding digital marketing: marketing strategies for engaging the digital generation', 'gb', '1', '60', 'NaN', 'NaN', 'NaN', 'NaN', 'understanding digital marketing', '2020-05-10 12:24:50', 'Top stories, Thumbnails, Image pack', '', '', '', '', '', '', '', '', '', '', '', '', '', '', '', '', '', '', '', '']\n",
      "['impression digital', 'gb', '4', '60', 'NaN', '40', '0.73', '1.18', 'digital marketing agency', '2020-04-21 13:35:44', 'Sitelinks, Top stories, Thumbnails, Image pack', '', '', '', '', '', '', '', '', '', '', '', '', '', '', '', '', '', '', '', '']\n",
      "['what is a.', 'gb', '54', '60', 'NaN', 'NaN', 'NaN', 'NaN', 'a', '2020-04-18 20:23:53', 'Knowledge card, People also ask, Top stories, Thumbnails', '', '', '', '', '', '', '', '', '', '', '', '', '', '', '', '', '', '', '', '']\n",
      "['hubspor', 'gb', '63', '60', 'NaN', 'NaN', 'NaN', 'NaN', 'hubspot', '2020-04-20 15:43:26', 'Adwords top, Sitelinks, Top stories, Thumbnails, People also ask, Tweet box, Image pack', '', '', '', '', '', '', '', '', '', '', '', '', '', '', '', '', '', '', '', '']\n",
      "['what is digital business', 'gb', '19', '60', 'NaN', 'NaN', 'NaN', 'NaN', 'digital company', '2020-04-14 19:32:51', 'Adwords top, Sitelinks, People also ask, Top stories, Thumbnails', '', '', '', '', '', '', '', '', '', '', '', '', '', '', '', '', '', '', '', '']\n",
      "['digital media company', 'gb', '50', '60', 'NaN', 'NaN', 'NaN', 'NaN', 'dms', '2020-04-16 11:46:09', 'People also ask, Adwords bottom, Sitelinks', '', '', '', '', '', '', '', '', '', '', '', '', '', '', '', '', '', '', '', '']\n",
      "['search marketing services', 'gb', '23', '60', 'NaN', 'NaN', 'NaN', 'NaN', 'search engine marketing company', '2020-05-09 10:52:14', 'NaN', '', '', '', '', '', '', '', '', '', '', '', '', '', '', '', '', '', '', '', '']\n",
      "['بازاریابی', 'gb', '8', '60', 'NaN', 'NaN', 'NaN', 'NaN', 'بازاریابی', '2020-04-19 20:56:28', 'Sitelinks', '', '', '', '', '', '', '', '', '', '', '', '', '', '', '', '', '', '', '', '']\n",
      "['like who what what what where', 'gb', '0', '60', 'NaN', 'NaN', 'NaN', 'NaN', 'who and what and where song', '2020-05-03 16:48:26', 'Top stories, Thumbnails, Videos', '', '', '', '', '', '', '', '', '', '', '', '', '', '', '', '', '', '', '', '']\n",
      "['market definition example', 'gb', '37', '60', 'NaN', 'NaN', 'NaN', 'NaN', 'market definition example', '2020-04-19 15:12:07', 'Featured snippet, People also ask, Top stories, Thumbnails, Image pack', '', '', '', '', '', '', '', '', '', '', '', '', '', '', '', '', '', '', '', '']\n",
      "['digital define', 'gb', '35', '60', 'NaN', 'NaN', 'NaN', 'NaN', 'digital', '2020-04-23 13:29:58', 'Knowledge card, People also ask, Sitelinks, Top stories, Thumbnails', '', '', '', '', '', '', '', '', '', '', '', '', '', '', '', '', '', '', '', '']\n",
      "['fundamentals of digital marketing', 'gb', '8', '60', 'NaN', 'NaN', 'NaN', 'NaN', 'google certification', '2020-04-14 23:18:06', 'Adwords top, Sitelinks, People also ask, Top stories, Thumbnails, Image pack', '', '', '', '', '', '', '', '', '', '', '', '', '', '', '', '', '', '', '', '']\n",
      "['what are digital channels', 'gb', '19', '60', 'NaN', 'NaN', 'NaN', 'NaN', 'digital marketing channels', '2020-04-19 21:12:18', 'Featured snippet, Thumbnails, People also ask, Top stories', '', '', '', '', '', '', '', '', '', '', '', '', '', '', '', '', '', '', '', '']\n",
      "['method digital', 'gb', '42', '60', 'NaN', 'NaN', 'NaN', 'NaN', 'method', '2020-04-16 20:42:22', 'Sitelinks, Top stories, Thumbnails', '', '', '', '', '', '', '', '', '', '', '', '', '', '', '', '', '', '', '', '']\n",
      "['whats the use', 'gb', '3', '50', 'NaN', 'NaN', 'NaN', 'NaN', \"mac miller what's the use\", '2020-04-16 10:08:17', 'Top stories, Thumbnails, Sitelinks', '', '', '', '', '', '', '', '', '', '', '', '', '', '', '', '', '', '', '', '']\n",
      "['encompasses means', 'gb', '9', '50', 'NaN', 'NaN', 'NaN', 'NaN', 'encompass', '2020-04-20 19:07:03', 'Knowledge card, People also ask', '', '', '', '', '', '', '', '', '', '', '', '', '', '', '', '', '', '', '', '']\n",
      "['digital media channels', 'gb', '33', '50', 'NaN', 'NaN', 'NaN', 'NaN', 'digital marketing channels', '2020-04-15 19:38:44', 'Featured snippet, People also ask, Image pack', '', '', '', '', '', '', '', '', '', '', '', '', '', '', '', '', '', '', '', '']\n",
      "['see define', 'gb', '33', '50', 'NaN', 'NaN', 'NaN', 'NaN', 'see meaning', '2020-05-08 01:47:21', 'Knowledge card, People also ask', '', '', '', '', '', '', '', '', '', '', '', '', '', '', '', '', '', '', '', '']\n",
      "['coast media', 'gb', '1', '50', 'NaN', 'NaN', 'NaN', 'NaN', 'coast media', '2020-04-16 18:09:18', 'Image pack', '', '', '', '', '', '', '', '', '', '', '', '', '', '', '', '', '', '', '', '']\n",
      "['one digitals reviews', 'gb', '35', '50', 'NaN', 'NaN', 'NaN', 'NaN', 'onedigitals co uk review', '2020-04-28 17:04:15', 'NaN', '', '', '', '', '', '', '', '', '', '', '', '', '', '', '', '', '', '', '', '']\n",
      "['hubspoy', 'gb', '64', '50', 'NaN', 'NaN', 'NaN', 'NaN', 'hubspot', '2020-04-16 00:26:16', 'Adwords top, Sitelinks, Top stories, Thumbnails, People also ask, Tweet box, Image pack', '', '', '', '', '', '', '', '', '', '', '', '', '', '', '', '', '', '', '', '']\n",
      "['can do meaning', 'gb', '5', '50', 'NaN', 'NaN', 'NaN', 'NaN', 'can do attitude', '2020-04-16 21:22:53', 'Knowledge card, People also ask, Top stories, Thumbnails, Image pack', '', '', '', '', '', '', '', '', '', '', '', '', '', '', '', '', '', '', '', '']\n",
      "['it digital', 'gb', '7', '50', 'NaN', 'NaN', 'NaN', 'NaN', 'it digital', '2020-04-16 17:56:26', 'People also ask, Top stories, Thumbnails, Image pack', '', '', '', '', '', '', '', '', '', '', '', '', '', '', '', '', '', '', '', '']\n",
      "['passion digital ltd', 'gb', '0', '50', 'NaN', 'NaN', 'NaN', 'NaN', 'digital marketing agency', '2020-05-09 15:42:52', 'Sitelinks, Image pack', '', '', '', '', '', '', '', '', '', '', '', '', '', '', '', '', '', '', '', '']\n",
      "['what is.a', 'gb', '35', '50', 'NaN', 'NaN', 'NaN', 'NaN', 'a', '2020-04-15 05:11:53', 'Knowledge card, People also ask, Top stories, Thumbnails', '', '', '', '', '', '', '', '', '', '', '', '', '', '', '', '', '', '', '', '']\n",
      "['market://details', 'gb', '5', '50', 'NaN', 'NaN', 'NaN', 'NaN', 'android market', '2020-04-20 10:57:24', 'Top stories, Thumbnails', '', '', '', '', '', '', '', '', '', '', '', '', '', '', '', '', '', '', '', '']\n",
      "['go digital reviews', 'gb', '0', '50', 'NaN', 'NaN', 'NaN', 'NaN', 'go digital reviews', '2020-05-06 17:13:07', 'NaN', '', '', '', '', '', '', '', '', '', '', '', '', '', '', '', '', '', '', '', '']\n",
      "['marketing message definition', 'gb', '17', '50', 'NaN', 'NaN', 'NaN', 'NaN', 'marketing message examples', '2020-05-10 12:26:06', 'Featured snippet, People also ask', '', '', '', '', '', '', '', '', '', '', '', '', '', '', '', '', '', '', '', '']\n",
      "['digital marketing technology', 'gb', '41', '50', 'NaN', 'NaN', 'NaN', 'NaN', 'digital marketing technology', '2020-05-03 02:14:31', 'People also ask, Sitelinks', '', '', '', '', '', '', '', '', '', '', '', '', '', '', '', '', '', '', '', '']\n",
      "['essex traffic twitter', 'gb', '0', '50', 'NaN', 'NaN', 'NaN', 'NaN', 'essex travel news', '2020-05-07 02:22:09', 'Tweet box, Top stories, Thumbnails, Image pack, Videos', '', '', '', '', '', '', '', '', '', '', '', '', '', '', '', '', '', '', '', '']\n",
      "['digital marketers', 'gb', '80', '50', 'NaN', 'NaN', 'NaN', 'NaN', 'digital marketer', '2020-04-19 12:47:06', 'Sitelinks, People also ask, Top stories, Thumbnails', '', '', '', '', '', '', '', '', '', '', '', '', '', '', '', '', '', '', '', '']\n",
      "['detail online', 'gb', '5', '50', 'NaN', 'NaN', 'NaN', 'NaN', 'detail online', '2020-05-07 13:19:17', 'Sitelinks, Image pack', '', '', '', '', '', '', '', '', '', '', '', '', '', '', '', '', '', '', '', '']\n",
      "['digital world meaning', 'gb', '1', '50', 'NaN', 'NaN', 'NaN', 'NaN', 'digital world meaning', '2020-05-01 05:41:57', 'Featured snippet, People also ask', '', '', '', '', '', '', '', '', '', '', '', '', '', '', '', '', '', '', '', '']\n",
      "['london digital marketing', 'gb', '39', '50', 'NaN', 'NaN', 'NaN', 'NaN', 'digital marketing agency', '2020-05-05 09:48:09', 'Adwords top, Sitelinks, Adwords bottom', '', '', '', '', '', '', '', '', '', '', '', '', '', '', '', '', '', '', '', '']\n",
      "['digital marketing experts', 'gb', '9', '50', 'NaN', 'NaN', 'NaN', 'NaN', 'online marketing expert', '2020-04-27 11:20:45', 'Featured snippet, Thumbnails, Sitelinks, People also ask, Top stories', '', '', '', '', '', '', '', '', '', '', '', '', '', '', '', '', '', '', '', '']\n",
      "['small world marketing', 'gb', '0', '40', 'NaN', 'NaN', 'NaN', 'NaN', 'small world marketing', '2020-04-28 02:51:23', 'Sitelinks, Image pack', '', '', '', '', '', '', '', '', '', '', '', '', '', '', '', '', '', '', '', '']\n",
      "[\"what is a '\", 'gb', '35', '40', 'NaN', 'NaN', 'NaN', 'NaN', 'a', '2020-04-18 11:10:53', 'Knowledge card, Top stories, Thumbnails', '', '', '', '', '', '', '', '', '', '', '', '', '', '', '', '', '', '', '', '']\n",
      "['the who website', 'gb', '88', '40', 'NaN', 'NaN', 'NaN', 'NaN', 'the who', '2020-04-24 20:34:17', 'Sitelinks', '', '', '', '', '', '', '', '', '', '', '', '', '', '', '', '', '', '', '', '']\n",
      "['space marketing', 'gb', '4', '40', 'NaN', 'NaN', 'NaN', 'NaN', 'space marketing', '2020-05-06 17:56:23', 'Top stories, Thumbnails, Image pack', '', '', '', '', '', '', '', '', '', '', '', '', '', '', '', '', '', '', '', '']\n",
      "['online marketer', 'gb', '28', '40', 'NaN', 'NaN', 'NaN', 'NaN', 'online marketing', '2020-04-25 20:30:41', 'Adwords top, Sitelinks, People also ask, Top stories, Thumbnails, Adwords bottom', '', '', '', '', '', '', '', '', '', '', '', '', '', '', '', '', '', '', '', '']\n",
      "['dogital', 'gb', '80', '40', 'NaN', 'NaN', 'NaN', 'NaN', 'digital', '2020-05-07 21:34:12', 'Sitelinks, People also ask, Image pack', '', '', '', '', '', '', '', '', '', '', '', '', '', '', '', '', '', '', '', '']\n",
      "['define increased', 'gb', '30', '40', 'NaN', 'NaN', 'NaN', 'NaN', 'increased', '2020-04-30 11:12:28', 'Knowledge card, People also ask', '', '', '', '', '', '', '', '', '', '', '', '', '', '', '', '', '', '', '', '']\n",
      "['what does .com', 'gb', '5', '40', 'NaN', 'NaN', 'NaN', 'NaN', 'what does .com', '2020-04-21 04:27:13', 'People also ask, Sitelinks, Top stories, Thumbnails', '', '', '', '', '', '', '', '', '', '', '', '', '', '', '', '', '', '', '', '']\n",
      "['service definition business', 'gb', '20', '40', 'NaN', 'NaN', 'NaN', 'NaN', 'service business definition', '2020-04-26 00:11:10', 'Featured snippet, Thumbnails, People also ask, Sitelinks', '', '', '', '', '', '', '', '', '', '', '', '', '', '', '', '', '', '', '', '']\n",
      "['media industry definition', 'gb', '3', '40', 'NaN', 'NaN', 'NaN', 'NaN', 'media industry', '2020-05-10 16:45:31', 'People also ask', '', '', '', '', '', '', '', '', '', '', '', '', '', '', '', '', '', '', '', '']\n",
      "['coast to coast ipswich menu', 'gb', '0', '40', 'NaN', 'NaN', 'NaN', 'NaN', 'coast to coast ipswich', '2020-05-07 20:14:22', 'Sitelinks, Image pack', '', '', '', '', '', '', '', '', '', '', '', '', '', '', '', '', '', '', '', '']\n",
      "['coast digital colchester', 'gb', '0', '40', 'NaN', 'NaN', 'NaN', 'NaN', 'digital marketing agency', '2020-05-03 15:27:03', 'Sitelinks', '', '', '', '', '', '', '', '', '', '', '', '', '', '', '', '', '', '', '', '']\n",
      "['like who who what what where', 'gb', '0', '40', 'NaN', 'NaN', 'NaN', 'NaN', 'who and what and where song', '2020-05-07 19:52:49', 'Top stories, Thumbnails, Videos, Image pack', '', '', '', '', '', '', '', '', '', '', '', '', '', '', '', '', '', '', '', '']\n",
      "['define: business', 'gb', '64', '40', 'NaN', 'NaN', 'NaN', 'NaN', 'business definition', '2020-04-16 08:11:14', 'Knowledge card, People also ask, Sitelinks, Top stories, Thumbnails, Image pack', '', '', '', '', '', '', '', '', '', '', '', '', '', '', '', '', '', '', '', '']\n",
      "['online service definition', 'gb', '1', '40', 'NaN', 'NaN', 'NaN', 'NaN', 'what is online services', '2020-04-29 22:12:56', 'People also ask, Sitelinks', '', '', '', '', '', '', '', '', '', '', '', '', '', '', '', '', '', '', '', '']\n",
      "['content marketing agencies london', 'gb', '31', '40', 'NaN', 'NaN', 'NaN', 'NaN', 'content agency london', '2020-05-04 11:14:13', 'Adwords top, Sitelinks, Adwords bottom', '', '', '', '', '', '', '', '', '', '', '', '', '', '', '', '', '', '', '', '']\n",
      "['what does encompasses mean', 'gb', '7', '40', 'NaN', 'NaN', 'NaN', 'NaN', 'encompass', '2020-04-28 10:03:52', 'Knowledge card, People also ask, Videos', '', '', '', '', '', '', '', '', '', '', '', '', '', '', '', '', '', '', '', '']\n",
      "['what does market mean', 'gb', '43', '40', 'NaN', 'NaN', 'NaN', 'NaN', 'market', '2020-04-18 01:54:46', 'Knowledge card, People also ask, Top stories, Thumbnails', '', '', '', '', '', '', '', '', '', '', '', '', '', '', '', '', '', '', '', '']\n",
      "['digital seo.net', 'gb', '41', '40', 'NaN', 'NaN', 'NaN', 'NaN', 'seo sussex', '2020-05-06 22:41:36', 'NaN', '', '', '', '', '', '', '', '', '', '', '', '', '', '', '', '', '', '', '', '']\n",
      "['digital media blog', 'gb', '22', '30', 'NaN', 'NaN', 'NaN', 'NaN', 'digital media blog', '2020-05-10 16:35:49', 'People also ask', '', '', '', '', '', '', '', '', '', '', '', '', '', '', '', '', '', '', '', '']\n",
      "['marketing world', 'gb', '0', '30', 'NaN', 'NaN', 'NaN', 'NaN', 'content marketing world', '2020-05-05 08:23:19', 'Sitelinks, Top stories, Thumbnails', '', '', '', '', '', '', '', '', '', '', '', '', '', '', '', '', '', '', '', '']\n",
      "['define wat', 'gb', '15', '30', 'NaN', 'NaN', 'NaN', 'NaN', 'wat', '2020-04-19 22:47:47', 'Knowledge card, People also ask', '', '', '', '', '', '', '', '', '', '', '', '', '', '', '', '', '', '', '', '']\n",
      "[\"what is this '\", 'gb', '56', '30', 'NaN', 'NaN', 'NaN', 'NaN', 'what is this', '2020-05-09 21:26:03', 'Sitelinks, People also ask, Top stories, Thumbnails, Image pack', '', '', '', '', '', '', '', '', '', '', '', '', '', '', '', '', '', '', '', '']\n",
      "['digital marketing services uk', 'gb', 'NaN', '30', 'NaN', 'NaN', 'NaN', 'NaN', 'NaN', 'NaN', 'NaN', '', '', '', '', '', '', '', '', '', '', '', '', '', '', '', '', '', '', '', '']\n",
      "['what is all about', 'gb', '0', '30', 'NaN', 'NaN', 'NaN', 'NaN', 'what is all about', '2020-04-20 10:28:49', 'People also ask, Top stories, Thumbnails', '', '', '', '', '', '', '', '', '', '', '', '', '', '', '', '', '', '', '', '']\n",
      "['digital channels definition', 'gb', '20', '30', 'NaN', 'NaN', 'NaN', 'NaN', 'digital channel', '2020-04-20 12:21:26', 'Featured snippet, People also ask, Top stories, Thumbnails', '', '', '', '', '', '', '', '', '', '', '', '', '', '', '', '', '', '', '', '']\n",
      "['top uk digital agencies', 'gb', '5', '30', 'NaN', 'NaN', 'NaN', 'NaN', 'digital agency', '2020-04-18 13:49:07', 'Adwords top, Sitelinks, Featured snippet, Adwords bottom', '', '', '', '', '', '', '', '', '', '', '', '', '', '', '', '', '', '', '', '']\n",
      "['define marketing concept', 'gb', '15', '30', 'NaN', 'NaN', 'NaN', 'NaN', 'marketing concept', '2020-04-20 14:30:47', 'Featured snippet, People also ask, Top stories, Thumbnails', '', '', '', '', '', '', '', '', '', '', '', '', '', '', '', '', '', '', '', '']\n",
      "['digital marketing consulting services', 'gb', 'NaN', '30', 'NaN', 'NaN', 'NaN', 'NaN', 'NaN', 'NaN', 'NaN', '', '', '', '', '', '', '', '', '', '', '', '', '', '', '', '', '', '', '', '']\n",
      "['digital work', 'gb', '12', '30', 'NaN', 'NaN', 'NaN', 'NaN', 'digital work', '2020-04-24 10:19:32', 'People also ask, Image pack', '', '', '', '', '', '', '', '', '', '', '', '', '', '', '', '', '', '', '', '']\n",
      "['define e marketing', 'gb', '29', '30', 'NaN', 'NaN', 'NaN', 'NaN', 'what is emarketing', '2020-04-23 10:09:59', 'Adwords top, People also ask, Videos', '', '', '', '', '', '', '', '', '', '', '', '', '', '', '', '', '', '', '', '']\n",
      "['digital marketing sales', 'gb', 'NaN', '20', 'NaN', 'NaN', 'NaN', 'NaN', 'NaN', 'NaN', 'NaN', '', '', '', '', '', '', '', '', '', '', '', '', '', '', '', '', '', '', '', '']\n",
      "['results through digital', 'gb', '1', '20', 'NaN', '19', '0.87', '1.12', 'results through digital', '2020-05-08 10:34:54', 'Sitelinks, Top stories, Thumbnails, Image pack', '', '', '', '', '', '', '', '', '', '', '', '', '', '', '', '', '', '', '', '']\n",
      "['star digital marketing services', 'gb', 'NaN', '10', 'NaN', 'NaN', 'NaN', 'NaN', 'star digital', 'NaN', 'NaN', '', '', '', '', '', '', '', '', '', '', '', '', '', '', '', '', '', '', '', '']\n",
      "['marketing services business', 'gb', 'NaN', '10', 'NaN', 'NaN', 'NaN', 'NaN', 'NaN', 'NaN', 'NaN', '', '', '', '', '', '', '', '', '', '', '', '', '', '', '', '', '', '', '', '']\n",
      "['digital marketing professional services', 'gb', 'NaN', '10', 'NaN', 'NaN', 'NaN', 'NaN', 'NaN', 'NaN', 'NaN', '', '', '', '', '', '', '', '', '', '', '', '', '', '', '', '', '', '', '', '']\n",
      "['marketing services company', 'gb', 'NaN', '10', 'NaN', 'NaN', 'NaN', 'NaN', 'NaN', 'NaN', 'NaN', '', '', '', '', '', '', '', '', '', '', '', '', '', '', '', '', '', '', '', '']\n",
      "['digital marketing company new york', 'gb', 'NaN', '10', 'NaN', 'NaN', 'NaN', 'NaN', 'NaN', 'NaN', 'NaN', '', '', '', '', '', '', '', '', '', '', '', '', '', '', '', '', '', '', '', '']\n",
      "['uk online marketing services', 'gb', 'NaN', '10', 'NaN', 'NaN', 'NaN', 'NaN', 'NaN', 'NaN', 'NaN', '', '', '', '', '', '', '', '', '', '', '', '', '', '', '', '', '', '', '', '']\n",
      "['how to market b2b services', 'gb', 'NaN', '10', 'NaN', 'NaN', 'NaN', 'NaN', 'b2b marketing strategy', 'NaN', 'NaN', '', '', '', '', '', '', '', '', '', '', '', '', '', '', '', '', '', '', '', '']\n",
      "['digital marketing company nyc', 'gb', 'NaN', '10', 'NaN', 'NaN', 'NaN', 'NaN', 'NaN', 'NaN', 'NaN', '', '', '', '', '', '', '', '', '', '', '', '', '', '', '', '', '', '', '', '']\n",
      "['providing marketing services', 'gb', 'NaN', '10', 'NaN', 'NaN', 'NaN', 'NaN', 'NaN', 'NaN', 'NaN', '', '', '', '', '', '', '', '', '', '', '', '', '', '', '', '', '', '', '', '']\n",
      "['marketin services', 'gb', 'NaN', '10', 'NaN', 'NaN', 'NaN', 'NaN', 'NaN', 'NaN', 'NaN', '', '', '', '', '', '', '', '', '', '', '', '', '', '', '', '', '', '', '', '']\n",
      "['marketing service strategies', 'gb', 'NaN', '10', 'NaN', 'NaN', 'NaN', 'NaN', 'NaN', 'NaN', 'NaN', '', '', '', '', '', '', '', '', '', '', '', '', '', '', '', '', '', '', '', '']\n",
      "['best online marketing services', 'gb', 'NaN', '10', 'NaN', 'NaN', 'NaN', 'NaN', 'NaN', 'NaN', 'NaN', '', '', '', '', '', '', '', '', '', '', '', '', '', '', '', '', '', '', '', '']\n",
      "['star digital marketing services ltd', 'gb', 'NaN', '10', 'NaN', 'NaN', 'NaN', 'NaN', 'NaN', 'NaN', 'NaN', '', '', '', '', '', '', '', '', '', '', '', '', '', '', '', '', '', '', '', '']\n",
      "['digital marketing financial services', 'gb', 'NaN', '10', 'NaN', 'NaN', 'NaN', 'NaN', 'NaN', 'NaN', 'NaN', '', '', '', '', '', '', '', '', '', '', '', '', '', '', '', '', '', '', '', '']\n",
      "['financial services digital marketing', 'gb', 'NaN', '10', 'NaN', 'NaN', 'NaN', 'NaN', 'NaN', 'NaN', 'NaN', '', '', '', '', '', '', '', '', '', '', '', '', '', '', '', '', '', '', '', '']\n",
      "['selling marketing services', 'gb', 'NaN', '10', 'NaN', 'NaN', 'NaN', 'NaN', 'NaN', 'NaN', 'NaN', '', '', '', '', '', '', '', '', '', '', '', '', '', '', '', '', '', '', '', '']\n",
      "['phone marketing services', 'gb', 'NaN', '10', 'NaN', 'NaN', 'NaN', 'NaN', 'tps', 'NaN', 'NaN', '', '', '', '', '', '', '', '', '', '', '', '', '', '', '', '', '', '', '', '']\n",
      "['digital marketing service', 'gb', 'NaN', '10', 'NaN', 'NaN', 'NaN', 'NaN', 'NaN', 'NaN', 'NaN', '', '', '', '', '', '', '', '', '', '', '', '', '', '', '', '', '', '', '', '']\n",
      "['virtual snipers digital marketing services', 'gb', 'NaN', '10', 'NaN', 'NaN', 'NaN', 'NaN', 'NaN', 'NaN', 'NaN', '', '', '', '', '', '', '', '', '', '', '', '', '', '', '', '', '', '', '', '']\n",
      "['financial services digital marketing trends', 'gb', 'NaN', '10', 'NaN', 'NaN', 'NaN', 'NaN', 'NaN', 'NaN', 'NaN', '', '', '', '', '', '', '', '', '', '', '', '', '', '', '', '', '', '', '', '']\n",
      "['sales marketing and service', 'gb', 'NaN', '10', 'NaN', 'NaN', 'NaN', 'NaN', 'NaN', 'NaN', 'NaN', '', '', '', '', '', '', '', '', '', '', '', '', '', '', '', '', '', '', '', '']\n",
      "['digital marketing services india', 'gb', 'NaN', '10', 'NaN', 'NaN', 'NaN', 'NaN', 'NaN', 'NaN', 'NaN', '', '', '', '', '', '', '', '', '', '', '', '', '', '', '', '', '', '', '', '']\n",
      "['gannett digital marketing services', 'gb', 'NaN', '10', 'NaN', 'NaN', 'NaN', 'NaN', 'NaN', 'NaN', 'NaN', '', '', '', '', '', '', '', '', '', '', '', '', '', '', '', '', '', '', '', '']\n",
      "['digital marketing for financial services summit', 'gb', 'NaN', '10', 'NaN', 'NaN', 'NaN', 'NaN', 'NaN', 'NaN', 'NaN', '', '', '', '', '', '', '', '', '', '', '', '', '', '', '', '', '', '', '', '']\n",
      "['how to sell digital marketing services', 'gb', 'NaN', '10', 'NaN', 'NaN', 'NaN', 'NaN', 'NaN', 'NaN', 'NaN', '', '', '', '', '', '', '', '', '', '', '', '', '', '', '', '', '', '', '', '']\n",
      "['select marketing services', 'gb', 'NaN', '10', 'NaN', 'NaN', 'NaN', 'NaN', 'NaN', 'NaN', 'NaN', '', '', '', '', '', '', '', '', '', '', '', '', '', '', '', '', '', '', '', '']\n",
      "['digital marketing strategy services', 'gb', 'NaN', '10', 'NaN', 'NaN', 'NaN', 'NaN', 'NaN', 'NaN', 'NaN', '', '', '', '', '', '', '', '', '', '', '', '', '', '', '', '', '', '', '', '']\n",
      "['online marketing services uk', 'gb', 'NaN', '10', 'NaN', 'NaN', 'NaN', 'NaN', 'NaN', 'NaN', 'NaN', '', '', '', '', '', '', '', '', '', '', '', '', '', '', '', '', '', '', '', '']\n",
      "['marketing sevices', 'gb', 'NaN', '10', 'NaN', 'NaN', 'NaN', 'NaN', 'NaN', 'NaN', 'NaN', '', '', '', '', '', '', '', '', '', '', '', '', '', '', '', '', '', '', '', '']\n",
      "['marketing services strategies', 'gb', 'NaN', '10', 'NaN', 'NaN', 'NaN', 'NaN', 'NaN', 'NaN', 'NaN', '', '', '', '', '', '', '', '', '', '', '', '', '', '', '', '', '', '', '', '']\n",
      "['digital marketing services birmingham al', 'gb', 'NaN', '10', 'NaN', 'NaN', 'NaN', 'NaN', 'NaN', 'NaN', 'NaN', '', '', '', '', '', '', '', '', '', '', '', '', '', '', '', '', '', '', '', '']\n",
      "['website traffic marketing services', 'gb', 'NaN', '10', 'NaN', 'NaN', 'NaN', 'NaN', 'NaN', 'NaN', 'NaN', '', '', '', '', '', '', '', '', '', '', '', '', '', '', '', '', '', '', '', '']\n",
      "['marketing services agency', 'gb', 'NaN', '10', 'NaN', 'NaN', 'NaN', 'NaN', 'NaN', 'NaN', 'NaN', '', '', '', '', '', '', '', '', '', '', '', '', '', '', '', '', '', '', '', '']\n",
      "['marketing of it services', 'gb', 'NaN', '10', 'NaN', 'NaN', 'NaN', 'NaN', 'NaN', 'NaN', 'NaN', '', '', '', '', '', '', '', '', '', '', '', '', '', '', '', '', '', '', '', '']\n",
      "['marketing in it services', 'gb', 'NaN', '10', 'NaN', 'NaN', 'NaN', 'NaN', 'NaN', 'NaN', 'NaN', '', '', '', '', '', '', '', '', '', '', '', '', '', '', '', '', '', '', '', '']\n",
      "['selling digital marketing services', 'gb', 'NaN', '10', 'NaN', 'NaN', 'NaN', 'NaN', 'NaN', 'NaN', 'NaN', '', '', '', '', '', '', '', '', '', '', '', '', '', '', '', '', '', '', '', '']\n",
      "['marketing services network', 'gb', 'NaN', '10', 'NaN', 'NaN', 'NaN', 'NaN', 'NaN', 'NaN', 'NaN', '', '', '', '', '', '', '', '', '', '', '', '', '', '', '', '', '', '', '', '']\n",
      "['campaign marketing services', 'gb', 'NaN', '10', 'NaN', 'NaN', 'NaN', 'NaN', 'the marketing campaign company', 'NaN', 'NaN', '', '', '', '', '', '', '', '', '', '', '', '', '', '', '', '', '', '', '', '']\n",
      "['digital marketing trends in financial services', 'gb', 'NaN', '0', 'NaN', 'NaN', 'NaN', 'NaN', 'NaN', 'NaN', 'NaN', '', '', '', '', '', '', '', '', '', '', '', '', '', '', '', '', '', '', '', '']\n",
      "['digital marketing services reading', 'gb', 'NaN', '0', 'NaN', 'NaN', 'NaN', 'NaN', 'NaN', 'NaN', 'NaN', '', '', '', '', '', '', '', '', '', '', '', '', '', '', '', '', '', '', '', '']\n",
      "['digital marketing services bristol', 'gb', 'NaN', '0', 'NaN', 'NaN', 'NaN', 'NaN', 'NaN', 'NaN', 'NaN', '', '', '', '', '', '', '', '', '', '', '', '', '', '', '', '', '', '', '', '']\n",
      "['financial services digital marketing agency', 'gb', 'NaN', '0', 'NaN', 'NaN', 'NaN', 'NaN', 'NaN', 'NaN', 'NaN', '', '', '', '', '', '', '', '', '', '', '', '', '', '', '', '', '', '', '', '']\n",
      "['digital marketing automation services', 'gb', 'NaN', '0', 'NaN', 'NaN', 'NaN', 'NaN', 'NaN', 'NaN', 'NaN', '', '', '', '', '', '', '', '', '', '', '', '', '', '', '', '', '', '', '', '']\n",
      "['digital marketing services list', 'gb', 'NaN', '0', 'NaN', 'NaN', 'NaN', 'NaN', 'NaN', 'NaN', 'NaN', '', '', '', '', '', '', '', '', '', '', '', '', '', '', '', '', '', '', '', '']\n",
      "['digital marketing in financial services', 'gb', 'NaN', '0', 'NaN', 'NaN', 'NaN', 'NaN', 'NaN', 'NaN', 'NaN', '', '', '', '', '', '', '', '', '', '', '', '', '', '', '', '', '', '', '', '']\n",
      "['who needs digital marketing', 'gb', 'NaN', '0', 'NaN', 'NaN', 'NaN', 'NaN', 'NaN', 'NaN', 'NaN', '', '', '', '', '', '', '', '', '', '', '', '', '', '', '', '', '', '', '', '']\n",
      "['rv digital marketing services', 'gb', 'NaN', '0', 'NaN', 'NaN', 'NaN', 'NaN', 'NaN', 'NaN', 'NaN', '', '', '', '', '', '', '', '', '', '', '', '', '', '', '', '', '', '', '', '']\n",
      "['buy digital marketing services', 'gb', 'NaN', '0', 'NaN', 'NaN', 'NaN', 'NaN', 'NaN', 'NaN', 'NaN', '', '', '', '', '', '', '', '', '', '', '', '', '', '', '', '', '', '', '', '']\n",
      "['how much to charge for digital marketing', 'gb', 'NaN', '0', 'NaN', 'NaN', 'NaN', 'NaN', 'NaN', 'NaN', 'NaN', '', '', '', '', '', '', '', '', '', '', '', '', '', '', '', '', '', '', '', '']\n",
      "['digital marketing services for small business', 'gb', 'NaN', '0', 'NaN', 'NaN', 'NaN', 'NaN', 'NaN', 'NaN', 'NaN', '', '', '', '', '', '', '', '', '', '', '', '', '', '', '', '', '', '', '', '']\n",
      "['digital services marketing', 'gb', 'NaN', '0', 'NaN', 'NaN', 'NaN', 'NaN', 'NaN', 'NaN', 'NaN', '', '', '', '', '', '', '', '', '', '', '', '', '', '', '', '', '', '', '', '']\n",
      "['how to pitch digital marketing services', 'gb', 'NaN', '0', 'NaN', 'NaN', 'NaN', 'NaN', 'NaN', 'NaN', 'NaN', '', '', '', '', '', '', '', '', '', '', '', '', '', '', '', '', '', '', '', '']\n",
      "['digital marketing services pricing', 'gb', 'NaN', '0', 'NaN', 'NaN', 'NaN', 'NaN', 'NaN', 'NaN', 'NaN', '', '', '', '', '', '', '', '', '', '', '', '', '', '', '', '', '', '', '', '']\n",
      "['altitude internet digital marketing services limited', 'gb', 'NaN', '0', 'NaN', 'NaN', 'NaN', 'NaN', 'NaN', 'NaN', 'NaN', '', '', '', '', '', '', '', '', '', '', '', '', '', '', '', '', '', '', '', '']\n",
      "['internet marketing companies', 'gb', '64', '40', '60', 'NaN', 'NaN', 'NaN', 'digital marketing agency', '2020-04-29 00:18:03', 'Featured snippet', '', '', '', '', '', '', '', '', '', '', '', '', '', '', '', '', '', '', '', '']\n",
      "['mobile marketing companies', 'gb', '9', '50', '40', 'NaN', 'NaN', 'NaN', 'mobile marketing agency', '2020-05-04 12:55:50', 'Featured snippet', '', '', '', '', '', '', '', '', '', '', '', '', '', '', '', '', '', '', '', '']\n",
      "['digital market', 'gb', '83', '150', '30', '78', '0.58', '1.32', 'digital marketplace', '2020-04-24 15:59:15', 'Sitelinks, People also ask, Top stories, Thumbnails', '', '', '', '', '', '', '', '', '', '', '', '', '', '', '', '', '', '', '', '']\n",
      "['seo services london', 'gb', '44', '350', '25', '320', '0.96', '2.74', 'seo services london', '2020-05-01 03:22:55', 'Adwords bottom, Sitelinks', '', '', '', '', '', '', '', '', '', '', '', '', '', '', '', '', '', '', '', '']\n",
      "['search marketing agency', 'gb', '51', '150', '25', 'NaN', 'NaN', 'NaN', 'search marketing agency', '2020-04-24 18:47:07', 'Adwords top, Sitelinks, Adwords bottom', '', '', '', '', '', '', '', '', '', '', '', '', '', '', '', '', '', '', '', '']\n",
      "['online marketing companies', 'gb', '48', '100', '25', 'NaN', 'NaN', 'NaN', 'digital marketing agency', '2020-04-18 10:50:21', 'Featured snippet, People also ask', '', '', '', '', '', '', '', '', '', '', '', '', '', '', '', '', '', '', '', '']\n",
      "['top digital marketing companies', 'gb', '39', '90', '25', 'NaN', 'NaN', 'NaN', 'digital marketing company', '2020-04-16 17:50:50', 'Sitelinks, People also ask', '', '', '', '', '', '', '', '', '', '', '', '', '', '', '', '', '', '', '', '']\n",
      "['digital advertising companies', 'gb', '28', '50', '25', 'NaN', 'NaN', 'NaN', 'digital agency', '2020-04-15 21:26:20', 'Adwords top, Adwords bottom, Sitelinks', '', '', '', '', '', '', '', '', '', '', '', '', '', '', '', '', '', '', '', '']\n",
      "['the search marketing shop', 'gb', '0', '40', '25', 'NaN', 'NaN', 'NaN', 'the search marketing shop', '2020-04-19 02:19:27', 'Sitelinks, Image pack', '', '', '', '', '', '', '', '', '', '', '', '', '', '', '', '', '', '', '', '']\n",
      "['content marketing agency uk', 'gb', '8', '90', '20', 'NaN', 'NaN', 'NaN', 'content marketing agency', '2020-05-05 09:12:49', 'NaN', '', '', '', '', '', '', '', '', '', '', '', '', '', '', '', '', '', '', '', '']\n",
      "['best digital marketing agency', 'gb', '47', '80', '20', 'NaN', 'NaN', 'NaN', 'marketing agency', '2020-04-14 21:52:02', 'Sitelinks', '', '', '', '', '', '', '', '', '', '', '', '', '', '', '', '', '', '', '', '']\n",
      "['seo and digital marketing', 'gb', '17', '80', '20', 'NaN', 'NaN', 'NaN', 'seo marketing', '2020-04-19 23:46:13', 'Adwords top, Sitelinks, Featured snippet, People also ask, Top stories, Thumbnails, Adwords bottom', '', '', '', '', '', '', '', '', '', '', '', '', '', '', '', '', '', '', '', '']\n",
      "['b2b digital marketing agency', 'gb', '40', '40', '20', 'NaN', 'NaN', 'NaN', 'NaN', 'NaN', 'NaN', '', '', '', '', '', '', '', '', '', '', '', '', '', '', '', '', '', '', '', '']\n",
      "['digital marketing agency', 'gb', '57', '3400', '18', '3925', '1.14', '1.39', 'digital marketing agency', '2020-05-10 16:47:24', 'Adwords top, Sitelinks, People also ask, Adwords bottom', '', '', '', '', '', '', '', '', '', '', '', '', '', '', '', '', '', '', '', '']\n",
      "['digital marketing communications', 'gb', '26', '40', '18', 'NaN', 'NaN', 'NaN', 'digital marketing', '2020-04-27 05:12:26', 'Adwords top, Sitelinks, Featured snippet, Thumbnails, People also ask, Image pack', '', '', '', '', '', '', '', '', '', '', '', '', '', '', '', '', '', '', '', '']\n",
      "['content meaning', 'gb', '45', '4400', '17', '622', '0.14', '1.18', 'content', '2020-05-10 06:32:24', 'Knowledge card, People also ask, Top stories, Thumbnails', '', '', '', '', '', '', '', '', '', '', '', '', '', '', '', '', '', '', '', '']\n",
      "['content marketing agency', 'gb', '11', '500', '17', '912', '1.83', '1.52', 'content marketing agency', '2020-05-01 07:46:32', 'Sitelinks, Adwords bottom', '', '', '', '', '', '', '', '', '', '', '', '', '', '', '', '', '', '', '', '']\n",
      "['email marketing agency', 'gb', '8', '250', '17', '480', '1.78', '2', 'email marketing agency', '2020-04-25 12:34:52', 'Adwords top, Sitelinks, Adwords bottom', '', '', '', '', '', '', '', '', '', '', '', '', '', '', '', '', '', '', '', '']\n",
      "['digital agencies london', 'gb', '50', '200', '17', '456', '2.42', '1.91', 'digital marketing agency', '2020-04-19 12:13:25', 'Adwords top, Sitelinks, Adwords bottom', '', '', '', '', '', '', '', '', '', '', '', '', '', '', '', '', '', '', '', '']\n",
      "['content marketing agency london', 'gb', '36', '150', '16', 'NaN', 'NaN', 'NaN', 'content marketing agency', '2020-04-30 01:56:51', 'Featured snippet, Sitelinks', '', '', '', '', '', '', '', '', '', '', '', '', '', '', '', '', '', '', '', '']\n",
      "['digital marketing agency reading', 'gb', '1', '60', '16', 'NaN', 'NaN', 'NaN', 'digital marketing agency reading', '2020-04-16 04:59:53', 'Adwords top, Sitelinks, Videos, Image pack, Adwords bottom', '', '', '', '', '', '', '', '', '', '', '', '', '', '', '', '', '', '', '', '']\n",
      "['digital marketing company', 'gb', '48', '500', '15', '552', '1.05', '1.45', 'digital marketing agency', '2020-05-06 02:13:21', 'Adwords top, Sitelinks, People also ask, Adwords bottom', '', '', '', '', '', '', '', '', '', '', '', '', '', '', '', '', '', '', '', '']\n",
      "['digital marketing agencies', 'gb', '35', '300', '15', '473', '1.61', '1.48', 'digital marketing agency', '2020-05-08 20:03:47', 'Adwords top, Sitelinks, Adwords bottom', '', '', '', '', '', '', '', '', '', '', '', '', '', '', '', '', '', '', '', '']\n",
      "['email marketing agency london', 'gb', '8', '80', '15', 'NaN', 'NaN', 'NaN', 'marketing email', '2020-04-26 23:44:02', 'Featured snippet', '', '', '', '', '', '', '', '', '', '', '', '', '', '', '', '', '', '', '', '']\n",
      "['digital marketing life cycle', 'gb', '0', '80', '15', 'NaN', 'NaN', 'NaN', 'digital marketing life cycle', '2020-04-14 13:04:01', 'Featured snippet, Thumbnails, People also ask, Image pack, Videos, Top stories', '', '', '', '', '', '', '', '', '', '', '', '', '', '', '', '', '', '', '', '']\n",
      "['digital marketing agency london', 'gb', '66', '700', '14', '1818', '2.5', '1.6', 'digital marketing agency', '2020-05-06 12:03:52', 'Adwords top, Sitelinks, Featured snippet, Adwords bottom', '', '', '', '', '', '', '', '', '', '', '', '', '', '', '', '', '', '', '', '']\n",
      "['digital marketing companies', 'gb', '46', '250', '14', '429', '1.66', '1.3', 'digital marketing agency', '2020-04-26 20:53:34', 'Adwords top, Sitelinks, People also ask, Adwords bottom', '', '', '', '', '', '', '', '', '', '', '', '', '', '', '', '', '', '', '', '']\n",
      "['benefits of digital marketing', 'gb', '15', '200', '14', '220', '1.09', '1.18', 'benefits of digital marketing', '2020-05-06 12:53:13', 'Featured snippet, Thumbnails, People also ask', '', '', '', '', '', '', '', '', '', '', '', '', '', '', '', '', '', '', '', '']\n",
      "['online marketing agency', 'gb', '64', '150', '14', '198', '1.47', '1.15', 'digital marketing agency', '2020-04-26 03:58:13', 'Adwords top, Sitelinks, People also ask, Adwords bottom', '', '', '', '', '', '', '', '', '', '', '', '', '', '', '', '', '', '', '', '']\n",
      "['digital marketing companies in uk', 'gb', '56', '100', '14', 'NaN', 'NaN', 'NaN', 'digital marketing agency', '2020-05-04 10:38:02', 'Featured snippet, Adwords bottom, Sitelinks', '', '', '', '', '', '', '', '', '', '', '', '', '', '', '', '', '', '', '', '']\n",
      "['top digital marketing agencies', 'gb', '24', '100', '14', 'NaN', 'NaN', 'NaN', 'marketing agency', '2020-04-14 06:42:38', 'Sitelinks, People also ask', '', '', '', '', '', '', '', '', '', '', '', '', '', '', '', '', '', '', '', '']\n",
      "['digital marketing agency uk', 'gb', '56', '100', '14', '155', '1.28', '1.43', 'digital marketing agency', '2020-04-25 20:13:55', 'NaN', '', '', '', '', '', '', '', '', '', '', '', '', '', '', '', '', '', '', '', '']\n",
      "['top digital marketing agencies london', 'gb', '22', '100', '14', '211', '1.74', '1.29', 'digital marketing agency', '2020-05-04 19:50:10', 'NaN', '', '', '', '', '', '', '', '', '', '', '', '', '', '', '', '', '', '', '', '']\n",
      "['internet marketing services', 'gb', '34', '90', '14', 'NaN', 'NaN', 'NaN', 'digital marketing services', '2020-04-19 15:12:27', 'People also ask', '', '', '', '', '', '', '', '', '', '', '', '', '', '', '', '', '', '', '', '']\n",
      "['impressions digital marketing', 'gb', '23', '70', '14', 'NaN', 'NaN', 'NaN', 'digital marketing agency', '2020-04-16 08:59:23', 'Sitelinks, People also ask, Top stories, Thumbnails', '', '', '', '', '', '', '', '', '', '', '', '', '', '', '', '', '', '', '', '']\n",
      "['digital media agencies', 'gb', '39', '40', '14', 'NaN', 'NaN', 'NaN', 'marketing agency', '2020-05-09 20:56:34', 'Adwords top, Sitelinks, Adwords bottom', '', '', '', '', '', '', '', '', '', '', '', '', '', '', '', '', '', '', '', '']\n",
      "['online marketing company', 'gb', '63', '250', '13', 'NaN', 'NaN', 'NaN', 'online marketing company', '2020-04-29 13:28:21', 'People also ask, Sitelinks', '', '', '', '', '', '', '', '', '', '', '', '', '', '', '', '', '', '', '', '']\n",
      "['social media marketing companies', 'gb', '15', '200', '13', '221', '1.17', '1.25', 'social media agency', '2020-04-24 05:41:15', 'Adwords top, Sitelinks, Featured snippet, Adwords bottom', '', '', '', '', '', '', '', '', '', '', '', '', '', '', '', '', '', '', '', '']\n",
      "['seo digital marketing', 'gb', '36', '150', '13', '158', '1.17', '1.36', 'seo marketing', '2020-04-19 04:23:05', 'Adwords top, Sitelinks, Featured snippet, People also ask, Top stories, Thumbnails, Adwords bottom', '', '', '', '', '', '', '', '', '', '', '', '', '', '', '', '', '', '', '', '']\n",
      "['website design nottingham', 'gb', '37', '150', '13', 'NaN', 'NaN', 'NaN', 'web design nottingham', '2020-04-29 15:39:22', 'Adwords bottom, Sitelinks', '', '', '', '', '', '', '', '', '', '', '', '', '', '', '', '', '', '', '', '']\n",
      "['ppc online', 'gb', '71', '100', '13', '72', '0.64', '1.19', 'nhs prepayment card', '2020-04-28 12:36:43', 'People also ask, Top stories, Thumbnails', '', '', '', '', '', '', '', '', '', '', '', '', '', '', '', '', '', '', '', '']\n",
      "['social media advertising agency', 'gb', '7', '100', '13', 'NaN', 'NaN', 'NaN', 'social media advertising', '2020-05-08 20:20:04', 'Adwords top, Sitelinks, Adwords bottom', '', '', '', '', '', '', '', '', '', '', '', '', '', '', '', '', '', '', '', '']\n",
      "['digital content marketing', 'gb', '24', '90', '13', 'NaN', 'NaN', 'NaN', 'digital content marketing', '2020-05-05 09:32:31', 'Featured snippet, People also ask', '', '', '', '', '', '', '', '', '', '', '', '', '', '', '', '', '', '', '', '']\n",
      "['social media marketing agency uk', 'gb', '6', '70', '13', 'NaN', 'NaN', 'NaN', 'social media marketing agency', '2020-05-10 00:11:43', 'Adwords top, Sitelinks, Adwords bottom', '', '', '', '', '', '', '', '', '', '', '', '', '', '', '', '', '', '', '', '']\n",
      "['digital marketing strategist', 'gb', '39', '60', '13', 'NaN', 'NaN', 'NaN', 'digital marketing strategist', '2020-05-08 10:13:13', 'Featured snippet, Thumbnails, People also ask, Top stories', '', '', '', '', '', '', '', '', '', '', '', '', '', '', '', '', '', '', '', '']\n",
      "['web designers nottingham', 'gb', '37', '50', '13', 'NaN', 'NaN', 'NaN', 'web design nottingham', '2020-04-30 12:22:10', 'Adwords bottom, Sitelinks', '', '', '', '', '', '', '', '', '', '', '', '', '', '', '', '', '', '', '', '']\n",
      "['digital marketing for financial services', 'gb', '0', '50', '13', 'NaN', 'NaN', 'NaN', 'digital marketing for financial services', '2020-04-17 06:01:48', 'Adwords top, Sitelinks, Adwords bottom', '', '', '', '', '', '', '', '', '', '', '', '', '', '', '', '', '', '', '', '']\n",
      "['internet marketing experts', 'gb', '8', '20', '13', 'NaN', 'NaN', 'NaN', 'online marketing expert', '2020-04-24 10:20:51', 'Adwords top, Sitelinks, Adwords bottom', '', '', '', '', '', '', '', '', '', '', '', '', '', '', '', '', '', '', '', '']\n",
      "['digital marketing services', 'gb', '31', '500', '12', '582', '1.2', '1.83', 'digital marketing services', '2020-05-02 00:01:11', 'Adwords top, Sitelinks, People also ask, Adwords bottom', '', '', '', '', '', '', '', '', '', '', '', '', '', '', '', '', '', '', '', '']\n",
      "['digital marketing agency near me', 'gb', '59', '250', '12', '134', '0.51', '1.27', 'digital marketing agency', '2020-05-07 19:24:04', 'NaN', '', '', '', '', '', '', '', '', '', '', '', '', '', '', '', '', '', '', '', '']\n",
      "['marketing-online', 'gb', '70', '200', '12', 'NaN', 'NaN', 'NaN', 'online marketing', '2020-05-03 04:10:27', 'People also ask, Top stories, Thumbnails', '', '', '', '', '', '', '', '', '', '', '', '', '', '', '', '', '', '', '', '']\n",
      "['internet marketing company', 'gb', '38', '150', '12', 'NaN', 'NaN', 'NaN', 'marketing company', '2020-05-03 07:23:11', 'Featured snippet, People also ask', '', '', '', '', '', '', '', '', '', '', '', '', '', '', '', '', '', '', '', '']\n",
      "['search marketing company', 'gb', '71', '100', '12', 'NaN', 'NaN', 'NaN', 'digital marketing agency', '2020-05-10 03:55:11', 'NaN', '', '', '', '', '', '', '', '', '', '', '', '', '', '', '', '', '', '', '', '']\n",
      "['how to get into digital marketing', 'gb', '5', '100', '12', '131', '1.15', '1.22', 'how to get into marketing', '2020-04-23 13:33:47', 'Adwords top, Sitelinks, Featured snippet, Thumbnails, People also ask, Top stories', '', '', '', '', '', '', '', '', '', '', '', '', '', '', '', '', '', '', '', '']\n",
      "['digital marketing strategies', 'gb', '64', '90', '12', '107', '1.19', '1.13', 'marketing strategy', '2020-04-17 11:58:50', 'Featured snippet, Thumbnails, People also ask, Top stories', '', '', '', '', '', '', '', '', '', '', '', '', '', '', '', '', '', '', '', '']\n",
      "['full service digital agency', 'gb', '9', '80', '12', 'NaN', 'NaN', 'NaN', 'full service digital agency', '2020-04-25 15:23:37', 'People also ask', '', '', '', '', '', '', '', '', '', '', '', '', '', '', '', '', '', '', '', '']\n",
      "['digital agency services', 'gb', '6', '70', '12', 'NaN', 'NaN', 'NaN', 'digital marketing services', '2020-04-16 16:37:22', 'People also ask', '', '', '', '', '', '', '', '', '', '', '', '', '', '', '', '', '', '', '', '']\n",
      "['web design nottingham', 'gb', '38', '500', '11', '489', '0.93', '3.19', 'web design nottingham', '2020-05-06 10:34:16', 'Sitelinks, Adwords bottom', '', '', '', '', '', '', '', '', '', '', '', '', '', '', '', '', '', '', '', '']\n",
      "['digital marketing campaign', 'gb', '39', '300', '11', '217', '0.72', '1.36', 'marketing pricing', '2020-04-26 22:21:26', 'Adwords top, Sitelinks, Featured snippet, People also ask', '', '', '', '', '', '', '', '', '', '', '', '', '', '', '', '', '', '', '', '']\n",
      "['types of digital marketing', 'gb', '42', '200', '11', '184', '0.93', '1.13', 'types of digital marketing', '2020-05-02 02:09:05', 'Featured snippet, Thumbnails, People also ask, Sitelinks', '', '', '', '', '', '', '', '', '', '', '', '', '', '', '', '', '', '', '', '']\n",
      "['digital marketing companies london', 'gb', '41', '200', '11', 'NaN', 'NaN', 'NaN', 'digital marketing agency london', '2020-04-20 16:40:13', 'Adwords top, Sitelinks, Adwords bottom', '', '', '', '', '', '', '', '', '', '', '', '', '', '', '', '', '', '', '', '']\n",
      "['social media agency london', 'gb', '28', '200', '11', '457', '2.12', '1.67', 'social media agency london', '2020-05-07 14:34:02', 'Sitelinks, Adwords bottom', '', '', '', '', '', '', '', '', '', '', '', '', '', '', '', '', '', '', '', '']\n",
      "['digital media agency', 'gb', '45', '150', '11', '221', '1.75', '1.22', 'marketing agency', '2020-04-28 13:31:22', 'Sitelinks, People also ask', '', '', '', '', '', '', '', '', '', '', '', '', '', '', '', '', '', '', '', '']\n",
      "['london digital agency', 'gb', '56', '150', '11', 'NaN', 'NaN', 'NaN', 'marketing agency', '2020-04-29 14:02:27', 'Adwords top, Sitelinks, Adwords bottom', '', '', '', '', '', '', '', '', '', '', '', '', '', '', '', '', '', '', '', '']\n",
      "['learn digital marketing', 'gb', '49', '150', '11', '90', '0.59', '1.13', 'digital', '2020-04-30 23:50:55', 'Adwords top, Featured snippet, Sitelinks, People also ask, Top stories, Thumbnails, Adwords bottom', '', '', '', '', '', '', '', '', '', '', '', '', '', '', '', '', '', '', '', '']\n",
      "['web marketing company', 'gb', '25', '100', '11', 'NaN', 'NaN', 'NaN', 'online marketing company', '2020-04-16 18:29:22', 'Adwords top, Adwords bottom, Sitelinks', '', '', '', '', '', '', '', '', '', '', '', '', '', '', '', '', '', '', '', '']\n",
      "['what is e-marketing', 'gb', '17', '100', '11', 'NaN', 'NaN', 'NaN', 'what is emarketing', '2020-04-21 17:28:59', 'Adwords top, Sitelinks, People also ask, Top stories, Thumbnails', '', '', '', '', '', '', '', '', '', '', '', '', '', '', '', '', '', '', '', '']\n",
      "['online advertising agency', 'gb', '28', '100', '11', 'NaN', 'NaN', 'NaN', 'online advertising agency', '2020-04-19 15:18:35', 'Adwords top, Sitelinks, Adwords bottom', '', '', '', '', '', '', '', '', '', '', '', '', '', '', '', '', '', '', '', '']\n",
      "['social media marketing agency london', 'gb', '24', '90', '11', '149', '1.6', '1.19', 'social media marketing agency', '2020-04-16 19:45:03', 'Adwords top, Sitelinks, Featured snippet, Adwords bottom', '', '', '', '', '', '', '', '', '', '', '', '', '', '', '', '', '', '', '', '']\n",
      "['best digital agencies london', 'gb', '18', '80', '11', 'NaN', 'NaN', 'NaN', 'digital agency', '2020-05-01 06:42:19', 'Featured snippet, Thumbnails, Adwords bottom, Sitelinks', '', '', '', '', '', '', '', '', '', '', '', '', '', '', '', '', '', '', '', '']\n",
      "['go umbrella time online', 'gb', '5', '40', '11', 'NaN', 'NaN', 'NaN', 'go umbrella time online', '2020-05-07 09:55:25', 'Adwords top', '', '', '', '', '', '', '', '', '', '', '', '', '', '', '', '', '', '', '', '']\n",
      "['internet marketing expert', 'gb', '10', '30', '11', 'NaN', 'NaN', 'NaN', 'online marketing expert', '2020-05-08 08:20:31', 'NaN', '', '', '', '', '', '', '', '', '', '', '', '', '', '', '', '', '', '', '', '']\n",
      "['online marketing', 'gb', '70', '2200', '10', '1370', '0.62', '1.23', 'online marketing', '2020-05-07 12:26:37', 'Adwords top, Sitelinks, People also ask, Top stories, Thumbnails, Adwords bottom', '', '', '', '', '', '', '', '', '', '', '', '', '', '', '', '', '', '', '', '']\n",
      "['social media marketing agency', 'gb', '11', '900', '10', '1209', '1.34', '1.52', 'social media marketing agency', '2020-05-08 19:58:46', 'Adwords top, Sitelinks, People also ask, Top stories, Thumbnails, Image pack, Adwords bottom', '', '', '', '', '', '', '', '', '', '', '', '', '', '', '', '', '', '', '', '']\n",
      "['digital agency london', 'gb', '52', '450', '10', '1297', '3.01', '1.71', 'marketing agency', '2020-04-29 07:33:16', 'Adwords top, Sitelinks', '', '', '', '', '', '', '', '', '', '', '', '', '', '', '', '', '', '', '', '']\n",
      "['marketing online', 'gb', '70', '300', '10', '170', '0.58', '1.25', 'online marketing', '2020-05-03 04:10:16', 'People also ask, Top stories, Thumbnails, Adwords bottom, Sitelinks', '', '', '', '', '', '', '', '', '', '', '', '', '', '', '', '', '', '', '', '']\n",
      "['digital advertising agency', 'gb', '31', '100', '10', 'NaN', 'NaN', 'NaN', 'digital advertising agency', '2020-04-20 22:38:14', 'People also ask, Sitelinks', '', '', '', '', '', '', '', '', '', '', '', '', '', '', '', '', '', '', '', '']\n",
      "['online marketing agency london', 'gb', '45', '100', '10', 'NaN', 'NaN', 'NaN', 'digital marketing agency', '2020-05-04 17:49:12', 'Sitelinks', '', '', '', '', '', '', '', '', '', '', '', '', '', '', '', '', '', '', '', '']\n",
      "['social media marketing services', 'gb', '22', '90', '10', 'NaN', 'NaN', 'NaN', 'social media marketing agency', '2020-04-22 05:46:59', 'Adwords top, Sitelinks, Adwords bottom', '', '', '', '', '', '', '', '', '', '', '', '', '', '', '', '', '', '', '', '']\n",
      "['online digital marketing', 'gb', '57', '80', '10', 'NaN', 'NaN', 'NaN', 'digital marketing course', '2020-04-29 08:08:31', 'Sitelinks, People also ask, Top stories, Thumbnails', '', '', '', '', '', '', '', '', '', '', '', '', '', '', '', '', '', '', '', '']\n",
      "['social media marketing companies uk', 'gb', '7', '80', '10', 'NaN', 'NaN', 'NaN', 'social media marketing agency', '2020-05-07 23:46:05', 'NaN', '', '', '', '', '', '', '', '', '', '', '', '', '', '', '', '', '', '', '', '']\n",
      "['social media agency bristol', 'gb', '4', '40', '10', 'NaN', 'NaN', 'NaN', 'social media marketing bristol', '2020-05-06 19:31:49', 'Sitelinks', '', '', '', '', '', '', '', '', '', '', '', '', '', '', '', '', '', '', '', '']\n",
      "['digital agency', 'gb', '48', '1300', '9', '1659', '1.31', '1.42', 'digital marketing agency', '2020-05-06 10:50:13', 'Adwords top, Sitelinks, Top stories, Thumbnails, People also ask, Adwords bottom', '', '', '', '', '', '', '', '', '', '', '', '', '', '', '', '', '', '', '', '']\n",
      "['digital marketing strategy', 'gb', '65', '1200', '9', '1112', '0.96', '1.36', 'digital marketing strategy', '2020-05-08 20:21:50', 'Featured snippet, Thumbnails, People also ask, Sitelinks, Top stories, Adwords bottom', '', '', '', '', '', '', '', '', '', '', '', '', '', '', '', '', '', '', '', '']\n",
      "['digital marketing london', 'gb', '41', '400', '9', '777', '1.86', '1.87', 'digital marketing agency', '2020-05-02 02:45:42', 'Sitelinks, Adwords bottom', '', '', '', '', '', '', '', '', '', '', '', '', '', '', '', '', '', '', '', '']\n",
      "['digital marketing techniques', 'gb', '62', '200', '9', '219', '1.25', '1.26', 'digital marketing techniques', '2020-05-01 15:45:19', 'Featured snippet, Thumbnails, People also ask, Top stories', '', '', '', '', '', '', '', '', '', '', '', '', '', '', '', '', '', '', '', '']\n",
      "['digital media marketing', 'gb', '66', '150', '9', '73', '0.46', '1.16', 'digital marketing', '2020-04-30 09:40:00', 'Featured snippet, Thumbnails, People also ask, Sitelinks, Top stories', '', '', '', '', '', '', '', '', '', '', '', '', '', '', '', '', '', '', '', '']\n",
      "['digital marketing expert', 'gb', '13', '100', '9', 'NaN', 'NaN', 'NaN', 'digital marketing consultant', '2020-04-19 02:28:26', 'Sitelinks, People also ask, Top stories, Thumbnails', '', '', '', '', '', '', '', '', '', '', '', '', '', '', '', '', '', '', '', '']\n",
      "['online marketing expert', 'gb', '8', '90', '9', 'NaN', 'NaN', 'NaN', 'online marketing expert', '2020-05-10 13:19:28', 'Adwords top, Sitelinks, Top stories, Thumbnails, Adwords bottom', '', '', '', '', '', '', '', '', '', '', '', '', '', '', '', '', '', '', '', '']\n",
      "['digital media agency london', 'gb', '51', '90', '9', 'NaN', 'NaN', 'NaN', 'digital marketing agency', '2020-04-21 23:30:45', 'NaN', '', '', '', '', '', '', '', '', '', '', '', '', '', '', '', '', '', '', '', '']\n",
      "['top digital agencies london', 'gb', '7', '90', '9', 'NaN', 'NaN', 'NaN', 'digital marketing agency', '2020-05-05 07:50:28', 'Adwords bottom, Sitelinks', '', '', '', '', '', '', '', '', '', '', '', '', '', '', '', '', '', '', '', '']\n",
      "['digital ad agency', 'gb', '48', '80', '9', 'NaN', 'NaN', 'NaN', 'digital marketing agency', '2020-05-04 12:45:25', 'People also ask', '', '', '', '', '', '', '', '', '', '', '', '', '', '', '', '', '', '', '', '']\n",
      "['digital marketing agency essex', 'gb', '55', '80', '9', 'NaN', 'NaN', 'NaN', 'absolute digital media', '2020-04-16 06:52:01', 'Adwords top, Sitelinks, Adwords bottom', '', '', '', '', '', '', '', '', '', '', '', '', '', '', '', '', '', '', '', '']\n",
      "['digital marketing social media', 'gb', '75', '60', '9', 'NaN', 'NaN', 'NaN', 'social media marketing', '2020-04-14 01:33:47', 'Featured snippet, Sitelinks, Top stories, Thumbnails', '', '', '', '', '', '', '', '', '', '', '', '', '', '', '', '', '', '', '', '']\n",
      "['digital transformation agency london', 'gb', '47', '50', '9', 'NaN', 'NaN', 'NaN', 'digital transformation agency london', '2020-04-20 21:59:34', 'Adwords bottom', '', '', '', '', '', '', '', '', '', '', '', '', '', '', '', '', '', '', '', '']\n",
      "['web designer nottingham', 'gb', '37', '50', '9', 'NaN', 'NaN', 'NaN', 'web design nottingham', '2020-04-16 10:21:07', 'Sitelinks, Image pack', '', '', '', '', '', '', '', '', '', '', '', '', '', '', '', '', '', '', '', '']\n",
      "['online marketing channels', 'gb', '40', '50', '9', 'NaN', 'NaN', 'NaN', 'marketing channels', '2020-04-16 04:53:23', 'Adwords top, Sitelinks, Featured snippet, Thumbnails, People also ask', '', '', '', '', '', '', '', '', '', '', '', '', '', '', '', '', '', '', '', '']\n",
      "['digital agencies uk', 'gb', '28', '40', '9', 'NaN', 'NaN', 'NaN', 'digital agency uk', '2020-04-29 08:19:51', 'Featured snippet, Thumbnails', '', '', '', '', '', '', '', '', '', '', '', '', '', '', '', '', '', '', '', '']\n",
      "['internet marketing strategy', 'gb', '65', '40', '9', 'NaN', 'NaN', 'NaN', 'strategy internet marketing', '2020-04-15 02:06:14', 'Featured snippet, Thumbnails, Top stories, Image pack', '', '', '', '', '', '', '', '', '', '', '', '', '', '', '', '', '', '', '', '']\n",
      "['digital marketing company london', 'gb', '52', '30', '9', 'NaN', 'NaN', 'NaN', 'digital marketing agency', '2020-05-10 15:28:03', 'Adwords top, Sitelinks, Adwords bottom', '', '', '', '', '', '', '', '', '', '', '', '', '', '', '', '', '', '', '', '']\n",
      "['social media marketing london', 'gb', '8', '200', '8', '294', '1.58', '1.73', 'social media agency london', '2020-04-20 08:50:31', 'Adwords top, Sitelinks, Featured snippet, Adwords bottom', '', '', '', '', '', '', '', '', '', '', '', '', '', '', '', '', '', '', '', '']\n",
      "['internet marketing agency', 'gb', '49', '200', '8', 'NaN', 'NaN', 'NaN', 'digital marketing agency', '2020-05-09 00:49:38', 'NaN', '', '', '', '', '', '', '', '', '', '', '', '', '', '', '', '', '', '', '', '']\n",
      "['strategy internet marketing', 'gb', '68', '150', '8', 'NaN', 'NaN', 'NaN', 'strategy internet marketing', '2020-04-29 08:17:15', 'Featured snippet, Thumbnails, People also ask', '', '', '', '', '', '', '', '', '', '', '', '', '', '', '', '', '', '', '', '']\n",
      "['social media company', 'gb', '35', '150', '8', '113', '0.89', '1.26', 'social media marketing agency', '2020-04-29 14:51:36', 'People also ask, Image pack', '', '', '', '', '', '', '', '', '', '', '', '', '', '', '', '', '', '', '', '']\n",
      "['online marketing business', 'gb', '56', '100', '8', 'NaN', 'NaN', 'NaN', 'marketing agency', '2020-05-05 22:21:52', 'People also ask, Top stories, Thumbnails', '', '', '', '', '', '', '', '', '', '', '', '', '', '', '', '', '', '', '', '']\n",
      "['social media companies london', 'gb', '17', '100', '8', 'NaN', 'NaN', 'NaN', 'social media marketing agency', '2020-04-23 19:06:43', 'Adwords top, Sitelinks, Featured snippet, Adwords bottom', '', '', '', '', '', '', '', '', '', '', '', '', '', '', '', '', '', '', '', '']\n",
      "['marketing website', 'gb', '38', '100', '8', 'NaN', 'NaN', 'NaN', 'website agency', '2020-04-26 15:41:58', 'NaN', '', '', '', '', '', '', '', '', '', '', '', '', '', '', '', '', '', '', '', '']\n",
      "['nottingham web design', 'gb', '37', '100', '8', 'NaN', 'NaN', 'NaN', 'web design nottingham', '2020-04-20 13:01:16', 'Adwords top, Sitelinks, Adwords bottom', '', '', '', '', '', '', '', '', '', '', '', '', '', '', '', '', '', '', '', '']\n",
      "['internet marketing strategies', 'gb', '57', '100', '8', 'NaN', 'NaN', 'NaN', 'internet marketing', '2020-05-01 23:13:32', 'Featured snippet, Thumbnails, People also ask, Top stories', '', '', '', '', '', '', '', '', '', '', '', '', '', '', '', '', '', '', '', '']\n",
      "['digital technology examples', 'gb', '23', '100', '8', 'NaN', 'NaN', 'NaN', 'digital technology', '2020-05-02 06:23:27', 'Featured snippet, Thumbnails, People also ask', '', '', '', '', '', '', '', '', '', '', '', '', '', '', '', '', '', '', '', '']\n",
      "['what is a digital agency', 'gb', '11', '100', '8', '52', '0.43', '1.07', 'what is a digital agency', '2020-04-23 13:46:44', 'Adwords top, Sitelinks, Featured snippet, Thumbnails, People also ask, Top stories', '', '', '', '', '', '', '', '', '', '', '', '', '', '', '', '', '', '', '', '']\n",
      "['digital marketing services london', 'gb', '55', '100', '8', 'NaN', 'NaN', 'NaN', 'marketing agency', '2020-04-19 19:29:36', 'Sitelinks', '', '', '', '', '', '', '', '', '', '', '', '', '', '', '', '', '', '', '', '']\n",
      "['web marketing agency', 'gb', '57', '90', '8', 'NaN', 'NaN', 'NaN', 'web marketing agency', '2020-05-02 04:50:13', 'People also ask, Adwords bottom, Sitelinks', '', '', '', '', '', '', '', '', '', '', '', '', '', '', '', '', '', '', '', '']\n",
      "['social media marketing company', 'gb', '19', '80', '8', 'NaN', 'NaN', 'NaN', 'social media agency', '2020-04-21 18:26:15', 'Adwords top, Sitelinks, Adwords bottom', '', '', '', '', '', '', '', '', '', '', '', '', '', '', '', '', '', '', '', '']\n",
      "['web design agency nottingham', 'gb', '37', '80', '8', 'NaN', 'NaN', 'NaN', 'web design nottingham', '2020-04-29 23:10:33', 'Adwords bottom, Sitelinks', '', '', '', '', '', '', '', '', '', '', '', '', '', '', '', '', '', '', '', '']\n",
      "['digital platform definition', 'gb', '11', '80', '8', 'NaN', 'NaN', 'NaN', 'digital platform definition', '2020-04-16 09:04:48', 'Adwords top, Sitelinks, Featured snippet, Thumbnails, People also ask', '', '', '', '', '', '', '', '', '', '', '', '', '', '', '', '', '', '', '', '']\n",
      "['digital agency reading', 'gb', '25', '70', '8', 'NaN', 'NaN', 'NaN', 'digital agency reading', '2020-04-17 16:12:08', 'Adwords top, Sitelinks, Adwords bottom', '', '', '', '', '', '', '', '', '', '', '', '', '', '', '', '', '', '', '', '']\n",
      "['full service marketing agency', 'gb', '8', '70', '8', 'NaN', 'NaN', 'NaN', 'full service agency', '2020-04-20 03:06:45', 'People also ask', '', '', '', '', '', '', '', '', '', '', '', '', '', '', '', '', '', '', '', '']\n",
      "['digital marketing firm', 'gb', '43', '70', '8', 'NaN', 'NaN', 'NaN', 'marketing agency', '2020-04-24 06:28:24', 'Adwords top, Sitelinks, Top stories, Thumbnails, Adwords bottom', '', '', '', '', '', '', '', '', '', '', '', '', '', '', '', '', '', '', '', '']\n",
      "['digital advertising agency london', 'gb', '47', '60', '8', 'NaN', 'NaN', 'NaN', 'digital agency', '2020-04-25 09:49:43', 'Featured snippet, Thumbnails', '', '', '', '', '', '', '', '', '', '', '', '', '', '', '', '', '', '', '', '']\n",
      "['online marketing uk', 'gb', '50', '60', '8', 'NaN', 'NaN', 'NaN', 'digital marketing agency', '2020-04-21 08:17:52', 'NaN', '', '', '', '', '', '', '', '', '', '', '', '', '', '', '', '', '', '', '', '']\n",
      "['online marketing news', 'gb', '59', '50', '8', 'NaN', 'NaN', 'NaN', 'marketing news', '2020-05-08 16:23:15', 'Sitelinks', '', '', '', '', '', '', '', '', '', '', '', '', '', '', '', '', '', '', '', '']\n",
      "['social media and digital marketing', 'gb', '61', '40', '8', 'NaN', 'NaN', 'NaN', 'social media marketing', '2020-04-29 04:55:42', 'Featured snippet, People also ask', '', '', '', '', '', '', '', '', '', '', '', '', '', '', '', '', '', '', '', '']\n",
      "['marketing agency in london', 'gb', '28', '30', '8', 'NaN', 'NaN', 'NaN', 'digital marketing agency', '2020-05-06 13:15:13', 'Adwords top, Sitelinks, Adwords bottom', '', '', '', '', '', '', '', '', '', '', '', '', '', '', '', '', '', '', '', '']\n",
      "['digital marketing', 'gb', '74', '19000', '7', '11033', '0.57', '1.41', 'digital marketing', '2020-05-09 07:11:09', 'Adwords top, Sitelinks, People also ask, Top stories, Thumbnails, Adwords bottom', '', '', '', '', '', '', '', '', '', '', '', '', '', '', '', '', '', '', '', '']\n",
      "['hub spot', 'gb', '53', '2600', '7', '1820', '0.71', '1.37', 'hubspot', '2020-05-05 05:59:21', 'Adwords top, Sitelinks, Top stories, Thumbnails, People also ask, Tweet box', '', '', '', '', '', '', '', '', '', '', '', '', '', '', '', '', '', '', '', '']\n",
      "['performance marketing', 'gb', '7', '1200', '7', '738', '0.63', '1.41', 'performance marketing', '2020-05-09 18:16:37', 'Adwords top, Sitelinks, Featured snippet, Thumbnails, People also ask', '', '', '', '', '', '', '', '', '', '', '', '', '', '', '', '', '', '', '', '']\n",
      "['internet marketing', 'gb', '70', '1100', '7', '687', '0.63', '1.47', 'internet marketing', '2020-05-08 00:21:40', 'Featured snippet, Thumbnails, People also ask, Sitelinks, Top stories, Adwords bottom', '', '', '', '', '', '', '', '', '', '', '', '', '', '', '', '', '', '', '', '']\n",
      "['digital marketing news', 'gb', '50', '900', '7', '1203', '1.4', '1.39', 'marketing news', '2020-05-10 03:01:32', 'Sitelinks, Adwords bottom', '', '', '', '', '', '', '', '', '', '', '', '', '', '', '', '', '', '', '', '']\n",
      "['digital marketing channels', 'gb', '24', '500', '7', '396', '0.74', '1.46', 'digital marketing channels', '2020-05-07 11:49:56', 'Featured snippet, Thumbnails, People also ask, Image pack', '', '', '', '', '', '', '', '', '', '', '', '', '', '', '', '', '', '', '', '']\n",
      "['social media companies', 'gb', '25', '300', '7', '236', '0.73', '1.12', 'social media marketing agency', '2020-05-03 17:36:49', 'Adwords top, Sitelinks, People also ask, Adwords bottom', '', '', '', '', '', '', '', '', '', '', '', '', '', '', '', '', '', '', '', '']\n",
      "['website marketing', 'gb', '30', '150', '7', '75', '0.56', '1.13', 'marketing website', '2020-04-29 16:37:11', 'Featured snippet, People also ask', '', '', '', '', '', '', '', '', '', '', '', '', '', '', '', '', '', '', '', '']\n",
      "['online marketing strategies', 'gb', '56', '150', '7', '109', '0.71', '1.62', 'online marketing', '2020-04-27 14:54:17', 'Featured snippet, Thumbnails, People also ask, Top stories, Image pack', '', '', '', '', '', '', '', '', '', '', '', '', '', '', '', '', '', '', '', '']\n",
      "['online marketing services', 'gb', '26', '100', '7', 'NaN', 'NaN', 'NaN', 'digital marketing services', '2020-04-26 10:57:52', 'Adwords top, Sitelinks, People also ask, Adwords bottom', '', '', '', '', '', '', '', '', '', '', '', '', '', '', '', '', '', '', '', '']\n",
      "['digital marketing solutions', 'gb', '39', '100', '7', '64', '0.54', '1.17', 'digital marketing solutions', '2020-04-17 01:45:34', 'Adwords top, Sitelinks, Featured snippet, People also ask, Adwords bottom', '', '', '', '', '', '', '', '', '', '', '', '', '', '', '', '', '', '', '', '']\n",
      "['digital marketing uk', 'gb', '56', '100', '7', '72', '0.64', '1.14', 'digital marketing agency', '2020-05-05 05:17:18', 'Adwords bottom, Sitelinks', '', '', '', '', '', '', '', '', '', '', '', '', '', '', '', '', '', '', '', '']\n",
      "['web marketing services', 'gb', '23', '100', '7', 'NaN', 'NaN', 'NaN', 'web marketing services', '2020-04-17 15:02:19', 'Adwords top, Sitelinks, People also ask, Adwords bottom', '', '', '', '', '', '', '', '', '', '', '', '', '', '', '', '', '', '', '', '']\n",
      "['market online', 'gb', '54', '70', '7', 'NaN', 'NaN', 'NaN', 'market .com', '2020-04-24 23:22:58', 'Adwords top, Sitelinks', '', '', '', '', '', '', '', '', '', '', '', '', '', '', '', '', '', '', '', '']\n",
      "['performance marketing agency', 'gb', '48', '70', '7', 'NaN', 'NaN', 'NaN', 'digital marketing agency', '2020-05-08 03:10:38', 'Sitelinks', '', '', '', '', '', '', '', '', '', '', '', '', '', '', '', '', '', '', '', '']\n",
      "['social media marketing companies london', 'gb', '24', '60', '7', 'NaN', 'NaN', 'NaN', 'social media agency', '2020-04-19 08:24:12', 'Adwords top, Sitelinks, Adwords bottom', '', '', '', '', '', '', '', '', '', '', '', '', '', '', '', '', '', '', '', '']\n",
      "['web design company nottingham', 'gb', '43', '60', '7', 'NaN', 'NaN', 'NaN', 'web design nottingham', '2020-05-05 18:07:19', 'Adwords bottom, Sitelinks', '', '', '', '', '', '', '', '', '', '', '', '', '', '', '', '', '', '', '', '']\n",
      "['introduction to digital marketing', 'gb', '51', '60', '7', 'NaN', 'NaN', 'NaN', 'google certification', '2020-04-18 10:47:53', 'Featured snippet, Top stories, Thumbnails, Sitelinks, People also ask', '', '', '', '', '', '', '', '', '', '', '', '', '', '', '', '', '', '', '', '']\n",
      "['online marketing campaign', 'gb', '48', '50', '7', 'NaN', 'NaN', 'NaN', 'marketing campaign', '2020-05-06 05:50:33', 'People also ask', '', '', '', '', '', '', '', '', '', '', '', '', '', '', '', '', '', '', '', '']\n",
      "['digital marketing news uk', 'gb', '40', '50', '7', 'NaN', 'NaN', 'NaN', 'digital marketing', '2020-04-15 10:44:33', 'Adwords top, Sitelinks', '', '', '', '', '', '', '', '', '', '', '', '', '', '', '', '', '', '', '', '']\n",
      "['social media companies uk', 'gb', '22', '50', '7', 'NaN', 'NaN', 'NaN', 'social media marketing agency', '2020-04-14 00:03:20', 'Featured snippet', '', '', '', '', '', '', '', '', '', '', '', '', '', '', '', '', '', '', '', '']\n",
      "['web development nottingham', 'gb', '41', '40', '7', 'NaN', 'NaN', 'NaN', 'web design nottingham', '2020-05-07 10:22:48', 'Sitelinks, Adwords bottom', '', '', '', '', '', '', '', '', '', '', '', '', '', '', '', '', '', '', '', '']\n",
      "['website marketing company', 'gb', '48', '40', '7', 'NaN', 'NaN', 'NaN', 'online marketing company', '2020-04-24 04:47:03', 'Sitelinks', '', '', '', '', '', '', '', '', '', '', '', '', '', '', '', '', '', '', '', '']\n",
      "['integrated marketing agency london', 'gb', '36', '40', '7', 'NaN', 'NaN', 'NaN', 'integrated marketing agency london', '2020-04-18 17:07:59', 'NaN', '', '', '', '', '', '', '', '', '', '', '', '', '', '', '', '', '', '', '', '']\n",
      "['marketing agency london', 'gb', '39', '500', '6', '1103', '2.1', '1.43', 'digital marketing agency', '2020-05-06 11:19:31', 'Sitelinks, Adwords bottom', '', '', '', '', '', '', '', '', '', '', '', '', '', '', '', '', '', '', '', '']\n",
      "['marketing company', 'gb', '54', '500', '6', '680', '1.3', '1.29', 'marketing company', '2020-05-04 21:22:34', 'People also ask', '', '', '', '', '', '', '', '', '', '', '', '', '', '', '', '', '', '', '', '']\n",
      "['marketing digital', 'gb', '69', '450', '6', '291', '0.67', '1.23', 'digital marketing', '2020-04-29 06:22:36', 'Adwords top, Sitelinks, Featured snippet, Thumbnails, People also ask, Top stories, Adwords bottom', '', '', '', '', '', '', '', '', '', '', '', '', '', '', '', '', '', '', '', '']\n",
      "['marketing services', 'gb', '5', '400', '6', '266', '0.67', '1.26', 'marketing services', '2020-05-05 10:51:03', 'People also ask, Sitelinks, Image pack', '', '', '', '', '', '', '', '', '', '', '', '', '', '', '', '', '', '', '', '']\n",
      "['discuss the market', 'gb', '52', '250', '6', 'NaN', 'NaN', 'NaN', 'discuss the market', '2020-04-25 21:11:47', 'Sitelinks, Top stories, Thumbnails', '', '', '', '', '', '', '', '', '', '', '', '', '', '', '', '', '', '', '', '']\n",
      "['search marketing', 'gb', '28', '200', '6', '149', '0.69', '1.23', 'search engine marketing', '2020-05-02 19:25:26', 'People also ask', '', '', '', '', '', '', '', '', '', '', '', '', '', '', '', '', '', '', '', '']\n",
      "['digital agency uk', 'gb', '45', '200', '6', 'NaN', 'NaN', 'NaN', 'digital marketing agency', '2020-04-29 16:12:19', 'Sitelinks', '', '', '', '', '', '', '', '', '', '', '', '', '', '', '', '', '', '', '', '']\n",
      "['services marketing', 'gb', '9', '200', '6', '167', '0.76', '1.32', 'what is service marketing', '2020-04-29 01:22:22', 'Featured snippet, Thumbnails, People also ask, Sitelinks, Top stories', '', '', '', '', '', '', '', '', '', '', '', '', '', '', '', '', '', '', '', '']\n",
      "['digital marketing blog', 'gb', '69', '150', '6', '158', '0.98', '1.14', 'digital marketing blog', '2020-04-17 11:46:37', 'Adwords top, Sitelinks', '', '', '', '', '', '', '', '', '', '', '', '', '', '', '', '', '', '', '', '']\n",
      "['marketing blog', 'gb', '30', '150', '6', '208', '1.35', '1.3', 'marketing blog', '2020-04-26 11:08:57', 'Sitelinks', '', '', '', '', '', '', '', '', '', '', '', '', '', '', '', '', '', '', '', '']\n",
      "['marketing agency reading', 'gb', '6', '150', '6', 'NaN', 'NaN', 'NaN', 'marketing agency reading', '2020-05-01 22:59:53', 'NaN', '', '', '', '', '', '', '', '', '', '', '', '', '', '', '', '', '', '', '', '']\n",
      "['digital marketing blogs', 'gb', '64', '150', '6', '178', '1.1', '1.44', 'digital marketing blog', '2020-05-02 11:59:44', 'Sitelinks', '', '', '', '', '', '', '', '', '', '', '', '', '', '', '', '', '', '', '', '']\n",
      "['top marketing agencies london', 'gb', '10', '150', '6', '162', '0.97', '1.32', 'marketing agency', '2020-05-03 02:45:08', 'People also ask', '', '', '', '', '', '', '', '', '', '', '', '', '', '', '', '', '', '', '', '']\n",
      "['media-marketing', 'gb', '84', '150', '6', 'NaN', 'NaN', 'NaN', 'social media marketing', '2020-05-04 09:37:45', 'Featured snippet, Thumbnails', '', '', '', '', '', '', '', '', '', '', '', '', '', '', '', '', '', '', '', '']\n",
      "['london marketing agency', 'gb', '39', '150', '6', 'NaN', 'NaN', 'NaN', 'digital agency', '2020-04-30 19:16:09', 'Sitelinks', '', '', '', '', '', '', '', '', '', '', '', '', '', '', '', '', '', '', '', '']\n",
      "['online marketing strategy', 'gb', '62', '100', '6', 'NaN', 'NaN', 'NaN', 'strategy internet marketing', '2020-04-18 10:01:05', 'Adwords top, Sitelinks, Featured snippet, People also ask, Top stories, Thumbnails, Image pack', '', '', '', '', '', '', '', '', '', '', '', '', '', '', '', '', '', '', '', '']\n",
      "['social media marketing uk', 'gb', '9', '100', '6', '142', '1.17', '1.3', 'social media management agency', '2020-05-08 15:19:08', 'Sitelinks', '', '', '', '', '', '', '', '', '', '', '', '', '', '', '', '', '', '', '', '']\n",
      "['digital marketing industry', 'gb', '57', '90', '6', 'NaN', 'NaN', 'NaN', 'digital marketing', '2020-04-14 07:47:15', 'Adwords top, Sitelinks, People also ask, Adwords bottom', '', '', '', '', '', '', '', '', '', '', '', '', '', '', '', '', '', '', '', '']\n",
      "['social media marketing cost', 'gb', '23', '90', '6', 'NaN', 'NaN', 'NaN', 'social media manager', '2020-04-22 07:48:01', 'Adwords top, Sitelinks, Featured snippet, Thumbnails, People also ask, Adwords bottom', '', '', '', '', '', '', '', '', '', '', '', '', '', '', '', '', '', '', '', '']\n",
      "['digital marketing websites', 'gb', '59', '80', '6', 'NaN', 'NaN', 'NaN', 'marketing website', '2020-05-10 14:37:39', 'Featured snippet, Thumbnails, Sitelinks', '', '', '', '', '', '', '', '', '', '', '', '', '', '', '', '', '', '', '', '']\n",
      "['marketing companies essex', 'gb', '37', '80', '6', 'NaN', 'NaN', 'NaN', 'cjam', '2020-04-15 13:25:31', 'Adwords top, Sitelinks, Adwords bottom', '', '', '', '', '', '', '', '', '', '', '', '', '', '', '', '', '', '', '', '']\n",
      "['marketing agencies in london', 'gb', '36', '70', '6', 'NaN', 'NaN', 'NaN', 'marketing agency', '2020-04-27 13:07:38', 'People also ask', '', '', '', '', '', '', '', '', '', '', '', '', '', '', '', '', '', '', '', '']\n",
      "['digital marketing communication', 'gb', '23', '60', '6', 'NaN', 'NaN', 'NaN', 'digital marketing', '2020-05-10 19:43:12', 'Adwords top, Sitelinks, Featured snippet, People also ask', '', '', '', '', '', '', '', '', '', '', '', '', '', '', '', '', '', '', '', '']\n",
      "['online marketing plan', 'gb', '51', '50', '6', 'NaN', 'NaN', 'NaN', 'online marketing plan', '2020-04-20 11:45:35', 'People also ask, Image pack', '', '', '', '', '', '', '', '', '', '', '', '', '', '', '', '', '', '', '', '']\n",
      "['whats digital marketing', 'gb', '67', '50', '6', 'NaN', 'NaN', 'NaN', 'digital marketing', '2020-04-15 18:37:51', 'Adwords top, Sitelinks, People also ask, Top stories, Thumbnails', '', '', '', '', '', '', '', '', '', '', '', '', '', '', '', '', '', '', '', '']\n",
      "['social media marketing companies for small business', 'gb', '41', '40', '6', 'NaN', 'NaN', 'NaN', 'social media marketing agency', '2020-04-14 07:12:20', 'Featured snippet, Sitelinks', '', '', '', '', '', '', '', '', '', '', '', '', '', '', '', '', '', '', '', '']\n",
      "['website marketing strategy', 'gb', '45', '40', '6', 'NaN', 'NaN', 'NaN', 'marketing website', '2020-04-24 01:13:53', 'Adwords top, Sitelinks, Featured snippet, Thumbnails', '', '', '', '', '', '', '', '', '', '', '', '', '', '', '', '', '', '', '', '']\n",
      "['marketing company uk', 'gb', '43', '30', '6', 'NaN', 'NaN', 'NaN', 'marketing companies', '2020-05-07 18:52:23', 'Featured snippet, Thumbnails, People also ask', '', '', '', '', '', '', '', '', '', '', '', '', '', '', '', '', '', '', '', '']\n",
      "['best digital marketing blogs', 'gb', '14', '30', '6', 'NaN', 'NaN', 'NaN', 'digital marketing blog', '2020-04-19 11:30:50', 'NaN', '', '', '', '', '', '', '', '', '', '', '', '', '', '', '', '', '', '', '', '']\n",
      "['hubspot', 'gb', '67', '63000', '5', '59708', '0.95', '2.34', 'hubspot', '2020-05-09 00:57:01', 'Adwords top, Sitelinks, Top stories, Thumbnails, People also ask, Tweet box, Image pack', '', '', '', '', '', '', '', '', '', '', '', '', '', '', '', '', '', '', '', '']\n",
      "['digital marketing definition', 'gb', '66', '800', '5', '509', '0.62', '1.28', 'digital marketing', '2020-05-07 00:10:43', 'People also ask, Sitelinks, Top stories, Thumbnails', '', '', '', '', '', '', '', '', '', '', '', '', '', '', '', '', '', '', '', '']\n",
      "['digital business', 'gb', '33', '400', '5', '198', '0.49', '1.19', 'digital company', '2020-04-26 19:12:35', 'Adwords top, Sitelinks, Featured snippet, Thumbnails, People also ask, Top stories, Adwords bottom', '', '', '', '', '', '', '', '', '', '', '', '', '', '', '', '', '', '', '', '']\n",
      "['digital marketing specialist', 'gb', '1', '250', '5', '125', '0.53', '1.14', 'digital marketing specialist', '2020-04-17 06:52:02', 'Adwords top, Sitelinks, People also ask, Adwords bottom', '', '', '', '', '', '', '', '', '', '', '', '', '', '', '', '', '', '', '', '']\n",
      "['marketing companies near me', 'gb', '22', '250', '5', '456', '1.88', '1.49', 'digital marketing agency london', '2020-04-24 22:54:04', 'Adwords top, Sitelinks, Adwords bottom', '', '', '', '', '', '', '', '', '', '', '', '', '', '', '', '', '', '', '', '']\n",
      "['digital marketing platforms', 'gb', '73', '100', '5', '98', '0.81', '1.17', 'digital marketing platforms', '2020-05-04 01:48:16', 'Featured snippet, Thumbnails, People also ask, Sitelinks', '', '', '', '', '', '', '', '', '', '', '', '', '', '', '', '', '', '', '', '']\n",
      "['digital marketing essex', 'gb', '48', '70', '5', 'NaN', 'NaN', 'NaN', 'revive digital media', '2020-04-19 06:01:25', 'Sitelinks, Adwords bottom', '', '', '', '', '', '', '', '', '', '', '', '', '', '', '', '', '', '', '', '']\n",
      "['social media marketing examples', 'gb', '58', '70', '5', 'NaN', 'NaN', 'NaN', 'social media strategy example', '2020-04-17 14:41:42', 'Featured snippet, Thumbnails, People also ask', '', '', '', '', '', '', '', '', '', '', '', '', '', '', '', '', '', '', '', '']\n",
      "['marketing companys', 'gb', '7', '60', '5', 'NaN', 'NaN', 'NaN', 'marketing agency', '2020-05-09 03:29:09', 'Adwords top, Sitelinks, People also ask, Image pack', '', '', '', '', '', '', '', '', '', '', '', '', '', '', '', '', '', '', '', '']\n",
      "['how to become a digital marketer', 'gb', '15', '60', '5', 'NaN', 'NaN', 'NaN', 'how to become a digital marketer', '2020-05-09 13:35:38', 'Adwords top, Sitelinks, Featured snippet, Thumbnails, People also ask, Top stories, Adwords bottom', '', '', '', '', '', '', '', '', '', '', '', '', '', '', '', '', '', '', '', '']\n",
      "['online marketing solutions', 'gb', '2', '40', '5', 'NaN', 'NaN', 'NaN', 'online marketing solutions', '2020-04-15 09:20:52', 'Adwords top, Sitelinks, Adwords bottom', '', '', '', '', '', '', '', '', '', '', '', '', '', '', '', '', '', '', '', '']\n",
      "['marketing companies', 'gb', '7', '800', '4.5', '777', '0.93', '1.24', 'marketing agency', '2020-05-07 08:37:51', 'People also ask, Image pack', '', '', '', '', '', '', '', '', '', '', '', '', '', '', '', '', '', '', '', '']\n",
      "['marketing agencies london', 'gb', '21', '400', '4.5', '675', '1.67', '1.72', 'marketing agency', '2020-05-01 20:07:21', 'People also ask', '', '', '', '', '', '', '', '', '', '', '', '', '', '', '', '', '', '', '', '']\n",
      "['agency online', 'gb', '66', '350', '4.5', 'NaN', 'NaN', 'NaN', 'agency online', '2020-04-15 18:50:27', 'Sitelinks, Adwords bottom', '', '', '', '', '', '', '', '', '', '', '', '', '', '', '', '', '', '', '', '']\n",
      "['marketing agencies near me', 'gb', '46', '150', '4.5', 'NaN', 'NaN', 'NaN', 'marketing agency', '2020-05-09 21:25:59', 'Adwords top, Sitelinks, Adwords bottom', '', '', '', '', '', '', '', '', '', '', '', '', '', '', '', '', '', '', '', '']\n",
      "['digital marketing examples', 'gb', '35', '150', '4.5', '141', '0.87', '1.13', 'digital marketing', '2020-04-25 11:17:09', 'Adwords top, Sitelinks, Featured snippet, Thumbnails, People also ask', '', '', '', '', '', '', '', '', '', '', '', '', '', '', '', '', '', '', '', '']\n",
      "['digital company', 'gb', '46', '100', '4.5', 'NaN', 'NaN', 'NaN', 'top it companies', '2020-05-08 13:31:18', 'Top stories, Thumbnails, People also ask', '', '', '', '', '', '', '', '', '', '', '', '', '', '', '', '', '', '', '', '']\n",
      "['importance of digital marketing', 'gb', '40', '100', '4.5', '100', '0.86', '1.17', 'role of digital marketing', '2020-04-24 13:52:05', 'Adwords top, Featured snippet, Thumbnails, People also ask', '', '', '', '', '', '', '', '', '', '', '', '', '', '', '', '', '', '', '', '']\n",
      "['what is e marketing', 'gb', '15', '100', '4.5', 'NaN', 'NaN', 'NaN', 'e marketing', '2020-04-25 09:29:13', 'Adwords top, People also ask, Top stories, Thumbnails', '', '', '', '', '', '', '', '', '', '', '', '', '', '', '', '', '', '', '', '']\n",
      "['marketing agency uk', 'gb', '48', '100', '4.5', 'NaN', 'NaN', 'NaN', 'digital marketing agency', '2020-04-21 01:01:22', 'Adwords top, Sitelinks, Featured snippet, Thumbnails, Adwords bottom', '', '', '', '', '', '', '', '', '', '', '', '', '', '', '', '', '', '', '', '']\n",
      "['marketing agencies uk', 'gb', '22', '80', '4.5', 'NaN', 'NaN', 'NaN', 'digital marketing agency', '2020-04-28 00:03:46', 'Featured snippet, Thumbnails', '', '', '', '', '', '', '', '', '', '', '', '', '', '', '', '', '', '', '', '']\n",
      "['london marketing agencies', 'gb', '31', '70', '4.5', 'NaN', 'NaN', 'NaN', 'marketing agency', '2020-04-25 12:57:16', 'Adwords top, Sitelinks, People also ask, Adwords bottom', '', '', '', '', '', '', '', '', '', '', '', '', '', '', '', '', '', '', '', '']\n",
      "['online marketing definition', 'gb', '72', '70', '4.5', 'NaN', 'NaN', 'NaN', 'online marketing', '2020-05-02 07:22:00', 'People also ask, Top stories, Thumbnails', '', '', '', '', '', '', '', '', '', '', '', '', '', '', '', '', '', '', '', '']\n",
      "['elements of internet marketing', 'gb', '1', '60', '4.5', 'NaN', 'NaN', 'NaN', 'elements of internet marketing', '2020-05-04 14:43:40', 'Featured snippet, Thumbnails, People also ask', '', '', '', '', '', '', '', '', '', '', '', '', '', '', '', '', '', '', '', '']\n",
      "['best online marketing', 'gb', '45', '50', '4.5', 'NaN', 'NaN', 'NaN', 'online marketing', '2020-04-17 09:23:23', 'Featured snippet, Thumbnails, People also ask', '', '', '', '', '', '', '', '', '', '', '', '', '', '', '', '', '', '', '', '']\n",
      "['internet marketing business', 'gb', '76', '50', '4.5', 'NaN', 'NaN', 'NaN', 'online marketing business', '2020-04-14 21:47:38', 'People also ask, Top stories, Thumbnails, Adwords bottom, Sitelinks', '', '', '', '', '', '', '', '', '', '', '', '', '', '', '', '', '', '', '', '']\n",
      "['internet marketing service', 'gb', '39', '200', '4', 'NaN', 'NaN', 'NaN', 'digital marketing services', '2020-04-14 02:30:47', 'People also ask, Sitelinks', '', '', '', '', '', '', '', '', '', '', '', '', '', '', '', '', '', '', '', '']\n",
      "['digital marketing meaning', 'gb', '68', '200', '4', '103', '0.49', '1.13', 'digital marketing', '2020-04-26 03:31:06', 'Sitelinks, People also ask, Top stories, Thumbnails', '', '', '', '', '', '', '', '', '', '', '', '', '', '', '', '', '', '', '', '']\n",
      "['digital and social media marketing', 'gb', '42', '150', '4', 'NaN', 'NaN', 'NaN', 'types of digital marketing', '2020-04-26 13:14:20', 'Adwords top, Sitelinks, Featured snippet, People also ask, Adwords bottom', '', '', '', '', '', '', '', '', '', '', '', '', '', '', '', '', '', '', '', '']\n",
      "['advertising agencies near me', 'gb', '32', '150', '4', 'NaN', 'NaN', 'NaN', 'advertising agencies near me', '2020-05-08 16:46:06', 'People also ask', '', '', '', '', '', '', '', '', '', '', '', '', '', '', '', '', '', '', '', '']\n",
      "['digital media companies', 'gb', '25', '150', '4', '162', '1.23', '1.43', 'american internet and media company', '2020-04-29 08:37:33', 'Featured snippet, People also ask', '', '', '', '', '', '', '', '', '', '', '', '', '', '', '', '', '', '', '', '']\n",
      "['full service agency', 'gb', '5', '150', '4', 'NaN', 'NaN', 'NaN', 'full service agency', '2020-04-23 15:34:16', 'Adwords top, Sitelinks, People also ask, Adwords bottom', '', '', '', '', '', '', '', '', '', '', '', '', '', '', '', '', '', '', '', '']\n",
      "['digital marketing roles', 'gb', '12', '100', '4', '63', '0.66', '1.09', 'digital marketing job description', '2020-05-01 03:10:23', 'Featured snippet, Thumbnails, People also ask, Sitelinks', '', '', '', '', '', '', '', '', '', '', '', '', '', '', '', '', '', '', '', '']\n",
      "['what is online marketing', 'gb', '77', '100', '4', '68', '0.58', '1.04', 'online marketing', '2020-04-25 15:30:19', 'Adwords top, Sitelinks, People also ask, Top stories, Thumbnails', '', '', '', '', '', '', '', '', '', '', '', '', '', '', '', '', '', '', '', '']\n",
      "['understanding digital marketing', 'gb', '5', '80', '4', 'NaN', 'NaN', 'NaN', 'understanding digital marketing', '2020-04-15 01:38:41', 'Featured snippet, Thumbnails, Top stories', '', '', '', '', '', '', '', '', '', '', '', '', '', '', '', '', '', '', '', '']\n",
      "['what is digital marketing strategy', 'gb', '33', '80', '4', '56', '0.65', '1.05', 'digital marketing strategy', '2020-04-14 11:23:40', 'Featured snippet, Thumbnails, People also ask, Sitelinks, Top stories, Image pack', '', '', '', '', '', '', '', '', '', '', '', '', '', '', '', '', '', '', '', '']\n",
      "['marketing companies in london', 'gb', '22', '80', '4', 'NaN', 'NaN', 'NaN', 'marketing agency', '2020-04-23 12:52:34', 'Adwords top, Sitelinks, People also ask, Adwords bottom', '', '', '', '', '', '', '', '', '', '', '', '', '', '', '', '', '', '', '', '']\n",
      "['top digital agencies uk', 'gb', '5', '70', '4', 'NaN', 'NaN', 'NaN', 'digital agency', '2020-05-06 15:03:12', 'Featured snippet', '', '', '', '', '', '', '', '', '', '', '', '', '', '', '', '', '', '', '', '']\n",
      "['digital marketing articles', 'gb', '17', '70', '4', 'NaN', 'NaN', 'NaN', 'digital marketing articles', '2020-04-28 02:40:41', 'NaN', '', '', '', '', '', '', '', '', '', '', '', '', '', '', '', '', '', '', '', '']\n",
      "['media marketing', 'gb', '83', '70', '4', '34', '0.51', '1.27', 'social media marketing', '2020-04-26 12:00:13', 'Adwords top, Sitelinks, People also ask', '', '', '', '', '', '', '', '', '', '', '', '', '', '', '', '', '', '', '', '']\n",
      "['digital media companies london', 'gb', '27', '60', '4', 'NaN', 'NaN', 'NaN', 'digital agency', '2020-04-16 06:06:42', 'Adwords top, Sitelinks, Adwords bottom', '', '', '', '', '', '', '', '', '', '', '', '', '', '', '', '', '', '', '', '']\n",
      "['online marketing firm', 'gb', '55', '60', '4', 'NaN', 'NaN', 'NaN', 'marketing agency', '2020-04-18 07:13:57', 'Adwords top, Sitelinks, People also ask, Top stories, Thumbnails, Adwords bottom', '', '', '', '', '', '', '', '', '', '', '', '', '', '', '', '', '', '', '', '']\n",
      "['digital media products', 'gb', '6', '60', '4', 'NaN', 'NaN', 'NaN', 'digital media products', '2020-05-10 15:26:48', 'Featured snippet, Thumbnails, People also ask', '', '', '', '', '', '', '', '', '', '', '', '', '', '', '', '', '', '', '', '']\n",
      "['design agency colchester', 'gb', '24', '50', '4', 'NaN', 'NaN', 'NaN', 'design agency colchester', '2020-05-05 10:39:08', 'Image pack', '', '', '', '', '', '', '', '', '', '', '', '', '', '', '', '', '', '', '', '']\n",
      "['examples of digital marketing', 'gb', '39', '50', '4', 'NaN', 'NaN', 'NaN', 'digital marketing', '2020-04-15 05:37:41', 'Adwords top, Sitelinks, Featured snippet, Thumbnails, People also ask', '', '', '', '', '', '', '', '', '', '', '', '', '', '', '', '', '', '', '', '']\n",
      "['business market definition', 'gb', '38', '40', '4', 'NaN', 'NaN', 'NaN', 'business market definition', '2020-05-10 00:04:00', 'People also ask, Sitelinks, Top stories, Thumbnails', '', '', '', '', '', '', '', '', '', '', '', '', '', '', '', '', '', '', '', '']\n",
      "['digital marketing show', 'gb', '53', '20', '4', 'NaN', 'NaN', 'NaN', 'digital marketing conference', '2020-04-28 12:22:18', 'Sitelinks', '', '', '', '', '', '', '', '', '', '', '', '', '', '', '', '', '', '', '', '']\n",
      "['digital channels', 'gb', '32', '450', '3.5', '261', '0.56', '1.19', 'digital marketing channels', '2020-04-26 20:18:52', 'Featured snippet, People also ask, Image pack, Top stories, Thumbnails', '', '', '', '', '', '', '', '', '', '', '', '', '', '', '', '', '', '', '', '']\n",
      "['what is a media agency', 'gb', '2', '250', '3.5', '214', '0.93', '1.32', 'media agency', '2020-05-07 10:29:32', 'People also ask, Top stories, Thumbnails', '', '', '', '', '', '', '', '', '', '', '', '', '', '', '', '', '', '', '', '']\n",
      "['marketing agency essex', 'gb', '47', '100', '3.5', 'NaN', 'NaN', 'NaN', 'revive digital media', '2020-05-05 18:36:36', 'NaN', '', '', '', '', '', '', '', '', '', '', '', '', '', '', '', '', '', '', '', '']\n",
      "['marketing agency ipswich', 'gb', '30', '80', '3.5', 'NaN', 'NaN', 'NaN', 'crafted', '2020-05-03 06:43:12', 'Sitelinks, Top stories, Thumbnails', '', '', '', '', '', '', '', '', '', '', '', '', '', '', '', '', '', '', '', '']\n",
      "['marketing agency colchester', 'gb', '22', '70', '3.5', 'NaN', 'NaN', 'NaN', 'marketing agency colchester', '2020-04-19 07:26:06', 'Adwords top, Sitelinks, Adwords bottom', '', '', '', '', '', '', '', '', '', '', '', '', '', '', '', '', '', '', '', '']\n",
      "['how to do online marketing', 'gb', '68', '60', '3.5', 'NaN', 'NaN', 'NaN', 'online marketing', '2020-04-17 01:06:15', 'Adwords top, Sitelinks, Featured snippet, People also ask, Top stories, Thumbnails', '', '', '', '', '', '', '', '', '', '', '', '', '', '', '', '', '', '', '', '']\n",
      "['it marketing', 'gb', '4', '60', '3.5', 'NaN', 'NaN', 'NaN', 'it marketing', '2020-04-19 05:05:18', 'Adwords top, Sitelinks, Image pack, Adwords bottom', '', '', '', '', '', '', '', '', '', '', '', '', '', '', '', '', '', '', '', '']\n",
      "['best marketing agencies london', 'gb', '11', '60', '3.5', 'NaN', 'NaN', 'NaN', 'marketing agency', '2020-04-18 23:55:21', 'Adwords top, Sitelinks, People also ask, Adwords bottom', '', '', '', '', '', '', '', '', '', '', '', '', '', '', '', '', '', '', '', '']\n",
      "['digital agency essex', 'gb', '55', '40', '3.5', 'NaN', 'NaN', 'NaN', 'marketing agency essex', '2020-05-10 00:47:16', 'Image pack', '', '', '', '', '', '', '', '', '', '', '', '', '', '', '', '', '', '', '', '']\n",
      "['internet marketing uk', 'gb', '13', '30', '3.5', 'NaN', 'NaN', 'NaN', 'internet marketing agency', '2020-04-24 05:12:40', 'Sitelinks, Adwords bottom', '', '', '', '', '', '', '', '', '', '', '', '', '', '', '', '', '', '', '', '']\n",
      "['marketing service', 'gb', '46', '30', '3.5', 'NaN', 'NaN', 'NaN', 'services marketing', '2020-05-07 02:15:55', 'Featured snippet, Thumbnails, People also ask, Sitelinks', '', '', '', '', '', '', '', '', '', '', '', '', '', '', '', '', '', '', '', '']\n",
      "['digital media', 'gb', '24', '3600', '3', '1671', '0.47', '1.24', 'digital media', '2020-05-10 14:14:41', 'Featured snippet, Thumbnails, People also ask, Sitelinks, Top stories', '', '', '', '', '', '', '', '', '', '', '', '', '', '', '', '', '', '', '', '']\n",
      "['hubsport', 'gb', '63', '250', '3', '158', '0.69', '1.06', 'hubspot', '2020-04-21 05:01:09', 'Sitelinks, Top stories, Thumbnails, People also ask, Tweet box, Image pack', '', '', '', '', '', '', '', '', '', '', '', '', '', '', '', '', '', '', '', '']\n",
      "['marketing companies london', 'gb', '10', '250', '3', '352', '1.45', '1.59', 'marketing agency', '2020-04-17 03:12:18', 'People also ask', '', '', '', '', '', '', '', '', '', '', '', '', '', '', '', '', '', '', '', '']\n",
      "['marketing work', 'gb', '23', '100', '3', 'NaN', 'NaN', 'NaN', 'marketing executive', '2020-04-15 22:12:02', 'Featured snippet, Thumbnails, People also ask, Sitelinks, Top stories, Image pack, Adwords bottom', '', '', '', '', '', '', '', '', '', '', '', '', '', '', '', '', '', '', '', '']\n",
      "['marketing firms london', 'gb', '43', '90', '3', 'NaN', 'NaN', 'NaN', 'marketing agency', '2020-04-27 21:14:11', 'Featured snippet, People also ask', '', '', '', '', '', '', '', '', '', '', '', '', '', '', '', '', '', '', '', '']\n",
      "['digital marketing colchester', 'gb', '0', '50', '3', 'NaN', 'NaN', 'NaN', 'digital marketing colchester', '2020-04-15 08:27:47', 'Adwords top, Sitelinks, Adwords bottom', '', '', '', '', '', '', '', '', '', '', '', '', '', '', '', '', '', '', '', '']\n",
      "['digital media advertising', 'gb', '12', '40', '3', 'NaN', 'NaN', 'NaN', 'digital advertising', '2020-04-25 11:19:50', 'Featured snippet, Thumbnails, People also ask', '', '', '', '', '', '', '', '', '', '', '', '', '', '', '', '', '', '', '', '']\n",
      "['digital marketing what is it', 'gb', '67', '40', '3', 'NaN', 'NaN', 'NaN', 'digital marketing', '2020-04-14 02:00:24', 'People also ask, Sitelinks, Top stories, Thumbnails', '', '', '', '', '', '', '', '', '', '', '', '', '', '', '', '', '', '', '', '']\n",
      "['network marketing company', 'gb', '30', '30', '3', 'NaN', 'NaN', 'NaN', 'mlm companies', '2020-04-29 18:44:38', 'Adwords top, Sitelinks, People also ask, Top stories, Thumbnails, Adwords bottom', '', '', '', '', '', '', '', '', '', '', '', '', '', '', '', '', '', '', '', '']\n",
      "['solution marketing nottingham', 'gb', '0', '30', '3', 'NaN', 'NaN', 'NaN', 'solution marketing', '2020-04-19 06:32:27', 'NaN', '', '', '', '', '', '', '', '', '', '', '', '', '', '', '', '', '', '', '', '']\n",
      "['coast', 'gb', '42', '70000', '2.5', '64715', '0.93', '1.67', 'coast', '2020-05-09 23:55:39', 'Sitelinks', '', '', '', '', '', '', '', '', '', '', '', '', '', '', '', '', '', '', '', '']\n",
      "['digital', 'gb', '89', '16000', '2.5', '5912', '0.38', '1.19', 'digital', '2020-05-09 02:26:10', 'Sitelinks, People also ask, Top stories, Thumbnails, Image pack', '', '', '', '', '', '', '', '', '', '', '', '', '', '', '', '', '', '', '', '']\n",
      "['what is digital marketing', 'gb', '74', '3100', '2.5', '2119', '0.69', '1.19', 'digital marketing', '2020-05-08 23:38:10', 'Adwords top, Sitelinks, People also ask, Top stories, Thumbnails', '', '', '', '', '', '', '', '', '', '', '', '', '', '', '', '', '', '', '', '']\n",
      "['digital content', 'gb', '8', '450', '2.5', '255', '0.54', '1.28', 'digital content', '2020-04-25 07:27:15', 'Featured snippet, Thumbnails, People also ask, Top stories', '', '', '', '', '', '', '', '', '', '', '', '', '', '', '', '', '', '', '', '']\n",
      "['digital marketing job description', 'gb', '21', '450', '2.5', '405', '0.94', '1.25', 'digital marketing job description', '2020-04-28 12:16:33', 'Featured snippet, Thumbnails, People also ask, Sitelinks', '', '', '', '', '', '', '', '', '', '', '', '', '', '', '', '', '', '', '', '']\n",
      "['online meaning', 'gb', '29', '200', '2.5', '53', '0.24', '1.07', 'online', '2020-04-25 13:44:02', 'Knowledge card, People also ask, Top stories, Thumbnails', '', '', '', '', '', '', '', '', '', '', '', '', '', '', '', '', '', '', '', '']\n",
      "['digital promotion', 'gb', '6', '150', '2.5', '109', '0.69', '1.25', 'digital promotion', '2020-05-08 23:54:42', 'Featured snippet, People also ask, Videos', '', '', '', '', '', '', '', '', '', '', '', '', '', '', '', '', '', '', '', '']\n",
      "['role of digital marketing', 'gb', '39', '150', '2.5', 'NaN', 'NaN', 'NaN', 'role of digital marketing', '2020-04-16 00:32:32', 'Adwords top, Sitelinks, Featured snippet, Thumbnails, People also ask', '', '', '', '', '', '', '', '', '', '', '', '', '', '', '', '', '', '', '', '']\n",
      "['digital marketing basics', 'gb', '58', '80', '2.5', 'NaN', 'NaN', 'NaN', 'digital marketing basics', '2020-04-20 08:02:35', 'Adwords top, Sitelinks, Featured snippet, Thumbnails, People also ask, Top stories', '', '', '', '', '', '', '', '', '', '', '', '', '', '', '', '', '', '', '', '']\n",
      "['marketing information', 'gb', '6', '70', '2.5', 'NaN', 'NaN', 'NaN', 'marketing information', '2020-04-24 05:28:59', 'Featured snippet, Thumbnails, People also ask, Sitelinks, Top stories', '', '', '', '', '', '', '', '', '', '', '', '', '', '', '', '', '', '', '', '']\n",
      "['uses of internet in business', 'gb', '6', '60', '2.5', 'NaN', 'NaN', 'NaN', 'uses of internet in business', '2020-04-16 10:34:32', 'Featured snippet, Thumbnails, People also ask, Image pack', '', '', '', '', '', '', '', '', '', '', '', '', '', '', '', '', '', '', '', '']\n",
      "['online strategy', 'gb', '68', '60', '2.5', 'NaN', 'NaN', 'NaN', 'strategy internet marketing', '2020-04-26 10:38:20', 'Adwords top, Sitelinks, People also ask, Top stories, Thumbnails', '', '', '', '', '', '', '', '', '', '', '', '', '', '', '', '', '', '', '', '']\n",
      "['creative agency essex', 'gb', '26', '60', '2.5', 'NaN', 'NaN', 'NaN', 'design agency essex', '2020-05-09 03:06:27', 'Adwords top, Sitelinks, Adwords bottom', '', '', '', '', '', '', '', '', '', '', '', '', '', '', '', '', '', '', '', '']\n",
      "['marketing channels examples', 'gb', '37', '40', '2.5', 'NaN', 'NaN', 'NaN', 'marketing channels', '2020-04-19 18:19:44', 'Featured snippet, Thumbnails, People also ask, Sitelinks', '', '', '', '', '', '', '', '', '', '', '', '', '', '', '', '', '', '', '', '']\n",
      "['sales and marketing companies', 'gb', '9', '40', '2.5', 'NaN', 'NaN', 'NaN', 'shs', '2020-04-21 17:33:01', 'Sitelinks, People also ask, Image pack', '', '', '', '', '', '', '', '', '', '', '', '', '', '', '', '', '', '', '', '']\n",
      "['what is digital media marketing', 'gb', '66', '30', '2.5', 'NaN', 'NaN', 'NaN', 'digital marketing', '2020-04-15 17:48:01', 'Adwords top, Sitelinks, Featured snippet, Thumbnails, Top stories', '', '', '', '', '', '', '', '', '', '', '', '', '', '', '', '', '', '', '', '']\n",
      "['paid market research nottingham', 'gb', '5', '20', '2.5', 'NaN', 'NaN', 'NaN', 'market research nottingham', 'NaN', 'NaN', '', '', '', '', '', '', '', '', '', '', '', '', '', '', '', '', '', '', '', '']\n",
      "['key digital', 'gb', '4', '1300', '2', '727', '0.58', '4.14', 'key digital', '2020-05-04 18:01:42', 'Sitelinks, Top stories, Thumbnails', '', '', '', '', '', '', '', '', '', '', '', '', '', '', '', '', '', '', '', '']\n",
      "['marketing blogs', 'gb', '30', '300', '2', '382', '1.35', '1.2', 'marketing blogs', '2020-04-28 10:39:10', 'Sitelinks', '', '', '', '', '', '', '', '', '', '', '', '', '', '', '', '', '', '', '', '']\n",
      "['hibspot', 'gb', '67', '300', '2', '265', '0.82', '1.7', 'hubspot', '2020-04-28 19:35:38', 'Adwords top, Sitelinks, Top stories, Thumbnails, People also ask, Tweet box, Image pack', '', '', '', '', '', '', '', '', '', '', '', '', '', '', '', '', '', '', '', '']\n",
      "['media companies near me', 'gb', '29', '150', '2', '184', '1.24', '1.43', 'social media management', '2020-04-17 08:51:38', 'NaN', '', '', '', '', '', '', '', '', '', '', '', '', '', '', '', '', '', '', '', '']\n",
      "['coast logo', 'gb', '0', '100', '2', '68', '0.62', '1.13', 'coast logo', '2020-04-30 14:57:31', 'Sitelinks', '', '', '', '', '', '', '', '', '', '', '', '', '', '', '', '', '', '', '', '']\n",
      "['online campaign', 'gb', '42', '90', '2', '45', '0.5', '1.04', 'online marketing campaign', '2020-04-18 03:33:53', 'People also ask', '', '', '', '', '', '', '', '', '', '', '', '', '', '', '', '', '', '', '', '']\n",
      "['digital london', 'gb', '36', '90', '2', 'NaN', 'NaN', 'NaN', 'digital london', '2020-04-28 10:50:27', 'Adwords top, Sitelinks', '', '', '', '', '', '', '', '', '', '', '', '', '', '', '', '', '', '', '', '']\n",
      "['coast near london', 'gb', '2', '80', '2', 'NaN', 'NaN', 'NaN', 'beaches near london', '2020-04-26 03:43:38', 'Featured snippet, Thumbnails, People also ask', '', '', '', '', '', '', '', '', '', '', '', '', '', '', '', '', '', '', '', '']\n",
      "['internet marketing london', 'gb', '54', '40', '2', 'NaN', 'NaN', 'NaN', 'digital marketing agency', '2020-04-30 15:02:47', 'Featured snippet, Thumbnails, Sitelinks', '', '', '', '', '', '', '', '', '', '', '', '', '', '', '', '', '', '', '', '']\n",
      "['media and marketing', 'gb', '10', '40', '2', 'NaN', 'NaN', 'NaN', 'media and marketing', '2020-05-08 18:57:52', 'Featured snippet, People also ask', '', '', '', '', '', '', '', '', '', '', '', '', '', '', '', '', '', '', '', '']\n",
      "['digital marketing agency services', 'gb', 'NaN', '20', '2', 'NaN', 'NaN', 'NaN', 'NaN', 'NaN', 'NaN', '', '', '', '', '', '', '', '', '', '', '', '', '', '', '', '', '', '', '', '']\n",
      "['digital definition', 'gb', '34', '500', '1.9', '89', '0.18', '1.06', 'digital', '2020-05-09 07:11:07', 'Knowledge card, People also ask, Top stories, Thumbnails', '', '', '', '', '', '', '', '', '', '', '', '', '', '', '', '', '', '', '', '']\n",
      "['digital companies london', 'gb', '36', '90', '1.9', 'NaN', 'NaN', 'NaN', 'digital marketing agency london', '2020-04-17 17:59:32', 'NaN', '', '', '', '', '', '', '', '', '', '', '', '', '', '', '', '', '', '', '', '']\n",
      "['how to market a website', 'gb', '53', '70', '1.9', 'NaN', 'NaN', 'NaN', 'how to market a website', '2020-04-20 03:10:05', 'Featured snippet, Thumbnails, People also ask, Top stories, Image pack', '', '', '', '', '', '', '', '', '', '', '', '', '', '', '', '', '', '', '', '']\n",
      "['marketing a service', 'gb', '25', '30', '1.9', 'NaN', 'NaN', 'NaN', 'services marketing', '2020-04-19 21:20:33', 'Featured snippet, Thumbnails, People also ask, Videos', '', '', '', '', '', '', '', '', '', '', '', '', '', '', '', '', '', '', '', '']\n",
      "['what is digital advertising', 'gb', '12', '100', '1.8', '99', '1', '1.29', 'what is digital advertising', '2020-05-08 01:19:59', 'People also ask, Sitelinks, Top stories, Thumbnails', '', '', '', '', '', '', '', '', '', '', '', '', '', '', '', '', '', '', '', '']\n",
      "['market details', 'gb', '41', '60', '1.8', 'NaN', 'NaN', 'NaN', 'android market', '2020-04-17 05:39:47', 'Top stories, Thumbnails', '', '', '', '', '', '', '', '', '', '', '', '', '', '', '', '', '', '', '', '']\n",
      "['top marketing firms uk', 'gb', '6', '30', '1.8', 'NaN', 'NaN', 'NaN', 'marketing agency', '2020-05-07 01:36:09', 'Featured snippet, Thumbnails, People also ask', '', '', '', '', '', '', '', '', '', '', '', '', '', '', '', '', '', '', '', '']\n",
      "['marketing concept definition', 'gb', '19', '100', '1.6', 'NaN', 'NaN', 'NaN', 'marketing concept', '2020-04-25 13:00:23', 'Featured snippet, Thumbnails, People also ask, Top stories', '', '', '', '', '', '', '', '', '', '', '', '', '', '', '', '', '', '', '', '']\n",
      "['types of digital media', 'gb', '24', '90', '1.6', 'NaN', 'NaN', 'NaN', 'digital media', '2020-04-17 02:05:24', 'Featured snippet, Thumbnails, People also ask, Sitelinks, Image pack, Videos', '', '', '', '', '', '', '', '', '', '', '', '', '', '', '', '', '', '', '', '']\n",
      "['types of online marketing', 'gb', '31', '60', '1.6', 'NaN', 'NaN', 'NaN', 'types of digital marketing', '2020-04-15 06:48:02', 'Adwords top, Sitelinks, Featured snippet, Thumbnails, People also ask', '', '', '', '', '', '', '', '', '', '', '', '', '', '', '', '', '', '', '', '']\n",
      "['digital marketing methods', 'gb', '67', '60', '1.6', 'NaN', 'NaN', 'NaN', 'digital marketing strategy', '2020-05-07 23:24:30', 'Featured snippet, Thumbnails, People also ask, Image pack', '', '', '', '', '', '', '', '', '', '', '', '', '', '', '', '', '', '', '', '']\n",
      "['full-service', 'gb', '3', '40', '1.5', 'NaN', 'NaN', 'NaN', 'the full service', '2020-04-20 13:59:29', 'Adwords top, Sitelinks, People also ask', '', '', '', '', '', '', '', '', '', '', '', '', '', '', '', '', '', '', '', '']\n",
      "['digital technology definition', 'gb', '12', '350', '1.4', '207', '0.57', '1.11', 'digital technology', '2020-04-23 10:34:31', 'Featured snippet, People also ask, Top stories, Thumbnails', '', '', '', '', '', '', '', '', '', '', '', '', '', '', '', '', '', '', '', '']\n",
      "['essex digital awards', 'gb', '0', '90', '1.4', 'NaN', 'NaN', 'NaN', 'essex digital awards', '2020-04-23 12:35:02', 'Image pack', '', '', '', '', '', '', '', '', '', '', '', '', '', '', '', '', '', '', '', '']\n",
      "['agency services', 'gb', '1', '70', '1.4', 'NaN', 'NaN', 'NaN', 'agency services', '2020-05-10 18:43:53', 'People also ask', '', '', '', '', '', '', '', '', '', '', '', '', '', '', '', '', '', '', '', '']\n",
      "['the who .com', 'gb', '77', '150', '1.3', 'NaN', 'NaN', 'NaN', 'the who', '2020-04-19 21:42:36', 'Sitelinks, Top stories, Thumbnails', '', '', '', '', '', '', '', '', '', '', '', '', '', '', '', '', '', '', '', '']\n",
      "['why digital marketing is important', 'gb', '43', '70', '1.3', 'NaN', 'NaN', 'NaN', 'role of digital marketing', '2020-05-10 12:35:02', 'Featured snippet, Thumbnails, People also ask', '', '', '', '', '', '', '', '', '', '', '', '', '', '', '', '', '', '', '', '']\n",
      "['marketing concept examples', 'gb', '22', '50', '1.3', 'NaN', 'NaN', 'NaN', 'marketing concepts', '2020-04-15 13:23:14', 'Featured snippet, Thumbnails, People also ask, Top stories, Image pack', '', '', '', '', '', '', '', '', '', '', '', '', '', '', '', '', '', '', '', '']\n",
      "['interactive media examples', 'gb', '9', '40', '1.3', 'NaN', 'NaN', 'NaN', 'interactive media', '2020-04-19 11:45:53', 'Featured snippet, People also ask, Top stories, Thumbnails, Videos', '', '', '', '', '', '', '', '', '', '', '', '', '', '', '', '', '', '', '', '']\n",
      "['digital uk', 'gb', '24', '3100', '1.2', '2402', '0.78', '1.32', 'digital uk', '2020-05-09 01:27:37', 'Sitelinks, People also ask', '', '', '', '', '', '', '', '', '', '', '', '', '', '', '', '', '', '', '', '']\n",
      "['online media', 'gb', '22', '300', '1.2', '92', '0.33', '1.13', 'digital media', '2020-04-26 07:13:11', 'Sitelinks, People also ask, Top stories, Thumbnails', '', '', '', '', '', '', '', '', '', '', '', '', '', '', '', '', '', '', '', '']\n",
      "['the who com', 'gb', '75', '150', '1.2', 'NaN', 'NaN', 'NaN', 'the who', '2020-04-29 03:17:16', 'Sitelinks, Tweet box, Top stories, Thumbnails', '', '', '', '', '', '', '', '', '', '', '', '', '', '', '', '', '', '', '', '']\n",
      "['digital blog', 'gb', '47', '90', '1.2', 'NaN', 'NaN', 'NaN', 'digital marketing', '2020-05-01 19:11:57', 'NaN', '', '', '', '', '', '', '', '', '', '', '', '', '', '', '', '', '', '', '', '']\n",
      "['internet businesses', 'gb', '59', '60', '1.2', 'NaN', 'NaN', 'NaN', 'online business ideas', '2020-05-02 05:59:48', 'Featured snippet, Thumbnails, People also ask, Sitelinks, Top stories, Adwords bottom', '', '', '', '', '', '', '', '', '', '', '', '', '', '', '', '', '', '', '', '']\n",
      "['best digital market', 'gb', '6', '30', '1.2', 'NaN', 'NaN', 'NaN', 'best digital market', '2020-04-25 07:31:44', 'Top stories, Thumbnails', '', '', '', '', '', '', '', '', '', '', '', '', '', '', '', '', '', '', '', '']\n",
      "['website meaning', 'gb', '49', '150', '1.1', '18', '0.14', '1.08', 'website - definition', '2020-04-25 14:15:39', 'Knowledge card, People also ask, Sitelinks', '', '', '', '', '', '', '', '', '', '', '', '', '', '', '', '', '', '', '', '']\n",
      "['digital marketing terms', 'gb', '10', '50', '1.1', 'NaN', 'NaN', 'NaN', 'digital marketing terms', '2020-05-08 00:08:11', 'Featured snippet, Thumbnails', '', '', '', '', '', '', '', '', '', '', '', '', '', '', '', '', '', '', '', '']\n",
      "['digital online', 'gb', '57', '40', '1.1', 'NaN', 'NaN', 'NaN', 'google digital garage', '2020-04-24 23:51:14', 'People also ask, Sitelinks', '', '', '', '', '', '', '', '', '', '', '', '', '', '', '', '', '', '', '', '']\n",
      "['online marketing london', 'gb', '41', '100', '1', 'NaN', 'NaN', 'NaN', 'online marketing london', '2020-04-23 10:40:58', 'NaN', '', '', '', '', '', '', '', '', '', '', '', '', '', '', '', '', '', '', '', '']\n",
      "['digital media sales', 'gb', '0', '30', '1', 'NaN', 'NaN', 'NaN', 'digital media sales', '2020-04-16 05:52:39', 'People also ask', '', '', '', '', '', '', '', '', '', '', '', '', '', '', '', '', '', '', '', '']\n",
      "['marketing meaning', 'gb', '70', '600', '0.9', '234', '0.37', '1.17', 'marketing', '2020-05-07 09:37:34', 'Knowledge card, People also ask, Sitelinks, Top stories, Thumbnails', '', '', '', '', '', '', '', '', '', '', '', '', '', '', '', '', '', '', '', '']\n",
      "['head of digital marketing', 'gb', '0', '150', '0.9', '53', '0.39', '1.24', 'head of digital marketing', '2020-04-16 22:07:17', 'NaN', '', '', '', '', '', '', '', '', '', '', '', '', '', '', '', '', '', '', '', '']\n",
      "['marketing vs advertising', 'gb', '22', '100', '0.9', '67', '0.55', '1.06', 'difference between marketing and advertising', '2020-04-26 13:23:01', 'Featured snippet, Thumbnails, People also ask, Top stories', '', '', '', '', '', '', '', '', '', '', '', '', '', '', '', '', '', '', '', '']\n",
      "['digtal', 'gb', '80', '70', '0.9', 'NaN', 'NaN', 'NaN', 'digital', '2020-05-07 22:16:24', 'Sitelinks, People also ask, Image pack', '', '', '', '', '', '', '', '', '', '', '', '', '', '', '', '', '', '', '', '']\n",
      "['digital marketing ipswich', 'gb', '28', '50', '0.9', 'NaN', 'NaN', 'NaN', 'digital marketing ipswich', '2020-05-10 10:01:10', 'Image pack', '', '', '', '', '', '', '', '', '', '', '', '', '', '', '', '', '', '', '', '']\n",
      "['the who net', 'gb', '44', '30', '0.9', 'NaN', 'NaN', 'NaN', 'the who', '2020-04-19 15:41:18', 'Sitelinks', '', '', '', '', '', '', '', '', '', '', '', '', '', '', '', '', '', '', '', '']\n",
      "['what is digital media', 'gb', '13', '400', '0.8', '226', '0.54', '1.22', 'digital media', '2020-05-04 08:46:49', 'Sitelinks, People also ask, Top stories, Thumbnails', '', '', '', '', '', '', '', '', '', '', '', '', '', '', '', '', '', '', '', '']\n",
      "['coast london', 'gb', '7', '200', '0.8', '152', '0.75', '1.13', 'coast', '2020-04-26 13:01:23', 'Sitelinks, People also ask, Image pack', '', '', '', '', '', '', '', '', '', '', '', '', '', '', '', '', '', '', '', '']\n",
      "['digital uk website', 'gb', '67', '150', '0.8', '150', '1.18', '1.08', 'digital uk', '2020-04-29 17:18:51', 'Sitelinks, People also ask', '', '', '', '', '', '', '', '', '', '', '', '', '', '', '', '', '', '', '', '']\n",
      "['who is website', 'gb', '95', '150', '0.8', '202', '1.25', '1.12', 'whois', '2020-04-22 17:23:17', 'Sitelinks', '', '', '', '', '', '', '', '', '', '', '', '', '', '', '', '', '', '', '', '']\n",
      "['coast head office london', 'gb', '5', '60', '0.8', 'NaN', 'NaN', 'NaN', 'coast customer services', '2020-04-15 05:26:58', 'NaN', '', '', '', '', '', '', '', '', '', '', '', '', '', '', '', '', '', '', '', '']\n",
      "['information marketing', 'gb', '24', '40', '0.7', 'NaN', 'NaN', 'NaN', 'information marketing', '2020-04-19 11:35:27', 'Featured snippet, Thumbnails, People also ask, Top stories', '', '', '', '', '', '', '', '', '', '', '', '', '', '', '', '', '', '', '', '']\n",
      "['search social media by email', 'gb', '36', '70', '0.6', 'NaN', 'NaN', 'NaN', 'username search', '2020-04-15 22:39:32', 'Adwords top, Featured snippet, Thumbnails, People also ask', '', '', '', '', '', '', '', '', '', '', '', '', '', '', '', '', '', '', '', '']\n",
      "['social media marketing bristol', 'gb', '0', '60', '0.6', 'NaN', 'NaN', 'NaN', 'social media marketing bristol', '2020-05-09 17:28:24', 'NaN', '', '', '', '', '', '', '', '', '', '', '', '', '', '', '', '', '', '', '', '']\n",
      "['digital media definition', 'gb', '10', '200', '0.5', '73', '0.34', '1.13', 'digital media', '2020-04-28 06:10:21', 'Sitelinks, People also ask, Videos, Top stories, Thumbnails', '', '', '', '', '', '', '', '', '', '', '', '', '', '', '', '', '', '', '', '']\n",
      "['passion digital', 'gb', '1', '450', '0.35', '391', '0.83', '1.43', 'digital marketing agency', '2020-05-01 07:33:02', 'Adwords top, Sitelinks, Top stories, Thumbnails', '', '', '', '', '', '', '', '', '', '', '', '', '', '', '', '', '', '', '', '']\n",
      "['www coast co uk', 'gb', '4', '300', '0.35', 'NaN', 'NaN', 'NaN', 'coast', '2020-04-16 15:46:51', 'Sitelinks', '', '', '', '', '', '', '', '', '', '', '', '', '', '', '', '', '', '', '', '']\n",
      "['email meaning', 'gb', '29', '200', '0.35', '23', '0.12', '1.14', 'definition of email', '2020-05-02 09:05:41', 'Knowledge card, People also ask, Sitelinks, Top stories, Thumbnails', '', '', '', '', '', '', '', '', '', '', '', '', '', '', '', '', '', '', '', '']\n",
      "['coasr', 'gb', '42', '150', '0.25', '89', '0.55', '1.1', 'coast', '2020-04-29 23:11:46', 'Sitelinks, People also ask, Top stories, Thumbnails', '', '', '', '', '', '', '', '', '', '', '', '', '', '', '', '', '', '', '', '']\n",
      "['caost', 'gb', '42', '100', '0.2', '89', '0.75', '1.14', 'coast', '2020-04-20 13:12:03', 'Sitelinks, People also ask, Image pack, Top stories, Thumbnails', '', '', '', '', '', '', '', '', '', '', '', '', '', '', '', '', '', '', '', '']\n",
      "['coast website', 'gb', '61', '90', '0.2', 'NaN', 'NaN', 'NaN', 'coast', '2020-04-24 21:14:24', 'Sitelinks', '', '', '', '', '', '', '', '', '', '', '', '', '', '', '', '', '', '', '', '']\n",
      "['ccoast', 'gb', '42', '40', '0.2', 'NaN', 'NaN', 'NaN', 'coast', '2020-04-22 03:22:21', 'Sitelinks, People also ask, Image pack', '', '', '', '', '', '', '', '', '', '', '', '', '', '', '', '', '', '', '', '']\n",
      "['coast uk', 'gb', '21', '1400', '0.15', '1290', '0.93', '1.6', 'coast', '2020-05-10 07:36:46', 'Sitelinks, Image pack', '', '', '', '', '', '', '', '', '', '', '', '', '', '', '', '', '', '', '', '']\n",
      "['who is this', 'gb', '94', '1000', '0.15', '487', '0.47', '1.12', 'whois', '2020-05-10 11:17:08', 'Sitelinks, Top stories, Thumbnails', '', '', '', '', '', '', '', '', '', '', '', '', '', '', '', '', '', '', '', '']\n",
      "['coast online', 'gb', '2', '200', '0.15', '190', '0.86', '1.69', 'coast', '2020-05-01 16:30:44', 'Sitelinks', '', '', '', '', '', '', '', '', '', '', '', '', '', '', '', '', '', '', '', '']\n",
      "['coadt', 'gb', '43', '150', '0.15', '111', '0.75', '1.07', 'coast', '2020-05-01 03:16:24', 'Sitelinks', '', '', '', '', '', '', '', '', '', '', '', '', '', '', '', '', '', '', '', '']\n",
      "['www coast com', 'gb', '2', '90', '0.15', 'NaN', 'NaN', 'NaN', 'coast', '2020-04-15 20:15:11', 'Sitelinks', '', '', '', '', '', '', '', '', '', '', '', '', '', '', '', '', '', '', '', '']\n",
      "['internet channels', 'gb', '56', '50', '0.15', 'NaN', 'NaN', 'NaN', 'best wifi channel', '2020-05-06 13:13:35', 'Featured snippet, Thumbnails, People also ask, Sitelinks, Top stories', '', '', '', '', '', '', '', '', '', '', '', '', '', '', '', '', '', '', '', '']\n",
      "['www coast', 'gb', '4', '300', '0.1', 'NaN', 'NaN', 'NaN', 'coast', '2020-04-24 04:09:23', 'Sitelinks', '', '', '', '', '', '', '', '', '', '', '', '', '', '', '', '', '', '', '', '']\n",
      "['marketing essex', 'gb', '26', '90', '0.1', 'NaN', 'NaN', 'NaN', 'marketing essex', '2020-05-06 15:58:34', 'NaN', '', '', '', '', '', '', '', '', '', '', '', '', '', '', '', '', '', '', '', '']\n",
      "['form digital', 'gb', '0', '70', '0.06', 'NaN', 'NaN', 'NaN', 'form digital', '2020-04-17 02:54:52', 'Sitelinks, Image pack, Top stories, Thumbnails', '', '', '', '', '', '', '', '', '', '', '', '', '', '', '', '', '', '', '', '']\n",
      "['examples of digital media', 'gb', '9', '60', '0.02', 'NaN', 'NaN', 'NaN', 'digital media examples', '2020-04-27 11:46:15', 'Featured snippet, Thumbnails, People also ask, Top stories', '', '', '', '', '', '', '', '', '', '', '', '', '', '', '', '', '', '', '', '']\n",
      "['and digital', 'gb', '11', '3100', '0', '3219', '1.03', '1.45', 'and digital', '2020-05-09 12:29:16', 'Sitelinks, Image pack', '', '', '', '', '', '', '', '', '', '', '', '', '', '', '', '', '', '', '', '']\n",
      "['what is this', 'gb', '39', '1400', '0', '311', '0.22', '1.08', 'what is this', '2020-05-04 14:29:05', 'Sitelinks, People also ask, Top stories, Thumbnails', '', '', '', '', '', '', '', '', '', '', '', '', '', '', '', '', '', '', '', '']\n",
      "['climb online', 'gb', '3', '1300', '0', '1228', '0.95', '1.2', 'climb online', '2020-05-04 21:52:16', 'Sitelinks, Top stories, Thumbnails', '', '', '', '', '', '', '', '', '', '', '', '', '', '', '', '', '', '', '', '']\n",
      "['company meaning', 'gb', '55', '1200', '0', '158', '0.13', '1.11', 'مؤسسة', '2020-05-08 16:52:22', 'Knowledge card, People also ask, Sitelinks, Top stories, Thumbnails', '', '', '', '', '', '', '', '', '', '', '', '', '', '', '', '', '', '', '', '']\n",
      "['digital meaning', 'gb', '29', '800', '0', '230', '0.29', '1.07', 'digital', '2020-05-10 00:31:54', 'Knowledge card, People also ask, Top stories, Thumbnails', '', '', '', '', '', '', '', '', '', '', '', '', '', '', '', '', '', '', '', '']\n",
      "['which or what', 'gb', '9', '700', '0', '495', '0.68', '1.14', 'which or what', '2020-05-06 06:18:54', 'Featured snippet, People also ask, Top stories, Thumbnails', '', '', '', '', '', '', '', '', '', '', '', '', '', '', '', '', '', '', '', '']\n",
      "['more definition', 'gb', '22', '600', '0', '79', '0.14', '1.15', 'more', '2020-05-09 16:34:04', 'Knowledge card, Sitelinks, People also ask', '', '', '', '', '', '', '', '', '', '', '', '', '', '', '', '', '', '', '', '']\n",
      "['coast digital', 'gb', '1', '500', '0', '458', '0.91', '1.66', 'digital marketing agency', '2020-05-07 05:21:09', 'Sitelinks, Image pack', '', '', '', '', '', '', '', '', '', '', '', '', '', '', '', '', '', '', '', '']\n",
      "['define business', 'gb', '64', '400', '0', '46', '0.11', '1.1', 'business definition', '2020-04-30 23:54:18', 'Knowledge card, People also ask, Sitelinks, Top stories, Thumbnails', '', '', '', '', '', '', '', '', '', '', '', '', '', '', '', '', '', '', '', '']\n",
      "['market meaning', 'gb', '0', '400', '0', '102', '0.27', '1.17', 'market', '2020-05-02 12:47:26', 'Knowledge card, People also ask, Top stories, Thumbnails', '', '', '', '', '', '', '', '', '', '', '', '', '', '', '', '', '', '', '', '']\n",
      "['define more', 'gb', '85', '350', '0', '25', '0.07', '1.39', 'more', '2020-05-07 08:19:44', 'Knowledge card, Sitelinks, People also ask', '', '', '', '', '', '', '', '', '', '', '', '', '', '', '', '', '', '', '', '']\n",
      "['on digital', 'gb', '62', '300', '0', '229', '0.71', '1.09', 'itv digital', '2020-04-21 02:44:49', 'Sitelinks, People also ask, Top stories, Thumbnails, Image pack', '', '', '', '', '', '', '', '', '', '', '', '', '', '', '', '', '', '', '', '']\n",
      "['define numerous', 'gb', '21', '300', '0', '17', '0.06', '1.16', 'numerous', '2020-05-01 19:04:37', 'Knowledge card, People also ask, Top stories, Thumbnails', '', '', '', '', '', '', '', '', '', '', '', '', '', '', '', '', '', '', '', '']\n",
      "['what is digital', 'gb', '30', '300', '0', '310', '1', '1.23', 'digital', '2020-04-30 23:40:03', 'People also ask, Sitelinks, Top stories, Thumbnails', '', '', '', '', '', '', '', '', '', '', '', '', '', '', '', '', '', '', '', '']\n",
      "['what does digital mean', 'gb', '22', '250', '0', '120', '0.52', '1.23', 'digital', '2020-05-06 03:27:25', 'Knowledge card, People also ask, Top stories, Thumbnails, Image pack', '', '', '', '', '', '', '', '', '', '', '', '', '', '', '', '', '', '', '', '']\n",
      "['define digital', 'gb', '42', '250', '0', '84', '0.33', '1.24', 'digital', '2020-04-28 12:56:47', 'Knowledge card, People also ask, Top stories, Thumbnails', '', '', '', '', '', '', '', '', '', '', '', '', '', '', '', '', '', '', '', '']\n",
      "['digital campaign', 'gb', '41', '200', '0', '134', '0.76', '1.2', 'digital campaign', '2020-04-22 16:30:04', 'People also ask, Image pack', '', '', '', '', '', '', '', '', '', '', '', '', '', '', '', '', '', '', '', '']\n",
      "['can definition', 'gb', '19', '200', '0', '28', '0.14', '1.09', 'can', '2020-05-01 08:25:22', 'Knowledge card, Sitelinks, People also ask', '', '', '', '', '', '', '', '', '', '', '', '', '', '', '', '', '', '', '', '']\n",
      "['world of digital', 'gb', '33', '200', '0', 'NaN', 'NaN', 'NaN', 'world of digital', '2020-05-05 14:28:57', 'Sitelinks, Top stories, Thumbnails', '', '', '', '', '', '', '', '', '', '', '', '', '', '', '', '', '', '', '', '']\n",
      "['digital space', 'gb', '4', '150', '0', '75', '0.5', '1.24', 'digital space', '2020-04-27 12:07:54', 'Sitelinks, People also ask, Image pack', '', '', '', '', '', '', '', '', '', '', '', '', '', '', '', '', '', '', '', '']\n",
      "['digital media examples', 'gb', '17', '150', '0', '123', '0.86', '1.06', 'digital media examples', '2020-04-21 18:52:26', 'Featured snippet, Thumbnails, People also ask', '', '', '', '', '', '', '', '', '', '', '', '', '', '', '', '', '', '', '', '']\n",
      "['define all', 'gb', '23', '150', '0', '26', '0.16', '1.26', 'all', '2020-04-28 09:46:15', 'Knowledge card, Sitelinks, People also ask, Top stories, Thumbnails', '', '', '', '', '', '', '', '', '', '', '', '', '', '', '', '', '', '', '', '']\n",
      "['whats more', 'gb', '0', '150', '0', '41', '0.28', '1.1', \"what's more\", '2020-04-26 16:57:16', 'Knowledge card, People also ask, Top stories, Thumbnails', '', '', '', '', '', '', '', '', '', '', '', '', '', '', '', '', '', '', '', '']\n",
      "['post meaning after', 'gb', '37', '150', '0', '34', '0.21', '1.2', 'post', '2020-05-01 14:52:01', 'Featured snippet, People also ask, Videos', '', '', '', '', '', '', '', '', '', '', '', '', '', '', '', '', '', '', '', '']\n",
      "[\"what's the time today\", 'gb', '68', '150', '0', 'NaN', 'NaN', 'NaN', 'time', '2020-04-19 05:39:57', 'Knowledge card, Sitelinks, People also ask', '', '', '', '', '', '', '', '', '', '', '', '', '', '', '', '', '', '', '', '']\n",
      "['online post', 'gb', '77', '150', '0', '138', '0.94', '2.35', 'click and drop', '2020-04-17 00:38:55', 'Sitelinks', '', '', '', '', '', '', '', '', '', '', '', '', '', '', '', '', '', '', '', '']\n",
      "['full fat pr', 'gb', '0', '150', '0', '184', '1.17', '1.3', 'full fat', '2020-04-30 15:45:29', 'Sitelinks, Top stories, Thumbnails, Videos', '', '', '', '', '', '', '', '', '', '', '', '', '', '', '', '', '', '', '', '']\n",
      "['garish definition', 'gb', '9', '150', '0', '28', '0.17', '1.1', 'garish', '2020-05-04 01:27:31', 'Knowledge card, People also ask, Videos', '', '', '', '', '', '', '', '', '', '', '', '', '', '', '', '', '', '', '', '']\n",
      "['info meaning', 'gb', '4', '150', '0', '54', '0.32', '1.11', 'info meaning', '2020-04-28 02:17:15', 'Knowledge card, People also ask, Videos', '', '', '', '', '', '', '', '', '', '', '', '', '', '', '', '', '', '', '', '']\n",
      "['why digital marketing', 'gb', '63', '150', '0', '102', '0.68', '1.05', 'digital marketing', '2020-05-01 08:08:36', 'Featured snippet, Thumbnails, People also ask, Sitelinks, Top stories', '', '', '', '', '', '', '', '', '', '', '', '', '', '', '', '', '', '', '', '']\n",
      "['methods digital', 'gb', '0', '150', '0', '166', '1.12', '1.5', 'methods', '2020-04-25 00:22:36', 'Sitelinks', '', '', '', '', '', '', '', '', '', '', '', '', '', '', '', '', '', '', '', '']\n",
      "['whowhatwhy', 'gb', '17', '150', '0', 'NaN', 'NaN', 'NaN', 'whowhatwhy', '2020-04-25 19:07:23', 'Sitelinks, Tweet box, Top stories, Thumbnails, Image pack, Videos', '', '', '', '', '', '', '', '', '', '', '', '', '', '', '', '', '', '', '', '']\n",
      "['definition of digital marketing', 'gb', '66', '100', '0', '102', '0.97', '1.35', 'digital marketing', '2020-04-21 08:06:04', 'Sitelinks, People also ask, Top stories, Thumbnails', '', '', '', '', '', '', '', '', '', '', '', '', '', '', '', '', '', '', '', '']\n",
      "['define digital marketing', 'gb', '64', '100', '0', '65', '0.58', '1.22', 'digital marketing', '2020-04-26 19:21:19', 'Adwords top, People also ask, Sitelinks, Top stories, Thumbnails', '', '', '', '', '', '', '', '', '', '', '', '', '', '', '', '', '', '', '', '']\n",
      "['what does comprise mean', 'gb', '14', '100', '0', '7', '0.06', '1.1', 'comprise', '2020-04-23 01:17:28', 'Knowledge card, People also ask, Top stories, Thumbnails', '', '', '', '', '', '', '', '', '', '', '', '', '', '', '', '', '', '', '', '']\n",
      "['hubspot marketing blog', 'gb', '79', '100', '0', 'NaN', 'NaN', 'NaN', 'marketing blog', '2020-04-17 04:19:42', 'Sitelinks, Image pack', '', '', '', '', '', '', '', '', '', '', '', '', '', '', '', '', '', '', '', '']\n",
      "['why work in digital marketing', 'gb', '0', '100', '0', '157', '1.5', '1.67', 'why work in digital marketing', '2020-04-28 15:00:24', 'Featured snippet, Thumbnails, People also ask', '', '', '', '', '', '', '', '', '', '', '', '', '', '', '', '', '', '', '', '']\n",
      "['definition of a business', 'gb', '65', '100', '0', 'NaN', 'NaN', 'NaN', 'business definition', '2020-05-05 22:14:51', 'Knowledge card, People also ask, Sitelinks, Videos', '', '', '', '', '', '', '', '', '', '', '', '', '', '', '', '', '', '', '', '']\n",
      "['definition of digital', 'gb', '34', '100', '0', 'NaN', 'NaN', 'NaN', 'digital', '2020-04-19 23:09:45', 'Knowledge card, People also ask', '', '', '', '', '', '', '', '', '', '', '', '', '', '', '', '', '', '', '', '']\n",
      "['define online', 'gb', '23', '100', '0', '12', '0.13', '1.1', 'online', '2020-04-20 23:59:40', 'Knowledge card, People also ask, Top stories, Thumbnails', '', '', '', '', '', '', '', '', '', '', '', '', '', '', '', '', '', '', '', '']\n",
      "['what does according mean', 'gb', '5', '100', '0', '22', '0.19', '1.13', 'according', '2020-04-25 04:31:14', 'Knowledge card, People also ask, Videos', '', '', '', '', '', '', '', '', '', '', '', '', '', '', '', '', '', '', '', '']\n",
      "['define including', 'gb', '22', '100', '0', '18', '0.15', '1.17', 'including', '2020-04-25 20:36:21', 'Knowledge card, People also ask, Sitelinks', '', '', '', '', '', '', '', '', '', '', '', '', '', '', '', '', '', '', '', '']\n",
      "['define an english person', 'gb', '2', '100', '0', 'NaN', 'NaN', 'NaN', 'define an english person', '2020-05-05 01:37:11', 'NaN', '', '', '', '', '', '', '', '', '', '', '', '', '', '', '', '', '', '', '', '']\n",
      "['marketing media', 'gb', '84', '90', '0', 'NaN', 'NaN', 'NaN', 'the drum', '2020-05-08 11:58:48', 'Featured snippet, People also ask, Top stories, Thumbnails', '', '', '', '', '', '', '', '', '', '', '', '', '', '', '', '', '', '', '', '']\n",
      "['define encompasses', 'gb', '9', '90', '0', '9', '0.1', '1.15', 'encompass', '2020-04-26 10:25:26', 'Knowledge card, People also ask', '', '', '', '', '', '', '', '', '', '', '', '', '', '', '', '', '', '', '', '']\n",
      "['what is flr', 'gb', '21', '90', '0', '42', '0.48', '1.1', 'for', '2020-05-10 19:53:24', 'Featured snippet, People also ask, Top stories, Thumbnails', '', '', '', '', '', '', '', '', '', '', '', '', '', '', '', '', '', '', '', '']\n",
      "['get on with it meaning', 'gb', '0', '90', '0', 'NaN', 'NaN', 'NaN', 'get on with it', '2020-05-07 12:38:23', 'Featured snippet, People also ask, Videos', '', '', '', '', '', '', '', '', '', '', '', '', '', '', '', '', '', '', '', '']\n",
      "['marketing sector', 'gb', '10', '90', '0', 'NaN', 'NaN', 'NaN', 'marketing industry', '2020-04-19 22:18:14', 'Featured snippet, Thumbnails, People also ask, Sitelinks, Image pack', '', '', '', '', '', '', '', '', '', '', '', '', '', '', '', '', '', '', '', '']\n",
      "['what does comprised mean', 'gb', '22', '90', '0', 'NaN', 'NaN', 'NaN', 'comprised', '2020-04-21 05:24:47', 'Knowledge card, People also ask', '', '', '', '', '', '', '', '', '', '', '', '', '', '', '', '', '', '', '', '']\n",
      "['is website up', 'gb', '92', '90', '0', 'NaN', 'NaN', 'NaN', 'is it down', '2020-04-23 17:09:16', 'Sitelinks, People also ask', '', '', '', '', '', '', '', '', '', '', '', '', '', '', '', '', '', '', '', '']\n",
      "['define digital media', 'gb', '13', '90', '0', 'NaN', 'NaN', 'NaN', 'digital media', '2020-05-03 03:27:41', 'Sitelinks, People also ask, Top stories, Thumbnails', '', '', '', '', '', '', '', '', '', '', '', '', '', '', '', '', '', '', '', '']\n",
      "['make it up to you meaning', 'gb', '0', '90', '0', '22', '0.24', '1.21', 'make it up to you', '2020-05-07 08:29:24', 'Featured snippet, People also ask, Videos', '', '', '', '', '', '', '', '', '', '', '', '', '', '', '', '', '', '', '', '']\n",
      "['online definition', 'gb', '16', '80', '0', '11', '0.14', '1.11', 'online', '2020-04-30 12:33:37', 'Knowledge card, People also ask, Sitelinks', '', '', '', '', '', '', '', '', '', '', '', '', '', '', '', '', '', '', '', '']\n",
      "['market trends definition', 'gb', '6', '80', '0', 'NaN', 'NaN', 'NaN', 'bull market', '2020-04-19 23:45:51', 'Sitelinks, People also ask, Top stories, Thumbnails', '', '', '', '', '', '', '', '', '', '', '', '', '', '', '', '', '', '', '', '']\n",
      "['what is digital content', 'gb', '5', '80', '0', 'NaN', 'NaN', 'NaN', 'what is digital content', '2020-05-07 14:49:11', 'People also ask, Sitelinks, Top stories, Thumbnails', '', '', '', '', '', '', '', '', '', '', '', '', '', '', '', '', '', '', '', '']\n",
      "['digital does', 'gb', '23', '80', '0', 'NaN', 'NaN', 'NaN', 'does', '2020-05-10 07:47:48', 'Sitelinks, Image pack', '', '', '', '', '', '', '', '', '', '', '', '', '', '', '', '', '', '', '', '']\n",
      "['business to business definition', 'gb', '51', '70', '0', 'NaN', 'NaN', 'NaN', 'b2b', '2020-04-21 04:22:37', 'People also ask, Top stories, Thumbnails', '', '', '', '', '', '', '', '', '', '', '', '', '', '', '', '', '', '', '', '']\n",
      "['what is the marketing concept', 'gb', '24', '70', '0', 'NaN', 'NaN', 'NaN', 'marketing concept', '2020-04-18 13:10:15', 'Featured snippet, Thumbnails, People also ask, Top stories, Image pack', '', '', '', '', '', '', '', '', '', '', '', '', '', '', '', '', '', '', '', '']\n",
      "['digitsl', 'gb', '89', '70', '0', 'NaN', 'NaN', 'NaN', 'digital', '2020-04-20 20:16:50', 'Sitelinks, People also ask, Top stories, Thumbnails, Image pack', '', '', '', '', '', '', '', '', '', '', '', '', '', '', '', '', '', '', '', '']\n",
      "['digital media services uk ltd', 'gb', '0', '70', '0', '65', '0.89', '1.12', 'dms', '2020-04-15 00:08:40', 'Adwords top, Sitelinks', '', '', '', '', '', '', '', '', '', '', '', '', '', '', '', '', '', '', '', '']\n",
      "['digital devices online', 'gb', '1', '70', '0', 'NaN', 'NaN', 'NaN', 'digital devices', '2020-04-24 17:46:48', 'Sitelinks, Top stories, Thumbnails', '', '', '', '', '', '', '', '', '', '', '', '', '', '', '', '', '', '', '', '']\n",
      "['define digital technology', 'gb', '12', '70', '0', 'NaN', 'NaN', 'NaN', 'digital technology', '2020-04-14 21:02:17', 'Featured snippet, People also ask', '', '', '', '', '', '', '', '', '', '', '', '', '', '', '', '', '', '', '', '']\n",
      "['online services definition', 'gb', '1', '70', '0', 'NaN', 'NaN', 'NaN', 'what is online services', '2020-05-09 06:29:57', 'People also ask', '', '', '', '', '', '', '', '', '', '', '', '', '', '', '', '', '', '', '', '']\n",
      "['digital media meaning', 'gb', '13', '70', '0', 'NaN', 'NaN', 'NaN', 'digital media', '2020-04-23 12:01:32', 'Sitelinks, People also ask, Top stories, Thumbnails', '', '', '', '', '', '', '', '', '', '', '', '', '', '', '', '', '', '', '', '']\n",
      "['description of a market', 'gb', '1', '60', '0', 'NaN', 'NaN', 'NaN', 'description of a market', '2020-04-17 21:16:47', 'Featured snippet, People also ask, Image pack', '', '', '', '', '', '', '', '', '', '', '', '', '', '', '', '', '', '', '', '']\n",
      "['internet marketing bristol', 'gb', '53', '60', '0', 'NaN', 'NaN', 'NaN', 'digirank', '2020-05-04 04:12:27', 'Sitelinks', '', '', '', '', '', '', '', '', '', '', '', '', '', '', '', '', '', '', '', '']\n",
      "['what does entails mean', 'gb', '11', '60', '0', 'NaN', 'NaN', 'NaN', 'entail', '2020-04-17 23:44:24', 'Knowledge card, People also ask', '', '', '', '', '', '', '', '', '', '', '', '', '', '', '', '', '', '', '', '']\n",
      "['new digital media', 'gb', '37', '60', '0', 'NaN', 'NaN', 'NaN', 'new media', '2020-05-10 11:50:02', 'Sitelinks, People also ask', '', '', '', '', '', '', '', '', '', '', '', '', '', '', '', '', '', '', '', '']\n",
      "['digital media industry', 'gb', '16', '60', '0', 'NaN', 'NaN', 'NaN', 'digital media', '2020-04-29 01:44:40', 'Sitelinks, People also ask, Top stories, Thumbnails', '', '', '', '', '', '', '', '', '', '', '', '', '', '', '', '', '', '', '', '']\n",
      "['lucy online free', 'gb', '2', '60', '0', 'NaN', 'NaN', 'NaN', 'watch lucy online free', '2020-04-17 19:02:30', 'Knowledge card, Top stories, Thumbnails, Adwords bottom, Sitelinks', '', '', '', '', '', '', '', '', '', '', '', '', '', '', '', '', '', '', '', '']\n",
      "['digital results', 'gb', '12', '60', '0', 'NaN', 'NaN', 'NaN', 'forge agency', '2020-04-25 05:14:29', 'Top stories, Thumbnails, Image pack', '', '', '', '', '', '', '', '', '', '', '', '', '', '', '', '', '', '', '', '']\n",
      "['online marketing blog', 'gb', '82', '60', '0', 'NaN', 'NaN', 'NaN', 'digital marketing blogs', '2020-04-26 22:47:18', 'Adwords top, Sitelinks', '', '', '', '', '', '', '', '', '', '', '', '', '', '', '', '', '', '', '', '']\n",
      "['what is &', 'gb', '36', '60', '0', 'NaN', 'NaN', 'NaN', 'ampersand', '2020-05-03 19:59:15', 'Sitelinks, People also ask, Top stories, Thumbnails', '', '', '', '', '', '', '', '', '', '', '', '', '', '', '', '', '', '', '', '']\n",
      "['work digital', 'gb', '3', '60', '0', 'NaN', 'NaN', 'NaN', 'work digital', '2020-04-19 08:34:05', 'Top stories, Thumbnails, Image pack', '', '', '', '', '', '', '', '', '', '', '', '', '', '', '', '', '', '', '', '']\n",
      "['areas of marketing', 'gb', '17', '60', '0', 'NaN', 'NaN', 'NaN', 'areas of marketing', '2020-05-06 04:55:48', 'Featured snippet, People also ask, Sitelinks, Image pack', '', '', '', '', '', '', '', '', '', '', '', '', '', '', '', '', '', '', '', '']\n",
      "['digital marketing images', 'gb', '4', '60', '0', 'NaN', 'NaN', 'NaN', 'digital marketing images', '2020-05-07 10:04:31', 'Image pack, Sitelinks', '', '', '', '', '', '', '', '', '', '', '', '', '', '', '', '', '', '', '', '']\n",
      "['internet marketing seo', 'gb', '81', '60', '0', 'NaN', 'NaN', 'NaN', 'internet marketing seo', '2020-05-07 06:25:11', 'Featured snippet, Thumbnails, People also ask, Sitelinks', '', '', '', '', '', '', '', '', '', '', '', '', '', '', '', '', '', '', '', '']\n",
      "['online web marketing', 'gb', '49', '60', '0', 'NaN', 'NaN', 'NaN', 'online web marketing', '2020-04-20 09:40:08', 'Adwords top, Sitelinks, People also ask, Adwords bottom', '', '', '', '', '', '', '', '', '', '', '', '', '', '', '', '', '', '', '', '']\n",
      "['digital sales', 'gb', '0', '60', '0', '20', '0.37', '1.12', 'digital sales', '2020-05-07 11:16:51', 'Featured snippet, People also ask, Top stories, Thumbnails, Image pack', '', '', '', '', '', '', '', '', '', '', '', '', '', '', '', '', '', '', '', '']\n",
      "['what is the who', 'gb', '50', '60', '0', 'NaN', 'NaN', 'NaN', 'who is who', '2020-04-20 18:25:37', 'Sitelinks, Tweet box', '', '', '', '', '', '', '', '', '', '', '', '', '', '', '', '', '', '', '', '']\n",
      "['marketing business definition', 'gb', '70', '50', '0', 'NaN', 'NaN', 'NaN', 'what is marketing', '2020-04-29 12:43:17', 'Featured snippet, Thumbnails, People also ask, Videos, Image pack', '', '', '', '', '', '', '', '', '', '', '', '', '', '', '', '', '', '', '', '']\n",
      "['digitally meaning', 'gb', '12', '50', '0', 'NaN', 'NaN', 'NaN', 'digitally', '2020-04-17 20:58:27', 'Knowledge card, People also ask, Videos, Top stories, Thumbnails', '', '', '', '', '', '', '', '', '', '', '', '', '', '', '', '', '', '', '', '']\n",
      "['digital media manager', 'gb', '2', '50', '0', 'NaN', 'NaN', 'NaN', 'digital media manager', '2020-05-07 06:31:08', 'People also ask', '', '', '', '', '', '', '', '', '', '', '', '', '', '', '', '', '', '', '', '']\n",
      "['define used to', 'gb', '3', '50', '0', 'NaN', 'NaN', 'NaN', 'used to definition', '2020-04-30 00:40:39', 'Knowledge card, People also ask', '', '', '', '', '', '', '', '', '', '', '', '', '', '', '', '', '', '', '', '']\n",
      "['meaning of digital', 'gb', '30', '50', '0', 'NaN', 'NaN', 'NaN', 'digital', '2020-04-24 07:03:51', 'Knowledge card, People also ask, Top stories, Thumbnails', '', '', '', '', '', '', '', '', '', '', '', '', '', '', '', '', '', '', '', '']\n",
      "['what is a media company', 'gb', '12', '50', '0', 'NaN', 'NaN', 'NaN', 'media company', '2020-05-09 09:08:00', 'Featured snippet, Thumbnails, People also ask, Top stories', '', '', '', '', '', '', '', '', '', '', '', '', '', '', '', '', '', '', '', '']\n",
      "['what is a com', 'gb', '68', '50', '0', 'NaN', 'NaN', 'NaN', 'microsoft.com', '2020-05-03 00:50:51', 'Sitelinks, People also ask', '', '', '', '', '', '', '', '', '', '', '', '', '', '', '', '', '', '', '', '']\n",
      "['which and what', 'gb', '9', '50', '0', 'NaN', 'NaN', 'NaN', 'which or what', '2020-04-26 16:12:27', 'Featured snippet, People also ask, Top stories, Thumbnails', '', '', '', '', '', '', '', '', '', '', '', '', '', '', '', '', '', '', '', '']\n",
      "[\"who's online\", 'gb', '1', '50', '0', 'NaN', 'NaN', 'NaN', \"who's online\", '2020-04-19 23:46:11', 'Featured snippet, Top stories, Thumbnails', '', '', '', '', '', '', '', '', '', '', '', '', '', '', '', '', '', '', '', '']\n",
      "['didgital', 'gb', '79', '50', '0', 'NaN', 'NaN', 'NaN', 'digital spy', '2020-04-19 08:00:34', 'Sitelinks, People also ask, Image pack', '', '', '', '', '', '', '', '', '', '', '', '', '', '', '', '', '', '', '', '']\n",
      "['definition of digital media', 'gb', '13', '50', '0', 'NaN', 'NaN', 'NaN', 'digital media', '2020-05-01 09:26:01', 'Sitelinks, People also ask, Top stories, Thumbnails, Videos', '', '', '', '', '', '', '', '', '', '', '', '', '', '', '', '', '', '', '', '']\n",
      "['internet description', 'gb', '51', '50', '0', 'NaN', 'NaN', 'NaN', 'internet', '2020-05-10 17:19:42', 'Featured snippet, People also ask, Sitelinks, Videos', '', '', '', '', '', '', '', '', '', '', '', '', '', '', '', '', '', '', '', '']\n",
      "['clim online', 'gb', '24', '40', '0', 'NaN', 'NaN', 'NaN', 'climb online', '2020-04-28 13:06:51', 'Adwords top, Sitelinks', '', '', '', '', '', '', '', '', '', '', '', '', '', '', '', '', '', '', '', '']\n",
      "['blog internet marketing', 'gb', '83', '40', '0', 'NaN', 'NaN', 'NaN', 'internet marketing blog', '2020-04-29 05:25:21', 'NaN', '', '', '', '', '', '', '', '', '', '', '', '', '', '', '', '', '', '', '', '']\n",
      "['market description', 'gb', '17', '40', '0', 'NaN', 'NaN', 'NaN', 'description of a market', '2020-04-26 04:39:23', 'Featured snippet, Thumbnails, People also ask, Top stories', '', '', '', '', '', '', '', '', '', '', '', '', '', '', '', '', '', '', '', '']\n",
      "['digitial', 'gb', '79', '40', '0', 'NaN', 'NaN', 'NaN', 'digital', '2020-04-26 12:06:18', 'Sitelinks, People also ask, Top stories, Thumbnails', '', '', '', '', '', '', '', '', '', '', '', '', '', '', '', '', '', '', '', '']\n",
      "['now digital', 'gb', '5', '40', '0', 'NaN', 'NaN', 'NaN', 'now digital', '2020-04-24 07:03:43', 'Top stories, Thumbnails', '', '', '', '', '', '', '', '', '', '', '', '', '', '', '', '', '', '', '', '']\n",
      "['digital 1', 'gb', '26', '40', '0', 'NaN', 'NaN', 'NaN', 'digital 1', '2020-04-21 18:13:04', 'Sitelinks, Top stories, Thumbnails, Image pack', '', '', '', '', '', '', '', '', '', '', '', '', '', '', '', '', '', '', '', '']\n",
      "['how of', 'gb', '48', '40', '0', 'NaN', 'NaN', 'NaN', 'how of', '2020-05-08 17:04:27', 'People also ask', '', '', '', '', '', '', '', '', '', '', '', '', '', '', '', '', '', '', '', '']\n",
      "['biddable media definition', 'gb', '0', '40', '0', 'NaN', 'NaN', 'NaN', 'biddable media', '2020-04-25 15:38:07', 'Featured snippet, Thumbnails', '', '', '', '', '', '', '', '', '', '', '', '', '', '', '', '', '', '', '', '']\n",
      "['what will be will be meaning', 'gb', '0', '40', '0', 'NaN', 'NaN', 'NaN', 'what will be will be', '2020-05-07 13:04:17', 'Featured snippet, People also ask, Image pack, Videos', '', '', '', '', '', '', '', '', '', '', '', '', '', '', '', '', '', '', '', '']\n",
      "['digital means', 'gb', '23', '40', '0', 'NaN', 'NaN', 'NaN', 'digital', '2020-05-08 05:32:48', 'Knowledge card, People also ask, Top stories, Thumbnails', '', '', '', '', '', '', '', '', '', '', '', '', '', '', '', '', '', '', '', '']\n",
      "['direct and digital marketing', 'gb', '1', '40', '0', 'NaN', 'NaN', 'NaN', 'direct and digital marketing', '2020-04-23 10:55:58', 'Adwords top, Sitelinks, Featured snippet, People also ask, Top stories, Thumbnails', '', '', '', '', '', '', '', '', '', '', '', '', '', '', '', '', '', '', '', '']\n",
      "['the digital', 'gb', '86', '40', '0', 'NaN', 'NaN', 'NaN', 'the digital picture', '2020-04-28 09:01:55', 'Sitelinks, Top stories, Thumbnails, Image pack', '', '', '', '', '', '', '', '', '', '', '', '', '', '', '', '', '', '', '', '']\n",
      "['market sector definition', 'gb', '11', '40', '0', 'NaN', 'NaN', 'NaN', 'market sector definition', '2020-05-09 03:12:46', 'People also ask', '', '', '', '', '', '', '', '', '', '', '', '', '', '', '', '', '', '', '', '']\n",
      "['digital space definition', 'gb', '8', '40', '0', 'NaN', 'NaN', 'NaN', 'digital space definition', '2020-04-22 05:03:43', 'Featured snippet, People also ask', '', '', '', '', '', '', '', '', '', '', '', '', '', '', '', '', '', '', '', '']\n",
      "['full personal service', 'gb', '0', '40', '0', 'NaN', 'NaN', 'NaN', 'full personal service', '2020-05-10 02:07:25', 'People also ask, Top stories, Thumbnails', '', '', '', '', '', '', '', '', '', '', '', '', '', '', '', '', '', '', '', '']\n",
      "['digial', 'gb', '78', '40', '0', 'NaN', 'NaN', 'NaN', 'digital', '2020-04-20 13:03:16', 'Sitelinks, People also ask, Top stories, Thumbnails, Image pack', '', '', '', '', '', '', '', '', '', '', '', '', '', '', '', '', '', '', '', '']\n",
      "['the help agency', 'gb', '1', '40', '0', 'NaN', 'NaN', 'NaN', 'the help agency', '2020-05-08 15:25:51', 'Sitelinks', '', '', '', '', '', '', '', '', '', '', '', '', '', '', '', '', '', '', '', '']\n",
      "['coast agency', 'gb', '2', '40', '0', 'NaN', 'NaN', 'NaN', 'marketing agency poole', '2020-04-26 04:51:56', 'Sitelinks, Image pack, Videos', '', '', '', '', '', '', '', '', '', '', '', '', '', '', '', '', '', '', '', '']\n",
      "['new media marketing', 'gb', '72', '40', '0', 'NaN', 'NaN', 'NaN', 'media-marketing', '2020-05-03 19:41:57', 'People also ask', '', '', '', '', '', '', '', '', '', '', '', '', '', '', '', '', '', '', '', '']\n",
      "['be website', 'gb', '47', '40', '0', 'NaN', 'NaN', 'NaN', 'british eventing', '2020-04-25 02:23:23', 'Sitelinks, Image pack', '', '', '', '', '', '', '', '', '', '', '', '', '', '', '', '', '', '', '', '']\n",
      "['digitla', 'gb', '69', '40', '0', 'NaN', 'NaN', 'NaN', 'digital spy', '2020-04-20 08:13:41', 'Sitelinks, People also ask, Image pack', '', '', '', '', '', '', '', '', '', '', '', '', '', '', '', '', '', '', '', '']\n",
      "['constitutes define', 'gb', '9', '30', '0', 'NaN', 'NaN', 'NaN', 'constitute', '2020-04-15 00:35:46', 'Knowledge card, People also ask', '', '', '', '', '', '', '', '', '', '', '', '', '', '', '', '', '', '', '', '']\n",
      "['uk agency services', 'gb', '56', '30', '0', 'NaN', 'NaN', 'NaN', 'uk agency', '2020-05-08 20:06:59', 'NaN', '', '', '', '', '', '', '', '', '', '', '', '', '', '', '', '', '', '', '', '']\n",
      "['define consist', 'gb', '18', '30', '0', '3', '0.12', '1.17', 'consists', '2020-04-30 00:27:20', 'Knowledge card, People also ask', '', '', '', '', '', '', '', '', '', '', '', '', '', '', '', '', '', '', '', '']\n",
      "['worldofdigital', 'gb', '31', '30', '0', 'NaN', 'NaN', 'NaN', 'digital world', '2020-05-09 05:25:30', 'Top stories, Thumbnails, Image pack', '', '', '', '', '', '', '', '', '', '', '', '', '', '', '', '', '', '', '', '']\n",
      "['digtial', 'gb', '70', '30', '0', 'NaN', 'NaN', 'NaN', 'digital', '2020-05-04 09:55:26', 'Sitelinks, People also ask', '', '', '', '', '', '', '', '', '', '', '', '', '', '', '', '', '', '', '', '']\n",
      "['market business definition', 'gb', '58', '30', '0', 'NaN', 'NaN', 'NaN', 'market', '2020-05-06 23:52:43', 'Featured snippet, People also ask, Videos', '', '', '', '', '', '', '', '', '', '', '', '', '', '', '', '', '', '', '', '']\n",
      "['essex digital media', 'gb', '43', '30', '0', 'NaN', 'NaN', 'NaN', 'digital media blog', '2020-04-19 00:19:04', 'Sitelinks, Image pack', '', '', '', '', '', '', '', '', '', '', '', '', '', '', '', '', '', '', '', '']\n",
      "['what digital', 'gb', '68', '30', '0', 'NaN', 'NaN', 'NaN', 'what digital', '2020-05-09 16:50:09', 'Sitelinks, People also ask, Top stories, Thumbnails', '', '', '', '', '', '', '', '', '', '', '', '', '', '', '', '', '', '', '', '']\n",
      "['why digital media', 'gb', '53', '30', '0', 'NaN', 'NaN', 'NaN', 'digital media', '2020-05-08 19:03:13', 'Sitelinks, People also ask, Top stories, Thumbnails', '', '', '', '', '', '', '', '', '', '', '', '', '', '', '', '', '', '', '', '']\n",
      "['new digital business', 'gb', '31', '30', '0', 'NaN', 'NaN', 'NaN', 'new digital business', '2020-04-26 03:03:12', 'Adwords top, Sitelinks, People also ask, Top stories, Thumbnails, Videos, Image pack', '', '', '', '', '', '', '', '', '', '', '', '', '', '', '', '', '', '', '', '']\n",
      "['digital marketing resources', 'gb', '24', '30', '0', 'NaN', 'NaN', 'NaN', 'digital marketing resources', '2020-04-15 14:43:31', 'Adwords top, Sitelinks, Featured snippet, Thumbnails, Adwords bottom', '', '', '', '', '', '', '', '', '', '', '', '', '', '', '', '', '', '', '', '']\n",
      "['absolute pr and marketing', 'gb', '0', '30', '0', 'NaN', 'NaN', 'NaN', 'absolute pr', '2020-04-29 08:32:43', 'Sitelinks, Image pack', '', '', '', '', '', '', '', '', '', '', '', '', '', '', '', '', '', '', '', '']\n",
      "['define the media', 'gb', '45', '30', '0', 'NaN', 'NaN', 'NaN', 'media', '2020-05-06 06:11:10', 'Knowledge card, People also ask, Sitelinks', '', '', '', '', '', '', '', '', '', '', '', '', '', '', '', '', '', '', '', '']\n",
      "['service marketing strategy', 'gb', '14', '20', '0', 'NaN', 'NaN', 'NaN', 'service marketing strategy', '2020-04-26 10:03:44', 'Adwords top, Sitelinks, Featured snippet, Thumbnails, People also ask, Top stories', '', '', '', '', '', '', '', '', '', '', '', '', '', '', '', '', '', '', '', '']\n"
     ]
    }
   ],
   "source": [
    "for row in wks:\n",
    "    print(row)"
   ]
  },
  {
   "cell_type": "markdown",
   "metadata": {},
   "source": [
    "--------------------------------------------------------------------------------"
   ]
  },
  {
   "cell_type": "markdown",
   "metadata": {},
   "source": [
    "## Updating Specific Parts Of Your Google Sheet"
   ]
  },
  {
   "cell_type": "markdown",
   "metadata": {},
   "source": [
    "Updating parts of your Google sheet can give you the flexibility to do a raw data dump into google sheets and then if other situations or API's change, you can specifically update any column, row or a range within your google sheet. Let's start by looking at how we can replace specific values:"
   ]
  },
  {
   "cell_type": "markdown",
   "metadata": {},
   "source": [
    "### How To Replace Specific Values Within Your Google Sheet"
   ]
  },
  {
   "cell_type": "markdown",
   "metadata": {},
   "source": [
    "Replacing values within your google sheets is incredibly easy and can be done via: \n",
    "    \n",
    "~~~\n",
    "\n",
    "wks.replace(pattern, replacement=None, **kwargs)\n",
    "\n",
    "~~~"
   ]
  },
  {
   "cell_type": "markdown",
   "metadata": {},
   "source": [
    "Let's for example try replacing any np.nans (not a number) in the Clicks and CPS column:"
   ]
  },
  {
   "cell_type": "code",
   "execution_count": 226,
   "metadata": {},
   "outputs": [],
   "source": [
    "wks.replace(\"NaN\", replacement=\"0\")"
   ]
  },
  {
   "cell_type": "markdown",
   "metadata": {},
   "source": [
    "![](https://sempioneer.com/wp-content/uploads/2020/05/replacing-nan-values.png)"
   ]
  },
  {
   "cell_type": "markdown",
   "metadata": {},
   "source": [
    "Although this has indeed replaced the \"NaN\" values, it has done across all columns and rows within the worksheet. This might not be exactly what you're looking for.\n",
    "\n",
    "<strong> For example maybe you're simply looking to replace cell values within 2 columns? </strong>"
   ]
  },
  {
   "cell_type": "markdown",
   "metadata": {},
   "source": [
    "--------------------------------------------------------------------------------------------------------------------------------"
   ]
  },
  {
   "cell_type": "markdown",
   "metadata": {},
   "source": [
    "### Introducing Find And Update Values"
   ]
  },
  {
   "cell_type": "code",
   "execution_count": 252,
   "metadata": {},
   "outputs": [],
   "source": [
    "wks.clear()\n",
    "wks.set_dataframe(df, start=(1,1))"
   ]
  },
  {
   "cell_type": "markdown",
   "metadata": {},
   "source": [
    "We will find all of the cells between column 3 and 6 (exclusive so only two columns will be selected) that match against NaN (not a number):"
   ]
  },
  {
   "cell_type": "code",
   "execution_count": 228,
   "metadata": {},
   "outputs": [],
   "source": [
    "cells = wks.find(\"NaN\", searchByRegex=False, matchCase=False, \n",
    "     matchEntireCell=False, includeFormulas=False, \n",
    "    cols=(3,6), rows=None, forceFetch=True)"
   ]
  },
  {
   "cell_type": "code",
   "execution_count": 229,
   "metadata": {},
   "outputs": [
    {
     "name": "stdout",
     "output_type": "stream",
     "text": [
      "[<Cell E14 'NaN'>, <Cell E48 'NaN'>, <Cell F57 'NaN'>, <Cell F64 'NaN'>, <Cell E65 'NaN'>]\n"
     ]
    }
   ],
   "source": [
    "print(cells[0:5])"
   ]
  },
  {
   "cell_type": "markdown",
   "metadata": {},
   "source": [
    "Then we will assign the value \"Other\" to all of the cells and update the values:"
   ]
  },
  {
   "cell_type": "markdown",
   "metadata": {},
   "source": [
    "----------------------------------------------------------------------------------------------------"
   ]
  },
  {
   "cell_type": "markdown",
   "metadata": {},
   "source": [
    "### How To Update A Range of Values"
   ]
  },
  {
   "cell_type": "markdown",
   "metadata": {},
   "source": [
    "If you'd like to update a range of values within your google sheet you can use:\n",
    "\n",
    "~~~\n",
    "wks.update_values(crange=None, values=None, cell_list=None, extend=False, majordim='ROWS', parse=None)\n",
    "\n",
    "~~~"
   ]
  },
  {
   "cell_type": "code",
   "execution_count": 138,
   "metadata": {},
   "outputs": [],
   "source": [
    "for cell in cells:\n",
    "    cell.value = \"Other\"\n",
    "wks.update_values(cell_list=cells)"
   ]
  },
  {
   "cell_type": "markdown",
   "metadata": {},
   "source": [
    "![](https://sempioneer.com/wp-content/uploads/2020/05/updating-specific-cells.png)"
   ]
  },
  {
   "cell_type": "markdown",
   "metadata": {},
   "source": [
    "As you can see, we've only updated the CPC and Clicks column \"NaN\" values with \"Other\" and the other column values remain the same! \n",
    "\n",
    "In the example above we've specifically referenced a cell_list, however you could also use the two methods below:\n",
    "\n",
    "~~~\n",
    "\n",
    "# Update a single cell.\n",
    "wks.update_value('A1', \"Numbers on Stuff\")\n",
    "\n",
    "# Update the worksheet with the numpy array values. Beginning at cell 'A2'.\n",
    "wks.update_values('A2', my_numpy_array.to_list())\n",
    "\n",
    "~~~"
   ]
  },
  {
   "cell_type": "markdown",
   "metadata": {},
   "source": [
    "--------------------------------------------------------------------------------"
   ]
  },
  {
   "cell_type": "markdown",
   "metadata": {},
   "source": [
    "## Column Data Manipulation"
   ]
  },
  {
   "cell_type": "markdown",
   "metadata": {},
   "source": [
    "### How To Add Multiple Columns"
   ]
  },
  {
   "cell_type": "markdown",
   "metadata": {},
   "source": [
    "To add columns to your existing worksheet you can use this syntax:\n",
    "    \n",
    "~~~\n",
    "\n",
    "wks.add_cols(3)\n",
    "\n",
    "~~~"
   ]
  },
  {
   "cell_type": "code",
   "execution_count": 253,
   "metadata": {},
   "outputs": [],
   "source": [
    "wks.add_cols(5)"
   ]
  },
  {
   "cell_type": "markdown",
   "metadata": {},
   "source": [
    "![](https://sempioneer.com/wp-content/uploads/2020/05/how-to-add-extra-columns-with-python-pygsheets.png)"
   ]
  },
  {
   "cell_type": "markdown",
   "metadata": {},
   "source": [
    "### How To Get The Column Names With The Column Index Positions"
   ]
  },
  {
   "cell_type": "markdown",
   "metadata": {},
   "source": [
    "Firstly we will extract all of the headers on row 1, then we will wrap this variable with enumerate and convert it into a python dictionary. This will allow us to create a lookup table for index positions!\n",
    "\n",
    "Notice below how we have also changed:\n",
    "\n",
    "~~~\n",
    "\n",
    "include_tailing_empty=True\n",
    "\n",
    "~~~\n",
    "\n",
    "The reason why is that we just want to make sure that if we had empty column values between tables, we would also pick up any empty string values between columns."
   ]
  },
  {
   "cell_type": "code",
   "execution_count": 254,
   "metadata": {},
   "outputs": [],
   "source": [
    "headers = wks.get_row(1, include_tailing_empty=True)\n",
    "enumerated_headers = list(enumerate(headers))"
   ]
  },
  {
   "cell_type": "code",
   "execution_count": 255,
   "metadata": {},
   "outputs": [
    {
     "name": "stdout",
     "output_type": "stream",
     "text": [
      "[(0, 'Keyword'), (1, 'Country'), (2, 'Difficulty'), (3, 'Volume'), (4, 'CPC'), (5, 'Clicks'), (6, 'CPS'), (7, 'Return Rate'), (8, 'Parent Keyword'), (9, 'Last Update'), (10, 'SERP Features'), (11, ''), (12, ''), (13, ''), (14, '')]\n"
     ]
    }
   ],
   "source": [
    "print(f\"{enumerated_headers}\")"
   ]
  },
  {
   "cell_type": "markdown",
   "metadata": {},
   "source": [
    "Now let's remove any of the enumerated headers that have an empty string with a list comprehension:"
   ]
  },
  {
   "cell_type": "code",
   "execution_count": 256,
   "metadata": {},
   "outputs": [],
   "source": [
    "enumerated_headers = [tuple_object for tuple_object in enumerated_headers if tuple_object[1]]"
   ]
  },
  {
   "cell_type": "code",
   "execution_count": 257,
   "metadata": {},
   "outputs": [
    {
     "name": "stdout",
     "output_type": "stream",
     "text": [
      "These are the cleaned, enumerated headers: \n",
      " \n",
      " [(0, 'Keyword'), (1, 'Country'), (2, 'Difficulty'), (3, 'Volume'), (4, 'CPC'), (5, 'Clicks'), (6, 'CPS'), (7, 'Return Rate'), (8, 'Parent Keyword'), (9, 'Last Update'), (10, 'SERP Features')]\n"
     ]
    }
   ],
   "source": [
    "print(f\"These are the cleaned, enumerated headers: \\n \\n {enumerated_headers}\")"
   ]
  },
  {
   "cell_type": "markdown",
   "metadata": {},
   "source": [
    "-------------------------------------------------------------------------------------------"
   ]
  },
  {
   "cell_type": "markdown",
   "metadata": {},
   "source": [
    "We can then convert this list of tuples into a python dictionary to create a look up table for columns versus their index positions:"
   ]
  },
  {
   "cell_type": "code",
   "execution_count": 258,
   "metadata": {},
   "outputs": [],
   "source": [
    "lookup_table = dict(enumerated_headers)\n",
    "lookup_table_reversed = {value: key for key, value in lookup_table.items()}"
   ]
  },
  {
   "cell_type": "code",
   "execution_count": 259,
   "metadata": {},
   "outputs": [
    {
     "name": "stdout",
     "output_type": "stream",
     "text": [
      "From this you can see how we've created a lookup table via a python dictionary where the key is the column name and the value is the index position: \n",
      "\n",
      " {'Keyword': 0, 'Country': 1, 'Difficulty': 2, 'Volume': 3, 'CPC': 4, 'Clicks': 5, 'CPS': 6, 'Return Rate': 7, 'Parent Keyword': 8, 'Last Update': 9, 'SERP Features': 10}\n"
     ]
    }
   ],
   "source": [
    "print(f\"From this you can see how we've created a lookup table via a python dictionary where the key is the column name and the value is the index position: \\n\\n {lookup_table_reversed}\")"
   ]
  },
  {
   "cell_type": "markdown",
   "metadata": {},
   "source": [
    "--------------------------------------------------------------------------------------------"
   ]
  },
  {
   "cell_type": "markdown",
   "metadata": {},
   "source": [
    "### How To Delete Columns"
   ]
  },
  {
   "cell_type": "markdown",
   "metadata": {},
   "source": [
    "You will need to pass two parameters when deleting columns via pyghseets: \n",
    "\n",
    "~~~\n",
    "\n",
    "wks.delete_cols(index, number=1)\n",
    "\n",
    "index – Index of first column to delete\n",
    "number – Number of columns to delete\n",
    "\n",
    "\n",
    "~~~"
   ]
  },
  {
   "cell_type": "code",
   "execution_count": 262,
   "metadata": {},
   "outputs": [
    {
     "name": "stdout",
     "output_type": "stream",
     "text": [
      "Currently we have 15 columns in the google sheet.\n"
     ]
    }
   ],
   "source": [
    "print(f\"Currently we have {wks.cols} columns in the google sheet.\")"
   ]
  },
  {
   "cell_type": "code",
   "execution_count": 263,
   "metadata": {},
   "outputs": [
    {
     "data": {
      "text/plain": [
       "11"
      ]
     },
     "execution_count": 263,
     "metadata": {},
     "output_type": "execute_result"
    }
   ],
   "source": [
    "max(lookup_table.keys()) + 1 "
   ]
  },
  {
   "cell_type": "markdown",
   "metadata": {},
   "source": [
    "As we can see the highest index position that we have as a true column from row 1 is 10. Therefore let's delete all of the columns from index position 12 and greater:\n",
    "\n",
    "Pro tip: Now the reason why it is 12 and not 11 is because pygsheets starts its index positioning for columns and rows at 1, whilst python starts its indexing at position 0. Also pygsheets is inclusive with the starting index (1 means from 1 onwards, rather than column 2 onwards)."
   ]
  },
  {
   "cell_type": "code",
   "execution_count": 264,
   "metadata": {},
   "outputs": [],
   "source": [
    "wks.delete_cols(index=12,number=wks.cols - 10)"
   ]
  },
  {
   "cell_type": "markdown",
   "metadata": {},
   "source": [
    "----------------------------------------------------------------"
   ]
  },
  {
   "cell_type": "markdown",
   "metadata": {},
   "source": [
    "You can now easily delete multiple columns by creating your own column index with enumerate!"
   ]
  },
  {
   "cell_type": "markdown",
   "metadata": {},
   "source": [
    "![](https://sempioneer.com/wp-content/uploads/2020/05/column-reduction.png)"
   ]
  },
  {
   "cell_type": "markdown",
   "metadata": {},
   "source": [
    "------------------------------------------------------------------------"
   ]
  },
  {
   "cell_type": "markdown",
   "metadata": {},
   "source": [
    "---------------------------------------------------------------"
   ]
  },
  {
   "cell_type": "markdown",
   "metadata": {},
   "source": [
    "### How To Insert Multiple Columns"
   ]
  },
  {
   "cell_type": "markdown",
   "metadata": {},
   "source": [
    "The following syntax allows you to insert multiple columns:\n",
    "    \n",
    "~~~\n",
    "\n",
    "wks.insert_cols(col, number=1, values=None, inherit=False)\n",
    "\n",
    "\n",
    "Parameters:\n",
    "col – Index of the col at which the values will be inserted.\n",
    "number – Number of columns to be inserted.\n",
    "values – Content to be inserted into new columns.\n",
    "inherit – New cells will inherit properties from the column to the left (True) or to the right (False).\n",
    "\n",
    "~~~"
   ]
  },
  {
   "cell_type": "markdown",
   "metadata": {},
   "source": [
    "---------------------------------------------------------------------------------"
   ]
  },
  {
   "cell_type": "markdown",
   "metadata": {},
   "source": [
    "### How To Update A Single Column"
   ]
  },
  {
   "cell_type": "markdown",
   "metadata": {},
   "source": [
    "In order to update a single column, use this syntax:\n",
    "    \n",
    "~~~\n",
    "\n",
    "wks.update_col(index, values, row_offset=0)\n",
    "\n",
    "~~~"
   ]
  },
  {
   "cell_type": "markdown",
   "metadata": {},
   "source": [
    "We can use the previous lookup table that we created to search for a specific column:"
   ]
  },
  {
   "cell_type": "code",
   "execution_count": 271,
   "metadata": {},
   "outputs": [],
   "source": [
    "wks.update_col(index = lookup_table_reversed['CPS']\n",
    "               ,values = wks.rows * [\"NA\"], \n",
    "                row_offset=1)"
   ]
  },
  {
   "cell_type": "code",
   "execution_count": 273,
   "metadata": {},
   "outputs": [
    {
     "data": {
      "text/plain": [
       "['NA',\n",
       " 'NA',\n",
       " 'NA',\n",
       " 'NA',\n",
       " 'NA',\n",
       " 'NA',\n",
       " 'NA',\n",
       " 'NA',\n",
       " 'NA',\n",
       " 'NA',\n",
       " 'NA',\n",
       " 'NA',\n",
       " 'NA',\n",
       " 'NA',\n",
       " 'NA',\n",
       " 'NA',\n",
       " 'NA',\n",
       " 'NA',\n",
       " 'NA',\n",
       " 'NA',\n",
       " 'NA',\n",
       " 'NA',\n",
       " 'NA',\n",
       " 'NA',\n",
       " 'NA',\n",
       " 'NA',\n",
       " 'NA',\n",
       " 'NA',\n",
       " 'NA',\n",
       " 'NA',\n",
       " 'NA',\n",
       " 'NA',\n",
       " 'NA',\n",
       " 'NA',\n",
       " 'NA',\n",
       " 'NA',\n",
       " 'NA',\n",
       " 'NA',\n",
       " 'NA',\n",
       " 'NA',\n",
       " 'NA',\n",
       " 'NA',\n",
       " 'NA',\n",
       " 'NA',\n",
       " 'NA',\n",
       " 'NA',\n",
       " 'NA',\n",
       " 'NA',\n",
       " 'NA',\n",
       " 'NA',\n",
       " 'NA',\n",
       " 'NA',\n",
       " 'NA',\n",
       " 'NA',\n",
       " 'NA',\n",
       " 'NA',\n",
       " 'NA',\n",
       " 'NA',\n",
       " 'NA',\n",
       " 'NA',\n",
       " 'NA',\n",
       " 'NA',\n",
       " 'NA',\n",
       " 'NA',\n",
       " 'NA',\n",
       " 'NA',\n",
       " 'NA',\n",
       " 'NA',\n",
       " 'NA',\n",
       " 'NA',\n",
       " 'NA',\n",
       " 'NA',\n",
       " 'NA',\n",
       " 'NA',\n",
       " 'NA',\n",
       " 'NA',\n",
       " 'NA',\n",
       " 'NA',\n",
       " 'NA',\n",
       " 'NA',\n",
       " 'NA',\n",
       " 'NA',\n",
       " 'NA',\n",
       " 'NA',\n",
       " 'NA',\n",
       " 'NA',\n",
       " 'NA',\n",
       " 'NA',\n",
       " 'NA',\n",
       " 'NA',\n",
       " 'NA',\n",
       " 'NA',\n",
       " 'NA',\n",
       " 'NA',\n",
       " 'NA',\n",
       " 'NA',\n",
       " 'NA',\n",
       " 'NA',\n",
       " 'NA',\n",
       " 'NA',\n",
       " 'NA',\n",
       " 'NA',\n",
       " 'NA',\n",
       " 'NA',\n",
       " 'NA',\n",
       " 'NA',\n",
       " 'NA',\n",
       " 'NA',\n",
       " 'NA',\n",
       " 'NA',\n",
       " 'NA',\n",
       " 'NA',\n",
       " 'NA',\n",
       " 'NA',\n",
       " 'NA',\n",
       " 'NA',\n",
       " 'NA',\n",
       " 'NA',\n",
       " 'NA',\n",
       " 'NA',\n",
       " 'NA',\n",
       " 'NA',\n",
       " 'NA',\n",
       " 'NA',\n",
       " 'NA',\n",
       " 'NA',\n",
       " 'NA',\n",
       " 'NA',\n",
       " 'NA',\n",
       " 'NA',\n",
       " 'NA',\n",
       " 'NA',\n",
       " 'NA',\n",
       " 'NA',\n",
       " 'NA',\n",
       " 'NA',\n",
       " 'NA',\n",
       " 'NA',\n",
       " 'NA',\n",
       " 'NA',\n",
       " 'NA',\n",
       " 'NA',\n",
       " 'NA',\n",
       " 'NA',\n",
       " 'NA',\n",
       " 'NA',\n",
       " 'NA',\n",
       " 'NA',\n",
       " 'NA',\n",
       " 'NA',\n",
       " 'NA',\n",
       " 'NA',\n",
       " 'NA',\n",
       " 'NA',\n",
       " 'NA',\n",
       " 'NA',\n",
       " 'NA',\n",
       " 'NA',\n",
       " 'NA',\n",
       " 'NA',\n",
       " 'NA',\n",
       " 'NA',\n",
       " 'NA',\n",
       " 'NA',\n",
       " 'NA',\n",
       " 'NA',\n",
       " 'NA',\n",
       " 'NA',\n",
       " 'NA',\n",
       " 'NA',\n",
       " 'NA',\n",
       " 'NA',\n",
       " 'NA',\n",
       " 'NA',\n",
       " 'NA',\n",
       " 'NA',\n",
       " 'NA',\n",
       " 'NA',\n",
       " 'NA',\n",
       " 'NA',\n",
       " 'NA',\n",
       " 'NA',\n",
       " 'NA',\n",
       " 'NA',\n",
       " 'NA',\n",
       " 'NA',\n",
       " 'NA',\n",
       " 'NA',\n",
       " 'NA',\n",
       " 'NA',\n",
       " 'NA',\n",
       " 'NA',\n",
       " 'NA',\n",
       " 'NA',\n",
       " 'NA',\n",
       " 'NA',\n",
       " 'NA',\n",
       " 'NA',\n",
       " 'NA',\n",
       " 'NA',\n",
       " 'NA',\n",
       " 'NA',\n",
       " 'NA',\n",
       " 'NA',\n",
       " 'NA',\n",
       " 'NA',\n",
       " 'NA',\n",
       " 'NA',\n",
       " 'NA',\n",
       " 'NA',\n",
       " 'NA',\n",
       " 'NA',\n",
       " 'NA',\n",
       " 'NA',\n",
       " 'NA',\n",
       " 'NA',\n",
       " 'NA',\n",
       " 'NA',\n",
       " 'NA',\n",
       " 'NA',\n",
       " 'NA',\n",
       " 'NA',\n",
       " 'NA',\n",
       " 'NA',\n",
       " 'NA',\n",
       " 'NA',\n",
       " 'NA',\n",
       " 'NA',\n",
       " 'NA',\n",
       " 'NA',\n",
       " 'NA',\n",
       " 'NA',\n",
       " 'NA',\n",
       " 'NA',\n",
       " 'NA',\n",
       " 'NA',\n",
       " 'NA',\n",
       " 'NA',\n",
       " 'NA',\n",
       " 'NA',\n",
       " 'NA',\n",
       " 'NA',\n",
       " 'NA',\n",
       " 'NA',\n",
       " 'NA',\n",
       " 'NA',\n",
       " 'NA',\n",
       " 'NA',\n",
       " 'NA',\n",
       " 'NA',\n",
       " 'NA',\n",
       " 'NA',\n",
       " 'NA',\n",
       " 'NA',\n",
       " 'NA',\n",
       " 'NA',\n",
       " 'NA',\n",
       " 'NA',\n",
       " 'NA',\n",
       " 'NA',\n",
       " 'NA',\n",
       " 'NA',\n",
       " 'NA',\n",
       " 'NA',\n",
       " 'NA',\n",
       " 'NA',\n",
       " 'NA',\n",
       " 'NA',\n",
       " 'NA',\n",
       " 'NA',\n",
       " 'NA',\n",
       " 'NA',\n",
       " 'NA',\n",
       " 'NA',\n",
       " 'NA',\n",
       " 'NA',\n",
       " 'NA',\n",
       " 'NA',\n",
       " 'NA',\n",
       " 'NA',\n",
       " 'NA',\n",
       " 'NA',\n",
       " 'NA',\n",
       " 'NA',\n",
       " 'NA',\n",
       " 'NA',\n",
       " 'NA',\n",
       " 'NA',\n",
       " 'NA',\n",
       " 'NA',\n",
       " 'NA',\n",
       " 'NA',\n",
       " 'NA',\n",
       " 'NA',\n",
       " 'NA',\n",
       " 'NA',\n",
       " 'NA',\n",
       " 'NA',\n",
       " 'NA',\n",
       " 'NA',\n",
       " 'NA',\n",
       " 'NA',\n",
       " 'NA',\n",
       " 'NA',\n",
       " 'NA',\n",
       " 'NA',\n",
       " 'NA',\n",
       " 'NA',\n",
       " 'NA',\n",
       " 'NA',\n",
       " 'NA',\n",
       " 'NA',\n",
       " 'NA',\n",
       " 'NA',\n",
       " 'NA',\n",
       " 'NA',\n",
       " 'NA',\n",
       " 'NA',\n",
       " 'NA',\n",
       " 'NA',\n",
       " 'NA',\n",
       " 'NA',\n",
       " 'NA',\n",
       " 'NA',\n",
       " 'NA',\n",
       " 'NA',\n",
       " 'NA',\n",
       " 'NA',\n",
       " 'NA',\n",
       " 'NA',\n",
       " 'NA',\n",
       " 'NA',\n",
       " 'NA',\n",
       " 'NA',\n",
       " 'NA',\n",
       " 'NA',\n",
       " 'NA',\n",
       " 'NA',\n",
       " 'NA',\n",
       " 'NA',\n",
       " 'NA',\n",
       " 'NA',\n",
       " 'NA',\n",
       " 'NA',\n",
       " 'NA',\n",
       " 'NA',\n",
       " 'NA',\n",
       " 'NA',\n",
       " 'NA',\n",
       " 'NA',\n",
       " 'NA',\n",
       " 'NA',\n",
       " 'NA',\n",
       " 'NA',\n",
       " 'NA',\n",
       " 'NA',\n",
       " 'NA',\n",
       " 'NA',\n",
       " 'NA',\n",
       " 'NA',\n",
       " 'NA',\n",
       " 'NA',\n",
       " 'NA',\n",
       " 'NA',\n",
       " 'NA',\n",
       " 'NA',\n",
       " 'NA',\n",
       " 'NA',\n",
       " 'NA',\n",
       " 'NA',\n",
       " 'NA',\n",
       " 'NA',\n",
       " 'NA',\n",
       " 'NA',\n",
       " 'NA',\n",
       " 'NA',\n",
       " 'NA',\n",
       " 'NA',\n",
       " 'NA',\n",
       " 'NA',\n",
       " 'NA',\n",
       " 'NA',\n",
       " 'NA',\n",
       " 'NA',\n",
       " 'NA',\n",
       " 'NA',\n",
       " 'NA',\n",
       " 'NA',\n",
       " 'NA',\n",
       " 'NA',\n",
       " 'NA',\n",
       " 'NA',\n",
       " 'NA',\n",
       " 'NA',\n",
       " 'NA',\n",
       " 'NA',\n",
       " 'NA',\n",
       " 'NA',\n",
       " 'NA',\n",
       " 'NA',\n",
       " 'NA',\n",
       " 'NA',\n",
       " 'NA',\n",
       " 'NA',\n",
       " 'NA',\n",
       " 'NA',\n",
       " 'NA',\n",
       " 'NA',\n",
       " 'NA',\n",
       " 'NA',\n",
       " 'NA',\n",
       " 'NA',\n",
       " 'NA',\n",
       " 'NA',\n",
       " 'NA',\n",
       " 'NA',\n",
       " 'NA',\n",
       " 'NA',\n",
       " 'NA',\n",
       " 'NA',\n",
       " 'NA',\n",
       " 'NA',\n",
       " 'NA',\n",
       " 'NA',\n",
       " 'NA',\n",
       " 'NA',\n",
       " 'NA',\n",
       " 'NA',\n",
       " 'NA',\n",
       " 'NA',\n",
       " 'NA',\n",
       " 'NA',\n",
       " 'NA',\n",
       " 'NA',\n",
       " 'NA',\n",
       " 'NA',\n",
       " 'NA',\n",
       " 'NA',\n",
       " 'NA',\n",
       " 'NA',\n",
       " 'NA',\n",
       " 'NA',\n",
       " 'NA',\n",
       " 'NA',\n",
       " 'NA',\n",
       " 'NA',\n",
       " 'NA',\n",
       " 'NA',\n",
       " 'NA',\n",
       " 'NA',\n",
       " 'NA',\n",
       " 'NA',\n",
       " 'NA',\n",
       " 'NA',\n",
       " 'NA',\n",
       " 'NA',\n",
       " 'NA',\n",
       " 'NA',\n",
       " 'NA',\n",
       " 'NA',\n",
       " 'NA',\n",
       " 'NA',\n",
       " 'NA',\n",
       " 'NA',\n",
       " 'NA',\n",
       " 'NA',\n",
       " 'NA',\n",
       " 'NA',\n",
       " 'NA',\n",
       " 'NA',\n",
       " 'NA',\n",
       " 'NA',\n",
       " 'NA',\n",
       " 'NA',\n",
       " 'NA',\n",
       " 'NA',\n",
       " 'NA',\n",
       " 'NA',\n",
       " 'NA',\n",
       " 'NA',\n",
       " 'NA',\n",
       " 'NA',\n",
       " 'NA',\n",
       " 'NA',\n",
       " 'NA',\n",
       " 'NA',\n",
       " 'NA',\n",
       " 'NA',\n",
       " 'NA',\n",
       " 'NA',\n",
       " 'NA',\n",
       " 'NA',\n",
       " 'NA',\n",
       " 'NA',\n",
       " 'NA',\n",
       " 'NA',\n",
       " 'NA',\n",
       " 'NA',\n",
       " 'NA',\n",
       " 'NA',\n",
       " 'NA',\n",
       " 'NA',\n",
       " 'NA',\n",
       " 'NA',\n",
       " 'NA',\n",
       " 'NA',\n",
       " 'NA',\n",
       " 'NA',\n",
       " 'NA',\n",
       " 'NA',\n",
       " 'NA',\n",
       " 'NA',\n",
       " 'NA',\n",
       " 'NA',\n",
       " 'NA',\n",
       " 'NA',\n",
       " 'NA',\n",
       " 'NA',\n",
       " 'NA',\n",
       " 'NA',\n",
       " 'NA',\n",
       " 'NA',\n",
       " 'NA',\n",
       " 'NA',\n",
       " 'NA',\n",
       " 'NA',\n",
       " 'NA',\n",
       " 'NA',\n",
       " 'NA',\n",
       " 'NA',\n",
       " 'NA',\n",
       " 'NA',\n",
       " 'NA',\n",
       " 'NA',\n",
       " 'NA',\n",
       " 'NA',\n",
       " 'NA',\n",
       " 'NA',\n",
       " 'NA',\n",
       " 'NA',\n",
       " 'NA',\n",
       " 'NA',\n",
       " 'NA',\n",
       " 'NA',\n",
       " 'NA',\n",
       " 'NA',\n",
       " 'NA',\n",
       " 'NA',\n",
       " 'NA',\n",
       " 'NA',\n",
       " 'NA',\n",
       " 'NA',\n",
       " 'NA',\n",
       " 'NA',\n",
       " 'NA',\n",
       " 'NA',\n",
       " 'NA',\n",
       " 'NA',\n",
       " 'NA',\n",
       " 'NA',\n",
       " 'NA',\n",
       " 'NA',\n",
       " 'NA',\n",
       " 'NA',\n",
       " 'NA',\n",
       " 'NA',\n",
       " 'NA',\n",
       " 'NA',\n",
       " 'NA',\n",
       " 'NA',\n",
       " 'NA',\n",
       " 'NA',\n",
       " 'NA',\n",
       " 'NA',\n",
       " 'NA',\n",
       " 'NA',\n",
       " 'NA',\n",
       " 'NA',\n",
       " 'NA',\n",
       " 'NA',\n",
       " 'NA',\n",
       " 'NA',\n",
       " 'NA',\n",
       " 'NA',\n",
       " 'NA',\n",
       " 'NA',\n",
       " 'NA',\n",
       " 'NA',\n",
       " 'NA',\n",
       " 'NA',\n",
       " 'NA',\n",
       " 'NA',\n",
       " 'NA',\n",
       " 'NA',\n",
       " 'NA',\n",
       " 'NA',\n",
       " 'NA',\n",
       " 'NA',\n",
       " 'NA',\n",
       " 'NA',\n",
       " 'NA',\n",
       " 'NA',\n",
       " 'NA',\n",
       " 'NA',\n",
       " 'NA',\n",
       " 'NA',\n",
       " 'NA',\n",
       " 'NA',\n",
       " 'NA',\n",
       " 'NA',\n",
       " 'NA',\n",
       " 'NA',\n",
       " 'NA',\n",
       " 'NA',\n",
       " 'NA',\n",
       " 'NA',\n",
       " 'NA',\n",
       " 'NA',\n",
       " 'NA',\n",
       " 'NA',\n",
       " 'NA',\n",
       " 'NA',\n",
       " 'NA',\n",
       " 'NA',\n",
       " 'NA',\n",
       " 'NA',\n",
       " 'NA',\n",
       " 'NA',\n",
       " 'NA',\n",
       " 'NA',\n",
       " 'NA',\n",
       " 'NA',\n",
       " 'NA',\n",
       " 'NA',\n",
       " 'NA',\n",
       " 'NA',\n",
       " 'NA',\n",
       " 'NA',\n",
       " 'NA',\n",
       " 'NA',\n",
       " 'NA',\n",
       " 'NA',\n",
       " 'NA',\n",
       " 'NA',\n",
       " 'NA',\n",
       " 'NA',\n",
       " 'NA',\n",
       " 'NA',\n",
       " 'NA',\n",
       " 'NA',\n",
       " 'NA',\n",
       " 'NA',\n",
       " 'NA',\n",
       " 'NA',\n",
       " 'NA',\n",
       " 'NA',\n",
       " 'NA',\n",
       " 'NA',\n",
       " 'NA',\n",
       " 'NA',\n",
       " 'NA',\n",
       " 'NA',\n",
       " 'NA',\n",
       " 'NA',\n",
       " 'NA',\n",
       " 'NA',\n",
       " 'NA',\n",
       " 'NA',\n",
       " 'NA',\n",
       " 'NA',\n",
       " 'NA',\n",
       " 'NA',\n",
       " 'NA',\n",
       " 'NA',\n",
       " 'NA',\n",
       " 'NA',\n",
       " 'NA',\n",
       " 'NA',\n",
       " 'NA',\n",
       " 'NA',\n",
       " 'NA',\n",
       " 'NA',\n",
       " 'NA',\n",
       " 'NA',\n",
       " 'NA',\n",
       " 'NA',\n",
       " 'NA',\n",
       " 'NA',\n",
       " 'NA',\n",
       " 'NA',\n",
       " 'NA',\n",
       " 'NA',\n",
       " 'NA',\n",
       " 'NA',\n",
       " 'NA',\n",
       " 'NA',\n",
       " 'NA',\n",
       " 'NA',\n",
       " 'NA',\n",
       " 'NA',\n",
       " 'NA',\n",
       " 'NA',\n",
       " 'NA',\n",
       " 'NA',\n",
       " 'NA',\n",
       " 'NA',\n",
       " 'NA',\n",
       " 'NA',\n",
       " 'NA',\n",
       " 'NA',\n",
       " 'NA',\n",
       " 'NA',\n",
       " 'NA',\n",
       " 'NA',\n",
       " 'NA',\n",
       " 'NA',\n",
       " 'NA',\n",
       " 'NA',\n",
       " 'NA',\n",
       " 'NA',\n",
       " 'NA',\n",
       " 'NA',\n",
       " 'NA',\n",
       " 'NA',\n",
       " 'NA',\n",
       " 'NA',\n",
       " 'NA',\n",
       " 'NA',\n",
       " 'NA',\n",
       " 'NA',\n",
       " 'NA',\n",
       " 'NA',\n",
       " 'NA',\n",
       " 'NA',\n",
       " 'NA',\n",
       " 'NA',\n",
       " 'NA',\n",
       " 'NA',\n",
       " 'NA',\n",
       " 'NA',\n",
       " 'NA',\n",
       " 'NA',\n",
       " 'NA',\n",
       " 'NA',\n",
       " 'NA',\n",
       " 'NA',\n",
       " 'NA',\n",
       " 'NA',\n",
       " 'NA',\n",
       " 'NA',\n",
       " 'NA',\n",
       " 'NA',\n",
       " 'NA',\n",
       " 'NA',\n",
       " 'NA',\n",
       " 'NA',\n",
       " 'NA',\n",
       " 'NA',\n",
       " 'NA',\n",
       " 'NA',\n",
       " 'NA',\n",
       " 'NA',\n",
       " 'NA',\n",
       " 'NA',\n",
       " 'NA',\n",
       " 'NA',\n",
       " 'NA',\n",
       " 'NA',\n",
       " 'NA',\n",
       " 'NA',\n",
       " 'NA',\n",
       " 'NA',\n",
       " 'NA',\n",
       " 'NA',\n",
       " 'NA',\n",
       " 'NA',\n",
       " 'NA',\n",
       " 'NA',\n",
       " 'NA',\n",
       " 'NA',\n",
       " 'NA',\n",
       " 'NA',\n",
       " 'NA',\n",
       " 'NA',\n",
       " 'NA',\n",
       " 'NA',\n",
       " 'NA',\n",
       " 'NA',\n",
       " 'NA',\n",
       " 'NA',\n",
       " 'NA',\n",
       " 'NA',\n",
       " 'NA',\n",
       " 'NA',\n",
       " 'NA',\n",
       " 'NA',\n",
       " 'NA',\n",
       " 'NA',\n",
       " 'NA',\n",
       " 'NA',\n",
       " 'NA',\n",
       " 'NA',\n",
       " 'NA',\n",
       " 'NA',\n",
       " 'NA',\n",
       " 'NA',\n",
       " 'NA',\n",
       " 'NA',\n",
       " 'NA',\n",
       " 'NA',\n",
       " 'NA',\n",
       " 'NA',\n",
       " 'NA',\n",
       " 'NA',\n",
       " 'NA',\n",
       " 'NA',\n",
       " 'NA',\n",
       " 'NA',\n",
       " 'NA',\n",
       " 'NA',\n",
       " 'NA',\n",
       " 'NA',\n",
       " 'NA',\n",
       " 'NA',\n",
       " 'NA',\n",
       " 'NA',\n",
       " 'NA',\n",
       " 'NA',\n",
       " 'NA',\n",
       " 'NA',\n",
       " 'NA',\n",
       " 'NA',\n",
       " 'NA',\n",
       " 'NA',\n",
       " 'NA',\n",
       " 'NA',\n",
       " 'NA',\n",
       " 'NA',\n",
       " 'NA',\n",
       " 'NA',\n",
       " 'NA',\n",
       " 'NA',\n",
       " 'NA',\n",
       " 'NA',\n",
       " 'NA',\n",
       " 'NA',\n",
       " 'NA',\n",
       " 'NA',\n",
       " 'NA',\n",
       " 'NA',\n",
       " 'NA',\n",
       " 'NA',\n",
       " 'NA',\n",
       " 'NA',\n",
       " 'NA',\n",
       " 'NA',\n",
       " 'NA',\n",
       " 'NA',\n",
       " 'NA',\n",
       " 'NA',\n",
       " 'NA',\n",
       " 'NA',\n",
       " 'NA',\n",
       " 'NA',\n",
       " 'NA',\n",
       " 'NA',\n",
       " 'NA',\n",
       " 'NA',\n",
       " 'NA',\n",
       " 'NA',\n",
       " 'NA',\n",
       " 'NA',\n",
       " 'NA',\n",
       " 'NA',\n",
       " 'NA',\n",
       " 'NA',\n",
       " 'NA',\n",
       " 'NA',\n",
       " 'NA',\n",
       " 'NA',\n",
       " 'NA',\n",
       " 'NA',\n",
       " 'NA',\n",
       " 'NA',\n",
       " 'NA',\n",
       " 'NA',\n",
       " 'NA',\n",
       " 'NA',\n",
       " 'NA',\n",
       " 'NA',\n",
       " 'NA',\n",
       " 'NA',\n",
       " 'NA',\n",
       " 'NA',\n",
       " 'NA',\n",
       " 'NA',\n",
       " 'NA',\n",
       " 'NA',\n",
       " 'NA',\n",
       " 'NA',\n",
       " 'NA',\n",
       " 'NA',\n",
       " 'NA',\n",
       " 'NA',\n",
       " 'NA',\n",
       " 'NA',\n",
       " 'NA',\n",
       " 'NA',\n",
       " 'NA',\n",
       " 'NA',\n",
       " 'NA',\n",
       " 'NA',\n",
       " 'NA',\n",
       " 'NA',\n",
       " 'NA',\n",
       " 'NA',\n",
       " 'NA',\n",
       " 'NA',\n",
       " 'NA',\n",
       " 'NA',\n",
       " 'NA',\n",
       " 'NA',\n",
       " 'NA',\n",
       " 'NA',\n",
       " 'NA',\n",
       " 'NA',\n",
       " 'NA',\n",
       " 'NA',\n",
       " 'NA',\n",
       " 'NA',\n",
       " 'NA',\n",
       " 'NA',\n",
       " 'NA',\n",
       " 'NA',\n",
       " 'NA',\n",
       " 'NA',\n",
       " 'NA',\n",
       " 'NA',\n",
       " 'NA',\n",
       " 'NA',\n",
       " 'NA',\n",
       " 'NA',\n",
       " 'NA',\n",
       " 'NA',\n",
       " 'NA',\n",
       " 'NA',\n",
       " 'NA',\n",
       " 'NA',\n",
       " 'NA',\n",
       " 'NA',\n",
       " 'NA',\n",
       " 'NA',\n",
       " 'NA',\n",
       " 'NA',\n",
       " 'NA',\n",
       " 'NA',\n",
       " 'NA',\n",
       " 'NA',\n",
       " 'NA',\n",
       " 'NA',\n",
       " 'NA',\n",
       " 'NA',\n",
       " 'NA',\n",
       " 'NA',\n",
       " 'NA',\n",
       " 'NA',\n",
       " 'NA',\n",
       " 'NA',\n",
       " 'NA',\n",
       " 'NA',\n",
       " 'NA',\n",
       " 'NA',\n",
       " 'NA',\n",
       " 'NA',\n",
       " 'NA',\n",
       " 'NA',\n",
       " 'NA',\n",
       " 'NA',\n",
       " 'NA',\n",
       " 'NA',\n",
       " 'NA',\n",
       " 'NA',\n",
       " 'NA',\n",
       " 'NA',\n",
       " 'NA',\n",
       " 'NA',\n",
       " 'NA',\n",
       " 'NA',\n",
       " 'NA',\n",
       " 'NA',\n",
       " 'NA',\n",
       " 'NA',\n",
       " 'NA',\n",
       " 'NA',\n",
       " 'NA',\n",
       " 'NA',\n",
       " 'NA',\n",
       " 'NA',\n",
       " 'NA',\n",
       " 'NA',\n",
       " ...]"
      ]
     },
     "execution_count": 273,
     "metadata": {},
     "output_type": "execute_result"
    }
   ],
   "source": []
  },
  {
   "cell_type": "code",
   "execution_count": null,
   "metadata": {},
   "outputs": [],
   "source": []
  },
  {
   "cell_type": "markdown",
   "metadata": {},
   "source": [
    "------------------------------------------------------------------------"
   ]
  },
  {
   "cell_type": "markdown",
   "metadata": {},
   "source": [
    "### How To Adjust Column Width"
   ]
  },
  {
   "cell_type": "code",
   "execution_count": null,
   "metadata": {},
   "outputs": [],
   "source": []
  },
  {
   "cell_type": "markdown",
   "metadata": {},
   "source": [
    "--------------------------------------------------------"
   ]
  },
  {
   "cell_type": "markdown",
   "metadata": {},
   "source": [
    "## Row Data Manipulation"
   ]
  },
  {
   "cell_type": "markdown",
   "metadata": {},
   "source": [
    "### How To Insert Multiple Rows"
   ]
  },
  {
   "cell_type": "code",
   "execution_count": null,
   "metadata": {},
   "outputs": [],
   "source": []
  },
  {
   "cell_type": "code",
   "execution_count": null,
   "metadata": {},
   "outputs": [],
   "source": []
  },
  {
   "cell_type": "code",
   "execution_count": null,
   "metadata": {},
   "outputs": [],
   "source": []
  },
  {
   "cell_type": "markdown",
   "metadata": {},
   "source": [
    "### How To Insert A Column"
   ]
  },
  {
   "cell_type": "code",
   "execution_count": null,
   "metadata": {},
   "outputs": [],
   "source": []
  },
  {
   "cell_type": "code",
   "execution_count": null,
   "metadata": {},
   "outputs": [],
   "source": []
  },
  {
   "cell_type": "markdown",
   "metadata": {},
   "source": [
    "----------------------------------------------------------------------"
   ]
  },
  {
   "cell_type": "markdown",
   "metadata": {},
   "source": [
    "### How To Insert A Row"
   ]
  },
  {
   "cell_type": "code",
   "execution_count": null,
   "metadata": {},
   "outputs": [],
   "source": [
    "add_rows(rows)"
   ]
  },
  {
   "cell_type": "code",
   "execution_count": null,
   "metadata": {},
   "outputs": [],
   "source": []
  },
  {
   "cell_type": "code",
   "execution_count": null,
   "metadata": {},
   "outputs": [],
   "source": []
  },
  {
   "cell_type": "markdown",
   "metadata": {},
   "source": [
    "---------------------------------------------------------------"
   ]
  },
  {
   "cell_type": "markdown",
   "metadata": {},
   "source": [
    "### How To Delete A Single Row"
   ]
  },
  {
   "cell_type": "code",
   "execution_count": null,
   "metadata": {},
   "outputs": [],
   "source": []
  },
  {
   "cell_type": "code",
   "execution_count": null,
   "metadata": {},
   "outputs": [],
   "source": []
  },
  {
   "cell_type": "code",
   "execution_count": null,
   "metadata": {},
   "outputs": [],
   "source": []
  },
  {
   "cell_type": "markdown",
   "metadata": {},
   "source": [
    "----------------------------------------------------------------------"
   ]
  },
  {
   "cell_type": "markdown",
   "metadata": {},
   "source": [
    "### How To Delete A Single Column"
   ]
  },
  {
   "cell_type": "code",
   "execution_count": null,
   "metadata": {},
   "outputs": [],
   "source": []
  },
  {
   "cell_type": "code",
   "execution_count": null,
   "metadata": {},
   "outputs": [],
   "source": []
  },
  {
   "cell_type": "markdown",
   "metadata": {},
   "source": [
    "---------------------------------------------------------------------------------------------------"
   ]
  },
  {
   "cell_type": "markdown",
   "metadata": {},
   "source": [
    "### Formatting Google Sheets In Python"
   ]
  },
  {
   "cell_type": "markdown",
   "metadata": {},
   "source": [
    "#### Frozen Rows + Columns"
   ]
  },
  {
   "cell_type": "markdown",
   "metadata": {},
   "source": [
    "You can easily set the number of Frozen Rows + Columns with the two commands:\n",
    "    \n",
    "~~~\n",
    "\n",
    "wks.frozen_rows(5)\n",
    "wks.frozen_cols(3)\n",
    "~~~\n"
   ]
  },
  {
   "cell_type": "code",
   "execution_count": null,
   "metadata": {},
   "outputs": [],
   "source": []
  },
  {
   "cell_type": "markdown",
   "metadata": {},
   "source": [
    "#### How To Bold Cells"
   ]
  },
  {
   "cell_type": "code",
   "execution_count": null,
   "metadata": {},
   "outputs": [],
   "source": []
  },
  {
   "cell_type": "markdown",
   "metadata": {},
   "source": [
    "----------------------------------------------------------------------------------------------------------------"
   ]
  },
  {
   "cell_type": "markdown",
   "metadata": {},
   "source": [
    "#### Dropdown Boxes"
   ]
  },
  {
   "cell_type": "code",
   "execution_count": null,
   "metadata": {},
   "outputs": [],
   "source": []
  },
  {
   "cell_type": "markdown",
   "metadata": {},
   "source": [
    "------------------------------------------------------------------------"
   ]
  },
  {
   "cell_type": "markdown",
   "metadata": {},
   "source": [
    "#### Horozintal Alignment"
   ]
  },
  {
   "cell_type": "code",
   "execution_count": null,
   "metadata": {},
   "outputs": [],
   "source": []
  },
  {
   "cell_type": "markdown",
   "metadata": {},
   "source": [
    "------------------------------------------------------------------------------------"
   ]
  },
  {
   "cell_type": "markdown",
   "metadata": {},
   "source": [
    "### How to create a worksheet"
   ]
  },
  {
   "cell_type": "code",
   "execution_count": null,
   "metadata": {},
   "outputs": [],
   "source": []
  },
  {
   "cell_type": "markdown",
   "metadata": {},
   "source": [
    "------------------------------------------------------------------------------------------"
   ]
  },
  {
   "cell_type": "markdown",
   "metadata": {},
   "source": [
    "### How to delete a worksheet"
   ]
  },
  {
   "cell_type": "code",
   "execution_count": null,
   "metadata": {},
   "outputs": [],
   "source": []
  },
  {
   "cell_type": "markdown",
   "metadata": {},
   "source": [
    "------------------------------------------------------------------------------------------"
   ]
  },
  {
   "cell_type": "markdown",
   "metadata": {},
   "source": [
    "## Batching Your API Calls"
   ]
  },
  {
   "cell_type": "code",
   "execution_count": null,
   "metadata": {},
   "outputs": [],
   "source": [
    "If you are going to make a lot of requests to the Google Sheets API, its recommended to batch your API requests. This ensures that you will "
   ]
  },
  {
   "cell_type": "markdown",
   "metadata": {},
   "source": [
    "---------------------------------------------------------------------------------------------------"
   ]
  },
  {
   "cell_type": "markdown",
   "metadata": {},
   "source": [
    "### How To Share A Google Sheet With An Email Address In Python"
   ]
  },
  {
   "cell_type": "markdown",
   "metadata": {},
   "source": [
    "You can easily share any connected spreadsheet with:\n",
    "    \n",
    "~~~\n",
    "\n",
    ".share(email_or_domain, role='reader', type='user', **kwargs)\n",
    "\n",
    "~~~\n",
    "\n",
    "Additionally you can include an email message to your user!"
   ]
  },
  {
   "cell_type": "code",
   "execution_count": 36,
   "metadata": {},
   "outputs": [],
   "source": [
    "spreadsheet.share('example@gmail.com', role='commenter', \n",
    "                  type='user', \n",
    "                  emailMessage='Here is the spreadsheet we talked about!')"
   ]
  },
  {
   "cell_type": "markdown",
   "metadata": {},
   "source": [
    "------------------------------------------------------------------------"
   ]
  },
  {
   "cell_type": "markdown",
   "metadata": {},
   "source": [
    "-------------------------------------------------------------------------------------"
   ]
  },
  {
   "cell_type": "markdown",
   "metadata": {},
   "source": [
    "### How To Export A Google Sheet To A .CSV"
   ]
  },
  {
   "cell_type": "markdown",
   "metadata": {},
   "source": [
    "Also its possible to easily export your google sheet to a .csv file with: \n",
    "\n",
    "~~~\n",
    "\n",
    "wks.export(file_format=<ExportType.CSV: 'text/csv:.csv'>, filename=None, path='')\n",
    "\n",
    "~~~"
   ]
  },
  {
   "cell_type": "markdown",
   "metadata": {},
   "source": [
    "However <strong> we'll need to enable the Google Drive API </strong> for this to work, so quickly go to your Google Cloud Project and activate this API for the following command to work:"
   ]
  },
  {
   "cell_type": "markdown",
   "metadata": {},
   "source": [
    "![](https://sempioneer.com/wp-content/uploads/2020/05/googel-drive-api.png)"
   ]
  },
  {
   "cell_type": "code",
   "execution_count": 117,
   "metadata": {},
   "outputs": [],
   "source": [
    "wks.export(filename='this_is_a_csv_file')"
   ]
  },
  {
   "cell_type": "markdown",
   "metadata": {},
   "source": [
    "----------------------------------------------------------------"
   ]
  },
  {
   "cell_type": "markdown",
   "metadata": {},
   "source": [
    "### How To Convert A Google Sheet Into JSON"
   ]
  },
  {
   "cell_type": "markdown",
   "metadata": {},
   "source": [
    "Sometimes when communicating with another developer, they would like to receive your data in the form of JSON. You can easily turn your google sheets data into a JSON API to be fed directly into another RESTI API by chaining multiple commands:\n",
    "    \n",
    "~~~\n",
    "\n",
    "wks.get_as_df().to_json()\n",
    "\n",
    "~~~"
   ]
  },
  {
   "cell_type": "markdown",
   "metadata": {},
   "source": [
    "This will do two things:\n",
    "- Firstly we will obtain the entire worksheet as a pandas dataframe.\n",
    "- Secondly we'll convert the pandas dataframe into a JSON object."
   ]
  },
  {
   "cell_type": "code",
   "execution_count": 39,
   "metadata": {},
   "outputs": [
    {
     "data": {
      "text/plain": [
       "'{\"Keyword\":{\"0\":\"digital marketer\",\"1\":\"detailed online\",\"2\":\"what is this?\",\"3\":\"define constitutes\",\"4\":\"digital marketing agencies london\",\"5\":\"services meaning\",\"6\":\"marketeer meaning\",\"7\":\"regardless marketing\",\"8\":\"media channels\",\"9\":\"on-digital\",\"10\":\"the who.com\",\"11\":\"hubspo\",\"12\":\"marketer meaning\",\"13\":\"digital marketing services birmingham\",\"14\":\"who is this?\",\"15\":\"digitals\",\"16\":\"according to meaning\",\"17\":\"who\\'s definition\",\"18\":\"why is digital marketing important\",\"19\":\"huspot\",\"20\":\"content marketing companies\",\"21\":\"meaning of create\",\"22\":\"like digital\",\"23\":\"define services\",\"24\":\"business define\",\"25\":\"key-digital\",\"26\":\"all digital\",\"27\":\"define in fact\",\"28\":\"what does defined mean\",\"29\":\"trends definition in business\",\"30\":\"what is for\",\"31\":\"digital marketing campaigns\",\"32\":\"hubstop\",\"33\":\"who what why\",\"34\":\"lucy definition\",\"35\":\"digital marketing theory\",\"36\":\"internet marketing services uk\",\"37\":\"lucy alexander age\",\"38\":\"what does a digital marketer do\",\"39\":\"w-hat\",\"40\":\"what why\",\"41\":\"edigital research\",\"42\":\"best digital\",\"43\":\"hupspot\",\"44\":\"climb marketing\",\"45\":\"digital search\",\"46\":\"www.coast.co.uk\",\"47\":\"impressions marketing\",\"48\":\"digitalmarketing\",\"49\":\"w hat\",\"50\":\"digitales\",\"51\":\"search engine marketing agency\",\"52\":\"digital marketer job description\",\"53\":\"hubpot\",\"54\":\"marketing means\",\"55\":\"best internet marketing company\",\"56\":\"digital marketing implementation services\",\"57\":\"internet marketing solutions\",\"58\":\"who what\",\"59\":\"which-what\",\"60\":\"social media agencies london\",\"61\":\"digital marketing business\",\"62\":\"digital co uk\",\"63\":\"define increasing\",\"64\":\"digital marketing activities\",\"65\":\"digital.co.uk\",\"66\":\"do you meaning\",\"67\":\"www.coast\",\"68\":\"marketers or marketeers\",\"69\":\"internet marketing firm\",\"70\":\"how to find out if a company is still in business\",\"71\":\"climbonline\",\"72\":\"digital def\",\"73\":\"internet marketing company uk\",\"74\":\"understanding digital marketing: marketing strategies for engaging the digital generation\",\"75\":\"impression digital\",\"76\":\"what is a.\",\"77\":\"hubspor\",\"78\":\"what is digital business\",\"79\":\"digital media company\",\"80\":\"search marketing services\",\"81\":\"\\\\u0628\\\\u0627\\\\u0632\\\\u0627\\\\u0631\\\\u06cc\\\\u0627\\\\u0628\\\\u06cc\",\"82\":\"like who what what what where\",\"83\":\"market definition example\",\"84\":\"digital define\",\"85\":\"fundamentals of digital marketing\",\"86\":\"what are digital channels\",\"87\":\"method digital\",\"88\":\"whats the use\",\"89\":\"encompasses means\",\"90\":\"digital media channels\",\"91\":\"see define\",\"92\":\"coast media\",\"93\":\"one digitals reviews\",\"94\":\"hubspoy\",\"95\":\"can do meaning\",\"96\":\"it digital\",\"97\":\"passion digital ltd\",\"98\":\"what is.a\",\"99\":\"market:\\\\/\\\\/details\",\"100\":\"go digital reviews\",\"101\":\"marketing message definition\",\"102\":\"digital marketing technology\",\"103\":\"essex traffic twitter\",\"104\":\"digital marketers\",\"105\":\"detail online\",\"106\":\"digital world meaning\",\"107\":\"london digital marketing\",\"108\":\"digital marketing experts\",\"109\":\"small world marketing\",\"110\":\"what is a \\'\",\"111\":\"the who website\",\"112\":\"space marketing\",\"113\":\"online marketer\",\"114\":\"dogital\",\"115\":\"define increased\",\"116\":\"what does .com\",\"117\":\"service definition business\",\"118\":\"media industry definition\",\"119\":\"coast to coast ipswich menu\",\"120\":\"coast digital colchester\",\"121\":\"like who who what what where\",\"122\":\"define: business\",\"123\":\"online service definition\",\"124\":\"content marketing agencies london\",\"125\":\"what does encompasses mean\",\"126\":\"what does market mean\",\"127\":\"digital seo.net\",\"128\":\"digital media blog\",\"129\":\"marketing world\",\"130\":\"define wat\",\"131\":\"what is this \\'\",\"132\":\"digital marketing services uk\",\"133\":\"what is all about\",\"134\":\"digital channels definition\",\"135\":\"top uk digital agencies\",\"136\":\"define marketing concept\",\"137\":\"digital marketing consulting services\",\"138\":\"digital work\",\"139\":\"define e marketing\",\"140\":\"digital marketing sales\",\"141\":\"results through digital\",\"142\":\"star digital marketing services\",\"143\":\"marketing services business\",\"144\":\"digital marketing professional services\",\"145\":\"marketing services company\",\"146\":\"digital marketing company new york\",\"147\":\"uk online marketing services\",\"148\":\"how to market b2b services\",\"149\":\"digital marketing company nyc\",\"150\":\"providing marketing services\",\"151\":\"marketin services\",\"152\":\"marketing service strategies\",\"153\":\"best online marketing services\",\"154\":\"star digital marketing services ltd\",\"155\":\"digital marketing financial services\",\"156\":\"financial services digital marketing\",\"157\":\"selling marketing services\",\"158\":\"phone marketing services\",\"159\":\"digital marketing service\",\"160\":\"virtual snipers digital marketing services\",\"161\":\"financial services digital marketing trends\",\"162\":\"sales marketing and service\",\"163\":\"digital marketing services india\",\"164\":\"gannett digital marketing services\",\"165\":\"digital marketing for financial services summit\",\"166\":\"how to sell digital marketing services\",\"167\":\"select marketing services\",\"168\":\"digital marketing strategy services\",\"169\":\"online marketing services uk\",\"170\":\"marketing sevices\",\"171\":\"marketing services strategies\",\"172\":\"digital marketing services birmingham al\",\"173\":\"website traffic marketing services\",\"174\":\"marketing services agency\",\"175\":\"marketing of it services\",\"176\":\"marketing in it services\",\"177\":\"selling digital marketing services\",\"178\":\"marketing services network\",\"179\":\"campaign marketing services\",\"180\":\"digital marketing trends in financial services\",\"181\":\"digital marketing services reading\",\"182\":\"digital marketing services bristol\",\"183\":\"financial services digital marketing agency\",\"184\":\"digital marketing automation services\",\"185\":\"digital marketing services list\",\"186\":\"digital marketing in financial services\",\"187\":\"who needs digital marketing\",\"188\":\"rv digital marketing services\",\"189\":\"buy digital marketing services\",\"190\":\"how much to charge for digital marketing\",\"191\":\"digital marketing services for small business\",\"192\":\"digital services marketing\",\"193\":\"how to pitch digital marketing services\",\"194\":\"digital marketing services pricing\",\"195\":\"altitude internet digital marketing services limited\",\"196\":\"internet marketing companies\",\"197\":\"mobile marketing companies\",\"198\":\"digital market\",\"199\":\"seo services london\",\"200\":\"search marketing agency\",\"201\":\"online marketing companies\",\"202\":\"top digital marketing companies\",\"203\":\"digital advertising companies\",\"204\":\"the search marketing shop\",\"205\":\"content marketing agency uk\",\"206\":\"best digital marketing agency\",\"207\":\"seo and digital marketing\",\"208\":\"b2b digital marketing agency\",\"209\":\"digital marketing agency\",\"210\":\"digital marketing communications\",\"211\":\"content meaning\",\"212\":\"content marketing agency\",\"213\":\"email marketing agency\",\"214\":\"digital agencies london\",\"215\":\"content marketing agency london\",\"216\":\"digital marketing agency reading\",\"217\":\"digital marketing company\",\"218\":\"digital marketing agencies\",\"219\":\"email marketing agency london\",\"220\":\"digital marketing life cycle\",\"221\":\"digital marketing agency london\",\"222\":\"digital marketing companies\",\"223\":\"benefits of digital marketing\",\"224\":\"online marketing agency\",\"225\":\"digital marketing companies in uk\",\"226\":\"top digital marketing agencies\",\"227\":\"digital marketing agency uk\",\"228\":\"top digital marketing agencies london\",\"229\":\"internet marketing services\",\"230\":\"impressions digital marketing\",\"231\":\"digital media agencies\",\"232\":\"online marketing company\",\"233\":\"social media marketing companies\",\"234\":\"seo digital marketing\",\"235\":\"website design nottingham\",\"236\":\"ppc online\",\"237\":\"social media advertising agency\",\"238\":\"digital content marketing\",\"239\":\"social media marketing agency uk\",\"240\":\"digital marketing strategist\",\"241\":\"web designers nottingham\",\"242\":\"digital marketing for financial services\",\"243\":\"internet marketing experts\",\"244\":\"digital marketing services\",\"245\":\"digital marketing agency near me\",\"246\":\"marketing-online\",\"247\":\"internet marketing company\",\"248\":\"search marketing company\",\"249\":\"how to get into digital marketing\",\"250\":\"digital marketing strategies\",\"251\":\"full service digital agency\",\"252\":\"digital agency services\",\"253\":\"web design nottingham\",\"254\":\"digital marketing campaign\",\"255\":\"types of digital marketing\",\"256\":\"digital marketing companies london\",\"257\":\"social media agency london\",\"258\":\"digital media agency\",\"259\":\"london digital agency\",\"260\":\"learn digital marketing\",\"261\":\"web marketing company\",\"262\":\"what is e-marketing\",\"263\":\"online advertising agency\",\"264\":\"social media marketing agency london\",\"265\":\"best digital agencies london\",\"266\":\"go umbrella time online\",\"267\":\"internet marketing expert\",\"268\":\"online marketing\",\"269\":\"social media marketing agency\",\"270\":\"digital agency london\",\"271\":\"marketing online\",\"272\":\"digital advertising agency\",\"273\":\"online marketing agency london\",\"274\":\"social media marketing services\",\"275\":\"online digital marketing\",\"276\":\"social media marketing companies uk\",\"277\":\"social media agency bristol\",\"278\":\"digital agency\",\"279\":\"digital marketing strategy\",\"280\":\"digital marketing london\",\"281\":\"digital marketing techniques\",\"282\":\"digital media marketing\",\"283\":\"digital marketing expert\",\"284\":\"online marketing expert\",\"285\":\"digital media agency london\",\"286\":\"top digital agencies london\",\"287\":\"digital ad agency\",\"288\":\"digital marketing agency essex\",\"289\":\"digital marketing social media\",\"290\":\"digital transformation agency london\",\"291\":\"web designer nottingham\",\"292\":\"online marketing channels\",\"293\":\"digital agencies uk\",\"294\":\"internet marketing strategy\",\"295\":\"digital marketing company london\",\"296\":\"social media marketing london\",\"297\":\"internet marketing agency\",\"298\":\"strategy internet marketing\",\"299\":\"social media company\",\"300\":\"online marketing business\",\"301\":\"social media companies london\",\"302\":\"marketing website\",\"303\":\"nottingham web design\",\"304\":\"internet marketing strategies\",\"305\":\"digital technology examples\",\"306\":\"what is a digital agency\",\"307\":\"digital marketing services london\",\"308\":\"web marketing agency\",\"309\":\"social media marketing company\",\"310\":\"web design agency nottingham\",\"311\":\"digital platform definition\",\"312\":\"digital agency reading\",\"313\":\"full service marketing agency\",\"314\":\"digital marketing firm\",\"315\":\"digital advertising agency london\",\"316\":\"online marketing uk\",\"317\":\"online marketing news\",\"318\":\"social media and digital marketing\",\"319\":\"marketing agency in london\",\"320\":\"digital marketing\",\"321\":\"hub spot\",\"322\":\"performance marketing\",\"323\":\"internet marketing\",\"324\":\"digital marketing news\",\"325\":\"digital marketing channels\",\"326\":\"social media companies\",\"327\":\"website marketing\",\"328\":\"online marketing strategies\",\"329\":\"online marketing services\",\"330\":\"digital marketing solutions\",\"331\":\"digital marketing uk\",\"332\":\"web marketing services\",\"333\":\"market online\",\"334\":\"performance marketing agency\",\"335\":\"social media marketing companies london\",\"336\":\"web design company nottingham\",\"337\":\"introduction to digital marketing\",\"338\":\"online marketing campaign\",\"339\":\"digital marketing news uk\",\"340\":\"social media companies uk\",\"341\":\"web development nottingham\",\"342\":\"website marketing company\",\"343\":\"integrated marketing agency london\",\"344\":\"marketing agency london\",\"345\":\"marketing company\",\"346\":\"marketing digital\",\"347\":\"marketing services\",\"348\":\"discuss the market\",\"349\":\"search marketing\",\"350\":\"digital agency uk\",\"351\":\"services marketing\",\"352\":\"digital marketing blog\",\"353\":\"marketing blog\",\"354\":\"marketing agency reading\",\"355\":\"digital marketing blogs\",\"356\":\"top marketing agencies london\",\"357\":\"media-marketing\",\"358\":\"london marketing agency\",\"359\":\"online marketing strategy\",\"360\":\"social media marketing uk\",\"361\":\"digital marketing industry\",\"362\":\"social media marketing cost\",\"363\":\"digital marketing websites\",\"364\":\"marketing companies essex\",\"365\":\"marketing agencies in london\",\"366\":\"digital marketing communication\",\"367\":\"online marketing plan\",\"368\":\"whats digital marketing\",\"369\":\"social media marketing companies for small business\",\"370\":\"website marketing strategy\",\"371\":\"marketing company uk\",\"372\":\"best digital marketing blogs\",\"373\":\"hubspot\",\"374\":\"digital marketing definition\",\"375\":\"digital business\",\"376\":\"digital marketing specialist\",\"377\":\"marketing companies near me\",\"378\":\"digital marketing platforms\",\"379\":\"digital marketing essex\",\"380\":\"social media marketing examples\",\"381\":\"marketing companys\",\"382\":\"how to become a digital marketer\",\"383\":\"online marketing solutions\",\"384\":\"marketing companies\",\"385\":\"marketing agencies london\",\"386\":\"agency online\",\"387\":\"marketing agencies near me\",\"388\":\"digital marketing examples\",\"389\":\"digital company\",\"390\":\"importance of digital marketing\",\"391\":\"what is e marketing\",\"392\":\"marketing agency uk\",\"393\":\"marketing agencies uk\",\"394\":\"london marketing agencies\",\"395\":\"online marketing definition\",\"396\":\"elements of internet marketing\",\"397\":\"best online marketing\",\"398\":\"internet marketing business\",\"399\":\"internet marketing service\",\"400\":\"digital marketing meaning\",\"401\":\"digital and social media marketing\",\"402\":\"advertising agencies near me\",\"403\":\"digital media companies\",\"404\":\"full service agency\",\"405\":\"digital marketing roles\",\"406\":\"what is online marketing\",\"407\":\"understanding digital marketing\",\"408\":\"what is digital marketing strategy\",\"409\":\"marketing companies in london\",\"410\":\"top digital agencies uk\",\"411\":\"digital marketing articles\",\"412\":\"media marketing\",\"413\":\"digital media companies london\",\"414\":\"online marketing firm\",\"415\":\"digital media products\",\"416\":\"design agency colchester\",\"417\":\"examples of digital marketing\",\"418\":\"business market definition\",\"419\":\"digital marketing show\",\"420\":\"digital channels\",\"421\":\"what is a media agency\",\"422\":\"marketing agency essex\",\"423\":\"marketing agency ipswich\",\"424\":\"marketing agency colchester\",\"425\":\"how to do online marketing\",\"426\":\"it marketing\",\"427\":\"best marketing agencies london\",\"428\":\"digital agency essex\",\"429\":\"internet marketing uk\",\"430\":\"marketing service\",\"431\":\"digital media\",\"432\":\"hubsport\",\"433\":\"marketing companies london\",\"434\":\"marketing work\",\"435\":\"marketing firms london\",\"436\":\"digital marketing colchester\",\"437\":\"digital media advertising\",\"438\":\"digital marketing what is it\",\"439\":\"network marketing company\",\"440\":\"solution marketing nottingham\",\"441\":\"coast\",\"442\":\"digital\",\"443\":\"what is digital marketing\",\"444\":\"digital content\",\"445\":\"digital marketing job description\",\"446\":\"online meaning\",\"447\":\"digital promotion\",\"448\":\"role of digital marketing\",\"449\":\"digital marketing basics\",\"450\":\"marketing information\",\"451\":\"uses of internet in business\",\"452\":\"online strategy\",\"453\":\"creative agency essex\",\"454\":\"marketing channels examples\",\"455\":\"sales and marketing companies\",\"456\":\"what is digital media marketing\",\"457\":\"paid market research nottingham\",\"458\":\"key digital\",\"459\":\"marketing blogs\",\"460\":\"hibspot\",\"461\":\"media companies near me\",\"462\":\"coast logo\",\"463\":\"online campaign\",\"464\":\"digital london\",\"465\":\"coast near london\",\"466\":\"internet marketing london\",\"467\":\"media and marketing\",\"468\":\"digital marketing agency services\",\"469\":\"digital definition\",\"470\":\"digital companies london\",\"471\":\"how to market a website\",\"472\":\"marketing a service\",\"473\":\"what is digital advertising\",\"474\":\"market details\",\"475\":\"top marketing firms uk\",\"476\":\"marketing concept definition\",\"477\":\"types of digital media\",\"478\":\"types of online marketing\",\"479\":\"digital marketing methods\",\"480\":\"full-service\",\"481\":\"digital technology definition\",\"482\":\"essex digital awards\",\"483\":\"agency services\",\"484\":\"the who .com\",\"485\":\"why digital marketing is important\",\"486\":\"marketing concept examples\",\"487\":\"interactive media examples\",\"488\":\"digital uk\",\"489\":\"online media\",\"490\":\"the who com\",\"491\":\"digital blog\",\"492\":\"internet businesses\",\"493\":\"best digital market\",\"494\":\"website meaning\",\"495\":\"digital marketing terms\",\"496\":\"digital online\",\"497\":\"online marketing london\",\"498\":\"digital media sales\",\"499\":\"marketing meaning\",\"500\":\"head of digital marketing\",\"501\":\"marketing vs advertising\",\"502\":\"digtal\",\"503\":\"digital marketing ipswich\",\"504\":\"the who net\",\"505\":\"what is digital media\",\"506\":\"coast london\",\"507\":\"digital uk website\",\"508\":\"who is website\",\"509\":\"coast head office london\",\"510\":\"information marketing\",\"511\":\"search social media by email\",\"512\":\"social media marketing bristol\",\"513\":\"digital media definition\",\"514\":\"passion digital\",\"515\":\"www coast co uk\",\"516\":\"email meaning\",\"517\":\"coasr\",\"518\":\"caost\",\"519\":\"coast website\",\"520\":\"ccoast\",\"521\":\"coast uk\",\"522\":\"who is this\",\"523\":\"coast online\",\"524\":\"coadt\",\"525\":\"www coast com\",\"526\":\"internet channels\",\"527\":\"www coast\",\"528\":\"marketing essex\",\"529\":\"form digital\",\"530\":\"examples of digital media\",\"531\":\"and digital\",\"532\":\"what is this\",\"533\":\"climb online\",\"534\":\"company meaning\",\"535\":\"digital meaning\",\"536\":\"which or what\",\"537\":\"more definition\",\"538\":\"coast digital\",\"539\":\"define business\",\"540\":\"market meaning\",\"541\":\"define more\",\"542\":\"on digital\",\"543\":\"define numerous\",\"544\":\"what is digital\",\"545\":\"what does digital mean\",\"546\":\"define digital\",\"547\":\"digital campaign\",\"548\":\"can definition\",\"549\":\"world of digital\",\"550\":\"digital space\",\"551\":\"digital media examples\",\"552\":\"define all\",\"553\":\"whats more\",\"554\":\"post meaning after\",\"555\":\"what\\'s the time today\",\"556\":\"online post\",\"557\":\"full fat pr\",\"558\":\"garish definition\",\"559\":\"info meaning\",\"560\":\"why digital marketing\",\"561\":\"methods digital\",\"562\":\"whowhatwhy\",\"563\":\"definition of digital marketing\",\"564\":\"define digital marketing\",\"565\":\"what does comprise mean\",\"566\":\"hubspot marketing blog\",\"567\":\"why work in digital marketing\",\"568\":\"definition of a business\",\"569\":\"definition of digital\",\"570\":\"define online\",\"571\":\"what does according mean\",\"572\":\"define including\",\"573\":\"define an english person\",\"574\":\"marketing media\",\"575\":\"define encompasses\",\"576\":\"what is flr\",\"577\":\"get on with it meaning\",\"578\":\"marketing sector\",\"579\":\"what does comprised mean\",\"580\":\"is website up\",\"581\":\"define digital media\",\"582\":\"make it up to you meaning\",\"583\":\"online definition\",\"584\":\"market trends definition\",\"585\":\"what is digital content\",\"586\":\"digital does\",\"587\":\"business to business definition\",\"588\":\"what is the marketing concept\",\"589\":\"digitsl\",\"590\":\"digital media services uk ltd\",\"591\":\"digital devices online\",\"592\":\"define digital technology\",\"593\":\"online services definition\",\"594\":\"digital media meaning\",\"595\":\"description of a market\",\"596\":\"internet marketing bristol\",\"597\":\"what does entails mean\",\"598\":\"new digital media\",\"599\":\"digital media industry\",\"600\":\"lucy online free\",\"601\":\"digital results\",\"602\":\"online marketing blog\",\"603\":\"what is &\",\"604\":\"work digital\",\"605\":\"areas of marketing\",\"606\":\"digital marketing images\",\"607\":\"internet marketing seo\",\"608\":\"online web marketing\",\"609\":\"digital sales\",\"610\":\"what is the who\",\"611\":\"marketing business definition\",\"612\":\"digitally meaning\",\"613\":\"digital media manager\",\"614\":\"define used to\",\"615\":\"meaning of digital\",\"616\":\"what is a media company\",\"617\":\"what is a com\",\"618\":\"which and what\",\"619\":\"who\\'s online\",\"620\":\"didgital\",\"621\":\"definition of digital media\",\"622\":\"internet description\",\"623\":\"clim online\",\"624\":\"blog internet marketing\",\"625\":\"market description\",\"626\":\"digitial\",\"627\":\"now digital\",\"628\":\"digital 1\",\"629\":\"how of\",\"630\":\"biddable media definition\",\"631\":\"what will be will be meaning\",\"632\":\"digital means\",\"633\":\"direct and digital marketing\",\"634\":\"the digital\",\"635\":\"market sector definition\",\"636\":\"digital space definition\",\"637\":\"full personal service\",\"638\":\"digial\",\"639\":\"the help agency\",\"640\":\"coast agency\",\"641\":\"new media marketing\",\"642\":\"be website\",\"643\":\"digitla\",\"644\":\"constitutes define\",\"645\":\"uk agency services\",\"646\":\"define consist\",\"647\":\"worldofdigital\",\"648\":\"digtial\",\"649\":\"market business definition\",\"650\":\"essex digital media\",\"651\":\"what digital\",\"652\":\"why digital media\",\"653\":\"new digital business\",\"654\":\"digital marketing resources\",\"655\":\"absolute pr and marketing\",\"656\":\"define the media\",\"657\":\"service marketing strategy\"},\"Country\":{\"0\":\"gb\",\"1\":\"gb\",\"2\":\"gb\",\"3\":\"gb\",\"4\":\"gb\",\"5\":\"gb\",\"6\":\"gb\",\"7\":\"gb\",\"8\":\"gb\",\"9\":\"gb\",\"10\":\"gb\",\"11\":\"gb\",\"12\":\"gb\",\"13\":\"gb\",\"14\":\"gb\",\"15\":\"gb\",\"16\":\"gb\",\"17\":\"gb\",\"18\":\"gb\",\"19\":\"gb\",\"20\":\"gb\",\"21\":\"gb\",\"22\":\"gb\",\"23\":\"gb\",\"24\":\"gb\",\"25\":\"gb\",\"26\":\"gb\",\"27\":\"gb\",\"28\":\"gb\",\"29\":\"gb\",\"30\":\"gb\",\"31\":\"gb\",\"32\":\"gb\",\"33\":\"gb\",\"34\":\"gb\",\"35\":\"gb\",\"36\":\"gb\",\"37\":\"gb\",\"38\":\"gb\",\"39\":\"gb\",\"40\":\"gb\",\"41\":\"gb\",\"42\":\"gb\",\"43\":\"gb\",\"44\":\"gb\",\"45\":\"gb\",\"46\":\"gb\",\"47\":\"gb\",\"48\":\"gb\",\"49\":\"gb\",\"50\":\"gb\",\"51\":\"gb\",\"52\":\"gb\",\"53\":\"gb\",\"54\":\"gb\",\"55\":\"gb\",\"56\":\"gb\",\"57\":\"gb\",\"58\":\"gb\",\"59\":\"gb\",\"60\":\"gb\",\"61\":\"gb\",\"62\":\"gb\",\"63\":\"gb\",\"64\":\"gb\",\"65\":\"gb\",\"66\":\"gb\",\"67\":\"gb\",\"68\":\"gb\",\"69\":\"gb\",\"70\":\"gb\",\"71\":\"gb\",\"72\":\"gb\",\"73\":\"gb\",\"74\":\"gb\",\"75\":\"gb\",\"76\":\"gb\",\"77\":\"gb\",\"78\":\"gb\",\"79\":\"gb\",\"80\":\"gb\",\"81\":\"gb\",\"82\":\"gb\",\"83\":\"gb\",\"84\":\"gb\",\"85\":\"gb\",\"86\":\"gb\",\"87\":\"gb\",\"88\":\"gb\",\"89\":\"gb\",\"90\":\"gb\",\"91\":\"gb\",\"92\":\"gb\",\"93\":\"gb\",\"94\":\"gb\",\"95\":\"gb\",\"96\":\"gb\",\"97\":\"gb\",\"98\":\"gb\",\"99\":\"gb\",\"100\":\"gb\",\"101\":\"gb\",\"102\":\"gb\",\"103\":\"gb\",\"104\":\"gb\",\"105\":\"gb\",\"106\":\"gb\",\"107\":\"gb\",\"108\":\"gb\",\"109\":\"gb\",\"110\":\"gb\",\"111\":\"gb\",\"112\":\"gb\",\"113\":\"gb\",\"114\":\"gb\",\"115\":\"gb\",\"116\":\"gb\",\"117\":\"gb\",\"118\":\"gb\",\"119\":\"gb\",\"120\":\"gb\",\"121\":\"gb\",\"122\":\"gb\",\"123\":\"gb\",\"124\":\"gb\",\"125\":\"gb\",\"126\":\"gb\",\"127\":\"gb\",\"128\":\"gb\",\"129\":\"gb\",\"130\":\"gb\",\"131\":\"gb\",\"132\":\"gb\",\"133\":\"gb\",\"134\":\"gb\",\"135\":\"gb\",\"136\":\"gb\",\"137\":\"gb\",\"138\":\"gb\",\"139\":\"gb\",\"140\":\"gb\",\"141\":\"gb\",\"142\":\"gb\",\"143\":\"gb\",\"144\":\"gb\",\"145\":\"gb\",\"146\":\"gb\",\"147\":\"gb\",\"148\":\"gb\",\"149\":\"gb\",\"150\":\"gb\",\"151\":\"gb\",\"152\":\"gb\",\"153\":\"gb\",\"154\":\"gb\",\"155\":\"gb\",\"156\":\"gb\",\"157\":\"gb\",\"158\":\"gb\",\"159\":\"gb\",\"160\":\"gb\",\"161\":\"gb\",\"162\":\"gb\",\"163\":\"gb\",\"164\":\"gb\",\"165\":\"gb\",\"166\":\"gb\",\"167\":\"gb\",\"168\":\"gb\",\"169\":\"gb\",\"170\":\"gb\",\"171\":\"gb\",\"172\":\"gb\",\"173\":\"gb\",\"174\":\"gb\",\"175\":\"gb\",\"176\":\"gb\",\"177\":\"gb\",\"178\":\"gb\",\"179\":\"gb\",\"180\":\"gb\",\"181\":\"gb\",\"182\":\"gb\",\"183\":\"gb\",\"184\":\"gb\",\"185\":\"gb\",\"186\":\"gb\",\"187\":\"gb\",\"188\":\"gb\",\"189\":\"gb\",\"190\":\"gb\",\"191\":\"gb\",\"192\":\"gb\",\"193\":\"gb\",\"194\":\"gb\",\"195\":\"gb\",\"196\":\"gb\",\"197\":\"gb\",\"198\":\"gb\",\"199\":\"gb\",\"200\":\"gb\",\"201\":\"gb\",\"202\":\"gb\",\"203\":\"gb\",\"204\":\"gb\",\"205\":\"gb\",\"206\":\"gb\",\"207\":\"gb\",\"208\":\"gb\",\"209\":\"gb\",\"210\":\"gb\",\"211\":\"gb\",\"212\":\"gb\",\"213\":\"gb\",\"214\":\"gb\",\"215\":\"gb\",\"216\":\"gb\",\"217\":\"gb\",\"218\":\"gb\",\"219\":\"gb\",\"220\":\"gb\",\"221\":\"gb\",\"222\":\"gb\",\"223\":\"gb\",\"224\":\"gb\",\"225\":\"gb\",\"226\":\"gb\",\"227\":\"gb\",\"228\":\"gb\",\"229\":\"gb\",\"230\":\"gb\",\"231\":\"gb\",\"232\":\"gb\",\"233\":\"gb\",\"234\":\"gb\",\"235\":\"gb\",\"236\":\"gb\",\"237\":\"gb\",\"238\":\"gb\",\"239\":\"gb\",\"240\":\"gb\",\"241\":\"gb\",\"242\":\"gb\",\"243\":\"gb\",\"244\":\"gb\",\"245\":\"gb\",\"246\":\"gb\",\"247\":\"gb\",\"248\":\"gb\",\"249\":\"gb\",\"250\":\"gb\",\"251\":\"gb\",\"252\":\"gb\",\"253\":\"gb\",\"254\":\"gb\",\"255\":\"gb\",\"256\":\"gb\",\"257\":\"gb\",\"258\":\"gb\",\"259\":\"gb\",\"260\":\"gb\",\"261\":\"gb\",\"262\":\"gb\",\"263\":\"gb\",\"264\":\"gb\",\"265\":\"gb\",\"266\":\"gb\",\"267\":\"gb\",\"268\":\"gb\",\"269\":\"gb\",\"270\":\"gb\",\"271\":\"gb\",\"272\":\"gb\",\"273\":\"gb\",\"274\":\"gb\",\"275\":\"gb\",\"276\":\"gb\",\"277\":\"gb\",\"278\":\"gb\",\"279\":\"gb\",\"280\":\"gb\",\"281\":\"gb\",\"282\":\"gb\",\"283\":\"gb\",\"284\":\"gb\",\"285\":\"gb\",\"286\":\"gb\",\"287\":\"gb\",\"288\":\"gb\",\"289\":\"gb\",\"290\":\"gb\",\"291\":\"gb\",\"292\":\"gb\",\"293\":\"gb\",\"294\":\"gb\",\"295\":\"gb\",\"296\":\"gb\",\"297\":\"gb\",\"298\":\"gb\",\"299\":\"gb\",\"300\":\"gb\",\"301\":\"gb\",\"302\":\"gb\",\"303\":\"gb\",\"304\":\"gb\",\"305\":\"gb\",\"306\":\"gb\",\"307\":\"gb\",\"308\":\"gb\",\"309\":\"gb\",\"310\":\"gb\",\"311\":\"gb\",\"312\":\"gb\",\"313\":\"gb\",\"314\":\"gb\",\"315\":\"gb\",\"316\":\"gb\",\"317\":\"gb\",\"318\":\"gb\",\"319\":\"gb\",\"320\":\"gb\",\"321\":\"gb\",\"322\":\"gb\",\"323\":\"gb\",\"324\":\"gb\",\"325\":\"gb\",\"326\":\"gb\",\"327\":\"gb\",\"328\":\"gb\",\"329\":\"gb\",\"330\":\"gb\",\"331\":\"gb\",\"332\":\"gb\",\"333\":\"gb\",\"334\":\"gb\",\"335\":\"gb\",\"336\":\"gb\",\"337\":\"gb\",\"338\":\"gb\",\"339\":\"gb\",\"340\":\"gb\",\"341\":\"gb\",\"342\":\"gb\",\"343\":\"gb\",\"344\":\"gb\",\"345\":\"gb\",\"346\":\"gb\",\"347\":\"gb\",\"348\":\"gb\",\"349\":\"gb\",\"350\":\"gb\",\"351\":\"gb\",\"352\":\"gb\",\"353\":\"gb\",\"354\":\"gb\",\"355\":\"gb\",\"356\":\"gb\",\"357\":\"gb\",\"358\":\"gb\",\"359\":\"gb\",\"360\":\"gb\",\"361\":\"gb\",\"362\":\"gb\",\"363\":\"gb\",\"364\":\"gb\",\"365\":\"gb\",\"366\":\"gb\",\"367\":\"gb\",\"368\":\"gb\",\"369\":\"gb\",\"370\":\"gb\",\"371\":\"gb\",\"372\":\"gb\",\"373\":\"gb\",\"374\":\"gb\",\"375\":\"gb\",\"376\":\"gb\",\"377\":\"gb\",\"378\":\"gb\",\"379\":\"gb\",\"380\":\"gb\",\"381\":\"gb\",\"382\":\"gb\",\"383\":\"gb\",\"384\":\"gb\",\"385\":\"gb\",\"386\":\"gb\",\"387\":\"gb\",\"388\":\"gb\",\"389\":\"gb\",\"390\":\"gb\",\"391\":\"gb\",\"392\":\"gb\",\"393\":\"gb\",\"394\":\"gb\",\"395\":\"gb\",\"396\":\"gb\",\"397\":\"gb\",\"398\":\"gb\",\"399\":\"gb\",\"400\":\"gb\",\"401\":\"gb\",\"402\":\"gb\",\"403\":\"gb\",\"404\":\"gb\",\"405\":\"gb\",\"406\":\"gb\",\"407\":\"gb\",\"408\":\"gb\",\"409\":\"gb\",\"410\":\"gb\",\"411\":\"gb\",\"412\":\"gb\",\"413\":\"gb\",\"414\":\"gb\",\"415\":\"gb\",\"416\":\"gb\",\"417\":\"gb\",\"418\":\"gb\",\"419\":\"gb\",\"420\":\"gb\",\"421\":\"gb\",\"422\":\"gb\",\"423\":\"gb\",\"424\":\"gb\",\"425\":\"gb\",\"426\":\"gb\",\"427\":\"gb\",\"428\":\"gb\",\"429\":\"gb\",\"430\":\"gb\",\"431\":\"gb\",\"432\":\"gb\",\"433\":\"gb\",\"434\":\"gb\",\"435\":\"gb\",\"436\":\"gb\",\"437\":\"gb\",\"438\":\"gb\",\"439\":\"gb\",\"440\":\"gb\",\"441\":\"gb\",\"442\":\"gb\",\"443\":\"gb\",\"444\":\"gb\",\"445\":\"gb\",\"446\":\"gb\",\"447\":\"gb\",\"448\":\"gb\",\"449\":\"gb\",\"450\":\"gb\",\"451\":\"gb\",\"452\":\"gb\",\"453\":\"gb\",\"454\":\"gb\",\"455\":\"gb\",\"456\":\"gb\",\"457\":\"gb\",\"458\":\"gb\",\"459\":\"gb\",\"460\":\"gb\",\"461\":\"gb\",\"462\":\"gb\",\"463\":\"gb\",\"464\":\"gb\",\"465\":\"gb\",\"466\":\"gb\",\"467\":\"gb\",\"468\":\"gb\",\"469\":\"gb\",\"470\":\"gb\",\"471\":\"gb\",\"472\":\"gb\",\"473\":\"gb\",\"474\":\"gb\",\"475\":\"gb\",\"476\":\"gb\",\"477\":\"gb\",\"478\":\"gb\",\"479\":\"gb\",\"480\":\"gb\",\"481\":\"gb\",\"482\":\"gb\",\"483\":\"gb\",\"484\":\"gb\",\"485\":\"gb\",\"486\":\"gb\",\"487\":\"gb\",\"488\":\"gb\",\"489\":\"gb\",\"490\":\"gb\",\"491\":\"gb\",\"492\":\"gb\",\"493\":\"gb\",\"494\":\"gb\",\"495\":\"gb\",\"496\":\"gb\",\"497\":\"gb\",\"498\":\"gb\",\"499\":\"gb\",\"500\":\"gb\",\"501\":\"gb\",\"502\":\"gb\",\"503\":\"gb\",\"504\":\"gb\",\"505\":\"gb\",\"506\":\"gb\",\"507\":\"gb\",\"508\":\"gb\",\"509\":\"gb\",\"510\":\"gb\",\"511\":\"gb\",\"512\":\"gb\",\"513\":\"gb\",\"514\":\"gb\",\"515\":\"gb\",\"516\":\"gb\",\"517\":\"gb\",\"518\":\"gb\",\"519\":\"gb\",\"520\":\"gb\",\"521\":\"gb\",\"522\":\"gb\",\"523\":\"gb\",\"524\":\"gb\",\"525\":\"gb\",\"526\":\"gb\",\"527\":\"gb\",\"528\":\"gb\",\"529\":\"gb\",\"530\":\"gb\",\"531\":\"gb\",\"532\":\"gb\",\"533\":\"gb\",\"534\":\"gb\",\"535\":\"gb\",\"536\":\"gb\",\"537\":\"gb\",\"538\":\"gb\",\"539\":\"gb\",\"540\":\"gb\",\"541\":\"gb\",\"542\":\"gb\",\"543\":\"gb\",\"544\":\"gb\",\"545\":\"gb\",\"546\":\"gb\",\"547\":\"gb\",\"548\":\"gb\",\"549\":\"gb\",\"550\":\"gb\",\"551\":\"gb\",\"552\":\"gb\",\"553\":\"gb\",\"554\":\"gb\",\"555\":\"gb\",\"556\":\"gb\",\"557\":\"gb\",\"558\":\"gb\",\"559\":\"gb\",\"560\":\"gb\",\"561\":\"gb\",\"562\":\"gb\",\"563\":\"gb\",\"564\":\"gb\",\"565\":\"gb\",\"566\":\"gb\",\"567\":\"gb\",\"568\":\"gb\",\"569\":\"gb\",\"570\":\"gb\",\"571\":\"gb\",\"572\":\"gb\",\"573\":\"gb\",\"574\":\"gb\",\"575\":\"gb\",\"576\":\"gb\",\"577\":\"gb\",\"578\":\"gb\",\"579\":\"gb\",\"580\":\"gb\",\"581\":\"gb\",\"582\":\"gb\",\"583\":\"gb\",\"584\":\"gb\",\"585\":\"gb\",\"586\":\"gb\",\"587\":\"gb\",\"588\":\"gb\",\"589\":\"gb\",\"590\":\"gb\",\"591\":\"gb\",\"592\":\"gb\",\"593\":\"gb\",\"594\":\"gb\",\"595\":\"gb\",\"596\":\"gb\",\"597\":\"gb\",\"598\":\"gb\",\"599\":\"gb\",\"600\":\"gb\",\"601\":\"gb\",\"602\":\"gb\",\"603\":\"gb\",\"604\":\"gb\",\"605\":\"gb\",\"606\":\"gb\",\"607\":\"gb\",\"608\":\"gb\",\"609\":\"gb\",\"610\":\"gb\",\"611\":\"gb\",\"612\":\"gb\",\"613\":\"gb\",\"614\":\"gb\",\"615\":\"gb\",\"616\":\"gb\",\"617\":\"gb\",\"618\":\"gb\",\"619\":\"gb\",\"620\":\"gb\",\"621\":\"gb\",\"622\":\"gb\",\"623\":\"gb\",\"624\":\"gb\",\"625\":\"gb\",\"626\":\"gb\",\"627\":\"gb\",\"628\":\"gb\",\"629\":\"gb\",\"630\":\"gb\",\"631\":\"gb\",\"632\":\"gb\",\"633\":\"gb\",\"634\":\"gb\",\"635\":\"gb\",\"636\":\"gb\",\"637\":\"gb\",\"638\":\"gb\",\"639\":\"gb\",\"640\":\"gb\",\"641\":\"gb\",\"642\":\"gb\",\"643\":\"gb\",\"644\":\"gb\",\"645\":\"gb\",\"646\":\"gb\",\"647\":\"gb\",\"648\":\"gb\",\"649\":\"gb\",\"650\":\"gb\",\"651\":\"gb\",\"652\":\"gb\",\"653\":\"gb\",\"654\":\"gb\",\"655\":\"gb\",\"656\":\"gb\",\"657\":\"gb\"},\"Difficulty\":{\"0\":73.0,\"1\":0.0,\"2\":74.0,\"3\":8.0,\"4\":44.0,\"5\":48.0,\"6\":6.0,\"7\":0.0,\"8\":33.0,\"9\":10.0,\"10\":74.0,\"11\":63.0,\"12\":3.0,\"13\":17.0,\"14\":95.0,\"15\":61.0,\"16\":9.0,\"17\":2.0,\"18\":43.0,\"19\":67.0,\"20\":10.0,\"21\":15.0,\"22\":1.0,\"23\":13.0,\"24\":64.0,\"25\":4.0,\"26\":48.0,\"27\":3.0,\"28\":20.0,\"29\":17.0,\"30\":30.0,\"31\":28.0,\"32\":67.0,\"33\":20.0,\"34\":3.0,\"35\":2.0,\"36\":31.0,\"37\":4.0,\"38\":17.0,\"39\":89.0,\"40\":28.0,\"41\":2.0,\"42\":11.0,\"43\":62.0,\"44\":0.0,\"45\":20.0,\"46\":26.0,\"47\":26.0,\"48\":74.0,\"49\":80.0,\"50\":42.0,\"51\":12.0,\"52\":14.0,\"53\":67.0,\"54\":58.0,\"55\":45.0,\"56\":null,\"57\":10.0,\"58\":12.0,\"59\":11.0,\"60\":13.0,\"61\":26.0,\"62\":41.0,\"63\":26.0,\"64\":62.0,\"65\":35.0,\"66\":6.0,\"67\":3.0,\"68\":3.0,\"69\":70.0,\"70\":10.0,\"71\":5.0,\"72\":42.0,\"73\":48.0,\"74\":1.0,\"75\":4.0,\"76\":54.0,\"77\":63.0,\"78\":19.0,\"79\":50.0,\"80\":23.0,\"81\":8.0,\"82\":0.0,\"83\":37.0,\"84\":35.0,\"85\":8.0,\"86\":19.0,\"87\":42.0,\"88\":3.0,\"89\":9.0,\"90\":33.0,\"91\":33.0,\"92\":1.0,\"93\":35.0,\"94\":64.0,\"95\":5.0,\"96\":7.0,\"97\":0.0,\"98\":35.0,\"99\":5.0,\"100\":0.0,\"101\":17.0,\"102\":41.0,\"103\":0.0,\"104\":80.0,\"105\":5.0,\"106\":1.0,\"107\":39.0,\"108\":9.0,\"109\":0.0,\"110\":35.0,\"111\":88.0,\"112\":4.0,\"113\":28.0,\"114\":80.0,\"115\":30.0,\"116\":5.0,\"117\":20.0,\"118\":3.0,\"119\":0.0,\"120\":0.0,\"121\":0.0,\"122\":64.0,\"123\":1.0,\"124\":31.0,\"125\":7.0,\"126\":43.0,\"127\":41.0,\"128\":22.0,\"129\":0.0,\"130\":15.0,\"131\":56.0,\"132\":null,\"133\":0.0,\"134\":20.0,\"135\":5.0,\"136\":15.0,\"137\":null,\"138\":12.0,\"139\":29.0,\"140\":null,\"141\":1.0,\"142\":null,\"143\":null,\"144\":null,\"145\":null,\"146\":null,\"147\":null,\"148\":null,\"149\":null,\"150\":null,\"151\":null,\"152\":null,\"153\":null,\"154\":null,\"155\":null,\"156\":null,\"157\":null,\"158\":null,\"159\":null,\"160\":null,\"161\":null,\"162\":null,\"163\":null,\"164\":null,\"165\":null,\"166\":null,\"167\":null,\"168\":null,\"169\":null,\"170\":null,\"171\":null,\"172\":null,\"173\":null,\"174\":null,\"175\":null,\"176\":null,\"177\":null,\"178\":null,\"179\":null,\"180\":null,\"181\":null,\"182\":null,\"183\":null,\"184\":null,\"185\":null,\"186\":null,\"187\":null,\"188\":null,\"189\":null,\"190\":null,\"191\":null,\"192\":null,\"193\":null,\"194\":null,\"195\":null,\"196\":64.0,\"197\":9.0,\"198\":83.0,\"199\":44.0,\"200\":51.0,\"201\":48.0,\"202\":39.0,\"203\":28.0,\"204\":0.0,\"205\":8.0,\"206\":47.0,\"207\":17.0,\"208\":40.0,\"209\":57.0,\"210\":26.0,\"211\":45.0,\"212\":11.0,\"213\":8.0,\"214\":50.0,\"215\":36.0,\"216\":1.0,\"217\":48.0,\"218\":35.0,\"219\":8.0,\"220\":0.0,\"221\":66.0,\"222\":46.0,\"223\":15.0,\"224\":64.0,\"225\":56.0,\"226\":24.0,\"227\":56.0,\"228\":22.0,\"229\":34.0,\"230\":23.0,\"231\":39.0,\"232\":63.0,\"233\":15.0,\"234\":36.0,\"235\":37.0,\"236\":71.0,\"237\":7.0,\"238\":24.0,\"239\":6.0,\"240\":39.0,\"241\":37.0,\"242\":0.0,\"243\":8.0,\"244\":31.0,\"245\":59.0,\"246\":70.0,\"247\":38.0,\"248\":71.0,\"249\":5.0,\"250\":64.0,\"251\":9.0,\"252\":6.0,\"253\":38.0,\"254\":39.0,\"255\":42.0,\"256\":41.0,\"257\":28.0,\"258\":45.0,\"259\":56.0,\"260\":49.0,\"261\":25.0,\"262\":17.0,\"263\":28.0,\"264\":24.0,\"265\":18.0,\"266\":5.0,\"267\":10.0,\"268\":70.0,\"269\":11.0,\"270\":52.0,\"271\":70.0,\"272\":31.0,\"273\":45.0,\"274\":22.0,\"275\":57.0,\"276\":7.0,\"277\":4.0,\"278\":48.0,\"279\":65.0,\"280\":41.0,\"281\":62.0,\"282\":66.0,\"283\":13.0,\"284\":8.0,\"285\":51.0,\"286\":7.0,\"287\":48.0,\"288\":55.0,\"289\":75.0,\"290\":47.0,\"291\":37.0,\"292\":40.0,\"293\":28.0,\"294\":65.0,\"295\":52.0,\"296\":8.0,\"297\":49.0,\"298\":68.0,\"299\":35.0,\"300\":56.0,\"301\":17.0,\"302\":38.0,\"303\":37.0,\"304\":57.0,\"305\":23.0,\"306\":11.0,\"307\":55.0,\"308\":57.0,\"309\":19.0,\"310\":37.0,\"311\":11.0,\"312\":25.0,\"313\":8.0,\"314\":43.0,\"315\":47.0,\"316\":50.0,\"317\":59.0,\"318\":61.0,\"319\":28.0,\"320\":74.0,\"321\":53.0,\"322\":7.0,\"323\":70.0,\"324\":50.0,\"325\":24.0,\"326\":25.0,\"327\":30.0,\"328\":56.0,\"329\":26.0,\"330\":39.0,\"331\":56.0,\"332\":23.0,\"333\":54.0,\"334\":48.0,\"335\":24.0,\"336\":43.0,\"337\":51.0,\"338\":48.0,\"339\":40.0,\"340\":22.0,\"341\":41.0,\"342\":48.0,\"343\":36.0,\"344\":39.0,\"345\":54.0,\"346\":69.0,\"347\":5.0,\"348\":52.0,\"349\":28.0,\"350\":45.0,\"351\":9.0,\"352\":69.0,\"353\":30.0,\"354\":6.0,\"355\":64.0,\"356\":10.0,\"357\":84.0,\"358\":39.0,\"359\":62.0,\"360\":9.0,\"361\":57.0,\"362\":23.0,\"363\":59.0,\"364\":37.0,\"365\":36.0,\"366\":23.0,\"367\":51.0,\"368\":67.0,\"369\":41.0,\"370\":45.0,\"371\":43.0,\"372\":14.0,\"373\":67.0,\"374\":66.0,\"375\":33.0,\"376\":1.0,\"377\":22.0,\"378\":73.0,\"379\":48.0,\"380\":58.0,\"381\":7.0,\"382\":15.0,\"383\":2.0,\"384\":7.0,\"385\":21.0,\"386\":66.0,\"387\":46.0,\"388\":35.0,\"389\":46.0,\"390\":40.0,\"391\":15.0,\"392\":48.0,\"393\":22.0,\"394\":31.0,\"395\":72.0,\"396\":1.0,\"397\":45.0,\"398\":76.0,\"399\":39.0,\"400\":68.0,\"401\":42.0,\"402\":32.0,\"403\":25.0,\"404\":5.0,\"405\":12.0,\"406\":77.0,\"407\":5.0,\"408\":33.0,\"409\":22.0,\"410\":5.0,\"411\":17.0,\"412\":83.0,\"413\":27.0,\"414\":55.0,\"415\":6.0,\"416\":24.0,\"417\":39.0,\"418\":38.0,\"419\":53.0,\"420\":32.0,\"421\":2.0,\"422\":47.0,\"423\":30.0,\"424\":22.0,\"425\":68.0,\"426\":4.0,\"427\":11.0,\"428\":55.0,\"429\":13.0,\"430\":46.0,\"431\":24.0,\"432\":63.0,\"433\":10.0,\"434\":23.0,\"435\":43.0,\"436\":0.0,\"437\":12.0,\"438\":67.0,\"439\":30.0,\"440\":0.0,\"441\":42.0,\"442\":89.0,\"443\":74.0,\"444\":8.0,\"445\":21.0,\"446\":29.0,\"447\":6.0,\"448\":39.0,\"449\":58.0,\"450\":6.0,\"451\":6.0,\"452\":68.0,\"453\":26.0,\"454\":37.0,\"455\":9.0,\"456\":66.0,\"457\":5.0,\"458\":4.0,\"459\":30.0,\"460\":67.0,\"461\":29.0,\"462\":0.0,\"463\":42.0,\"464\":36.0,\"465\":2.0,\"466\":54.0,\"467\":10.0,\"468\":null,\"469\":34.0,\"470\":36.0,\"471\":53.0,\"472\":25.0,\"473\":12.0,\"474\":41.0,\"475\":6.0,\"476\":19.0,\"477\":24.0,\"478\":31.0,\"479\":67.0,\"480\":3.0,\"481\":12.0,\"482\":0.0,\"483\":1.0,\"484\":77.0,\"485\":43.0,\"486\":22.0,\"487\":9.0,\"488\":24.0,\"489\":22.0,\"490\":75.0,\"491\":47.0,\"492\":59.0,\"493\":6.0,\"494\":49.0,\"495\":10.0,\"496\":57.0,\"497\":41.0,\"498\":0.0,\"499\":70.0,\"500\":0.0,\"501\":22.0,\"502\":80.0,\"503\":28.0,\"504\":44.0,\"505\":13.0,\"506\":7.0,\"507\":67.0,\"508\":95.0,\"509\":5.0,\"510\":24.0,\"511\":36.0,\"512\":0.0,\"513\":10.0,\"514\":1.0,\"515\":4.0,\"516\":29.0,\"517\":42.0,\"518\":42.0,\"519\":61.0,\"520\":42.0,\"521\":21.0,\"522\":94.0,\"523\":2.0,\"524\":43.0,\"525\":2.0,\"526\":56.0,\"527\":4.0,\"528\":26.0,\"529\":0.0,\"530\":9.0,\"531\":11.0,\"532\":39.0,\"533\":3.0,\"534\":55.0,\"535\":29.0,\"536\":9.0,\"537\":22.0,\"538\":1.0,\"539\":64.0,\"540\":0.0,\"541\":85.0,\"542\":62.0,\"543\":21.0,\"544\":30.0,\"545\":22.0,\"546\":42.0,\"547\":41.0,\"548\":19.0,\"549\":33.0,\"550\":4.0,\"551\":17.0,\"552\":23.0,\"553\":0.0,\"554\":37.0,\"555\":68.0,\"556\":77.0,\"557\":0.0,\"558\":9.0,\"559\":4.0,\"560\":63.0,\"561\":0.0,\"562\":17.0,\"563\":66.0,\"564\":64.0,\"565\":14.0,\"566\":79.0,\"567\":0.0,\"568\":65.0,\"569\":34.0,\"570\":23.0,\"571\":5.0,\"572\":22.0,\"573\":2.0,\"574\":84.0,\"575\":9.0,\"576\":21.0,\"577\":0.0,\"578\":10.0,\"579\":22.0,\"580\":92.0,\"581\":13.0,\"582\":0.0,\"583\":16.0,\"584\":6.0,\"585\":5.0,\"586\":23.0,\"587\":51.0,\"588\":24.0,\"589\":89.0,\"590\":0.0,\"591\":1.0,\"592\":12.0,\"593\":1.0,\"594\":13.0,\"595\":1.0,\"596\":53.0,\"597\":11.0,\"598\":37.0,\"599\":16.0,\"600\":2.0,\"601\":12.0,\"602\":82.0,\"603\":36.0,\"604\":3.0,\"605\":17.0,\"606\":4.0,\"607\":81.0,\"608\":49.0,\"609\":0.0,\"610\":50.0,\"611\":70.0,\"612\":12.0,\"613\":2.0,\"614\":3.0,\"615\":30.0,\"616\":12.0,\"617\":68.0,\"618\":9.0,\"619\":1.0,\"620\":79.0,\"621\":13.0,\"622\":51.0,\"623\":24.0,\"624\":83.0,\"625\":17.0,\"626\":79.0,\"627\":5.0,\"628\":26.0,\"629\":48.0,\"630\":0.0,\"631\":0.0,\"632\":23.0,\"633\":1.0,\"634\":86.0,\"635\":11.0,\"636\":8.0,\"637\":0.0,\"638\":78.0,\"639\":1.0,\"640\":2.0,\"641\":72.0,\"642\":47.0,\"643\":69.0,\"644\":9.0,\"645\":56.0,\"646\":18.0,\"647\":31.0,\"648\":70.0,\"649\":58.0,\"650\":43.0,\"651\":68.0,\"652\":53.0,\"653\":31.0,\"654\":24.0,\"655\":0.0,\"656\":45.0,\"657\":14.0},\"Volume\":{\"0\":1500,\"1\":450,\"2\":300,\"3\":300,\"4\":250,\"5\":200,\"6\":200,\"7\":200,\"8\":200,\"9\":200,\"10\":150,\"11\":150,\"12\":150,\"13\":150,\"14\":150,\"15\":150,\"16\":150,\"17\":150,\"18\":150,\"19\":100,\"20\":100,\"21\":100,\"22\":100,\"23\":100,\"24\":100,\"25\":100,\"26\":100,\"27\":100,\"28\":100,\"29\":100,\"30\":100,\"31\":100,\"32\":100,\"33\":100,\"34\":100,\"35\":100,\"36\":90,\"37\":90,\"38\":90,\"39\":90,\"40\":90,\"41\":90,\"42\":80,\"43\":80,\"44\":80,\"45\":80,\"46\":80,\"47\":80,\"48\":80,\"49\":80,\"50\":80,\"51\":80,\"52\":80,\"53\":80,\"54\":80,\"55\":80,\"56\":80,\"57\":70,\"58\":70,\"59\":70,\"60\":70,\"61\":70,\"62\":70,\"63\":70,\"64\":70,\"65\":60,\"66\":60,\"67\":60,\"68\":60,\"69\":60,\"70\":60,\"71\":60,\"72\":60,\"73\":60,\"74\":60,\"75\":60,\"76\":60,\"77\":60,\"78\":60,\"79\":60,\"80\":60,\"81\":60,\"82\":60,\"83\":60,\"84\":60,\"85\":60,\"86\":60,\"87\":60,\"88\":50,\"89\":50,\"90\":50,\"91\":50,\"92\":50,\"93\":50,\"94\":50,\"95\":50,\"96\":50,\"97\":50,\"98\":50,\"99\":50,\"100\":50,\"101\":50,\"102\":50,\"103\":50,\"104\":50,\"105\":50,\"106\":50,\"107\":50,\"108\":50,\"109\":40,\"110\":40,\"111\":40,\"112\":40,\"113\":40,\"114\":40,\"115\":40,\"116\":40,\"117\":40,\"118\":40,\"119\":40,\"120\":40,\"121\":40,\"122\":40,\"123\":40,\"124\":40,\"125\":40,\"126\":40,\"127\":40,\"128\":30,\"129\":30,\"130\":30,\"131\":30,\"132\":30,\"133\":30,\"134\":30,\"135\":30,\"136\":30,\"137\":30,\"138\":30,\"139\":30,\"140\":20,\"141\":20,\"142\":10,\"143\":10,\"144\":10,\"145\":10,\"146\":10,\"147\":10,\"148\":10,\"149\":10,\"150\":10,\"151\":10,\"152\":10,\"153\":10,\"154\":10,\"155\":10,\"156\":10,\"157\":10,\"158\":10,\"159\":10,\"160\":10,\"161\":10,\"162\":10,\"163\":10,\"164\":10,\"165\":10,\"166\":10,\"167\":10,\"168\":10,\"169\":10,\"170\":10,\"171\":10,\"172\":10,\"173\":10,\"174\":10,\"175\":10,\"176\":10,\"177\":10,\"178\":10,\"179\":10,\"180\":0,\"181\":0,\"182\":0,\"183\":0,\"184\":0,\"185\":0,\"186\":0,\"187\":0,\"188\":0,\"189\":0,\"190\":0,\"191\":0,\"192\":0,\"193\":0,\"194\":0,\"195\":0,\"196\":40,\"197\":50,\"198\":150,\"199\":350,\"200\":150,\"201\":100,\"202\":90,\"203\":50,\"204\":40,\"205\":90,\"206\":80,\"207\":80,\"208\":40,\"209\":3400,\"210\":40,\"211\":4400,\"212\":500,\"213\":250,\"214\":200,\"215\":150,\"216\":60,\"217\":500,\"218\":300,\"219\":80,\"220\":80,\"221\":700,\"222\":250,\"223\":200,\"224\":150,\"225\":100,\"226\":100,\"227\":100,\"228\":100,\"229\":90,\"230\":70,\"231\":40,\"232\":250,\"233\":200,\"234\":150,\"235\":150,\"236\":100,\"237\":100,\"238\":90,\"239\":70,\"240\":60,\"241\":50,\"242\":50,\"243\":20,\"244\":500,\"245\":250,\"246\":200,\"247\":150,\"248\":100,\"249\":100,\"250\":90,\"251\":80,\"252\":70,\"253\":500,\"254\":300,\"255\":200,\"256\":200,\"257\":200,\"258\":150,\"259\":150,\"260\":150,\"261\":100,\"262\":100,\"263\":100,\"264\":90,\"265\":80,\"266\":40,\"267\":30,\"268\":2200,\"269\":900,\"270\":450,\"271\":300,\"272\":100,\"273\":100,\"274\":90,\"275\":80,\"276\":80,\"277\":40,\"278\":1300,\"279\":1200,\"280\":400,\"281\":200,\"282\":150,\"283\":100,\"284\":90,\"285\":90,\"286\":90,\"287\":80,\"288\":80,\"289\":60,\"290\":50,\"291\":50,\"292\":50,\"293\":40,\"294\":40,\"295\":30,\"296\":200,\"297\":200,\"298\":150,\"299\":150,\"300\":100,\"301\":100,\"302\":100,\"303\":100,\"304\":100,\"305\":100,\"306\":100,\"307\":100,\"308\":90,\"309\":80,\"310\":80,\"311\":80,\"312\":70,\"313\":70,\"314\":70,\"315\":60,\"316\":60,\"317\":50,\"318\":40,\"319\":30,\"320\":19000,\"321\":2600,\"322\":1200,\"323\":1100,\"324\":900,\"325\":500,\"326\":300,\"327\":150,\"328\":150,\"329\":100,\"330\":100,\"331\":100,\"332\":100,\"333\":70,\"334\":70,\"335\":60,\"336\":60,\"337\":60,\"338\":50,\"339\":50,\"340\":50,\"341\":40,\"342\":40,\"343\":40,\"344\":500,\"345\":500,\"346\":450,\"347\":400,\"348\":250,\"349\":200,\"350\":200,\"351\":200,\"352\":150,\"353\":150,\"354\":150,\"355\":150,\"356\":150,\"357\":150,\"358\":150,\"359\":100,\"360\":100,\"361\":90,\"362\":90,\"363\":80,\"364\":80,\"365\":70,\"366\":60,\"367\":50,\"368\":50,\"369\":40,\"370\":40,\"371\":30,\"372\":30,\"373\":63000,\"374\":800,\"375\":400,\"376\":250,\"377\":250,\"378\":100,\"379\":70,\"380\":70,\"381\":60,\"382\":60,\"383\":40,\"384\":800,\"385\":400,\"386\":350,\"387\":150,\"388\":150,\"389\":100,\"390\":100,\"391\":100,\"392\":100,\"393\":80,\"394\":70,\"395\":70,\"396\":60,\"397\":50,\"398\":50,\"399\":200,\"400\":200,\"401\":150,\"402\":150,\"403\":150,\"404\":150,\"405\":100,\"406\":100,\"407\":80,\"408\":80,\"409\":80,\"410\":70,\"411\":70,\"412\":70,\"413\":60,\"414\":60,\"415\":60,\"416\":50,\"417\":50,\"418\":40,\"419\":20,\"420\":450,\"421\":250,\"422\":100,\"423\":80,\"424\":70,\"425\":60,\"426\":60,\"427\":60,\"428\":40,\"429\":30,\"430\":30,\"431\":3600,\"432\":250,\"433\":250,\"434\":100,\"435\":90,\"436\":50,\"437\":40,\"438\":40,\"439\":30,\"440\":30,\"441\":70000,\"442\":16000,\"443\":3100,\"444\":450,\"445\":450,\"446\":200,\"447\":150,\"448\":150,\"449\":80,\"450\":70,\"451\":60,\"452\":60,\"453\":60,\"454\":40,\"455\":40,\"456\":30,\"457\":20,\"458\":1300,\"459\":300,\"460\":300,\"461\":150,\"462\":100,\"463\":90,\"464\":90,\"465\":80,\"466\":40,\"467\":40,\"468\":20,\"469\":500,\"470\":90,\"471\":70,\"472\":30,\"473\":100,\"474\":60,\"475\":30,\"476\":100,\"477\":90,\"478\":60,\"479\":60,\"480\":40,\"481\":350,\"482\":90,\"483\":70,\"484\":150,\"485\":70,\"486\":50,\"487\":40,\"488\":3100,\"489\":300,\"490\":150,\"491\":90,\"492\":60,\"493\":30,\"494\":150,\"495\":50,\"496\":40,\"497\":100,\"498\":30,\"499\":600,\"500\":150,\"501\":100,\"502\":70,\"503\":50,\"504\":30,\"505\":400,\"506\":200,\"507\":150,\"508\":150,\"509\":60,\"510\":40,\"511\":70,\"512\":60,\"513\":200,\"514\":450,\"515\":300,\"516\":200,\"517\":150,\"518\":100,\"519\":90,\"520\":40,\"521\":1400,\"522\":1000,\"523\":200,\"524\":150,\"525\":90,\"526\":50,\"527\":300,\"528\":90,\"529\":70,\"530\":60,\"531\":3100,\"532\":1400,\"533\":1300,\"534\":1200,\"535\":800,\"536\":700,\"537\":600,\"538\":500,\"539\":400,\"540\":400,\"541\":350,\"542\":300,\"543\":300,\"544\":300,\"545\":250,\"546\":250,\"547\":200,\"548\":200,\"549\":200,\"550\":150,\"551\":150,\"552\":150,\"553\":150,\"554\":150,\"555\":150,\"556\":150,\"557\":150,\"558\":150,\"559\":150,\"560\":150,\"561\":150,\"562\":150,\"563\":100,\"564\":100,\"565\":100,\"566\":100,\"567\":100,\"568\":100,\"569\":100,\"570\":100,\"571\":100,\"572\":100,\"573\":100,\"574\":90,\"575\":90,\"576\":90,\"577\":90,\"578\":90,\"579\":90,\"580\":90,\"581\":90,\"582\":90,\"583\":80,\"584\":80,\"585\":80,\"586\":80,\"587\":70,\"588\":70,\"589\":70,\"590\":70,\"591\":70,\"592\":70,\"593\":70,\"594\":70,\"595\":60,\"596\":60,\"597\":60,\"598\":60,\"599\":60,\"600\":60,\"601\":60,\"602\":60,\"603\":60,\"604\":60,\"605\":60,\"606\":60,\"607\":60,\"608\":60,\"609\":60,\"610\":60,\"611\":50,\"612\":50,\"613\":50,\"614\":50,\"615\":50,\"616\":50,\"617\":50,\"618\":50,\"619\":50,\"620\":50,\"621\":50,\"622\":50,\"623\":40,\"624\":40,\"625\":40,\"626\":40,\"627\":40,\"628\":40,\"629\":40,\"630\":40,\"631\":40,\"632\":40,\"633\":40,\"634\":40,\"635\":40,\"636\":40,\"637\":40,\"638\":40,\"639\":40,\"640\":40,\"641\":40,\"642\":40,\"643\":40,\"644\":30,\"645\":30,\"646\":30,\"647\":30,\"648\":30,\"649\":30,\"650\":30,\"651\":30,\"652\":30,\"653\":30,\"654\":30,\"655\":30,\"656\":30,\"657\":20},\"CPC\":{\"0\":null,\"1\":null,\"2\":null,\"3\":null,\"4\":null,\"5\":null,\"6\":null,\"7\":null,\"8\":null,\"9\":null,\"10\":null,\"11\":null,\"12\":null,\"13\":null,\"14\":null,\"15\":null,\"16\":null,\"17\":null,\"18\":null,\"19\":null,\"20\":null,\"21\":null,\"22\":null,\"23\":null,\"24\":null,\"25\":null,\"26\":null,\"27\":null,\"28\":null,\"29\":null,\"30\":null,\"31\":null,\"32\":null,\"33\":null,\"34\":null,\"35\":null,\"36\":null,\"37\":null,\"38\":null,\"39\":null,\"40\":null,\"41\":null,\"42\":null,\"43\":null,\"44\":null,\"45\":null,\"46\":null,\"47\":null,\"48\":null,\"49\":null,\"50\":null,\"51\":null,\"52\":null,\"53\":null,\"54\":null,\"55\":null,\"56\":null,\"57\":null,\"58\":null,\"59\":null,\"60\":null,\"61\":null,\"62\":null,\"63\":null,\"64\":null,\"65\":null,\"66\":null,\"67\":null,\"68\":null,\"69\":null,\"70\":null,\"71\":null,\"72\":null,\"73\":null,\"74\":null,\"75\":null,\"76\":null,\"77\":null,\"78\":null,\"79\":null,\"80\":null,\"81\":null,\"82\":null,\"83\":null,\"84\":null,\"85\":null,\"86\":null,\"87\":null,\"88\":null,\"89\":null,\"90\":null,\"91\":null,\"92\":null,\"93\":null,\"94\":null,\"95\":null,\"96\":null,\"97\":null,\"98\":null,\"99\":null,\"100\":null,\"101\":null,\"102\":null,\"103\":null,\"104\":null,\"105\":null,\"106\":null,\"107\":null,\"108\":null,\"109\":null,\"110\":null,\"111\":null,\"112\":null,\"113\":null,\"114\":null,\"115\":null,\"116\":null,\"117\":null,\"118\":null,\"119\":null,\"120\":null,\"121\":null,\"122\":null,\"123\":null,\"124\":null,\"125\":null,\"126\":null,\"127\":null,\"128\":null,\"129\":null,\"130\":null,\"131\":null,\"132\":null,\"133\":null,\"134\":null,\"135\":null,\"136\":null,\"137\":null,\"138\":null,\"139\":null,\"140\":null,\"141\":null,\"142\":null,\"143\":null,\"144\":null,\"145\":null,\"146\":null,\"147\":null,\"148\":null,\"149\":null,\"150\":null,\"151\":null,\"152\":null,\"153\":null,\"154\":null,\"155\":null,\"156\":null,\"157\":null,\"158\":null,\"159\":null,\"160\":null,\"161\":null,\"162\":null,\"163\":null,\"164\":null,\"165\":null,\"166\":null,\"167\":null,\"168\":null,\"169\":null,\"170\":null,\"171\":null,\"172\":null,\"173\":null,\"174\":null,\"175\":null,\"176\":null,\"177\":null,\"178\":null,\"179\":null,\"180\":null,\"181\":null,\"182\":null,\"183\":null,\"184\":null,\"185\":null,\"186\":null,\"187\":null,\"188\":null,\"189\":null,\"190\":null,\"191\":null,\"192\":null,\"193\":null,\"194\":null,\"195\":null,\"196\":60.0,\"197\":40.0,\"198\":30.0,\"199\":25.0,\"200\":25.0,\"201\":25.0,\"202\":25.0,\"203\":25.0,\"204\":25.0,\"205\":20.0,\"206\":20.0,\"207\":20.0,\"208\":20.0,\"209\":18.0,\"210\":18.0,\"211\":17.0,\"212\":17.0,\"213\":17.0,\"214\":17.0,\"215\":16.0,\"216\":16.0,\"217\":15.0,\"218\":15.0,\"219\":15.0,\"220\":15.0,\"221\":14.0,\"222\":14.0,\"223\":14.0,\"224\":14.0,\"225\":14.0,\"226\":14.0,\"227\":14.0,\"228\":14.0,\"229\":14.0,\"230\":14.0,\"231\":14.0,\"232\":13.0,\"233\":13.0,\"234\":13.0,\"235\":13.0,\"236\":13.0,\"237\":13.0,\"238\":13.0,\"239\":13.0,\"240\":13.0,\"241\":13.0,\"242\":13.0,\"243\":13.0,\"244\":12.0,\"245\":12.0,\"246\":12.0,\"247\":12.0,\"248\":12.0,\"249\":12.0,\"250\":12.0,\"251\":12.0,\"252\":12.0,\"253\":11.0,\"254\":11.0,\"255\":11.0,\"256\":11.0,\"257\":11.0,\"258\":11.0,\"259\":11.0,\"260\":11.0,\"261\":11.0,\"262\":11.0,\"263\":11.0,\"264\":11.0,\"265\":11.0,\"266\":11.0,\"267\":11.0,\"268\":10.0,\"269\":10.0,\"270\":10.0,\"271\":10.0,\"272\":10.0,\"273\":10.0,\"274\":10.0,\"275\":10.0,\"276\":10.0,\"277\":10.0,\"278\":9.0,\"279\":9.0,\"280\":9.0,\"281\":9.0,\"282\":9.0,\"283\":9.0,\"284\":9.0,\"285\":9.0,\"286\":9.0,\"287\":9.0,\"288\":9.0,\"289\":9.0,\"290\":9.0,\"291\":9.0,\"292\":9.0,\"293\":9.0,\"294\":9.0,\"295\":9.0,\"296\":8.0,\"297\":8.0,\"298\":8.0,\"299\":8.0,\"300\":8.0,\"301\":8.0,\"302\":8.0,\"303\":8.0,\"304\":8.0,\"305\":8.0,\"306\":8.0,\"307\":8.0,\"308\":8.0,\"309\":8.0,\"310\":8.0,\"311\":8.0,\"312\":8.0,\"313\":8.0,\"314\":8.0,\"315\":8.0,\"316\":8.0,\"317\":8.0,\"318\":8.0,\"319\":8.0,\"320\":7.0,\"321\":7.0,\"322\":7.0,\"323\":7.0,\"324\":7.0,\"325\":7.0,\"326\":7.0,\"327\":7.0,\"328\":7.0,\"329\":7.0,\"330\":7.0,\"331\":7.0,\"332\":7.0,\"333\":7.0,\"334\":7.0,\"335\":7.0,\"336\":7.0,\"337\":7.0,\"338\":7.0,\"339\":7.0,\"340\":7.0,\"341\":7.0,\"342\":7.0,\"343\":7.0,\"344\":6.0,\"345\":6.0,\"346\":6.0,\"347\":6.0,\"348\":6.0,\"349\":6.0,\"350\":6.0,\"351\":6.0,\"352\":6.0,\"353\":6.0,\"354\":6.0,\"355\":6.0,\"356\":6.0,\"357\":6.0,\"358\":6.0,\"359\":6.0,\"360\":6.0,\"361\":6.0,\"362\":6.0,\"363\":6.0,\"364\":6.0,\"365\":6.0,\"366\":6.0,\"367\":6.0,\"368\":6.0,\"369\":6.0,\"370\":6.0,\"371\":6.0,\"372\":6.0,\"373\":5.0,\"374\":5.0,\"375\":5.0,\"376\":5.0,\"377\":5.0,\"378\":5.0,\"379\":5.0,\"380\":5.0,\"381\":5.0,\"382\":5.0,\"383\":5.0,\"384\":4.5,\"385\":4.5,\"386\":4.5,\"387\":4.5,\"388\":4.5,\"389\":4.5,\"390\":4.5,\"391\":4.5,\"392\":4.5,\"393\":4.5,\"394\":4.5,\"395\":4.5,\"396\":4.5,\"397\":4.5,\"398\":4.5,\"399\":4.0,\"400\":4.0,\"401\":4.0,\"402\":4.0,\"403\":4.0,\"404\":4.0,\"405\":4.0,\"406\":4.0,\"407\":4.0,\"408\":4.0,\"409\":4.0,\"410\":4.0,\"411\":4.0,\"412\":4.0,\"413\":4.0,\"414\":4.0,\"415\":4.0,\"416\":4.0,\"417\":4.0,\"418\":4.0,\"419\":4.0,\"420\":3.5,\"421\":3.5,\"422\":3.5,\"423\":3.5,\"424\":3.5,\"425\":3.5,\"426\":3.5,\"427\":3.5,\"428\":3.5,\"429\":3.5,\"430\":3.5,\"431\":3.0,\"432\":3.0,\"433\":3.0,\"434\":3.0,\"435\":3.0,\"436\":3.0,\"437\":3.0,\"438\":3.0,\"439\":3.0,\"440\":3.0,\"441\":2.5,\"442\":2.5,\"443\":2.5,\"444\":2.5,\"445\":2.5,\"446\":2.5,\"447\":2.5,\"448\":2.5,\"449\":2.5,\"450\":2.5,\"451\":2.5,\"452\":2.5,\"453\":2.5,\"454\":2.5,\"455\":2.5,\"456\":2.5,\"457\":2.5,\"458\":2.0,\"459\":2.0,\"460\":2.0,\"461\":2.0,\"462\":2.0,\"463\":2.0,\"464\":2.0,\"465\":2.0,\"466\":2.0,\"467\":2.0,\"468\":2.0,\"469\":1.9,\"470\":1.9,\"471\":1.9,\"472\":1.9,\"473\":1.8,\"474\":1.8,\"475\":1.8,\"476\":1.6,\"477\":1.6,\"478\":1.6,\"479\":1.6,\"480\":1.5,\"481\":1.4,\"482\":1.4,\"483\":1.4,\"484\":1.3,\"485\":1.3,\"486\":1.3,\"487\":1.3,\"488\":1.2,\"489\":1.2,\"490\":1.2,\"491\":1.2,\"492\":1.2,\"493\":1.2,\"494\":1.1,\"495\":1.1,\"496\":1.1,\"497\":1.0,\"498\":1.0,\"499\":0.9,\"500\":0.9,\"501\":0.9,\"502\":0.9,\"503\":0.9,\"504\":0.9,\"505\":0.8,\"506\":0.8,\"507\":0.8,\"508\":0.8,\"509\":0.8,\"510\":0.7,\"511\":0.6,\"512\":0.6,\"513\":0.5,\"514\":0.35,\"515\":0.35,\"516\":0.35,\"517\":0.25,\"518\":0.2,\"519\":0.2,\"520\":0.2,\"521\":0.15,\"522\":0.15,\"523\":0.15,\"524\":0.15,\"525\":0.15,\"526\":0.15,\"527\":0.1,\"528\":0.1,\"529\":0.06,\"530\":0.02,\"531\":0.0,\"532\":0.0,\"533\":0.0,\"534\":0.0,\"535\":0.0,\"536\":0.0,\"537\":0.0,\"538\":0.0,\"539\":0.0,\"540\":0.0,\"541\":0.0,\"542\":0.0,\"543\":0.0,\"544\":0.0,\"545\":0.0,\"546\":0.0,\"547\":0.0,\"548\":0.0,\"549\":0.0,\"550\":0.0,\"551\":0.0,\"552\":0.0,\"553\":0.0,\"554\":0.0,\"555\":0.0,\"556\":0.0,\"557\":0.0,\"558\":0.0,\"559\":0.0,\"560\":0.0,\"561\":0.0,\"562\":0.0,\"563\":0.0,\"564\":0.0,\"565\":0.0,\"566\":0.0,\"567\":0.0,\"568\":0.0,\"569\":0.0,\"570\":0.0,\"571\":0.0,\"572\":0.0,\"573\":0.0,\"574\":0.0,\"575\":0.0,\"576\":0.0,\"577\":0.0,\"578\":0.0,\"579\":0.0,\"580\":0.0,\"581\":0.0,\"582\":0.0,\"583\":0.0,\"584\":0.0,\"585\":0.0,\"586\":0.0,\"587\":0.0,\"588\":0.0,\"589\":0.0,\"590\":0.0,\"591\":0.0,\"592\":0.0,\"593\":0.0,\"594\":0.0,\"595\":0.0,\"596\":0.0,\"597\":0.0,\"598\":0.0,\"599\":0.0,\"600\":0.0,\"601\":0.0,\"602\":0.0,\"603\":0.0,\"604\":0.0,\"605\":0.0,\"606\":0.0,\"607\":0.0,\"608\":0.0,\"609\":0.0,\"610\":0.0,\"611\":0.0,\"612\":0.0,\"613\":0.0,\"614\":0.0,\"615\":0.0,\"616\":0.0,\"617\":0.0,\"618\":0.0,\"619\":0.0,\"620\":0.0,\"621\":0.0,\"622\":0.0,\"623\":0.0,\"624\":0.0,\"625\":0.0,\"626\":0.0,\"627\":0.0,\"628\":0.0,\"629\":0.0,\"630\":0.0,\"631\":0.0,\"632\":0.0,\"633\":0.0,\"634\":0.0,\"635\":0.0,\"636\":0.0,\"637\":0.0,\"638\":0.0,\"639\":0.0,\"640\":0.0,\"641\":0.0,\"642\":0.0,\"643\":0.0,\"644\":0.0,\"645\":0.0,\"646\":0.0,\"647\":0.0,\"648\":0.0,\"649\":0.0,\"650\":0.0,\"651\":0.0,\"652\":0.0,\"653\":0.0,\"654\":0.0,\"655\":0.0,\"656\":0.0,\"657\":0.0},\"Clicks\":{\"0\":1096.0,\"1\":391.0,\"2\":122.0,\"3\":23.0,\"4\":460.0,\"5\":30.0,\"6\":23.0,\"7\":211.0,\"8\":87.0,\"9\":null,\"10\":131.0,\"11\":148.0,\"12\":42.0,\"13\":null,\"14\":40.0,\"15\":37.0,\"16\":14.0,\"17\":21.0,\"18\":131.0,\"19\":62.0,\"20\":null,\"21\":null,\"22\":86.0,\"23\":null,\"24\":45.0,\"25\":null,\"26\":null,\"27\":null,\"28\":13.0,\"29\":null,\"30\":null,\"31\":91.0,\"32\":null,\"33\":64.0,\"34\":null,\"35\":null,\"36\":null,\"37\":null,\"38\":null,\"39\":null,\"40\":null,\"41\":null,\"42\":null,\"43\":null,\"44\":null,\"45\":null,\"46\":null,\"47\":null,\"48\":null,\"49\":null,\"50\":null,\"51\":null,\"52\":null,\"53\":null,\"54\":null,\"55\":null,\"56\":null,\"57\":null,\"58\":null,\"59\":null,\"60\":null,\"61\":null,\"62\":null,\"63\":null,\"64\":null,\"65\":null,\"66\":null,\"67\":null,\"68\":null,\"69\":null,\"70\":null,\"71\":63.0,\"72\":null,\"73\":null,\"74\":null,\"75\":40.0,\"76\":null,\"77\":null,\"78\":null,\"79\":null,\"80\":null,\"81\":null,\"82\":null,\"83\":null,\"84\":null,\"85\":null,\"86\":null,\"87\":null,\"88\":null,\"89\":null,\"90\":null,\"91\":null,\"92\":null,\"93\":null,\"94\":null,\"95\":null,\"96\":null,\"97\":null,\"98\":null,\"99\":null,\"100\":null,\"101\":null,\"102\":null,\"103\":null,\"104\":null,\"105\":null,\"106\":null,\"107\":null,\"108\":null,\"109\":null,\"110\":null,\"111\":null,\"112\":null,\"113\":null,\"114\":null,\"115\":null,\"116\":null,\"117\":null,\"118\":null,\"119\":null,\"120\":null,\"121\":null,\"122\":null,\"123\":null,\"124\":null,\"125\":null,\"126\":null,\"127\":null,\"128\":null,\"129\":null,\"130\":null,\"131\":null,\"132\":null,\"133\":null,\"134\":null,\"135\":null,\"136\":null,\"137\":null,\"138\":null,\"139\":null,\"140\":null,\"141\":19.0,\"142\":null,\"143\":null,\"144\":null,\"145\":null,\"146\":null,\"147\":null,\"148\":null,\"149\":null,\"150\":null,\"151\":null,\"152\":null,\"153\":null,\"154\":null,\"155\":null,\"156\":null,\"157\":null,\"158\":null,\"159\":null,\"160\":null,\"161\":null,\"162\":null,\"163\":null,\"164\":null,\"165\":null,\"166\":null,\"167\":null,\"168\":null,\"169\":null,\"170\":null,\"171\":null,\"172\":null,\"173\":null,\"174\":null,\"175\":null,\"176\":null,\"177\":null,\"178\":null,\"179\":null,\"180\":null,\"181\":null,\"182\":null,\"183\":null,\"184\":null,\"185\":null,\"186\":null,\"187\":null,\"188\":null,\"189\":null,\"190\":null,\"191\":null,\"192\":null,\"193\":null,\"194\":null,\"195\":null,\"196\":null,\"197\":null,\"198\":78.0,\"199\":320.0,\"200\":null,\"201\":null,\"202\":null,\"203\":null,\"204\":null,\"205\":null,\"206\":null,\"207\":null,\"208\":null,\"209\":3925.0,\"210\":null,\"211\":622.0,\"212\":912.0,\"213\":480.0,\"214\":456.0,\"215\":null,\"216\":null,\"217\":552.0,\"218\":473.0,\"219\":null,\"220\":null,\"221\":1818.0,\"222\":429.0,\"223\":220.0,\"224\":198.0,\"225\":null,\"226\":null,\"227\":155.0,\"228\":211.0,\"229\":null,\"230\":null,\"231\":null,\"232\":null,\"233\":221.0,\"234\":158.0,\"235\":null,\"236\":72.0,\"237\":null,\"238\":null,\"239\":null,\"240\":null,\"241\":null,\"242\":null,\"243\":null,\"244\":582.0,\"245\":134.0,\"246\":null,\"247\":null,\"248\":null,\"249\":131.0,\"250\":107.0,\"251\":null,\"252\":null,\"253\":489.0,\"254\":217.0,\"255\":184.0,\"256\":null,\"257\":457.0,\"258\":221.0,\"259\":null,\"260\":90.0,\"261\":null,\"262\":null,\"263\":null,\"264\":149.0,\"265\":null,\"266\":null,\"267\":null,\"268\":1370.0,\"269\":1209.0,\"270\":1297.0,\"271\":170.0,\"272\":null,\"273\":null,\"274\":null,\"275\":null,\"276\":null,\"277\":null,\"278\":1659.0,\"279\":1112.0,\"280\":777.0,\"281\":219.0,\"282\":73.0,\"283\":null,\"284\":null,\"285\":null,\"286\":null,\"287\":null,\"288\":null,\"289\":null,\"290\":null,\"291\":null,\"292\":null,\"293\":null,\"294\":null,\"295\":null,\"296\":294.0,\"297\":null,\"298\":null,\"299\":113.0,\"300\":null,\"301\":null,\"302\":null,\"303\":null,\"304\":null,\"305\":null,\"306\":52.0,\"307\":null,\"308\":null,\"309\":null,\"310\":null,\"311\":null,\"312\":null,\"313\":null,\"314\":null,\"315\":null,\"316\":null,\"317\":null,\"318\":null,\"319\":null,\"320\":11033.0,\"321\":1820.0,\"322\":738.0,\"323\":687.0,\"324\":1203.0,\"325\":396.0,\"326\":236.0,\"327\":75.0,\"328\":109.0,\"329\":null,\"330\":64.0,\"331\":72.0,\"332\":null,\"333\":null,\"334\":null,\"335\":null,\"336\":null,\"337\":null,\"338\":null,\"339\":null,\"340\":null,\"341\":null,\"342\":null,\"343\":null,\"344\":1103.0,\"345\":680.0,\"346\":291.0,\"347\":266.0,\"348\":null,\"349\":149.0,\"350\":null,\"351\":167.0,\"352\":158.0,\"353\":208.0,\"354\":null,\"355\":178.0,\"356\":162.0,\"357\":null,\"358\":null,\"359\":null,\"360\":142.0,\"361\":null,\"362\":null,\"363\":null,\"364\":null,\"365\":null,\"366\":null,\"367\":null,\"368\":null,\"369\":null,\"370\":null,\"371\":null,\"372\":null,\"373\":59708.0,\"374\":509.0,\"375\":198.0,\"376\":125.0,\"377\":456.0,\"378\":98.0,\"379\":null,\"380\":null,\"381\":null,\"382\":null,\"383\":null,\"384\":777.0,\"385\":675.0,\"386\":null,\"387\":null,\"388\":141.0,\"389\":null,\"390\":100.0,\"391\":null,\"392\":null,\"393\":null,\"394\":null,\"395\":null,\"396\":null,\"397\":null,\"398\":null,\"399\":null,\"400\":103.0,\"401\":null,\"402\":null,\"403\":162.0,\"404\":null,\"405\":63.0,\"406\":68.0,\"407\":null,\"408\":56.0,\"409\":null,\"410\":null,\"411\":null,\"412\":34.0,\"413\":null,\"414\":null,\"415\":null,\"416\":null,\"417\":null,\"418\":null,\"419\":null,\"420\":261.0,\"421\":214.0,\"422\":null,\"423\":null,\"424\":null,\"425\":null,\"426\":null,\"427\":null,\"428\":null,\"429\":null,\"430\":null,\"431\":1671.0,\"432\":158.0,\"433\":352.0,\"434\":null,\"435\":null,\"436\":null,\"437\":null,\"438\":null,\"439\":null,\"440\":null,\"441\":64715.0,\"442\":5912.0,\"443\":2119.0,\"444\":255.0,\"445\":405.0,\"446\":53.0,\"447\":109.0,\"448\":null,\"449\":null,\"450\":null,\"451\":null,\"452\":null,\"453\":null,\"454\":null,\"455\":null,\"456\":null,\"457\":null,\"458\":727.0,\"459\":382.0,\"460\":265.0,\"461\":184.0,\"462\":68.0,\"463\":45.0,\"464\":null,\"465\":null,\"466\":null,\"467\":null,\"468\":null,\"469\":89.0,\"470\":null,\"471\":null,\"472\":null,\"473\":99.0,\"474\":null,\"475\":null,\"476\":null,\"477\":null,\"478\":null,\"479\":null,\"480\":null,\"481\":207.0,\"482\":null,\"483\":null,\"484\":null,\"485\":null,\"486\":null,\"487\":null,\"488\":2402.0,\"489\":92.0,\"490\":null,\"491\":null,\"492\":null,\"493\":null,\"494\":18.0,\"495\":null,\"496\":null,\"497\":null,\"498\":null,\"499\":234.0,\"500\":53.0,\"501\":67.0,\"502\":null,\"503\":null,\"504\":null,\"505\":226.0,\"506\":152.0,\"507\":150.0,\"508\":202.0,\"509\":null,\"510\":null,\"511\":null,\"512\":null,\"513\":73.0,\"514\":391.0,\"515\":null,\"516\":23.0,\"517\":89.0,\"518\":89.0,\"519\":null,\"520\":null,\"521\":1290.0,\"522\":487.0,\"523\":190.0,\"524\":111.0,\"525\":null,\"526\":null,\"527\":null,\"528\":null,\"529\":null,\"530\":null,\"531\":3219.0,\"532\":311.0,\"533\":1228.0,\"534\":158.0,\"535\":230.0,\"536\":495.0,\"537\":79.0,\"538\":458.0,\"539\":46.0,\"540\":102.0,\"541\":25.0,\"542\":229.0,\"543\":17.0,\"544\":310.0,\"545\":120.0,\"546\":84.0,\"547\":134.0,\"548\":28.0,\"549\":null,\"550\":75.0,\"551\":123.0,\"552\":26.0,\"553\":41.0,\"554\":34.0,\"555\":null,\"556\":138.0,\"557\":184.0,\"558\":28.0,\"559\":54.0,\"560\":102.0,\"561\":166.0,\"562\":null,\"563\":102.0,\"564\":65.0,\"565\":7.0,\"566\":null,\"567\":157.0,\"568\":null,\"569\":null,\"570\":12.0,\"571\":22.0,\"572\":18.0,\"573\":null,\"574\":null,\"575\":9.0,\"576\":42.0,\"577\":null,\"578\":null,\"579\":null,\"580\":null,\"581\":null,\"582\":22.0,\"583\":11.0,\"584\":null,\"585\":null,\"586\":null,\"587\":null,\"588\":null,\"589\":null,\"590\":65.0,\"591\":null,\"592\":null,\"593\":null,\"594\":null,\"595\":null,\"596\":null,\"597\":null,\"598\":null,\"599\":null,\"600\":null,\"601\":null,\"602\":null,\"603\":null,\"604\":null,\"605\":null,\"606\":null,\"607\":null,\"608\":null,\"609\":20.0,\"610\":null,\"611\":null,\"612\":null,\"613\":null,\"614\":null,\"615\":null,\"616\":null,\"617\":null,\"618\":null,\"619\":null,\"620\":null,\"621\":null,\"622\":null,\"623\":null,\"624\":null,\"625\":null,\"626\":null,\"627\":null,\"628\":null,\"629\":null,\"630\":null,\"631\":null,\"632\":null,\"633\":null,\"634\":null,\"635\":null,\"636\":null,\"637\":null,\"638\":null,\"639\":null,\"640\":null,\"641\":null,\"642\":null,\"643\":null,\"644\":null,\"645\":null,\"646\":3.0,\"647\":null,\"648\":null,\"649\":null,\"650\":null,\"651\":null,\"652\":null,\"653\":null,\"654\":null,\"655\":null,\"656\":null,\"657\":null},\"CPS\":{\"0\":0.72,\"1\":0.91,\"2\":0.43,\"3\":0.08,\"4\":2.01,\"5\":0.15,\"6\":0.13,\"7\":1.04,\"8\":0.46,\"9\":null,\"10\":1.04,\"11\":0.94,\"12\":0.29,\"13\":null,\"14\":0.28,\"15\":0.28,\"16\":0.11,\"17\":0.15,\"18\":0.97,\"19\":0.63,\"20\":null,\"21\":null,\"22\":0.83,\"23\":null,\"24\":0.4,\"25\":null,\"26\":null,\"27\":null,\"28\":0.13,\"29\":null,\"30\":null,\"31\":0.82,\"32\":null,\"33\":0.54,\"34\":null,\"35\":null,\"36\":null,\"37\":null,\"38\":null,\"39\":null,\"40\":null,\"41\":null,\"42\":null,\"43\":null,\"44\":null,\"45\":null,\"46\":null,\"47\":null,\"48\":null,\"49\":null,\"50\":null,\"51\":null,\"52\":null,\"53\":null,\"54\":null,\"55\":null,\"56\":null,\"57\":null,\"58\":null,\"59\":null,\"60\":null,\"61\":null,\"62\":null,\"63\":null,\"64\":null,\"65\":null,\"66\":null,\"67\":null,\"68\":null,\"69\":null,\"70\":null,\"71\":0.98,\"72\":null,\"73\":null,\"74\":null,\"75\":0.73,\"76\":null,\"77\":null,\"78\":null,\"79\":null,\"80\":null,\"81\":null,\"82\":null,\"83\":null,\"84\":null,\"85\":null,\"86\":null,\"87\":null,\"88\":null,\"89\":null,\"90\":null,\"91\":null,\"92\":null,\"93\":null,\"94\":null,\"95\":null,\"96\":null,\"97\":null,\"98\":null,\"99\":null,\"100\":null,\"101\":null,\"102\":null,\"103\":null,\"104\":null,\"105\":null,\"106\":null,\"107\":null,\"108\":null,\"109\":null,\"110\":null,\"111\":null,\"112\":null,\"113\":null,\"114\":null,\"115\":null,\"116\":null,\"117\":null,\"118\":null,\"119\":null,\"120\":null,\"121\":null,\"122\":null,\"123\":null,\"124\":null,\"125\":null,\"126\":null,\"127\":null,\"128\":null,\"129\":null,\"130\":null,\"131\":null,\"132\":null,\"133\":null,\"134\":null,\"135\":null,\"136\":null,\"137\":null,\"138\":null,\"139\":null,\"140\":null,\"141\":0.87,\"142\":null,\"143\":null,\"144\":null,\"145\":null,\"146\":null,\"147\":null,\"148\":null,\"149\":null,\"150\":null,\"151\":null,\"152\":null,\"153\":null,\"154\":null,\"155\":null,\"156\":null,\"157\":null,\"158\":null,\"159\":null,\"160\":null,\"161\":null,\"162\":null,\"163\":null,\"164\":null,\"165\":null,\"166\":null,\"167\":null,\"168\":null,\"169\":null,\"170\":null,\"171\":null,\"172\":null,\"173\":null,\"174\":null,\"175\":null,\"176\":null,\"177\":null,\"178\":null,\"179\":null,\"180\":null,\"181\":null,\"182\":null,\"183\":null,\"184\":null,\"185\":null,\"186\":null,\"187\":null,\"188\":null,\"189\":null,\"190\":null,\"191\":null,\"192\":null,\"193\":null,\"194\":null,\"195\":null,\"196\":null,\"197\":null,\"198\":0.58,\"199\":0.96,\"200\":null,\"201\":null,\"202\":null,\"203\":null,\"204\":null,\"205\":null,\"206\":null,\"207\":null,\"208\":null,\"209\":1.14,\"210\":null,\"211\":0.14,\"212\":1.83,\"213\":1.78,\"214\":2.42,\"215\":null,\"216\":null,\"217\":1.05,\"218\":1.61,\"219\":null,\"220\":null,\"221\":2.5,\"222\":1.66,\"223\":1.09,\"224\":1.47,\"225\":null,\"226\":null,\"227\":1.28,\"228\":1.74,\"229\":null,\"230\":null,\"231\":null,\"232\":null,\"233\":1.17,\"234\":1.17,\"235\":null,\"236\":0.64,\"237\":null,\"238\":null,\"239\":null,\"240\":null,\"241\":null,\"242\":null,\"243\":null,\"244\":1.2,\"245\":0.51,\"246\":null,\"247\":null,\"248\":null,\"249\":1.15,\"250\":1.19,\"251\":null,\"252\":null,\"253\":0.93,\"254\":0.72,\"255\":0.93,\"256\":null,\"257\":2.12,\"258\":1.75,\"259\":null,\"260\":0.59,\"261\":null,\"262\":null,\"263\":null,\"264\":1.6,\"265\":null,\"266\":null,\"267\":null,\"268\":0.62,\"269\":1.34,\"270\":3.01,\"271\":0.58,\"272\":null,\"273\":null,\"274\":null,\"275\":null,\"276\":null,\"277\":null,\"278\":1.31,\"279\":0.96,\"280\":1.86,\"281\":1.25,\"282\":0.46,\"283\":null,\"284\":null,\"285\":null,\"286\":null,\"287\":null,\"288\":null,\"289\":null,\"290\":null,\"291\":null,\"292\":null,\"293\":null,\"294\":null,\"295\":null,\"296\":1.58,\"297\":null,\"298\":null,\"299\":0.89,\"300\":null,\"301\":null,\"302\":null,\"303\":null,\"304\":null,\"305\":null,\"306\":0.43,\"307\":null,\"308\":null,\"309\":null,\"310\":null,\"311\":null,\"312\":null,\"313\":null,\"314\":null,\"315\":null,\"316\":null,\"317\":null,\"318\":null,\"319\":null,\"320\":0.57,\"321\":0.71,\"322\":0.63,\"323\":0.63,\"324\":1.4,\"325\":0.74,\"326\":0.73,\"327\":0.56,\"328\":0.71,\"329\":null,\"330\":0.54,\"331\":0.64,\"332\":null,\"333\":null,\"334\":null,\"335\":null,\"336\":null,\"337\":null,\"338\":null,\"339\":null,\"340\":null,\"341\":null,\"342\":null,\"343\":null,\"344\":2.1,\"345\":1.3,\"346\":0.67,\"347\":0.67,\"348\":null,\"349\":0.69,\"350\":null,\"351\":0.76,\"352\":0.98,\"353\":1.35,\"354\":null,\"355\":1.1,\"356\":0.97,\"357\":null,\"358\":null,\"359\":null,\"360\":1.17,\"361\":null,\"362\":null,\"363\":null,\"364\":null,\"365\":null,\"366\":null,\"367\":null,\"368\":null,\"369\":null,\"370\":null,\"371\":null,\"372\":null,\"373\":0.95,\"374\":0.62,\"375\":0.49,\"376\":0.53,\"377\":1.88,\"378\":0.81,\"379\":null,\"380\":null,\"381\":null,\"382\":null,\"383\":null,\"384\":0.93,\"385\":1.67,\"386\":null,\"387\":null,\"388\":0.87,\"389\":null,\"390\":0.86,\"391\":null,\"392\":null,\"393\":null,\"394\":null,\"395\":null,\"396\":null,\"397\":null,\"398\":null,\"399\":null,\"400\":0.49,\"401\":null,\"402\":null,\"403\":1.23,\"404\":null,\"405\":0.66,\"406\":0.58,\"407\":null,\"408\":0.65,\"409\":null,\"410\":null,\"411\":null,\"412\":0.51,\"413\":null,\"414\":null,\"415\":null,\"416\":null,\"417\":null,\"418\":null,\"419\":null,\"420\":0.56,\"421\":0.93,\"422\":null,\"423\":null,\"424\":null,\"425\":null,\"426\":null,\"427\":null,\"428\":null,\"429\":null,\"430\":null,\"431\":0.47,\"432\":0.69,\"433\":1.45,\"434\":null,\"435\":null,\"436\":null,\"437\":null,\"438\":null,\"439\":null,\"440\":null,\"441\":0.93,\"442\":0.38,\"443\":0.69,\"444\":0.54,\"445\":0.94,\"446\":0.24,\"447\":0.69,\"448\":null,\"449\":null,\"450\":null,\"451\":null,\"452\":null,\"453\":null,\"454\":null,\"455\":null,\"456\":null,\"457\":null,\"458\":0.58,\"459\":1.35,\"460\":0.82,\"461\":1.24,\"462\":0.62,\"463\":0.5,\"464\":null,\"465\":null,\"466\":null,\"467\":null,\"468\":null,\"469\":0.18,\"470\":null,\"471\":null,\"472\":null,\"473\":1.0,\"474\":null,\"475\":null,\"476\":null,\"477\":null,\"478\":null,\"479\":null,\"480\":null,\"481\":0.57,\"482\":null,\"483\":null,\"484\":null,\"485\":null,\"486\":null,\"487\":null,\"488\":0.78,\"489\":0.33,\"490\":null,\"491\":null,\"492\":null,\"493\":null,\"494\":0.14,\"495\":null,\"496\":null,\"497\":null,\"498\":null,\"499\":0.37,\"500\":0.39,\"501\":0.55,\"502\":null,\"503\":null,\"504\":null,\"505\":0.54,\"506\":0.75,\"507\":1.18,\"508\":1.25,\"509\":null,\"510\":null,\"511\":null,\"512\":null,\"513\":0.34,\"514\":0.83,\"515\":null,\"516\":0.12,\"517\":0.55,\"518\":0.75,\"519\":null,\"520\":null,\"521\":0.93,\"522\":0.47,\"523\":0.86,\"524\":0.75,\"525\":null,\"526\":null,\"527\":null,\"528\":null,\"529\":null,\"530\":null,\"531\":1.03,\"532\":0.22,\"533\":0.95,\"534\":0.13,\"535\":0.29,\"536\":0.68,\"537\":0.14,\"538\":0.91,\"539\":0.11,\"540\":0.27,\"541\":0.07,\"542\":0.71,\"543\":0.06,\"544\":1.0,\"545\":0.52,\"546\":0.33,\"547\":0.76,\"548\":0.14,\"549\":null,\"550\":0.5,\"551\":0.86,\"552\":0.16,\"553\":0.28,\"554\":0.21,\"555\":null,\"556\":0.94,\"557\":1.17,\"558\":0.17,\"559\":0.32,\"560\":0.68,\"561\":1.12,\"562\":null,\"563\":0.97,\"564\":0.58,\"565\":0.06,\"566\":null,\"567\":1.5,\"568\":null,\"569\":null,\"570\":0.13,\"571\":0.19,\"572\":0.15,\"573\":null,\"574\":null,\"575\":0.1,\"576\":0.48,\"577\":null,\"578\":null,\"579\":null,\"580\":null,\"581\":null,\"582\":0.24,\"583\":0.14,\"584\":null,\"585\":null,\"586\":null,\"587\":null,\"588\":null,\"589\":null,\"590\":0.89,\"591\":null,\"592\":null,\"593\":null,\"594\":null,\"595\":null,\"596\":null,\"597\":null,\"598\":null,\"599\":null,\"600\":null,\"601\":null,\"602\":null,\"603\":null,\"604\":null,\"605\":null,\"606\":null,\"607\":null,\"608\":null,\"609\":0.37,\"610\":null,\"611\":null,\"612\":null,\"613\":null,\"614\":null,\"615\":null,\"616\":null,\"617\":null,\"618\":null,\"619\":null,\"620\":null,\"621\":null,\"622\":null,\"623\":null,\"624\":null,\"625\":null,\"626\":null,\"627\":null,\"628\":null,\"629\":null,\"630\":null,\"631\":null,\"632\":null,\"633\":null,\"634\":null,\"635\":null,\"636\":null,\"637\":null,\"638\":null,\"639\":null,\"640\":null,\"641\":null,\"642\":null,\"643\":null,\"644\":null,\"645\":null,\"646\":0.12,\"647\":null,\"648\":null,\"649\":null,\"650\":null,\"651\":null,\"652\":null,\"653\":null,\"654\":null,\"655\":null,\"656\":null,\"657\":null},\"Return Rate\":{\"0\":1.31,\"1\":1.62,\"2\":1.12,\"3\":1.13,\"4\":1.49,\"5\":1.18,\"6\":1.18,\"7\":1.5,\"8\":1.1,\"9\":null,\"10\":1.27,\"11\":1.46,\"12\":1.13,\"13\":null,\"14\":1.23,\"15\":1.21,\"16\":1.13,\"17\":1.13,\"18\":1.2,\"19\":1.0,\"20\":null,\"21\":null,\"22\":1.32,\"23\":null,\"24\":1.11,\"25\":null,\"26\":null,\"27\":null,\"28\":1.05,\"29\":null,\"30\":null,\"31\":1.42,\"32\":null,\"33\":1.0,\"34\":null,\"35\":null,\"36\":null,\"37\":null,\"38\":null,\"39\":null,\"40\":null,\"41\":null,\"42\":null,\"43\":null,\"44\":null,\"45\":null,\"46\":null,\"47\":null,\"48\":null,\"49\":null,\"50\":null,\"51\":null,\"52\":null,\"53\":null,\"54\":null,\"55\":null,\"56\":null,\"57\":null,\"58\":null,\"59\":null,\"60\":null,\"61\":null,\"62\":null,\"63\":null,\"64\":null,\"65\":null,\"66\":null,\"67\":null,\"68\":null,\"69\":null,\"70\":null,\"71\":1.1,\"72\":null,\"73\":null,\"74\":null,\"75\":1.18,\"76\":null,\"77\":null,\"78\":null,\"79\":null,\"80\":null,\"81\":null,\"82\":null,\"83\":null,\"84\":null,\"85\":null,\"86\":null,\"87\":null,\"88\":null,\"89\":null,\"90\":null,\"91\":null,\"92\":null,\"93\":null,\"94\":null,\"95\":null,\"96\":null,\"97\":null,\"98\":null,\"99\":null,\"100\":null,\"101\":null,\"102\":null,\"103\":null,\"104\":null,\"105\":null,\"106\":null,\"107\":null,\"108\":null,\"109\":null,\"110\":null,\"111\":null,\"112\":null,\"113\":null,\"114\":null,\"115\":null,\"116\":null,\"117\":null,\"118\":null,\"119\":null,\"120\":null,\"121\":null,\"122\":null,\"123\":null,\"124\":null,\"125\":null,\"126\":null,\"127\":null,\"128\":null,\"129\":null,\"130\":null,\"131\":null,\"132\":null,\"133\":null,\"134\":null,\"135\":null,\"136\":null,\"137\":null,\"138\":null,\"139\":null,\"140\":null,\"141\":1.12,\"142\":null,\"143\":null,\"144\":null,\"145\":null,\"146\":null,\"147\":null,\"148\":null,\"149\":null,\"150\":null,\"151\":null,\"152\":null,\"153\":null,\"154\":null,\"155\":null,\"156\":null,\"157\":null,\"158\":null,\"159\":null,\"160\":null,\"161\":null,\"162\":null,\"163\":null,\"164\":null,\"165\":null,\"166\":null,\"167\":null,\"168\":null,\"169\":null,\"170\":null,\"171\":null,\"172\":null,\"173\":null,\"174\":null,\"175\":null,\"176\":null,\"177\":null,\"178\":null,\"179\":null,\"180\":null,\"181\":null,\"182\":null,\"183\":null,\"184\":null,\"185\":null,\"186\":null,\"187\":null,\"188\":null,\"189\":null,\"190\":null,\"191\":null,\"192\":null,\"193\":null,\"194\":null,\"195\":null,\"196\":null,\"197\":null,\"198\":1.32,\"199\":2.74,\"200\":null,\"201\":null,\"202\":null,\"203\":null,\"204\":null,\"205\":null,\"206\":null,\"207\":null,\"208\":null,\"209\":1.39,\"210\":null,\"211\":1.18,\"212\":1.52,\"213\":2.0,\"214\":1.91,\"215\":null,\"216\":null,\"217\":1.45,\"218\":1.48,\"219\":null,\"220\":null,\"221\":1.6,\"222\":1.3,\"223\":1.18,\"224\":1.15,\"225\":null,\"226\":null,\"227\":1.43,\"228\":1.29,\"229\":null,\"230\":null,\"231\":null,\"232\":null,\"233\":1.25,\"234\":1.36,\"235\":null,\"236\":1.19,\"237\":null,\"238\":null,\"239\":null,\"240\":null,\"241\":null,\"242\":null,\"243\":null,\"244\":1.83,\"245\":1.27,\"246\":null,\"247\":null,\"248\":null,\"249\":1.22,\"250\":1.13,\"251\":null,\"252\":null,\"253\":3.19,\"254\":1.36,\"255\":1.13,\"256\":null,\"257\":1.67,\"258\":1.22,\"259\":null,\"260\":1.13,\"261\":null,\"262\":null,\"263\":null,\"264\":1.19,\"265\":null,\"266\":null,\"267\":null,\"268\":1.23,\"269\":1.52,\"270\":1.71,\"271\":1.25,\"272\":null,\"273\":null,\"274\":null,\"275\":null,\"276\":null,\"277\":null,\"278\":1.42,\"279\":1.36,\"280\":1.87,\"281\":1.26,\"282\":1.16,\"283\":null,\"284\":null,\"285\":null,\"286\":null,\"287\":null,\"288\":null,\"289\":null,\"290\":null,\"291\":null,\"292\":null,\"293\":null,\"294\":null,\"295\":null,\"296\":1.73,\"297\":null,\"298\":null,\"299\":1.26,\"300\":null,\"301\":null,\"302\":null,\"303\":null,\"304\":null,\"305\":null,\"306\":1.07,\"307\":null,\"308\":null,\"309\":null,\"310\":null,\"311\":null,\"312\":null,\"313\":null,\"314\":null,\"315\":null,\"316\":null,\"317\":null,\"318\":null,\"319\":null,\"320\":1.41,\"321\":1.37,\"322\":1.41,\"323\":1.47,\"324\":1.39,\"325\":1.46,\"326\":1.12,\"327\":1.13,\"328\":1.62,\"329\":null,\"330\":1.17,\"331\":1.14,\"332\":null,\"333\":null,\"334\":null,\"335\":null,\"336\":null,\"337\":null,\"338\":null,\"339\":null,\"340\":null,\"341\":null,\"342\":null,\"343\":null,\"344\":1.43,\"345\":1.29,\"346\":1.23,\"347\":1.26,\"348\":null,\"349\":1.23,\"350\":null,\"351\":1.32,\"352\":1.14,\"353\":1.3,\"354\":null,\"355\":1.44,\"356\":1.32,\"357\":null,\"358\":null,\"359\":null,\"360\":1.3,\"361\":null,\"362\":null,\"363\":null,\"364\":null,\"365\":null,\"366\":null,\"367\":null,\"368\":null,\"369\":null,\"370\":null,\"371\":null,\"372\":null,\"373\":2.34,\"374\":1.28,\"375\":1.19,\"376\":1.14,\"377\":1.49,\"378\":1.17,\"379\":null,\"380\":null,\"381\":null,\"382\":null,\"383\":null,\"384\":1.24,\"385\":1.72,\"386\":null,\"387\":null,\"388\":1.13,\"389\":null,\"390\":1.17,\"391\":null,\"392\":null,\"393\":null,\"394\":null,\"395\":null,\"396\":null,\"397\":null,\"398\":null,\"399\":null,\"400\":1.13,\"401\":null,\"402\":null,\"403\":1.43,\"404\":null,\"405\":1.09,\"406\":1.04,\"407\":null,\"408\":1.05,\"409\":null,\"410\":null,\"411\":null,\"412\":1.27,\"413\":null,\"414\":null,\"415\":null,\"416\":null,\"417\":null,\"418\":null,\"419\":null,\"420\":1.19,\"421\":1.32,\"422\":null,\"423\":null,\"424\":null,\"425\":null,\"426\":null,\"427\":null,\"428\":null,\"429\":null,\"430\":null,\"431\":1.24,\"432\":1.06,\"433\":1.59,\"434\":null,\"435\":null,\"436\":null,\"437\":null,\"438\":null,\"439\":null,\"440\":null,\"441\":1.67,\"442\":1.19,\"443\":1.19,\"444\":1.28,\"445\":1.25,\"446\":1.07,\"447\":1.25,\"448\":null,\"449\":null,\"450\":null,\"451\":null,\"452\":null,\"453\":null,\"454\":null,\"455\":null,\"456\":null,\"457\":null,\"458\":4.14,\"459\":1.2,\"460\":1.7,\"461\":1.43,\"462\":1.13,\"463\":1.04,\"464\":null,\"465\":null,\"466\":null,\"467\":null,\"468\":null,\"469\":1.06,\"470\":null,\"471\":null,\"472\":null,\"473\":1.29,\"474\":null,\"475\":null,\"476\":null,\"477\":null,\"478\":null,\"479\":null,\"480\":null,\"481\":1.11,\"482\":null,\"483\":null,\"484\":null,\"485\":null,\"486\":null,\"487\":null,\"488\":1.32,\"489\":1.13,\"490\":null,\"491\":null,\"492\":null,\"493\":null,\"494\":1.08,\"495\":null,\"496\":null,\"497\":null,\"498\":null,\"499\":1.17,\"500\":1.24,\"501\":1.06,\"502\":null,\"503\":null,\"504\":null,\"505\":1.22,\"506\":1.13,\"507\":1.08,\"508\":1.12,\"509\":null,\"510\":null,\"511\":null,\"512\":null,\"513\":1.13,\"514\":1.43,\"515\":null,\"516\":1.14,\"517\":1.1,\"518\":1.14,\"519\":null,\"520\":null,\"521\":1.6,\"522\":1.12,\"523\":1.69,\"524\":1.07,\"525\":null,\"526\":null,\"527\":null,\"528\":null,\"529\":null,\"530\":null,\"531\":1.45,\"532\":1.08,\"533\":1.2,\"534\":1.11,\"535\":1.07,\"536\":1.14,\"537\":1.15,\"538\":1.66,\"539\":1.1,\"540\":1.17,\"541\":1.39,\"542\":1.09,\"543\":1.16,\"544\":1.23,\"545\":1.23,\"546\":1.24,\"547\":1.2,\"548\":1.09,\"549\":null,\"550\":1.24,\"551\":1.06,\"552\":1.26,\"553\":1.1,\"554\":1.2,\"555\":null,\"556\":2.35,\"557\":1.3,\"558\":1.1,\"559\":1.11,\"560\":1.05,\"561\":1.5,\"562\":null,\"563\":1.35,\"564\":1.22,\"565\":1.1,\"566\":null,\"567\":1.67,\"568\":null,\"569\":null,\"570\":1.1,\"571\":1.13,\"572\":1.17,\"573\":null,\"574\":null,\"575\":1.15,\"576\":1.1,\"577\":null,\"578\":null,\"579\":null,\"580\":null,\"581\":null,\"582\":1.21,\"583\":1.11,\"584\":null,\"585\":null,\"586\":null,\"587\":null,\"588\":null,\"589\":null,\"590\":1.12,\"591\":null,\"592\":null,\"593\":null,\"594\":null,\"595\":null,\"596\":null,\"597\":null,\"598\":null,\"599\":null,\"600\":null,\"601\":null,\"602\":null,\"603\":null,\"604\":null,\"605\":null,\"606\":null,\"607\":null,\"608\":null,\"609\":1.12,\"610\":null,\"611\":null,\"612\":null,\"613\":null,\"614\":null,\"615\":null,\"616\":null,\"617\":null,\"618\":null,\"619\":null,\"620\":null,\"621\":null,\"622\":null,\"623\":null,\"624\":null,\"625\":null,\"626\":null,\"627\":null,\"628\":null,\"629\":null,\"630\":null,\"631\":null,\"632\":null,\"633\":null,\"634\":null,\"635\":null,\"636\":null,\"637\":null,\"638\":null,\"639\":null,\"640\":null,\"641\":null,\"642\":null,\"643\":null,\"644\":null,\"645\":null,\"646\":1.17,\"647\":null,\"648\":null,\"649\":null,\"650\":null,\"651\":null,\"652\":null,\"653\":null,\"654\":null,\"655\":null,\"656\":null,\"657\":null},\"Parent Keyword\":{\"0\":\"digital marketer\",\"1\":\"detailed online\",\"2\":\"what is this\",\"3\":\"constitute\",\"4\":\"marketing agency\",\"5\":\"services\",\"6\":\"marketeer\",\"7\":\"regardless marketing\",\"8\":\"marketing channels\",\"9\":\"itv digital\",\"10\":\"the who\",\"11\":\"hubspot\",\"12\":\"marketer\",\"13\":\"digital agency birmingham\",\"14\":\"whois\",\"15\":\"digital spy\",\"16\":\"according\",\"17\":\"who \\'s\",\"18\":\"role of digital marketing\",\"19\":\"hubspot\",\"20\":\"content marketing agency\",\"21\":\"create\",\"22\":\"like digital\",\"23\":\"service\\'s\",\"24\":\"business definition\",\"25\":\"key digital\",\"26\":\"alldigital\",\"27\":\"infact\",\"28\":\"defined\",\"29\":\"trends definition in business\",\"30\":\"for\",\"31\":\"digital campaign\",\"32\":\"hubspot\",\"33\":\"5 ws\",\"34\":\"lucy definition\",\"35\":\"digital marketing theory\",\"36\":\"internet marketing agency\",\"37\":\"lucy alexander\",\"38\":\"digital marketing\",\"39\":\"what\",\"40\":\"5 ws\",\"41\":\"edigital research\",\"42\":\"best digital\",\"43\":\"hubspot\",\"44\":\"climb online\",\"45\":\"digital marketing agency london\",\"46\":\"coast.co.uk\",\"47\":\"impression internet\",\"48\":\"digital marketing\",\"49\":\"what\",\"50\":\"digitales\",\"51\":\"search engine marketing agency\",\"52\":\"digital marketing job description\",\"53\":\"hubspot\",\"54\":\"marketing means\",\"55\":\"best internet marketing company\",\"56\":null,\"57\":\"digital marketing solutions\",\"58\":\"who what wear\",\"59\":\"which or what\",\"60\":\"social media marketing agency\",\"61\":\"digital marketing agency\",\"62\":\"digital uk\",\"63\":\"increase\",\"64\":\"digital marketing\",\"65\":\"digital.co.uk\",\"66\":\"do you\",\"67\":\"coast\",\"68\":\"marketeer\",\"69\":\"best internet marketing company\",\"70\":\"company insolvency register\",\"71\":\"climb online\",\"72\":\"digital\",\"73\":\"digital marketing agency\",\"74\":\"understanding digital marketing\",\"75\":\"digital marketing agency\",\"76\":\"a\",\"77\":\"hubspot\",\"78\":\"digital company\",\"79\":\"dms\",\"80\":\"search engine marketing company\",\"81\":\"\\\\u0628\\\\u0627\\\\u0632\\\\u0627\\\\u0631\\\\u06cc\\\\u0627\\\\u0628\\\\u06cc\",\"82\":\"who and what and where song\",\"83\":\"market definition example\",\"84\":\"digital\",\"85\":\"google certification\",\"86\":\"digital marketing channels\",\"87\":\"method\",\"88\":\"mac miller what\\'s the use\",\"89\":\"encompass\",\"90\":\"digital marketing channels\",\"91\":\"see meaning\",\"92\":\"coast media\",\"93\":\"onedigitals co uk review\",\"94\":\"hubspot\",\"95\":\"can do attitude\",\"96\":\"it digital\",\"97\":\"digital marketing agency\",\"98\":\"a\",\"99\":\"android market\",\"100\":\"go digital reviews\",\"101\":\"marketing message examples\",\"102\":\"digital marketing technology\",\"103\":\"essex travel news\",\"104\":\"digital marketer\",\"105\":\"detail online\",\"106\":\"digital world meaning\",\"107\":\"digital marketing agency\",\"108\":\"online marketing expert\",\"109\":\"small world marketing\",\"110\":\"a\",\"111\":\"the who\",\"112\":\"space marketing\",\"113\":\"online marketing\",\"114\":\"digital\",\"115\":\"increased\",\"116\":\"what does .com\",\"117\":\"service business definition\",\"118\":\"media industry\",\"119\":\"coast to coast ipswich\",\"120\":\"digital marketing agency\",\"121\":\"who and what and where song\",\"122\":\"business definition\",\"123\":\"what is online services\",\"124\":\"content agency london\",\"125\":\"encompass\",\"126\":\"market\",\"127\":\"seo sussex\",\"128\":\"digital media blog\",\"129\":\"content marketing world\",\"130\":\"wat\",\"131\":\"what is this\",\"132\":null,\"133\":\"what is all about\",\"134\":\"digital channel\",\"135\":\"digital agency\",\"136\":\"marketing concept\",\"137\":null,\"138\":\"digital work\",\"139\":\"what is emarketing\",\"140\":null,\"141\":\"results through digital\",\"142\":\"star digital\",\"143\":null,\"144\":null,\"145\":null,\"146\":null,\"147\":null,\"148\":\"b2b marketing strategy\",\"149\":null,\"150\":null,\"151\":null,\"152\":null,\"153\":null,\"154\":null,\"155\":null,\"156\":null,\"157\":null,\"158\":\"tps\",\"159\":null,\"160\":null,\"161\":null,\"162\":null,\"163\":null,\"164\":null,\"165\":null,\"166\":null,\"167\":null,\"168\":null,\"169\":null,\"170\":null,\"171\":null,\"172\":null,\"173\":null,\"174\":null,\"175\":null,\"176\":null,\"177\":null,\"178\":null,\"179\":\"the marketing campaign company\",\"180\":null,\"181\":null,\"182\":null,\"183\":null,\"184\":null,\"185\":null,\"186\":null,\"187\":null,\"188\":null,\"189\":null,\"190\":null,\"191\":null,\"192\":null,\"193\":null,\"194\":null,\"195\":null,\"196\":\"digital marketing agency\",\"197\":\"mobile marketing agency\",\"198\":\"digital marketplace\",\"199\":\"seo services london\",\"200\":\"search marketing agency\",\"201\":\"digital marketing agency\",\"202\":\"digital marketing company\",\"203\":\"digital agency\",\"204\":\"the search marketing shop\",\"205\":\"content marketing agency\",\"206\":\"marketing agency\",\"207\":\"seo marketing\",\"208\":null,\"209\":\"digital marketing agency\",\"210\":\"digital marketing\",\"211\":\"content\",\"212\":\"content marketing agency\",\"213\":\"email marketing agency\",\"214\":\"digital marketing agency\",\"215\":\"content marketing agency\",\"216\":\"digital marketing agency reading\",\"217\":\"digital marketing agency\",\"218\":\"digital marketing agency\",\"219\":\"marketing email\",\"220\":\"digital marketing life cycle\",\"221\":\"digital marketing agency\",\"222\":\"digital marketing agency\",\"223\":\"benefits of digital marketing\",\"224\":\"digital marketing agency\",\"225\":\"digital marketing agency\",\"226\":\"marketing agency\",\"227\":\"digital marketing agency\",\"228\":\"digital marketing agency\",\"229\":\"digital marketing services\",\"230\":\"digital marketing agency\",\"231\":\"marketing agency\",\"232\":\"online marketing company\",\"233\":\"social media agency\",\"234\":\"seo marketing\",\"235\":\"web design nottingham\",\"236\":\"nhs prepayment card\",\"237\":\"social media advertising\",\"238\":\"digital content marketing\",\"239\":\"social media marketing agency\",\"240\":\"digital marketing strategist\",\"241\":\"web design nottingham\",\"242\":\"digital marketing for financial services\",\"243\":\"online marketing expert\",\"244\":\"digital marketing services\",\"245\":\"digital marketing agency\",\"246\":\"online marketing\",\"247\":\"marketing company\",\"248\":\"digital marketing agency\",\"249\":\"how to get into marketing\",\"250\":\"marketing strategy\",\"251\":\"full service digital agency\",\"252\":\"digital marketing services\",\"253\":\"web design nottingham\",\"254\":\"marketing pricing\",\"255\":\"types of digital marketing\",\"256\":\"digital marketing agency london\",\"257\":\"social media agency london\",\"258\":\"marketing agency\",\"259\":\"marketing agency\",\"260\":\"digital\",\"261\":\"online marketing company\",\"262\":\"what is emarketing\",\"263\":\"online advertising agency\",\"264\":\"social media marketing agency\",\"265\":\"digital agency\",\"266\":\"go umbrella time online\",\"267\":\"online marketing expert\",\"268\":\"online marketing\",\"269\":\"social media marketing agency\",\"270\":\"marketing agency\",\"271\":\"online marketing\",\"272\":\"digital advertising agency\",\"273\":\"digital marketing agency\",\"274\":\"social media marketing agency\",\"275\":\"digital marketing course\",\"276\":\"social media marketing agency\",\"277\":\"social media marketing bristol\",\"278\":\"digital marketing agency\",\"279\":\"digital marketing strategy\",\"280\":\"digital marketing agency\",\"281\":\"digital marketing techniques\",\"282\":\"digital marketing\",\"283\":\"digital marketing consultant\",\"284\":\"online marketing expert\",\"285\":\"digital marketing agency\",\"286\":\"digital marketing agency\",\"287\":\"digital marketing agency\",\"288\":\"absolute digital media\",\"289\":\"social media marketing\",\"290\":\"digital transformation agency london\",\"291\":\"web design nottingham\",\"292\":\"marketing channels\",\"293\":\"digital agency uk\",\"294\":\"strategy internet marketing\",\"295\":\"digital marketing agency\",\"296\":\"social media agency london\",\"297\":\"digital marketing agency\",\"298\":\"strategy internet marketing\",\"299\":\"social media marketing agency\",\"300\":\"marketing agency\",\"301\":\"social media marketing agency\",\"302\":\"website agency\",\"303\":\"web design nottingham\",\"304\":\"internet marketing\",\"305\":\"digital technology\",\"306\":\"what is a digital agency\",\"307\":\"marketing agency\",\"308\":\"web marketing agency\",\"309\":\"social media agency\",\"310\":\"web design nottingham\",\"311\":\"digital platform definition\",\"312\":\"digital agency reading\",\"313\":\"full service agency\",\"314\":\"marketing agency\",\"315\":\"digital agency\",\"316\":\"digital marketing agency\",\"317\":\"marketing news\",\"318\":\"social media marketing\",\"319\":\"digital marketing agency\",\"320\":\"digital marketing\",\"321\":\"hubspot\",\"322\":\"performance marketing\",\"323\":\"internet marketing\",\"324\":\"marketing news\",\"325\":\"digital marketing channels\",\"326\":\"social media marketing agency\",\"327\":\"marketing website\",\"328\":\"online marketing\",\"329\":\"digital marketing services\",\"330\":\"digital marketing solutions\",\"331\":\"digital marketing agency\",\"332\":\"web marketing services\",\"333\":\"market .com\",\"334\":\"digital marketing agency\",\"335\":\"social media agency\",\"336\":\"web design nottingham\",\"337\":\"google certification\",\"338\":\"marketing campaign\",\"339\":\"digital marketing\",\"340\":\"social media marketing agency\",\"341\":\"web design nottingham\",\"342\":\"online marketing company\",\"343\":\"integrated marketing agency london\",\"344\":\"digital marketing agency\",\"345\":\"marketing company\",\"346\":\"digital marketing\",\"347\":\"marketing services\",\"348\":\"discuss the market\",\"349\":\"search engine marketing\",\"350\":\"digital marketing agency\",\"351\":\"what is service marketing\",\"352\":\"digital marketing blog\",\"353\":\"marketing blog\",\"354\":\"marketing agency reading\",\"355\":\"digital marketing blog\",\"356\":\"marketing agency\",\"357\":\"social media marketing\",\"358\":\"digital agency\",\"359\":\"strategy internet marketing\",\"360\":\"social media management agency\",\"361\":\"digital marketing\",\"362\":\"social media manager\",\"363\":\"marketing website\",\"364\":\"cjam\",\"365\":\"marketing agency\",\"366\":\"digital marketing\",\"367\":\"online marketing plan\",\"368\":\"digital marketing\",\"369\":\"social media marketing agency\",\"370\":\"marketing website\",\"371\":\"marketing companies\",\"372\":\"digital marketing blog\",\"373\":\"hubspot\",\"374\":\"digital marketing\",\"375\":\"digital company\",\"376\":\"digital marketing specialist\",\"377\":\"digital marketing agency london\",\"378\":\"digital marketing platforms\",\"379\":\"revive digital media\",\"380\":\"social media strategy example\",\"381\":\"marketing agency\",\"382\":\"how to become a digital marketer\",\"383\":\"online marketing solutions\",\"384\":\"marketing agency\",\"385\":\"marketing agency\",\"386\":\"agency online\",\"387\":\"marketing agency\",\"388\":\"digital marketing\",\"389\":\"top it companies\",\"390\":\"role of digital marketing\",\"391\":\"e marketing\",\"392\":\"digital marketing agency\",\"393\":\"digital marketing agency\",\"394\":\"marketing agency\",\"395\":\"online marketing\",\"396\":\"elements of internet marketing\",\"397\":\"online marketing\",\"398\":\"online marketing business\",\"399\":\"digital marketing services\",\"400\":\"digital marketing\",\"401\":\"types of digital marketing\",\"402\":\"advertising agencies near me\",\"403\":\"american internet and media company\",\"404\":\"full service agency\",\"405\":\"digital marketing job description\",\"406\":\"online marketing\",\"407\":\"understanding digital marketing\",\"408\":\"digital marketing strategy\",\"409\":\"marketing agency\",\"410\":\"digital agency\",\"411\":\"digital marketing articles\",\"412\":\"social media marketing\",\"413\":\"digital agency\",\"414\":\"marketing agency\",\"415\":\"digital media products\",\"416\":\"design agency colchester\",\"417\":\"digital marketing\",\"418\":\"business market definition\",\"419\":\"digital marketing conference\",\"420\":\"digital marketing channels\",\"421\":\"media agency\",\"422\":\"revive digital media\",\"423\":\"crafted\",\"424\":\"marketing agency colchester\",\"425\":\"online marketing\",\"426\":\"it marketing\",\"427\":\"marketing agency\",\"428\":\"marketing agency essex\",\"429\":\"internet marketing agency\",\"430\":\"services marketing\",\"431\":\"digital media\",\"432\":\"hubspot\",\"433\":\"marketing agency\",\"434\":\"marketing executive\",\"435\":\"marketing agency\",\"436\":\"digital marketing colchester\",\"437\":\"digital advertising\",\"438\":\"digital marketing\",\"439\":\"mlm companies\",\"440\":\"solution marketing\",\"441\":\"coast\",\"442\":\"digital\",\"443\":\"digital marketing\",\"444\":\"digital content\",\"445\":\"digital marketing job description\",\"446\":\"online\",\"447\":\"digital promotion\",\"448\":\"role of digital marketing\",\"449\":\"digital marketing basics\",\"450\":\"marketing information\",\"451\":\"uses of internet in business\",\"452\":\"strategy internet marketing\",\"453\":\"design agency essex\",\"454\":\"marketing channels\",\"455\":\"shs\",\"456\":\"digital marketing\",\"457\":\"market research nottingham\",\"458\":\"key digital\",\"459\":\"marketing blogs\",\"460\":\"hubspot\",\"461\":\"social media management\",\"462\":\"coast logo\",\"463\":\"online marketing campaign\",\"464\":\"digital london\",\"465\":\"beaches near london\",\"466\":\"digital marketing agency\",\"467\":\"media and marketing\",\"468\":null,\"469\":\"digital\",\"470\":\"digital marketing agency london\",\"471\":\"how to market a website\",\"472\":\"services marketing\",\"473\":\"what is digital advertising\",\"474\":\"android market\",\"475\":\"marketing agency\",\"476\":\"marketing concept\",\"477\":\"digital media\",\"478\":\"types of digital marketing\",\"479\":\"digital marketing strategy\",\"480\":\"the full service\",\"481\":\"digital technology\",\"482\":\"essex digital awards\",\"483\":\"agency services\",\"484\":\"the who\",\"485\":\"role of digital marketing\",\"486\":\"marketing concepts\",\"487\":\"interactive media\",\"488\":\"digital uk\",\"489\":\"digital media\",\"490\":\"the who\",\"491\":\"digital marketing\",\"492\":\"online business ideas\",\"493\":\"best digital market\",\"494\":\"website - definition\",\"495\":\"digital marketing terms\",\"496\":\"google digital garage\",\"497\":\"online marketing london\",\"498\":\"digital media sales\",\"499\":\"marketing\",\"500\":\"head of digital marketing\",\"501\":\"difference between marketing and advertising\",\"502\":\"digital\",\"503\":\"digital marketing ipswich\",\"504\":\"the who\",\"505\":\"digital media\",\"506\":\"coast\",\"507\":\"digital uk\",\"508\":\"whois\",\"509\":\"coast customer services\",\"510\":\"information marketing\",\"511\":\"username search\",\"512\":\"social media marketing bristol\",\"513\":\"digital media\",\"514\":\"digital marketing agency\",\"515\":\"coast\",\"516\":\"definition of email\",\"517\":\"coast\",\"518\":\"coast\",\"519\":\"coast\",\"520\":\"coast\",\"521\":\"coast\",\"522\":\"whois\",\"523\":\"coast\",\"524\":\"coast\",\"525\":\"coast\",\"526\":\"best wifi channel\",\"527\":\"coast\",\"528\":\"marketing essex\",\"529\":\"form digital\",\"530\":\"digital media examples\",\"531\":\"and digital\",\"532\":\"what is this\",\"533\":\"climb online\",\"534\":\"\\\\u0645\\\\u0624\\\\u0633\\\\u0633\\\\u0629\",\"535\":\"digital\",\"536\":\"which or what\",\"537\":\"more\",\"538\":\"digital marketing agency\",\"539\":\"business definition\",\"540\":\"market\",\"541\":\"more\",\"542\":\"itv digital\",\"543\":\"numerous\",\"544\":\"digital\",\"545\":\"digital\",\"546\":\"digital\",\"547\":\"digital campaign\",\"548\":\"can\",\"549\":\"world of digital\",\"550\":\"digital space\",\"551\":\"digital media examples\",\"552\":\"all\",\"553\":\"what\\'s more\",\"554\":\"post\",\"555\":\"time\",\"556\":\"click and drop\",\"557\":\"full fat\",\"558\":\"garish\",\"559\":\"info meaning\",\"560\":\"digital marketing\",\"561\":\"methods\",\"562\":\"whowhatwhy\",\"563\":\"digital marketing\",\"564\":\"digital marketing\",\"565\":\"comprise\",\"566\":\"marketing blog\",\"567\":\"why work in digital marketing\",\"568\":\"business definition\",\"569\":\"digital\",\"570\":\"online\",\"571\":\"according\",\"572\":\"including\",\"573\":\"define an english person\",\"574\":\"the drum\",\"575\":\"encompass\",\"576\":\"for\",\"577\":\"get on with it\",\"578\":\"marketing industry\",\"579\":\"comprised\",\"580\":\"is it down\",\"581\":\"digital media\",\"582\":\"make it up to you\",\"583\":\"online\",\"584\":\"bull market\",\"585\":\"what is digital content\",\"586\":\"does\",\"587\":\"b2b\",\"588\":\"marketing concept\",\"589\":\"digital\",\"590\":\"dms\",\"591\":\"digital devices\",\"592\":\"digital technology\",\"593\":\"what is online services\",\"594\":\"digital media\",\"595\":\"description of a market\",\"596\":\"digirank\",\"597\":\"entail\",\"598\":\"new media\",\"599\":\"digital media\",\"600\":\"watch lucy online free\",\"601\":\"forge agency\",\"602\":\"digital marketing blogs\",\"603\":\"ampersand\",\"604\":\"work digital\",\"605\":\"areas of marketing\",\"606\":\"digital marketing images\",\"607\":\"internet marketing seo\",\"608\":\"online web marketing\",\"609\":\"digital sales\",\"610\":\"who is who\",\"611\":\"what is marketing\",\"612\":\"digitally\",\"613\":\"digital media manager\",\"614\":\"used to definition\",\"615\":\"digital\",\"616\":\"media company\",\"617\":\"microsoft.com\",\"618\":\"which or what\",\"619\":\"who\\'s online\",\"620\":\"digital spy\",\"621\":\"digital media\",\"622\":\"internet\",\"623\":\"climb online\",\"624\":\"internet marketing blog\",\"625\":\"description of a market\",\"626\":\"digital\",\"627\":\"now digital\",\"628\":\"digital 1\",\"629\":\"how of\",\"630\":\"biddable media\",\"631\":\"what will be will be\",\"632\":\"digital\",\"633\":\"direct and digital marketing\",\"634\":\"the digital picture\",\"635\":\"market sector definition\",\"636\":\"digital space definition\",\"637\":\"full personal service\",\"638\":\"digital\",\"639\":\"the help agency\",\"640\":\"marketing agency poole\",\"641\":\"media-marketing\",\"642\":\"british eventing\",\"643\":\"digital spy\",\"644\":\"constitute\",\"645\":\"uk agency\",\"646\":\"consists\",\"647\":\"digital world\",\"648\":\"digital\",\"649\":\"market\",\"650\":\"digital media blog\",\"651\":\"what digital\",\"652\":\"digital media\",\"653\":\"new digital business\",\"654\":\"digital marketing resources\",\"655\":\"absolute pr\",\"656\":\"media\",\"657\":\"service marketing strategy\"},\"Last Update\":{\"0\":\"2020-05-05 15:13:56\",\"1\":\"2020-05-03 13:55:48\",\"2\":\"2020-04-29 07:44:47\",\"3\":\"2020-05-04 07:32:28\",\"4\":\"2020-04-27 18:11:44\",\"5\":\"2020-05-09 12:28:03\",\"6\":\"2020-04-24 09:50:43\",\"7\":\"2020-05-04 07:36:25\",\"8\":\"2020-04-28 06:11:20\",\"9\":\"2020-05-01 14:22:17\",\"10\":\"2020-05-07 09:36:59\",\"11\":\"2020-04-26 01:10:38\",\"12\":\"2020-05-04 08:17:54\",\"13\":\"2020-05-09 20:34:54\",\"14\":\"2020-05-03 21:53:48\",\"15\":\"2020-04-20 19:58:53\",\"16\":\"2020-04-17 21:30:15\",\"17\":\"2020-04-27 02:58:15\",\"18\":\"2020-04-18 11:24:52\",\"19\":\"2020-04-28 22:51:53\",\"20\":\"2020-04-18 15:20:02\",\"21\":\"2020-05-03 07:08:20\",\"22\":\"2020-05-06 07:16:55\",\"23\":\"2020-05-05 23:20:15\",\"24\":\"2020-04-24 22:00:55\",\"25\":\"2020-05-03 04:46:31\",\"26\":\"2020-04-24 20:48:34\",\"27\":\"2020-04-18 10:56:19\",\"28\":\"2020-04-23 10:51:20\",\"29\":\"2020-05-09 00:34:19\",\"30\":\"2020-04-28 07:35:06\",\"31\":\"2020-04-20 03:12:22\",\"32\":\"2020-05-09 12:25:10\",\"33\":\"2020-04-22 17:39:50\",\"34\":\"2020-04-15 18:16:50\",\"35\":\"2020-04-19 13:22:52\",\"36\":\"2020-05-07 13:58:08\",\"37\":\"2020-04-26 20:37:18\",\"38\":\"2020-04-15 14:45:05\",\"39\":\"2020-04-29 19:42:02\",\"40\":\"2020-04-16 04:49:22\",\"41\":\"2020-04-24 14:26:15\",\"42\":\"2020-04-17 01:04:09\",\"43\":\"2020-04-29 04:59:49\",\"44\":\"2020-04-17 00:31:31\",\"45\":\"2020-04-14 01:25:19\",\"46\":\"2020-05-01 00:47:17\",\"47\":\"2020-05-10 01:28:15\",\"48\":\"2020-04-14 16:29:02\",\"49\":\"2020-04-19 18:20:11\",\"50\":\"2020-05-02 05:12:22\",\"51\":\"2020-04-27 22:07:04\",\"52\":\"2020-04-16 22:57:20\",\"53\":\"2020-05-10 12:04:59\",\"54\":\"2020-04-18 23:47:20\",\"55\":\"2020-04-17 14:27:17\",\"56\":null,\"57\":\"2020-05-04 08:51:48\",\"58\":\"2020-05-07 08:54:16\",\"59\":\"2020-05-02 16:05:51\",\"60\":\"2020-05-07 06:20:56\",\"61\":\"2020-04-15 20:55:27\",\"62\":\"2020-05-03 14:51:19\",\"63\":\"2020-04-19 07:05:47\",\"64\":\"2020-04-29 01:58:15\",\"65\":\"2020-04-15 01:29:59\",\"66\":\"2020-04-15 10:50:49\",\"67\":\"2020-04-22 22:46:31\",\"68\":\"2020-05-10 01:00:19\",\"69\":\"2020-04-17 02:17:12\",\"70\":\"2020-04-19 22:21:47\",\"71\":\"2020-05-04 13:28:21\",\"72\":\"2020-05-03 14:43:48\",\"73\":\"2020-04-14 14:51:33\",\"74\":\"2020-05-10 12:24:50\",\"75\":\"2020-04-21 13:35:44\",\"76\":\"2020-04-18 20:23:53\",\"77\":\"2020-04-20 15:43:26\",\"78\":\"2020-04-14 19:32:51\",\"79\":\"2020-04-16 11:46:09\",\"80\":\"2020-05-09 10:52:14\",\"81\":\"2020-04-19 20:56:28\",\"82\":\"2020-05-03 16:48:26\",\"83\":\"2020-04-19 15:12:07\",\"84\":\"2020-04-23 13:29:58\",\"85\":\"2020-04-14 23:18:06\",\"86\":\"2020-04-19 21:12:18\",\"87\":\"2020-04-16 20:42:22\",\"88\":\"2020-04-16 10:08:17\",\"89\":\"2020-04-20 19:07:03\",\"90\":\"2020-04-15 19:38:44\",\"91\":\"2020-05-08 01:47:21\",\"92\":\"2020-04-16 18:09:18\",\"93\":\"2020-04-28 17:04:15\",\"94\":\"2020-04-16 00:26:16\",\"95\":\"2020-04-16 21:22:53\",\"96\":\"2020-04-16 17:56:26\",\"97\":\"2020-05-09 15:42:52\",\"98\":\"2020-04-15 05:11:53\",\"99\":\"2020-04-20 10:57:24\",\"100\":\"2020-05-06 17:13:07\",\"101\":\"2020-05-10 12:26:06\",\"102\":\"2020-05-03 02:14:31\",\"103\":\"2020-05-07 02:22:09\",\"104\":\"2020-04-19 12:47:06\",\"105\":\"2020-05-07 13:19:17\",\"106\":\"2020-05-01 05:41:57\",\"107\":\"2020-05-05 09:48:09\",\"108\":\"2020-04-27 11:20:45\",\"109\":\"2020-04-28 02:51:23\",\"110\":\"2020-04-18 11:10:53\",\"111\":\"2020-04-24 20:34:17\",\"112\":\"2020-05-06 17:56:23\",\"113\":\"2020-04-25 20:30:41\",\"114\":\"2020-05-07 21:34:12\",\"115\":\"2020-04-30 11:12:28\",\"116\":\"2020-04-21 04:27:13\",\"117\":\"2020-04-26 00:11:10\",\"118\":\"2020-05-10 16:45:31\",\"119\":\"2020-05-07 20:14:22\",\"120\":\"2020-05-03 15:27:03\",\"121\":\"2020-05-07 19:52:49\",\"122\":\"2020-04-16 08:11:14\",\"123\":\"2020-04-29 22:12:56\",\"124\":\"2020-05-04 11:14:13\",\"125\":\"2020-04-28 10:03:52\",\"126\":\"2020-04-18 01:54:46\",\"127\":\"2020-05-06 22:41:36\",\"128\":\"2020-05-10 16:35:49\",\"129\":\"2020-05-05 08:23:19\",\"130\":\"2020-04-19 22:47:47\",\"131\":\"2020-05-09 21:26:03\",\"132\":null,\"133\":\"2020-04-20 10:28:49\",\"134\":\"2020-04-20 12:21:26\",\"135\":\"2020-04-18 13:49:07\",\"136\":\"2020-04-20 14:30:47\",\"137\":null,\"138\":\"2020-04-24 10:19:32\",\"139\":\"2020-04-23 10:09:59\",\"140\":null,\"141\":\"2020-05-08 10:34:54\",\"142\":null,\"143\":null,\"144\":null,\"145\":null,\"146\":null,\"147\":null,\"148\":null,\"149\":null,\"150\":null,\"151\":null,\"152\":null,\"153\":null,\"154\":null,\"155\":null,\"156\":null,\"157\":null,\"158\":null,\"159\":null,\"160\":null,\"161\":null,\"162\":null,\"163\":null,\"164\":null,\"165\":null,\"166\":null,\"167\":null,\"168\":null,\"169\":null,\"170\":null,\"171\":null,\"172\":null,\"173\":null,\"174\":null,\"175\":null,\"176\":null,\"177\":null,\"178\":null,\"179\":null,\"180\":null,\"181\":null,\"182\":null,\"183\":null,\"184\":null,\"185\":null,\"186\":null,\"187\":null,\"188\":null,\"189\":null,\"190\":null,\"191\":null,\"192\":null,\"193\":null,\"194\":null,\"195\":null,\"196\":\"2020-04-29 00:18:03\",\"197\":\"2020-05-04 12:55:50\",\"198\":\"2020-04-24 15:59:15\",\"199\":\"2020-05-01 03:22:55\",\"200\":\"2020-04-24 18:47:07\",\"201\":\"2020-04-18 10:50:21\",\"202\":\"2020-04-16 17:50:50\",\"203\":\"2020-04-15 21:26:20\",\"204\":\"2020-04-19 02:19:27\",\"205\":\"2020-05-05 09:12:49\",\"206\":\"2020-04-14 21:52:02\",\"207\":\"2020-04-19 23:46:13\",\"208\":null,\"209\":\"2020-05-10 16:47:24\",\"210\":\"2020-04-27 05:12:26\",\"211\":\"2020-05-10 06:32:24\",\"212\":\"2020-05-01 07:46:32\",\"213\":\"2020-04-25 12:34:52\",\"214\":\"2020-04-19 12:13:25\",\"215\":\"2020-04-30 01:56:51\",\"216\":\"2020-04-16 04:59:53\",\"217\":\"2020-05-06 02:13:21\",\"218\":\"2020-05-08 20:03:47\",\"219\":\"2020-04-26 23:44:02\",\"220\":\"2020-04-14 13:04:01\",\"221\":\"2020-05-06 12:03:52\",\"222\":\"2020-04-26 20:53:34\",\"223\":\"2020-05-06 12:53:13\",\"224\":\"2020-04-26 03:58:13\",\"225\":\"2020-05-04 10:38:02\",\"226\":\"2020-04-14 06:42:38\",\"227\":\"2020-04-25 20:13:55\",\"228\":\"2020-05-04 19:50:10\",\"229\":\"2020-04-19 15:12:27\",\"230\":\"2020-04-16 08:59:23\",\"231\":\"2020-05-09 20:56:34\",\"232\":\"2020-04-29 13:28:21\",\"233\":\"2020-04-24 05:41:15\",\"234\":\"2020-04-19 04:23:05\",\"235\":\"2020-04-29 15:39:22\",\"236\":\"2020-04-28 12:36:43\",\"237\":\"2020-05-08 20:20:04\",\"238\":\"2020-05-05 09:32:31\",\"239\":\"2020-05-10 00:11:43\",\"240\":\"2020-05-08 10:13:13\",\"241\":\"2020-04-30 12:22:10\",\"242\":\"2020-04-17 06:01:48\",\"243\":\"2020-04-24 10:20:51\",\"244\":\"2020-05-02 00:01:11\",\"245\":\"2020-05-07 19:24:04\",\"246\":\"2020-05-03 04:10:27\",\"247\":\"2020-05-03 07:23:11\",\"248\":\"2020-05-10 03:55:11\",\"249\":\"2020-04-23 13:33:47\",\"250\":\"2020-04-17 11:58:50\",\"251\":\"2020-04-25 15:23:37\",\"252\":\"2020-04-16 16:37:22\",\"253\":\"2020-05-06 10:34:16\",\"254\":\"2020-04-26 22:21:26\",\"255\":\"2020-05-02 02:09:05\",\"256\":\"2020-04-20 16:40:13\",\"257\":\"2020-05-07 14:34:02\",\"258\":\"2020-04-28 13:31:22\",\"259\":\"2020-04-29 14:02:27\",\"260\":\"2020-04-30 23:50:55\",\"261\":\"2020-04-16 18:29:22\",\"262\":\"2020-04-21 17:28:59\",\"263\":\"2020-04-19 15:18:35\",\"264\":\"2020-04-16 19:45:03\",\"265\":\"2020-05-01 06:42:19\",\"266\":\"2020-05-07 09:55:25\",\"267\":\"2020-05-08 08:20:31\",\"268\":\"2020-05-07 12:26:37\",\"269\":\"2020-05-08 19:58:46\",\"270\":\"2020-04-29 07:33:16\",\"271\":\"2020-05-03 04:10:16\",\"272\":\"2020-04-20 22:38:14\",\"273\":\"2020-05-04 17:49:12\",\"274\":\"2020-04-22 05:46:59\",\"275\":\"2020-04-29 08:08:31\",\"276\":\"2020-05-07 23:46:05\",\"277\":\"2020-05-06 19:31:49\",\"278\":\"2020-05-06 10:50:13\",\"279\":\"2020-05-08 20:21:50\",\"280\":\"2020-05-02 02:45:42\",\"281\":\"2020-05-01 15:45:19\",\"282\":\"2020-04-30 09:40:00\",\"283\":\"2020-04-19 02:28:26\",\"284\":\"2020-05-10 13:19:28\",\"285\":\"2020-04-21 23:30:45\",\"286\":\"2020-05-05 07:50:28\",\"287\":\"2020-05-04 12:45:25\",\"288\":\"2020-04-16 06:52:01\",\"289\":\"2020-04-14 01:33:47\",\"290\":\"2020-04-20 21:59:34\",\"291\":\"2020-04-16 10:21:07\",\"292\":\"2020-04-16 04:53:23\",\"293\":\"2020-04-29 08:19:51\",\"294\":\"2020-04-15 02:06:14\",\"295\":\"2020-05-10 15:28:03\",\"296\":\"2020-04-20 08:50:31\",\"297\":\"2020-05-09 00:49:38\",\"298\":\"2020-04-29 08:17:15\",\"299\":\"2020-04-29 14:51:36\",\"300\":\"2020-05-05 22:21:52\",\"301\":\"2020-04-23 19:06:43\",\"302\":\"2020-04-26 15:41:58\",\"303\":\"2020-04-20 13:01:16\",\"304\":\"2020-05-01 23:13:32\",\"305\":\"2020-05-02 06:23:27\",\"306\":\"2020-04-23 13:46:44\",\"307\":\"2020-04-19 19:29:36\",\"308\":\"2020-05-02 04:50:13\",\"309\":\"2020-04-21 18:26:15\",\"310\":\"2020-04-29 23:10:33\",\"311\":\"2020-04-16 09:04:48\",\"312\":\"2020-04-17 16:12:08\",\"313\":\"2020-04-20 03:06:45\",\"314\":\"2020-04-24 06:28:24\",\"315\":\"2020-04-25 09:49:43\",\"316\":\"2020-04-21 08:17:52\",\"317\":\"2020-05-08 16:23:15\",\"318\":\"2020-04-29 04:55:42\",\"319\":\"2020-05-06 13:15:13\",\"320\":\"2020-05-09 07:11:09\",\"321\":\"2020-05-05 05:59:21\",\"322\":\"2020-05-09 18:16:37\",\"323\":\"2020-05-08 00:21:40\",\"324\":\"2020-05-10 03:01:32\",\"325\":\"2020-05-07 11:49:56\",\"326\":\"2020-05-03 17:36:49\",\"327\":\"2020-04-29 16:37:11\",\"328\":\"2020-04-27 14:54:17\",\"329\":\"2020-04-26 10:57:52\",\"330\":\"2020-04-17 01:45:34\",\"331\":\"2020-05-05 05:17:18\",\"332\":\"2020-04-17 15:02:19\",\"333\":\"2020-04-24 23:22:58\",\"334\":\"2020-05-08 03:10:38\",\"335\":\"2020-04-19 08:24:12\",\"336\":\"2020-05-05 18:07:19\",\"337\":\"2020-04-18 10:47:53\",\"338\":\"2020-05-06 05:50:33\",\"339\":\"2020-04-15 10:44:33\",\"340\":\"2020-04-14 00:03:20\",\"341\":\"2020-05-07 10:22:48\",\"342\":\"2020-04-24 04:47:03\",\"343\":\"2020-04-18 17:07:59\",\"344\":\"2020-05-06 11:19:31\",\"345\":\"2020-05-04 21:22:34\",\"346\":\"2020-04-29 06:22:36\",\"347\":\"2020-05-05 10:51:03\",\"348\":\"2020-04-25 21:11:47\",\"349\":\"2020-05-02 19:25:26\",\"350\":\"2020-04-29 16:12:19\",\"351\":\"2020-04-29 01:22:22\",\"352\":\"2020-04-17 11:46:37\",\"353\":\"2020-04-26 11:08:57\",\"354\":\"2020-05-01 22:59:53\",\"355\":\"2020-05-02 11:59:44\",\"356\":\"2020-05-03 02:45:08\",\"357\":\"2020-05-04 09:37:45\",\"358\":\"2020-04-30 19:16:09\",\"359\":\"2020-04-18 10:01:05\",\"360\":\"2020-05-08 15:19:08\",\"361\":\"2020-04-14 07:47:15\",\"362\":\"2020-04-22 07:48:01\",\"363\":\"2020-05-10 14:37:39\",\"364\":\"2020-04-15 13:25:31\",\"365\":\"2020-04-27 13:07:38\",\"366\":\"2020-05-10 19:43:12\",\"367\":\"2020-04-20 11:45:35\",\"368\":\"2020-04-15 18:37:51\",\"369\":\"2020-04-14 07:12:20\",\"370\":\"2020-04-24 01:13:53\",\"371\":\"2020-05-07 18:52:23\",\"372\":\"2020-04-19 11:30:50\",\"373\":\"2020-05-09 00:57:01\",\"374\":\"2020-05-07 00:10:43\",\"375\":\"2020-04-26 19:12:35\",\"376\":\"2020-04-17 06:52:02\",\"377\":\"2020-04-24 22:54:04\",\"378\":\"2020-05-04 01:48:16\",\"379\":\"2020-04-19 06:01:25\",\"380\":\"2020-04-17 14:41:42\",\"381\":\"2020-05-09 03:29:09\",\"382\":\"2020-05-09 13:35:38\",\"383\":\"2020-04-15 09:20:52\",\"384\":\"2020-05-07 08:37:51\",\"385\":\"2020-05-01 20:07:21\",\"386\":\"2020-04-15 18:50:27\",\"387\":\"2020-05-09 21:25:59\",\"388\":\"2020-04-25 11:17:09\",\"389\":\"2020-05-08 13:31:18\",\"390\":\"2020-04-24 13:52:05\",\"391\":\"2020-04-25 09:29:13\",\"392\":\"2020-04-21 01:01:22\",\"393\":\"2020-04-28 00:03:46\",\"394\":\"2020-04-25 12:57:16\",\"395\":\"2020-05-02 07:22:00\",\"396\":\"2020-05-04 14:43:40\",\"397\":\"2020-04-17 09:23:23\",\"398\":\"2020-04-14 21:47:38\",\"399\":\"2020-04-14 02:30:47\",\"400\":\"2020-04-26 03:31:06\",\"401\":\"2020-04-26 13:14:20\",\"402\":\"2020-05-08 16:46:06\",\"403\":\"2020-04-29 08:37:33\",\"404\":\"2020-04-23 15:34:16\",\"405\":\"2020-05-01 03:10:23\",\"406\":\"2020-04-25 15:30:19\",\"407\":\"2020-04-15 01:38:41\",\"408\":\"2020-04-14 11:23:40\",\"409\":\"2020-04-23 12:52:34\",\"410\":\"2020-05-06 15:03:12\",\"411\":\"2020-04-28 02:40:41\",\"412\":\"2020-04-26 12:00:13\",\"413\":\"2020-04-16 06:06:42\",\"414\":\"2020-04-18 07:13:57\",\"415\":\"2020-05-10 15:26:48\",\"416\":\"2020-05-05 10:39:08\",\"417\":\"2020-04-15 05:37:41\",\"418\":\"2020-05-10 00:04:00\",\"419\":\"2020-04-28 12:22:18\",\"420\":\"2020-04-26 20:18:52\",\"421\":\"2020-05-07 10:29:32\",\"422\":\"2020-05-05 18:36:36\",\"423\":\"2020-05-03 06:43:12\",\"424\":\"2020-04-19 07:26:06\",\"425\":\"2020-04-17 01:06:15\",\"426\":\"2020-04-19 05:05:18\",\"427\":\"2020-04-18 23:55:21\",\"428\":\"2020-05-10 00:47:16\",\"429\":\"2020-04-24 05:12:40\",\"430\":\"2020-05-07 02:15:55\",\"431\":\"2020-05-10 14:14:41\",\"432\":\"2020-04-21 05:01:09\",\"433\":\"2020-04-17 03:12:18\",\"434\":\"2020-04-15 22:12:02\",\"435\":\"2020-04-27 21:14:11\",\"436\":\"2020-04-15 08:27:47\",\"437\":\"2020-04-25 11:19:50\",\"438\":\"2020-04-14 02:00:24\",\"439\":\"2020-04-29 18:44:38\",\"440\":\"2020-04-19 06:32:27\",\"441\":\"2020-05-09 23:55:39\",\"442\":\"2020-05-09 02:26:10\",\"443\":\"2020-05-08 23:38:10\",\"444\":\"2020-04-25 07:27:15\",\"445\":\"2020-04-28 12:16:33\",\"446\":\"2020-04-25 13:44:02\",\"447\":\"2020-05-08 23:54:42\",\"448\":\"2020-04-16 00:32:32\",\"449\":\"2020-04-20 08:02:35\",\"450\":\"2020-04-24 05:28:59\",\"451\":\"2020-04-16 10:34:32\",\"452\":\"2020-04-26 10:38:20\",\"453\":\"2020-05-09 03:06:27\",\"454\":\"2020-04-19 18:19:44\",\"455\":\"2020-04-21 17:33:01\",\"456\":\"2020-04-15 17:48:01\",\"457\":null,\"458\":\"2020-05-04 18:01:42\",\"459\":\"2020-04-28 10:39:10\",\"460\":\"2020-04-28 19:35:38\",\"461\":\"2020-04-17 08:51:38\",\"462\":\"2020-04-30 14:57:31\",\"463\":\"2020-04-18 03:33:53\",\"464\":\"2020-04-28 10:50:27\",\"465\":\"2020-04-26 03:43:38\",\"466\":\"2020-04-30 15:02:47\",\"467\":\"2020-05-08 18:57:52\",\"468\":null,\"469\":\"2020-05-09 07:11:07\",\"470\":\"2020-04-17 17:59:32\",\"471\":\"2020-04-20 03:10:05\",\"472\":\"2020-04-19 21:20:33\",\"473\":\"2020-05-08 01:19:59\",\"474\":\"2020-04-17 05:39:47\",\"475\":\"2020-05-07 01:36:09\",\"476\":\"2020-04-25 13:00:23\",\"477\":\"2020-04-17 02:05:24\",\"478\":\"2020-04-15 06:48:02\",\"479\":\"2020-05-07 23:24:30\",\"480\":\"2020-04-20 13:59:29\",\"481\":\"2020-04-23 10:34:31\",\"482\":\"2020-04-23 12:35:02\",\"483\":\"2020-05-10 18:43:53\",\"484\":\"2020-04-19 21:42:36\",\"485\":\"2020-05-10 12:35:02\",\"486\":\"2020-04-15 13:23:14\",\"487\":\"2020-04-19 11:45:53\",\"488\":\"2020-05-09 01:27:37\",\"489\":\"2020-04-26 07:13:11\",\"490\":\"2020-04-29 03:17:16\",\"491\":\"2020-05-01 19:11:57\",\"492\":\"2020-05-02 05:59:48\",\"493\":\"2020-04-25 07:31:44\",\"494\":\"2020-04-25 14:15:39\",\"495\":\"2020-05-08 00:08:11\",\"496\":\"2020-04-24 23:51:14\",\"497\":\"2020-04-23 10:40:58\",\"498\":\"2020-04-16 05:52:39\",\"499\":\"2020-05-07 09:37:34\",\"500\":\"2020-04-16 22:07:17\",\"501\":\"2020-04-26 13:23:01\",\"502\":\"2020-05-07 22:16:24\",\"503\":\"2020-05-10 10:01:10\",\"504\":\"2020-04-19 15:41:18\",\"505\":\"2020-05-04 08:46:49\",\"506\":\"2020-04-26 13:01:23\",\"507\":\"2020-04-29 17:18:51\",\"508\":\"2020-04-22 17:23:17\",\"509\":\"2020-04-15 05:26:58\",\"510\":\"2020-04-19 11:35:27\",\"511\":\"2020-04-15 22:39:32\",\"512\":\"2020-05-09 17:28:24\",\"513\":\"2020-04-28 06:10:21\",\"514\":\"2020-05-01 07:33:02\",\"515\":\"2020-04-16 15:46:51\",\"516\":\"2020-05-02 09:05:41\",\"517\":\"2020-04-29 23:11:46\",\"518\":\"2020-04-20 13:12:03\",\"519\":\"2020-04-24 21:14:24\",\"520\":\"2020-04-22 03:22:21\",\"521\":\"2020-05-10 07:36:46\",\"522\":\"2020-05-10 11:17:08\",\"523\":\"2020-05-01 16:30:44\",\"524\":\"2020-05-01 03:16:24\",\"525\":\"2020-04-15 20:15:11\",\"526\":\"2020-05-06 13:13:35\",\"527\":\"2020-04-24 04:09:23\",\"528\":\"2020-05-06 15:58:34\",\"529\":\"2020-04-17 02:54:52\",\"530\":\"2020-04-27 11:46:15\",\"531\":\"2020-05-09 12:29:16\",\"532\":\"2020-05-04 14:29:05\",\"533\":\"2020-05-04 21:52:16\",\"534\":\"2020-05-08 16:52:22\",\"535\":\"2020-05-10 00:31:54\",\"536\":\"2020-05-06 06:18:54\",\"537\":\"2020-05-09 16:34:04\",\"538\":\"2020-05-07 05:21:09\",\"539\":\"2020-04-30 23:54:18\",\"540\":\"2020-05-02 12:47:26\",\"541\":\"2020-05-07 08:19:44\",\"542\":\"2020-04-21 02:44:49\",\"543\":\"2020-05-01 19:04:37\",\"544\":\"2020-04-30 23:40:03\",\"545\":\"2020-05-06 03:27:25\",\"546\":\"2020-04-28 12:56:47\",\"547\":\"2020-04-22 16:30:04\",\"548\":\"2020-05-01 08:25:22\",\"549\":\"2020-05-05 14:28:57\",\"550\":\"2020-04-27 12:07:54\",\"551\":\"2020-04-21 18:52:26\",\"552\":\"2020-04-28 09:46:15\",\"553\":\"2020-04-26 16:57:16\",\"554\":\"2020-05-01 14:52:01\",\"555\":\"2020-04-19 05:39:57\",\"556\":\"2020-04-17 00:38:55\",\"557\":\"2020-04-30 15:45:29\",\"558\":\"2020-05-04 01:27:31\",\"559\":\"2020-04-28 02:17:15\",\"560\":\"2020-05-01 08:08:36\",\"561\":\"2020-04-25 00:22:36\",\"562\":\"2020-04-25 19:07:23\",\"563\":\"2020-04-21 08:06:04\",\"564\":\"2020-04-26 19:21:19\",\"565\":\"2020-04-23 01:17:28\",\"566\":\"2020-04-17 04:19:42\",\"567\":\"2020-04-28 15:00:24\",\"568\":\"2020-05-05 22:14:51\",\"569\":\"2020-04-19 23:09:45\",\"570\":\"2020-04-20 23:59:40\",\"571\":\"2020-04-25 04:31:14\",\"572\":\"2020-04-25 20:36:21\",\"573\":\"2020-05-05 01:37:11\",\"574\":\"2020-05-08 11:58:48\",\"575\":\"2020-04-26 10:25:26\",\"576\":\"2020-05-10 19:53:24\",\"577\":\"2020-05-07 12:38:23\",\"578\":\"2020-04-19 22:18:14\",\"579\":\"2020-04-21 05:24:47\",\"580\":\"2020-04-23 17:09:16\",\"581\":\"2020-05-03 03:27:41\",\"582\":\"2020-05-07 08:29:24\",\"583\":\"2020-04-30 12:33:37\",\"584\":\"2020-04-19 23:45:51\",\"585\":\"2020-05-07 14:49:11\",\"586\":\"2020-05-10 07:47:48\",\"587\":\"2020-04-21 04:22:37\",\"588\":\"2020-04-18 13:10:15\",\"589\":\"2020-04-20 20:16:50\",\"590\":\"2020-04-15 00:08:40\",\"591\":\"2020-04-24 17:46:48\",\"592\":\"2020-04-14 21:02:17\",\"593\":\"2020-05-09 06:29:57\",\"594\":\"2020-04-23 12:01:32\",\"595\":\"2020-04-17 21:16:47\",\"596\":\"2020-05-04 04:12:27\",\"597\":\"2020-04-17 23:44:24\",\"598\":\"2020-05-10 11:50:02\",\"599\":\"2020-04-29 01:44:40\",\"600\":\"2020-04-17 19:02:30\",\"601\":\"2020-04-25 05:14:29\",\"602\":\"2020-04-26 22:47:18\",\"603\":\"2020-05-03 19:59:15\",\"604\":\"2020-04-19 08:34:05\",\"605\":\"2020-05-06 04:55:48\",\"606\":\"2020-05-07 10:04:31\",\"607\":\"2020-05-07 06:25:11\",\"608\":\"2020-04-20 09:40:08\",\"609\":\"2020-05-07 11:16:51\",\"610\":\"2020-04-20 18:25:37\",\"611\":\"2020-04-29 12:43:17\",\"612\":\"2020-04-17 20:58:27\",\"613\":\"2020-05-07 06:31:08\",\"614\":\"2020-04-30 00:40:39\",\"615\":\"2020-04-24 07:03:51\",\"616\":\"2020-05-09 09:08:00\",\"617\":\"2020-05-03 00:50:51\",\"618\":\"2020-04-26 16:12:27\",\"619\":\"2020-04-19 23:46:11\",\"620\":\"2020-04-19 08:00:34\",\"621\":\"2020-05-01 09:26:01\",\"622\":\"2020-05-10 17:19:42\",\"623\":\"2020-04-28 13:06:51\",\"624\":\"2020-04-29 05:25:21\",\"625\":\"2020-04-26 04:39:23\",\"626\":\"2020-04-26 12:06:18\",\"627\":\"2020-04-24 07:03:43\",\"628\":\"2020-04-21 18:13:04\",\"629\":\"2020-05-08 17:04:27\",\"630\":\"2020-04-25 15:38:07\",\"631\":\"2020-05-07 13:04:17\",\"632\":\"2020-05-08 05:32:48\",\"633\":\"2020-04-23 10:55:58\",\"634\":\"2020-04-28 09:01:55\",\"635\":\"2020-05-09 03:12:46\",\"636\":\"2020-04-22 05:03:43\",\"637\":\"2020-05-10 02:07:25\",\"638\":\"2020-04-20 13:03:16\",\"639\":\"2020-05-08 15:25:51\",\"640\":\"2020-04-26 04:51:56\",\"641\":\"2020-05-03 19:41:57\",\"642\":\"2020-04-25 02:23:23\",\"643\":\"2020-04-20 08:13:41\",\"644\":\"2020-04-15 00:35:46\",\"645\":\"2020-05-08 20:06:59\",\"646\":\"2020-04-30 00:27:20\",\"647\":\"2020-05-09 05:25:30\",\"648\":\"2020-05-04 09:55:26\",\"649\":\"2020-05-06 23:52:43\",\"650\":\"2020-04-19 00:19:04\",\"651\":\"2020-05-09 16:50:09\",\"652\":\"2020-05-08 19:03:13\",\"653\":\"2020-04-26 03:03:12\",\"654\":\"2020-04-15 14:43:31\",\"655\":\"2020-04-29 08:32:43\",\"656\":\"2020-05-06 06:11:10\",\"657\":\"2020-04-26 10:03:44\"},\"SERP Features\":{\"0\":\"Sitelinks, People also ask, Top stories, Thumbnails, Adwords bottom\",\"1\":\"Sitelinks, Top stories, Thumbnails\",\"2\":\"Sitelinks, Top stories, Thumbnails, Image pack\",\"3\":\"Knowledge card, People also ask\",\"4\":null,\"5\":\"Knowledge card, People also ask, Sitelinks, Videos\",\"6\":\"Knowledge card, People also ask, Videos, Image pack\",\"7\":null,\"8\":\"Featured snippet, Thumbnails, People also ask\",\"9\":\"Sitelinks, People also ask, Top stories, Thumbnails\",\"10\":\"Adwords top, Sitelinks, Top stories, Thumbnails, Image pack\",\"11\":\"Adwords top, Sitelinks, Top stories, Thumbnails, People also ask, Tweet box, Image pack\",\"12\":\"Knowledge card, People also ask\",\"13\":\"Featured snippet\",\"14\":\"Sitelinks, Top stories, Thumbnails\",\"15\":\"Sitelinks, People also ask, Image pack\",\"16\":\"Featured snippet, People also ask\",\"17\":\"Knowledge card, People also ask\",\"18\":\"Adwords top, Sitelinks, Featured snippet, Thumbnails, People also ask\",\"19\":\"Adwords top, Sitelinks, Top stories, Thumbnails, People also ask, Tweet box, Image pack\",\"20\":\"Adwords top, Sitelinks, Featured snippet, Thumbnails, People also ask, Adwords bottom\",\"21\":\"Knowledge card, People also ask\",\"22\":\"Sitelinks, Image pack, Top stories, Thumbnails\",\"23\":\"Knowledge card, People also ask, Sitelinks, Top stories, Thumbnails\",\"24\":\"Knowledge card, People also ask, Sitelinks, Top stories, Thumbnails\",\"25\":\"Adwords top, Sitelinks, Top stories, Thumbnails\",\"26\":\"Sitelinks, Top stories, Thumbnails\",\"27\":\"Knowledge card, People also ask\",\"28\":\"Knowledge card, People also ask, Videos\",\"29\":\"Featured snippet, Thumbnails, People also ask, Videos\",\"30\":\"People also ask, Top stories, Thumbnails\",\"31\":\"Adwords top, People also ask\",\"32\":\"Adwords top, Sitelinks, Top stories, Thumbnails, People also ask, Tweet box, Image pack\",\"33\":\"Sitelinks, People also ask, Videos, Tweet box, Image pack\",\"34\":\"People also ask, Top stories, Thumbnails\",\"35\":\"People also ask, Image pack\",\"36\":\"Adwords bottom, Sitelinks\",\"37\":\"People also ask, Sitelinks\",\"38\":\"Adwords top, Sitelinks, Featured snippet, Thumbnails, People also ask, Top stories\",\"39\":\"Sitelinks, Top stories, Thumbnails, Image pack, Videos\",\"40\":\"Top stories, Thumbnails, Sitelinks, People also ask, Image pack\",\"41\":\"Sitelinks\",\"42\":\"Image pack\",\"43\":\"Adwords top, Sitelinks, Top stories, Thumbnails, People also ask, Tweet box, Image pack\",\"44\":\"Sitelinks, Top stories, Thumbnails, Image pack\",\"45\":\"Featured snippet, Sitelinks\",\"46\":\"Sitelinks\",\"47\":\"Featured snippet, People also ask, Sitelinks, Top stories, Thumbnails\",\"48\":\"Adwords top, Sitelinks, People also ask, Top stories, Thumbnails, Adwords bottom\",\"49\":\"Image pack, Top stories, Thumbnails, Sitelinks, Shopping results\",\"50\":\"Sitelinks\",\"51\":null,\"52\":\"Featured snippet, Thumbnails, People also ask, Sitelinks\",\"53\":\"Adwords top, Sitelinks, Top stories, Thumbnails, People also ask, Tweet box, Image pack\",\"54\":\"Sitelinks, People also ask, Top stories, Thumbnails\",\"55\":\"Sitelinks, People also ask\",\"56\":null,\"57\":\"Featured snippet, Thumbnails, Sitelinks, People also ask\",\"58\":\"Top stories, Thumbnails, Sitelinks, Videos\",\"59\":\"Top stories, Thumbnails, People also ask\",\"60\":\"Featured snippet\",\"61\":\"Adwords top, Sitelinks, Featured snippet, Thumbnails, People also ask, Top stories, Adwords bottom\",\"62\":\"Sitelinks\",\"63\":\"Knowledge card, People also ask, Top stories, Thumbnails\",\"64\":\"Featured snippet, Thumbnails, People also ask, Sitelinks, Image pack\",\"65\":\"Sitelinks\",\"66\":\"Featured snippet, People also ask, Top stories, Thumbnails\",\"67\":\"Sitelinks\",\"68\":\"Featured snippet, Thumbnails, People also ask, Top stories\",\"69\":\"People also ask\",\"70\":\"People also ask\",\"71\":\"Adwords top, Sitelinks\",\"72\":\"Knowledge card, People also ask\",\"73\":\"Featured snippet, Thumbnails, Sitelinks\",\"74\":\"Top stories, Thumbnails, Image pack\",\"75\":\"Sitelinks, Top stories, Thumbnails, Image pack\",\"76\":\"Knowledge card, People also ask, Top stories, Thumbnails\",\"77\":\"Adwords top, Sitelinks, Top stories, Thumbnails, People also ask, Tweet box, Image pack\",\"78\":\"Adwords top, Sitelinks, People also ask, Top stories, Thumbnails\",\"79\":\"People also ask, Adwords bottom, Sitelinks\",\"80\":null,\"81\":\"Sitelinks\",\"82\":\"Top stories, Thumbnails, Videos\",\"83\":\"Featured snippet, People also ask, Top stories, Thumbnails, Image pack\",\"84\":\"Knowledge card, People also ask, Sitelinks, Top stories, Thumbnails\",\"85\":\"Adwords top, Sitelinks, People also ask, Top stories, Thumbnails, Image pack\",\"86\":\"Featured snippet, Thumbnails, People also ask, Top stories\",\"87\":\"Sitelinks, Top stories, Thumbnails\",\"88\":\"Top stories, Thumbnails, Sitelinks\",\"89\":\"Knowledge card, People also ask\",\"90\":\"Featured snippet, People also ask, Image pack\",\"91\":\"Knowledge card, People also ask\",\"92\":\"Image pack\",\"93\":null,\"94\":\"Adwords top, Sitelinks, Top stories, Thumbnails, People also ask, Tweet box, Image pack\",\"95\":\"Knowledge card, People also ask, Top stories, Thumbnails, Image pack\",\"96\":\"People also ask, Top stories, Thumbnails, Image pack\",\"97\":\"Sitelinks, Image pack\",\"98\":\"Knowledge card, People also ask, Top stories, Thumbnails\",\"99\":\"Top stories, Thumbnails\",\"100\":null,\"101\":\"Featured snippet, People also ask\",\"102\":\"People also ask, Sitelinks\",\"103\":\"Tweet box, Top stories, Thumbnails, Image pack, Videos\",\"104\":\"Sitelinks, People also ask, Top stories, Thumbnails\",\"105\":\"Sitelinks, Image pack\",\"106\":\"Featured snippet, People also ask\",\"107\":\"Adwords top, Sitelinks, Adwords bottom\",\"108\":\"Featured snippet, Thumbnails, Sitelinks, People also ask, Top stories\",\"109\":\"Sitelinks, Image pack\",\"110\":\"Knowledge card, Top stories, Thumbnails\",\"111\":\"Sitelinks\",\"112\":\"Top stories, Thumbnails, Image pack\",\"113\":\"Adwords top, Sitelinks, People also ask, Top stories, Thumbnails, Adwords bottom\",\"114\":\"Sitelinks, People also ask, Image pack\",\"115\":\"Knowledge card, People also ask\",\"116\":\"People also ask, Sitelinks, Top stories, Thumbnails\",\"117\":\"Featured snippet, Thumbnails, People also ask, Sitelinks\",\"118\":\"People also ask\",\"119\":\"Sitelinks, Image pack\",\"120\":\"Sitelinks\",\"121\":\"Top stories, Thumbnails, Videos, Image pack\",\"122\":\"Knowledge card, People also ask, Sitelinks, Top stories, Thumbnails, Image pack\",\"123\":\"People also ask, Sitelinks\",\"124\":\"Adwords top, Sitelinks, Adwords bottom\",\"125\":\"Knowledge card, People also ask, Videos\",\"126\":\"Knowledge card, People also ask, Top stories, Thumbnails\",\"127\":null,\"128\":\"People also ask\",\"129\":\"Sitelinks, Top stories, Thumbnails\",\"130\":\"Knowledge card, People also ask\",\"131\":\"Sitelinks, People also ask, Top stories, Thumbnails, Image pack\",\"132\":null,\"133\":\"People also ask, Top stories, Thumbnails\",\"134\":\"Featured snippet, People also ask, Top stories, Thumbnails\",\"135\":\"Adwords top, Sitelinks, Featured snippet, Adwords bottom\",\"136\":\"Featured snippet, People also ask, Top stories, Thumbnails\",\"137\":null,\"138\":\"People also ask, Image pack\",\"139\":\"Adwords top, People also ask, Videos\",\"140\":null,\"141\":\"Sitelinks, Top stories, Thumbnails, Image pack\",\"142\":null,\"143\":null,\"144\":null,\"145\":null,\"146\":null,\"147\":null,\"148\":null,\"149\":null,\"150\":null,\"151\":null,\"152\":null,\"153\":null,\"154\":null,\"155\":null,\"156\":null,\"157\":null,\"158\":null,\"159\":null,\"160\":null,\"161\":null,\"162\":null,\"163\":null,\"164\":null,\"165\":null,\"166\":null,\"167\":null,\"168\":null,\"169\":null,\"170\":null,\"171\":null,\"172\":null,\"173\":null,\"174\":null,\"175\":null,\"176\":null,\"177\":null,\"178\":null,\"179\":null,\"180\":null,\"181\":null,\"182\":null,\"183\":null,\"184\":null,\"185\":null,\"186\":null,\"187\":null,\"188\":null,\"189\":null,\"190\":null,\"191\":null,\"192\":null,\"193\":null,\"194\":null,\"195\":null,\"196\":\"Featured snippet\",\"197\":\"Featured snippet\",\"198\":\"Sitelinks, People also ask, Top stories, Thumbnails\",\"199\":\"Adwords bottom, Sitelinks\",\"200\":\"Adwords top, Sitelinks, Adwords bottom\",\"201\":\"Featured snippet, People also ask\",\"202\":\"Sitelinks, People also ask\",\"203\":\"Adwords top, Adwords bottom, Sitelinks\",\"204\":\"Sitelinks, Image pack\",\"205\":null,\"206\":\"Sitelinks\",\"207\":\"Adwords top, Sitelinks, Featured snippet, People also ask, Top stories, Thumbnails, Adwords bottom\",\"208\":null,\"209\":\"Adwords top, Sitelinks, People also ask, Adwords bottom\",\"210\":\"Adwords top, Sitelinks, Featured snippet, Thumbnails, People also ask, Image pack\",\"211\":\"Knowledge card, People also ask, Top stories, Thumbnails\",\"212\":\"Sitelinks, Adwords bottom\",\"213\":\"Adwords top, Sitelinks, Adwords bottom\",\"214\":\"Adwords top, Sitelinks, Adwords bottom\",\"215\":\"Featured snippet, Sitelinks\",\"216\":\"Adwords top, Sitelinks, Videos, Image pack, Adwords bottom\",\"217\":\"Adwords top, Sitelinks, People also ask, Adwords bottom\",\"218\":\"Adwords top, Sitelinks, Adwords bottom\",\"219\":\"Featured snippet\",\"220\":\"Featured snippet, Thumbnails, People also ask, Image pack, Videos, Top stories\",\"221\":\"Adwords top, Sitelinks, Featured snippet, Adwords bottom\",\"222\":\"Adwords top, Sitelinks, People also ask, Adwords bottom\",\"223\":\"Featured snippet, Thumbnails, People also ask\",\"224\":\"Adwords top, Sitelinks, People also ask, Adwords bottom\",\"225\":\"Featured snippet, Adwords bottom, Sitelinks\",\"226\":\"Sitelinks, People also ask\",\"227\":null,\"228\":null,\"229\":\"People also ask\",\"230\":\"Sitelinks, People also ask, Top stories, Thumbnails\",\"231\":\"Adwords top, Sitelinks, Adwords bottom\",\"232\":\"People also ask, Sitelinks\",\"233\":\"Adwords top, Sitelinks, Featured snippet, Adwords bottom\",\"234\":\"Adwords top, Sitelinks, Featured snippet, People also ask, Top stories, Thumbnails, Adwords bottom\",\"235\":\"Adwords bottom, Sitelinks\",\"236\":\"People also ask, Top stories, Thumbnails\",\"237\":\"Adwords top, Sitelinks, Adwords bottom\",\"238\":\"Featured snippet, People also ask\",\"239\":\"Adwords top, Sitelinks, Adwords bottom\",\"240\":\"Featured snippet, Thumbnails, People also ask, Top stories\",\"241\":\"Adwords bottom, Sitelinks\",\"242\":\"Adwords top, Sitelinks, Adwords bottom\",\"243\":\"Adwords top, Sitelinks, Adwords bottom\",\"244\":\"Adwords top, Sitelinks, People also ask, Adwords bottom\",\"245\":null,\"246\":\"People also ask, Top stories, Thumbnails\",\"247\":\"Featured snippet, People also ask\",\"248\":null,\"249\":\"Adwords top, Sitelinks, Featured snippet, Thumbnails, People also ask, Top stories\",\"250\":\"Featured snippet, Thumbnails, People also ask, Top stories\",\"251\":\"People also ask\",\"252\":\"People also ask\",\"253\":\"Sitelinks, Adwords bottom\",\"254\":\"Adwords top, Sitelinks, Featured snippet, People also ask\",\"255\":\"Featured snippet, Thumbnails, People also ask, Sitelinks\",\"256\":\"Adwords top, Sitelinks, Adwords bottom\",\"257\":\"Sitelinks, Adwords bottom\",\"258\":\"Sitelinks, People also ask\",\"259\":\"Adwords top, Sitelinks, Adwords bottom\",\"260\":\"Adwords top, Featured snippet, Sitelinks, People also ask, Top stories, Thumbnails, Adwords bottom\",\"261\":\"Adwords top, Adwords bottom, Sitelinks\",\"262\":\"Adwords top, Sitelinks, People also ask, Top stories, Thumbnails\",\"263\":\"Adwords top, Sitelinks, Adwords bottom\",\"264\":\"Adwords top, Sitelinks, Featured snippet, Adwords bottom\",\"265\":\"Featured snippet, Thumbnails, Adwords bottom, Sitelinks\",\"266\":\"Adwords top\",\"267\":null,\"268\":\"Adwords top, Sitelinks, People also ask, Top stories, Thumbnails, Adwords bottom\",\"269\":\"Adwords top, Sitelinks, People also ask, Top stories, Thumbnails, Image pack, Adwords bottom\",\"270\":\"Adwords top, Sitelinks\",\"271\":\"People also ask, Top stories, Thumbnails, Adwords bottom, Sitelinks\",\"272\":\"People also ask, Sitelinks\",\"273\":\"Sitelinks\",\"274\":\"Adwords top, Sitelinks, Adwords bottom\",\"275\":\"Sitelinks, People also ask, Top stories, Thumbnails\",\"276\":null,\"277\":\"Sitelinks\",\"278\":\"Adwords top, Sitelinks, Top stories, Thumbnails, People also ask, Adwords bottom\",\"279\":\"Featured snippet, Thumbnails, People also ask, Sitelinks, Top stories, Adwords bottom\",\"280\":\"Sitelinks, Adwords bottom\",\"281\":\"Featured snippet, Thumbnails, People also ask, Top stories\",\"282\":\"Featured snippet, Thumbnails, People also ask, Sitelinks, Top stories\",\"283\":\"Sitelinks, People also ask, Top stories, Thumbnails\",\"284\":\"Adwords top, Sitelinks, Top stories, Thumbnails, Adwords bottom\",\"285\":null,\"286\":\"Adwords bottom, Sitelinks\",\"287\":\"People also ask\",\"288\":\"Adwords top, Sitelinks, Adwords bottom\",\"289\":\"Featured snippet, Sitelinks, Top stories, Thumbnails\",\"290\":\"Adwords bottom\",\"291\":\"Sitelinks, Image pack\",\"292\":\"Adwords top, Sitelinks, Featured snippet, Thumbnails, People also ask\",\"293\":\"Featured snippet, Thumbnails\",\"294\":\"Featured snippet, Thumbnails, Top stories, Image pack\",\"295\":\"Adwords top, Sitelinks, Adwords bottom\",\"296\":\"Adwords top, Sitelinks, Featured snippet, Adwords bottom\",\"297\":null,\"298\":\"Featured snippet, Thumbnails, People also ask\",\"299\":\"People also ask, Image pack\",\"300\":\"People also ask, Top stories, Thumbnails\",\"301\":\"Adwords top, Sitelinks, Featured snippet, Adwords bottom\",\"302\":null,\"303\":\"Adwords top, Sitelinks, Adwords bottom\",\"304\":\"Featured snippet, Thumbnails, People also ask, Top stories\",\"305\":\"Featured snippet, Thumbnails, People also ask\",\"306\":\"Adwords top, Sitelinks, Featured snippet, Thumbnails, People also ask, Top stories\",\"307\":\"Sitelinks\",\"308\":\"People also ask, Adwords bottom, Sitelinks\",\"309\":\"Adwords top, Sitelinks, Adwords bottom\",\"310\":\"Adwords bottom, Sitelinks\",\"311\":\"Adwords top, Sitelinks, Featured snippet, Thumbnails, People also ask\",\"312\":\"Adwords top, Sitelinks, Adwords bottom\",\"313\":\"People also ask\",\"314\":\"Adwords top, Sitelinks, Top stories, Thumbnails, Adwords bottom\",\"315\":\"Featured snippet, Thumbnails\",\"316\":null,\"317\":\"Sitelinks\",\"318\":\"Featured snippet, People also ask\",\"319\":\"Adwords top, Sitelinks, Adwords bottom\",\"320\":\"Adwords top, Sitelinks, People also ask, Top stories, Thumbnails, Adwords bottom\",\"321\":\"Adwords top, Sitelinks, Top stories, Thumbnails, People also ask, Tweet box\",\"322\":\"Adwords top, Sitelinks, Featured snippet, Thumbnails, People also ask\",\"323\":\"Featured snippet, Thumbnails, People also ask, Sitelinks, Top stories, Adwords bottom\",\"324\":\"Sitelinks, Adwords bottom\",\"325\":\"Featured snippet, Thumbnails, People also ask, Image pack\",\"326\":\"Adwords top, Sitelinks, People also ask, Adwords bottom\",\"327\":\"Featured snippet, People also ask\",\"328\":\"Featured snippet, Thumbnails, People also ask, Top stories, Image pack\",\"329\":\"Adwords top, Sitelinks, People also ask, Adwords bottom\",\"330\":\"Adwords top, Sitelinks, Featured snippet, People also ask, Adwords bottom\",\"331\":\"Adwords bottom, Sitelinks\",\"332\":\"Adwords top, Sitelinks, People also ask, Adwords bottom\",\"333\":\"Adwords top, Sitelinks\",\"334\":\"Sitelinks\",\"335\":\"Adwords top, Sitelinks, Adwords bottom\",\"336\":\"Adwords bottom, Sitelinks\",\"337\":\"Featured snippet, Top stories, Thumbnails, Sitelinks, People also ask\",\"338\":\"People also ask\",\"339\":\"Adwords top, Sitelinks\",\"340\":\"Featured snippet\",\"341\":\"Sitelinks, Adwords bottom\",\"342\":\"Sitelinks\",\"343\":null,\"344\":\"Sitelinks, Adwords bottom\",\"345\":\"People also ask\",\"346\":\"Adwords top, Sitelinks, Featured snippet, Thumbnails, People also ask, Top stories, Adwords bottom\",\"347\":\"People also ask, Sitelinks, Image pack\",\"348\":\"Sitelinks, Top stories, Thumbnails\",\"349\":\"People also ask\",\"350\":\"Sitelinks\",\"351\":\"Featured snippet, Thumbnails, People also ask, Sitelinks, Top stories\",\"352\":\"Adwords top, Sitelinks\",\"353\":\"Sitelinks\",\"354\":null,\"355\":\"Sitelinks\",\"356\":\"People also ask\",\"357\":\"Featured snippet, Thumbnails\",\"358\":\"Sitelinks\",\"359\":\"Adwords top, Sitelinks, Featured snippet, People also ask, Top stories, Thumbnails, Image pack\",\"360\":\"Sitelinks\",\"361\":\"Adwords top, Sitelinks, People also ask, Adwords bottom\",\"362\":\"Adwords top, Sitelinks, Featured snippet, Thumbnails, People also ask, Adwords bottom\",\"363\":\"Featured snippet, Thumbnails, Sitelinks\",\"364\":\"Adwords top, Sitelinks, Adwords bottom\",\"365\":\"People also ask\",\"366\":\"Adwords top, Sitelinks, Featured snippet, People also ask\",\"367\":\"People also ask, Image pack\",\"368\":\"Adwords top, Sitelinks, People also ask, Top stories, Thumbnails\",\"369\":\"Featured snippet, Sitelinks\",\"370\":\"Adwords top, Sitelinks, Featured snippet, Thumbnails\",\"371\":\"Featured snippet, Thumbnails, People also ask\",\"372\":null,\"373\":\"Adwords top, Sitelinks, Top stories, Thumbnails, People also ask, Tweet box, Image pack\",\"374\":\"People also ask, Sitelinks, Top stories, Thumbnails\",\"375\":\"Adwords top, Sitelinks, Featured snippet, Thumbnails, People also ask, Top stories, Adwords bottom\",\"376\":\"Adwords top, Sitelinks, People also ask, Adwords bottom\",\"377\":\"Adwords top, Sitelinks, Adwords bottom\",\"378\":\"Featured snippet, Thumbnails, People also ask, Sitelinks\",\"379\":\"Sitelinks, Adwords bottom\",\"380\":\"Featured snippet, Thumbnails, People also ask\",\"381\":\"Adwords top, Sitelinks, People also ask, Image pack\",\"382\":\"Adwords top, Sitelinks, Featured snippet, Thumbnails, People also ask, Top stories, Adwords bottom\",\"383\":\"Adwords top, Sitelinks, Adwords bottom\",\"384\":\"People also ask, Image pack\",\"385\":\"People also ask\",\"386\":\"Sitelinks, Adwords bottom\",\"387\":\"Adwords top, Sitelinks, Adwords bottom\",\"388\":\"Adwords top, Sitelinks, Featured snippet, Thumbnails, People also ask\",\"389\":\"Top stories, Thumbnails, People also ask\",\"390\":\"Adwords top, Featured snippet, Thumbnails, People also ask\",\"391\":\"Adwords top, People also ask, Top stories, Thumbnails\",\"392\":\"Adwords top, Sitelinks, Featured snippet, Thumbnails, Adwords bottom\",\"393\":\"Featured snippet, Thumbnails\",\"394\":\"Adwords top, Sitelinks, People also ask, Adwords bottom\",\"395\":\"People also ask, Top stories, Thumbnails\",\"396\":\"Featured snippet, Thumbnails, People also ask\",\"397\":\"Featured snippet, Thumbnails, People also ask\",\"398\":\"People also ask, Top stories, Thumbnails, Adwords bottom, Sitelinks\",\"399\":\"People also ask, Sitelinks\",\"400\":\"Sitelinks, People also ask, Top stories, Thumbnails\",\"401\":\"Adwords top, Sitelinks, Featured snippet, People also ask, Adwords bottom\",\"402\":\"People also ask\",\"403\":\"Featured snippet, People also ask\",\"404\":\"Adwords top, Sitelinks, People also ask, Adwords bottom\",\"405\":\"Featured snippet, Thumbnails, People also ask, Sitelinks\",\"406\":\"Adwords top, Sitelinks, People also ask, Top stories, Thumbnails\",\"407\":\"Featured snippet, Thumbnails, Top stories\",\"408\":\"Featured snippet, Thumbnails, People also ask, Sitelinks, Top stories, Image pack\",\"409\":\"Adwords top, Sitelinks, People also ask, Adwords bottom\",\"410\":\"Featured snippet\",\"411\":null,\"412\":\"Adwords top, Sitelinks, People also ask\",\"413\":\"Adwords top, Sitelinks, Adwords bottom\",\"414\":\"Adwords top, Sitelinks, People also ask, Top stories, Thumbnails, Adwords bottom\",\"415\":\"Featured snippet, Thumbnails, People also ask\",\"416\":\"Image pack\",\"417\":\"Adwords top, Sitelinks, Featured snippet, Thumbnails, People also ask\",\"418\":\"People also ask, Sitelinks, Top stories, Thumbnails\",\"419\":\"Sitelinks\",\"420\":\"Featured snippet, People also ask, Image pack, Top stories, Thumbnails\",\"421\":\"People also ask, Top stories, Thumbnails\",\"422\":null,\"423\":\"Sitelinks, Top stories, Thumbnails\",\"424\":\"Adwords top, Sitelinks, Adwords bottom\",\"425\":\"Adwords top, Sitelinks, Featured snippet, People also ask, Top stories, Thumbnails\",\"426\":\"Adwords top, Sitelinks, Image pack, Adwords bottom\",\"427\":\"Adwords top, Sitelinks, People also ask, Adwords bottom\",\"428\":\"Image pack\",\"429\":\"Sitelinks, Adwords bottom\",\"430\":\"Featured snippet, Thumbnails, People also ask, Sitelinks\",\"431\":\"Featured snippet, Thumbnails, People also ask, Sitelinks, Top stories\",\"432\":\"Sitelinks, Top stories, Thumbnails, People also ask, Tweet box, Image pack\",\"433\":\"People also ask\",\"434\":\"Featured snippet, Thumbnails, People also ask, Sitelinks, Top stories, Image pack, Adwords bottom\",\"435\":\"Featured snippet, People also ask\",\"436\":\"Adwords top, Sitelinks, Adwords bottom\",\"437\":\"Featured snippet, Thumbnails, People also ask\",\"438\":\"People also ask, Sitelinks, Top stories, Thumbnails\",\"439\":\"Adwords top, Sitelinks, People also ask, Top stories, Thumbnails, Adwords bottom\",\"440\":null,\"441\":\"Sitelinks\",\"442\":\"Sitelinks, People also ask, Top stories, Thumbnails, Image pack\",\"443\":\"Adwords top, Sitelinks, People also ask, Top stories, Thumbnails\",\"444\":\"Featured snippet, Thumbnails, People also ask, Top stories\",\"445\":\"Featured snippet, Thumbnails, People also ask, Sitelinks\",\"446\":\"Knowledge card, People also ask, Top stories, Thumbnails\",\"447\":\"Featured snippet, People also ask, Videos\",\"448\":\"Adwords top, Sitelinks, Featured snippet, Thumbnails, People also ask\",\"449\":\"Adwords top, Sitelinks, Featured snippet, Thumbnails, People also ask, Top stories\",\"450\":\"Featured snippet, Thumbnails, People also ask, Sitelinks, Top stories\",\"451\":\"Featured snippet, Thumbnails, People also ask, Image pack\",\"452\":\"Adwords top, Sitelinks, People also ask, Top stories, Thumbnails\",\"453\":\"Adwords top, Sitelinks, Adwords bottom\",\"454\":\"Featured snippet, Thumbnails, People also ask, Sitelinks\",\"455\":\"Sitelinks, People also ask, Image pack\",\"456\":\"Adwords top, Sitelinks, Featured snippet, Thumbnails, Top stories\",\"457\":null,\"458\":\"Sitelinks, Top stories, Thumbnails\",\"459\":\"Sitelinks\",\"460\":\"Adwords top, Sitelinks, Top stories, Thumbnails, People also ask, Tweet box, Image pack\",\"461\":null,\"462\":\"Sitelinks\",\"463\":\"People also ask\",\"464\":\"Adwords top, Sitelinks\",\"465\":\"Featured snippet, Thumbnails, People also ask\",\"466\":\"Featured snippet, Thumbnails, Sitelinks\",\"467\":\"Featured snippet, People also ask\",\"468\":null,\"469\":\"Knowledge card, People also ask, Top stories, Thumbnails\",\"470\":null,\"471\":\"Featured snippet, Thumbnails, People also ask, Top stories, Image pack\",\"472\":\"Featured snippet, Thumbnails, People also ask, Videos\",\"473\":\"People also ask, Sitelinks, Top stories, Thumbnails\",\"474\":\"Top stories, Thumbnails\",\"475\":\"Featured snippet, Thumbnails, People also ask\",\"476\":\"Featured snippet, Thumbnails, People also ask, Top stories\",\"477\":\"Featured snippet, Thumbnails, People also ask, Sitelinks, Image pack, Videos\",\"478\":\"Adwords top, Sitelinks, Featured snippet, Thumbnails, People also ask\",\"479\":\"Featured snippet, Thumbnails, People also ask, Image pack\",\"480\":\"Adwords top, Sitelinks, People also ask\",\"481\":\"Featured snippet, People also ask, Top stories, Thumbnails\",\"482\":\"Image pack\",\"483\":\"People also ask\",\"484\":\"Sitelinks, Top stories, Thumbnails\",\"485\":\"Featured snippet, Thumbnails, People also ask\",\"486\":\"Featured snippet, Thumbnails, People also ask, Top stories, Image pack\",\"487\":\"Featured snippet, People also ask, Top stories, Thumbnails, Videos\",\"488\":\"Sitelinks, People also ask\",\"489\":\"Sitelinks, People also ask, Top stories, Thumbnails\",\"490\":\"Sitelinks, Tweet box, Top stories, Thumbnails\",\"491\":null,\"492\":\"Featured snippet, Thumbnails, People also ask, Sitelinks, Top stories, Adwords bottom\",\"493\":\"Top stories, Thumbnails\",\"494\":\"Knowledge card, People also ask, Sitelinks\",\"495\":\"Featured snippet, Thumbnails\",\"496\":\"People also ask, Sitelinks\",\"497\":null,\"498\":\"People also ask\",\"499\":\"Knowledge card, People also ask, Sitelinks, Top stories, Thumbnails\",\"500\":null,\"501\":\"Featured snippet, Thumbnails, People also ask, Top stories\",\"502\":\"Sitelinks, People also ask, Image pack\",\"503\":\"Image pack\",\"504\":\"Sitelinks\",\"505\":\"Sitelinks, People also ask, Top stories, Thumbnails\",\"506\":\"Sitelinks, People also ask, Image pack\",\"507\":\"Sitelinks, People also ask\",\"508\":\"Sitelinks\",\"509\":null,\"510\":\"Featured snippet, Thumbnails, People also ask, Top stories\",\"511\":\"Adwords top, Featured snippet, Thumbnails, People also ask\",\"512\":null,\"513\":\"Sitelinks, People also ask, Videos, Top stories, Thumbnails\",\"514\":\"Adwords top, Sitelinks, Top stories, Thumbnails\",\"515\":\"Sitelinks\",\"516\":\"Knowledge card, People also ask, Sitelinks, Top stories, Thumbnails\",\"517\":\"Sitelinks, People also ask, Top stories, Thumbnails\",\"518\":\"Sitelinks, People also ask, Image pack, Top stories, Thumbnails\",\"519\":\"Sitelinks\",\"520\":\"Sitelinks, People also ask, Image pack\",\"521\":\"Sitelinks, Image pack\",\"522\":\"Sitelinks, Top stories, Thumbnails\",\"523\":\"Sitelinks\",\"524\":\"Sitelinks\",\"525\":\"Sitelinks\",\"526\":\"Featured snippet, Thumbnails, People also ask, Sitelinks, Top stories\",\"527\":\"Sitelinks\",\"528\":null,\"529\":\"Sitelinks, Image pack, Top stories, Thumbnails\",\"530\":\"Featured snippet, Thumbnails, People also ask, Top stories\",\"531\":\"Sitelinks, Image pack\",\"532\":\"Sitelinks, People also ask, Top stories, Thumbnails\",\"533\":\"Sitelinks, Top stories, Thumbnails\",\"534\":\"Knowledge card, People also ask, Sitelinks, Top stories, Thumbnails\",\"535\":\"Knowledge card, People also ask, Top stories, Thumbnails\",\"536\":\"Featured snippet, People also ask, Top stories, Thumbnails\",\"537\":\"Knowledge card, Sitelinks, People also ask\",\"538\":\"Sitelinks, Image pack\",\"539\":\"Knowledge card, People also ask, Sitelinks, Top stories, Thumbnails\",\"540\":\"Knowledge card, People also ask, Top stories, Thumbnails\",\"541\":\"Knowledge card, Sitelinks, People also ask\",\"542\":\"Sitelinks, People also ask, Top stories, Thumbnails, Image pack\",\"543\":\"Knowledge card, People also ask, Top stories, Thumbnails\",\"544\":\"People also ask, Sitelinks, Top stories, Thumbnails\",\"545\":\"Knowledge card, People also ask, Top stories, Thumbnails, Image pack\",\"546\":\"Knowledge card, People also ask, Top stories, Thumbnails\",\"547\":\"People also ask, Image pack\",\"548\":\"Knowledge card, Sitelinks, People also ask\",\"549\":\"Sitelinks, Top stories, Thumbnails\",\"550\":\"Sitelinks, People also ask, Image pack\",\"551\":\"Featured snippet, Thumbnails, People also ask\",\"552\":\"Knowledge card, Sitelinks, People also ask, Top stories, Thumbnails\",\"553\":\"Knowledge card, People also ask, Top stories, Thumbnails\",\"554\":\"Featured snippet, People also ask, Videos\",\"555\":\"Knowledge card, Sitelinks, People also ask\",\"556\":\"Sitelinks\",\"557\":\"Sitelinks, Top stories, Thumbnails, Videos\",\"558\":\"Knowledge card, People also ask, Videos\",\"559\":\"Knowledge card, People also ask, Videos\",\"560\":\"Featured snippet, Thumbnails, People also ask, Sitelinks, Top stories\",\"561\":\"Sitelinks\",\"562\":\"Sitelinks, Tweet box, Top stories, Thumbnails, Image pack, Videos\",\"563\":\"Sitelinks, People also ask, Top stories, Thumbnails\",\"564\":\"Adwords top, People also ask, Sitelinks, Top stories, Thumbnails\",\"565\":\"Knowledge card, People also ask, Top stories, Thumbnails\",\"566\":\"Sitelinks, Image pack\",\"567\":\"Featured snippet, Thumbnails, People also ask\",\"568\":\"Knowledge card, People also ask, Sitelinks, Videos\",\"569\":\"Knowledge card, People also ask\",\"570\":\"Knowledge card, People also ask, Top stories, Thumbnails\",\"571\":\"Knowledge card, People also ask, Videos\",\"572\":\"Knowledge card, People also ask, Sitelinks\",\"573\":null,\"574\":\"Featured snippet, People also ask, Top stories, Thumbnails\",\"575\":\"Knowledge card, People also ask\",\"576\":\"Featured snippet, People also ask, Top stories, Thumbnails\",\"577\":\"Featured snippet, People also ask, Videos\",\"578\":\"Featured snippet, Thumbnails, People also ask, Sitelinks, Image pack\",\"579\":\"Knowledge card, People also ask\",\"580\":\"Sitelinks, People also ask\",\"581\":\"Sitelinks, People also ask, Top stories, Thumbnails\",\"582\":\"Featured snippet, People also ask, Videos\",\"583\":\"Knowledge card, People also ask, Sitelinks\",\"584\":\"Sitelinks, People also ask, Top stories, Thumbnails\",\"585\":\"People also ask, Sitelinks, Top stories, Thumbnails\",\"586\":\"Sitelinks, Image pack\",\"587\":\"People also ask, Top stories, Thumbnails\",\"588\":\"Featured snippet, Thumbnails, People also ask, Top stories, Image pack\",\"589\":\"Sitelinks, People also ask, Top stories, Thumbnails, Image pack\",\"590\":\"Adwords top, Sitelinks\",\"591\":\"Sitelinks, Top stories, Thumbnails\",\"592\":\"Featured snippet, People also ask\",\"593\":\"People also ask\",\"594\":\"Sitelinks, People also ask, Top stories, Thumbnails\",\"595\":\"Featured snippet, People also ask, Image pack\",\"596\":\"Sitelinks\",\"597\":\"Knowledge card, People also ask\",\"598\":\"Sitelinks, People also ask\",\"599\":\"Sitelinks, People also ask, Top stories, Thumbnails\",\"600\":\"Knowledge card, Top stories, Thumbnails, Adwords bottom, Sitelinks\",\"601\":\"Top stories, Thumbnails, Image pack\",\"602\":\"Adwords top, Sitelinks\",\"603\":\"Sitelinks, People also ask, Top stories, Thumbnails\",\"604\":\"Top stories, Thumbnails, Image pack\",\"605\":\"Featured snippet, People also ask, Sitelinks, Image pack\",\"606\":\"Image pack, Sitelinks\",\"607\":\"Featured snippet, Thumbnails, People also ask, Sitelinks\",\"608\":\"Adwords top, Sitelinks, People also ask, Adwords bottom\",\"609\":\"Featured snippet, People also ask, Top stories, Thumbnails, Image pack\",\"610\":\"Sitelinks, Tweet box\",\"611\":\"Featured snippet, Thumbnails, People also ask, Videos, Image pack\",\"612\":\"Knowledge card, People also ask, Videos, Top stories, Thumbnails\",\"613\":\"People also ask\",\"614\":\"Knowledge card, People also ask\",\"615\":\"Knowledge card, People also ask, Top stories, Thumbnails\",\"616\":\"Featured snippet, Thumbnails, People also ask, Top stories\",\"617\":\"Sitelinks, People also ask\",\"618\":\"Featured snippet, People also ask, Top stories, Thumbnails\",\"619\":\"Featured snippet, Top stories, Thumbnails\",\"620\":\"Sitelinks, People also ask, Image pack\",\"621\":\"Sitelinks, People also ask, Top stories, Thumbnails, Videos\",\"622\":\"Featured snippet, People also ask, Sitelinks, Videos\",\"623\":\"Adwords top, Sitelinks\",\"624\":null,\"625\":\"Featured snippet, Thumbnails, People also ask, Top stories\",\"626\":\"Sitelinks, People also ask, Top stories, Thumbnails\",\"627\":\"Top stories, Thumbnails\",\"628\":\"Sitelinks, Top stories, Thumbnails, Image pack\",\"629\":\"People also ask\",\"630\":\"Featured snippet, Thumbnails\",\"631\":\"Featured snippet, People also ask, Image pack, Videos\",\"632\":\"Knowledge card, People also ask, Top stories, Thumbnails\",\"633\":\"Adwords top, Sitelinks, Featured snippet, People also ask, Top stories, Thumbnails\",\"634\":\"Sitelinks, Top stories, Thumbnails, Image pack\",\"635\":\"People also ask\",\"636\":\"Featured snippet, People also ask\",\"637\":\"People also ask, Top stories, Thumbnails\",\"638\":\"Sitelinks, People also ask, Top stories, Thumbnails, Image pack\",\"639\":\"Sitelinks\",\"640\":\"Sitelinks, Image pack, Videos\",\"641\":\"People also ask\",\"642\":\"Sitelinks, Image pack\",\"643\":\"Sitelinks, People also ask, Image pack\",\"644\":\"Knowledge card, People also ask\",\"645\":null,\"646\":\"Knowledge card, People also ask\",\"647\":\"Top stories, Thumbnails, Image pack\",\"648\":\"Sitelinks, People also ask\",\"649\":\"Featured snippet, People also ask, Videos\",\"650\":\"Sitelinks, Image pack\",\"651\":\"Sitelinks, People also ask, Top stories, Thumbnails\",\"652\":\"Sitelinks, People also ask, Top stories, Thumbnails\",\"653\":\"Adwords top, Sitelinks, People also ask, Top stories, Thumbnails, Videos, Image pack\",\"654\":\"Adwords top, Sitelinks, Featured snippet, Thumbnails, Adwords bottom\",\"655\":\"Sitelinks, Image pack\",\"656\":\"Knowledge card, People also ask, Sitelinks\",\"657\":\"Adwords top, Sitelinks, Featured snippet, Thumbnails, People also ask, Top stories\"}}'"
      ]
     },
     "execution_count": 39,
     "metadata": {},
     "output_type": "execute_result"
    }
   ],
   "source": [
    "wks.get_as_df().to_json()"
   ]
  },
  {
   "cell_type": "markdown",
   "metadata": {},
   "source": [
    "---------------------------------------------"
   ]
  }
 ],
 "metadata": {
  "kernelspec": {
   "display_name": "Python 3",
   "language": "python",
   "name": "python3"
  },
  "language_info": {
   "codemirror_mode": {
    "name": "ipython",
    "version": 3
   },
   "file_extension": ".py",
   "mimetype": "text/x-python",
   "name": "python",
   "nbconvert_exporter": "python",
   "pygments_lexer": "ipython3",
   "version": "3.7.4"
  }
 },
 "nbformat": 4,
 "nbformat_minor": 4
}
